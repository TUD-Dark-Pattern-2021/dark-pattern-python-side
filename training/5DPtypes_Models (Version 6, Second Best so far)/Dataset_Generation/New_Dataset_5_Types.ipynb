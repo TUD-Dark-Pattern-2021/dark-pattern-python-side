{
 "cells": [
  {
   "cell_type": "code",
   "execution_count": 1,
   "metadata": {},
   "outputs": [],
   "source": [
    "import pandas as pd\n",
    "import numpy as np"
   ]
  },
  {
   "cell_type": "code",
   "execution_count": 5,
   "metadata": {},
   "outputs": [
    {
     "name": "stdout",
     "output_type": "stream",
     "text": [
      "<class 'pandas.core.frame.DataFrame'>\n",
      "RangeIndex: 1816 entries, 0 to 1815\n",
      "Data columns (total 2 columns):\n",
      " #   Column          Non-Null Count  Dtype \n",
      "---  ------          --------------  ----- \n",
      " 0   Pattern String  1816 non-null   object\n",
      " 1   classification  1816 non-null   int64 \n",
      "dtypes: int64(1), object(1)\n",
      "memory usage: 28.5+ KB\n",
      "None\n"
     ]
    }
   ],
   "source": [
    "# ---- import the raw dataset\n",
    "\n",
    "df = pd.read_csv('relabelled_normie.csv')\n",
    "\n",
    "print(df.info())"
   ]
  },
  {
   "cell_type": "code",
   "execution_count": 7,
   "metadata": {},
   "outputs": [
    {
     "data": {
      "text/html": [
       "<div>\n",
       "<style scoped>\n",
       "    .dataframe tbody tr th:only-of-type {\n",
       "        vertical-align: middle;\n",
       "    }\n",
       "\n",
       "    .dataframe tbody tr th {\n",
       "        vertical-align: top;\n",
       "    }\n",
       "\n",
       "    .dataframe thead th {\n",
       "        text-align: right;\n",
       "    }\n",
       "</style>\n",
       "<table border=\"1\" class=\"dataframe\">\n",
       "  <thead>\n",
       "    <tr style=\"text-align: right;\">\n",
       "      <th></th>\n",
       "      <th>Pattern String</th>\n",
       "      <th>classification</th>\n",
       "    </tr>\n",
       "  </thead>\n",
       "  <tbody>\n",
       "    <tr>\n",
       "      <th>0</th>\n",
       "      <td>FREE SHIPPING ON ORDERS OVER $100!</td>\n",
       "      <td>1</td>\n",
       "    </tr>\n",
       "    <tr>\n",
       "      <th>1</th>\n",
       "      <td>SOME EXCLUSIONS APPLY - LEARN MORE</td>\n",
       "      <td>1</td>\n",
       "    </tr>\n",
       "    <tr>\n",
       "      <th>2</th>\n",
       "      <td>HAVE A QUESTION? - CONTACT US</td>\n",
       "      <td>1</td>\n",
       "    </tr>\n",
       "    <tr>\n",
       "      <th>3</th>\n",
       "      <td>WELCOME TO 034MOTORSPORT!</td>\n",
       "      <td>1</td>\n",
       "    </tr>\n",
       "    <tr>\n",
       "      <th>4</th>\n",
       "      <td>SHOP AUDISHOP VOLKSWAGENPERFORMANCE SOFTWARE03...</td>\n",
       "      <td>1</td>\n",
       "    </tr>\n",
       "    <tr>\n",
       "      <th>...</th>\n",
       "      <td>...</td>\n",
       "      <td>...</td>\n",
       "    </tr>\n",
       "    <tr>\n",
       "      <th>1811</th>\n",
       "      <td>Antique Vibrator Museum</td>\n",
       "      <td>1</td>\n",
       "    </tr>\n",
       "    <tr>\n",
       "      <th>1812</th>\n",
       "      <td>GiVe Donation Program</td>\n",
       "      <td>1</td>\n",
       "    </tr>\n",
       "    <tr>\n",
       "      <th>1813</th>\n",
       "      <td>Jobs</td>\n",
       "      <td>1</td>\n",
       "    </tr>\n",
       "    <tr>\n",
       "      <th>1814</th>\n",
       "      <td>©-2019 Barnaby Ltd dba Good Vibrations</td>\n",
       "      <td>1</td>\n",
       "    </tr>\n",
       "    <tr>\n",
       "      <th>1815</th>\n",
       "      <td>18 U.S.C. §2257 Recordkeeping Requirements Com...</td>\n",
       "      <td>1</td>\n",
       "    </tr>\n",
       "  </tbody>\n",
       "</table>\n",
       "<p>1816 rows × 2 columns</p>\n",
       "</div>"
      ],
      "text/plain": [
       "                                         Pattern String  classification\n",
       "0                    FREE SHIPPING ON ORDERS OVER $100!               1\n",
       "1                    SOME EXCLUSIONS APPLY - LEARN MORE               1\n",
       "2                         HAVE A QUESTION? - CONTACT US               1\n",
       "3                             WELCOME TO 034MOTORSPORT!               1\n",
       "4     SHOP AUDISHOP VOLKSWAGENPERFORMANCE SOFTWARE03...               1\n",
       "...                                                 ...             ...\n",
       "1811                            Antique Vibrator Museum               1\n",
       "1812                              GiVe Donation Program               1\n",
       "1813                                               Jobs               1\n",
       "1814             ©-2019 Barnaby Ltd dba Good Vibrations               1\n",
       "1815  18 U.S.C. §2257 Recordkeeping Requirements Com...               1\n",
       "\n",
       "[1816 rows x 2 columns]"
      ]
     },
     "execution_count": 7,
     "metadata": {},
     "output_type": "execute_result"
    }
   ],
   "source": [
    "df"
   ]
  },
  {
   "cell_type": "code",
   "execution_count": 8,
   "metadata": {},
   "outputs": [
    {
     "name": "stdout",
     "output_type": "stream",
     "text": [
      "1    1815\n",
      "0       1\n",
      "Name: classification, dtype: int64\n"
     ]
    }
   ],
   "source": [
    "# check the final distribution of the classification after removing the rows with NULL values and duplicates.\n",
    "\n",
    "print(df['classification'].value_counts())"
   ]
  },
  {
   "cell_type": "code",
   "execution_count": 9,
   "metadata": {
    "scrolled": true
   },
   "outputs": [
    {
     "name": "stdout",
     "output_type": "stream",
     "text": [
      "<class 'pandas.core.frame.DataFrame'>\n",
      "Int64Index: 1816 entries, 0 to 1815\n",
      "Data columns (total 2 columns):\n",
      " #   Column          Non-Null Count  Dtype \n",
      "---  ------          --------------  ----- \n",
      " 0   Pattern String  1816 non-null   object\n",
      " 1   classification  1816 non-null   int64 \n",
      "dtypes: int64(1), object(1)\n",
      "memory usage: 42.6+ KB\n"
     ]
    }
   ],
   "source": [
    "# remove the instances with NULL value of 'Pattern String' and 'classification', which will be the input of our model.\n",
    "\n",
    "df = df[pd.notnull(df[\"Pattern String\"])]\n",
    "df = df[pd.notnull(df[\"classification\"])]\n",
    "\n",
    "df.info()"
   ]
  },
  {
   "cell_type": "code",
   "execution_count": 20,
   "metadata": {},
   "outputs": [
    {
     "name": "stdout",
     "output_type": "stream",
     "text": [
      "<class 'pandas.core.frame.DataFrame'>\n",
      "Int64Index: 1816 entries, 0 to 1815\n",
      "Data columns (total 2 columns):\n",
      " #   Column          Non-Null Count  Dtype \n",
      "---  ------          --------------  ----- \n",
      " 0   Pattern String  1816 non-null   object\n",
      " 1   classification  1816 non-null   int64 \n",
      "dtypes: int64(1), object(1)\n",
      "memory usage: 42.6+ KB\n"
     ]
    }
   ],
   "source": [
    " # For later training the model, we should remove the duplicate input to reduce overfitting.\n",
    "\n",
    "no_dark = df.drop_duplicates(subset=\"Pattern String\")\n",
    "\n",
    "no_dark.info()"
   ]
  },
  {
   "cell_type": "code",
   "execution_count": 11,
   "metadata": {},
   "outputs": [
    {
     "name": "stdout",
     "output_type": "stream",
     "text": [
      "<class 'pandas.core.frame.DataFrame'>\n",
      "RangeIndex: 1818 entries, 0 to 1817\n",
      "Data columns (total 7 columns):\n",
      " #   Column             Non-Null Count  Dtype \n",
      "---  ------             --------------  ----- \n",
      " 0   Pattern String     1512 non-null   object\n",
      " 1   Comment            1798 non-null   object\n",
      " 2   Pattern Category   1818 non-null   object\n",
      " 3   Pattern Type       1818 non-null   object\n",
      " 4   Where in website?  1818 non-null   object\n",
      " 5   Deceptive?         1818 non-null   object\n",
      " 6   Website Page       1818 non-null   object\n",
      "dtypes: object(7)\n",
      "memory usage: 99.5+ KB\n",
      "Information of original princeton dataset:  None\n",
      "<class 'pandas.core.frame.DataFrame'>\n",
      "Int64Index: 1512 entries, 0 to 1817\n",
      "Data columns (total 7 columns):\n",
      " #   Column             Non-Null Count  Dtype \n",
      "---  ------             --------------  ----- \n",
      " 0   Pattern String     1512 non-null   object\n",
      " 1   Comment            1494 non-null   object\n",
      " 2   Pattern Category   1512 non-null   object\n",
      " 3   Pattern Type       1512 non-null   object\n",
      " 4   Where in website?  1512 non-null   object\n",
      " 5   Deceptive?         1512 non-null   object\n",
      " 6   Website Page       1512 non-null   object\n",
      "dtypes: object(7)\n",
      "memory usage: 94.5+ KB\n",
      "Information of princeton dataset aftering removing NA value in content and category:  None\n"
     ]
    }
   ],
   "source": [
    "# add the princeton dataset to enrich the dark tags\n",
    "princeton = pd.read_csv('dark_patterns.csv')\n",
    "\n",
    "print('Information of original princeton dataset: ',princeton.info())\n",
    "\n",
    "# remove the rows where there are NULL values in 'Pattern String' or 'Pattern Category' columns.\n",
    "\n",
    "princeton = princeton[pd.notnull(princeton[\"Pattern String\"])]\n",
    "princeton = princeton[pd.notnull(princeton[\"Pattern Category\"])]\n",
    "\n",
    "print('Information of princeton dataset aftering removing NA value in content and category: ',princeton.info())"
   ]
  },
  {
   "cell_type": "code",
   "execution_count": 12,
   "metadata": {},
   "outputs": [
    {
     "name": "stdout",
     "output_type": "stream",
     "text": [
      "<class 'pandas.core.frame.DataFrame'>\n",
      "Int64Index: 1178 entries, 0 to 1817\n",
      "Data columns (total 8 columns):\n",
      " #   Column             Non-Null Count  Dtype \n",
      "---  ------             --------------  ----- \n",
      " 0   Pattern String     1178 non-null   object\n",
      " 1   Comment            1162 non-null   object\n",
      " 2   Pattern Category   1178 non-null   object\n",
      " 3   Pattern Type       1178 non-null   object\n",
      " 4   Where in website?  1178 non-null   object\n",
      " 5   Deceptive?         1178 non-null   object\n",
      " 6   Website Page       1178 non-null   object\n",
      " 7   classification     1178 non-null   int64 \n",
      "dtypes: int64(1), object(7)\n",
      "memory usage: 82.8+ KB\n",
      "Information of princeton dataset aftering removing duplicates in content:  None\n"
     ]
    }
   ],
   "source": [
    "# create a column named 'classification' and give all the values to be 1, which means 'Dark', to match with the presence dataset.\n",
    "\n",
    "princeton[\"classification\"] = 0\n",
    "\n",
    "# For later training the model, we should remove the duplicate input to reduce overfitting.\n",
    "\n",
    "princeton = princeton.drop_duplicates(subset=\"Pattern String\")\n",
    "\n",
    "print('Information of princeton dataset aftering removing duplicates in content: ',princeton.info())"
   ]
  },
  {
   "cell_type": "code",
   "execution_count": 19,
   "metadata": {},
   "outputs": [
    {
     "name": "stdout",
     "output_type": "stream",
     "text": [
      "Pattern Category:\n",
      "Scarcity         418\n",
      "Social Proof     312\n",
      "Urgency          210\n",
      "Misdirection     195\n",
      "Obstruction       27\n",
      "Sneaking          12\n",
      "Forced Action      4\n",
      "Name: Pattern Category, dtype: int64\n",
      "Pattern Type:\n",
      "Low-stock Message                   395\n",
      "Activity Notification               311\n",
      "Confirmshaming                      129\n",
      "Countdown Timer                     129\n",
      "Limited-time Message                 81\n",
      "Pressured Selling                    45\n",
      "Hard to Cancel                       27\n",
      "High-demand Message                  23\n",
      "Visual Interference                  12\n",
      "Trick Questions                       9\n",
      "Hidden Subscription                   6\n",
      "Forced Enrollment                     4\n",
      "Sneak into Basket                     3\n",
      "Hidden Costs                          3\n",
      "Testimonials of Uncertain Origin      1\n",
      "Name: Pattern Type, dtype: int64\n"
     ]
    }
   ],
   "source": [
    "# Check the distribution of dark pattern category (big) and dark pattern type (small)\n",
    "\n",
    "print('Pattern Category:\\n{}'.format(princeton['Pattern Category'].value_counts()))\n",
    "\n",
    "print('Pattern Type:\\n{}'.format(princeton['Pattern Type'].value_counts()))"
   ]
  },
  {
   "cell_type": "code",
   "execution_count": 18,
   "metadata": {},
   "outputs": [
    {
     "name": "stdout",
     "output_type": "stream",
     "text": [
      "<class 'pandas.core.frame.DataFrame'>\n",
      "Int64Index: 939 entries, 0 to 1697\n",
      "Data columns (total 8 columns):\n",
      " #   Column             Non-Null Count  Dtype \n",
      "---  ------             --------------  ----- \n",
      " 0   Pattern String     939 non-null    object\n",
      " 1   Comment            930 non-null    object\n",
      " 2   Pattern Category   939 non-null    object\n",
      " 3   Pattern Type       939 non-null    object\n",
      " 4   Where in website?  939 non-null    object\n",
      " 5   Deceptive?         939 non-null    object\n",
      " 6   Website Page       939 non-null    object\n",
      " 7   classification     939 non-null    int64 \n",
      "dtypes: int64(1), object(7)\n",
      "memory usage: 66.0+ KB\n",
      "Information of the filterted dark pattern dataset with 5 types of dark pattern types:\n",
      " None\n",
      "Distribution of dark pattern types:\n",
      "Low-stock Message        395\n",
      "Activity Notification    311\n",
      "Countdown Timer          129\n",
      "Limited-time Message      81\n",
      "High-demand Message       23\n",
      "Name: Pattern Type, dtype: int64\n"
     ]
    }
   ],
   "source": [
    "# Keep only the five types of dark patterns to be training models in the princeton dataset\n",
    "\n",
    "pattern_list = ['Activity Notification','Low-stock Message','Countdown Timer','Limited-time Message','High-demand Message']\n",
    "\n",
    "Five_Types_dark = princeton[princeton['Pattern Type'].isin(pattern_list)]\n",
    "\n",
    "print('Information of the filterted dark pattern dataset with 5 types of dark pattern types:\\n',Five_Types_dark.info())\n",
    "\n",
    "print('Distribution of dark pattern types:\\n{}'.format(Five_Types_dark['Pattern Type'].value_counts()))"
   ]
  },
  {
   "cell_type": "code",
   "execution_count": 31,
   "metadata": {},
   "outputs": [
    {
     "name": "stdout",
     "output_type": "stream",
     "text": [
      "The minimal string length of dark pattern content in the dataset:\n",
      "6\n",
      "The maximal string length of dark pattern content in the dataset:\n",
      "185\n",
      "The minimal word count of dark pattern content in the dataset:\n",
      "1\n",
      "The maximal word count of dark pattern content in the dataset:\n",
      "30\n"
     ]
    },
    {
     "name": "stderr",
     "output_type": "stream",
     "text": [
      "<ipython-input-31-4ebc1f3947dd>:11: SettingWithCopyWarning: \n",
      "A value is trying to be set on a copy of a slice from a DataFrame.\n",
      "Try using .loc[row_indexer,col_indexer] = value instead\n",
      "\n",
      "See the caveats in the documentation: https://pandas.pydata.org/pandas-docs/stable/user_guide/indexing.html#returning-a-view-versus-a-copy\n",
      "  Five_Types_dark['words number'] = Five_Types_dark['Pattern String'].str.split().str.len()\n"
     ]
    }
   ],
   "source": [
    "# Check the length of content in dark pattern dataset\n",
    "\n",
    "dark_length = Five_Types_dark['Pattern String'].str.len()\n",
    "\n",
    "print('The minimal string length of dark pattern content in the dataset:\\n{}'.format(dark_length.min()))\n",
    "\n",
    "print('The maximal string length of dark pattern content in the dataset:\\n{}'.format(dark_length.max()))\n",
    "\n",
    "# Check the word number count of the content in dark pattern dataset\n",
    "\n",
    "Five_Types_dark['words number'] = Five_Types_dark['Pattern String'].str.split().str.len()\n",
    "\n",
    "print('The minimal word count of dark pattern content in the dataset:\\n{}'.format(Five_Types_dark['words number'].min()))\n",
    "\n",
    "print('The maximal word count of dark pattern content in the dataset:\\n{}'.format(Five_Types_dark['words number'].max()))"
   ]
  },
  {
   "cell_type": "code",
   "execution_count": 32,
   "metadata": {
    "scrolled": true
   },
   "outputs": [
    {
     "data": {
      "text/plain": [
       "<AxesSubplot:>"
      ]
     },
     "execution_count": 32,
     "metadata": {},
     "output_type": "execute_result"
    },
    {
     "data": {
      "image/png": "[encoded data removed]",
      "text/plain": [
       "<Figure size 432x288 with 1 Axes>"
      ]
     },
     "metadata": {
      "needs_background": "light"
     },
     "output_type": "display_data"
    }
   ],
   "source": [
    "# Visualisations of the word count in dark pattern dataset\n",
    "\n",
    "Five_Types_dark['words number'].hist()"
   ]
  },
  {
   "cell_type": "code",
   "execution_count": 33,
   "metadata": {},
   "outputs": [
    {
     "name": "stdout",
     "output_type": "stream",
     "text": [
      "The minimal string length of no_dark pattern content in the dataset:\n",
      "1\n",
      "The maximal string length of no_dark pattern content in the dataset:\n",
      "726\n",
      "The minimal word count of no_dark pattern content in the dataset:\n",
      "0\n",
      "The maximal word count of no_dark pattern content in the dataset:\n",
      "110\n"
     ]
    }
   ],
   "source": [
    "# Check the length of content in no_dark pattern dataset\n",
    "\n",
    "no_dark_length = no_dark['Pattern String'].str.len()\n",
    "\n",
    "print('The minimal string length of no_dark pattern content in the dataset:\\n{}'.format(no_dark_length.min()))\n",
    "\n",
    "print('The maximal string length of no_dark pattern content in the dataset:\\n{}'.format(no_dark_length.max()))\n",
    "\n",
    "# Check the word number count of the content in dark pattern dataset\n",
    "\n",
    "no_dark['words number'] = no_dark['Pattern String'].str.split().str.len()\n",
    "\n",
    "print('The minimal word count of no_dark pattern content in the dataset:\\n{}'.format(no_dark['words number'].min()))\n",
    "\n",
    "print('The maximal word count of no_dark pattern content in the dataset:\\n{}'.format(no_dark['words number'].max()))"
   ]
  },
  {
   "cell_type": "code",
   "execution_count": 34,
   "metadata": {},
   "outputs": [
    {
     "data": {
      "text/plain": [
       "<AxesSubplot:>"
      ]
     },
     "execution_count": 34,
     "metadata": {},
     "output_type": "execute_result"
    },
    {
     "data": {
      "image/png": "[encoded data removed]",
      "text/plain": [
       "<Figure size 432x288 with 1 Axes>"
      ]
     },
     "metadata": {
      "needs_background": "light"
     },
     "output_type": "display_data"
    }
   ],
   "source": [
    "# Visualisations of the word count in dark pattern dataset\n",
    "\n",
    "no_dark['words number'].hist()"
   ]
  },
  {
   "cell_type": "code",
   "execution_count": 35,
   "metadata": {},
   "outputs": [
    {
     "name": "stdout",
     "output_type": "stream",
     "text": [
      "<class 'pandas.core.frame.DataFrame'>\n",
      "Int64Index: 1302 entries, 0 to 1815\n",
      "Data columns (total 3 columns):\n",
      " #   Column          Non-Null Count  Dtype \n",
      "---  ------          --------------  ----- \n",
      " 0   Pattern String  1302 non-null   object\n",
      " 1   classification  1302 non-null   int64 \n",
      " 2   words number    1302 non-null   int64 \n",
      "dtypes: int64(2), object(1)\n",
      "memory usage: 40.7+ KB\n",
      "The information of the no_dark dataset aftering filtering word count:\n",
      "None\n"
     ]
    }
   ],
   "source": [
    "# Filter the no_dark datatset into word count from 2 to 30 (included)\n",
    "\n",
    "filter_no_dark = no_dark[(no_dark['words number']>1) & (no_dark['words number']<31)]\n",
    "\n",
    "print('The information of the no_dark dataset aftering filtering word count:\\n{}'.format(filter_no_dark.info()))"
   ]
  },
  {
   "cell_type": "code",
   "execution_count": 37,
   "metadata": {},
   "outputs": [
    {
     "name": "stdout",
     "output_type": "stream",
     "text": [
      "The minimal word count of filtered no_dark pattern content in the dataset:\n",
      "2\n",
      "The maximal word count of filtered no_dark pattern content in the dataset:\n",
      "30\n"
     ]
    }
   ],
   "source": [
    "# Check the word number count of the content in dark pattern dataset\n",
    "\n",
    "print('The minimal word count of filtered no_dark pattern content in the dataset:\\n{}'.format(filter_no_dark['words number'].min()))\n",
    "\n",
    "print('The maximal word count of filtered no_dark pattern content in the dataset:\\n{}'.format(filter_no_dark['words number'].max()))"
   ]
  },
  {
   "cell_type": "code",
   "execution_count": 36,
   "metadata": {},
   "outputs": [
    {
     "data": {
      "text/plain": [
       "<AxesSubplot:>"
      ]
     },
     "execution_count": 36,
     "metadata": {},
     "output_type": "execute_result"
    },
    {
     "data": {
      "image/png": "[encoded data removed]",
      "text/plain": [
       "<Figure size 432x288 with 1 Axes>"
      ]
     },
     "metadata": {
      "needs_background": "light"
     },
     "output_type": "display_data"
    }
   ],
   "source": [
    "# Visualisations of the word count in dark pattern dataset\n",
    "\n",
    "filter_no_dark['words number'].hist()"
   ]
  },
  {
   "cell_type": "code",
   "execution_count": 38,
   "metadata": {},
   "outputs": [
    {
     "name": "stdout",
     "output_type": "stream",
     "text": [
      "1    1301\n",
      "0     940\n",
      "Name: classification, dtype: int64\n"
     ]
    }
   ],
   "source": [
    "# Subset the filtered dataset for joining with raw presence dataset.\n",
    "\n",
    "cols = [\"Pattern String\", \"classification\"]\n",
    "filtered_dark = Five_Types_dark[cols]\n",
    "filtered_no_dark = filter_no_dark[cols]\n",
    "\n",
    "five_types_train_data = pd.concat([filtered_no_dark, filtered_dark])\n",
    "\n",
    "print(five_types_train_data['classification'].value_counts())"
   ]
  },
  {
   "cell_type": "code",
   "execution_count": 40,
   "metadata": {},
   "outputs": [],
   "source": [
    "five_types_train_data.to_csv('five_types_train_data.csv', index = False, header = True)"
   ]
  },
  {
   "cell_type": "code",
   "execution_count": null,
   "metadata": {},
   "outputs": [],
   "source": []
  }
 ],
 "metadata": {
  "kernelspec": {
   "display_name": "Python 3",
   "language": "python",
   "name": "python3"
  },
  "language_info": {
   "codemirror_mode": {
    "name": "ipython",
    "version": 3
   },
   "file_extension": ".py",
   "mimetype": "text/x-python",
   "name": "python",
   "nbconvert_exporter": "python",
   "pygments_lexer": "ipython3",
   "version": "3.8.5"
  }
 },
 "nbformat": 4,
 "nbformat_minor": 4
}
