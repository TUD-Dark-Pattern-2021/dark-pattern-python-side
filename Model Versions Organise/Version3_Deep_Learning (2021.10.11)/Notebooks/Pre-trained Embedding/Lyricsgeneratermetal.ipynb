{
  "nbformat": 4,
  "nbformat_minor": 0,
  "metadata": {
    "colab": {
      "name": " Lyricsgeneratermetal.ipynb",
      "provenance": [],
      "collapsed_sections": []
    },
    "kernelspec": {
      "name": "python3",
      "display_name": "Python 3"
    },
    "language_info": {
      "name": "python"
    },
    "accelerator": "GPU"
  },
  "cells": [
    {
      "cell_type": "code",
      "metadata": {
        "colab": {
          "base_uri": "https://localhost:8080/"
        },
        "id": "cAyIqV2h6K4x",
        "outputId": "55c5c007-7ddb-43cd-e907-b999fee7cd95"
      },
      "source": [
        "%tensorflow_version 2.x\n",
        "import tensorflow as tf\n",
        "device_name = tf.test.gpu_device_name()\n",
        "if device_name != '/device:GPU:0':\n",
        "  raise SystemError('GPU device not found')\n",
        "print('Found GPU at: {}'.format(device_name))"
      ],
      "execution_count": null,
      "outputs": [
        {
          "output_type": "stream",
          "text": [
            "Found GPU at: /device:GPU:0\n"
          ],
          "name": "stdout"
        }
      ]
    },
    {
      "cell_type": "code",
      "metadata": {
        "id": "nTu_9ECz77WO",
        "colab": {
          "base_uri": "https://localhost:8080/"
        },
        "outputId": "a9759c94-8c2b-4bf2-bbed-3f893d24c3fd"
      },
      "source": [
        "from google.colab import drive\n",
        "drive.mount('/content/drive')"
      ],
      "execution_count": 1,
      "outputs": [
        {
          "output_type": "stream",
          "text": [
            "Drive already mounted at /content/drive; to attempt to forcibly remount, call drive.mount(\"/content/drive\", force_remount=True).\n"
          ],
          "name": "stdout"
        }
      ]
    },
    {
      "cell_type": "code",
      "metadata": {
        "id": "weT--4TOQABA",
        "colab": {
          "base_uri": "https://localhost:8080/"
        },
        "outputId": "93288db1-a319-459a-fb47-6de5750be608"
      },
      "source": [
        "import pandas as pd\n",
        "import numpy as np\n",
        "import tensorflow as tf\n",
        "from tensorflow import keras\n",
        "from tensorflow.keras.models import Sequential\n",
        "from sklearn.model_selection import train_test_split\n",
        "from tensorflow.keras.callbacks import LambdaCallback, ModelCheckpoint, EarlyStopping\n",
        "from tensorflow.keras.layers import Dense, Dropout, Activation, LSTM, Bidirectional, Embedding\n",
        "!pip install -q profanity-check\n",
        "from profanity_check import predict"
      ],
      "execution_count": 31,
      "outputs": [
        {
          "output_type": "stream",
          "text": [
            "\u001b[?25l\r\u001b[K     |▏                               | 10kB 22.7MB/s eta 0:00:01\r\u001b[K     |▎                               | 20kB 20.5MB/s eta 0:00:01\r\u001b[K     |▍                               | 30kB 11.0MB/s eta 0:00:01\r\u001b[K     |▌                               | 40kB 9.1MB/s eta 0:00:01\r\u001b[K     |▊                               | 51kB 7.8MB/s eta 0:00:01\r\u001b[K     |▉                               | 61kB 8.2MB/s eta 0:00:01\r\u001b[K     |█                               | 71kB 8.4MB/s eta 0:00:01\r\u001b[K     |█                               | 81kB 8.3MB/s eta 0:00:01\r\u001b[K     |█▏                              | 92kB 8.5MB/s eta 0:00:01\r\u001b[K     |█▍                              | 102kB 7.5MB/s eta 0:00:01\r\u001b[K     |█▌                              | 112kB 7.5MB/s eta 0:00:01\r\u001b[K     |█▋                              | 122kB 7.5MB/s eta 0:00:01\r\u001b[K     |█▊                              | 133kB 7.5MB/s eta 0:00:01\r\u001b[K     |██                              | 143kB 7.5MB/s eta 0:00:01\r\u001b[K     |██                              | 153kB 7.5MB/s eta 0:00:01\r\u001b[K     |██▏                             | 163kB 7.5MB/s eta 0:00:01\r\u001b[K     |██▎                             | 174kB 7.5MB/s eta 0:00:01\r\u001b[K     |██▍                             | 184kB 7.5MB/s eta 0:00:01\r\u001b[K     |██▋                             | 194kB 7.5MB/s eta 0:00:01\r\u001b[K     |██▊                             | 204kB 7.5MB/s eta 0:00:01\r\u001b[K     |██▉                             | 215kB 7.5MB/s eta 0:00:01\r\u001b[K     |███                             | 225kB 7.5MB/s eta 0:00:01\r\u001b[K     |███                             | 235kB 7.5MB/s eta 0:00:01\r\u001b[K     |███▎                            | 245kB 7.5MB/s eta 0:00:01\r\u001b[K     |███▍                            | 256kB 7.5MB/s eta 0:00:01\r\u001b[K     |███▌                            | 266kB 7.5MB/s eta 0:00:01\r\u001b[K     |███▋                            | 276kB 7.5MB/s eta 0:00:01\r\u001b[K     |███▉                            | 286kB 7.5MB/s eta 0:00:01\r\u001b[K     |████                            | 296kB 7.5MB/s eta 0:00:01\r\u001b[K     |████                            | 307kB 7.5MB/s eta 0:00:01\r\u001b[K     |████▏                           | 317kB 7.5MB/s eta 0:00:01\r\u001b[K     |████▎                           | 327kB 7.5MB/s eta 0:00:01\r\u001b[K     |████▌                           | 337kB 7.5MB/s eta 0:00:01\r\u001b[K     |████▋                           | 348kB 7.5MB/s eta 0:00:01\r\u001b[K     |████▊                           | 358kB 7.5MB/s eta 0:00:01\r\u001b[K     |████▉                           | 368kB 7.5MB/s eta 0:00:01\r\u001b[K     |█████                           | 378kB 7.5MB/s eta 0:00:01\r\u001b[K     |█████▏                          | 389kB 7.5MB/s eta 0:00:01\r\u001b[K     |█████▎                          | 399kB 7.5MB/s eta 0:00:01\r\u001b[K     |█████▍                          | 409kB 7.5MB/s eta 0:00:01\r\u001b[K     |█████▌                          | 419kB 7.5MB/s eta 0:00:01\r\u001b[K     |█████▊                          | 430kB 7.5MB/s eta 0:00:01\r\u001b[K     |█████▉                          | 440kB 7.5MB/s eta 0:00:01\r\u001b[K     |██████                          | 450kB 7.5MB/s eta 0:00:01\r\u001b[K     |██████                          | 460kB 7.5MB/s eta 0:00:01\r\u001b[K     |██████▏                         | 471kB 7.5MB/s eta 0:00:01\r\u001b[K     |██████▍                         | 481kB 7.5MB/s eta 0:00:01\r\u001b[K     |██████▌                         | 491kB 7.5MB/s eta 0:00:01\r\u001b[K     |██████▋                         | 501kB 7.5MB/s eta 0:00:01\r\u001b[K     |██████▊                         | 512kB 7.5MB/s eta 0:00:01\r\u001b[K     |███████                         | 522kB 7.5MB/s eta 0:00:01\r\u001b[K     |███████                         | 532kB 7.5MB/s eta 0:00:01\r\u001b[K     |███████▏                        | 542kB 7.5MB/s eta 0:00:01\r\u001b[K     |███████▎                        | 552kB 7.5MB/s eta 0:00:01\r\u001b[K     |███████▍                        | 563kB 7.5MB/s eta 0:00:01\r\u001b[K     |███████▋                        | 573kB 7.5MB/s eta 0:00:01\r\u001b[K     |███████▊                        | 583kB 7.5MB/s eta 0:00:01\r\u001b[K     |███████▉                        | 593kB 7.5MB/s eta 0:00:01\r\u001b[K     |████████                        | 604kB 7.5MB/s eta 0:00:01\r\u001b[K     |████████▏                       | 614kB 7.5MB/s eta 0:00:01\r\u001b[K     |████████▎                       | 624kB 7.5MB/s eta 0:00:01\r\u001b[K     |████████▍                       | 634kB 7.5MB/s eta 0:00:01\r\u001b[K     |████████▌                       | 645kB 7.5MB/s eta 0:00:01\r\u001b[K     |████████▋                       | 655kB 7.5MB/s eta 0:00:01\r\u001b[K     |████████▉                       | 665kB 7.5MB/s eta 0:00:01\r\u001b[K     |█████████                       | 675kB 7.5MB/s eta 0:00:01\r\u001b[K     |█████████                       | 686kB 7.5MB/s eta 0:00:01\r\u001b[K     |█████████▏                      | 696kB 7.5MB/s eta 0:00:01\r\u001b[K     |█████████▎                      | 706kB 7.5MB/s eta 0:00:01\r\u001b[K     |█████████▌                      | 716kB 7.5MB/s eta 0:00:01\r\u001b[K     |█████████▋                      | 727kB 7.5MB/s eta 0:00:01\r\u001b[K     |█████████▊                      | 737kB 7.5MB/s eta 0:00:01\r\u001b[K     |█████████▉                      | 747kB 7.5MB/s eta 0:00:01\r\u001b[K     |██████████                      | 757kB 7.5MB/s eta 0:00:01\r\u001b[K     |██████████▏                     | 768kB 7.5MB/s eta 0:00:01\r\u001b[K     |██████████▎                     | 778kB 7.5MB/s eta 0:00:01\r\u001b[K     |██████████▍                     | 788kB 7.5MB/s eta 0:00:01\r\u001b[K     |██████████▌                     | 798kB 7.5MB/s eta 0:00:01\r\u001b[K     |██████████▊                     | 808kB 7.5MB/s eta 0:00:01\r\u001b[K     |██████████▉                     | 819kB 7.5MB/s eta 0:00:01\r\u001b[K     |███████████                     | 829kB 7.5MB/s eta 0:00:01\r\u001b[K     |███████████                     | 839kB 7.5MB/s eta 0:00:01\r\u001b[K     |███████████▏                    | 849kB 7.5MB/s eta 0:00:01\r\u001b[K     |███████████▍                    | 860kB 7.5MB/s eta 0:00:01\r\u001b[K     |███████████▌                    | 870kB 7.5MB/s eta 0:00:01\r\u001b[K     |███████████▋                    | 880kB 7.5MB/s eta 0:00:01\r\u001b[K     |███████████▊                    | 890kB 7.5MB/s eta 0:00:01\r\u001b[K     |████████████                    | 901kB 7.5MB/s eta 0:00:01\r\u001b[K     |████████████                    | 911kB 7.5MB/s eta 0:00:01\r\u001b[K     |████████████▏                   | 921kB 7.5MB/s eta 0:00:01\r\u001b[K     |████████████▎                   | 931kB 7.5MB/s eta 0:00:01\r\u001b[K     |████████████▍                   | 942kB 7.5MB/s eta 0:00:01\r\u001b[K     |████████████▋                   | 952kB 7.5MB/s eta 0:00:01\r\u001b[K     |████████████▊                   | 962kB 7.5MB/s eta 0:00:01\r\u001b[K     |████████████▉                   | 972kB 7.5MB/s eta 0:00:01\r\u001b[K     |█████████████                   | 983kB 7.5MB/s eta 0:00:01\r\u001b[K     |█████████████▏                  | 993kB 7.5MB/s eta 0:00:01\r\u001b[K     |█████████████▎                  | 1.0MB 7.5MB/s eta 0:00:01\r\u001b[K     |█████████████▍                  | 1.0MB 7.5MB/s eta 0:00:01\r\u001b[K     |█████████████▌                  | 1.0MB 7.5MB/s eta 0:00:01\r\u001b[K     |█████████████▋                  | 1.0MB 7.5MB/s eta 0:00:01\r\u001b[K     |█████████████▉                  | 1.0MB 7.5MB/s eta 0:00:01\r\u001b[K     |██████████████                  | 1.1MB 7.5MB/s eta 0:00:01\r\u001b[K     |██████████████                  | 1.1MB 7.5MB/s eta 0:00:01\r\u001b[K     |██████████████▏                 | 1.1MB 7.5MB/s eta 0:00:01\r\u001b[K     |██████████████▎                 | 1.1MB 7.5MB/s eta 0:00:01\r\u001b[K     |██████████████▌                 | 1.1MB 7.5MB/s eta 0:00:01\r\u001b[K     |██████████████▋                 | 1.1MB 7.5MB/s eta 0:00:01\r\u001b[K     |██████████████▊                 | 1.1MB 7.5MB/s eta 0:00:01\r\u001b[K     |██████████████▉                 | 1.1MB 7.5MB/s eta 0:00:01\r\u001b[K     |███████████████                 | 1.1MB 7.5MB/s eta 0:00:01\r\u001b[K     |███████████████▏                | 1.1MB 7.5MB/s eta 0:00:01\r\u001b[K     |███████████████▎                | 1.2MB 7.5MB/s eta 0:00:01\r\u001b[K     |███████████████▍                | 1.2MB 7.5MB/s eta 0:00:01\r\u001b[K     |███████████████▌                | 1.2MB 7.5MB/s eta 0:00:01\r\u001b[K     |███████████████▊                | 1.2MB 7.5MB/s eta 0:00:01\r\u001b[K     |███████████████▉                | 1.2MB 7.5MB/s eta 0:00:01\r\u001b[K     |████████████████                | 1.2MB 7.5MB/s eta 0:00:01\r\u001b[K     |████████████████                | 1.2MB 7.5MB/s eta 0:00:01\r\u001b[K     |████████████████▎               | 1.2MB 7.5MB/s eta 0:00:01\r\u001b[K     |████████████████▍               | 1.2MB 7.5MB/s eta 0:00:01\r\u001b[K     |████████████████▌               | 1.2MB 7.5MB/s eta 0:00:01\r\u001b[K     |████████████████▋               | 1.3MB 7.5MB/s eta 0:00:01\r\u001b[K     |████████████████▊               | 1.3MB 7.5MB/s eta 0:00:01\r\u001b[K     |█████████████████               | 1.3MB 7.5MB/s eta 0:00:01\r\u001b[K     |█████████████████               | 1.3MB 7.5MB/s eta 0:00:01\r\u001b[K     |█████████████████▏              | 1.3MB 7.5MB/s eta 0:00:01\r\u001b[K     |█████████████████▎              | 1.3MB 7.5MB/s eta 0:00:01\r\u001b[K     |█████████████████▍              | 1.3MB 7.5MB/s eta 0:00:01\r\u001b[K     |█████████████████▋              | 1.3MB 7.5MB/s eta 0:00:01\r\u001b[K     |█████████████████▊              | 1.3MB 7.5MB/s eta 0:00:01\r\u001b[K     |█████████████████▉              | 1.4MB 7.5MB/s eta 0:00:01\r\u001b[K     |██████████████████              | 1.4MB 7.5MB/s eta 0:00:01\r\u001b[K     |██████████████████▏             | 1.4MB 7.5MB/s eta 0:00:01\r\u001b[K     |██████████████████▎             | 1.4MB 7.5MB/s eta 0:00:01\r\u001b[K     |██████████████████▍             | 1.4MB 7.5MB/s eta 0:00:01\r\u001b[K     |██████████████████▌             | 1.4MB 7.5MB/s eta 0:00:01\r\u001b[K     |██████████████████▋             | 1.4MB 7.5MB/s eta 0:00:01\r\u001b[K     |██████████████████▉             | 1.4MB 7.5MB/s eta 0:00:01\r\u001b[K     |███████████████████             | 1.4MB 7.5MB/s eta 0:00:01\r\u001b[K     |███████████████████             | 1.4MB 7.5MB/s eta 0:00:01\r\u001b[K     |███████████████████▏            | 1.5MB 7.5MB/s eta 0:00:01\r\u001b[K     |███████████████████▎            | 1.5MB 7.5MB/s eta 0:00:01\r\u001b[K     |███████████████████▌            | 1.5MB 7.5MB/s eta 0:00:01\r\u001b[K     |███████████████████▋            | 1.5MB 7.5MB/s eta 0:00:01\r\u001b[K     |███████████████████▊            | 1.5MB 7.5MB/s eta 0:00:01\r\u001b[K     |███████████████████▉            | 1.5MB 7.5MB/s eta 0:00:01\r\u001b[K     |████████████████████            | 1.5MB 7.5MB/s eta 0:00:01\r\u001b[K     |████████████████████▏           | 1.5MB 7.5MB/s eta 0:00:01\r\u001b[K     |████████████████████▎           | 1.5MB 7.5MB/s eta 0:00:01\r\u001b[K     |████████████████████▍           | 1.5MB 7.5MB/s eta 0:00:01\r\u001b[K     |████████████████████▌           | 1.6MB 7.5MB/s eta 0:00:01\r\u001b[K     |████████████████████▊           | 1.6MB 7.5MB/s eta 0:00:01\r\u001b[K     |████████████████████▉           | 1.6MB 7.5MB/s eta 0:00:01\r\u001b[K     |█████████████████████           | 1.6MB 7.5MB/s eta 0:00:01\r\u001b[K     |█████████████████████           | 1.6MB 7.5MB/s eta 0:00:01\r\u001b[K     |█████████████████████▎          | 1.6MB 7.5MB/s eta 0:00:01\r\u001b[K     |█████████████████████▍          | 1.6MB 7.5MB/s eta 0:00:01\r\u001b[K     |█████████████████████▌          | 1.6MB 7.5MB/s eta 0:00:01\r\u001b[K     |█████████████████████▋          | 1.6MB 7.5MB/s eta 0:00:01\r\u001b[K     |█████████████████████▊          | 1.6MB 7.5MB/s eta 0:00:01\r\u001b[K     |██████████████████████          | 1.7MB 7.5MB/s eta 0:00:01\r\u001b[K     |██████████████████████          | 1.7MB 7.5MB/s eta 0:00:01\r\u001b[K     |██████████████████████▏         | 1.7MB 7.5MB/s eta 0:00:01\r\u001b[K     |██████████████████████▎         | 1.7MB 7.5MB/s eta 0:00:01\r\u001b[K     |██████████████████████▍         | 1.7MB 7.5MB/s eta 0:00:01\r\u001b[K     |██████████████████████▋         | 1.7MB 7.5MB/s eta 0:00:01\r\u001b[K     |██████████████████████▊         | 1.7MB 7.5MB/s eta 0:00:01\r\u001b[K     |██████████████████████▉         | 1.7MB 7.5MB/s eta 0:00:01\r\u001b[K     |███████████████████████         | 1.7MB 7.5MB/s eta 0:00:01\r\u001b[K     |███████████████████████▏        | 1.8MB 7.5MB/s eta 0:00:01\r\u001b[K     |███████████████████████▎        | 1.8MB 7.5MB/s eta 0:00:01\r\u001b[K     |███████████████████████▍        | 1.8MB 7.5MB/s eta 0:00:01\r\u001b[K     |███████████████████████▌        | 1.8MB 7.5MB/s eta 0:00:01\r\u001b[K     |███████████████████████▋        | 1.8MB 7.5MB/s eta 0:00:01\r\u001b[K     |███████████████████████▉        | 1.8MB 7.5MB/s eta 0:00:01\r\u001b[K     |████████████████████████        | 1.8MB 7.5MB/s eta 0:00:01\r\u001b[K     |████████████████████████        | 1.8MB 7.5MB/s eta 0:00:01\r\u001b[K     |████████████████████████▏       | 1.8MB 7.5MB/s eta 0:00:01\r\u001b[K     |████████████████████████▍       | 1.8MB 7.5MB/s eta 0:00:01\r\u001b[K     |████████████████████████▌       | 1.9MB 7.5MB/s eta 0:00:01\r\u001b[K     |████████████████████████▋       | 1.9MB 7.5MB/s eta 0:00:01\r\u001b[K     |████████████████████████▊       | 1.9MB 7.5MB/s eta 0:00:01\r\u001b[K     |████████████████████████▉       | 1.9MB 7.5MB/s eta 0:00:01\r\u001b[K     |█████████████████████████       | 1.9MB 7.5MB/s eta 0:00:01\r\u001b[K     |█████████████████████████▏      | 1.9MB 7.5MB/s eta 0:00:01\r\u001b[K     |█████████████████████████▎      | 1.9MB 7.5MB/s eta 0:00:01\r\u001b[K     |█████████████████████████▍      | 1.9MB 7.5MB/s eta 0:00:01\r\u001b[K     |█████████████████████████▌      | 1.9MB 7.5MB/s eta 0:00:01\r\u001b[K     |█████████████████████████▊      | 1.9MB 7.5MB/s eta 0:00:01\r\u001b[K     |█████████████████████████▉      | 2.0MB 7.5MB/s eta 0:00:01\r\u001b[K     |██████████████████████████      | 2.0MB 7.5MB/s eta 0:00:01\r\u001b[K     |██████████████████████████      | 2.0MB 7.5MB/s eta 0:00:01\r\u001b[K     |██████████████████████████▎     | 2.0MB 7.5MB/s eta 0:00:01\r\u001b[K     |██████████████████████████▍     | 2.0MB 7.5MB/s eta 0:00:01\r\u001b[K     |██████████████████████████▌     | 2.0MB 7.5MB/s eta 0:00:01\r\u001b[K     |██████████████████████████▋     | 2.0MB 7.5MB/s eta 0:00:01\r\u001b[K     |██████████████████████████▊     | 2.0MB 7.5MB/s eta 0:00:01\r\u001b[K     |███████████████████████████     | 2.0MB 7.5MB/s eta 0:00:01\r\u001b[K     |███████████████████████████     | 2.0MB 7.5MB/s eta 0:00:01\r\u001b[K     |███████████████████████████▏    | 2.1MB 7.5MB/s eta 0:00:01\r\u001b[K     |███████████████████████████▎    | 2.1MB 7.5MB/s eta 0:00:01\r\u001b[K     |███████████████████████████▌    | 2.1MB 7.5MB/s eta 0:00:01\r\u001b[K     |███████████████████████████▋    | 2.1MB 7.5MB/s eta 0:00:01\r\u001b[K     |███████████████████████████▊    | 2.1MB 7.5MB/s eta 0:00:01\r\u001b[K     |███████████████████████████▉    | 2.1MB 7.5MB/s eta 0:00:01\r\u001b[K     |████████████████████████████    | 2.1MB 7.5MB/s eta 0:00:01\r\u001b[K     |████████████████████████████▏   | 2.1MB 7.5MB/s eta 0:00:01\r\u001b[K     |████████████████████████████▎   | 2.1MB 7.5MB/s eta 0:00:01\r\u001b[K     |████████████████████████████▍   | 2.2MB 7.5MB/s eta 0:00:01\r\u001b[K     |████████████████████████████▌   | 2.2MB 7.5MB/s eta 0:00:01\r\u001b[K     |████████████████████████████▋   | 2.2MB 7.5MB/s eta 0:00:01\r\u001b[K     |████████████████████████████▉   | 2.2MB 7.5MB/s eta 0:00:01\r\u001b[K     |█████████████████████████████   | 2.2MB 7.5MB/s eta 0:00:01\r\u001b[K     |█████████████████████████████   | 2.2MB 7.5MB/s eta 0:00:01\r\u001b[K     |█████████████████████████████▏  | 2.2MB 7.5MB/s eta 0:00:01\r\u001b[K     |█████████████████████████████▍  | 2.2MB 7.5MB/s eta 0:00:01\r\u001b[K     |█████████████████████████████▌  | 2.2MB 7.5MB/s eta 0:00:01\r\u001b[K     |█████████████████████████████▋  | 2.2MB 7.5MB/s eta 0:00:01\r\u001b[K     |█████████████████████████████▊  | 2.3MB 7.5MB/s eta 0:00:01\r\u001b[K     |█████████████████████████████▉  | 2.3MB 7.5MB/s eta 0:00:01\r\u001b[K     |██████████████████████████████  | 2.3MB 7.5MB/s eta 0:00:01\r\u001b[K     |██████████████████████████████▏ | 2.3MB 7.5MB/s eta 0:00:01\r\u001b[K     |██████████████████████████████▎ | 2.3MB 7.5MB/s eta 0:00:01\r\u001b[K     |██████████████████████████████▍ | 2.3MB 7.5MB/s eta 0:00:01\r\u001b[K     |██████████████████████████████▌ | 2.3MB 7.5MB/s eta 0:00:01\r\u001b[K     |██████████████████████████████▊ | 2.3MB 7.5MB/s eta 0:00:01\r\u001b[K     |██████████████████████████████▉ | 2.3MB 7.5MB/s eta 0:00:01\r\u001b[K     |███████████████████████████████ | 2.3MB 7.5MB/s eta 0:00:01\r\u001b[K     |███████████████████████████████ | 2.4MB 7.5MB/s eta 0:00:01\r\u001b[K     |███████████████████████████████▎| 2.4MB 7.5MB/s eta 0:00:01\r\u001b[K     |███████████████████████████████▍| 2.4MB 7.5MB/s eta 0:00:01\r\u001b[K     |███████████████████████████████▌| 2.4MB 7.5MB/s eta 0:00:01\r\u001b[K     |███████████████████████████████▋| 2.4MB 7.5MB/s eta 0:00:01\r\u001b[K     |███████████████████████████████▊| 2.4MB 7.5MB/s eta 0:00:01\r\u001b[K     |████████████████████████████████| 2.4MB 7.5MB/s eta 0:00:01\r\u001b[K     |████████████████████████████████| 2.4MB 7.5MB/s \n",
            "\u001b[?25h"
          ],
          "name": "stdout"
        },
        {
          "output_type": "stream",
          "text": [
            "/usr/local/lib/python3.7/dist-packages/sklearn/externals/joblib/__init__.py:15: FutureWarning: sklearn.externals.joblib is deprecated in 0.21 and will be removed in 0.23. Please import this functionality directly from joblib, which can be installed with: pip install joblib. If this warning is raised when loading pickled models, you may need to re-serialize those models with scikit-learn 0.21+.\n",
            "  warnings.warn(msg, category=FutureWarning)\n",
            "/usr/local/lib/python3.7/dist-packages/sklearn/base.py:318: UserWarning: Trying to unpickle estimator CountVectorizer from version 0.20.2 when using version 0.22.2.post1. This might lead to breaking code or invalid results. Use at your own risk.\n",
            "  UserWarning)\n",
            "/usr/local/lib/python3.7/dist-packages/sklearn/utils/deprecation.py:144: FutureWarning: The sklearn.svm.classes module is  deprecated in version 0.22 and will be removed in version 0.24. The corresponding classes / functions should instead be imported from sklearn.svm. Anything that cannot be imported from sklearn.svm is now part of the private API.\n",
            "  warnings.warn(message, FutureWarning)\n",
            "/usr/local/lib/python3.7/dist-packages/sklearn/base.py:318: UserWarning: Trying to unpickle estimator LinearSVC from version 0.20.2 when using version 0.22.2.post1. This might lead to breaking code or invalid results. Use at your own risk.\n",
            "  UserWarning)\n",
            "/usr/local/lib/python3.7/dist-packages/sklearn/utils/deprecation.py:144: FutureWarning: The sklearn.preprocessing.label module is  deprecated in version 0.22 and will be removed in version 0.24. The corresponding classes / functions should instead be imported from sklearn.preprocessing. Anything that cannot be imported from sklearn.preprocessing is now part of the private API.\n",
            "  warnings.warn(message, FutureWarning)\n",
            "/usr/local/lib/python3.7/dist-packages/sklearn/base.py:318: UserWarning: Trying to unpickle estimator LabelEncoder from version 0.20.2 when using version 0.22.2.post1. This might lead to breaking code or invalid results. Use at your own risk.\n",
            "  UserWarning)\n",
            "/usr/local/lib/python3.7/dist-packages/sklearn/base.py:318: UserWarning: Trying to unpickle estimator _SigmoidCalibration from version 0.20.2 when using version 0.22.2.post1. This might lead to breaking code or invalid results. Use at your own risk.\n",
            "  UserWarning)\n",
            "/usr/local/lib/python3.7/dist-packages/sklearn/base.py:318: UserWarning: Trying to unpickle estimator CalibratedClassifierCV from version 0.20.2 when using version 0.22.2.post1. This might lead to breaking code or invalid results. Use at your own risk.\n",
            "  UserWarning)\n"
          ],
          "name": "stderr"
        }
      ]
    },
    {
      "cell_type": "code",
      "metadata": {
        "id": "fK3iVhDUQCPw"
      },
      "source": [
        "data = pd.read_csv('/content/drive/MyDrive/Colab Notebooks/train.csv')"
      ],
      "execution_count": 110,
      "outputs": []
    },
    {
      "cell_type": "code",
      "metadata": {
        "colab": {
          "base_uri": "https://localhost:8080/"
        },
        "id": "upeVZ44iQRPf",
        "outputId": "53ce72c1-ae15-4cba-999b-8e01dc8c63c5"
      },
      "source": [
        "count = data['Genre'].value_counts()\n",
        "print(count.head(10))"
      ],
      "execution_count": 111,
      "outputs": [
        {
          "output_type": "stream",
          "text": [
            "Rock          121404\n",
            "Pop           108714\n",
            "Metal          20291\n",
            "Jazz           13545\n",
            "Folk            8644\n",
            "Indie           8449\n",
            "R&B             2793\n",
            "Hip-Hop         2240\n",
            "Electronic      2213\n",
            "Country         1890\n",
            "Name: Genre, dtype: int64\n"
          ],
          "name": "stdout"
        }
      ]
    },
    {
      "cell_type": "code",
      "metadata": {
        "colab": {
          "base_uri": "https://localhost:8080/",
          "height": 407
        },
        "id": "ujmmyU_vmHtn",
        "outputId": "db984ffa-69b5-4baf-dbba-6954751f5fc1"
      },
      "source": [
        "df = data[data['Language']=='en']\n",
        "df"
      ],
      "execution_count": 112,
      "outputs": [
        {
          "output_type": "execute_result",
          "data": {
            "text/html": [
              "<div>\n",
              "<style scoped>\n",
              "    .dataframe tbody tr th:only-of-type {\n",
              "        vertical-align: middle;\n",
              "    }\n",
              "\n",
              "    .dataframe tbody tr th {\n",
              "        vertical-align: top;\n",
              "    }\n",
              "\n",
              "    .dataframe thead th {\n",
              "        text-align: right;\n",
              "    }\n",
              "</style>\n",
              "<table border=\"1\" class=\"dataframe\">\n",
              "  <thead>\n",
              "    <tr style=\"text-align: right;\">\n",
              "      <th></th>\n",
              "      <th>Artist</th>\n",
              "      <th>Song</th>\n",
              "      <th>Genre</th>\n",
              "      <th>Language</th>\n",
              "      <th>Lyrics</th>\n",
              "    </tr>\n",
              "  </thead>\n",
              "  <tbody>\n",
              "    <tr>\n",
              "      <th>0</th>\n",
              "      <td>12 stones</td>\n",
              "      <td>world so cold</td>\n",
              "      <td>Rock</td>\n",
              "      <td>en</td>\n",
              "      <td>It starts with pain, followed by hate\\nFueled ...</td>\n",
              "    </tr>\n",
              "    <tr>\n",
              "      <th>1</th>\n",
              "      <td>12 stones</td>\n",
              "      <td>broken</td>\n",
              "      <td>Rock</td>\n",
              "      <td>en</td>\n",
              "      <td>Freedom!\\nAlone again again alone\\nPatiently w...</td>\n",
              "    </tr>\n",
              "    <tr>\n",
              "      <th>2</th>\n",
              "      <td>12 stones</td>\n",
              "      <td>3 leaf loser</td>\n",
              "      <td>Rock</td>\n",
              "      <td>en</td>\n",
              "      <td>Biting the hand that feeds you, lying to the v...</td>\n",
              "    </tr>\n",
              "    <tr>\n",
              "      <th>3</th>\n",
              "      <td>12 stones</td>\n",
              "      <td>anthem for the underdog</td>\n",
              "      <td>Rock</td>\n",
              "      <td>en</td>\n",
              "      <td>You say you know just who I am\\nBut you can't ...</td>\n",
              "    </tr>\n",
              "    <tr>\n",
              "      <th>4</th>\n",
              "      <td>12 stones</td>\n",
              "      <td>adrenaline</td>\n",
              "      <td>Rock</td>\n",
              "      <td>en</td>\n",
              "      <td>My heart is beating faster can't control these...</td>\n",
              "    </tr>\n",
              "    <tr>\n",
              "      <th>...</th>\n",
              "      <td>...</td>\n",
              "      <td>...</td>\n",
              "      <td>...</td>\n",
              "      <td>...</td>\n",
              "      <td>...</td>\n",
              "    </tr>\n",
              "    <tr>\n",
              "      <th>290178</th>\n",
              "      <td>bobby womack</td>\n",
              "      <td>i wish he didn t trust me so much</td>\n",
              "      <td>R&amp;B</td>\n",
              "      <td>en</td>\n",
              "      <td>I'm the best friend he's got I'd give him the ...</td>\n",
              "    </tr>\n",
              "    <tr>\n",
              "      <th>290179</th>\n",
              "      <td>bad boys blue</td>\n",
              "      <td>i totally miss you</td>\n",
              "      <td>Pop</td>\n",
              "      <td>en</td>\n",
              "      <td>Bad Boys Blue \"I Totally Miss You\" I did you w...</td>\n",
              "    </tr>\n",
              "    <tr>\n",
              "      <th>290180</th>\n",
              "      <td>celine dion</td>\n",
              "      <td>sorry for love</td>\n",
              "      <td>Pop</td>\n",
              "      <td>en</td>\n",
              "      <td>Forgive me for the things That I never said to...</td>\n",
              "    </tr>\n",
              "    <tr>\n",
              "      <th>290181</th>\n",
              "      <td>dan bern</td>\n",
              "      <td>cure for aids</td>\n",
              "      <td>Indie</td>\n",
              "      <td>en</td>\n",
              "      <td>The day they found a cure for AIDS The day the...</td>\n",
              "    </tr>\n",
              "    <tr>\n",
              "      <th>290182</th>\n",
              "      <td>crawdad republic</td>\n",
              "      <td>iceberg meadows</td>\n",
              "      <td>Pop</td>\n",
              "      <td>en</td>\n",
              "      <td>Fourth of July has come, it's custom that we g...</td>\n",
              "    </tr>\n",
              "  </tbody>\n",
              "</table>\n",
              "<p>250197 rows × 5 columns</p>\n",
              "</div>"
            ],
            "text/plain": [
              "                  Artist  ...                                             Lyrics\n",
              "0              12 stones  ...  It starts with pain, followed by hate\\nFueled ...\n",
              "1              12 stones  ...  Freedom!\\nAlone again again alone\\nPatiently w...\n",
              "2              12 stones  ...  Biting the hand that feeds you, lying to the v...\n",
              "3              12 stones  ...  You say you know just who I am\\nBut you can't ...\n",
              "4              12 stones  ...  My heart is beating faster can't control these...\n",
              "...                  ...  ...                                                ...\n",
              "290178      bobby womack  ...  I'm the best friend he's got I'd give him the ...\n",
              "290179     bad boys blue  ...  Bad Boys Blue \"I Totally Miss You\" I did you w...\n",
              "290180       celine dion  ...  Forgive me for the things That I never said to...\n",
              "290181          dan bern  ...  The day they found a cure for AIDS The day the...\n",
              "290182  crawdad republic  ...  Fourth of July has come, it's custom that we g...\n",
              "\n",
              "[250197 rows x 5 columns]"
            ]
          },
          "metadata": {
            "tags": []
          },
          "execution_count": 112
        }
      ]
    },
    {
      "cell_type": "code",
      "metadata": {
        "id": "vubI5blEQ0NI"
      },
      "source": [
        "options=['Metal']\n",
        "df1 = data[data['Genre'].isin(options)]\n",
        "df1 = pd.DataFrame(df, columns = ['Lyrics'])"
      ],
      "execution_count": 113,
      "outputs": []
    },
    {
      "cell_type": "code",
      "metadata": {
        "colab": {
          "base_uri": "https://localhost:8080/",
          "height": 407
        },
        "id": "HQdkvNf8nLrd",
        "outputId": "f8ae82ee-a114-4f92-e614-20ff616ef122"
      },
      "source": [
        "df1"
      ],
      "execution_count": 114,
      "outputs": [
        {
          "output_type": "execute_result",
          "data": {
            "text/html": [
              "<div>\n",
              "<style scoped>\n",
              "    .dataframe tbody tr th:only-of-type {\n",
              "        vertical-align: middle;\n",
              "    }\n",
              "\n",
              "    .dataframe tbody tr th {\n",
              "        vertical-align: top;\n",
              "    }\n",
              "\n",
              "    .dataframe thead th {\n",
              "        text-align: right;\n",
              "    }\n",
              "</style>\n",
              "<table border=\"1\" class=\"dataframe\">\n",
              "  <thead>\n",
              "    <tr style=\"text-align: right;\">\n",
              "      <th></th>\n",
              "      <th>Lyrics</th>\n",
              "    </tr>\n",
              "  </thead>\n",
              "  <tbody>\n",
              "    <tr>\n",
              "      <th>0</th>\n",
              "      <td>It starts with pain, followed by hate\\nFueled ...</td>\n",
              "    </tr>\n",
              "    <tr>\n",
              "      <th>1</th>\n",
              "      <td>Freedom!\\nAlone again again alone\\nPatiently w...</td>\n",
              "    </tr>\n",
              "    <tr>\n",
              "      <th>2</th>\n",
              "      <td>Biting the hand that feeds you, lying to the v...</td>\n",
              "    </tr>\n",
              "    <tr>\n",
              "      <th>3</th>\n",
              "      <td>You say you know just who I am\\nBut you can't ...</td>\n",
              "    </tr>\n",
              "    <tr>\n",
              "      <th>4</th>\n",
              "      <td>My heart is beating faster can't control these...</td>\n",
              "    </tr>\n",
              "    <tr>\n",
              "      <th>...</th>\n",
              "      <td>...</td>\n",
              "    </tr>\n",
              "    <tr>\n",
              "      <th>290178</th>\n",
              "      <td>I'm the best friend he's got I'd give him the ...</td>\n",
              "    </tr>\n",
              "    <tr>\n",
              "      <th>290179</th>\n",
              "      <td>Bad Boys Blue \"I Totally Miss You\" I did you w...</td>\n",
              "    </tr>\n",
              "    <tr>\n",
              "      <th>290180</th>\n",
              "      <td>Forgive me for the things That I never said to...</td>\n",
              "    </tr>\n",
              "    <tr>\n",
              "      <th>290181</th>\n",
              "      <td>The day they found a cure for AIDS The day the...</td>\n",
              "    </tr>\n",
              "    <tr>\n",
              "      <th>290182</th>\n",
              "      <td>Fourth of July has come, it's custom that we g...</td>\n",
              "    </tr>\n",
              "  </tbody>\n",
              "</table>\n",
              "<p>250197 rows × 1 columns</p>\n",
              "</div>"
            ],
            "text/plain": [
              "                                                   Lyrics\n",
              "0       It starts with pain, followed by hate\\nFueled ...\n",
              "1       Freedom!\\nAlone again again alone\\nPatiently w...\n",
              "2       Biting the hand that feeds you, lying to the v...\n",
              "3       You say you know just who I am\\nBut you can't ...\n",
              "4       My heart is beating faster can't control these...\n",
              "...                                                   ...\n",
              "290178  I'm the best friend he's got I'd give him the ...\n",
              "290179  Bad Boys Blue \"I Totally Miss You\" I did you w...\n",
              "290180  Forgive me for the things That I never said to...\n",
              "290181  The day they found a cure for AIDS The day the...\n",
              "290182  Fourth of July has come, it's custom that we g...\n",
              "\n",
              "[250197 rows x 1 columns]"
            ]
          },
          "metadata": {
            "tags": []
          },
          "execution_count": 114
        }
      ]
    },
    {
      "cell_type": "code",
      "metadata": {
        "colab": {
          "base_uri": "https://localhost:8080/"
        },
        "id": "ffb1NrBjqKOB",
        "outputId": "fa9f0d8a-fe4a-4e90-fc5a-1fa37fce43e4"
      },
      "source": [
        "count=0\n",
        "actual_count=0\n",
        "for i in range(1000):\n",
        "  #print(type(df1.iloc[i]['Lyrics']))\n",
        "  if predict([df1.iloc[i]['Lyrics']])==1:\n",
        "    #print(\"Offensive word found\")\n",
        "    count=count+1\n",
        "    try:\n",
        "      df1=df1.drop([i])\n",
        "      actual_count=actual_count+1\n",
        "    except:\n",
        "      pass\n",
        "  else:\n",
        "    pass\n",
        "print(len(df1))"
      ],
      "execution_count": 115,
      "outputs": [
        {
          "output_type": "stream",
          "text": [
            "249822\n"
          ],
          "name": "stdout"
        }
      ]
    },
    {
      "cell_type": "code",
      "metadata": {
        "id": "GzG-mm4wrLAs"
      },
      "source": [
        "df1=df1.head(500)"
      ],
      "execution_count": 118,
      "outputs": []
    },
    {
      "cell_type": "code",
      "metadata": {
        "colab": {
          "base_uri": "https://localhost:8080/"
        },
        "id": "_2Q198eokHw_",
        "outputId": "620c15e3-12ec-4d57-a9a0-23461da07798"
      },
      "source": [
        "len(df1)"
      ],
      "execution_count": 119,
      "outputs": [
        {
          "output_type": "execute_result",
          "data": {
            "text/plain": [
              "500"
            ]
          },
          "metadata": {
            "tags": []
          },
          "execution_count": 119
        }
      ]
    },
    {
      "cell_type": "code",
      "metadata": {
        "colab": {
          "base_uri": "https://localhost:8080/"
        },
        "id": "S0g-Xg6Lh5ma",
        "outputId": "0313675a-45dd-4b35-b9ff-598a32d292cf"
      },
      "source": [
        "metal_sub = df1.sample(n=500)\n",
        "metal_sub.shape"
      ],
      "execution_count": 120,
      "outputs": [
        {
          "output_type": "execute_result",
          "data": {
            "text/plain": [
              "(500, 1)"
            ]
          },
          "metadata": {
            "tags": []
          },
          "execution_count": 120
        }
      ]
    },
    {
      "cell_type": "code",
      "metadata": {
        "colab": {
          "base_uri": "https://localhost:8080/",
          "height": 407
        },
        "id": "Fq-KiOYa6v24",
        "outputId": "b666e13d-eee9-403f-a05a-09debe0026f8"
      },
      "source": [
        "metal_sub"
      ],
      "execution_count": 121,
      "outputs": [
        {
          "output_type": "execute_result",
          "data": {
            "text/html": [
              "<div>\n",
              "<style scoped>\n",
              "    .dataframe tbody tr th:only-of-type {\n",
              "        vertical-align: middle;\n",
              "    }\n",
              "\n",
              "    .dataframe tbody tr th {\n",
              "        vertical-align: top;\n",
              "    }\n",
              "\n",
              "    .dataframe thead th {\n",
              "        text-align: right;\n",
              "    }\n",
              "</style>\n",
              "<table border=\"1\" class=\"dataframe\">\n",
              "  <thead>\n",
              "    <tr style=\"text-align: right;\">\n",
              "      <th></th>\n",
              "      <th>Lyrics</th>\n",
              "    </tr>\n",
              "  </thead>\n",
              "  <tbody>\n",
              "    <tr>\n",
              "      <th>396</th>\n",
              "      <td>Take a chance n something star you gotta\\nAll ...</td>\n",
              "    </tr>\n",
              "    <tr>\n",
              "      <th>76</th>\n",
              "      <td>As he raises his hand you begin to understand\\...</td>\n",
              "    </tr>\n",
              "    <tr>\n",
              "      <th>293</th>\n",
              "      <td>Yeah\\nThere's a gravity in me\\nPulling me to w...</td>\n",
              "    </tr>\n",
              "    <tr>\n",
              "      <th>720</th>\n",
              "      <td>Listen, pick me up\\nFill my cup\\nPour me anoth...</td>\n",
              "    </tr>\n",
              "    <tr>\n",
              "      <th>704</th>\n",
              "      <td>Well if you're lookin' for trouble\\nI'm the ma...</td>\n",
              "    </tr>\n",
              "    <tr>\n",
              "      <th>...</th>\n",
              "      <td>...</td>\n",
              "    </tr>\n",
              "    <tr>\n",
              "      <th>524</th>\n",
              "      <td>When the curtain falls it rolls, unwraps, remi...</td>\n",
              "    </tr>\n",
              "    <tr>\n",
              "      <th>206</th>\n",
              "      <td>Put me on a train mama\\n'cause things just ain...</td>\n",
              "    </tr>\n",
              "    <tr>\n",
              "      <th>296</th>\n",
              "      <td>Awww s--t, what\\nYou know the freaks can't han...</td>\n",
              "    </tr>\n",
              "    <tr>\n",
              "      <th>717</th>\n",
              "      <td>Who's your leader, who's your man?\\nWho will h...</td>\n",
              "    </tr>\n",
              "    <tr>\n",
              "      <th>318</th>\n",
              "      <td>Throw the matches on the carpet\\nJust to see i...</td>\n",
              "    </tr>\n",
              "  </tbody>\n",
              "</table>\n",
              "<p>500 rows × 1 columns</p>\n",
              "</div>"
            ],
            "text/plain": [
              "                                                Lyrics\n",
              "396  Take a chance n something star you gotta\\nAll ...\n",
              "76   As he raises his hand you begin to understand\\...\n",
              "293  Yeah\\nThere's a gravity in me\\nPulling me to w...\n",
              "720  Listen, pick me up\\nFill my cup\\nPour me anoth...\n",
              "704  Well if you're lookin' for trouble\\nI'm the ma...\n",
              "..                                                 ...\n",
              "524  When the curtain falls it rolls, unwraps, remi...\n",
              "206  Put me on a train mama\\n'cause things just ain...\n",
              "296  Awww s--t, what\\nYou know the freaks can't han...\n",
              "717  Who's your leader, who's your man?\\nWho will h...\n",
              "318  Throw the matches on the carpet\\nJust to see i...\n",
              "\n",
              "[500 rows x 1 columns]"
            ]
          },
          "metadata": {
            "tags": []
          },
          "execution_count": 121
        }
      ]
    },
    {
      "cell_type": "code",
      "metadata": {
        "id": "nhkC-GngcA2C"
      },
      "source": [
        "metal_lyrics = metal_sub['Lyrics'].astype('str')\n"
      ],
      "execution_count": 122,
      "outputs": []
    },
    {
      "cell_type": "code",
      "metadata": {
        "colab": {
          "base_uri": "https://localhost:8080/",
          "height": 108
        },
        "id": "4lkPmXRvixhC",
        "outputId": "a2769772-3e25-4e08-b87a-915a3681fd3d"
      },
      "source": [
        "metallist = list(metal_lyrics)\n",
        "\n",
        "metallist[0]"
      ],
      "execution_count": 123,
      "outputs": [
        {
          "output_type": "execute_result",
          "data": {
            "application/vnd.google.colaboratory.intrinsic+json": {
              "type": "string"
            },
            "text/plain": [
              "'Take a chance n something star you gotta\\nAll the live long day\\nIf I had to name one thing would data\\nBe hard pressed to say\\nYou can say that I’m gushy\\nAt least you know what I think\\nI know that I’m lucky I know you’re on the brink\\nYou got it good good good you got it good so good\\nYou make up ridiculous words\\nWhich mean exactly nothing\\nI know just what you mean and that’s the funny thing\\nIt’s understood it’s understood\\nBuddy buddy buddy I know why you wander\\nThrough the sweetness on the ground\\nThe sweetness of the flowers\\nYou make your way on a cloudy day\\nYou’ve got to move\\nThe world you prove is too sweet yeah\\nWe parted much too soon I know but that’s how it goes\\nThere’s someone better out there for you and me\\nCan’t wait to get on the road and feel the shows\\nAnd be like phenomenon 1 and 2 and 3\\nI don’t mean to brag and I don’t mean to boast\\nBut I’m the guy could that give you the most\\nIt’s good good good it’s understood\\nChorus'"
            ]
          },
          "metadata": {
            "tags": []
          },
          "execution_count": 123
        }
      ]
    },
    {
      "cell_type": "code",
      "metadata": {
        "id": "iusQLUy8fcHT"
      },
      "source": [
        "import string\n",
        "\n",
        "def clean_text(txt):\n",
        "    txt = txt.lower()\n",
        "    txt = txt.replace(\"\\n\",\" \")\n",
        "    return txt \n"
      ],
      "execution_count": 124,
      "outputs": []
    },
    {
      "cell_type": "code",
      "metadata": {
        "colab": {
          "base_uri": "https://localhost:8080/",
          "height": 108
        },
        "id": "t2Itl5JHiPgq",
        "outputId": "6398de87-4559-411d-e117-d53df5c4d73c"
      },
      "source": [
        "corpus = [clean_text(x) for x in metallist]\n",
        "corpus[0]"
      ],
      "execution_count": 125,
      "outputs": [
        {
          "output_type": "execute_result",
          "data": {
            "application/vnd.google.colaboratory.intrinsic+json": {
              "type": "string"
            },
            "text/plain": [
              "'take a chance n something star you gotta all the live long day if i had to name one thing would data be hard pressed to say you can say that i’m gushy at least you know what i think i know that i’m lucky i know you’re on the brink you got it good good good you got it good so good you make up ridiculous words which mean exactly nothing i know just what you mean and that’s the funny thing it’s understood it’s understood buddy buddy buddy i know why you wander through the sweetness on the ground the sweetness of the flowers you make your way on a cloudy day you’ve got to move the world you prove is too sweet yeah we parted much too soon i know but that’s how it goes there’s someone better out there for you and me can’t wait to get on the road and feel the shows and be like phenomenon 1 and 2 and 3 i don’t mean to brag and i don’t mean to boast but i’m the guy could that give you the most it’s good good good it’s understood chorus'"
            ]
          },
          "metadata": {
            "tags": []
          },
          "execution_count": 125
        }
      ]
    },
    {
      "cell_type": "code",
      "metadata": {
        "colab": {
          "base_uri": "https://localhost:8080/"
        },
        "id": "qru7CmVjkfXk",
        "outputId": "aba7ab7a-8c11-4419-d4be-c2344338b8c9"
      },
      "source": [
        "len(corpus)"
      ],
      "execution_count": null,
      "outputs": [
        {
          "output_type": "execute_result",
          "data": {
            "text/plain": [
              "2500"
            ]
          },
          "metadata": {
            "tags": []
          },
          "execution_count": 12
        }
      ]
    },
    {
      "cell_type": "code",
      "metadata": {
        "id": "DTfYGycHoSbc"
      },
      "source": [
        "from keras.preprocessing.text import Tokenizer\n",
        "\n",
        "tokenizer = Tokenizer()\n",
        "\n",
        "def get_sequence_of_tokens(corpus):\n",
        "    ## tokenization\n",
        "    tokenizer.fit_on_texts(corpus)\n",
        "    total_words = len(tokenizer.word_index) + 1\n",
        "    \n",
        "    ## convert data to sequence of tokens \n",
        "    input_sequences = []\n",
        "    for line in corpus:\n",
        "        token_list = tokenizer.texts_to_sequences([line])[0]\n",
        "        for i in range(1, len(token_list)):\n",
        "            n_gram_sequence = token_list[:i+1]\n",
        "            input_sequences.append(n_gram_sequence)\n",
        "    return input_sequences, total_words"
      ],
      "execution_count": 126,
      "outputs": []
    },
    {
      "cell_type": "code",
      "metadata": {
        "id": "1Gt-BTtRonDK"
      },
      "source": [
        "inp_sequences, total_words = get_sequence_of_tokens(corpus)"
      ],
      "execution_count": 127,
      "outputs": []
    },
    {
      "cell_type": "code",
      "metadata": {
        "colab": {
          "base_uri": "https://localhost:8080/"
        },
        "id": "8I38CC3posWS",
        "outputId": "61d18c41-509a-4a3e-b898-5614819a3102"
      },
      "source": [
        "total_words"
      ],
      "execution_count": 128,
      "outputs": [
        {
          "output_type": "execute_result",
          "data": {
            "text/plain": [
              "6499"
            ]
          },
          "metadata": {
            "tags": []
          },
          "execution_count": 128
        }
      ]
    },
    {
      "cell_type": "code",
      "metadata": {
        "id": "tgi2SDghq4Lm"
      },
      "source": [
        "from keras.preprocessing.sequence import pad_sequences\n",
        "\n",
        "max_sequence_len = 500\n",
        "\n",
        "inp_sequences = np.array(pad_sequences(inp_sequences,\n",
        "                       maxlen = max_sequence_len, padding='pre'))"
      ],
      "execution_count": 129,
      "outputs": []
    },
    {
      "cell_type": "code",
      "metadata": {
        "colab": {
          "base_uri": "https://localhost:8080/"
        },
        "id": "MXUJ2dCerJIo",
        "outputId": "ff245675-4989-427d-995e-fafdf85fa1fd"
      },
      "source": [
        "print(inp_sequences.shape)\n",
        "inp_sequences"
      ],
      "execution_count": 17,
      "outputs": [
        {
          "output_type": "stream",
          "text": [
            "(120228, 500)\n"
          ],
          "name": "stdout"
        },
        {
          "output_type": "execute_result",
          "data": {
            "text/plain": [
              "array([[  0,   0,   0, ...,   0,  32,  32],\n",
              "       [  0,   0,   0, ...,  32,  32, 287],\n",
              "       [  0,   0,   0, ...,  32, 287,  36],\n",
              "       ...,\n",
              "       [  0,   0,   0, ...,   4,  78,  27],\n",
              "       [  0,   0,   0, ...,  78,  27, 693],\n",
              "       [  0,   0,   0, ...,  27, 693, 297]], dtype=int32)"
            ]
          },
          "metadata": {
            "tags": []
          },
          "execution_count": 17
        }
      ]
    },
    {
      "cell_type": "code",
      "metadata": {
        "id": "uP1tne4PrTpc"
      },
      "source": [
        "predictors, label = inp_sequences[:,:-1],inp_sequences[:,-1]"
      ],
      "execution_count": 130,
      "outputs": []
    },
    {
      "cell_type": "code",
      "metadata": {
        "id": "Lj9hJ6wArXDm"
      },
      "source": [
        "import keras.utils as ku\n",
        "\n",
        "label = ku.to_categorical(label, num_classes=total_words)"
      ],
      "execution_count": 131,
      "outputs": []
    },
    {
      "cell_type": "code",
      "metadata": {
        "colab": {
          "base_uri": "https://localhost:8080/"
        },
        "id": "lJnuz7RirZke",
        "outputId": "a552db25-9c10-49d8-b43d-ae0f9b555b37"
      },
      "source": [
        "label.shape"
      ],
      "execution_count": 132,
      "outputs": [
        {
          "output_type": "execute_result",
          "data": {
            "text/plain": [
              "(124312, 6499)"
            ]
          },
          "metadata": {
            "tags": []
          },
          "execution_count": 132
        }
      ]
    },
    {
      "cell_type": "code",
      "metadata": {
        "colab": {
          "base_uri": "https://localhost:8080/"
        },
        "id": "J6KdZ02F4UNm",
        "outputId": "a445e63e-7dee-45d1-ac38-34fd99badd30"
      },
      "source": [
        "from keras.models import Sequential\n",
        "from tensorflow.keras.layers import Dense, Dropout, Activation, Flatten, Embedding, LSTM\n",
        "from keras.callbacks import EarlyStopping\n",
        "model = Sequential()\n",
        "model.add(Embedding(total_words, 50, input_length=max_sequence_len-1))\n",
        "# Add a LSTM Layer\n",
        "model.add(LSTM(100)) \n",
        "model.add(Dense(total_words/2, activation='relu'))  \n",
        "# In the last layer, the shape should be equal to the total number of words present in our corpus\n",
        "model.add(Dense(total_words, activation='softmax'))\n",
        "model.compile(loss='categorical_crossentropy', optimizer='adam', metrics='accuracy')  \n",
        "model.summary()"
      ],
      "execution_count": 133,
      "outputs": [
        {
          "output_type": "stream",
          "text": [
            "Model: \"sequential_1\"\n",
            "_________________________________________________________________\n",
            "Layer (type)                 Output Shape              Param #   \n",
            "=================================================================\n",
            "embedding_1 (Embedding)      (None, 499, 50)           324950    \n",
            "_________________________________________________________________\n",
            "lstm_1 (LSTM)                (None, 100)               60400     \n",
            "_________________________________________________________________\n",
            "dense_2 (Dense)              (None, 3249)              328149    \n",
            "_________________________________________________________________\n",
            "dense_3 (Dense)              (None, 6499)              21121750  \n",
            "=================================================================\n",
            "Total params: 21,835,249\n",
            "Trainable params: 21,835,249\n",
            "Non-trainable params: 0\n",
            "_________________________________________________________________\n"
          ],
          "name": "stdout"
        }
      ]
    },
    {
      "cell_type": "code",
      "metadata": {
        "colab": {
          "base_uri": "https://localhost:8080/"
        },
        "id": "VI5sI9nf4wH3",
        "outputId": "a952a7ba-5f67-4aed-c64b-7ddd174a280f"
      },
      "source": [
        "es = EarlyStopping(monitor='loss', mode='min', verbose=1)\n",
        "mod_test = model.fit(predictors, label, epochs= 10, callbacks=[es])"
      ],
      "execution_count": 134,
      "outputs": [
        {
          "output_type": "stream",
          "text": [
            "Epoch 1/10\n",
            "3885/3885 [==============================] - 124s 32ms/step - loss: 6.2267 - accuracy: 0.0514\n",
            "Epoch 2/10\n",
            "3885/3885 [==============================] - 121s 31ms/step - loss: 5.0396 - accuracy: 0.1428\n",
            "Epoch 3/10\n",
            "3885/3885 [==============================] - 121s 31ms/step - loss: 4.2374 - accuracy: 0.2236\n",
            "Epoch 4/10\n",
            "3885/3885 [==============================] - 121s 31ms/step - loss: 3.4893 - accuracy: 0.3173\n",
            "Epoch 5/10\n",
            "3885/3885 [==============================] - 122s 31ms/step - loss: 2.8695 - accuracy: 0.4046\n",
            "Epoch 6/10\n",
            "3885/3885 [==============================] - 121s 31ms/step - loss: 2.3234 - accuracy: 0.4920\n",
            "Epoch 7/10\n",
            "3885/3885 [==============================] - 121s 31ms/step - loss: 1.8665 - accuracy: 0.5729\n",
            "Epoch 8/10\n",
            "3885/3885 [==============================] - 121s 31ms/step - loss: 1.4462 - accuracy: 0.6561\n",
            "Epoch 9/10\n",
            "3885/3885 [==============================] - 121s 31ms/step - loss: 1.1214 - accuracy: 0.7269\n",
            "Epoch 10/10\n",
            "3885/3885 [==============================] - 121s 31ms/step - loss: 0.8675 - accuracy: 0.7836\n"
          ],
          "name": "stdout"
        }
      ]
    },
    {
      "cell_type": "code",
      "metadata": {
        "id": "C18v5d2K47R8"
      },
      "source": [
        "!pip install -q pyyaml h5py\n",
        "\n",
        "model.save('metal02.h5')"
      ],
      "execution_count": 135,
      "outputs": []
    },
    {
      "cell_type": "code",
      "metadata": {
        "id": "_iEPZNklKmRN"
      },
      "source": [
        "def make_lyrics(seed_text, next_words):\n",
        "    for _ in range(next_words):\n",
        "        token_list = tokenizer.texts_to_sequences([seed_text])[0]\n",
        "        token_list = pad_sequences([token_list],\n",
        "                     maxlen=max_sequence_len-1,padding='pre')\n",
        "        predicted = model.predict_classes(token_list, verbose=0)\n",
        "        output_word = \"\"\n",
        "        for word, index in tokenizer.word_index.items():\n",
        "            if index == predicted:\n",
        "                output_word = word\n",
        "                break\n",
        "        seed_text += \" \" + output_word\n",
        "    print(seed_text)"
      ],
      "execution_count": 136,
      "outputs": []
    },
    {
      "cell_type": "code",
      "metadata": {
        "colab": {
          "base_uri": "https://localhost:8080/"
        },
        "id": "GQ54_I4FLcq2",
        "outputId": "5d9795e9-ff09-4cbe-a734-b941c4adaa47"
      },
      "source": [
        "print (make_lyrics(\"light cool\", 200))"
      ],
      "execution_count": 138,
      "outputs": [
        {
          "output_type": "stream",
          "text": [
            "/usr/local/lib/python3.7/dist-packages/tensorflow/python/keras/engine/sequential.py:450: UserWarning: `model.predict_classes()` is deprecated and will be removed after 2021-01-01. Please use instead:* `np.argmax(model.predict(x), axis=-1)`,   if your model does multi-class classification   (e.g. if it uses a `softmax` last-layer activation).* `(model.predict(x) > 0.5).astype(\"int32\")`,   if your model does binary classification   (e.g. if it uses a `sigmoid` last-layer activation).\n",
            "  warnings.warn('`model.predict_classes()` is deprecated and '\n"
          ],
          "name": "stderr"
        },
        {
          "output_type": "stream",
          "text": [
            "light cool the same sweatin in the rain so watch out there's a division in our life how do we take back what's been done what's been said oh my how do we take back 'cuz no one wins the wheel of them what you got so rude boy actin' coy you got nuts liek almond joy i tell ya this is a tribute i'm vexing many mofos but i'm wishing you come a day i didn't sit and mean so much can't hear about it stand up stand up stand up and face up and shakin’ it up now we just go yo dope rhymes might get crazy but they're not already there is not how it has it been since you let me in i need your heart and tears you laugh like then you think that i've done you don't mind yourself and if you dare nothing then waitings what i'll do what you mean screaming silent fears nothing don't try to be a prick to be a a a a a a a a little bit of what i'm a i will not attempt to try to be free but i reserve the right to be stoned i\n",
            "None\n"
          ],
          "name": "stdout"
        }
      ]
    }
  ]
}