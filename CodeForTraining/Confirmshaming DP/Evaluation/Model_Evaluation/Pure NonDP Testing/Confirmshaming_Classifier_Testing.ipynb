{
 "cells": [
  {
   "cell_type": "markdown",
   "metadata": {},
   "source": [
    "# Confirmshaming Classifier Evaluation\n",
    "\n",
    "This script is used for the model evaluation for Confirmshaming Classifier.\n",
    "\n",
    "------\n"
   ]
  },
  {
   "cell_type": "code",
   "execution_count": 1,
   "metadata": {},
   "outputs": [],
   "source": [
    "import pandas as pd \n",
    "import numpy as np\n",
    "\n",
    "from sklearn.preprocessing import LabelEncoder\n",
    "\n",
    "# provides a simple way to both tokenize a collection of text documents and build a vocabulary of known words, but also to encode new documents using that vocabulary.\n",
    "from sklearn.feature_extraction.text import TfidfVectorizer\n",
    "from sklearn.feature_extraction.text import CountVectorizer\n",
    "\n",
    "# Bernoulli Naive Bayes (Similar as  MultinomialNB), this classifier is suitable for discrete data. The difference between MultinomialNB and BernoulliNB is that while  MultinomialNB works with occurrence counts, BernoulliNB is designed for binary/boolen features, which means in the case of text classification, word occurrence vectores (rather than word count vectors) may be more suitable to be used to train and use this classifier.\n",
    "from sklearn.naive_bayes import BernoulliNB\n",
    "from sklearn.naive_bayes import MultinomialNB\n",
    "from sklearn.linear_model import LogisticRegression\n",
    "from sklearn.ensemble import RandomForestClassifier\n",
    "from sklearn.neighbors import KNeighborsClassifier\n",
    "from sklearn.svm import LinearSVC\n",
    "\n",
    "# Evaluation metrics\n",
    "from sklearn import metrics\n",
    "from sklearn.metrics import confusion_matrix, accuracy_score\n",
    "\n",
    "# joblib is a set of tools to provide lightweight pipelining in Python. It provides utilities for saving and loading Python objects that make use of NumPy data structures, efficiently.\n",
    "import joblib\n",
    "\n",
    "import matplotlib.pyplot as plt\n",
    "# import seaborn as sns"
   ]
  },
  {
   "cell_type": "markdown",
   "metadata": {},
   "source": [
    "## 1. Using Testing Dataset \"old_normal.csv\"\n",
    "\n",
    "---\n",
    "Import the testing dataset"
   ]
  },
  {
   "cell_type": "code",
   "execution_count": 2,
   "metadata": {},
   "outputs": [
    {
     "data": {
      "text/html": [
       "<div>\n",
       "<style scoped>\n",
       "    .dataframe tbody tr th:only-of-type {\n",
       "        vertical-align: middle;\n",
       "    }\n",
       "\n",
       "    .dataframe tbody tr th {\n",
       "        vertical-align: top;\n",
       "    }\n",
       "\n",
       "    .dataframe thead th {\n",
       "        text-align: right;\n",
       "    }\n",
       "</style>\n",
       "<table border=\"1\" class=\"dataframe\">\n",
       "  <thead>\n",
       "    <tr style=\"text-align: right;\">\n",
       "      <th></th>\n",
       "      <th>content</th>\n",
       "      <th>Classification</th>\n",
       "    </tr>\n",
       "  </thead>\n",
       "  <tbody>\n",
       "    <tr>\n",
       "      <th>0</th>\n",
       "      <td>Zip-through cadet collar with chin guard</td>\n",
       "      <td>1</td>\n",
       "    </tr>\n",
       "    <tr>\n",
       "      <th>1</th>\n",
       "      <td>Zip Up Belted PU Moto Jacket</td>\n",
       "      <td>1</td>\n",
       "    </tr>\n",
       "    <tr>\n",
       "      <th>2</th>\n",
       "      <td>Youth Core Performance Soft Shell</td>\n",
       "      <td>1</td>\n",
       "    </tr>\n",
       "    <tr>\n",
       "      <th>3</th>\n",
       "      <td>Your Watchlist</td>\n",
       "      <td>1</td>\n",
       "    </tr>\n",
       "    <tr>\n",
       "      <th>4</th>\n",
       "      <td>Your Video Purchases &amp; Rentals</td>\n",
       "      <td>1</td>\n",
       "    </tr>\n",
       "  </tbody>\n",
       "</table>\n",
       "</div>"
      ],
      "text/plain": [
       "                                    content  Classification\n",
       "0  Zip-through cadet collar with chin guard               1\n",
       "1              Zip Up Belted PU Moto Jacket               1\n",
       "2         Youth Core Performance Soft Shell               1\n",
       "3                            Your Watchlist               1\n",
       "4            Your Video Purchases & Rentals               1"
      ]
     },
     "execution_count": 2,
     "metadata": {},
     "output_type": "execute_result"
    }
   ],
   "source": [
    "data = pd.read_csv('old_normal.csv')\n",
    "\n",
    "data.head(5)"
   ]
  },
  {
   "cell_type": "markdown",
   "metadata": {},
   "source": [
    "---\n",
    "`check the dataset information`\n",
    "\n",
    "There are 3694 NOT NULL instances of content strings in the dataset."
   ]
  },
  {
   "cell_type": "code",
   "execution_count": 3,
   "metadata": {
    "scrolled": true
   },
   "outputs": [
    {
     "name": "stdout",
     "output_type": "stream",
     "text": [
      "<class 'pandas.core.frame.DataFrame'>\n",
      "RangeIndex: 3024 entries, 0 to 3023\n",
      "Data columns (total 2 columns):\n",
      " #   Column          Non-Null Count  Dtype \n",
      "---  ------          --------------  ----- \n",
      " 0   content         3024 non-null   object\n",
      " 1   Classification  3024 non-null   int64 \n",
      "dtypes: int64(1), object(1)\n",
      "memory usage: 47.4+ KB\n"
     ]
    }
   ],
   "source": [
    "data.info()"
   ]
  },
  {
   "cell_type": "code",
   "execution_count": 4,
   "metadata": {},
   "outputs": [
    {
     "name": "stdout",
     "output_type": "stream",
     "text": [
      "Distribution of the tags:\n",
      "1    3024\n",
      "Name: Classification, dtype: int64\n"
     ]
    }
   ],
   "source": [
    "# check the distribution of the target value --- classification.\n",
    "\n",
    "print('Distribution of the tags:\\n{}'.format(data['Classification'].value_counts()))"
   ]
  },
  {
   "cell_type": "markdown",
   "metadata": {},
   "source": [
    "---\n",
    "## Data Preparation"
   ]
  },
  {
   "cell_type": "markdown",
   "metadata": {},
   "source": [
    "---\n",
    "`Encode the target vales into integers` --- 'classification'"
   ]
  },
  {
   "cell_type": "code",
   "execution_count": 5,
   "metadata": {},
   "outputs": [],
   "source": [
    "Y = data['Classification']\n",
    "X = data['content']"
   ]
  },
  {
   "cell_type": "code",
   "execution_count": 6,
   "metadata": {},
   "outputs": [],
   "source": [
    "encoder = LabelEncoder()\n",
    "encoder.fit(Y)\n",
    "y = encoder.transform(Y)"
   ]
  },
  {
   "cell_type": "code",
   "execution_count": 7,
   "metadata": {},
   "outputs": [
    {
     "name": "stdout",
     "output_type": "stream",
     "text": [
      "{1: 0}\n"
     ]
    }
   ],
   "source": [
    "# check the mapping of encoding results (from 0 to 1 representing 'Dark', 'Not Dark')\n",
    "\n",
    "integer_mapping = {label: encoding for encoding, label in enumerate(encoder.classes_)}\n",
    "print(integer_mapping)"
   ]
  },
  {
   "cell_type": "code",
   "execution_count": 8,
   "metadata": {},
   "outputs": [
    {
     "name": "stdout",
     "output_type": "stream",
     "text": [
      "[[   1 3024]]\n"
     ]
    }
   ],
   "source": [
    "# Check the frequency distribution of the pattern classification with pattern classification names.\n",
    "\n",
    "(unique, counts) = np.unique(Y, return_counts=True)\n",
    "frequencies = np.asarray((unique, counts)).T\n",
    "\n",
    "print(frequencies)"
   ]
  },
  {
   "cell_type": "code",
   "execution_count": 9,
   "metadata": {},
   "outputs": [
    {
     "name": "stdout",
     "output_type": "stream",
     "text": [
      "[[   0 3024]]\n"
     ]
    }
   ],
   "source": [
    "# Check the frequency distribution of the encoded pattern classification with encoded integers.\n",
    "\n",
    "(unique, counts) = np.unique(y, return_counts=True)\n",
    "frequencies = np.asarray((unique, counts)).T\n",
    "\n",
    "print(frequencies)"
   ]
  },
  {
   "cell_type": "markdown",
   "metadata": {},
   "source": [
    "---\n",
    "# Bernoulli Naive Bayes Classifier\n"
   ]
  },
  {
   "cell_type": "markdown",
   "metadata": {},
   "source": [
    "### Version 1 : Cased -- HO\n",
    "------"
   ]
  },
  {
   "cell_type": "code",
   "execution_count": 10,
   "metadata": {},
   "outputs": [
    {
     "name": "stdout",
     "output_type": "stream",
     "text": [
      "The hyperparameters of the model:\n",
      "{'cv': 5, 'error_score': nan, 'estimator__alpha': 1.0, 'estimator__binarize': 0.0, 'estimator__class_prior': None, 'estimator__fit_prior': True, 'estimator': BernoulliNB(), 'iid': 'deprecated', 'n_jobs': -1, 'param_grid': {'alpha': [0, 1], 'fit_prior': [True, False]}, 'pre_dispatch': '2*n_jobs', 'refit': True, 'return_train_score': False, 'scoring': None, 'verbose': 1}\n",
      "\n",
      "The distribution of the prediction: \n",
      "[[   1 3024]]\n",
      "\n",
      "Accuracy: 1.0\n",
      "Precision: 0.0\n",
      "Confusion Matrix:\n",
      " [[3024]]\n"
     ]
    },
    {
     "name": "stderr",
     "output_type": "stream",
     "text": [
      "/opt/anaconda3/lib/python3.8/site-packages/sklearn/metrics/_classification.py:1221: UndefinedMetricWarning: Precision is ill-defined and being set to 0.0 due to no predicted samples. Use `zero_division` parameter to control this behavior.\n",
      "  _warn_prf(average, modifier, msg_start, len(result))\n"
     ]
    }
   ],
   "source": [
    "# -----Text Vectorizer Loading\n",
    "cv = joblib.load(\"Version2/Cased/HO/presence_TfidfVectorizer.joblib\")\n",
    "\n",
    "# -----Model Loading'\n",
    "clf = joblib.load(\"Version2/Cased/HO/bnb_presence_classifier.joblib\")\n",
    "\n",
    "# -----Print the model parameters\n",
    "print(\"The hyperparameters of the model:\\n{}\\n\".format(clf.get_params()))\n",
    "\n",
    "\n",
    "# -----Make predictions on the testing dataset\n",
    "# apply the pretrained model to the new content data\n",
    "pred_vec = clf.predict(cv.transform(data['content']))\n",
    "\n",
    "# ---------- apply threshold to be 0.8\n",
    "# pre_pred_vec = (presence_model.predict_proba(presence_cv.transform(presence_pred['content']))[ : , 1] >= 0.8).astype(int)\n",
    "\n",
    "data['prediction'] = pred_vec.tolist()\n",
    "\n",
    "# ----dark pattern content are those where the predicted result equals to 0.\n",
    "dark = data.loc[data['prediction']==0]\n",
    "\n",
    "dark.to_csv('DP/V1-bnb.csv', index = False, header = True)\n",
    "\n",
    "# ----misclassification dataframe\n",
    "mis = data.loc[data['Classification'] != data['prediction']]\n",
    "\n",
    "mis.to_csv('Misclassification/V1-bnb.csv', index = False, header = True)\n",
    "\n",
    "# ----print the distribution of the prediction\n",
    "(unique, counts) = np.unique(pred_vec, return_counts=True)\n",
    "frequencies = np.asarray((unique, counts)).T\n",
    "print(\"The distribution of the prediction: \\n{}\\n\".format(frequencies))\n",
    "\n",
    "# ----Overview of the prediction results\n",
    "print(\"Accuracy:\", metrics.accuracy_score(data['Classification'], pred_vec))\n",
    "print(\"Precision:\", metrics.precision_score(data['Classification'],pred_vec, pos_label=0))\n",
    "print(\"Confusion Matrix:\\n\", metrics.confusion_matrix(data['Classification'], pred_vec))\n"
   ]
  },
  {
   "cell_type": "code",
   "execution_count": null,
   "metadata": {},
   "outputs": [],
   "source": []
  },
  {
   "cell_type": "markdown",
   "metadata": {},
   "source": [
    "### Version 2 :  Cased -- CV\n",
    "------"
   ]
  },
  {
   "cell_type": "code",
   "execution_count": 11,
   "metadata": {},
   "outputs": [
    {
     "name": "stdout",
     "output_type": "stream",
     "text": [
      "The hyperparameters of the model:\n",
      "{'alpha': 1, 'binarize': 0.0, 'class_prior': None, 'fit_prior': True}\n",
      "\n",
      "The distribution of the prediction: \n",
      "[[   1 3024]]\n",
      "\n",
      "Accuracy: 1.0\n",
      "Precision: 0.0\n",
      "Confusion Matrix:\n",
      " [[3024]]\n"
     ]
    },
    {
     "name": "stderr",
     "output_type": "stream",
     "text": [
      "/opt/anaconda3/lib/python3.8/site-packages/sklearn/metrics/_classification.py:1221: UndefinedMetricWarning: Precision is ill-defined and being set to 0.0 due to no predicted samples. Use `zero_division` parameter to control this behavior.\n",
      "  _warn_prf(average, modifier, msg_start, len(result))\n"
     ]
    }
   ],
   "source": [
    "# -----Text Vectorizer Loading\n",
    "cv = joblib.load(\"Version2/Cased/CV/presence_TfidfVectorizer.joblib\")\n",
    "\n",
    "# -----Model Loading'\n",
    "clf = joblib.load(\"Version2/Cased/CV/bnb_presence_classifier.joblib\")\n",
    "\n",
    "# -----Print the model parameters\n",
    "print(\"The hyperparameters of the model:\\n{}\\n\".format(clf.get_params()))\n",
    "\n",
    "\n",
    "# -----Make predictions on the testing dataset\n",
    "# apply the pretrained model to the new content data\n",
    "pred_vec = clf.predict(cv.transform(data['content']))\n",
    "\n",
    "# ---------- apply threshold to be 0.8\n",
    "# pre_pred_vec = (presence_model.predict_proba(presence_cv.transform(presence_pred['content']))[ : , 1] >= 0.8).astype(int)\n",
    "\n",
    "data['prediction'] = pred_vec.tolist()\n",
    "\n",
    "# ----dark pattern content are those where the predicted result equals to 0.\n",
    "dark = data.loc[data['prediction']==0]\n",
    "\n",
    "dark.to_csv('DP/V2-bnb.csv', index = False, header = True)\n",
    "\n",
    "# ----misclassification dataframe\n",
    "mis = data.loc[data['Classification'] != data['prediction']]\n",
    "\n",
    "mis.to_csv('Misclassification/V2-bnb.csv', index = False, header = True)\n",
    "\n",
    "# ----print the distribution of the prediction\n",
    "(unique, counts) = np.unique(pred_vec, return_counts=True)\n",
    "frequencies = np.asarray((unique, counts)).T\n",
    "print(\"The distribution of the prediction: \\n{}\\n\".format(frequencies))\n",
    "\n",
    "# ----Overview of the prediction results\n",
    "print(\"Accuracy:\", metrics.accuracy_score(data['Classification'], pred_vec))\n",
    "print(\"Precision:\", metrics.precision_score(data['Classification'],pred_vec, pos_label=0))\n",
    "print(\"Confusion Matrix:\\n\", metrics.confusion_matrix(data['Classification'], pred_vec))\n"
   ]
  },
  {
   "cell_type": "code",
   "execution_count": null,
   "metadata": {},
   "outputs": [],
   "source": []
  },
  {
   "cell_type": "markdown",
   "metadata": {},
   "source": [
    "### Version 3: Uncased -- HO\n",
    "------"
   ]
  },
  {
   "cell_type": "code",
   "execution_count": 12,
   "metadata": {},
   "outputs": [
    {
     "name": "stdout",
     "output_type": "stream",
     "text": [
      "The hyperparameters of the model:\n",
      "{'cv': 5, 'error_score': nan, 'estimator__alpha': 1.0, 'estimator__binarize': 0.0, 'estimator__class_prior': None, 'estimator__fit_prior': True, 'estimator': BernoulliNB(), 'iid': 'deprecated', 'n_jobs': -1, 'param_grid': {'alpha': [0, 1], 'fit_prior': [True, False]}, 'pre_dispatch': '2*n_jobs', 'refit': True, 'return_train_score': False, 'scoring': None, 'verbose': 1}\n",
      "\n",
      "The distribution of the prediction: \n",
      "[[   1 3024]]\n",
      "\n",
      "Accuracy: 1.0\n",
      "Precision: 0.0\n",
      "Confusion Matrix:\n",
      " [[3024]]\n"
     ]
    },
    {
     "name": "stderr",
     "output_type": "stream",
     "text": [
      "/opt/anaconda3/lib/python3.8/site-packages/sklearn/metrics/_classification.py:1221: UndefinedMetricWarning: Precision is ill-defined and being set to 0.0 due to no predicted samples. Use `zero_division` parameter to control this behavior.\n",
      "  _warn_prf(average, modifier, msg_start, len(result))\n"
     ]
    }
   ],
   "source": [
    "# -----Text Vectorizer Loading\n",
    "cv = joblib.load(\"Version2/Uncased/HO/presence_TfidfVectorizer.joblib\")\n",
    "\n",
    "# -----Model Loading'\n",
    "clf = joblib.load(\"Version2/Uncased/HO/bnb_presence_classifier.joblib\")\n",
    "\n",
    "# -----Print the model parameters\n",
    "print(\"The hyperparameters of the model:\\n{}\\n\".format(clf.get_params()))\n",
    "\n",
    "\n",
    "# -----Make predictions on the testing dataset\n",
    "# apply the pretrained model to the new content data\n",
    "pred_vec = clf.predict(cv.transform(data['content'].str.lower()))\n",
    "\n",
    "# ---------- apply threshold to be 0.8\n",
    "# pre_pred_vec = (presence_model.predict_proba(presence_cv.transform(presence_pred['content']))[ : , 1] >= 0.8).astype(int)\n",
    "\n",
    "data['prediction'] = pred_vec.tolist()\n",
    "\n",
    "# ----dark pattern content are those where the predicted result equals to 0.\n",
    "dark = data.loc[data['prediction']==0]\n",
    "\n",
    "dark.to_csv('DP/V3-bnb.csv', index = False, header = True)\n",
    "\n",
    "# ----misclassification dataframe\n",
    "mis = data.loc[data['Classification'] != data['prediction']]\n",
    "\n",
    "mis.to_csv('Misclassification/V3-bnb.csv', index = False, header = True)\n",
    "\n",
    "# ----print the distribution of the prediction\n",
    "(unique, counts) = np.unique(pred_vec, return_counts=True)\n",
    "frequencies = np.asarray((unique, counts)).T\n",
    "print(\"The distribution of the prediction: \\n{}\\n\".format(frequencies))\n",
    "\n",
    "# ----Overview of the prediction results\n",
    "print(\"Accuracy:\", metrics.accuracy_score(data['Classification'], pred_vec))\n",
    "print(\"Precision:\", metrics.precision_score(data['Classification'],pred_vec, pos_label=0))\n",
    "print(\"Confusion Matrix:\\n\", metrics.confusion_matrix(data['Classification'], pred_vec))\n"
   ]
  },
  {
   "cell_type": "code",
   "execution_count": null,
   "metadata": {},
   "outputs": [],
   "source": []
  },
  {
   "cell_type": "markdown",
   "metadata": {},
   "source": [
    "### Version 4: Uncased -- CV\n",
    "------"
   ]
  },
  {
   "cell_type": "code",
   "execution_count": 13,
   "metadata": {},
   "outputs": [
    {
     "name": "stdout",
     "output_type": "stream",
     "text": [
      "The hyperparameters of the model:\n",
      "{'alpha': 1, 'binarize': 0.0, 'class_prior': None, 'fit_prior': True}\n",
      "\n",
      "The distribution of the prediction: \n",
      "[[   1 3024]]\n",
      "\n",
      "Accuracy: 1.0\n",
      "Precision: 0.0\n",
      "Confusion Matrix:\n",
      " [[3024]]\n"
     ]
    },
    {
     "name": "stderr",
     "output_type": "stream",
     "text": [
      "/opt/anaconda3/lib/python3.8/site-packages/sklearn/metrics/_classification.py:1221: UndefinedMetricWarning: Precision is ill-defined and being set to 0.0 due to no predicted samples. Use `zero_division` parameter to control this behavior.\n",
      "  _warn_prf(average, modifier, msg_start, len(result))\n"
     ]
    }
   ],
   "source": [
    "# -----Text Vectorizer Loading\n",
    "cv = joblib.load(\"Version2/Uncased/CV/presence_TfidfVectorizer.joblib\")\n",
    "\n",
    "# -----Model Loading'\n",
    "clf = joblib.load(\"Version2/Uncased/CV/bnb_presence_classifier.joblib\")\n",
    "\n",
    "# -----Print the model parameters\n",
    "print(\"The hyperparameters of the model:\\n{}\\n\".format(clf.get_params()))\n",
    "\n",
    "\n",
    "# -----Make predictions on the testing dataset\n",
    "# apply the pretrained model to the new content data\n",
    "pred_vec = clf.predict(cv.transform(data['content'].str.lower()))\n",
    "\n",
    "# ---------- apply threshold to be 0.8\n",
    "# pre_pred_vec = (presence_model.predict_proba(presence_cv.transform(presence_pred['content']))[ : , 1] >= 0.8).astype(int)\n",
    "\n",
    "data['prediction'] = pred_vec.tolist()\n",
    "\n",
    "# ----dark pattern content are those where the predicted result equals to 0.\n",
    "dark = data.loc[data['prediction']==0]\n",
    "\n",
    "dark.to_csv('DP/V4-bnb.csv', index = False, header = True)\n",
    "\n",
    "# ----misclassification dataframe\n",
    "mis = data.loc[data['Classification'] != data['prediction']]\n",
    "\n",
    "mis.to_csv('Misclassification/V4-bnb.csv', index = False, header = True)\n",
    "\n",
    "# ----print the distribution of the prediction\n",
    "(unique, counts) = np.unique(pred_vec, return_counts=True)\n",
    "frequencies = np.asarray((unique, counts)).T\n",
    "print(\"The distribution of the prediction: \\n{}\\n\".format(frequencies))\n",
    "\n",
    "# ----Overview of the prediction results\n",
    "print(\"Accuracy:\", metrics.accuracy_score(data['Classification'], pred_vec))\n",
    "print(\"Precision:\", metrics.precision_score(data['Classification'],pred_vec, pos_label=0))\n",
    "print(\"Confusion Matrix:\\n\", metrics.confusion_matrix(data['Classification'], pred_vec))\n",
    "\n"
   ]
  },
  {
   "cell_type": "code",
   "execution_count": null,
   "metadata": {},
   "outputs": [],
   "source": []
  },
  {
   "cell_type": "markdown",
   "metadata": {},
   "source": [
    "### Version 5: Old version -- HO\n",
    "------"
   ]
  },
  {
   "cell_type": "code",
   "execution_count": 14,
   "metadata": {},
   "outputs": [
    {
     "name": "stdout",
     "output_type": "stream",
     "text": [
      "The hyperparameters of the model:\n",
      "{'cv': 5, 'error_score': nan, 'estimator__alpha': 1.0, 'estimator__binarize': 0.0, 'estimator__class_prior': None, 'estimator__fit_prior': True, 'estimator': BernoulliNB(), 'iid': 'deprecated', 'n_jobs': -1, 'param_grid': {'alpha': [0, 1], 'fit_prior': [True, False]}, 'pre_dispatch': '2*n_jobs', 'refit': True, 'return_train_score': False, 'scoring': None, 'verbose': 1}\n",
      "\n",
      "The distribution of the prediction: \n",
      "[[   0    6]\n",
      " [   1 3018]]\n",
      "\n",
      "Accuracy: 0.998015873015873\n",
      "Precision: 0.0\n",
      "Confusion Matrix:\n",
      " [[   0    0]\n",
      " [   6 3018]]\n"
     ]
    }
   ],
   "source": [
    "# -----Text Vectorizer Loading\n",
    "cv = joblib.load(\"Version1/HO/presence_TfidfVectorizer.joblib\")\n",
    "\n",
    "# -----Model Loading'\n",
    "clf = joblib.load(\"Version1/HO/bnb_presence_classifier.joblib\")\n",
    "\n",
    "# -----Print the model parameters\n",
    "print(\"The hyperparameters of the model:\\n{}\\n\".format(clf.get_params()))\n",
    "\n",
    "\n",
    "# -----Make predictions on the testing dataset\n",
    "# apply the pretrained model to the new content data\n",
    "pred_vec = clf.predict(cv.transform(data['content']))\n",
    "\n",
    "# ---------- apply threshold to be 0.8\n",
    "# pre_pred_vec = (presence_model.predict_proba(presence_cv.transform(presence_pred['content']))[ : , 1] >= 0.8).astype(int)\n",
    "\n",
    "data['prediction'] = pred_vec.tolist()\n",
    "\n",
    "# ----dark pattern content are those where the predicted result equals to 0.\n",
    "dark = data.loc[data['prediction']==0]\n",
    "\n",
    "dark.to_csv('DP/V5-bnb.csv', index = False, header = True)\n",
    "\n",
    "# ----misclassification dataframe\n",
    "mis = data.loc[data['Classification'] != data['prediction']]\n",
    "\n",
    "mis.to_csv('Misclassification/V5-bnb.csv', index = False, header = True)\n",
    "\n",
    "# ----print the distribution of the prediction\n",
    "(unique, counts) = np.unique(pred_vec, return_counts=True)\n",
    "frequencies = np.asarray((unique, counts)).T\n",
    "print(\"The distribution of the prediction: \\n{}\\n\".format(frequencies))\n",
    "\n",
    "# ----Overview of the prediction results\n",
    "print(\"Accuracy:\", metrics.accuracy_score(data['Classification'], pred_vec))\n",
    "print(\"Precision:\", metrics.precision_score(data['Classification'],pred_vec, pos_label=0))\n",
    "print(\"Confusion Matrix:\\n\", metrics.confusion_matrix(data['Classification'], pred_vec))\n",
    "\n"
   ]
  },
  {
   "cell_type": "code",
   "execution_count": null,
   "metadata": {},
   "outputs": [],
   "source": []
  },
  {
   "cell_type": "markdown",
   "metadata": {},
   "source": [
    "### Version 6: Old version -- CV\n",
    "------"
   ]
  },
  {
   "cell_type": "code",
   "execution_count": 15,
   "metadata": {},
   "outputs": [
    {
     "name": "stdout",
     "output_type": "stream",
     "text": [
      "The hyperparameters of the model:\n",
      "{'cv': 5, 'error_score': nan, 'estimator__alpha': 1.0, 'estimator__binarize': 0.0, 'estimator__class_prior': None, 'estimator__fit_prior': True, 'estimator': BernoulliNB(), 'iid': 'deprecated', 'n_jobs': -1, 'param_grid': {'alpha': [0, 1], 'fit_prior': [True, False]}, 'pre_dispatch': '2*n_jobs', 'refit': True, 'return_train_score': False, 'scoring': None, 'verbose': 1}\n",
      "\n",
      "The distribution of the prediction: \n",
      "[[   1 3024]]\n",
      "\n",
      "Accuracy: 1.0\n",
      "Precision: 0.0\n",
      "Confusion Matrix:\n",
      " [[3024]]\n"
     ]
    },
    {
     "name": "stderr",
     "output_type": "stream",
     "text": [
      "/opt/anaconda3/lib/python3.8/site-packages/sklearn/metrics/_classification.py:1221: UndefinedMetricWarning: Precision is ill-defined and being set to 0.0 due to no predicted samples. Use `zero_division` parameter to control this behavior.\n",
      "  _warn_prf(average, modifier, msg_start, len(result))\n"
     ]
    }
   ],
   "source": [
    "# -----Text Vectorizer Loading\n",
    "cv = joblib.load(\"Version1/CV/presence_TfidfVectorizer.joblib\")\n",
    "\n",
    "# -----Model Loading'\n",
    "clf = joblib.load(\"Version1/CV/bnb_presence_classifier.joblib\")\n",
    "\n",
    "# -----Print the model parameters\n",
    "print(\"The hyperparameters of the model:\\n{}\\n\".format(clf.get_params()))\n",
    "\n",
    "\n",
    "# -----Make predictions on the testing dataset\n",
    "# apply the pretrained model to the new content data\n",
    "pred_vec = clf.predict(cv.transform(data['content']))\n",
    "\n",
    "# ---------- apply threshold to be 0.8\n",
    "# pre_pred_vec = (presence_model.predict_proba(presence_cv.transform(presence_pred['content']))[ : , 1] >= 0.8).astype(int)\n",
    "\n",
    "data['prediction'] = pred_vec.tolist()\n",
    "\n",
    "# ----dark pattern content are those where the predicted result equals to 0.\n",
    "dark = data.loc[data['prediction']==0]\n",
    "\n",
    "dark.to_csv('DP/V6-bnb.csv', index = False, header = True)\n",
    "\n",
    "# ----misclassification dataframe\n",
    "mis = data.loc[data['Classification'] != data['prediction']]\n",
    "\n",
    "mis.to_csv('Misclassification/V6-bnb.csv', index = False, header = True)\n",
    "\n",
    "# ----print the distribution of the prediction\n",
    "(unique, counts) = np.unique(pred_vec, return_counts=True)\n",
    "frequencies = np.asarray((unique, counts)).T\n",
    "print(\"The distribution of the prediction: \\n{}\\n\".format(frequencies))\n",
    "\n",
    "# ----Overview of the prediction results\n",
    "print(\"Accuracy:\", metrics.accuracy_score(data['Classification'], pred_vec))\n",
    "print(\"Precision:\", metrics.precision_score(data['Classification'],pred_vec, pos_label=0))\n",
    "print(\"Confusion Matrix:\\n\", metrics.confusion_matrix(data['Classification'], pred_vec))\n",
    "\n"
   ]
  },
  {
   "cell_type": "code",
   "execution_count": null,
   "metadata": {},
   "outputs": [],
   "source": []
  },
  {
   "cell_type": "markdown",
   "metadata": {},
   "source": [
    "---\n",
    "# Logistic Regression Classifier\n"
   ]
  },
  {
   "cell_type": "markdown",
   "metadata": {},
   "source": [
    "### Version 1 : Cased -- HO\n",
    "------"
   ]
  },
  {
   "cell_type": "code",
   "execution_count": 16,
   "metadata": {},
   "outputs": [
    {
     "name": "stdout",
     "output_type": "stream",
     "text": [
      "The hyperparameters of the model:\n",
      "{'cv': 5, 'error_score': nan, 'estimator__C': 1.0, 'estimator__class_weight': None, 'estimator__dual': False, 'estimator__fit_intercept': True, 'estimator__intercept_scaling': 1, 'estimator__l1_ratio': None, 'estimator__max_iter': 100, 'estimator__multi_class': 'auto', 'estimator__n_jobs': None, 'estimator__penalty': 'l2', 'estimator__random_state': None, 'estimator__solver': 'lbfgs', 'estimator__tol': 0.0001, 'estimator__verbose': 0, 'estimator__warm_start': False, 'estimator': LogisticRegression(), 'iid': 'deprecated', 'n_jobs': -1, 'param_grid': {'penalty': ['l1', 'l2'], 'solver': ['lbfgs', 'newton-cg', 'sag']}, 'pre_dispatch': '2*n_jobs', 'refit': True, 'return_train_score': False, 'scoring': None, 'verbose': 1}\n",
      "\n",
      "The distribution of the prediction: \n",
      "[[   0    1]\n",
      " [   1 3023]]\n",
      "\n",
      "Accuracy: 0.9996693121693122\n",
      "Precision: 0.0\n",
      "Confusion Matrix:\n",
      " [[   0    0]\n",
      " [   1 3023]]\n"
     ]
    }
   ],
   "source": [
    "# -----Text Vectorizer Loading\n",
    "cv = joblib.load(\"Version2/Cased/HO/presence_TfidfVectorizer.joblib\")\n",
    "\n",
    "# -----Model Loading'\n",
    "clf = joblib.load(\"Version2/Cased/HO/lr_presence_classifier.joblib\")\n",
    "\n",
    "# -----Print the model parameters\n",
    "print(\"The hyperparameters of the model:\\n{}\\n\".format(clf.get_params()))\n",
    "\n",
    "\n",
    "# -----Make predictions on the testing dataset\n",
    "# apply the pretrained model to the new content data\n",
    "pred_vec = clf.predict(cv.transform(data['content']))\n",
    "\n",
    "# ---------- apply threshold to be 0.8\n",
    "# pre_pred_vec = (presence_model.predict_proba(presence_cv.transform(presence_pred['content']))[ : , 1] >= 0.8).astype(int)\n",
    "\n",
    "data['prediction'] = pred_vec.tolist()\n",
    "\n",
    "# ----dark pattern content are those where the predicted result equals to 0.\n",
    "dark = data.loc[data['prediction']==0]\n",
    "\n",
    "dark.to_csv('DP/V1-lr.csv', index = False, header = True)\n",
    "\n",
    "# ----misclassification dataframe\n",
    "mis = data.loc[data['Classification'] != data['prediction']]\n",
    "\n",
    "mis.to_csv('Misclassification/V1-lr.csv', index = False, header = True)\n",
    "\n",
    "# ----print the distribution of the prediction\n",
    "(unique, counts) = np.unique(pred_vec, return_counts=True)\n",
    "frequencies = np.asarray((unique, counts)).T\n",
    "print(\"The distribution of the prediction: \\n{}\\n\".format(frequencies))\n",
    "\n",
    "# ----Overview of the prediction results\n",
    "print(\"Accuracy:\", metrics.accuracy_score(data['Classification'], pred_vec))\n",
    "print(\"Precision:\", metrics.precision_score(data['Classification'],pred_vec, pos_label=0))\n",
    "print(\"Confusion Matrix:\\n\", metrics.confusion_matrix(data['Classification'], pred_vec))\n"
   ]
  },
  {
   "cell_type": "code",
   "execution_count": null,
   "metadata": {},
   "outputs": [],
   "source": []
  },
  {
   "cell_type": "markdown",
   "metadata": {},
   "source": [
    "### Version 2 :  Cased -- CV\n",
    "------"
   ]
  },
  {
   "cell_type": "code",
   "execution_count": 17,
   "metadata": {},
   "outputs": [
    {
     "name": "stdout",
     "output_type": "stream",
     "text": [
      "The hyperparameters of the model:\n",
      "{'C': 1.0, 'class_weight': None, 'dual': False, 'fit_intercept': True, 'intercept_scaling': 1, 'l1_ratio': None, 'max_iter': 100, 'multi_class': 'auto', 'n_jobs': None, 'penalty': 'l2', 'random_state': None, 'solver': 'lbfgs', 'tol': 0.0001, 'verbose': 0, 'warm_start': False}\n",
      "\n",
      "The distribution of the prediction: \n",
      "[[   0    1]\n",
      " [   1 3023]]\n",
      "\n",
      "Accuracy: 0.9996693121693122\n",
      "Precision: 0.0\n",
      "Confusion Matrix:\n",
      " [[   0    0]\n",
      " [   1 3023]]\n"
     ]
    }
   ],
   "source": [
    "# -----Text Vectorizer Loading\n",
    "cv = joblib.load(\"Version2/Cased/CV/presence_TfidfVectorizer.joblib\")\n",
    "\n",
    "# -----Model Loading'\n",
    "clf = joblib.load(\"Version2/Cased/CV/lr_presence_classifier.joblib\")\n",
    "\n",
    "# -----Print the model parameters\n",
    "print(\"The hyperparameters of the model:\\n{}\\n\".format(clf.get_params()))\n",
    "\n",
    "\n",
    "# -----Make predictions on the testing dataset\n",
    "# apply the pretrained model to the new content data\n",
    "pred_vec = clf.predict(cv.transform(data['content']))\n",
    "\n",
    "# ---------- apply threshold to be 0.8\n",
    "# pre_pred_vec = (presence_model.predict_proba(presence_cv.transform(presence_pred['content']))[ : , 1] >= 0.8).astype(int)\n",
    "\n",
    "data['prediction'] = pred_vec.tolist()\n",
    "\n",
    "# ----dark pattern content are those where the predicted result equals to 0.\n",
    "dark = data.loc[data['prediction']==0]\n",
    "\n",
    "dark.to_csv('DP/V2-lr.csv', index = False, header = True)\n",
    "\n",
    "# ----misclassification dataframe\n",
    "mis = data.loc[data['Classification'] != data['prediction']]\n",
    "\n",
    "mis.to_csv('Misclassification/V2-lr.csv', index = False, header = True)\n",
    "\n",
    "# ----print the distribution of the prediction\n",
    "(unique, counts) = np.unique(pred_vec, return_counts=True)\n",
    "frequencies = np.asarray((unique, counts)).T\n",
    "print(\"The distribution of the prediction: \\n{}\\n\".format(frequencies))\n",
    "\n",
    "# ----Overview of the prediction results\n",
    "print(\"Accuracy:\", metrics.accuracy_score(data['Classification'], pred_vec))\n",
    "print(\"Precision:\", metrics.precision_score(data['Classification'],pred_vec, pos_label=0))\n",
    "print(\"Confusion Matrix:\\n\", metrics.confusion_matrix(data['Classification'], pred_vec))\n"
   ]
  },
  {
   "cell_type": "code",
   "execution_count": null,
   "metadata": {},
   "outputs": [],
   "source": []
  },
  {
   "cell_type": "markdown",
   "metadata": {},
   "source": [
    "### Version 3: Uncased -- HO\n",
    "------"
   ]
  },
  {
   "cell_type": "code",
   "execution_count": 18,
   "metadata": {},
   "outputs": [
    {
     "name": "stdout",
     "output_type": "stream",
     "text": [
      "The hyperparameters of the model:\n",
      "{'cv': 5, 'error_score': nan, 'estimator__C': 1.0, 'estimator__class_weight': None, 'estimator__dual': False, 'estimator__fit_intercept': True, 'estimator__intercept_scaling': 1, 'estimator__l1_ratio': None, 'estimator__max_iter': 100, 'estimator__multi_class': 'auto', 'estimator__n_jobs': None, 'estimator__penalty': 'l2', 'estimator__random_state': None, 'estimator__solver': 'lbfgs', 'estimator__tol': 0.0001, 'estimator__verbose': 0, 'estimator__warm_start': False, 'estimator': LogisticRegression(), 'iid': 'deprecated', 'n_jobs': -1, 'param_grid': {'penalty': ['l1', 'l2'], 'solver': ['lbfgs', 'newton-cg', 'sag']}, 'pre_dispatch': '2*n_jobs', 'refit': True, 'return_train_score': False, 'scoring': None, 'verbose': 1}\n",
      "\n",
      "The distribution of the prediction: \n",
      "[[   0    1]\n",
      " [   1 3023]]\n",
      "\n",
      "Accuracy: 0.9996693121693122\n",
      "Precision: 0.0\n",
      "Confusion Matrix:\n",
      " [[   0    0]\n",
      " [   1 3023]]\n"
     ]
    }
   ],
   "source": [
    "# -----Text Vectorizer Loading\n",
    "cv = joblib.load(\"Version2/Uncased/HO/presence_TfidfVectorizer.joblib\")\n",
    "\n",
    "# -----Model Loading'\n",
    "clf = joblib.load(\"Version2/Uncased/HO/lr_presence_classifier.joblib\")\n",
    "\n",
    "# -----Print the model parameters\n",
    "print(\"The hyperparameters of the model:\\n{}\\n\".format(clf.get_params()))\n",
    "\n",
    "\n",
    "# -----Make predictions on the testing dataset\n",
    "# apply the pretrained model to the new content data\n",
    "pred_vec = clf.predict(cv.transform(data['content'].str.lower()))\n",
    "\n",
    "# ---------- apply threshold to be 0.8\n",
    "# pre_pred_vec = (presence_model.predict_proba(presence_cv.transform(presence_pred['content']))[ : , 1] >= 0.8).astype(int)\n",
    "\n",
    "data['prediction'] = pred_vec.tolist()\n",
    "\n",
    "# ----dark pattern content are those where the predicted result equals to 0.\n",
    "dark = data.loc[data['prediction']==0]\n",
    "\n",
    "dark.to_csv('DP/V3-lr.csv', index = False, header = True)\n",
    "\n",
    "# ----misclassification dataframe\n",
    "mis = data.loc[data['Classification'] != data['prediction']]\n",
    "\n",
    "mis.to_csv('Misclassification/V3-lr.csv', index = False, header = True)\n",
    "\n",
    "# ----print the distribution of the prediction\n",
    "(unique, counts) = np.unique(pred_vec, return_counts=True)\n",
    "frequencies = np.asarray((unique, counts)).T\n",
    "print(\"The distribution of the prediction: \\n{}\\n\".format(frequencies))\n",
    "\n",
    "# ----Overview of the prediction results\n",
    "print(\"Accuracy:\", metrics.accuracy_score(data['Classification'], pred_vec))\n",
    "print(\"Precision:\", metrics.precision_score(data['Classification'],pred_vec, pos_label=0))\n",
    "print(\"Confusion Matrix:\\n\", metrics.confusion_matrix(data['Classification'], pred_vec))\n"
   ]
  },
  {
   "cell_type": "code",
   "execution_count": null,
   "metadata": {},
   "outputs": [],
   "source": []
  },
  {
   "cell_type": "markdown",
   "metadata": {},
   "source": [
    "### Version 4: Uncased -- CV\n",
    "------"
   ]
  },
  {
   "cell_type": "code",
   "execution_count": 19,
   "metadata": {},
   "outputs": [
    {
     "name": "stdout",
     "output_type": "stream",
     "text": [
      "The hyperparameters of the model:\n",
      "{'C': 1.0, 'class_weight': None, 'dual': False, 'fit_intercept': True, 'intercept_scaling': 1, 'l1_ratio': None, 'max_iter': 100, 'multi_class': 'auto', 'n_jobs': None, 'penalty': 'l2', 'random_state': None, 'solver': 'lbfgs', 'tol': 0.0001, 'verbose': 0, 'warm_start': False}\n",
      "\n",
      "The distribution of the prediction: \n",
      "[[   0    1]\n",
      " [   1 3023]]\n",
      "\n",
      "Accuracy: 0.9996693121693122\n",
      "Precision: 0.0\n",
      "Confusion Matrix:\n",
      " [[   0    0]\n",
      " [   1 3023]]\n"
     ]
    }
   ],
   "source": [
    "# -----Text Vectorizer Loading\n",
    "cv = joblib.load(\"Version2/Uncased/CV/presence_TfidfVectorizer.joblib\")\n",
    "\n",
    "# -----Model Loading'\n",
    "clf = joblib.load(\"Version2/Uncased/CV/lr_presence_classifier.joblib\")\n",
    "\n",
    "# -----Print the model parameters\n",
    "print(\"The hyperparameters of the model:\\n{}\\n\".format(clf.get_params()))\n",
    "\n",
    "\n",
    "# -----Make predictions on the testing dataset\n",
    "# apply the pretrained model to the new content data\n",
    "pred_vec = clf.predict(cv.transform(data['content'].str.lower()))\n",
    "\n",
    "# ---------- apply threshold to be 0.8\n",
    "# pre_pred_vec = (presence_model.predict_proba(presence_cv.transform(presence_pred['content']))[ : , 1] >= 0.8).astype(int)\n",
    "\n",
    "data['prediction'] = pred_vec.tolist()\n",
    "\n",
    "# ----dark pattern content are those where the predicted result equals to 0.\n",
    "dark = data.loc[data['prediction']==0]\n",
    "\n",
    "dark.to_csv('DP/V4-lr.csv', index = False, header = True)\n",
    "\n",
    "# ----misclassification dataframe\n",
    "mis = data.loc[data['Classification'] != data['prediction']]\n",
    "\n",
    "mis.to_csv('Misclassification/V4-lr.csv', index = False, header = True)\n",
    "\n",
    "# ----print the distribution of the prediction\n",
    "(unique, counts) = np.unique(pred_vec, return_counts=True)\n",
    "frequencies = np.asarray((unique, counts)).T\n",
    "print(\"The distribution of the prediction: \\n{}\\n\".format(frequencies))\n",
    "\n",
    "# ----Overview of the prediction results\n",
    "print(\"Accuracy:\", metrics.accuracy_score(data['Classification'], pred_vec))\n",
    "print(\"Precision:\", metrics.precision_score(data['Classification'],pred_vec, pos_label=0))\n",
    "print(\"Confusion Matrix:\\n\", metrics.confusion_matrix(data['Classification'], pred_vec))\n"
   ]
  },
  {
   "cell_type": "code",
   "execution_count": null,
   "metadata": {},
   "outputs": [],
   "source": []
  },
  {
   "cell_type": "markdown",
   "metadata": {},
   "source": [
    "### Version 5: Old version -- HO\n",
    "------"
   ]
  },
  {
   "cell_type": "code",
   "execution_count": 20,
   "metadata": {},
   "outputs": [
    {
     "name": "stdout",
     "output_type": "stream",
     "text": [
      "The hyperparameters of the model:\n",
      "{'cv': 5, 'error_score': nan, 'estimator__C': 1.0, 'estimator__class_weight': None, 'estimator__dual': False, 'estimator__fit_intercept': True, 'estimator__intercept_scaling': 1, 'estimator__l1_ratio': None, 'estimator__max_iter': 100, 'estimator__multi_class': 'auto', 'estimator__n_jobs': None, 'estimator__penalty': 'l2', 'estimator__random_state': None, 'estimator__solver': 'lbfgs', 'estimator__tol': 0.0001, 'estimator__verbose': 0, 'estimator__warm_start': False, 'estimator': LogisticRegression(), 'iid': 'deprecated', 'n_jobs': -1, 'param_grid': {'penalty': ['l1', 'l2'], 'solver': ['lbfgs', 'newton-cg', 'sag']}, 'pre_dispatch': '2*n_jobs', 'refit': True, 'return_train_score': False, 'scoring': None, 'verbose': 1}\n",
      "\n",
      "The distribution of the prediction: \n",
      "[[   1 3024]]\n",
      "\n",
      "Accuracy: 1.0\n",
      "Precision: 0.0\n",
      "Confusion Matrix:\n",
      " [[3024]]\n"
     ]
    },
    {
     "name": "stderr",
     "output_type": "stream",
     "text": [
      "/opt/anaconda3/lib/python3.8/site-packages/sklearn/metrics/_classification.py:1221: UndefinedMetricWarning: Precision is ill-defined and being set to 0.0 due to no predicted samples. Use `zero_division` parameter to control this behavior.\n",
      "  _warn_prf(average, modifier, msg_start, len(result))\n"
     ]
    }
   ],
   "source": [
    "# -----Text Vectorizer Loading\n",
    "cv = joblib.load(\"Version1/HO/presence_TfidfVectorizer.joblib\")\n",
    "\n",
    "# -----Model Loading'\n",
    "clf = joblib.load(\"Version1/HO/lr_presence_classifier.joblib\")\n",
    "\n",
    "# -----Print the model parameters\n",
    "print(\"The hyperparameters of the model:\\n{}\\n\".format(clf.get_params()))\n",
    "\n",
    "\n",
    "# -----Make predictions on the testing dataset\n",
    "# apply the pretrained model to the new content data\n",
    "pred_vec = clf.predict(cv.transform(data['content']))\n",
    "\n",
    "# ---------- apply threshold to be 0.8\n",
    "# pre_pred_vec = (presence_model.predict_proba(presence_cv.transform(presence_pred['content']))[ : , 1] >= 0.8).astype(int)\n",
    "\n",
    "data['prediction'] = pred_vec.tolist()\n",
    "\n",
    "# ----dark pattern content are those where the predicted result equals to 0.\n",
    "dark = data.loc[data['prediction']==0]\n",
    "\n",
    "dark.to_csv('DP/V5-lr.csv', index = False, header = True)\n",
    "\n",
    "# ----misclassification dataframe\n",
    "mis = data.loc[data['Classification'] != data['prediction']]\n",
    "\n",
    "mis.to_csv('Misclassification/V5-lr.csv', index = False, header = True)\n",
    "\n",
    "# ----print the distribution of the prediction\n",
    "(unique, counts) = np.unique(pred_vec, return_counts=True)\n",
    "frequencies = np.asarray((unique, counts)).T\n",
    "print(\"The distribution of the prediction: \\n{}\\n\".format(frequencies))\n",
    "\n",
    "# ----Overview of the prediction results\n",
    "print(\"Accuracy:\", metrics.accuracy_score(data['Classification'], pred_vec))\n",
    "print(\"Precision:\", metrics.precision_score(data['Classification'],pred_vec, pos_label=0))\n",
    "print(\"Confusion Matrix:\\n\", metrics.confusion_matrix(data['Classification'], pred_vec))\n"
   ]
  },
  {
   "cell_type": "code",
   "execution_count": null,
   "metadata": {},
   "outputs": [],
   "source": []
  },
  {
   "cell_type": "markdown",
   "metadata": {},
   "source": [
    "### Version 6: Old version -- CV\n",
    "------"
   ]
  },
  {
   "cell_type": "code",
   "execution_count": 21,
   "metadata": {},
   "outputs": [
    {
     "name": "stdout",
     "output_type": "stream",
     "text": [
      "The hyperparameters of the model:\n",
      "{'cv': 5, 'error_score': nan, 'estimator__C': 1.0, 'estimator__class_weight': None, 'estimator__dual': False, 'estimator__fit_intercept': True, 'estimator__intercept_scaling': 1, 'estimator__l1_ratio': None, 'estimator__max_iter': 100, 'estimator__multi_class': 'auto', 'estimator__n_jobs': None, 'estimator__penalty': 'l2', 'estimator__random_state': None, 'estimator__solver': 'lbfgs', 'estimator__tol': 0.0001, 'estimator__verbose': 0, 'estimator__warm_start': False, 'estimator': LogisticRegression(), 'iid': 'deprecated', 'n_jobs': -1, 'param_grid': {'penalty': ['l1', 'l2'], 'solver': ['lbfgs', 'newton-cg', 'sag']}, 'pre_dispatch': '2*n_jobs', 'refit': True, 'return_train_score': False, 'scoring': None, 'verbose': 1}\n",
      "\n",
      "The distribution of the prediction: \n",
      "[[   0    1]\n",
      " [   1 3023]]\n",
      "\n",
      "Accuracy: 0.9996693121693122\n",
      "Precision: 0.0\n",
      "Confusion Matrix:\n",
      " [[   0    0]\n",
      " [   1 3023]]\n"
     ]
    }
   ],
   "source": [
    "# -----Text Vectorizer Loading\n",
    "cv = joblib.load(\"Version1/CV/presence_TfidfVectorizer.joblib\")\n",
    "\n",
    "# -----Model Loading'\n",
    "clf = joblib.load(\"Version1/CV/lr_presence_classifier.joblib\")\n",
    "\n",
    "# -----Print the model parameters\n",
    "print(\"The hyperparameters of the model:\\n{}\\n\".format(clf.get_params()))\n",
    "\n",
    "\n",
    "# -----Make predictions on the testing dataset\n",
    "# apply the pretrained model to the new content data\n",
    "pred_vec = clf.predict(cv.transform(data['content']))\n",
    "\n",
    "# ---------- apply threshold to be 0.8\n",
    "# pre_pred_vec = (presence_model.predict_proba(presence_cv.transform(presence_pred['content']))[ : , 1] >= 0.8).astype(int)\n",
    "\n",
    "data['prediction'] = pred_vec.tolist()\n",
    "\n",
    "# ----dark pattern content are those where the predicted result equals to 0.\n",
    "dark = data.loc[data['prediction']==0]\n",
    "\n",
    "dark.to_csv('DP/V6-lr.csv', index = False, header = True)\n",
    "\n",
    "# ----misclassification dataframe\n",
    "mis = data.loc[data['Classification'] != data['prediction']]\n",
    "\n",
    "mis.to_csv('Misclassification/V6-lr.csv', index = False, header = True)\n",
    "\n",
    "# ----print the distribution of the prediction\n",
    "(unique, counts) = np.unique(pred_vec, return_counts=True)\n",
    "frequencies = np.asarray((unique, counts)).T\n",
    "print(\"The distribution of the prediction: \\n{}\\n\".format(frequencies))\n",
    "\n",
    "# ----Overview of the prediction results\n",
    "print(\"Accuracy:\", metrics.accuracy_score(data['Classification'], pred_vec))\n",
    "print(\"Precision:\", metrics.precision_score(data['Classification'],pred_vec, pos_label=0))\n",
    "print(\"Confusion Matrix:\\n\", metrics.confusion_matrix(data['Classification'], pred_vec))\n"
   ]
  },
  {
   "cell_type": "code",
   "execution_count": null,
   "metadata": {},
   "outputs": [],
   "source": []
  },
  {
   "cell_type": "code",
   "execution_count": null,
   "metadata": {},
   "outputs": [],
   "source": []
  },
  {
   "cell_type": "markdown",
   "metadata": {},
   "source": [
    "---\n",
    "# Support Vector Machine Classifier\n"
   ]
  },
  {
   "cell_type": "markdown",
   "metadata": {},
   "source": [
    "### Version 1 : Cased -- HO\n",
    "------"
   ]
  },
  {
   "cell_type": "code",
   "execution_count": 22,
   "metadata": {},
   "outputs": [
    {
     "name": "stdout",
     "output_type": "stream",
     "text": [
      "The hyperparameters of the model:\n",
      "{'cv': 5, 'error_score': nan, 'estimator__C': 1.0, 'estimator__class_weight': None, 'estimator__dual': True, 'estimator__fit_intercept': True, 'estimator__intercept_scaling': 1, 'estimator__loss': 'squared_hinge', 'estimator__max_iter': 1000, 'estimator__multi_class': 'ovr', 'estimator__penalty': 'l2', 'estimator__random_state': None, 'estimator__tol': 0.0001, 'estimator__verbose': 0, 'estimator': LinearSVC(), 'iid': 'deprecated', 'n_jobs': -1, 'param_grid': {'C': [0.1, 1, 10, 100], 'penalty': ['l1', 'l2']}, 'pre_dispatch': '2*n_jobs', 'refit': True, 'return_train_score': False, 'scoring': None, 'verbose': 1}\n",
      "\n",
      "The distribution of the prediction: \n",
      "[[   0    7]\n",
      " [   1 3017]]\n",
      "\n",
      "Accuracy: 0.9976851851851852\n",
      "Precision: 0.0\n",
      "Confusion Matrix:\n",
      " [[   0    0]\n",
      " [   7 3017]]\n"
     ]
    }
   ],
   "source": [
    "# -----Text Vectorizer Loading\n",
    "cv = joblib.load(\"Version2/Cased/HO/presence_TfidfVectorizer.joblib\")\n",
    "\n",
    "# -----Model Loading'\n",
    "clf = joblib.load(\"Version2/Cased/HO/svm_presence_classifier.joblib\")\n",
    "\n",
    "# -----Print the model parameters\n",
    "print(\"The hyperparameters of the model:\\n{}\\n\".format(clf.get_params()))\n",
    "\n",
    "\n",
    "# -----Make predictions on the testing dataset\n",
    "# apply the pretrained model to the new content data\n",
    "pred_vec = clf.predict(cv.transform(data['content']))\n",
    "\n",
    "# ---------- apply threshold to be 0.8\n",
    "# pre_pred_vec = (presence_model.predict_proba(presence_cv.transform(presence_pred['content']))[ : , 1] >= 0.8).astype(int)\n",
    "\n",
    "data['prediction'] = pred_vec.tolist()\n",
    "\n",
    "# ----dark pattern content are those where the predicted result equals to 0.\n",
    "dark = data.loc[data['prediction']==0]\n",
    "\n",
    "dark.to_csv('DP/V1-svm.csv', index = False, header = True)\n",
    "\n",
    "# ----misclassification dataframe\n",
    "mis = data.loc[data['Classification'] != data['prediction']]\n",
    "\n",
    "mis.to_csv('Misclassification/V1-svm.csv', index = False, header = True)\n",
    "\n",
    "# ----print the distribution of the prediction\n",
    "(unique, counts) = np.unique(pred_vec, return_counts=True)\n",
    "frequencies = np.asarray((unique, counts)).T\n",
    "print(\"The distribution of the prediction: \\n{}\\n\".format(frequencies))\n",
    "\n",
    "# ----Overview of the prediction results\n",
    "print(\"Accuracy:\", metrics.accuracy_score(data['Classification'], pred_vec))\n",
    "print(\"Precision:\", metrics.precision_score(data['Classification'],pred_vec, pos_label=0))\n",
    "print(\"Confusion Matrix:\\n\", metrics.confusion_matrix(data['Classification'], pred_vec))\n"
   ]
  },
  {
   "cell_type": "code",
   "execution_count": null,
   "metadata": {},
   "outputs": [],
   "source": []
  },
  {
   "cell_type": "markdown",
   "metadata": {},
   "source": [
    "### Version 2 :  Cased -- CV\n",
    "------"
   ]
  },
  {
   "cell_type": "code",
   "execution_count": 23,
   "metadata": {},
   "outputs": [
    {
     "name": "stdout",
     "output_type": "stream",
     "text": [
      "The hyperparameters of the model:\n",
      "{'C': 1, 'class_weight': None, 'dual': True, 'fit_intercept': True, 'intercept_scaling': 1, 'loss': 'squared_hinge', 'max_iter': 1000, 'multi_class': 'ovr', 'penalty': 'l2', 'random_state': None, 'tol': 0.0001, 'verbose': 0}\n",
      "\n",
      "The distribution of the prediction: \n",
      "[[   0    2]\n",
      " [   1 3022]]\n",
      "\n",
      "Accuracy: 0.9993386243386243\n",
      "Precision: 0.0\n",
      "Confusion Matrix:\n",
      " [[   0    0]\n",
      " [   2 3022]]\n"
     ]
    }
   ],
   "source": [
    "# -----Text Vectorizer Loading\n",
    "cv = joblib.load(\"Version2/Cased/CV/presence_TfidfVectorizer.joblib\")\n",
    "\n",
    "# -----Model Loading'\n",
    "clf = joblib.load(\"Version2/Cased/CV/svm_presence_classifier.joblib\")\n",
    "\n",
    "# -----Print the model parameters\n",
    "print(\"The hyperparameters of the model:\\n{}\\n\".format(clf.get_params()))\n",
    "\n",
    "\n",
    "# -----Make predictions on the testing dataset\n",
    "# apply the pretrained model to the new content data\n",
    "pred_vec = clf.predict(cv.transform(data['content']))\n",
    "\n",
    "# ---------- apply threshold to be 0.8\n",
    "# pre_pred_vec = (presence_model.predict_proba(presence_cv.transform(presence_pred['content']))[ : , 1] >= 0.8).astype(int)\n",
    "\n",
    "data['prediction'] = pred_vec.tolist()\n",
    "\n",
    "# ----dark pattern content are those where the predicted result equals to 0.\n",
    "dark = data.loc[data['prediction']==0]\n",
    "\n",
    "dark.to_csv('DP/V2-svm.csv', index = False, header = True)\n",
    "\n",
    "# ----misclassification dataframe\n",
    "mis = data.loc[data['Classification'] != data['prediction']]\n",
    "\n",
    "mis.to_csv('Misclassification/V2-svm.csv', index = False, header = True)\n",
    "\n",
    "# ----print the distribution of the prediction\n",
    "(unique, counts) = np.unique(pred_vec, return_counts=True)\n",
    "frequencies = np.asarray((unique, counts)).T\n",
    "print(\"The distribution of the prediction: \\n{}\\n\".format(frequencies))\n",
    "\n",
    "# ----Overview of the prediction results\n",
    "print(\"Accuracy:\", metrics.accuracy_score(data['Classification'], pred_vec))\n",
    "print(\"Precision:\", metrics.precision_score(data['Classification'],pred_vec, pos_label=0))\n",
    "print(\"Confusion Matrix:\\n\", metrics.confusion_matrix(data['Classification'], pred_vec))\n"
   ]
  },
  {
   "cell_type": "code",
   "execution_count": null,
   "metadata": {},
   "outputs": [],
   "source": []
  },
  {
   "cell_type": "markdown",
   "metadata": {},
   "source": [
    "### Version 3: Uncased -- HO\n",
    "------"
   ]
  },
  {
   "cell_type": "code",
   "execution_count": 24,
   "metadata": {},
   "outputs": [
    {
     "name": "stdout",
     "output_type": "stream",
     "text": [
      "The hyperparameters of the model:\n",
      "{'cv': 5, 'error_score': nan, 'estimator__C': 1.0, 'estimator__class_weight': None, 'estimator__dual': True, 'estimator__fit_intercept': True, 'estimator__intercept_scaling': 1, 'estimator__loss': 'squared_hinge', 'estimator__max_iter': 1000, 'estimator__multi_class': 'ovr', 'estimator__penalty': 'l2', 'estimator__random_state': None, 'estimator__tol': 0.0001, 'estimator__verbose': 0, 'estimator': LinearSVC(), 'iid': 'deprecated', 'n_jobs': -1, 'param_grid': {'C': [0.1, 1, 10, 100], 'penalty': ['l1', 'l2']}, 'pre_dispatch': '2*n_jobs', 'refit': True, 'return_train_score': False, 'scoring': None, 'verbose': 1}\n",
      "\n",
      "The distribution of the prediction: \n",
      "[[   0    6]\n",
      " [   1 3018]]\n",
      "\n",
      "Accuracy: 0.998015873015873\n",
      "Precision: 0.0\n",
      "Confusion Matrix:\n",
      " [[   0    0]\n",
      " [   6 3018]]\n"
     ]
    }
   ],
   "source": [
    "# -----Text Vectorizer Loading\n",
    "cv = joblib.load(\"Version2/Uncased/HO/presence_TfidfVectorizer.joblib\")\n",
    "\n",
    "# -----Model Loading'\n",
    "clf = joblib.load(\"Version2/Uncased/HO/svm_presence_classifier.joblib\")\n",
    "\n",
    "# -----Print the model parameters\n",
    "print(\"The hyperparameters of the model:\\n{}\\n\".format(clf.get_params()))\n",
    "\n",
    "\n",
    "# -----Make predictions on the testing dataset\n",
    "# apply the pretrained model to the new content data\n",
    "pred_vec = clf.predict(cv.transform(data['content'].str.lower()))\n",
    "\n",
    "# ---------- apply threshold to be 0.8\n",
    "# pre_pred_vec = (presence_model.predict_proba(presence_cv.transform(presence_pred['content']))[ : , 1] >= 0.8).astype(int)\n",
    "\n",
    "data['prediction'] = pred_vec.tolist()\n",
    "\n",
    "# ----dark pattern content are those where the predicted result equals to 0.\n",
    "dark = data.loc[data['prediction']==0]\n",
    "\n",
    "dark.to_csv('DP/V3-svm.csv', index = False, header = True)\n",
    "\n",
    "# ----misclassification dataframe\n",
    "mis = data.loc[data['Classification'] != data['prediction']]\n",
    "\n",
    "mis.to_csv('Misclassification/V3-svm.csv', index = False, header = True)\n",
    "\n",
    "# ----print the distribution of the prediction\n",
    "(unique, counts) = np.unique(pred_vec, return_counts=True)\n",
    "frequencies = np.asarray((unique, counts)).T\n",
    "print(\"The distribution of the prediction: \\n{}\\n\".format(frequencies))\n",
    "\n",
    "# ----Overview of the prediction results\n",
    "print(\"Accuracy:\", metrics.accuracy_score(data['Classification'], pred_vec))\n",
    "print(\"Precision:\", metrics.precision_score(data['Classification'],pred_vec, pos_label=0))\n",
    "print(\"Confusion Matrix:\\n\", metrics.confusion_matrix(data['Classification'], pred_vec))\n"
   ]
  },
  {
   "cell_type": "code",
   "execution_count": null,
   "metadata": {},
   "outputs": [],
   "source": []
  },
  {
   "cell_type": "markdown",
   "metadata": {},
   "source": [
    "### Version 4: Uncased -- CV\n",
    "------"
   ]
  },
  {
   "cell_type": "code",
   "execution_count": 25,
   "metadata": {},
   "outputs": [
    {
     "name": "stdout",
     "output_type": "stream",
     "text": [
      "The hyperparameters of the model:\n",
      "{'C': 1, 'class_weight': None, 'dual': True, 'fit_intercept': True, 'intercept_scaling': 1, 'loss': 'squared_hinge', 'max_iter': 1000, 'multi_class': 'ovr', 'penalty': 'l2', 'random_state': None, 'tol': 0.0001, 'verbose': 0}\n",
      "\n",
      "The distribution of the prediction: \n",
      "[[   0    2]\n",
      " [   1 3022]]\n",
      "\n",
      "Accuracy: 0.9993386243386243\n",
      "Precision: 0.0\n",
      "Confusion Matrix:\n",
      " [[   0    0]\n",
      " [   2 3022]]\n"
     ]
    }
   ],
   "source": [
    "# -----Text Vectorizer Loading\n",
    "cv = joblib.load(\"Version2/Uncased/CV/presence_TfidfVectorizer.joblib\")\n",
    "\n",
    "# -----Model Loading'\n",
    "clf = joblib.load(\"Version2/Uncased/CV/svm_presence_classifier.joblib\")\n",
    "\n",
    "# -----Print the model parameters\n",
    "print(\"The hyperparameters of the model:\\n{}\\n\".format(clf.get_params()))\n",
    "\n",
    "\n",
    "# -----Make predictions on the testing dataset\n",
    "# apply the pretrained model to the new content data\n",
    "pred_vec = clf.predict(cv.transform(data['content'].str.lower()))\n",
    "\n",
    "# ---------- apply threshold to be 0.8\n",
    "# pre_pred_vec = (presence_model.predict_proba(presence_cv.transform(presence_pred['content']))[ : , 1] >= 0.8).astype(int)\n",
    "\n",
    "data['prediction'] = pred_vec.tolist()\n",
    "\n",
    "# ----dark pattern content are those where the predicted result equals to 0.\n",
    "dark = data.loc[data['prediction']==0]\n",
    "\n",
    "dark.to_csv('DP/V4-svm.csv', index = False, header = True)\n",
    "\n",
    "# ----misclassification dataframe\n",
    "mis = data.loc[data['Classification'] != data['prediction']]\n",
    "\n",
    "mis.to_csv('Misclassification/V4-svm.csv', index = False, header = True)\n",
    "\n",
    "# ----print the distribution of the prediction\n",
    "(unique, counts) = np.unique(pred_vec, return_counts=True)\n",
    "frequencies = np.asarray((unique, counts)).T\n",
    "print(\"The distribution of the prediction: \\n{}\\n\".format(frequencies))\n",
    "\n",
    "# ----Overview of the prediction results\n",
    "print(\"Accuracy:\", metrics.accuracy_score(data['Classification'], pred_vec))\n",
    "print(\"Precision:\", metrics.precision_score(data['Classification'],pred_vec, pos_label=0))\n",
    "print(\"Confusion Matrix:\\n\", metrics.confusion_matrix(data['Classification'], pred_vec))\n"
   ]
  },
  {
   "cell_type": "code",
   "execution_count": null,
   "metadata": {},
   "outputs": [],
   "source": []
  },
  {
   "cell_type": "markdown",
   "metadata": {},
   "source": [
    "### Version 5: Old version -- HO\n",
    "------"
   ]
  },
  {
   "cell_type": "code",
   "execution_count": 26,
   "metadata": {},
   "outputs": [
    {
     "name": "stdout",
     "output_type": "stream",
     "text": [
      "The hyperparameters of the model:\n",
      "{'cv': 5, 'error_score': nan, 'estimator__C': 1.0, 'estimator__class_weight': None, 'estimator__dual': True, 'estimator__fit_intercept': True, 'estimator__intercept_scaling': 1, 'estimator__loss': 'squared_hinge', 'estimator__max_iter': 1000, 'estimator__multi_class': 'ovr', 'estimator__penalty': 'l2', 'estimator__random_state': None, 'estimator__tol': 0.0001, 'estimator__verbose': 0, 'estimator': LinearSVC(), 'iid': 'deprecated', 'n_jobs': -1, 'param_grid': {'C': [0.1, 1, 10, 100], 'penalty': ['l1', 'l2']}, 'pre_dispatch': '2*n_jobs', 'refit': True, 'return_train_score': False, 'scoring': None, 'verbose': 1}\n",
      "\n",
      "The distribution of the prediction: \n",
      "[[   0    3]\n",
      " [   1 3021]]\n",
      "\n",
      "Accuracy: 0.9990079365079365\n",
      "Precision: 0.0\n",
      "Confusion Matrix:\n",
      " [[   0    0]\n",
      " [   3 3021]]\n"
     ]
    }
   ],
   "source": [
    "# -----Text Vectorizer Loading\n",
    "cv = joblib.load(\"Version1/HO/presence_TfidfVectorizer.joblib\")\n",
    "\n",
    "# -----Model Loading'\n",
    "clf = joblib.load(\"Version1/HO/svm_presence_classifier.joblib\")\n",
    "\n",
    "# -----Print the model parameters\n",
    "print(\"The hyperparameters of the model:\\n{}\\n\".format(clf.get_params()))\n",
    "\n",
    "\n",
    "# -----Make predictions on the testing dataset\n",
    "# apply the pretrained model to the new content data\n",
    "pred_vec = clf.predict(cv.transform(data['content']))\n",
    "\n",
    "# ---------- apply threshold to be 0.8\n",
    "# pre_pred_vec = (presence_model.predict_proba(presence_cv.transform(presence_pred['content']))[ : , 1] >= 0.8).astype(int)\n",
    "\n",
    "data['prediction'] = pred_vec.tolist()\n",
    "\n",
    "# ----dark pattern content are those where the predicted result equals to 0.\n",
    "dark = data.loc[data['prediction']==0]\n",
    "\n",
    "dark.to_csv('DP/V5-svm.csv', index = False, header = True)\n",
    "\n",
    "# ----misclassification dataframe\n",
    "mis = data.loc[data['Classification'] != data['prediction']]\n",
    "\n",
    "mis.to_csv('Misclassification/V5-svm.csv', index = False, header = True)\n",
    "\n",
    "# ----print the distribution of the prediction\n",
    "(unique, counts) = np.unique(pred_vec, return_counts=True)\n",
    "frequencies = np.asarray((unique, counts)).T\n",
    "print(\"The distribution of the prediction: \\n{}\\n\".format(frequencies))\n",
    "\n",
    "# ----Overview of the prediction results\n",
    "print(\"Accuracy:\", metrics.accuracy_score(data['Classification'], pred_vec))\n",
    "print(\"Precision:\", metrics.precision_score(data['Classification'],pred_vec, pos_label=0))\n",
    "print(\"Confusion Matrix:\\n\", metrics.confusion_matrix(data['Classification'], pred_vec))\n"
   ]
  },
  {
   "cell_type": "code",
   "execution_count": null,
   "metadata": {},
   "outputs": [],
   "source": []
  },
  {
   "cell_type": "markdown",
   "metadata": {},
   "source": [
    "### Version 6: Old version -- CV\n",
    "------"
   ]
  },
  {
   "cell_type": "code",
   "execution_count": 27,
   "metadata": {},
   "outputs": [
    {
     "name": "stdout",
     "output_type": "stream",
     "text": [
      "The hyperparameters of the model:\n",
      "{'cv': 5, 'error_score': nan, 'estimator__C': 1.0, 'estimator__class_weight': None, 'estimator__dual': True, 'estimator__fit_intercept': True, 'estimator__intercept_scaling': 1, 'estimator__loss': 'squared_hinge', 'estimator__max_iter': 1000, 'estimator__multi_class': 'ovr', 'estimator__penalty': 'l2', 'estimator__random_state': None, 'estimator__tol': 0.0001, 'estimator__verbose': 0, 'estimator': LinearSVC(), 'iid': 'deprecated', 'n_jobs': -1, 'param_grid': {'C': [0.1, 1, 10, 100], 'penalty': ['l1', 'l2']}, 'pre_dispatch': '2*n_jobs', 'refit': True, 'return_train_score': False, 'scoring': None, 'verbose': 1}\n",
      "\n",
      "The distribution of the prediction: \n",
      "[[   0    3]\n",
      " [   1 3021]]\n",
      "\n",
      "Accuracy: 0.9990079365079365\n",
      "Precision: 0.0\n",
      "Confusion Matrix:\n",
      " [[   0    0]\n",
      " [   3 3021]]\n"
     ]
    }
   ],
   "source": [
    "# -----Text Vectorizer Loading\n",
    "cv = joblib.load(\"Version1/CV/presence_TfidfVectorizer.joblib\")\n",
    "\n",
    "# -----Model Loading'\n",
    "clf = joblib.load(\"Version1/CV/svm_presence_classifier.joblib\")\n",
    "\n",
    "# -----Print the model parameters\n",
    "print(\"The hyperparameters of the model:\\n{}\\n\".format(clf.get_params()))\n",
    "\n",
    "\n",
    "# -----Make predictions on the testing dataset\n",
    "# apply the pretrained model to the new content data\n",
    "pred_vec = clf.predict(cv.transform(data['content']))\n",
    "\n",
    "# ---------- apply threshold to be 0.8\n",
    "# pre_pred_vec = (presence_model.predict_proba(presence_cv.transform(presence_pred['content']))[ : , 1] >= 0.8).astype(int)\n",
    "\n",
    "data['prediction'] = pred_vec.tolist()\n",
    "\n",
    "# ----dark pattern content are those where the predicted result equals to 0.\n",
    "dark = data.loc[data['prediction']==0]\n",
    "\n",
    "dark.to_csv('DP/V6-svm.csv', index = False, header = True)\n",
    "\n",
    "# ----misclassification dataframe\n",
    "mis = data.loc[data['Classification'] != data['prediction']]\n",
    "\n",
    "mis.to_csv('Misclassification/V6-svm.csv', index = False, header = True)\n",
    "\n",
    "# ----print the distribution of the prediction\n",
    "(unique, counts) = np.unique(pred_vec, return_counts=True)\n",
    "frequencies = np.asarray((unique, counts)).T\n",
    "print(\"The distribution of the prediction: \\n{}\\n\".format(frequencies))\n",
    "\n",
    "# ----Overview of the prediction results\n",
    "print(\"Accuracy:\", metrics.accuracy_score(data['Classification'], pred_vec))\n",
    "print(\"Precision:\", metrics.precision_score(data['Classification'],pred_vec, pos_label=0))\n",
    "print(\"Confusion Matrix:\\n\", metrics.confusion_matrix(data['Classification'], pred_vec))\n"
   ]
  },
  {
   "cell_type": "code",
   "execution_count": null,
   "metadata": {},
   "outputs": [],
   "source": []
  },
  {
   "cell_type": "markdown",
   "metadata": {},
   "source": [
    "---\n",
    "# Random Forest Classifier\n"
   ]
  },
  {
   "cell_type": "markdown",
   "metadata": {},
   "source": [
    "### Version 1 : Cased -- HO\n",
    "------"
   ]
  },
  {
   "cell_type": "code",
   "execution_count": 28,
   "metadata": {},
   "outputs": [
    {
     "name": "stdout",
     "output_type": "stream",
     "text": [
      "The hyperparameters of the model:\n",
      "{'cv': 5, 'error_score': nan, 'estimator__bootstrap': True, 'estimator__ccp_alpha': 0.0, 'estimator__class_weight': None, 'estimator__criterion': 'gini', 'estimator__max_depth': None, 'estimator__max_features': 'auto', 'estimator__max_leaf_nodes': None, 'estimator__max_samples': None, 'estimator__min_impurity_decrease': 0.0, 'estimator__min_impurity_split': None, 'estimator__min_samples_leaf': 1, 'estimator__min_samples_split': 2, 'estimator__min_weight_fraction_leaf': 0.0, 'estimator__n_estimators': 100, 'estimator__n_jobs': None, 'estimator__oob_score': False, 'estimator__random_state': None, 'estimator__verbose': 0, 'estimator__warm_start': False, 'estimator': RandomForestClassifier(), 'iid': 'deprecated', 'n_jobs': -1, 'param_grid': {'bootstrap': [True, False], 'criterion': ['gini', 'entropy'], 'max_depth': [10, 20, 30, 40, 50, None], 'min_samples_leaf': [1, 2, 4], 'min_samples_split': [2, 5, 10], 'n_estimators': [100, 200, 300]}, 'pre_dispatch': '2*n_jobs', 'refit': True, 'return_train_score': False, 'scoring': None, 'verbose': 1}\n",
      "\n",
      "The distribution of the prediction: \n",
      "[[   0    3]\n",
      " [   1 3021]]\n",
      "\n",
      "Accuracy: 0.9990079365079365\n",
      "Precision: 0.0\n",
      "Confusion Matrix:\n",
      " [[   0    0]\n",
      " [   3 3021]]\n"
     ]
    }
   ],
   "source": [
    "# -----Text Vectorizer Loading\n",
    "cv = joblib.load(\"Version2/Cased/HO/presence_TfidfVectorizer.joblib\")\n",
    "\n",
    "# -----Model Loading'\n",
    "clf = joblib.load(\"Version2/Cased/HO/rf_presence_classifier.joblib\")\n",
    "\n",
    "# -----Print the model parameters\n",
    "print(\"The hyperparameters of the model:\\n{}\\n\".format(clf.get_params()))\n",
    "\n",
    "\n",
    "# -----Make predictions on the testing dataset\n",
    "# apply the pretrained model to the new content data\n",
    "pred_vec = clf.predict(cv.transform(data['content']))\n",
    "\n",
    "# ---------- apply threshold to be 0.8\n",
    "# pre_pred_vec = (presence_model.predict_proba(presence_cv.transform(presence_pred['content']))[ : , 1] >= 0.8).astype(int)\n",
    "\n",
    "data['prediction'] = pred_vec.tolist()\n",
    "\n",
    "# ----dark pattern content are those where the predicted result equals to 0.\n",
    "dark = data.loc[data['prediction']==0]\n",
    "\n",
    "dark.to_csv('DP/V1-rf.csv', index = False, header = True)\n",
    "\n",
    "# ----misclassification dataframe\n",
    "mis = data.loc[data['Classification'] != data['prediction']]\n",
    "\n",
    "mis.to_csv('Misclassification/V1-rf.csv', index = False, header = True)\n",
    "\n",
    "# ----print the distribution of the prediction\n",
    "(unique, counts) = np.unique(pred_vec, return_counts=True)\n",
    "frequencies = np.asarray((unique, counts)).T\n",
    "print(\"The distribution of the prediction: \\n{}\\n\".format(frequencies))\n",
    "\n",
    "# ----Overview of the prediction results\n",
    "print(\"Accuracy:\", metrics.accuracy_score(data['Classification'], pred_vec))\n",
    "print(\"Precision:\", metrics.precision_score(data['Classification'],pred_vec, pos_label=0))\n",
    "print(\"Confusion Matrix:\\n\", metrics.confusion_matrix(data['Classification'], pred_vec))\n"
   ]
  },
  {
   "cell_type": "code",
   "execution_count": null,
   "metadata": {},
   "outputs": [],
   "source": []
  },
  {
   "cell_type": "markdown",
   "metadata": {},
   "source": [
    "### Version 2 :  Cased -- CV\n",
    "------"
   ]
  },
  {
   "cell_type": "code",
   "execution_count": 29,
   "metadata": {},
   "outputs": [
    {
     "name": "stdout",
     "output_type": "stream",
     "text": [
      "The hyperparameters of the model:\n",
      "{'bootstrap': False, 'ccp_alpha': 0.0, 'class_weight': None, 'criterion': 'gini', 'max_depth': None, 'max_features': 'auto', 'max_leaf_nodes': None, 'max_samples': None, 'min_impurity_decrease': 0.0, 'min_impurity_split': None, 'min_samples_leaf': 1, 'min_samples_split': 2, 'min_weight_fraction_leaf': 0.0, 'n_estimators': 100, 'n_jobs': None, 'oob_score': False, 'random_state': None, 'verbose': 0, 'warm_start': False}\n",
      "\n",
      "The distribution of the prediction: \n",
      "[[   0    4]\n",
      " [   1 3020]]\n",
      "\n",
      "Accuracy: 0.9986772486772487\n",
      "Precision: 0.0\n",
      "Confusion Matrix:\n",
      " [[   0    0]\n",
      " [   4 3020]]\n"
     ]
    }
   ],
   "source": [
    "# -----Text Vectorizer Loading\n",
    "cv = joblib.load(\"Version2/Cased/CV/presence_TfidfVectorizer.joblib\")\n",
    "\n",
    "# -----Model Loading'\n",
    "clf = joblib.load(\"Version2/Cased/CV/rf_presence_classifier.joblib\")\n",
    "\n",
    "# -----Print the model parameters\n",
    "print(\"The hyperparameters of the model:\\n{}\\n\".format(clf.get_params()))\n",
    "\n",
    "\n",
    "# -----Make predictions on the testing dataset\n",
    "# apply the pretrained model to the new content data\n",
    "pred_vec = clf.predict(cv.transform(data['content']))\n",
    "\n",
    "# ---------- apply threshold to be 0.8\n",
    "# pre_pred_vec = (presence_model.predict_proba(presence_cv.transform(presence_pred['content']))[ : , 1] >= 0.8).astype(int)\n",
    "\n",
    "data['prediction'] = pred_vec.tolist()\n",
    "\n",
    "# ----dark pattern content are those where the predicted result equals to 0.\n",
    "dark = data.loc[data['prediction']==0]\n",
    "\n",
    "dark.to_csv('DP/V2-rf.csv', index = False, header = True)\n",
    "\n",
    "# ----misclassification dataframe\n",
    "mis = data.loc[data['Classification'] != data['prediction']]\n",
    "\n",
    "mis.to_csv('Misclassification/V2-rf.csv', index = False, header = True)\n",
    "\n",
    "# ----print the distribution of the prediction\n",
    "(unique, counts) = np.unique(pred_vec, return_counts=True)\n",
    "frequencies = np.asarray((unique, counts)).T\n",
    "print(\"The distribution of the prediction: \\n{}\\n\".format(frequencies))\n",
    "\n",
    "# ----Overview of the prediction results\n",
    "print(\"Accuracy:\", metrics.accuracy_score(data['Classification'], pred_vec))\n",
    "print(\"Precision:\", metrics.precision_score(data['Classification'],pred_vec, pos_label=0))\n",
    "print(\"Confusion Matrix:\\n\", metrics.confusion_matrix(data['Classification'], pred_vec))\n"
   ]
  },
  {
   "cell_type": "code",
   "execution_count": null,
   "metadata": {},
   "outputs": [],
   "source": []
  },
  {
   "cell_type": "markdown",
   "metadata": {},
   "source": [
    "### Version 3: Uncased -- HO\n",
    "------"
   ]
  },
  {
   "cell_type": "code",
   "execution_count": 30,
   "metadata": {},
   "outputs": [
    {
     "name": "stdout",
     "output_type": "stream",
     "text": [
      "The hyperparameters of the model:\n",
      "{'cv': 5, 'error_score': nan, 'estimator__bootstrap': True, 'estimator__ccp_alpha': 0.0, 'estimator__class_weight': None, 'estimator__criterion': 'gini', 'estimator__max_depth': None, 'estimator__max_features': 'auto', 'estimator__max_leaf_nodes': None, 'estimator__max_samples': None, 'estimator__min_impurity_decrease': 0.0, 'estimator__min_impurity_split': None, 'estimator__min_samples_leaf': 1, 'estimator__min_samples_split': 2, 'estimator__min_weight_fraction_leaf': 0.0, 'estimator__n_estimators': 100, 'estimator__n_jobs': None, 'estimator__oob_score': False, 'estimator__random_state': None, 'estimator__verbose': 0, 'estimator__warm_start': False, 'estimator': RandomForestClassifier(), 'iid': 'deprecated', 'n_jobs': -1, 'param_grid': {'bootstrap': [True, False], 'criterion': ['gini', 'entropy'], 'max_depth': [10, 20, 30, 40, 50, None], 'min_samples_leaf': [1, 2, 4], 'min_samples_split': [2, 5, 10], 'n_estimators': [100, 200, 300]}, 'pre_dispatch': '2*n_jobs', 'refit': True, 'return_train_score': False, 'scoring': None, 'verbose': 1}\n",
      "\n",
      "The distribution of the prediction: \n",
      "[[   0    3]\n",
      " [   1 3021]]\n",
      "\n",
      "Accuracy: 0.9990079365079365\n",
      "Precision: 0.0\n",
      "Confusion Matrix:\n",
      " [[   0    0]\n",
      " [   3 3021]]\n"
     ]
    }
   ],
   "source": [
    "# -----Text Vectorizer Loading\n",
    "cv = joblib.load(\"Version2/Uncased/HO/presence_TfidfVectorizer.joblib\")\n",
    "\n",
    "# -----Model Loading'\n",
    "clf = joblib.load(\"Version2/Uncased/HO/rf_presence_classifier.joblib\")\n",
    "\n",
    "# -----Print the model parameters\n",
    "print(\"The hyperparameters of the model:\\n{}\\n\".format(clf.get_params()))\n",
    "\n",
    "\n",
    "# -----Make predictions on the testing dataset\n",
    "# apply the pretrained model to the new content data\n",
    "pred_vec = clf.predict(cv.transform(data['content'].str.lower()))\n",
    "\n",
    "# ---------- apply threshold to be 0.8\n",
    "# pre_pred_vec = (presence_model.predict_proba(presence_cv.transform(presence_pred['content']))[ : , 1] >= 0.8).astype(int)\n",
    "\n",
    "data['prediction'] = pred_vec.tolist()\n",
    "\n",
    "# ----dark pattern content are those where the predicted result equals to 0.\n",
    "dark = data.loc[data['prediction']==0]\n",
    "\n",
    "dark.to_csv('DP/V3-rf.csv', index = False, header = True)\n",
    "\n",
    "# ----misclassification dataframe\n",
    "mis = data.loc[data['Classification'] != data['prediction']]\n",
    "\n",
    "mis.to_csv('Misclassification/V3-rf.csv', index = False, header = True)\n",
    "\n",
    "# ----print the distribution of the prediction\n",
    "(unique, counts) = np.unique(pred_vec, return_counts=True)\n",
    "frequencies = np.asarray((unique, counts)).T\n",
    "print(\"The distribution of the prediction: \\n{}\\n\".format(frequencies))\n",
    "\n",
    "# ----Overview of the prediction results\n",
    "print(\"Accuracy:\", metrics.accuracy_score(data['Classification'], pred_vec))\n",
    "print(\"Precision:\", metrics.precision_score(data['Classification'],pred_vec, pos_label=0))\n",
    "print(\"Confusion Matrix:\\n\", metrics.confusion_matrix(data['Classification'], pred_vec))\n"
   ]
  },
  {
   "cell_type": "code",
   "execution_count": null,
   "metadata": {},
   "outputs": [],
   "source": []
  },
  {
   "cell_type": "markdown",
   "metadata": {},
   "source": [
    "### Version 4: Uncased -- CV\n",
    "------"
   ]
  },
  {
   "cell_type": "code",
   "execution_count": 31,
   "metadata": {},
   "outputs": [
    {
     "name": "stdout",
     "output_type": "stream",
     "text": [
      "The hyperparameters of the model:\n",
      "{'bootstrap': False, 'ccp_alpha': 0.0, 'class_weight': None, 'criterion': 'entropy', 'max_depth': None, 'max_features': 'auto', 'max_leaf_nodes': None, 'max_samples': None, 'min_impurity_decrease': 0.0, 'min_impurity_split': None, 'min_samples_leaf': 1, 'min_samples_split': 2, 'min_weight_fraction_leaf': 0.0, 'n_estimators': 300, 'n_jobs': None, 'oob_score': False, 'random_state': None, 'verbose': 0, 'warm_start': False}\n",
      "\n",
      "The distribution of the prediction: \n",
      "[[   0    3]\n",
      " [   1 3021]]\n",
      "\n",
      "Accuracy: 0.9990079365079365\n",
      "Precision: 0.0\n",
      "Confusion Matrix:\n",
      " [[   0    0]\n",
      " [   3 3021]]\n"
     ]
    }
   ],
   "source": [
    "# -----Text Vectorizer Loading\n",
    "cv = joblib.load(\"Version2/Uncased/CV/presence_TfidfVectorizer.joblib\")\n",
    "\n",
    "# -----Model Loading'\n",
    "clf = joblib.load(\"Version2/Uncased/CV/rf_presence_classifier.joblib\")\n",
    "\n",
    "# -----Print the model parameters\n",
    "print(\"The hyperparameters of the model:\\n{}\\n\".format(clf.get_params()))\n",
    "\n",
    "\n",
    "# -----Make predictions on the testing dataset\n",
    "# apply the pretrained model to the new content data\n",
    "pred_vec = clf.predict(cv.transform(data['content'].str.lower()))\n",
    "\n",
    "# ---------- apply threshold to be 0.8\n",
    "# pre_pred_vec = (presence_model.predict_proba(presence_cv.transform(presence_pred['content']))[ : , 1] >= 0.8).astype(int)\n",
    "\n",
    "data['prediction'] = pred_vec.tolist()\n",
    "\n",
    "# ----dark pattern content are those where the predicted result equals to 0.\n",
    "dark = data.loc[data['prediction']==0]\n",
    "\n",
    "dark.to_csv('DP/V4-rf.csv', index = False, header = True)\n",
    "\n",
    "# ----misclassification dataframe\n",
    "mis = data.loc[data['Classification'] != data['prediction']]\n",
    "\n",
    "mis.to_csv('Misclassification/V4-rf.csv', index = False, header = True)\n",
    "\n",
    "# ----print the distribution of the prediction\n",
    "(unique, counts) = np.unique(pred_vec, return_counts=True)\n",
    "frequencies = np.asarray((unique, counts)).T\n",
    "print(\"The distribution of the prediction: \\n{}\\n\".format(frequencies))\n",
    "\n",
    "# ----Overview of the prediction results\n",
    "print(\"Accuracy:\", metrics.accuracy_score(data['Classification'], pred_vec))\n",
    "print(\"Precision:\", metrics.precision_score(data['Classification'],pred_vec, pos_label=0))\n",
    "print(\"Confusion Matrix:\\n\", metrics.confusion_matrix(data['Classification'], pred_vec))\n"
   ]
  },
  {
   "cell_type": "code",
   "execution_count": null,
   "metadata": {},
   "outputs": [],
   "source": []
  },
  {
   "cell_type": "markdown",
   "metadata": {},
   "source": [
    "### Version 5: Old version -- HO\n",
    "------"
   ]
  },
  {
   "cell_type": "code",
   "execution_count": 32,
   "metadata": {},
   "outputs": [
    {
     "name": "stdout",
     "output_type": "stream",
     "text": [
      "The hyperparameters of the model:\n",
      "{'cv': 5, 'error_score': nan, 'estimator__bootstrap': True, 'estimator__ccp_alpha': 0.0, 'estimator__class_weight': None, 'estimator__criterion': 'gini', 'estimator__max_depth': None, 'estimator__max_features': 'auto', 'estimator__max_leaf_nodes': None, 'estimator__max_samples': None, 'estimator__min_impurity_decrease': 0.0, 'estimator__min_impurity_split': None, 'estimator__min_samples_leaf': 1, 'estimator__min_samples_split': 2, 'estimator__min_weight_fraction_leaf': 0.0, 'estimator__n_estimators': 100, 'estimator__n_jobs': None, 'estimator__oob_score': False, 'estimator__random_state': None, 'estimator__verbose': 0, 'estimator__warm_start': False, 'estimator': RandomForestClassifier(), 'iid': 'deprecated', 'n_jobs': -1, 'param_grid': {'bootstrap': [True, False], 'criterion': ['gini', 'entropy'], 'max_depth': [10, 20, 30, 40, 50, None], 'min_samples_leaf': [1, 2, 4], 'min_samples_split': [2, 5, 10], 'n_estimators': [100, 200, 300]}, 'pre_dispatch': '2*n_jobs', 'refit': True, 'return_train_score': False, 'scoring': None, 'verbose': 1}\n",
      "\n",
      "The distribution of the prediction: \n",
      "[[   0    1]\n",
      " [   1 3023]]\n",
      "\n",
      "Accuracy: 0.9996693121693122\n",
      "Precision: 0.0\n",
      "Confusion Matrix:\n",
      " [[   0    0]\n",
      " [   1 3023]]\n"
     ]
    }
   ],
   "source": [
    "# -----Text Vectorizer Loading\n",
    "cv = joblib.load(\"Version1/HO/presence_TfidfVectorizer.joblib\")\n",
    "\n",
    "# -----Model Loading'\n",
    "clf = joblib.load(\"Version1/HO/rf_presence_classifier.joblib\")\n",
    "\n",
    "# -----Print the model parameters\n",
    "print(\"The hyperparameters of the model:\\n{}\\n\".format(clf.get_params()))\n",
    "\n",
    "\n",
    "# -----Make predictions on the testing dataset\n",
    "# apply the pretrained model to the new content data\n",
    "pred_vec = clf.predict(cv.transform(data['content']))\n",
    "\n",
    "# ---------- apply threshold to be 0.8\n",
    "# pre_pred_vec = (presence_model.predict_proba(presence_cv.transform(presence_pred['content']))[ : , 1] >= 0.8).astype(int)\n",
    "\n",
    "data['prediction'] = pred_vec.tolist()\n",
    "\n",
    "# ----dark pattern content are those where the predicted result equals to 0.\n",
    "dark = data.loc[data['prediction']==0]\n",
    "\n",
    "dark.to_csv('DP/V5-rf.csv', index = False, header = True)\n",
    "\n",
    "# ----misclassification dataframe\n",
    "mis = data.loc[data['Classification'] != data['prediction']]\n",
    "\n",
    "mis.to_csv('Misclassification/V5-rf.csv', index = False, header = True)\n",
    "\n",
    "# ----print the distribution of the prediction\n",
    "(unique, counts) = np.unique(pred_vec, return_counts=True)\n",
    "frequencies = np.asarray((unique, counts)).T\n",
    "print(\"The distribution of the prediction: \\n{}\\n\".format(frequencies))\n",
    "\n",
    "# ----Overview of the prediction results\n",
    "print(\"Accuracy:\", metrics.accuracy_score(data['Classification'], pred_vec))\n",
    "print(\"Precision:\", metrics.precision_score(data['Classification'],pred_vec, pos_label=0))\n",
    "print(\"Confusion Matrix:\\n\", metrics.confusion_matrix(data['Classification'], pred_vec))\n"
   ]
  },
  {
   "cell_type": "code",
   "execution_count": null,
   "metadata": {},
   "outputs": [],
   "source": []
  },
  {
   "cell_type": "markdown",
   "metadata": {},
   "source": [
    "### Version 6: Old version -- CV\n",
    "------"
   ]
  },
  {
   "cell_type": "code",
   "execution_count": 33,
   "metadata": {},
   "outputs": [
    {
     "name": "stdout",
     "output_type": "stream",
     "text": [
      "The hyperparameters of the model:\n",
      "{'cv': 5, 'error_score': nan, 'estimator__bootstrap': True, 'estimator__ccp_alpha': 0.0, 'estimator__class_weight': None, 'estimator__criterion': 'gini', 'estimator__max_depth': None, 'estimator__max_features': 'auto', 'estimator__max_leaf_nodes': None, 'estimator__max_samples': None, 'estimator__min_impurity_decrease': 0.0, 'estimator__min_impurity_split': None, 'estimator__min_samples_leaf': 1, 'estimator__min_samples_split': 2, 'estimator__min_weight_fraction_leaf': 0.0, 'estimator__n_estimators': 100, 'estimator__n_jobs': None, 'estimator__oob_score': False, 'estimator__random_state': None, 'estimator__verbose': 0, 'estimator__warm_start': False, 'estimator': RandomForestClassifier(), 'iid': 'deprecated', 'n_jobs': -1, 'param_grid': {'bootstrap': [True, False], 'criterion': ['gini', 'entropy'], 'max_depth': [10, 20, 30, 40, 50, None], 'min_samples_leaf': [1, 2, 4], 'min_samples_split': [2, 5, 10], 'n_estimators': [100, 200, 300]}, 'pre_dispatch': '2*n_jobs', 'refit': True, 'return_train_score': False, 'scoring': None, 'verbose': 1}\n",
      "\n",
      "The distribution of the prediction: \n",
      "[[   0    1]\n",
      " [   1 3023]]\n",
      "\n",
      "Accuracy: 0.9996693121693122\n",
      "Precision: 0.0\n",
      "Confusion Matrix:\n",
      " [[   0    0]\n",
      " [   1 3023]]\n"
     ]
    }
   ],
   "source": [
    "# -----Text Vectorizer Loading\n",
    "cv = joblib.load(\"Version1/CV/presence_TfidfVectorizer.joblib\")\n",
    "\n",
    "# -----Model Loading'\n",
    "clf = joblib.load(\"Version1/CV/rf_presence_classifier.joblib\")\n",
    "\n",
    "# -----Print the model parameters\n",
    "print(\"The hyperparameters of the model:\\n{}\\n\".format(clf.get_params()))\n",
    "\n",
    "\n",
    "# -----Make predictions on the testing dataset\n",
    "# apply the pretrained model to the new content data\n",
    "pred_vec = clf.predict(cv.transform(data['content']))\n",
    "\n",
    "# ---------- apply threshold to be 0.8\n",
    "# pre_pred_vec = (presence_model.predict_proba(presence_cv.transform(presence_pred['content']))[ : , 1] >= 0.8).astype(int)\n",
    "\n",
    "data['prediction'] = pred_vec.tolist()\n",
    "\n",
    "# ----dark pattern content are those where the predicted result equals to 0.\n",
    "dark = data.loc[data['prediction']==0]\n",
    "\n",
    "dark.to_csv('DP/V6-rf.csv', index = False, header = True)\n",
    "\n",
    "# ----misclassification dataframe\n",
    "mis = data.loc[data['Classification'] != data['prediction']]\n",
    "\n",
    "mis.to_csv('Misclassification/V6-rf.csv', index = False, header = True)\n",
    "\n",
    "# ----print the distribution of the prediction\n",
    "(unique, counts) = np.unique(pred_vec, return_counts=True)\n",
    "frequencies = np.asarray((unique, counts)).T\n",
    "print(\"The distribution of the prediction: \\n{}\\n\".format(frequencies))\n",
    "\n",
    "# ----Overview of the prediction results\n",
    "print(\"Accuracy:\", metrics.accuracy_score(data['Classification'], pred_vec))\n",
    "print(\"Precision:\", metrics.precision_score(data['Classification'],pred_vec, pos_label=0))\n",
    "print(\"Confusion Matrix:\\n\", metrics.confusion_matrix(data['Classification'], pred_vec))\n"
   ]
  },
  {
   "cell_type": "code",
   "execution_count": null,
   "metadata": {},
   "outputs": [],
   "source": []
  }
 ],
 "metadata": {
  "kernelspec": {
   "display_name": "Python 3",
   "language": "python",
   "name": "python3"
  },
  "language_info": {
   "codemirror_mode": {
    "name": "ipython",
    "version": 3
   },
   "file_extension": ".py",
   "mimetype": "text/x-python",
   "name": "python",
   "nbconvert_exporter": "python",
   "pygments_lexer": "ipython3",
   "version": "3.8.5"
  }
 },
 "nbformat": 4,
 "nbformat_minor": 4
}
