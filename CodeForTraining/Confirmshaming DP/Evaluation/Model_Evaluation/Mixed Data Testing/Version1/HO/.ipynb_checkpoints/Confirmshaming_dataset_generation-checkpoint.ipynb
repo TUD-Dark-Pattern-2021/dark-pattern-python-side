{
 "cells": [
  {
   "cell_type": "code",
   "execution_count": 1,
   "metadata": {},
   "outputs": [],
   "source": [
    "import pandas as pd \n",
    "import numpy as np"
   ]
  },
  {
   "cell_type": "code",
   "execution_count": 2,
   "metadata": {},
   "outputs": [
    {
     "name": "stdout",
     "output_type": "stream",
     "text": [
      "Distribution of the tags:\n",
      "1    6897\n",
      "0    1055\n",
      "Name: classification, dtype: int64\n",
      "\n",
      "Distribution of the tags:\n",
      "Not_Dark    7952\n",
      "Name: classification, dtype: int64\n"
     ]
    }
   ],
   "source": [
    "data = pd.read_csv('enriched_data.csv')\n",
    "\n",
    "# check the distribution of the target value --- classification.\n",
    "print('Distribution of the tags:\\n{}'.format(data['classification'].value_counts()))\n",
    "\n",
    "# ---Change all the labels into Not Dark\n",
    "data['classification'] = 'Not_Dark'\n",
    "print('\\nDistribution of the tags:\\n{}'.format(data['classification'].value_counts()))"
   ]
  },
  {
   "cell_type": "code",
   "execution_count": 3,
   "metadata": {},
   "outputs": [
    {
     "name": "stdout",
     "output_type": "stream",
     "text": [
      "Distribution of the tags:\n",
      "Dark    169\n",
      "Name: classification, dtype: int64\n"
     ]
    },
    {
     "name": "stderr",
     "output_type": "stream",
     "text": [
      "<ipython-input-3-68ef8281cbf5>:6: SettingWithCopyWarning: \n",
      "A value is trying to be set on a copy of a slice from a DataFrame.\n",
      "Try using .loc[row_indexer,col_indexer] = value instead\n",
      "\n",
      "See the caveats in the documentation: https://pandas.pydata.org/pandas-docs/stable/user_guide/indexing.html#returning-a-view-versus-a-copy\n",
      "  cs_df['classification'] = 'Dark'\n"
     ]
    }
   ],
   "source": [
    "# ---Get the Confirmshaming DP from the Princeton Dataset\n",
    "df = pd.read_csv('dark_patterns.csv')\n",
    "cs_df = df.loc[df['Pattern Type'] == 'Confirmshaming']\n",
    "\n",
    "# ---Change all the labels into Dark\n",
    "cs_df['classification'] = 'Dark'\n",
    "\n",
    "# --- Select two columns for merging and later training\n",
    "cs_df = cs_df[['Pattern String', 'classification']]\n",
    "\n",
    "# check the distribution of the target value --- classification.\n",
    "print('Distribution of the tags:\\n{}'.format(cs_df['classification'].value_counts()))"
   ]
  },
  {
   "cell_type": "code",
   "execution_count": 4,
   "metadata": {},
   "outputs": [
    {
     "name": "stdout",
     "output_type": "stream",
     "text": [
      "Distribution of the tags:\n",
      "Not_Dark    7952\n",
      "Dark         169\n",
      "Name: classification, dtype: int64\n"
     ]
    }
   ],
   "source": [
    "# ----Merge two dataset\n",
    "merged_data = pd.concat([data, cs_df])\n",
    "\n",
    "# check the distribution of the target value --- classification.\n",
    "print('Distribution of the tags:\\n{}'.format(merged_data['classification'].value_counts()))"
   ]
  },
  {
   "cell_type": "code",
   "execution_count": 5,
   "metadata": {},
   "outputs": [
    {
     "name": "stdout",
     "output_type": "stream",
     "text": [
      "Distribution of the tags:\n",
      "Not_Dark    7952\n",
      "Dark         129\n",
      "Name: classification, dtype: int64\n"
     ]
    }
   ],
   "source": [
    "# For later training the model, we should remove the duplicate input to reduce overfitting.\n",
    "confirm_df = merged_data.drop_duplicates(subset=\"Pattern String\")\n",
    "\n",
    "# check the distribution of the target value --- classification.\n",
    "print('Distribution of the tags:\\n{}'.format(confirm_df['classification'].value_counts()))"
   ]
  },
  {
   "cell_type": "code",
   "execution_count": 6,
   "metadata": {},
   "outputs": [],
   "source": [
    "confirm_df.to_csv('confirm_df.csv', index = False, header = True)"
   ]
  },
  {
   "cell_type": "code",
   "execution_count": null,
   "metadata": {},
   "outputs": [],
   "source": []
  }
 ],
 "metadata": {
  "kernelspec": {
   "display_name": "Python 3",
   "language": "python",
   "name": "python3"
  },
  "language_info": {
   "codemirror_mode": {
    "name": "ipython",
    "version": 3
   },
   "file_extension": ".py",
   "mimetype": "text/x-python",
   "name": "python",
   "nbconvert_exporter": "python",
   "pygments_lexer": "ipython3",
   "version": "3.8.5"
  }
 },
 "nbformat": 4,
 "nbformat_minor": 4
}
