{
 "cells": [
  {
   "cell_type": "code",
   "execution_count": 1,
   "metadata": {},
   "outputs": [],
   "source": [
    "import pandas as pd\n",
    "import numpy as np\n",
    "\n",
    "# web scraper\n",
    "\n",
    "from selenium import webdriver\n",
    "from webdriver_manager.chrome import ChromeDriverManager\n",
    "import lxml.html\n",
    "import re\n",
    "import time\n",
    "\n",
    "# write to csv file\n",
    "\n",
    "import csv\n",
    "\n",
    "# joblib is a set of tools to provide lightweight pipelining in Python. It provides utilities for saving and loading Python objects that make use of NumPy data structures, efficiently.\n",
    "import joblib"
   ]
  },
  {
   "cell_type": "code",
   "execution_count": 67,
   "metadata": {},
   "outputs": [
    {
     "name": "stderr",
     "output_type": "stream",
     "text": [
      "\n",
      "\n",
      "====== WebDriver manager ======\n",
      "Current google-chrome version is 94.0.4606\n",
      "Get LATEST driver version for 94.0.4606\n",
      "Driver [/Users/zenglan/.wdm/drivers/chromedriver/mac64/94.0.4606.61/chromedriver] found in cache\n"
     ]
    }
   ],
   "source": [
    "url = 'https://knockaround.com/products/black-moonshine-premiums'\n",
    "#url='https://www.currys.ie/ieen/search-keywords/xx_xx_xx_xx_xx/-wk22_headphones_ie-/xx-criteria.html'\n",
    "\n",
    "# to avoid opening browser while using selenium\n",
    "option = webdriver.ChromeOptions()\n",
    "option.add_argument('headless')\n",
    "driver = webdriver.Chrome(ChromeDriverManager().install(),options=option)\n",
    "\n",
    "driver.get(url)\n",
    "time.sleep(3)\n",
    "\n",
    "# get source code -- type: str\n",
    "html_source = driver.page_source\n",
    "\n",
    "# key\n",
    "html = lxml.html.fromstring(html_source)\n",
    "\n",
    "# obtain all the text under the 'div' tags\n",
    "items = html.xpath(\"//text()\")\n",
    "\n",
    "pattern = re.compile(\"^\\s+|\\s+$|\\n\")\n",
    "\n",
    "clause_text = \"\"\n",
    "\n",
    "for item in items:\n",
    "    line = re.sub(pattern, \"\", item)\n",
    "    if len(item) > 1:\n",
    "        clause_text += line +\"\\n\"\n",
    "\n",
    "driver.quit()"
   ]
  },
  {
   "cell_type": "code",
   "execution_count": 68,
   "metadata": {},
   "outputs": [],
   "source": [
    "raw_text = clause_text\n",
    "\n",
    "# the beginning character of the content, which is the sign we should ignore the content\n",
    "ignore_str = ',.;{}?#/'\n",
    "\n",
    "# the content we are going to keep to send to models.\n",
    "content_list = []\n",
    "\n",
    "# only keep the content that has words count from 2 to 20 (includes).\n",
    "for line in raw_text.split('\\n'):\n",
    "    if 1<len(line.split())<21 and line[0] not in ignore_str:\n",
    "        content_list.append([line])"
   ]
  },
  {
   "cell_type": "code",
   "execution_count": 69,
   "metadata": {},
   "outputs": [],
   "source": [
    "header = ['content']\n",
    "\n",
    "# create a csv file to save the filtered content for later model analysis.\n",
    "with open('20Websites/web03.csv', 'w', encoding='UTF8', newline='') as f:\n",
    "    writer = csv.writer(f)\n",
    "\n",
    "    # write the header\n",
    "    writer.writerow(header)\n",
    "\n",
    "    # write the data\n",
    "    writer.writerows(content_list)"
   ]
  },
  {
   "cell_type": "markdown",
   "metadata": {},
   "source": [
    "------------------\n",
    "# Check Presence"
   ]
  },
  {
   "cell_type": "code",
   "execution_count": 70,
   "metadata": {},
   "outputs": [],
   "source": [
    "# Loading the saved model with joblib\n",
    "presence_model = joblib.load('rf_presence_classifier.joblib')\n",
    "presence_cv = joblib.load('presence_CountVectorizer.joblib')\n",
    "\n",
    "# New dataset to predict\n",
    "presence_pred = pd.read_csv('20Websites/web03.csv')"
   ]
  },
  {
   "cell_type": "code",
   "execution_count": 71,
   "metadata": {},
   "outputs": [],
   "source": [
    "# apply the pretrained model to the new content data\n",
    "pre_pred_vec = presence_model.predict(presence_cv.transform(presence_pred['content']))\n",
    "\n",
    "presence_pred['presence'] = pre_pred_vec.tolist()\n",
    "\n",
    "# dark pattern content are those where the predicted result equals to 0.\n",
    "dark = presence_pred.loc[presence_pred['presence']==0]"
   ]
  },
  {
   "cell_type": "code",
   "execution_count": 72,
   "metadata": {},
   "outputs": [],
   "source": [
    "dark.to_csv('20Websites/web03-rf.csv', index = False, header = True)"
   ]
  },
  {
   "cell_type": "code",
   "execution_count": null,
   "metadata": {},
   "outputs": [],
   "source": []
  },
  {
   "cell_type": "code",
   "execution_count": null,
   "metadata": {},
   "outputs": [],
   "source": []
  },
  {
   "cell_type": "code",
   "execution_count": null,
   "metadata": {},
   "outputs": [],
   "source": []
  },
  {
   "cell_type": "code",
   "execution_count": null,
   "metadata": {},
   "outputs": [],
   "source": []
  },
  {
   "cell_type": "code",
   "execution_count": null,
   "metadata": {},
   "outputs": [],
   "source": []
  }
 ],
 "metadata": {
  "kernelspec": {
   "display_name": "Python 3",
   "language": "python",
   "name": "python3"
  },
  "language_info": {
   "codemirror_mode": {
    "name": "ipython",
    "version": 3
   },
   "file_extension": ".py",
   "mimetype": "text/x-python",
   "name": "python",
   "nbconvert_exporter": "python",
   "pygments_lexer": "ipython3",
   "version": "3.8.5"
  }
 },
 "nbformat": 4,
 "nbformat_minor": 4
}
