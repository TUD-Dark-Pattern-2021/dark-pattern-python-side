{
 "cells": [
  {
   "cell_type": "code",
   "execution_count": 1,
   "metadata": {},
   "outputs": [],
   "source": [
    "import pandas as pd\n",
    "import numpy as np\n",
    "import tensorflow as tf\n",
    "from tensorflow import keras\n",
    "#!pip install h5py pyyaml"
   ]
  },
  {
   "cell_type": "code",
   "execution_count": 2,
   "metadata": {},
   "outputs": [
    {
     "name": "stdout",
     "output_type": "stream",
     "text": [
      "<class 'pandas.core.frame.DataFrame'>\n",
      "RangeIndex: 2938 entries, 0 to 2937\n",
      "Data columns (total 2 columns):\n",
      " #   Column          Non-Null Count  Dtype \n",
      "---  ------          --------------  ----- \n",
      " 0   Pattern String  2938 non-null   object\n",
      " 1   classification  2938 non-null   int64 \n",
      "dtypes: int64(1), object(1)\n",
      "memory usage: 46.0+ KB\n"
     ]
    }
   ],
   "source": [
    "data = pd.read_csv('enriched_data.csv')\n",
    "\n",
    "data.info()"
   ]
  },
  {
   "cell_type": "code",
   "execution_count": 3,
   "metadata": {},
   "outputs": [
    {
     "data": {
      "text/html": [
       "<div>\n",
       "<style scoped>\n",
       "    .dataframe tbody tr th:only-of-type {\n",
       "        vertical-align: middle;\n",
       "    }\n",
       "\n",
       "    .dataframe tbody tr th {\n",
       "        vertical-align: top;\n",
       "    }\n",
       "\n",
       "    .dataframe thead th {\n",
       "        text-align: right;\n",
       "    }\n",
       "</style>\n",
       "<table border=\"1\" class=\"dataframe\">\n",
       "  <thead>\n",
       "    <tr style=\"text-align: right;\">\n",
       "      <th></th>\n",
       "      <th>Pattern String</th>\n",
       "      <th>classification</th>\n",
       "    </tr>\n",
       "  </thead>\n",
       "  <tbody>\n",
       "    <tr>\n",
       "      <th>0</th>\n",
       "      <td>FREE SHIPPING ON ORDERS OVER $100!</td>\n",
       "      <td>0</td>\n",
       "    </tr>\n",
       "    <tr>\n",
       "      <th>1</th>\n",
       "      <td>SOME EXCLUSIONS APPLY - LEARN MORE</td>\n",
       "      <td>1</td>\n",
       "    </tr>\n",
       "    <tr>\n",
       "      <th>2</th>\n",
       "      <td>HAVE A QUESTION? - CONTACT US</td>\n",
       "      <td>1</td>\n",
       "    </tr>\n",
       "    <tr>\n",
       "      <th>3</th>\n",
       "      <td>WELCOME TO 034MOTORSPORT!</td>\n",
       "      <td>1</td>\n",
       "    </tr>\n",
       "    <tr>\n",
       "      <th>4</th>\n",
       "      <td>SHOP AUDISHOP VOLKSWAGENPERFORMANCE SOFTWARE03...</td>\n",
       "      <td>1</td>\n",
       "    </tr>\n",
       "    <tr>\n",
       "      <th>5</th>\n",
       "      <td>SEARCH</td>\n",
       "      <td>1</td>\n",
       "    </tr>\n",
       "    <tr>\n",
       "      <th>6</th>\n",
       "      <td>HOME</td>\n",
       "      <td>1</td>\n",
       "    </tr>\n",
       "    <tr>\n",
       "      <th>7</th>\n",
       "      <td>/</td>\n",
       "      <td>1</td>\n",
       "    </tr>\n",
       "    <tr>\n",
       "      <th>8</th>\n",
       "      <td>ADJUSTABLE SOLID REAR SWAY BAR, 8J/8P AUDI TT/...</td>\n",
       "      <td>1</td>\n",
       "    </tr>\n",
       "    <tr>\n",
       "      <th>9</th>\n",
       "      <td>MORE VIEWS</td>\n",
       "      <td>1</td>\n",
       "    </tr>\n",
       "    <tr>\n",
       "      <th>10</th>\n",
       "      <td>$268.00</td>\n",
       "      <td>1</td>\n",
       "    </tr>\n",
       "    <tr>\n",
       "      <th>11</th>\n",
       "      <td>Starting at $25/mo with Affirm. Learn more</td>\n",
       "      <td>0</td>\n",
       "    </tr>\n",
       "    <tr>\n",
       "      <th>12</th>\n",
       "      <td>ORDER ONLINE!</td>\n",
       "      <td>1</td>\n",
       "    </tr>\n",
       "    <tr>\n",
       "      <th>13</th>\n",
       "      <td>4.6 star rating</td>\n",
       "      <td>1</td>\n",
       "    </tr>\n",
       "    <tr>\n",
       "      <th>14</th>\n",
       "      <td>8 Reviews</td>\n",
       "      <td>1</td>\n",
       "    </tr>\n",
       "    <tr>\n",
       "      <th>15</th>\n",
       "      <td>1 Questions \\ 1 Answers</td>\n",
       "      <td>1</td>\n",
       "    </tr>\n",
       "    <tr>\n",
       "      <th>16</th>\n",
       "      <td>SKU: 034-402-1002</td>\n",
       "      <td>1</td>\n",
       "    </tr>\n",
       "    <tr>\n",
       "      <th>17</th>\n",
       "      <td>Manufacturer: 034Motorsport</td>\n",
       "      <td>1</td>\n",
       "    </tr>\n",
       "    <tr>\n",
       "      <th>18</th>\n",
       "      <td>034Motorsport is proud to offer the ultimate r...</td>\n",
       "      <td>1</td>\n",
       "    </tr>\n",
       "    <tr>\n",
       "      <th>19</th>\n",
       "      <td>Please Note: We highly recommend using this up...</td>\n",
       "      <td>0</td>\n",
       "    </tr>\n",
       "  </tbody>\n",
       "</table>\n",
       "</div>"
      ],
      "text/plain": [
       "                                       Pattern String  classification\n",
       "0                  FREE SHIPPING ON ORDERS OVER $100!               0\n",
       "1                  SOME EXCLUSIONS APPLY - LEARN MORE               1\n",
       "2                       HAVE A QUESTION? - CONTACT US               1\n",
       "3                           WELCOME TO 034MOTORSPORT!               1\n",
       "4   SHOP AUDISHOP VOLKSWAGENPERFORMANCE SOFTWARE03...               1\n",
       "5                                              SEARCH               1\n",
       "6                                                HOME               1\n",
       "7                                                   /               1\n",
       "8   ADJUSTABLE SOLID REAR SWAY BAR, 8J/8P AUDI TT/...               1\n",
       "9                                          MORE VIEWS               1\n",
       "10                                            $268.00               1\n",
       "11         Starting at $25/mo with Affirm. Learn more               0\n",
       "12                                      ORDER ONLINE!               1\n",
       "13                                    4.6 star rating               1\n",
       "14                                          8 Reviews               1\n",
       "15                            1 Questions \\ 1 Answers               1\n",
       "16                                  SKU: 034-402-1002               1\n",
       "17                        Manufacturer: 034Motorsport               1\n",
       "18  034Motorsport is proud to offer the ultimate r...               1\n",
       "19  Please Note: We highly recommend using this up...               0"
      ]
     },
     "execution_count": 3,
     "metadata": {},
     "output_type": "execute_result"
    }
   ],
   "source": [
    "data.head(5)"
   ]
  },
  {
   "cell_type": "code",
   "execution_count": 4,
   "metadata": {},
   "outputs": [
    {
     "data": {
      "text/html": [
       "<div>\n",
       "<style scoped>\n",
       "    .dataframe tbody tr th:only-of-type {\n",
       "        vertical-align: middle;\n",
       "    }\n",
       "\n",
       "    .dataframe tbody tr th {\n",
       "        vertical-align: top;\n",
       "    }\n",
       "\n",
       "    .dataframe thead th {\n",
       "        text-align: right;\n",
       "    }\n",
       "</style>\n",
       "<table border=\"1\" class=\"dataframe\">\n",
       "  <thead>\n",
       "    <tr style=\"text-align: right;\">\n",
       "      <th></th>\n",
       "      <th>Pattern String</th>\n",
       "      <th>classification</th>\n",
       "    </tr>\n",
       "  </thead>\n",
       "  <tbody>\n",
       "    <tr>\n",
       "      <th>0</th>\n",
       "      <td>FREE SHIPPING ON ORDERS OVER $100!</td>\n",
       "      <td>Dark</td>\n",
       "    </tr>\n",
       "    <tr>\n",
       "      <th>1</th>\n",
       "      <td>SOME EXCLUSIONS APPLY - LEARN MORE</td>\n",
       "      <td>Not_Dark</td>\n",
       "    </tr>\n",
       "    <tr>\n",
       "      <th>2</th>\n",
       "      <td>HAVE A QUESTION? - CONTACT US</td>\n",
       "      <td>Not_Dark</td>\n",
       "    </tr>\n",
       "    <tr>\n",
       "      <th>3</th>\n",
       "      <td>WELCOME TO 034MOTORSPORT!</td>\n",
       "      <td>Not_Dark</td>\n",
       "    </tr>\n",
       "    <tr>\n",
       "      <th>4</th>\n",
       "      <td>SHOP AUDISHOP VOLKSWAGENPERFORMANCE SOFTWARE03...</td>\n",
       "      <td>Not_Dark</td>\n",
       "    </tr>\n",
       "    <tr>\n",
       "      <th>5</th>\n",
       "      <td>SEARCH</td>\n",
       "      <td>Not_Dark</td>\n",
       "    </tr>\n",
       "    <tr>\n",
       "      <th>6</th>\n",
       "      <td>HOME</td>\n",
       "      <td>Not_Dark</td>\n",
       "    </tr>\n",
       "    <tr>\n",
       "      <th>7</th>\n",
       "      <td>/</td>\n",
       "      <td>Not_Dark</td>\n",
       "    </tr>\n",
       "    <tr>\n",
       "      <th>8</th>\n",
       "      <td>ADJUSTABLE SOLID REAR SWAY BAR, 8J/8P AUDI TT/...</td>\n",
       "      <td>Not_Dark</td>\n",
       "    </tr>\n",
       "    <tr>\n",
       "      <th>9</th>\n",
       "      <td>MORE VIEWS</td>\n",
       "      <td>Not_Dark</td>\n",
       "    </tr>\n",
       "    <tr>\n",
       "      <th>10</th>\n",
       "      <td>$268.00</td>\n",
       "      <td>Not_Dark</td>\n",
       "    </tr>\n",
       "    <tr>\n",
       "      <th>11</th>\n",
       "      <td>Starting at $25/mo with Affirm. Learn more</td>\n",
       "      <td>Dark</td>\n",
       "    </tr>\n",
       "    <tr>\n",
       "      <th>12</th>\n",
       "      <td>ORDER ONLINE!</td>\n",
       "      <td>Not_Dark</td>\n",
       "    </tr>\n",
       "    <tr>\n",
       "      <th>13</th>\n",
       "      <td>4.6 star rating</td>\n",
       "      <td>Not_Dark</td>\n",
       "    </tr>\n",
       "    <tr>\n",
       "      <th>14</th>\n",
       "      <td>8 Reviews</td>\n",
       "      <td>Not_Dark</td>\n",
       "    </tr>\n",
       "    <tr>\n",
       "      <th>15</th>\n",
       "      <td>1 Questions \\ 1 Answers</td>\n",
       "      <td>Not_Dark</td>\n",
       "    </tr>\n",
       "    <tr>\n",
       "      <th>16</th>\n",
       "      <td>SKU: 034-402-1002</td>\n",
       "      <td>Not_Dark</td>\n",
       "    </tr>\n",
       "    <tr>\n",
       "      <th>17</th>\n",
       "      <td>Manufacturer: 034Motorsport</td>\n",
       "      <td>Not_Dark</td>\n",
       "    </tr>\n",
       "    <tr>\n",
       "      <th>18</th>\n",
       "      <td>034Motorsport is proud to offer the ultimate r...</td>\n",
       "      <td>Not_Dark</td>\n",
       "    </tr>\n",
       "    <tr>\n",
       "      <th>19</th>\n",
       "      <td>Please Note: We highly recommend using this up...</td>\n",
       "      <td>Dark</td>\n",
       "    </tr>\n",
       "  </tbody>\n",
       "</table>\n",
       "</div>"
      ],
      "text/plain": [
       "                                       Pattern String classification\n",
       "0                  FREE SHIPPING ON ORDERS OVER $100!           Dark\n",
       "1                  SOME EXCLUSIONS APPLY - LEARN MORE       Not_Dark\n",
       "2                       HAVE A QUESTION? - CONTACT US       Not_Dark\n",
       "3                           WELCOME TO 034MOTORSPORT!       Not_Dark\n",
       "4   SHOP AUDISHOP VOLKSWAGENPERFORMANCE SOFTWARE03...       Not_Dark\n",
       "5                                              SEARCH       Not_Dark\n",
       "6                                                HOME       Not_Dark\n",
       "7                                                   /       Not_Dark\n",
       "8   ADJUSTABLE SOLID REAR SWAY BAR, 8J/8P AUDI TT/...       Not_Dark\n",
       "9                                          MORE VIEWS       Not_Dark\n",
       "10                                            $268.00       Not_Dark\n",
       "11         Starting at $25/mo with Affirm. Learn more           Dark\n",
       "12                                      ORDER ONLINE!       Not_Dark\n",
       "13                                    4.6 star rating       Not_Dark\n",
       "14                                          8 Reviews       Not_Dark\n",
       "15                            1 Questions \\ 1 Answers       Not_Dark\n",
       "16                                  SKU: 034-402-1002       Not_Dark\n",
       "17                        Manufacturer: 034Motorsport       Not_Dark\n",
       "18  034Motorsport is proud to offer the ultimate r...       Not_Dark\n",
       "19  Please Note: We highly recommend using this up...           Dark"
      ]
     },
     "execution_count": 4,
     "metadata": {},
     "output_type": "execute_result"
    }
   ],
   "source": [
    "data['classification'].replace({0:'Dark',1:'Not_Dark'}, inplace = True)\n",
    "\n",
    "data.head(5)"
   ]
  },
  {
   "cell_type": "code",
   "execution_count": 5,
   "metadata": {},
   "outputs": [
    {
     "data": {
      "text/html": [
       "<div>\n",
       "<style scoped>\n",
       "    .dataframe tbody tr th:only-of-type {\n",
       "        vertical-align: middle;\n",
       "    }\n",
       "\n",
       "    .dataframe tbody tr th {\n",
       "        vertical-align: top;\n",
       "    }\n",
       "\n",
       "    .dataframe thead th {\n",
       "        text-align: right;\n",
       "    }\n",
       "</style>\n",
       "<table border=\"1\" class=\"dataframe\">\n",
       "  <thead>\n",
       "    <tr style=\"text-align: right;\">\n",
       "      <th></th>\n",
       "      <th>Pattern String</th>\n",
       "      <th>classification</th>\n",
       "    </tr>\n",
       "  </thead>\n",
       "  <tbody>\n",
       "    <tr>\n",
       "      <th>0</th>\n",
       "      <td>free shipping on orders over $100!</td>\n",
       "      <td>Dark</td>\n",
       "    </tr>\n",
       "    <tr>\n",
       "      <th>1</th>\n",
       "      <td>some exclusions apply - learn more</td>\n",
       "      <td>Not_Dark</td>\n",
       "    </tr>\n",
       "    <tr>\n",
       "      <th>2</th>\n",
       "      <td>have a question? - contact us</td>\n",
       "      <td>Not_Dark</td>\n",
       "    </tr>\n",
       "    <tr>\n",
       "      <th>3</th>\n",
       "      <td>welcome to 034motorsport!</td>\n",
       "      <td>Not_Dark</td>\n",
       "    </tr>\n",
       "    <tr>\n",
       "      <th>4</th>\n",
       "      <td>shop audishop volkswagenperformance software03...</td>\n",
       "      <td>Not_Dark</td>\n",
       "    </tr>\n",
       "    <tr>\n",
       "      <th>5</th>\n",
       "      <td>search</td>\n",
       "      <td>Not_Dark</td>\n",
       "    </tr>\n",
       "    <tr>\n",
       "      <th>6</th>\n",
       "      <td>home</td>\n",
       "      <td>Not_Dark</td>\n",
       "    </tr>\n",
       "    <tr>\n",
       "      <th>8</th>\n",
       "      <td>adjustable solid rear sway bar, 8j/8p audi tt/...</td>\n",
       "      <td>Not_Dark</td>\n",
       "    </tr>\n",
       "    <tr>\n",
       "      <th>9</th>\n",
       "      <td>more views</td>\n",
       "      <td>Not_Dark</td>\n",
       "    </tr>\n",
       "    <tr>\n",
       "      <th>10</th>\n",
       "      <td>$268.00</td>\n",
       "      <td>Not_Dark</td>\n",
       "    </tr>\n",
       "    <tr>\n",
       "      <th>11</th>\n",
       "      <td>starting at $25/mo with affirm. learn more</td>\n",
       "      <td>Dark</td>\n",
       "    </tr>\n",
       "    <tr>\n",
       "      <th>12</th>\n",
       "      <td>order online!</td>\n",
       "      <td>Not_Dark</td>\n",
       "    </tr>\n",
       "    <tr>\n",
       "      <th>13</th>\n",
       "      <td>4.6 star rating</td>\n",
       "      <td>Not_Dark</td>\n",
       "    </tr>\n",
       "    <tr>\n",
       "      <th>14</th>\n",
       "      <td>8 reviews</td>\n",
       "      <td>Not_Dark</td>\n",
       "    </tr>\n",
       "    <tr>\n",
       "      <th>15</th>\n",
       "      <td>1 questions \\ 1 answers</td>\n",
       "      <td>Not_Dark</td>\n",
       "    </tr>\n",
       "    <tr>\n",
       "      <th>16</th>\n",
       "      <td>sku: 034-402-1002</td>\n",
       "      <td>Not_Dark</td>\n",
       "    </tr>\n",
       "    <tr>\n",
       "      <th>17</th>\n",
       "      <td>manufacturer: 034motorsport</td>\n",
       "      <td>Not_Dark</td>\n",
       "    </tr>\n",
       "    <tr>\n",
       "      <th>18</th>\n",
       "      <td>034motorsport is proud to offer the ultimate r...</td>\n",
       "      <td>Not_Dark</td>\n",
       "    </tr>\n",
       "    <tr>\n",
       "      <th>19</th>\n",
       "      <td>please note: we highly recommend using this up...</td>\n",
       "      <td>Dark</td>\n",
       "    </tr>\n",
       "    <tr>\n",
       "      <th>20</th>\n",
       "      <td>qty:</td>\n",
       "      <td>Not_Dark</td>\n",
       "    </tr>\n",
       "  </tbody>\n",
       "</table>\n",
       "</div>"
      ],
      "text/plain": [
       "                                       Pattern String classification\n",
       "0                  free shipping on orders over $100!           Dark\n",
       "1                  some exclusions apply - learn more       Not_Dark\n",
       "2                       have a question? - contact us       Not_Dark\n",
       "3                           welcome to 034motorsport!       Not_Dark\n",
       "4   shop audishop volkswagenperformance software03...       Not_Dark\n",
       "5                                              search       Not_Dark\n",
       "6                                                home       Not_Dark\n",
       "8   adjustable solid rear sway bar, 8j/8p audi tt/...       Not_Dark\n",
       "9                                          more views       Not_Dark\n",
       "10                                            $268.00       Not_Dark\n",
       "11         starting at $25/mo with affirm. learn more           Dark\n",
       "12                                      order online!       Not_Dark\n",
       "13                                    4.6 star rating       Not_Dark\n",
       "14                                          8 reviews       Not_Dark\n",
       "15                            1 questions \\ 1 answers       Not_Dark\n",
       "16                                  sku: 034-402-1002       Not_Dark\n",
       "17                        manufacturer: 034motorsport       Not_Dark\n",
       "18  034motorsport is proud to offer the ultimate r...       Not_Dark\n",
       "19  please note: we highly recommend using this up...           Dark\n",
       "20                                               qty:       Not_Dark"
      ]
     },
     "execution_count": 5,
     "metadata": {},
     "output_type": "execute_result"
    }
   ],
   "source": [
    "# Remove the rows where the first letter starting with ignoring characters\n",
    "ignore_str = [',', '.', ';', '{', '}', '#', '/', '?', '@','$','(',')']\n",
    "data = data[~data['Pattern String'].str[0].isin(ignore_str)]\n",
    "\n",
    "# data['Pattern String'] = data['Pattern String'].str.lower()\n",
    "\n",
    "data.shape"
   ]
  },
  {
   "cell_type": "code",
   "execution_count": 8,
   "metadata": {},
   "outputs": [],
   "source": [
    "X = data['Pattern String'].values\n",
    "Y = data['classification'].values\n",
    "\n",
    "from sklearn.model_selection import train_test_split\n",
    "\n",
    "content_train, content_val, label_train, label_val = train_test_split(X, Y, test_size=0.2, random_state=1)\n"
   ]
  },
  {
   "cell_type": "code",
   "execution_count": 10,
   "metadata": {
    "scrolled": true
   },
   "outputs": [
    {
     "name": "stdout",
     "output_type": "stream",
     "text": [
      "The frequency distribution of training y labels:\n",
      " [['Dark' 1179]\n",
      " ['Not_Dark' 1169]]\n",
      "The frequency distribution of validation y labels:\n",
      " [['Dark' 302]\n",
      " ['Not_Dark' 285]]\n",
      "The frequency distribution of training y encoded labels:\n",
      " [[   0 1179]\n",
      " [   1 1169]]\n",
      "The frequency distribution of validation y encoded labels:\n",
      " [[  0 302]\n",
      " [  1 285]]\n"
     ]
    }
   ],
   "source": [
    "from sklearn.preprocessing import LabelEncoder\n",
    "\n",
    "encoder = LabelEncoder()\n",
    "y_train = encoder.fit(label_train)\n",
    "y_train = encoder.transform(label_train)\n",
    "y_val = encoder.transform(label_val)\n",
    "\n",
    "\n",
    "(unique, counts) = np.unique(label_train, return_counts=True)\n",
    "frequencies_y_train_label = np.asarray((unique, counts)).T\n",
    "\n",
    "print('The frequency distribution of training y labels:\\n',frequencies_y_train_label)\n",
    "\n",
    "(unique, counts) = np.unique(label_val, return_counts=True)\n",
    "frequencies_y_val_label = np.asarray((unique, counts)).T\n",
    "\n",
    "print('The frequency distribution of validation y labels:\\n',frequencies_y_val_label)\n",
    "\n",
    "\n",
    "\n",
    "(unique, counts) = np.unique(y_train, return_counts=True)\n",
    "frequencies_y_train_encoded = np.asarray((unique, counts)).T\n",
    "\n",
    "print('The frequency distribution of training y encoded labels:\\n',frequencies_y_train_encoded)\n",
    "\n",
    "(unique, counts) = np.unique(y_val, return_counts=True)\n",
    "frequencies_y_val_encoded = np.asarray((unique, counts)).T\n",
    "\n",
    "print('The frequency distribution of validation y encoded labels:\\n',frequencies_y_val_encoded)"
   ]
  },
  {
   "cell_type": "code",
   "execution_count": 11,
   "metadata": {},
   "outputs": [
    {
     "data": {
      "text/plain": [
       "((2348,), (587,))"
      ]
     },
     "execution_count": 11,
     "metadata": {},
     "output_type": "execute_result"
    }
   ],
   "source": [
    "y_train.shape, y_val.shape"
   ]
  },
  {
   "cell_type": "code",
   "execution_count": 12,
   "metadata": {},
   "outputs": [],
   "source": [
    "from keras.preprocessing.text import Tokenizer\n",
    "\n",
    "tokenizer = Tokenizer()\n",
    "tokenizer = Tokenizer(num_words=5000)   # num_words is the size of the vocabulary (top 5000 frequent words in the vocabulary)\n",
    "tokenizer.fit_on_texts(content_train)    # Updates internal vocabulary based on a list of texts\n",
    "\n",
    "X_train = tokenizer.texts_to_sequences(content_train)  # Transforms each text in texts to a sequence of integers with its corresponding integer value from the word_index dictionary\n",
    "X_val = tokenizer.texts_to_sequences(content_val)\n",
    "\n",
    "# The number of unique words in the whole training text\n",
    "vocab_size = len(tokenizer.word_index) + 1  # Adding 1 because of reserved 0 index for padding"
   ]
  },
  {
   "cell_type": "code",
   "execution_count": null,
   "metadata": {},
   "outputs": [],
   "source": [
    "tokenizer.get_vocabulary()[:7]"
   ]
  },
  {
   "cell_type": "code",
   "execution_count": 100,
   "metadata": {},
   "outputs": [
    {
     "data": {
      "text/plain": [
       "['Presence_Tokenizer.joblib']"
      ]
     },
     "execution_count": 100,
     "metadata": {},
     "output_type": "execute_result"
    }
   ],
   "source": [
    "# Save the Tokenizer to disk\n",
    "import joblib\n",
    "\n",
    "joblib.dump(tokenizer, 'Presence_Tokenizer.joblib')"
   ]
  },
  {
   "cell_type": "code",
   "execution_count": 13,
   "metadata": {},
   "outputs": [
    {
     "name": "stdout",
     "output_type": "stream",
     "text": [
      "Longest sentence in training:\n",
      " ([3649], 114)\n",
      "Longest sentence in validation:\n",
      " ([3641], 100)\n"
     ]
    }
   ],
   "source": [
    "def FindMaxLength(lst):\n",
    "    maxList = max((x) for x in lst)\n",
    "    maxLength = max(len(x) for x in lst )\n",
    "  \n",
    "    return maxList, maxLength\n",
    "\n",
    "print('Longest sentence in training:\\n',FindMaxLength(X_train))\n",
    "print('Longest sentence in validation:\\n',FindMaxLength(X_val))"
   ]
  },
  {
   "cell_type": "code",
   "execution_count": 14,
   "metadata": {},
   "outputs": [
    {
     "data": {
      "text/plain": [
       "((2348, 50), (587, 50))"
      ]
     },
     "execution_count": 14,
     "metadata": {},
     "output_type": "execute_result"
    }
   ],
   "source": [
    "from keras.preprocessing.sequence import pad_sequences\n",
    "\n",
    "maxlen = 20\n",
    "\n",
    "X_train = pad_sequences(X_train, padding='post', maxlen=maxlen)\n",
    "X_val = pad_sequences(X_val, padding='post', maxlen=maxlen)\n",
    "\n",
    "X_train.shape, X_val.shape"
   ]
  },
  {
   "cell_type": "markdown",
   "metadata": {},
   "source": [
    "-----\n",
    "# CNN Model\n",
    "-------"
   ]
  },
  {
   "cell_type": "markdown",
   "metadata": {},
   "source": [
    "### Model 1 --- Use 64 filters, 2 kernel size, 32 units in dense layer"
   ]
  },
  {
   "cell_type": "code",
   "execution_count": 81,
   "metadata": {},
   "outputs": [
    {
     "name": "stdout",
     "output_type": "stream",
     "text": [
      "Model: \"sequential_11\"\n",
      "_________________________________________________________________\n",
      "Layer (type)                 Output Shape              Param #   \n",
      "=================================================================\n",
      "embedding_11 (Embedding)     (None, 50, 50)            250000    \n",
      "_________________________________________________________________\n",
      "conv1d_11 (Conv1D)           (None, 48, 64)            9664      \n",
      "_________________________________________________________________\n",
      "global_max_pooling1d_11 (Glo (None, 64)                0         \n",
      "_________________________________________________________________\n",
      "dense_22 (Dense)             (None, 32)                2080      \n",
      "_________________________________________________________________\n",
      "dropout_11 (Dropout)         (None, 32)                0         \n",
      "_________________________________________________________________\n",
      "dense_23 (Dense)             (None, 1)                 33        \n",
      "=================================================================\n",
      "Total params: 261,777\n",
      "Trainable params: 261,777\n",
      "Non-trainable params: 0\n",
      "_________________________________________________________________\n"
     ]
    }
   ],
   "source": [
    "from keras.models import Sequential\n",
    "from tensorflow.keras.layers import Dense, Dropout, Activation, Flatten, Embedding, Conv1D, GlobalMaxPooling1D\n",
    "\n",
    "embedding_dim = 20\n",
    "vocab_size = 5000\n",
    "num_filters = 64\n",
    "kernel_size = 2\n",
    "\n",
    "\n",
    "model01 = Sequential()\n",
    "model01.add(Embedding(input_dim=vocab_size,          # input_dim is the size of the vocabulary\n",
    "                           output_dim=embedding_dim,      # output_dim is the size of the dense vector\n",
    "                           input_length=maxlen))          # input_length is the length of the sequence\n",
    "model01.add(Conv1D(num_filters,               # add a Convolution1D, which will learn filters\n",
    "                 kernel_size,       # convolutional windows length, which mean will operate over 3 words every time\n",
    "                 padding='valid',\n",
    "                 activation='relu',\n",
    "                 strides=1))\n",
    "model01.add(GlobalMaxPooling1D())    # use max pooling to reduce the size of the feature maps\n",
    "model01.add(Dense(32, activation='relu'))\n",
    "model01.add(Dropout(0.2))\n",
    "model01.add(Dense(1, activation='sigmoid'))\n",
    "model01.compile(optimizer='adam',\n",
    "              loss='binary_crossentropy',\n",
    "              metrics=['accuracy'])\n",
    "\n",
    "model01.summary()"
   ]
  },
  {
   "cell_type": "code",
   "execution_count": 82,
   "metadata": {},
   "outputs": [
    {
     "name": "stdout",
     "output_type": "stream",
     "text": [
      "Epoch 1/15\n",
      "147/147 [==============================] - 2s 17ms/step - loss: 0.6134 - accuracy: 0.6981 - val_loss: 0.3382 - val_accuracy: 0.8654\n",
      "Epoch 2/15\n",
      "147/147 [==============================] - 3s 18ms/step - loss: 0.2506 - accuracy: 0.9099 - val_loss: 0.2989 - val_accuracy: 0.8773\n",
      "Epoch 3/15\n",
      "147/147 [==============================] - 2s 17ms/step - loss: 0.1136 - accuracy: 0.9628 - val_loss: 0.3146 - val_accuracy: 0.8773\n",
      "Epoch 00003: early stopping\n"
     ]
    }
   ],
   "source": [
    "from keras.callbacks import EarlyStopping\n",
    "\n",
    "es = EarlyStopping(monitor='val_loss', mode='min', verbose=1)\n",
    "his01=model01.fit(X_train,y_train, batch_size=16, epochs=5, validation_data=(X_val,y_val),callbacks=[es])"
   ]
  },
  {
   "cell_type": "code",
   "execution_count": 83,
   "metadata": {},
   "outputs": [
    {
     "name": "stderr",
     "output_type": "stream",
     "text": [
      "/opt/anaconda3/lib/python3.8/site-packages/tensorflow/python/keras/engine/sequential.py:450: UserWarning: `model.predict_classes()` is deprecated and will be removed after 2021-01-01. Please use instead:* `np.argmax(model.predict(x), axis=-1)`,   if your model does multi-class classification   (e.g. if it uses a `softmax` last-layer activation).* `(model.predict(x) > 0.5).astype(\"int32\")`,   if your model does binary classification   (e.g. if it uses a `sigmoid` last-layer activation).\n",
      "  warnings.warn('`model.predict_classes()` is deprecated and '\n"
     ]
    }
   ],
   "source": [
    "prediction = model01.predict_classes(X_val)"
   ]
  },
  {
   "cell_type": "code",
   "execution_count": 84,
   "metadata": {},
   "outputs": [
    {
     "name": "stdout",
     "output_type": "stream",
     "text": [
      "[[  0 272]\n",
      " [  1 315]]\n"
     ]
    }
   ],
   "source": [
    "(unique, counts) = np.unique(prediction, return_counts=True)\n",
    "frequencies = np.asarray((unique, counts)).T\n",
    "\n",
    "print(frequencies)"
   ]
  },
  {
   "cell_type": "code",
   "execution_count": 85,
   "metadata": {},
   "outputs": [
    {
     "name": "stdout",
     "output_type": "stream",
     "text": [
      "Confusion Matrix of the prediction results:\n",
      " [[251  51]\n",
      " [ 21 264]]\n",
      "FN Rate: 0.0869; FP Rate:0.0358\n"
     ]
    }
   ],
   "source": [
    "from sklearn.metrics import confusion_matrix\n",
    "\n",
    "cm = confusion_matrix(y_val, prediction, labels=[0,1])\n",
    "FN = cm[0][1]/y_val.shape[0]\n",
    "FP = cm[1][0]/y_val.shape[0]\n",
    "\n",
    "print('Confusion Matrix of the prediction results:\\n', cm)\n",
    "print('FN Rate: {:.4f}; FP Rate:{:.4f}'.format(FN,FP))"
   ]
  },
  {
   "cell_type": "code",
   "execution_count": 86,
   "metadata": {},
   "outputs": [
    {
     "name": "stdout",
     "output_type": "stream",
     "text": [
      "Requirement already satisfied: plot_keras_history in /opt/anaconda3/lib/python3.8/site-packages (1.1.29)\n",
      "Requirement already satisfied: pandas in /opt/anaconda3/lib/python3.8/site-packages (from plot_keras_history) (1.1.3)\n",
      "Requirement already satisfied: scipy in /opt/anaconda3/lib/python3.8/site-packages (from plot_keras_history) (1.5.2)\n",
      "Requirement already satisfied: sanitize-ml-labels in /opt/anaconda3/lib/python3.8/site-packages (from plot_keras_history) (1.0.26)\n",
      "Requirement already satisfied: matplotlib in /opt/anaconda3/lib/python3.8/site-packages (from plot_keras_history) (3.3.2)\n",
      "Requirement already satisfied: pytz>=2017.2 in /opt/anaconda3/lib/python3.8/site-packages (from pandas->plot_keras_history) (2020.1)\n",
      "Requirement already satisfied: python-dateutil>=2.7.3 in /opt/anaconda3/lib/python3.8/site-packages (from pandas->plot_keras_history) (2.8.1)\n",
      "Requirement already satisfied: numpy>=1.15.4 in /opt/anaconda3/lib/python3.8/site-packages (from pandas->plot_keras_history) (1.19.2)\n",
      "Requirement already satisfied: compress-json in /opt/anaconda3/lib/python3.8/site-packages (from sanitize-ml-labels->plot_keras_history) (1.0.4)\n",
      "Requirement already satisfied: kiwisolver>=1.0.1 in /opt/anaconda3/lib/python3.8/site-packages (from matplotlib->plot_keras_history) (1.3.0)\n",
      "Requirement already satisfied: cycler>=0.10 in /opt/anaconda3/lib/python3.8/site-packages (from matplotlib->plot_keras_history) (0.10.0)\n",
      "Requirement already satisfied: pyparsing!=2.0.4,!=2.1.2,!=2.1.6,>=2.0.3 in /opt/anaconda3/lib/python3.8/site-packages (from matplotlib->plot_keras_history) (2.4.7)\n",
      "Requirement already satisfied: certifi>=2020.06.20 in /opt/anaconda3/lib/python3.8/site-packages (from matplotlib->plot_keras_history) (2020.6.20)\n",
      "Requirement already satisfied: pillow>=6.2.0 in /opt/anaconda3/lib/python3.8/site-packages (from matplotlib->plot_keras_history) (8.0.1)\n",
      "Requirement already satisfied: six>=1.5 in /opt/anaconda3/lib/python3.8/site-packages (from python-dateutil>=2.7.3->pandas->plot_keras_history) (1.15.0)\n",
      "Training Accuracy: 0.9855\n",
      "Validation Accuracy:  0.8773\n"
     ]
    },
    {
     "data": {
      "text/plain": [
       "(<Figure size 720x360 with 2 Axes>,\n",
       " array([<AxesSubplot:title={'center':'Loss'}, xlabel='Epochs', ylabel='Loss'>,\n",
       "        <AxesSubplot:title={'center':'Accuracy'}, xlabel='Epochs', ylabel='Accuracy'>],\n",
       "       dtype=object))"
      ]
     },
     "execution_count": 86,
     "metadata": {},
     "output_type": "execute_result"
    },
    {
     "data": {
      "image/png": "[encoded data removed]",
      "text/plain": [
       "<Figure size 720x360 with 2 Axes>"
      ]
     },
     "metadata": {
      "needs_background": "light"
     },
     "output_type": "display_data"
    }
   ],
   "source": [
    "!pip install plot_keras_history\n",
    "from plot_keras_history import plot_history\n",
    "\n",
    "loss, accuracy = model01.evaluate(X_train, y_train, verbose=False)\n",
    "print(\"Training Accuracy: {:.4f}\".format(accuracy))\n",
    "loss, accuracy = model01.evaluate(X_val, y_val, verbose=False)\n",
    "print(\"Validation Accuracy:  {:.4f}\".format(accuracy))\n",
    "\n",
    "plot_history(his01)"
   ]
  },
  {
   "cell_type": "code",
   "execution_count": null,
   "metadata": {},
   "outputs": [],
   "source": []
  },
  {
   "cell_type": "code",
   "execution_count": null,
   "metadata": {},
   "outputs": [],
   "source": []
  },
  {
   "cell_type": "markdown",
   "metadata": {},
   "source": [
    "### Model 2 --- Use 64 filters, 2 kernel size, 32 units in dense layer"
   ]
  },
  {
   "cell_type": "code",
   "execution_count": 71,
   "metadata": {},
   "outputs": [
    {
     "name": "stdout",
     "output_type": "stream",
     "text": [
      "Model: \"sequential_9\"\n",
      "_________________________________________________________________\n",
      "Layer (type)                 Output Shape              Param #   \n",
      "=================================================================\n",
      "embedding_9 (Embedding)      (None, 50, 50)            250000    \n",
      "_________________________________________________________________\n",
      "conv1d_9 (Conv1D)            (None, 48, 32)            4832      \n",
      "_________________________________________________________________\n",
      "global_max_pooling1d_9 (Glob (None, 32)                0         \n",
      "_________________________________________________________________\n",
      "dense_18 (Dense)             (None, 32)                1056      \n",
      "_________________________________________________________________\n",
      "dropout_9 (Dropout)          (None, 32)                0         \n",
      "_________________________________________________________________\n",
      "dense_19 (Dense)             (None, 1)                 33        \n",
      "=================================================================\n",
      "Total params: 255,921\n",
      "Trainable params: 255,921\n",
      "Non-trainable params: 0\n",
      "_________________________________________________________________\n"
     ]
    }
   ],
   "source": [
    "from keras.models import Sequential\n",
    "from tensorflow.keras.layers import Dense, Dropout, Activation, Flatten, Embedding, Conv1D, GlobalMaxPooling1D\n",
    "\n",
    "embedding_dim = 20\n",
    "vocab_size = 5000\n",
    "num_filters = 32\n",
    "kernel_size = 2\n",
    "\n",
    "\n",
    "model01 = Sequential()\n",
    "model01.add(Embedding(input_dim=vocab_size,          # input_dim is the size of the vocabulary\n",
    "                           output_dim=embedding_dim,      # output_dim is the size of the dense vector\n",
    "                           input_length=maxlen))          # input_length is the length of the sequence\n",
    "model01.add(Conv1D(num_filters,               # add a Convolution1D, which will learn filters\n",
    "                 kernel_size,       # convolutional windows length, which mean will operate over 3 words every time\n",
    "                 padding='valid',\n",
    "                 activation='relu',\n",
    "                 strides=1))\n",
    "model01.add(GlobalMaxPooling1D())    # use max pooling to reduce the size of the feature maps\n",
    "model01.add(Dense(32, activation='relu'))\n",
    "model01.add(Dropout(0.2))\n",
    "model01.add(Dense(1, activation='sigmoid'))\n",
    "model01.compile(optimizer='adam',\n",
    "              loss='binary_crossentropy',\n",
    "              metrics=['accuracy'])\n",
    "\n",
    "model01.summary()"
   ]
  },
  {
   "cell_type": "code",
   "execution_count": 72,
   "metadata": {},
   "outputs": [
    {
     "name": "stdout",
     "output_type": "stream",
     "text": [
      "Epoch 1/15\n",
      "147/147 [==============================] - 2s 14ms/step - loss: 0.6190 - accuracy: 0.7203 - val_loss: 0.3414 - val_accuracy: 0.8467\n",
      "Epoch 2/15\n",
      "147/147 [==============================] - 2s 15ms/step - loss: 0.2404 - accuracy: 0.9084 - val_loss: 0.3075 - val_accuracy: 0.8654\n",
      "Epoch 3/15\n",
      "147/147 [==============================] - 2s 14ms/step - loss: 0.1463 - accuracy: 0.9531 - val_loss: 0.3095 - val_accuracy: 0.8825\n",
      "Epoch 00003: early stopping\n"
     ]
    }
   ],
   "source": [
    "from keras.callbacks import EarlyStopping\n",
    "\n",
    "es = EarlyStopping(monitor='val_loss', mode='min', verbose=1)\n",
    "his01=model01.fit(X_train,y_train, batch_size=16, epochs=5, validation_data=(X_val,y_val),callbacks=[es])"
   ]
  },
  {
   "cell_type": "code",
   "execution_count": 73,
   "metadata": {},
   "outputs": [],
   "source": [
    "prediction = model01.predict_classes(X_val)"
   ]
  },
  {
   "cell_type": "code",
   "execution_count": 74,
   "metadata": {},
   "outputs": [
    {
     "name": "stdout",
     "output_type": "stream",
     "text": [
      "[[  0 279]\n",
      " [  1 308]]\n"
     ]
    }
   ],
   "source": [
    "(unique, counts) = np.unique(prediction, return_counts=True)\n",
    "frequencies = np.asarray((unique, counts)).T\n",
    "\n",
    "print(frequencies)"
   ]
  },
  {
   "cell_type": "code",
   "execution_count": 75,
   "metadata": {},
   "outputs": [
    {
     "name": "stdout",
     "output_type": "stream",
     "text": [
      "Confusion Matrix of the prediction results:\n",
      " [[256  46]\n",
      " [ 23 262]]\n",
      "FN Rate: 0.0784; FP Rate:0.0392\n"
     ]
    }
   ],
   "source": [
    "from sklearn.metrics import confusion_matrix\n",
    "\n",
    "cm = confusion_matrix(y_val, prediction, labels=[0,1])\n",
    "FN = cm[0][1]/y_val.shape[0]\n",
    "FP = cm[1][0]/y_val.shape[0]\n",
    "\n",
    "print('Confusion Matrix of the prediction results:\\n', cm)\n",
    "print('FN Rate: {:.4f}; FP Rate:{:.4f}'.format(FN,FP))"
   ]
  },
  {
   "cell_type": "code",
   "execution_count": 78,
   "metadata": {},
   "outputs": [
    {
     "name": "stdout",
     "output_type": "stream",
     "text": [
      "Requirement already satisfied: plot_keras_history in /opt/anaconda3/lib/python3.8/site-packages (1.1.29)\n",
      "Requirement already satisfied: sanitize-ml-labels in /opt/anaconda3/lib/python3.8/site-packages (from plot_keras_history) (1.0.26)\n",
      "Requirement already satisfied: pandas in /opt/anaconda3/lib/python3.8/site-packages (from plot_keras_history) (1.1.3)\n",
      "Requirement already satisfied: matplotlib in /opt/anaconda3/lib/python3.8/site-packages (from plot_keras_history) (3.3.2)\n",
      "Requirement already satisfied: scipy in /opt/anaconda3/lib/python3.8/site-packages (from plot_keras_history) (1.5.2)\n",
      "Requirement already satisfied: compress-json in /opt/anaconda3/lib/python3.8/site-packages (from sanitize-ml-labels->plot_keras_history) (1.0.4)\n",
      "Requirement already satisfied: python-dateutil>=2.7.3 in /opt/anaconda3/lib/python3.8/site-packages (from pandas->plot_keras_history) (2.8.1)\n",
      "Requirement already satisfied: pytz>=2017.2 in /opt/anaconda3/lib/python3.8/site-packages (from pandas->plot_keras_history) (2020.1)\n",
      "Requirement already satisfied: numpy>=1.15.4 in /opt/anaconda3/lib/python3.8/site-packages (from pandas->plot_keras_history) (1.19.2)\n",
      "Requirement already satisfied: kiwisolver>=1.0.1 in /opt/anaconda3/lib/python3.8/site-packages (from matplotlib->plot_keras_history) (1.3.0)\n",
      "Requirement already satisfied: cycler>=0.10 in /opt/anaconda3/lib/python3.8/site-packages (from matplotlib->plot_keras_history) (0.10.0)\n",
      "Requirement already satisfied: pyparsing!=2.0.4,!=2.1.2,!=2.1.6,>=2.0.3 in /opt/anaconda3/lib/python3.8/site-packages (from matplotlib->plot_keras_history) (2.4.7)\n",
      "Requirement already satisfied: pillow>=6.2.0 in /opt/anaconda3/lib/python3.8/site-packages (from matplotlib->plot_keras_history) (8.0.1)\n",
      "Requirement already satisfied: certifi>=2020.06.20 in /opt/anaconda3/lib/python3.8/site-packages (from matplotlib->plot_keras_history) (2020.6.20)\n",
      "Requirement already satisfied: six>=1.5 in /opt/anaconda3/lib/python3.8/site-packages (from python-dateutil>=2.7.3->pandas->plot_keras_history) (1.15.0)\n"
     ]
    },
    {
     "name": "stderr",
     "output_type": "stream",
     "text": [
      "/opt/anaconda3/lib/python3.8/site-packages/tensorflow/python/data/ops/dataset_ops.py:3503: UserWarning: Even though the tf.config.experimental_run_functions_eagerly option is set, this option does not apply to tf.data functions. tf.data functions are still traced and executed as graphs.\n",
      "  warnings.warn(\n"
     ]
    },
    {
     "name": "stdout",
     "output_type": "stream",
     "text": [
      "Training Accuracy: 0.9808\n",
      "Validation Accuracy:  0.8825\n"
     ]
    },
    {
     "data": {
      "text/plain": [
       "(<Figure size 720x360 with 2 Axes>,\n",
       " array([<AxesSubplot:title={'center':'Loss'}, xlabel='Epochs', ylabel='Loss'>,\n",
       "        <AxesSubplot:title={'center':'Accuracy'}, xlabel='Epochs', ylabel='Accuracy'>],\n",
       "       dtype=object))"
      ]
     },
     "execution_count": 78,
     "metadata": {},
     "output_type": "execute_result"
    },
    {
     "data": {
      "image/png": "[encoded data removed]",
      "text/plain": [
       "<Figure size 720x360 with 2 Axes>"
      ]
     },
     "metadata": {
      "needs_background": "light"
     },
     "output_type": "display_data"
    }
   ],
   "source": [
    "!pip install plot_keras_history\n",
    "from plot_keras_history import plot_history\n",
    "\n",
    "loss, accuracy = model01.evaluate(X_train, y_train, verbose=False)\n",
    "print(\"Training Accuracy: {:.4f}\".format(accuracy))\n",
    "loss, accuracy = model01.evaluate(X_val, y_val, verbose=False)\n",
    "print(\"Validation Accuracy:  {:.4f}\".format(accuracy))\n",
    "\n",
    "plot_history(his01)"
   ]
  },
  {
   "cell_type": "code",
   "execution_count": null,
   "metadata": {},
   "outputs": [],
   "source": []
  },
  {
   "cell_type": "code",
   "execution_count": null,
   "metadata": {},
   "outputs": [],
   "source": []
  },
  {
   "cell_type": "markdown",
   "metadata": {},
   "source": [
    "### Model 3 --- Use 32 filters, 1 kernel size, 32 units in dense layer"
   ]
  },
  {
   "cell_type": "code",
   "execution_count": 92,
   "metadata": {},
   "outputs": [
    {
     "name": "stdout",
     "output_type": "stream",
     "text": [
      "Model: \"sequential_13\"\n",
      "_________________________________________________________________\n",
      "Layer (type)                 Output Shape              Param #   \n",
      "=================================================================\n",
      "embedding_13 (Embedding)     (None, 50, 50)            250000    \n",
      "_________________________________________________________________\n",
      "conv1d_13 (Conv1D)           (None, 50, 32)            1632      \n",
      "_________________________________________________________________\n",
      "global_max_pooling1d_13 (Glo (None, 32)                0         \n",
      "_________________________________________________________________\n",
      "dense_26 (Dense)             (None, 32)                1056      \n",
      "_________________________________________________________________\n",
      "dropout_13 (Dropout)         (None, 32)                0         \n",
      "_________________________________________________________________\n",
      "dense_27 (Dense)             (None, 1)                 33        \n",
      "=================================================================\n",
      "Total params: 252,721\n",
      "Trainable params: 252,721\n",
      "Non-trainable params: 0\n",
      "_________________________________________________________________\n"
     ]
    }
   ],
   "source": [
    "from keras.models import Sequential\n",
    "from tensorflow.keras.layers import Dense, Dropout, Activation, Flatten, Embedding, Conv1D, GlobalMaxPooling1D\n",
    "\n",
    "embedding_dim = 20\n",
    "vocab_size = 5000\n",
    "num_filters = 32\n",
    "kernel_size = 1\n",
    "\n",
    "\n",
    "model01 = Sequential()\n",
    "model01.add(Embedding(input_dim=vocab_size,          # input_dim is the size of the vocabulary\n",
    "                           output_dim=embedding_dim,      # output_dim is the size of the dense vector\n",
    "                           input_length=maxlen))          # input_length is the length of the sequence\n",
    "model01.add(Conv1D(num_filters,               # add a Convolution1D, which will learn filters\n",
    "                 kernel_size,       # convolutional windows length, which mean will operate over 3 words every time\n",
    "                 padding='valid',\n",
    "                 activation='relu',\n",
    "                 strides=1))\n",
    "model01.add(GlobalMaxPooling1D())    # use max pooling to reduce the size of the feature maps\n",
    "model01.add(Dense(32, activation='relu'))\n",
    "model01.add(Dropout(0.2))\n",
    "model01.add(Dense(1, activation='sigmoid'))\n",
    "model01.compile(optimizer='adam',\n",
    "              loss='binary_crossentropy',\n",
    "              metrics=['accuracy'])\n",
    "\n",
    "model01.summary()"
   ]
  },
  {
   "cell_type": "code",
   "execution_count": 93,
   "metadata": {},
   "outputs": [
    {
     "name": "stdout",
     "output_type": "stream",
     "text": [
      "Epoch 1/15\n",
      "147/147 [==============================] - 2s 14ms/step - loss: 0.6324 - accuracy: 0.6669 - val_loss: 0.3553 - val_accuracy: 0.8382\n",
      "Epoch 2/15\n",
      "147/147 [==============================] - 2s 14ms/step - loss: 0.2546 - accuracy: 0.9031 - val_loss: 0.2826 - val_accuracy: 0.8910\n",
      "Epoch 3/15\n",
      "147/147 [==============================] - 2s 15ms/step - loss: 0.1145 - accuracy: 0.9649 - val_loss: 0.3022 - val_accuracy: 0.8961\n",
      "Epoch 00003: early stopping\n"
     ]
    }
   ],
   "source": [
    "from keras.callbacks import EarlyStopping\n",
    "\n",
    "es = EarlyStopping(monitor='val_loss', mode='min', verbose=1)\n",
    "his01=model01.fit(X_train,y_train, batch_size=16, epochs=5, validation_data=(X_val,y_val),callbacks=[es])"
   ]
  },
  {
   "cell_type": "code",
   "execution_count": 94,
   "metadata": {},
   "outputs": [],
   "source": [
    "prediction = model01.predict_classes(X_val)"
   ]
  },
  {
   "cell_type": "code",
   "execution_count": 95,
   "metadata": {},
   "outputs": [
    {
     "name": "stdout",
     "output_type": "stream",
     "text": [
      "[[  0 265]\n",
      " [  1 322]]\n"
     ]
    }
   ],
   "source": [
    "(unique, counts) = np.unique(prediction, return_counts=True)\n",
    "frequencies = np.asarray((unique, counts)).T\n",
    "\n",
    "print(frequencies)"
   ]
  },
  {
   "cell_type": "code",
   "execution_count": 96,
   "metadata": {},
   "outputs": [
    {
     "name": "stdout",
     "output_type": "stream",
     "text": [
      "Confusion Matrix of the prediction results:\n",
      " [[253  49]\n",
      " [ 12 273]]\n",
      "FN Rate: 0.0835; FP Rate:0.0204\n"
     ]
    }
   ],
   "source": [
    "from sklearn.metrics import confusion_matrix\n",
    "\n",
    "cm = confusion_matrix(y_val, prediction, labels=[0,1])\n",
    "FN = cm[0][1]/y_val.shape[0]\n",
    "FP = cm[1][0]/y_val.shape[0]\n",
    "\n",
    "print('Confusion Matrix of the prediction results:\\n', cm)\n",
    "print('FN Rate: {:.4f}; FP Rate:{:.4f}'.format(FN,FP))"
   ]
  },
  {
   "cell_type": "code",
   "execution_count": 97,
   "metadata": {},
   "outputs": [
    {
     "name": "stdout",
     "output_type": "stream",
     "text": [
      "Requirement already satisfied: plot_keras_history in /opt/anaconda3/lib/python3.8/site-packages (1.1.29)\n",
      "Requirement already satisfied: sanitize-ml-labels in /opt/anaconda3/lib/python3.8/site-packages (from plot_keras_history) (1.0.26)\n",
      "Requirement already satisfied: scipy in /opt/anaconda3/lib/python3.8/site-packages (from plot_keras_history) (1.5.2)\n",
      "Requirement already satisfied: matplotlib in /opt/anaconda3/lib/python3.8/site-packages (from plot_keras_history) (3.3.2)\n",
      "Requirement already satisfied: pandas in /opt/anaconda3/lib/python3.8/site-packages (from plot_keras_history) (1.1.3)\n",
      "Requirement already satisfied: compress-json in /opt/anaconda3/lib/python3.8/site-packages (from sanitize-ml-labels->plot_keras_history) (1.0.4)\n",
      "Requirement already satisfied: numpy>=1.14.5 in /opt/anaconda3/lib/python3.8/site-packages (from scipy->plot_keras_history) (1.19.2)\n",
      "Requirement already satisfied: kiwisolver>=1.0.1 in /opt/anaconda3/lib/python3.8/site-packages (from matplotlib->plot_keras_history) (1.3.0)\n",
      "Requirement already satisfied: pillow>=6.2.0 in /opt/anaconda3/lib/python3.8/site-packages (from matplotlib->plot_keras_history) (8.0.1)\n",
      "Requirement already satisfied: pyparsing!=2.0.4,!=2.1.2,!=2.1.6,>=2.0.3 in /opt/anaconda3/lib/python3.8/site-packages (from matplotlib->plot_keras_history) (2.4.7)\n",
      "Requirement already satisfied: python-dateutil>=2.1 in /opt/anaconda3/lib/python3.8/site-packages (from matplotlib->plot_keras_history) (2.8.1)\n",
      "Requirement already satisfied: certifi>=2020.06.20 in /opt/anaconda3/lib/python3.8/site-packages (from matplotlib->plot_keras_history) (2020.6.20)\n",
      "Requirement already satisfied: cycler>=0.10 in /opt/anaconda3/lib/python3.8/site-packages (from matplotlib->plot_keras_history) (0.10.0)\n",
      "Requirement already satisfied: pytz>=2017.2 in /opt/anaconda3/lib/python3.8/site-packages (from pandas->plot_keras_history) (2020.1)\n",
      "Requirement already satisfied: six>=1.5 in /opt/anaconda3/lib/python3.8/site-packages (from python-dateutil>=2.1->matplotlib->plot_keras_history) (1.15.0)\n",
      "Training Accuracy: 0.9821\n",
      "Validation Accuracy:  0.8961\n"
     ]
    },
    {
     "data": {
      "text/plain": [
       "(<Figure size 720x360 with 2 Axes>,\n",
       " array([<AxesSubplot:title={'center':'Loss'}, xlabel='Epochs', ylabel='Loss'>,\n",
       "        <AxesSubplot:title={'center':'Accuracy'}, xlabel='Epochs', ylabel='Accuracy'>],\n",
       "       dtype=object))"
      ]
     },
     "execution_count": 97,
     "metadata": {},
     "output_type": "execute_result"
    },
    {
     "data": {
      "image/png": "[encoded data removed]",
      "text/plain": [
       "<Figure size 720x360 with 2 Axes>"
      ]
     },
     "metadata": {
      "needs_background": "light"
     },
     "output_type": "display_data"
    }
   ],
   "source": [
    "!pip install plot_keras_history\n",
    "from plot_keras_history import plot_history\n",
    "\n",
    "loss, accuracy = model01.evaluate(X_train, y_train, verbose=False)\n",
    "print(\"Training Accuracy: {:.4f}\".format(accuracy))\n",
    "loss, accuracy = model01.evaluate(X_val, y_val, verbose=False)\n",
    "print(\"Validation Accuracy:  {:.4f}\".format(accuracy))\n",
    "\n",
    "plot_history(his01)"
   ]
  },
  {
   "cell_type": "code",
   "execution_count": 98,
   "metadata": {},
   "outputs": [],
   "source": [
    "# Save the entire model to a HDF5 file\n",
    "model01.save('CNN_model.h5')"
   ]
  },
  {
   "cell_type": "code",
   "execution_count": null,
   "metadata": {},
   "outputs": [],
   "source": []
  },
  {
   "cell_type": "code",
   "execution_count": null,
   "metadata": {},
   "outputs": [],
   "source": []
  },
  {
   "cell_type": "code",
   "execution_count": null,
   "metadata": {},
   "outputs": [],
   "source": []
  },
  {
   "cell_type": "code",
   "execution_count": null,
   "metadata": {},
   "outputs": [],
   "source": []
  },
  {
   "cell_type": "code",
   "execution_count": null,
   "metadata": {},
   "outputs": [],
   "source": []
  },
  {
   "cell_type": "code",
   "execution_count": null,
   "metadata": {},
   "outputs": [],
   "source": []
  },
  {
   "cell_type": "code",
   "execution_count": null,
   "metadata": {},
   "outputs": [],
   "source": []
  },
  {
   "cell_type": "code",
   "execution_count": null,
   "metadata": {},
   "outputs": [],
   "source": []
  },
  {
   "cell_type": "code",
   "execution_count": null,
   "metadata": {},
   "outputs": [],
   "source": []
  },
  {
   "cell_type": "code",
   "execution_count": null,
   "metadata": {},
   "outputs": [],
   "source": [
    "from keras.wrappers.scikit_learn import KerasClassifier\n",
    "from sklearn.model_selection import StratifiedKFold\n",
    "from sklearn.model_selection import cross_val_score\n",
    "from sklearn.model_selection import GridSearchCV\n",
    "tf.config.run_functions_eagerly(True)\n",
    "\n",
    "classifier = KerasClassifier(build_fn=create_model,verbose=0)\n",
    "\n",
    "# grid search optimizer, epochs, and batch size\n",
    "parameters = {'optimizer':['adam','rmsprop'],'epochs':[3, 5, 10],'batch_size':[3, 5, 10, 20]}\n",
    "\n",
    "grid = GridSearchCV(estimator=classifier, param_grid=parameters, cv = 10)\n",
    "grid_result = grid.fit(X, Y)"
   ]
  },
  {
   "cell_type": "code",
   "execution_count": null,
   "metadata": {},
   "outputs": [],
   "source": [
    "# summarize results\n",
    "print(\"Best: %f using %s\" % (grid_result.best_score_, grid_result.best_params_))\n",
    "\n",
    "means = grid_result.cv_results_['mean_test_score']\n",
    "stds = grid_result.cv_results_['std_test_score']\n",
    "params = grid_result.cv_results_['params']\n",
    "for mean, stdev, param in zip(means, stds, params):\n",
    "    print(\"%f (%f) with: %r\" % (mean, stdev, param))"
   ]
  },
  {
   "cell_type": "code",
   "execution_count": null,
   "metadata": {},
   "outputs": [],
   "source": [
    "# Save the entire model to a HDF5 file\n",
    "grid_result.save('CNN_model.h5')"
   ]
  },
  {
   "cell_type": "code",
   "execution_count": null,
   "metadata": {},
   "outputs": [],
   "source": []
  },
  {
   "cell_type": "code",
   "execution_count": null,
   "metadata": {},
   "outputs": [],
   "source": []
  },
  {
   "cell_type": "code",
   "execution_count": null,
   "metadata": {},
   "outputs": [],
   "source": []
  },
  {
   "cell_type": "code",
   "execution_count": null,
   "metadata": {},
   "outputs": [],
   "source": []
  }
 ],
 "metadata": {
  "kernelspec": {
   "display_name": "Python 3",
   "language": "python",
   "name": "python3"
  },
  "language_info": {
   "codemirror_mode": {
    "name": "ipython",
    "version": 3
   },
   "file_extension": ".py",
   "mimetype": "text/x-python",
   "name": "python",
   "nbconvert_exporter": "python",
   "pygments_lexer": "ipython3",
   "version": "3.8.5"
  }
 },
 "nbformat": 4,
 "nbformat_minor": 4
}
