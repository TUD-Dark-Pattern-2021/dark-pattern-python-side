{
 "cells": [
  {
   "cell_type": "code",
   "execution_count": 1,
   "metadata": {
    "colab": {
     "base_uri": "https://localhost:8080/"
    },
    "executionInfo": {
     "elapsed": 7972,
     "status": "ok",
     "timestamp": 1620037932345,
     "user": {
      "displayName": "Lan Zeng",
      "photoUrl": "",
      "userId": "17725825206879958125"
     },
     "user_tz": -60
    },
    "id": "5soa5HwN7iA7",
    "outputId": "7ad0292a-02e6-4ef0-fe40-e4f4bf423031"
   },
   "outputs": [
    {
     "name": "stdout",
     "output_type": "stream",
     "text": [
      "Found GPU at: /device:GPU:0\n"
     ]
    }
   ],
   "source": [
    "%tensorflow_version 2.x\n",
    "import tensorflow as tf\n",
    "device_name = tf.test.gpu_device_name()\n",
    "if device_name != '/device:GPU:0':\n",
    "  raise SystemError('GPU device not found')\n",
    "print('Found GPU at: {}'.format(device_name))"
   ]
  },
  {
   "cell_type": "code",
   "execution_count": 2,
   "metadata": {
    "colab": {
     "base_uri": "https://localhost:8080/"
    },
    "executionInfo": {
     "elapsed": 22565,
     "status": "ok",
     "timestamp": 1620037960512,
     "user": {
      "displayName": "Lan Zeng",
      "photoUrl": "",
      "userId": "17725825206879958125"
     },
     "user_tz": -60
    },
    "id": "y5_xNqcc7nxs",
    "outputId": "51d305fb-9952-424e-9fe2-9e724077e621"
   },
   "outputs": [
    {
     "name": "stdout",
     "output_type": "stream",
     "text": [
      "Mounted at /content/drive\n"
     ]
    }
   ],
   "source": [
    "from google.colab import drive\n",
    "drive.mount('/content/drive')"
   ]
  },
  {
   "cell_type": "code",
   "execution_count": 3,
   "metadata": {
    "executionInfo": {
     "elapsed": 873,
     "status": "ok",
     "timestamp": 1620037963085,
     "user": {
      "displayName": "Lan Zeng",
      "photoUrl": "",
      "userId": "17725825206879958125"
     },
     "user_tz": -60
    },
    "id": "36kITWPc7n7x"
   },
   "outputs": [],
   "source": [
    "import pandas as pd\n",
    "import numpy as np\n",
    "import tensorflow as tf\n",
    "from tensorflow import keras"
   ]
  },
  {
   "cell_type": "code",
   "execution_count": 4,
   "metadata": {
    "executionInfo": {
     "elapsed": 8989,
     "status": "ok",
     "timestamp": 1620037972869,
     "user": {
      "displayName": "Lan Zeng",
      "photoUrl": "",
      "userId": "17725825206879958125"
     },
     "user_tz": -60
    },
    "id": "-7ovg1fa7oFj"
   },
   "outputs": [],
   "source": [
    "train = pd.read_csv('/content/drive/MyDrive/Colab Notebooks/train.csv')\n",
    "test = pd.read_csv('/content/drive/MyDrive/Colab Notebooks/test.csv')"
   ]
  },
  {
   "cell_type": "code",
   "execution_count": 5,
   "metadata": {
    "colab": {
     "base_uri": "https://localhost:8080/",
     "height": 419
    },
    "executionInfo": {
     "elapsed": 6954,
     "status": "ok",
     "timestamp": 1620037972870,
     "user": {
      "displayName": "Lan Zeng",
      "photoUrl": "",
      "userId": "17725825206879958125"
     },
     "user_tz": -60
    },
    "id": "FusdprF07oPa",
    "outputId": "657480d6-91b7-4785-e5bb-3f2d843413bc"
   },
   "outputs": [
    {
     "data": {
      "text/html": [
       "<div>\n",
       "<style scoped>\n",
       "    .dataframe tbody tr th:only-of-type {\n",
       "        vertical-align: middle;\n",
       "    }\n",
       "\n",
       "    .dataframe tbody tr th {\n",
       "        vertical-align: top;\n",
       "    }\n",
       "\n",
       "    .dataframe thead th {\n",
       "        text-align: right;\n",
       "    }\n",
       "</style>\n",
       "<table border=\"1\" class=\"dataframe\">\n",
       "  <thead>\n",
       "    <tr style=\"text-align: right;\">\n",
       "      <th></th>\n",
       "      <th>Artist</th>\n",
       "      <th>Song</th>\n",
       "      <th>Genre</th>\n",
       "      <th>Language</th>\n",
       "      <th>Lyrics</th>\n",
       "    </tr>\n",
       "  </thead>\n",
       "  <tbody>\n",
       "    <tr>\n",
       "      <th>0</th>\n",
       "      <td>12 stones</td>\n",
       "      <td>world so cold</td>\n",
       "      <td>Rock</td>\n",
       "      <td>en</td>\n",
       "      <td>It starts with pain, followed by hate\\nFueled ...</td>\n",
       "    </tr>\n",
       "    <tr>\n",
       "      <th>1</th>\n",
       "      <td>12 stones</td>\n",
       "      <td>broken</td>\n",
       "      <td>Rock</td>\n",
       "      <td>en</td>\n",
       "      <td>Freedom!\\nAlone again again alone\\nPatiently w...</td>\n",
       "    </tr>\n",
       "    <tr>\n",
       "      <th>2</th>\n",
       "      <td>12 stones</td>\n",
       "      <td>3 leaf loser</td>\n",
       "      <td>Rock</td>\n",
       "      <td>en</td>\n",
       "      <td>Biting the hand that feeds you, lying to the v...</td>\n",
       "    </tr>\n",
       "    <tr>\n",
       "      <th>3</th>\n",
       "      <td>12 stones</td>\n",
       "      <td>anthem for the underdog</td>\n",
       "      <td>Rock</td>\n",
       "      <td>en</td>\n",
       "      <td>You say you know just who I am\\nBut you can't ...</td>\n",
       "    </tr>\n",
       "    <tr>\n",
       "      <th>4</th>\n",
       "      <td>12 stones</td>\n",
       "      <td>adrenaline</td>\n",
       "      <td>Rock</td>\n",
       "      <td>en</td>\n",
       "      <td>My heart is beating faster can't control these...</td>\n",
       "    </tr>\n",
       "    <tr>\n",
       "      <th>...</th>\n",
       "      <td>...</td>\n",
       "      <td>...</td>\n",
       "      <td>...</td>\n",
       "      <td>...</td>\n",
       "      <td>...</td>\n",
       "    </tr>\n",
       "    <tr>\n",
       "      <th>290178</th>\n",
       "      <td>bobby womack</td>\n",
       "      <td>i wish he didn t trust me so much</td>\n",
       "      <td>R&amp;B</td>\n",
       "      <td>en</td>\n",
       "      <td>I'm the best friend he's got I'd give him the ...</td>\n",
       "    </tr>\n",
       "    <tr>\n",
       "      <th>290179</th>\n",
       "      <td>bad boys blue</td>\n",
       "      <td>i totally miss you</td>\n",
       "      <td>Pop</td>\n",
       "      <td>en</td>\n",
       "      <td>Bad Boys Blue \"I Totally Miss You\" I did you w...</td>\n",
       "    </tr>\n",
       "    <tr>\n",
       "      <th>290180</th>\n",
       "      <td>celine dion</td>\n",
       "      <td>sorry for love</td>\n",
       "      <td>Pop</td>\n",
       "      <td>en</td>\n",
       "      <td>Forgive me for the things That I never said to...</td>\n",
       "    </tr>\n",
       "    <tr>\n",
       "      <th>290181</th>\n",
       "      <td>dan bern</td>\n",
       "      <td>cure for aids</td>\n",
       "      <td>Indie</td>\n",
       "      <td>en</td>\n",
       "      <td>The day they found a cure for AIDS The day the...</td>\n",
       "    </tr>\n",
       "    <tr>\n",
       "      <th>290182</th>\n",
       "      <td>crawdad republic</td>\n",
       "      <td>iceberg meadows</td>\n",
       "      <td>Pop</td>\n",
       "      <td>en</td>\n",
       "      <td>Fourth of July has come, it's custom that we g...</td>\n",
       "    </tr>\n",
       "  </tbody>\n",
       "</table>\n",
       "<p>290183 rows × 5 columns</p>\n",
       "</div>"
      ],
      "text/plain": [
       "                  Artist  ...                                             Lyrics\n",
       "0              12 stones  ...  It starts with pain, followed by hate\\nFueled ...\n",
       "1              12 stones  ...  Freedom!\\nAlone again again alone\\nPatiently w...\n",
       "2              12 stones  ...  Biting the hand that feeds you, lying to the v...\n",
       "3              12 stones  ...  You say you know just who I am\\nBut you can't ...\n",
       "4              12 stones  ...  My heart is beating faster can't control these...\n",
       "...                  ...  ...                                                ...\n",
       "290178      bobby womack  ...  I'm the best friend he's got I'd give him the ...\n",
       "290179     bad boys blue  ...  Bad Boys Blue \"I Totally Miss You\" I did you w...\n",
       "290180       celine dion  ...  Forgive me for the things That I never said to...\n",
       "290181          dan bern  ...  The day they found a cure for AIDS The day the...\n",
       "290182  crawdad republic  ...  Fourth of July has come, it's custom that we g...\n",
       "\n",
       "[290183 rows x 5 columns]"
      ]
     },
     "execution_count": 5,
     "metadata": {
      "tags": []
     },
     "output_type": "execute_result"
    }
   ],
   "source": [
    "train"
   ]
  },
  {
   "cell_type": "code",
   "execution_count": 6,
   "metadata": {
    "colab": {
     "base_uri": "https://localhost:8080/",
     "height": 419
    },
    "executionInfo": {
     "elapsed": 648,
     "status": "ok",
     "timestamp": 1620037976519,
     "user": {
      "displayName": "Lan Zeng",
      "photoUrl": "",
      "userId": "17725825206879958125"
     },
     "user_tz": -60
    },
    "id": "WECpbTOuol1N",
    "outputId": "425715e2-8a41-4edd-ecf5-07fe074d7b0e"
   },
   "outputs": [
    {
     "data": {
      "text/html": [
       "<div>\n",
       "<style scoped>\n",
       "    .dataframe tbody tr th:only-of-type {\n",
       "        vertical-align: middle;\n",
       "    }\n",
       "\n",
       "    .dataframe tbody tr th {\n",
       "        vertical-align: top;\n",
       "    }\n",
       "\n",
       "    .dataframe thead th {\n",
       "        text-align: right;\n",
       "    }\n",
       "</style>\n",
       "<table border=\"1\" class=\"dataframe\">\n",
       "  <thead>\n",
       "    <tr style=\"text-align: right;\">\n",
       "      <th></th>\n",
       "      <th>Song</th>\n",
       "      <th>Song year</th>\n",
       "      <th>Artist</th>\n",
       "      <th>Genre</th>\n",
       "      <th>Lyrics</th>\n",
       "      <th>Track_id</th>\n",
       "    </tr>\n",
       "  </thead>\n",
       "  <tbody>\n",
       "    <tr>\n",
       "      <th>0</th>\n",
       "      <td>craftsmanship</td>\n",
       "      <td>2005</td>\n",
       "      <td>buck-65</td>\n",
       "      <td>Hip-Hop</td>\n",
       "      <td>Most folks spend their days daydreaming of fin...</td>\n",
       "      <td>8294</td>\n",
       "    </tr>\n",
       "    <tr>\n",
       "      <th>1</th>\n",
       "      <td>come-on-out</td>\n",
       "      <td>2012</td>\n",
       "      <td>the-elwins</td>\n",
       "      <td>Indie</td>\n",
       "      <td>Take your cold hands and put them on my face\\n...</td>\n",
       "      <td>21621</td>\n",
       "    </tr>\n",
       "    <tr>\n",
       "      <th>2</th>\n",
       "      <td>riot</td>\n",
       "      <td>2013</td>\n",
       "      <td>bullet-for-my-valentine</td>\n",
       "      <td>Metal</td>\n",
       "      <td>Are you ready it's time for war\\nWe'll break d...</td>\n",
       "      <td>3301</td>\n",
       "    </tr>\n",
       "    <tr>\n",
       "      <th>3</th>\n",
       "      <td>that-s-what-girls-do</td>\n",
       "      <td>2007</td>\n",
       "      <td>dream-street</td>\n",
       "      <td>Pop</td>\n",
       "      <td>You ask me why I change the color of my hair\\n...</td>\n",
       "      <td>2773</td>\n",
       "    </tr>\n",
       "    <tr>\n",
       "      <th>4</th>\n",
       "      <td>believe-in-a-dollar</td>\n",
       "      <td>2012</td>\n",
       "      <td>cassidy</td>\n",
       "      <td>Hip-Hop</td>\n",
       "      <td>Do you believe in magic in a young girl's hear...</td>\n",
       "      <td>16797</td>\n",
       "    </tr>\n",
       "    <tr>\n",
       "      <th>...</th>\n",
       "      <td>...</td>\n",
       "      <td>...</td>\n",
       "      <td>...</td>\n",
       "      <td>...</td>\n",
       "      <td>...</td>\n",
       "      <td>...</td>\n",
       "    </tr>\n",
       "    <tr>\n",
       "      <th>7930</th>\n",
       "      <td>too-little-too-late</td>\n",
       "      <td>2006</td>\n",
       "      <td>amanda-marshall</td>\n",
       "      <td>Rock</td>\n",
       "      <td>Tuesday night - 7:30\\nI hear a voice on the te...</td>\n",
       "      <td>23453</td>\n",
       "    </tr>\n",
       "    <tr>\n",
       "      <th>7931</th>\n",
       "      <td>berserker</td>\n",
       "      <td>2007</td>\n",
       "      <td>aurora-borealis</td>\n",
       "      <td>Metal</td>\n",
       "      <td>Elite forces cloaked in fur un sensitive to pa...</td>\n",
       "      <td>2724</td>\n",
       "    </tr>\n",
       "    <tr>\n",
       "      <th>7932</th>\n",
       "      <td>natural-born-killaz</td>\n",
       "      <td>2010</td>\n",
       "      <td>dr-dre</td>\n",
       "      <td>Hip-Hop</td>\n",
       "      <td>[Dr. Dre]\\nJourney with me\\nInto the mind of a...</td>\n",
       "      <td>24147</td>\n",
       "    </tr>\n",
       "    <tr>\n",
       "      <th>7933</th>\n",
       "      <td>wide-awake</td>\n",
       "      <td>2011</td>\n",
       "      <td>chris-cornell</td>\n",
       "      <td>Rock</td>\n",
       "      <td>You can a look a hurricane right in the eye.\\n...</td>\n",
       "      <td>4150</td>\n",
       "    </tr>\n",
       "    <tr>\n",
       "      <th>7934</th>\n",
       "      <td>god-knows</td>\n",
       "      <td>2007</td>\n",
       "      <td>the-coral</td>\n",
       "      <td>Rock</td>\n",
       "      <td>Deal not the truth till you find the proof\\nAn...</td>\n",
       "      <td>16992</td>\n",
       "    </tr>\n",
       "  </tbody>\n",
       "</table>\n",
       "<p>7935 rows × 6 columns</p>\n",
       "</div>"
      ],
      "text/plain": [
       "                      Song  ...  Track_id\n",
       "0            craftsmanship  ...      8294\n",
       "1              come-on-out  ...     21621\n",
       "2                     riot  ...      3301\n",
       "3     that-s-what-girls-do  ...      2773\n",
       "4      believe-in-a-dollar  ...     16797\n",
       "...                    ...  ...       ...\n",
       "7930   too-little-too-late  ...     23453\n",
       "7931             berserker  ...      2724\n",
       "7932   natural-born-killaz  ...     24147\n",
       "7933            wide-awake  ...      4150\n",
       "7934             god-knows  ...     16992\n",
       "\n",
       "[7935 rows x 6 columns]"
      ]
     },
     "execution_count": 6,
     "metadata": {
      "tags": []
     },
     "output_type": "execute_result"
    }
   ],
   "source": [
    "test"
   ]
  },
  {
   "cell_type": "code",
   "execution_count": 7,
   "metadata": {
    "executionInfo": {
     "elapsed": 498,
     "status": "ok",
     "timestamp": 1620037983005,
     "user": {
      "displayName": "Lan Zeng",
      "photoUrl": "",
      "userId": "17725825206879958125"
     },
     "user_tz": -60
    },
    "id": "C7G8Ux2Xp4GL"
   },
   "outputs": [],
   "source": [
    "vertical_stack = pd.concat([train, test], axis=0)"
   ]
  },
  {
   "cell_type": "code",
   "execution_count": 8,
   "metadata": {
    "colab": {
     "base_uri": "https://localhost:8080/",
     "height": 419
    },
    "executionInfo": {
     "elapsed": 539,
     "status": "ok",
     "timestamp": 1620037984258,
     "user": {
      "displayName": "Lan Zeng",
      "photoUrl": "",
      "userId": "17725825206879958125"
     },
     "user_tz": -60
    },
    "id": "eHpnRbLRq-LJ",
    "outputId": "05456945-449f-4227-be7d-f6d9cf58fa4d"
   },
   "outputs": [
    {
     "data": {
      "text/html": [
       "<div>\n",
       "<style scoped>\n",
       "    .dataframe tbody tr th:only-of-type {\n",
       "        vertical-align: middle;\n",
       "    }\n",
       "\n",
       "    .dataframe tbody tr th {\n",
       "        vertical-align: top;\n",
       "    }\n",
       "\n",
       "    .dataframe thead th {\n",
       "        text-align: right;\n",
       "    }\n",
       "</style>\n",
       "<table border=\"1\" class=\"dataframe\">\n",
       "  <thead>\n",
       "    <tr style=\"text-align: right;\">\n",
       "      <th></th>\n",
       "      <th>Artist</th>\n",
       "      <th>Song</th>\n",
       "      <th>Genre</th>\n",
       "      <th>Language</th>\n",
       "      <th>Lyrics</th>\n",
       "      <th>Song year</th>\n",
       "      <th>Track_id</th>\n",
       "    </tr>\n",
       "  </thead>\n",
       "  <tbody>\n",
       "    <tr>\n",
       "      <th>0</th>\n",
       "      <td>12 stones</td>\n",
       "      <td>world so cold</td>\n",
       "      <td>Rock</td>\n",
       "      <td>en</td>\n",
       "      <td>It starts with pain, followed by hate\\nFueled ...</td>\n",
       "      <td>NaN</td>\n",
       "      <td>NaN</td>\n",
       "    </tr>\n",
       "    <tr>\n",
       "      <th>1</th>\n",
       "      <td>12 stones</td>\n",
       "      <td>broken</td>\n",
       "      <td>Rock</td>\n",
       "      <td>en</td>\n",
       "      <td>Freedom!\\nAlone again again alone\\nPatiently w...</td>\n",
       "      <td>NaN</td>\n",
       "      <td>NaN</td>\n",
       "    </tr>\n",
       "    <tr>\n",
       "      <th>2</th>\n",
       "      <td>12 stones</td>\n",
       "      <td>3 leaf loser</td>\n",
       "      <td>Rock</td>\n",
       "      <td>en</td>\n",
       "      <td>Biting the hand that feeds you, lying to the v...</td>\n",
       "      <td>NaN</td>\n",
       "      <td>NaN</td>\n",
       "    </tr>\n",
       "    <tr>\n",
       "      <th>3</th>\n",
       "      <td>12 stones</td>\n",
       "      <td>anthem for the underdog</td>\n",
       "      <td>Rock</td>\n",
       "      <td>en</td>\n",
       "      <td>You say you know just who I am\\nBut you can't ...</td>\n",
       "      <td>NaN</td>\n",
       "      <td>NaN</td>\n",
       "    </tr>\n",
       "    <tr>\n",
       "      <th>4</th>\n",
       "      <td>12 stones</td>\n",
       "      <td>adrenaline</td>\n",
       "      <td>Rock</td>\n",
       "      <td>en</td>\n",
       "      <td>My heart is beating faster can't control these...</td>\n",
       "      <td>NaN</td>\n",
       "      <td>NaN</td>\n",
       "    </tr>\n",
       "    <tr>\n",
       "      <th>...</th>\n",
       "      <td>...</td>\n",
       "      <td>...</td>\n",
       "      <td>...</td>\n",
       "      <td>...</td>\n",
       "      <td>...</td>\n",
       "      <td>...</td>\n",
       "      <td>...</td>\n",
       "    </tr>\n",
       "    <tr>\n",
       "      <th>7930</th>\n",
       "      <td>amanda-marshall</td>\n",
       "      <td>too-little-too-late</td>\n",
       "      <td>Rock</td>\n",
       "      <td>NaN</td>\n",
       "      <td>Tuesday night - 7:30\\nI hear a voice on the te...</td>\n",
       "      <td>2006.0</td>\n",
       "      <td>23453.0</td>\n",
       "    </tr>\n",
       "    <tr>\n",
       "      <th>7931</th>\n",
       "      <td>aurora-borealis</td>\n",
       "      <td>berserker</td>\n",
       "      <td>Metal</td>\n",
       "      <td>NaN</td>\n",
       "      <td>Elite forces cloaked in fur un sensitive to pa...</td>\n",
       "      <td>2007.0</td>\n",
       "      <td>2724.0</td>\n",
       "    </tr>\n",
       "    <tr>\n",
       "      <th>7932</th>\n",
       "      <td>dr-dre</td>\n",
       "      <td>natural-born-killaz</td>\n",
       "      <td>Hip-Hop</td>\n",
       "      <td>NaN</td>\n",
       "      <td>[Dr. Dre]\\nJourney with me\\nInto the mind of a...</td>\n",
       "      <td>2010.0</td>\n",
       "      <td>24147.0</td>\n",
       "    </tr>\n",
       "    <tr>\n",
       "      <th>7933</th>\n",
       "      <td>chris-cornell</td>\n",
       "      <td>wide-awake</td>\n",
       "      <td>Rock</td>\n",
       "      <td>NaN</td>\n",
       "      <td>You can a look a hurricane right in the eye.\\n...</td>\n",
       "      <td>2011.0</td>\n",
       "      <td>4150.0</td>\n",
       "    </tr>\n",
       "    <tr>\n",
       "      <th>7934</th>\n",
       "      <td>the-coral</td>\n",
       "      <td>god-knows</td>\n",
       "      <td>Rock</td>\n",
       "      <td>NaN</td>\n",
       "      <td>Deal not the truth till you find the proof\\nAn...</td>\n",
       "      <td>2007.0</td>\n",
       "      <td>16992.0</td>\n",
       "    </tr>\n",
       "  </tbody>\n",
       "</table>\n",
       "<p>298118 rows × 7 columns</p>\n",
       "</div>"
      ],
      "text/plain": [
       "               Artist                     Song  ... Song year Track_id\n",
       "0           12 stones            world so cold  ...       NaN      NaN\n",
       "1           12 stones                   broken  ...       NaN      NaN\n",
       "2           12 stones             3 leaf loser  ...       NaN      NaN\n",
       "3           12 stones  anthem for the underdog  ...       NaN      NaN\n",
       "4           12 stones               adrenaline  ...       NaN      NaN\n",
       "...               ...                      ...  ...       ...      ...\n",
       "7930  amanda-marshall      too-little-too-late  ...    2006.0  23453.0\n",
       "7931  aurora-borealis                berserker  ...    2007.0   2724.0\n",
       "7932           dr-dre      natural-born-killaz  ...    2010.0  24147.0\n",
       "7933    chris-cornell               wide-awake  ...    2011.0   4150.0\n",
       "7934        the-coral                god-knows  ...    2007.0  16992.0\n",
       "\n",
       "[298118 rows x 7 columns]"
      ]
     },
     "execution_count": 8,
     "metadata": {
      "tags": []
     },
     "output_type": "execute_result"
    }
   ],
   "source": [
    "vertical_stack"
   ]
  },
  {
   "cell_type": "code",
   "execution_count": 9,
   "metadata": {
    "colab": {
     "base_uri": "https://localhost:8080/"
    },
    "executionInfo": {
     "elapsed": 474,
     "status": "ok",
     "timestamp": 1620037988898,
     "user": {
      "displayName": "Lan Zeng",
      "photoUrl": "",
      "userId": "17725825206879958125"
     },
     "user_tz": -60
    },
    "id": "e1olIY5Hq_SK",
    "outputId": "2eac462d-d081-4917-c4cd-3597b783778e"
   },
   "outputs": [
    {
     "data": {
      "text/plain": [
       "elvis presley         1611\n",
       "chris brown           1239\n",
       "elvis costello         923\n",
       "ella fitzgerald        874\n",
       "the rolling stones     820\n",
       "bee gees               811\n",
       "glee                   765\n",
       "bad religion           752\n",
       "beyonce                752\n",
       "elton john             728\n",
       "Name: Artist, dtype: int64"
      ]
     },
     "execution_count": 9,
     "metadata": {
      "tags": []
     },
     "output_type": "execute_result"
    }
   ],
   "source": [
    "vertical_stack['Artist'].value_counts().head(10)"
   ]
  },
  {
   "cell_type": "code",
   "execution_count": 10,
   "metadata": {
    "colab": {
     "base_uri": "https://localhost:8080/",
     "height": 419
    },
    "executionInfo": {
     "elapsed": 459,
     "status": "ok",
     "timestamp": 1620037990516,
     "user": {
      "displayName": "Lan Zeng",
      "photoUrl": "",
      "userId": "17725825206879958125"
     },
     "user_tz": -60
    },
    "id": "Ao449uCErtvW",
    "outputId": "0d1afab3-5f11-40d3-d46f-c78d97812ea7"
   },
   "outputs": [
    {
     "data": {
      "text/html": [
       "<div>\n",
       "<style scoped>\n",
       "    .dataframe tbody tr th:only-of-type {\n",
       "        vertical-align: middle;\n",
       "    }\n",
       "\n",
       "    .dataframe tbody tr th {\n",
       "        vertical-align: top;\n",
       "    }\n",
       "\n",
       "    .dataframe thead th {\n",
       "        text-align: right;\n",
       "    }\n",
       "</style>\n",
       "<table border=\"1\" class=\"dataframe\">\n",
       "  <thead>\n",
       "    <tr style=\"text-align: right;\">\n",
       "      <th></th>\n",
       "      <th>Artist</th>\n",
       "      <th>Song</th>\n",
       "      <th>Genre</th>\n",
       "      <th>Language</th>\n",
       "      <th>Lyrics</th>\n",
       "      <th>Song year</th>\n",
       "      <th>Track_id</th>\n",
       "    </tr>\n",
       "  </thead>\n",
       "  <tbody>\n",
       "    <tr>\n",
       "      <th>3791</th>\n",
       "      <td>bad religion</td>\n",
       "      <td>american jesus</td>\n",
       "      <td>Pop</td>\n",
       "      <td>en</td>\n",
       "      <td>I don't need to be a global citizen,\\n'Cuz I'm...</td>\n",
       "      <td>NaN</td>\n",
       "      <td>NaN</td>\n",
       "    </tr>\n",
       "    <tr>\n",
       "      <th>3792</th>\n",
       "      <td>bad religion</td>\n",
       "      <td>infected</td>\n",
       "      <td>Pop</td>\n",
       "      <td>en</td>\n",
       "      <td>Infected\\nNow here I go,\\nHope I don't break d...</td>\n",
       "      <td>NaN</td>\n",
       "      <td>NaN</td>\n",
       "    </tr>\n",
       "    <tr>\n",
       "      <th>3793</th>\n",
       "      <td>bad religion</td>\n",
       "      <td>a walk</td>\n",
       "      <td>Pop</td>\n",
       "      <td>en</td>\n",
       "      <td>I'm going for a walk\\nnot the after dinner kin...</td>\n",
       "      <td>NaN</td>\n",
       "      <td>NaN</td>\n",
       "    </tr>\n",
       "    <tr>\n",
       "      <th>3794</th>\n",
       "      <td>bad religion</td>\n",
       "      <td>sorrow</td>\n",
       "      <td>Pop</td>\n",
       "      <td>en</td>\n",
       "      <td>Father can you hear me?\\nHow have I let you do...</td>\n",
       "      <td>NaN</td>\n",
       "      <td>NaN</td>\n",
       "    </tr>\n",
       "    <tr>\n",
       "      <th>3795</th>\n",
       "      <td>bad religion</td>\n",
       "      <td>you</td>\n",
       "      <td>Pop</td>\n",
       "      <td>en</td>\n",
       "      <td>There's a place where everyone can be happy\\nI...</td>\n",
       "      <td>NaN</td>\n",
       "      <td>NaN</td>\n",
       "    </tr>\n",
       "    <tr>\n",
       "      <th>...</th>\n",
       "      <td>...</td>\n",
       "      <td>...</td>\n",
       "      <td>...</td>\n",
       "      <td>...</td>\n",
       "      <td>...</td>\n",
       "      <td>...</td>\n",
       "      <td>...</td>\n",
       "    </tr>\n",
       "    <tr>\n",
       "      <th>289878</th>\n",
       "      <td>ella fitzgerald</td>\n",
       "      <td>too marvelous for words</td>\n",
       "      <td>Jazz</td>\n",
       "      <td>en</td>\n",
       "      <td>You're just too marvelous Too marvelous for wo...</td>\n",
       "      <td>NaN</td>\n",
       "      <td>NaN</td>\n",
       "    </tr>\n",
       "    <tr>\n",
       "      <th>289948</th>\n",
       "      <td>chris brown</td>\n",
       "      <td>i get around</td>\n",
       "      <td>Hip-Hop</td>\n",
       "      <td>en</td>\n",
       "      <td>Up, high, down, low I be anywhere you want Not...</td>\n",
       "      <td>NaN</td>\n",
       "      <td>NaN</td>\n",
       "    </tr>\n",
       "    <tr>\n",
       "      <th>290027</th>\n",
       "      <td>ella fitzgerald</td>\n",
       "      <td>ev rything i ve got</td>\n",
       "      <td>Jazz</td>\n",
       "      <td>en</td>\n",
       "      <td>Don't stamp your foot at me, It's impolite To ...</td>\n",
       "      <td>NaN</td>\n",
       "      <td>NaN</td>\n",
       "    </tr>\n",
       "    <tr>\n",
       "      <th>1574</th>\n",
       "      <td>beyonce</td>\n",
       "      <td>6-inch</td>\n",
       "      <td>Pop</td>\n",
       "      <td>NaN</td>\n",
       "      <td>Six inch heels, she walked in the club like no...</td>\n",
       "      <td>2016.0</td>\n",
       "      <td>5220.0</td>\n",
       "    </tr>\n",
       "    <tr>\n",
       "      <th>7431</th>\n",
       "      <td>beyonce</td>\n",
       "      <td>sweet-dreams</td>\n",
       "      <td>Pop</td>\n",
       "      <td>NaN</td>\n",
       "      <td>Turn the lights on\\nEvery night I rush to my b...</td>\n",
       "      <td>2012.0</td>\n",
       "      <td>13805.0</td>\n",
       "    </tr>\n",
       "  </tbody>\n",
       "</table>\n",
       "<p>9275 rows × 7 columns</p>\n",
       "</div>"
      ],
      "text/plain": [
       "                 Artist                     Song  ... Song year Track_id\n",
       "3791       bad religion           american jesus  ...       NaN      NaN\n",
       "3792       bad religion                 infected  ...       NaN      NaN\n",
       "3793       bad religion                   a walk  ...       NaN      NaN\n",
       "3794       bad religion                   sorrow  ...       NaN      NaN\n",
       "3795       bad religion                      you  ...       NaN      NaN\n",
       "...                 ...                      ...  ...       ...      ...\n",
       "289878  ella fitzgerald  too marvelous for words  ...       NaN      NaN\n",
       "289948      chris brown             i get around  ...       NaN      NaN\n",
       "290027  ella fitzgerald      ev rything i ve got  ...       NaN      NaN\n",
       "1574            beyonce                   6-inch  ...    2016.0   5220.0\n",
       "7431            beyonce             sweet-dreams  ...    2012.0  13805.0\n",
       "\n",
       "[9275 rows x 7 columns]"
      ]
     },
     "execution_count": 10,
     "metadata": {
      "tags": []
     },
     "output_type": "execute_result"
    }
   ],
   "source": [
    "artists = ['elvis presley','chris brown','elvis costello','ella fitzgerald','the rolling stones', 'bee gees', 'glee', 'beyonce', 'bad religion', 'elton john']\n",
    "top10 = vertical_stack[vertical_stack['Artist'].isin(artists)]\n",
    "top10"
   ]
  },
  {
   "cell_type": "code",
   "execution_count": 11,
   "metadata": {
    "colab": {
     "base_uri": "https://localhost:8080/"
    },
    "executionInfo": {
     "elapsed": 474,
     "status": "ok",
     "timestamp": 1620037992945,
     "user": {
      "displayName": "Lan Zeng",
      "photoUrl": "",
      "userId": "17725825206879958125"
     },
     "user_tz": -60
    },
    "id": "1_NHJz35yH9-",
    "outputId": "8c5372a8-7e80-4d37-8f41-5365ff8bf1c3"
   },
   "outputs": [
    {
     "name": "stderr",
     "output_type": "stream",
     "text": [
      "/usr/local/lib/python3.7/dist-packages/ipykernel_launcher.py:1: SettingWithCopyWarning: \n",
      "A value is trying to be set on a copy of a slice from a DataFrame.\n",
      "Try using .loc[row_indexer,col_indexer] = value instead\n",
      "\n",
      "See the caveats in the documentation: https://pandas.pydata.org/pandas-docs/stable/user_guide/indexing.html#returning-a-view-versus-a-copy\n",
      "  \"\"\"Entry point for launching an IPython kernel.\n"
     ]
    }
   ],
   "source": [
    "top10['Lyrics'] = top10['Lyrics'].astype(str)"
   ]
  },
  {
   "cell_type": "code",
   "execution_count": 12,
   "metadata": {
    "colab": {
     "base_uri": "https://localhost:8080/"
    },
    "executionInfo": {
     "elapsed": 2289,
     "status": "ok",
     "timestamp": 1620037997156,
     "user": {
      "displayName": "Lan Zeng",
      "photoUrl": "",
      "userId": "17725825206879958125"
     },
     "user_tz": -60
    },
    "id": "UCB6COL17om9",
    "outputId": "3a00740e-226d-4045-9a11-e2f1c274ac47"
   },
   "outputs": [
    {
     "name": "stdout",
     "output_type": "stream",
     "text": [
      "[nltk_data] Downloading package stopwords to /root/nltk_data...\n",
      "[nltk_data]   Unzipping corpora/stopwords.zip.\n"
     ]
    },
    {
     "name": "stderr",
     "output_type": "stream",
     "text": [
      "/usr/local/lib/python3.7/dist-packages/ipykernel_launcher.py:23: SettingWithCopyWarning: \n",
      "A value is trying to be set on a copy of a slice from a DataFrame.\n",
      "Try using .loc[row_indexer,col_indexer] = value instead\n",
      "\n",
      "See the caveats in the documentation: https://pandas.pydata.org/pandas-docs/stable/user_guide/indexing.html#returning-a-view-versus-a-copy\n",
      "/usr/local/lib/python3.7/dist-packages/ipykernel_launcher.py:24: SettingWithCopyWarning: \n",
      "A value is trying to be set on a copy of a slice from a DataFrame.\n",
      "Try using .loc[row_indexer,col_indexer] = value instead\n",
      "\n",
      "See the caveats in the documentation: https://pandas.pydata.org/pandas-docs/stable/user_guide/indexing.html#returning-a-view-versus-a-copy\n"
     ]
    }
   ],
   "source": [
    "import re\n",
    "import nltk\n",
    "nltk.download('stopwords')\n",
    "from nltk.corpus import stopwords\n",
    "\n",
    "REPLACE_BY_SPACE_RE = re.compile('[/(){}\\[\\]\\|\\n@,;]')\n",
    "BAD_SYMBOLS_RE = re.compile('[^0-9a-z #+_]') # removing any symbol that is NOT number, letter, space, '#', '+', or '_'.\n",
    "STOPWORDS = set(stopwords.words('english')) # only dealing with English Lyrics, so set stopwords to 'english'\n",
    "\n",
    "def clean_text(text):\n",
    "    \"\"\"\n",
    "        text: a string\n",
    "        \n",
    "        return: modified initial string\n",
    "    \"\"\"\n",
    "    text = text.lower() # lowercase text\n",
    "    text = REPLACE_BY_SPACE_RE.sub(' ', text) # replace REPLACE_BY_SPACE_RE symbols by space in text. substitute the matched string in REPLACE_BY_SPACE_RE with space.\n",
    "    text = BAD_SYMBOLS_RE.sub(' ', text) # remove symbols which are in BAD_SYMBOLS_RE from text. substitute the matched string in BAD_SYMBOLS_RE with space. \n",
    "#    text = re.sub(r'\\W+', '', text)\n",
    "    text = ' '.join(word for word in text.split() if word not in STOPWORDS) # remove stopwords from text\n",
    "    return text\n",
    "\n",
    "top10['Lyrics'] = top10['Lyrics'].apply(clean_text)\n",
    "top10['Lyrics'] = top10['Lyrics'].str.replace('\\d+', '') # replacing one or more digits by nothing"
   ]
  },
  {
   "cell_type": "code",
   "execution_count": 13,
   "metadata": {
    "colab": {
     "base_uri": "https://localhost:8080/",
     "height": 419
    },
    "executionInfo": {
     "elapsed": 490,
     "status": "ok",
     "timestamp": 1620038002096,
     "user": {
      "displayName": "Lan Zeng",
      "photoUrl": "",
      "userId": "17725825206879958125"
     },
     "user_tz": -60
    },
    "id": "TpQceaFgzLPM",
    "outputId": "2b943baa-7802-4e4c-d20b-ff99114e5df1"
   },
   "outputs": [
    {
     "data": {
      "text/html": [
       "<div>\n",
       "<style scoped>\n",
       "    .dataframe tbody tr th:only-of-type {\n",
       "        vertical-align: middle;\n",
       "    }\n",
       "\n",
       "    .dataframe tbody tr th {\n",
       "        vertical-align: top;\n",
       "    }\n",
       "\n",
       "    .dataframe thead th {\n",
       "        text-align: right;\n",
       "    }\n",
       "</style>\n",
       "<table border=\"1\" class=\"dataframe\">\n",
       "  <thead>\n",
       "    <tr style=\"text-align: right;\">\n",
       "      <th></th>\n",
       "      <th>Artist</th>\n",
       "      <th>Song</th>\n",
       "      <th>Genre</th>\n",
       "      <th>Language</th>\n",
       "      <th>Lyrics</th>\n",
       "      <th>Song year</th>\n",
       "      <th>Track_id</th>\n",
       "    </tr>\n",
       "  </thead>\n",
       "  <tbody>\n",
       "    <tr>\n",
       "      <th>3791</th>\n",
       "      <td>bad religion</td>\n",
       "      <td>american jesus</td>\n",
       "      <td>Pop</td>\n",
       "      <td>en</td>\n",
       "      <td>need global citizen cuz blessed nationality me...</td>\n",
       "      <td>NaN</td>\n",
       "      <td>NaN</td>\n",
       "    </tr>\n",
       "    <tr>\n",
       "      <th>3792</th>\n",
       "      <td>bad religion</td>\n",
       "      <td>infected</td>\n",
       "      <td>Pop</td>\n",
       "      <td>en</td>\n",
       "      <td>infected go hope break take anything need anyt...</td>\n",
       "      <td>NaN</td>\n",
       "      <td>NaN</td>\n",
       "    </tr>\n",
       "    <tr>\n",
       "      <th>3793</th>\n",
       "      <td>bad religion</td>\n",
       "      <td>a walk</td>\n",
       "      <td>Pop</td>\n",
       "      <td>en</td>\n",
       "      <td>going walk dinner kind gonna use hands gonna u...</td>\n",
       "      <td>NaN</td>\n",
       "      <td>NaN</td>\n",
       "    </tr>\n",
       "    <tr>\n",
       "      <th>3794</th>\n",
       "      <td>bad religion</td>\n",
       "      <td>sorrow</td>\n",
       "      <td>Pop</td>\n",
       "      <td>en</td>\n",
       "      <td>father hear let curse day born sorrow world le...</td>\n",
       "      <td>NaN</td>\n",
       "      <td>NaN</td>\n",
       "    </tr>\n",
       "    <tr>\n",
       "      <th>3795</th>\n",
       "      <td>bad religion</td>\n",
       "      <td>you</td>\n",
       "      <td>Pop</td>\n",
       "      <td>en</td>\n",
       "      <td>place everyone happy beautiful place whole fuc...</td>\n",
       "      <td>NaN</td>\n",
       "      <td>NaN</td>\n",
       "    </tr>\n",
       "    <tr>\n",
       "      <th>...</th>\n",
       "      <td>...</td>\n",
       "      <td>...</td>\n",
       "      <td>...</td>\n",
       "      <td>...</td>\n",
       "      <td>...</td>\n",
       "      <td>...</td>\n",
       "      <td>...</td>\n",
       "    </tr>\n",
       "    <tr>\n",
       "      <th>289878</th>\n",
       "      <td>ella fitzgerald</td>\n",
       "      <td>too marvelous for words</td>\n",
       "      <td>Jazz</td>\n",
       "      <td>en</td>\n",
       "      <td>marvelous marvelous words like glorious glamor...</td>\n",
       "      <td>NaN</td>\n",
       "      <td>NaN</td>\n",
       "    </tr>\n",
       "    <tr>\n",
       "      <th>289948</th>\n",
       "      <td>chris brown</td>\n",
       "      <td>i get around</td>\n",
       "      <td>Hip-Hop</td>\n",
       "      <td>en</td>\n",
       "      <td>high low anywhere want one slipping sliding yo...</td>\n",
       "      <td>NaN</td>\n",
       "      <td>NaN</td>\n",
       "    </tr>\n",
       "    <tr>\n",
       "      <th>290027</th>\n",
       "      <td>ella fitzgerald</td>\n",
       "      <td>ev rything i ve got</td>\n",
       "      <td>Jazz</td>\n",
       "      <td>en</td>\n",
       "      <td>stamp foot impolite stamp foot quite right man...</td>\n",
       "      <td>NaN</td>\n",
       "      <td>NaN</td>\n",
       "    </tr>\n",
       "    <tr>\n",
       "      <th>1574</th>\n",
       "      <td>beyonce</td>\n",
       "      <td>6-inch</td>\n",
       "      <td>Pop</td>\n",
       "      <td>NaN</td>\n",
       "      <td>six inch heels walked club like nobody busines...</td>\n",
       "      <td>2016.0</td>\n",
       "      <td>5220.0</td>\n",
       "    </tr>\n",
       "    <tr>\n",
       "      <th>7431</th>\n",
       "      <td>beyonce</td>\n",
       "      <td>sweet-dreams</td>\n",
       "      <td>Pop</td>\n",
       "      <td>NaN</td>\n",
       "      <td>turn lights every night rush bed hopes maybe g...</td>\n",
       "      <td>2012.0</td>\n",
       "      <td>13805.0</td>\n",
       "    </tr>\n",
       "  </tbody>\n",
       "</table>\n",
       "<p>9275 rows × 7 columns</p>\n",
       "</div>"
      ],
      "text/plain": [
       "                 Artist                     Song  ... Song year Track_id\n",
       "3791       bad religion           american jesus  ...       NaN      NaN\n",
       "3792       bad religion                 infected  ...       NaN      NaN\n",
       "3793       bad religion                   a walk  ...       NaN      NaN\n",
       "3794       bad religion                   sorrow  ...       NaN      NaN\n",
       "3795       bad religion                      you  ...       NaN      NaN\n",
       "...                 ...                      ...  ...       ...      ...\n",
       "289878  ella fitzgerald  too marvelous for words  ...       NaN      NaN\n",
       "289948      chris brown             i get around  ...       NaN      NaN\n",
       "290027  ella fitzgerald      ev rything i ve got  ...       NaN      NaN\n",
       "1574            beyonce                   6-inch  ...    2016.0   5220.0\n",
       "7431            beyonce             sweet-dreams  ...    2012.0  13805.0\n",
       "\n",
       "[9275 rows x 7 columns]"
      ]
     },
     "execution_count": 13,
     "metadata": {
      "tags": []
     },
     "output_type": "execute_result"
    }
   ],
   "source": [
    "top10"
   ]
  },
  {
   "cell_type": "code",
   "execution_count": 14,
   "metadata": {
    "executionInfo": {
     "elapsed": 452,
     "status": "ok",
     "timestamp": 1620038010157,
     "user": {
      "displayName": "Lan Zeng",
      "photoUrl": "",
      "userId": "17725825206879958125"
     },
     "user_tz": -60
    },
    "id": "rnZx8lhwtItP"
   },
   "outputs": [],
   "source": [
    "lyrics = top10['Lyrics'].values\n",
    "art = top10['Artist'].values\n",
    "\n",
    "from sklearn.model_selection import train_test_split\n",
    "\n",
    "lyrics_train, lyrics_val, art_train, art_val = train_test_split(lyrics, art, test_size=0.1, random_state=100)"
   ]
  },
  {
   "cell_type": "code",
   "execution_count": 15,
   "metadata": {
    "colab": {
     "base_uri": "https://localhost:8080/"
    },
    "executionInfo": {
     "elapsed": 528,
     "status": "ok",
     "timestamp": 1620038011529,
     "user": {
      "displayName": "Lan Zeng",
      "photoUrl": "",
      "userId": "17725825206879958125"
     },
     "user_tz": -60
    },
    "id": "Z5xqLPOrzswP",
    "outputId": "949b58ab-b545-47ed-a607-e7616e8ff144"
   },
   "outputs": [
    {
     "data": {
      "text/plain": [
       "array(['hahaha ya wanna learn ya abcs abc haha x ya gon like right many ways spell love one way show one way show scare mountain yell til face turn blue come back prove prove would rather let day day actions speak louder say pick letters alphabetbet would say way maybe b something c def initely know want g take hi higher j tryna say love simple abc gotta sing since made clear understand wanna wanna know cool would hurt said know cause p q x ed rest man got eyes u would rather let day day actions speak louder say pick letters alphabetbet would say way maybe b something c def initely know want g take hi higher j tryna say love simple abc',\n",
       "       'systems life hum accordingly every day every year every century everywhere humans go things get worse worse tell smoke dirty city jungle tranquil hideaway king trees mountains man things sell million dollars pound cut dry good display shelves leave alone animal dangerous beast ones made know feast  lone souls breed losing generation seems killers know blame man plan frightening greed',\n",
       "       'oh know mad fool like girls done many nights time time life strange know somebody somebody cry gonna dancing get home dancing gonna dancing gonna dancing telling every little thing done glanced jackets paperbacks read every one drag insane everybody feel pain gonna dancing get home getting knees finds brother easy please nights paper striptease caught like disease says dancing gonna dancing even speak face says even though wanna shake hand ever bow know see give anythin sympathy gonna dancing get home dancing gonna dancing',\n",
       "       ...,\n",
       "       'one two three four somewhere downtown pretty girl kneels offers soft lips handful pills peels dress rest skills buys wants rest steals speaks deep swallows rum head beating like big bass drum wishes mute dumb trick asked quick come chorus drag saluting starry rag rather go blind speaking mind use like gag raise anger let hang american gangster time sits back starts invent saigon correspondent til carbine fell silent spent never knew could eloquent next week fashionable new sin harlot puritan pull wings stick pin watch money roll chorus got hidden sleeve tracks train bidding leave say flatter deceive count reprieve hands helpless raised dead little secrets praised people stand dumbstruck dazed inches erased chorus committing perfect crime american gangster time go bye bye american gangster time',\n",
       "       'little mama said one day find love last eternally want everywhere go please leave baby love ruler whole wide world say girl want everything know need baby love mountain climb find mountain child find time want night day well make happy baby go away swim ocean raging foam know come back home want know love well want baby never let go well want baby never let go',\n",
       "       'oh love darling hungered touch long lonely time time goes slowly time much still mine need love need love god speed love lonely rivers flow sea sea open arms sea yeah lonely rivers sigh wait wait coming home wait oh love darling hungered hungered touch long lonely time time goes slowly time much still mine need love need love god speed love windson effgen'],\n",
       "      dtype=object)"
      ]
     },
     "execution_count": 15,
     "metadata": {
      "tags": []
     },
     "output_type": "execute_result"
    }
   ],
   "source": [
    "lyrics_train"
   ]
  },
  {
   "cell_type": "code",
   "execution_count": 16,
   "metadata": {
    "colab": {
     "base_uri": "https://localhost:8080/"
    },
    "executionInfo": {
     "elapsed": 485,
     "status": "ok",
     "timestamp": 1620038015636,
     "user": {
      "displayName": "Lan Zeng",
      "photoUrl": "",
      "userId": "17725825206879958125"
     },
     "user_tz": -60
    },
    "id": "hboq8kiR0EXq",
    "outputId": "0afc11c3-c494-4ba9-e43b-f8ca14f5d572"
   },
   "outputs": [
    {
     "data": {
      "text/plain": [
       "array(['chris brown', 'bad religion', 'elvis costello', ...,\n",
       "       'elvis costello', 'elvis presley', 'glee'], dtype=object)"
      ]
     },
     "execution_count": 16,
     "metadata": {
      "tags": []
     },
     "output_type": "execute_result"
    }
   ],
   "source": [
    "art_train"
   ]
  },
  {
   "cell_type": "code",
   "execution_count": 17,
   "metadata": {
    "executionInfo": {
     "elapsed": 535,
     "status": "ok",
     "timestamp": 1620038029266,
     "user": {
      "displayName": "Lan Zeng",
      "photoUrl": "",
      "userId": "17725825206879958125"
     },
     "user_tz": -60
    },
    "id": "n9Lo8sF2unZC"
   },
   "outputs": [],
   "source": [
    "from sklearn.preprocessing import LabelEncoder\n",
    "\n",
    "encoder = LabelEncoder()\n",
    "encoder.fit(art_train)\n",
    "y_train = encoder.transform(art_train)\n",
    "y_val = encoder.transform(art_val)"
   ]
  },
  {
   "cell_type": "code",
   "execution_count": 18,
   "metadata": {
    "colab": {
     "base_uri": "https://localhost:8080/"
    },
    "executionInfo": {
     "elapsed": 517,
     "status": "ok",
     "timestamp": 1620038030985,
     "user": {
      "displayName": "Lan Zeng",
      "photoUrl": "",
      "userId": "17725825206879958125"
     },
     "user_tz": -60
    },
    "id": "lpUS2waknRJC",
    "outputId": "60353c07-4228-46cb-cc7f-850c1fda96ca"
   },
   "outputs": [
    {
     "name": "stdout",
     "output_type": "stream",
     "text": [
      "[['bad religion' 688]\n",
      " ['bee gees' 723]\n",
      " ['beyonce' 679]\n",
      " ['chris brown' 1133]\n",
      " ['ella fitzgerald' 784]\n",
      " ['elton john' 645]\n",
      " ['elvis costello' 818]\n",
      " ['elvis presley' 1459]\n",
      " ['glee' 677]\n",
      " ['the rolling stones' 741]]\n"
     ]
    }
   ],
   "source": [
    "(unique, counts) = np.unique(art_train, return_counts=True)\n",
    "frequencies = np.asarray((unique, counts)).T\n",
    "\n",
    "print(frequencies)"
   ]
  },
  {
   "cell_type": "code",
   "execution_count": 19,
   "metadata": {
    "colab": {
     "base_uri": "https://localhost:8080/"
    },
    "executionInfo": {
     "elapsed": 510,
     "status": "ok",
     "timestamp": 1620038057678,
     "user": {
      "displayName": "Lan Zeng",
      "photoUrl": "",
      "userId": "17725825206879958125"
     },
     "user_tz": -60
    },
    "id": "Txx6Hzxzu_Wt",
    "outputId": "41c82e5f-3d2a-489b-c381-6b5aa33b4beb"
   },
   "outputs": [
    {
     "name": "stdout",
     "output_type": "stream",
     "text": [
      "[[   0  688]\n",
      " [   1  723]\n",
      " [   2  679]\n",
      " [   3 1133]\n",
      " [   4  784]\n",
      " [   5  645]\n",
      " [   6  818]\n",
      " [   7 1459]\n",
      " [   8  677]\n",
      " [   9  741]]\n"
     ]
    }
   ],
   "source": [
    "(unique, counts) = np.unique(y_train, return_counts=True)\n",
    "frequencies = np.asarray((unique, counts)).T\n",
    "\n",
    "print(frequencies)"
   ]
  },
  {
   "cell_type": "code",
   "execution_count": 20,
   "metadata": {
    "colab": {
     "base_uri": "https://localhost:8080/"
    },
    "executionInfo": {
     "elapsed": 464,
     "status": "ok",
     "timestamp": 1620038058775,
     "user": {
      "displayName": "Lan Zeng",
      "photoUrl": "",
      "userId": "17725825206879958125"
     },
     "user_tz": -60
    },
    "id": "ic7m3WNU7ppk",
    "outputId": "c17bea52-62df-4d45-a256-a0e97c6e8ecc"
   },
   "outputs": [
    {
     "name": "stdout",
     "output_type": "stream",
     "text": [
      "[[  0  64]\n",
      " [  1  88]\n",
      " [  2  73]\n",
      " [  3 106]\n",
      " [  4  90]\n",
      " [  5  83]\n",
      " [  6 105]\n",
      " [  7 152]\n",
      " [  8  88]\n",
      " [  9  79]]\n"
     ]
    }
   ],
   "source": [
    "(unique, counts) = np.unique(y_val, return_counts=True)\n",
    "frequencies = np.asarray((unique, counts)).T\n",
    "\n",
    "print(frequencies)"
   ]
  },
  {
   "cell_type": "code",
   "execution_count": 21,
   "metadata": {
    "colab": {
     "base_uri": "https://localhost:8080/"
    },
    "executionInfo": {
     "elapsed": 471,
     "status": "ok",
     "timestamp": 1620038063415,
     "user": {
      "displayName": "Lan Zeng",
      "photoUrl": "",
      "userId": "17725825206879958125"
     },
     "user_tz": -60
    },
    "id": "hKyQJ4TG7qDZ",
    "outputId": "aa7e1205-3984-4351-ea34-251f08e0dec4"
   },
   "outputs": [
    {
     "data": {
      "text/plain": [
       "((8347, 10), (928, 10))"
      ]
     },
     "execution_count": 21,
     "metadata": {
      "tags": []
     },
     "output_type": "execute_result"
    }
   ],
   "source": [
    "from keras.utils import np_utils\n",
    "\n",
    "dummy_y_train = np_utils.to_categorical(y_train)\n",
    "dummy_y_val = np_utils.to_categorical(y_val)\n",
    "\n",
    "dummy_y_train.shape, dummy_y_val.shape"
   ]
  },
  {
   "cell_type": "code",
   "execution_count": 22,
   "metadata": {
    "executionInfo": {
     "elapsed": 1539,
     "status": "ok",
     "timestamp": 1620038067861,
     "user": {
      "displayName": "Lan Zeng",
      "photoUrl": "",
      "userId": "17725825206879958125"
     },
     "user_tz": -60
    },
    "id": "PIIM4SRc7qdn"
   },
   "outputs": [],
   "source": [
    "from keras.preprocessing.text import Tokenizer\n",
    "\n",
    "tokenizer = Tokenizer()\n",
    "tokenizer = Tokenizer(num_words=5000)   # num_words is the size of the vocabulary (top 5000 frequent words in the vocabulary)\n",
    "tokenizer.fit_on_texts(lyrics_train)    # Updates internal vocabulary based on a list of texts\n",
    "\n",
    "X_train = tokenizer.texts_to_sequences(lyrics_train)  # Transforms each text in texts to a sequence of integers with its corresponding integer value from the word_index dictionary\n",
    "X_val = tokenizer.texts_to_sequences(lyrics_val)\n",
    "\n",
    "# The number of unique words in the whole training text\n",
    "vocab_size = len(tokenizer.word_index) + 1  # Adding 1 because of reserved 0 index for padding\n"
   ]
  },
  {
   "cell_type": "code",
   "execution_count": 23,
   "metadata": {
    "colab": {
     "base_uri": "https://localhost:8080/"
    },
    "executionInfo": {
     "elapsed": 900,
     "status": "ok",
     "timestamp": 1620038068808,
     "user": {
      "displayName": "Lan Zeng",
      "photoUrl": "",
      "userId": "17725825206879958125"
     },
     "user_tz": -60
    },
    "id": "U6cFRPCD0x2U",
    "outputId": "5f7d46e5-1484-4668-b569-320b51abc780"
   },
   "outputs": [
    {
     "data": {
      "text/plain": [
       "24957"
      ]
     },
     "execution_count": 23,
     "metadata": {
      "tags": []
     },
     "output_type": "execute_result"
    }
   ],
   "source": [
    "vocab_size"
   ]
  },
  {
   "cell_type": "code",
   "execution_count": 24,
   "metadata": {
    "colab": {
     "base_uri": "https://localhost:8080/"
    },
    "executionInfo": {
     "elapsed": 471,
     "status": "ok",
     "timestamp": 1620038071597,
     "user": {
      "displayName": "Lan Zeng",
      "photoUrl": "",
      "userId": "17725825206879958125"
     },
     "user_tz": -60
    },
    "id": "Xs4JyvrL7qn_",
    "outputId": "fa876ce7-cbea-46eb-bbbb-907cd4bd99d2"
   },
   "outputs": [
    {
     "name": "stdout",
     "output_type": "stream",
     "text": [
      "([4978, 46, 38, 4978, 46, 38, 4978, 46, 38, 1665, 2388, 114, 3, 411, 241, 94, 87, 46, 38, 87, 46, 38, 87, 46, 38, 261, 114, 30, 80, 18, 505, 816, 129, 27, 832, 1179, 299, 1421, 248, 83, 96, 4869, 315, 1047, 50, 792, 83, 309, 309, 309, 309, 309, 171, 1944, 2065, 231, 26, 60, 241, 94, 87, 46, 38, 87, 46, 38, 87, 46, 38, 309, 309, 309, 171, 1944, 2065, 231, 26, 60, 241, 94, 87, 46, 38, 87, 46, 38, 87, 46, 38, 87, 46, 87, 46, 38], 681)\n",
      "([4702, 438, 117, 402, 1045, 4, 4702, 438, 30, 115, 816, 39, 38, 406, 218, 143, 974, 4, 4702, 438, 141, 30, 9, 4, 9, 2, 2, 29, 4702, 438, 117, 402, 1045, 4, 4702, 438, 141, 30, 115, 4, 4, 4, 4, 4702, 438, 141, 30, 115, 4, 4, 4, 4, 4702, 438, 141, 30, 115], 681)\n"
     ]
    }
   ],
   "source": [
    "def FindMaxLength(lst):\n",
    "    maxList = max((x) for x in lst)\n",
    "    maxLength = max(len(x) for x in lst )\n",
    "  \n",
    "    return maxList, maxLength\n",
    "\n",
    "print(FindMaxLength(X_train))\n",
    "print(FindMaxLength(X_val))"
   ]
  },
  {
   "cell_type": "code",
   "execution_count": 25,
   "metadata": {
    "colab": {
     "base_uri": "https://localhost:8080/"
    },
    "executionInfo": {
     "elapsed": 526,
     "status": "ok",
     "timestamp": 1620038077425,
     "user": {
      "displayName": "Lan Zeng",
      "photoUrl": "",
      "userId": "17725825206879958125"
     },
     "user_tz": -60
    },
    "id": "Kl4dSRd17qza",
    "outputId": "a085e13f-1882-41d0-ef3c-bbb1cdd62ba8"
   },
   "outputs": [
    {
     "data": {
      "text/plain": [
       "((8347, 500), (928, 500))"
      ]
     },
     "execution_count": 25,
     "metadata": {
      "tags": []
     },
     "output_type": "execute_result"
    }
   ],
   "source": [
    "from keras.preprocessing.sequence import pad_sequences\n",
    "\n",
    "maxlen = 500\n",
    "\n",
    "X_train = pad_sequences(X_train, padding='post', maxlen=maxlen)\n",
    "X_val = pad_sequences(X_val, padding='post', maxlen=maxlen)\n",
    "\n",
    "X_train.shape, X_val.shape"
   ]
  },
  {
   "cell_type": "markdown",
   "metadata": {
    "id": "ERaM1hgh1Qe3"
   },
   "source": [
    "# CNN From Scratch"
   ]
  },
  {
   "cell_type": "code",
   "execution_count": 26,
   "metadata": {
    "colab": {
     "base_uri": "https://localhost:8080/"
    },
    "executionInfo": {
     "elapsed": 473,
     "status": "ok",
     "timestamp": 1620038099971,
     "user": {
      "displayName": "Lan Zeng",
      "photoUrl": "",
      "userId": "17725825206879958125"
     },
     "user_tz": -60
    },
    "id": "E0dP4KbW7rIT",
    "outputId": "0cacd504-acf1-489c-d435-84c7d983cb88"
   },
   "outputs": [
    {
     "name": "stdout",
     "output_type": "stream",
     "text": [
      "Model: \"sequential\"\n",
      "_________________________________________________________________\n",
      "Layer (type)                 Output Shape              Param #   \n",
      "=================================================================\n",
      "embedding (Embedding)        (None, 500, 50)           250000    \n",
      "_________________________________________________________________\n",
      "conv1d (Conv1D)              (None, 498, 128)          19328     \n",
      "_________________________________________________________________\n",
      "global_max_pooling1d (Global (None, 128)               0         \n",
      "_________________________________________________________________\n",
      "dense (Dense)                (None, 200)               25800     \n",
      "_________________________________________________________________\n",
      "dropout (Dropout)            (None, 200)               0         \n",
      "_________________________________________________________________\n",
      "dense_1 (Dense)              (None, 10)                2010      \n",
      "=================================================================\n",
      "Total params: 297,138\n",
      "Trainable params: 297,138\n",
      "Non-trainable params: 0\n",
      "_________________________________________________________________\n"
     ]
    }
   ],
   "source": [
    "from keras.models import Sequential\n",
    "from tensorflow.keras.layers import Dense, Dropout, Activation, Flatten, Embedding, Conv1D, GlobalMaxPooling1D\n",
    "\n",
    "embedding_dim = 50\n",
    "vocab_size = 5000\n",
    "num_filters = 128\n",
    "kernel_size = 3\n",
    "\n",
    "\n",
    "model01 = Sequential()\n",
    "model01.add(Embedding(input_dim=vocab_size,          # input_dim is the size of the vocabulary\n",
    "                           output_dim=embedding_dim,      # output_dim is the size of the dense vector\n",
    "                           input_length=maxlen))          # input_length is the length of the sequence\n",
    "model01.add(Conv1D(num_filters,               # add a Convolution1D, which will learn filters\n",
    "                 kernel_size,       # convolutional windows length, which mean will operate over 3 words every time\n",
    "                 padding='valid',\n",
    "                 activation='relu',\n",
    "                 strides=1))\n",
    "model01.add(GlobalMaxPooling1D())    # use max pooling to reduce the size of the feature maps\n",
    "model01.add(Dense(200, activation='relu'))\n",
    "model01.add(Dropout(0.2))\n",
    "model01.add(Dense(10, activation='softmax'))\n",
    "model01.compile(optimizer='adam',\n",
    "              loss='categorical_crossentropy',\n",
    "              metrics=['accuracy'])\n",
    "model01.summary()"
   ]
  },
  {
   "cell_type": "code",
   "execution_count": 27,
   "metadata": {
    "colab": {
     "base_uri": "https://localhost:8080/"
    },
    "executionInfo": {
     "elapsed": 46745,
     "status": "ok",
     "timestamp": 1620038152165,
     "user": {
      "displayName": "Lan Zeng",
      "photoUrl": "",
      "userId": "17725825206879958125"
     },
     "user_tz": -60
    },
    "id": "FTSSFNh97rRG",
    "outputId": "f6170c2a-9e97-425a-ba39-8804e72021b3"
   },
   "outputs": [
    {
     "name": "stderr",
     "output_type": "stream",
     "text": [
      "/usr/local/lib/python3.7/dist-packages/tensorflow/python/data/ops/dataset_ops.py:3504: UserWarning: Even though the tf.config.experimental_run_functions_eagerly option is set, this option does not apply to tf.data functions. tf.data functions are still traced and executed as graphs.\n",
      "  \"Even though the tf.config.experimental_run_functions_eagerly \"\n"
     ]
    },
    {
     "name": "stdout",
     "output_type": "stream",
     "text": [
      "Epoch 1/5\n",
      "66/66 [==============================] - 35s 47ms/step - loss: 2.2459 - accuracy: 0.1989 - val_loss: 1.9784 - val_accuracy: 0.2942\n",
      "Epoch 2/5\n",
      "66/66 [==============================] - 3s 41ms/step - loss: 1.7969 - accuracy: 0.3537 - val_loss: 1.4870 - val_accuracy: 0.4515\n",
      "Epoch 3/5\n",
      "66/66 [==============================] - 3s 41ms/step - loss: 1.2932 - accuracy: 0.5622 - val_loss: 1.1259 - val_accuracy: 0.6422\n",
      "Epoch 4/5\n",
      "66/66 [==============================] - 3s 41ms/step - loss: 0.8199 - accuracy: 0.7630 - val_loss: 0.8739 - val_accuracy: 0.7295\n",
      "Epoch 5/5\n",
      "66/66 [==============================] - 3s 41ms/step - loss: 0.4593 - accuracy: 0.8822 - val_loss: 0.7690 - val_accuracy: 0.7683\n"
     ]
    }
   ],
   "source": [
    "import tensorflow as tf\n",
    "tf.config.run_functions_eagerly(True)\n",
    "\n",
    "hist01 = model01.fit(X_train, dummy_y_train,\n",
    "          batch_size=128,\n",
    "          epochs=5,\n",
    "          validation_data=(X_val, dummy_y_val))"
   ]
  },
  {
   "cell_type": "markdown",
   "metadata": {
    "id": "BNQF40yFjtYL"
   },
   "source": [
    "Check the prediction results in validation dataset"
   ]
  },
  {
   "cell_type": "code",
   "execution_count": 28,
   "metadata": {
    "colab": {
     "base_uri": "https://localhost:8080/"
    },
    "executionInfo": {
     "elapsed": 670,
     "status": "ok",
     "timestamp": 1620038173850,
     "user": {
      "displayName": "Lan Zeng",
      "photoUrl": "",
      "userId": "17725825206879958125"
     },
     "user_tz": -60
    },
    "id": "c9VTVksMjtYN",
    "outputId": "d02d48da-5369-4bc6-9064-3138d26148fc"
   },
   "outputs": [
    {
     "name": "stdout",
     "output_type": "stream",
     "text": [
      "[[4.6846787e-07 9.2702741e-08 1.3764507e-04 ... 4.6898385e-10\n",
      "  1.5808787e-03 2.0027965e-06]\n",
      " [4.4675037e-02 6.3630104e-02 8.5599601e-02 ... 2.6039727e-02\n",
      "  3.5019943e-01 1.0649464e-02]\n",
      " [3.3189885e-02 2.8779960e-01 2.3071215e-02 ... 9.3167770e-04\n",
      "  1.9127747e-01 5.8878083e-03]\n",
      " ...\n",
      " [6.5064145e-04 5.6581324e-01 3.6887124e-02 ... 1.7523872e-02\n",
      "  2.2020786e-01 3.0617746e-02]\n",
      " [2.9451709e-04 8.8923270e-01 1.6708481e-03 ... 5.8590984e-03\n",
      "  1.5391276e-02 1.0831031e-02]\n",
      " [9.8157722e-01 1.4698636e-03 8.5953334e-06 ... 7.8267403e-05\n",
      "  8.2431937e-04 3.1419797e-05]]\n",
      "['chris brown', 'elvis costello', 'elvis costello', 'glee', 'glee', 'elton john', 'elvis presley', 'elton john', 'ella fitzgerald', 'bee gees', 'elvis presley', 'the rolling stones', 'chris brown', 'ella fitzgerald', 'the rolling stones', 'chris brown', 'ella fitzgerald', 'elton john', 'elvis presley', 'elvis presley', 'bad religion', 'glee', 'chris brown', 'ella fitzgerald', 'the rolling stones', 'glee', 'elvis presley', 'bad religion', 'chris brown', 'glee', 'the rolling stones', 'elvis costello', 'beyonce', 'chris brown', 'elton john', 'bee gees', 'bad religion', 'glee', 'elvis costello', 'bee gees', 'elvis presley', 'glee', 'beyonce', 'elvis presley', 'elton john', 'glee', 'ella fitzgerald', 'elvis presley', 'ella fitzgerald', 'bee gees', 'elvis costello', 'elvis costello', 'ella fitzgerald', 'the rolling stones', 'elvis presley', 'elvis presley', 'ella fitzgerald', 'ella fitzgerald', 'glee', 'elvis costello', 'beyonce', 'bad religion', 'glee', 'elvis presley', 'ella fitzgerald', 'elvis presley', 'bad religion', 'bee gees', 'bee gees', 'elvis presley', 'ella fitzgerald', 'ella fitzgerald', 'elton john', 'chris brown', 'chris brown', 'beyonce', 'ella fitzgerald', 'chris brown', 'bad religion', 'elvis presley', 'chris brown', 'elvis costello', 'ella fitzgerald', 'ella fitzgerald', 'the rolling stones', 'ella fitzgerald', 'elvis presley', 'elton john', 'elvis presley', 'beyonce', 'elvis presley', 'chris brown', 'elvis costello', 'chris brown', 'elvis presley', 'bee gees', 'elvis costello', 'elton john', 'elvis costello', 'glee', 'the rolling stones', 'glee', 'elvis costello', 'elvis costello', 'bee gees', 'elvis presley', 'elvis presley', 'ella fitzgerald', 'bad religion', 'the rolling stones', 'the rolling stones', 'ella fitzgerald', 'elvis costello', 'elvis presley', 'elvis costello', 'ella fitzgerald', 'elvis costello', 'elvis costello', 'elvis costello', 'glee', 'bee gees', 'bee gees', 'bad religion', 'elvis presley', 'bad religion', 'the rolling stones', 'bee gees', 'bee gees', 'the rolling stones', 'beyonce', 'glee', 'elton john', 'elvis presley', 'elvis presley', 'chris brown', 'elvis presley', 'bee gees', 'elvis presley', 'bad religion', 'elvis costello', 'elvis presley', 'bee gees', 'elvis presley', 'bee gees', 'glee', 'elvis presley', 'chris brown', 'elvis costello', 'elvis presley', 'chris brown', 'ella fitzgerald', 'elvis presley', 'bee gees', 'elton john', 'elvis presley', 'ella fitzgerald', 'elvis presley', 'glee', 'chris brown', 'the rolling stones', 'the rolling stones', 'beyonce', 'elvis presley', 'the rolling stones', 'elvis presley', 'bee gees', 'elton john', 'elvis presley', 'elvis costello', 'elvis presley', 'chris brown', 'elvis costello', 'glee', 'beyonce', 'chris brown', 'elvis presley', 'elvis presley', 'elvis presley', 'chris brown', 'ella fitzgerald', 'ella fitzgerald', 'the rolling stones', 'elton john', 'the rolling stones', 'chris brown', 'elvis costello', 'chris brown', 'the rolling stones', 'elton john', 'elvis costello', 'elton john', 'elvis costello', 'ella fitzgerald', 'bee gees', 'ella fitzgerald', 'chris brown', 'bad religion', 'glee', 'beyonce', 'chris brown', 'elvis costello', 'bad religion', 'elvis presley', 'elton john', 'elton john', 'elvis presley', 'ella fitzgerald', 'bad religion', 'beyonce', 'elvis costello', 'bad religion', 'bee gees', 'elvis presley', 'beyonce', 'beyonce', 'glee', 'beyonce', 'beyonce', 'ella fitzgerald', 'chris brown', 'bee gees', 'glee', 'chris brown', 'elvis costello', 'ella fitzgerald', 'glee', 'elvis presley', 'ella fitzgerald', 'glee', 'elvis presley', 'elvis presley', 'bee gees', 'glee', 'bee gees', 'elvis costello', 'the rolling stones', 'ella fitzgerald', 'glee', 'elvis presley', 'elton john', 'elvis presley', 'ella fitzgerald', 'glee', 'elton john', 'bad religion', 'chris brown', 'elton john', 'bee gees', 'elvis costello', 'glee', 'chris brown', 'chris brown', 'glee', 'glee', 'elvis costello', 'bee gees', 'beyonce', 'the rolling stones', 'glee', 'elvis presley', 'elton john', 'glee', 'ella fitzgerald', 'chris brown', 'beyonce', 'bee gees', 'elvis presley', 'bee gees', 'elton john', 'elton john', 'glee', 'bad religion', 'beyonce', 'elvis presley', 'elvis presley', 'the rolling stones', 'bad religion', 'elvis presley', 'ella fitzgerald', 'elvis costello', 'bee gees', 'chris brown', 'the rolling stones', 'the rolling stones', 'chris brown', 'chris brown', 'elton john', 'elvis presley', 'elvis costello', 'the rolling stones', 'elvis costello', 'elton john', 'elvis costello', 'glee', 'elton john', 'elvis presley', 'elvis costello', 'elvis costello', 'elvis presley', 'ella fitzgerald', 'elton john', 'beyonce', 'elvis presley', 'elvis presley', 'bee gees', 'elton john', 'ella fitzgerald', 'chris brown', 'bee gees', 'elvis presley', 'bee gees', 'bee gees', 'elvis costello', 'elvis costello', 'the rolling stones', 'elton john', 'the rolling stones', 'elvis costello', 'beyonce', 'elvis presley', 'elvis costello', 'chris brown', 'elvis presley', 'glee', 'bad religion', 'bee gees', 'bad religion', 'bee gees', 'elvis presley', 'elton john', 'bee gees', 'bad religion', 'bee gees', 'elvis costello', 'ella fitzgerald', 'elvis presley', 'chris brown', 'glee', 'elvis presley', 'glee', 'beyonce', 'elvis costello', 'the rolling stones', 'elton john', 'beyonce', 'chris brown', 'chris brown', 'chris brown', 'elvis presley', 'glee', 'ella fitzgerald', 'bee gees', 'chris brown', 'elvis presley', 'elvis presley', 'chris brown', 'elton john', 'bee gees', 'elton john', 'elvis presley', 'elvis costello', 'elton john', 'the rolling stones', 'glee', 'chris brown', 'elvis presley', 'beyonce', 'bad religion', 'glee', 'beyonce', 'elvis presley', 'glee', 'glee', 'elvis costello', 'bad religion', 'chris brown', 'elvis costello', 'elvis costello', 'beyonce', 'elvis presley', 'bad religion', 'elvis costello', 'chris brown', 'the rolling stones', 'beyonce', 'elvis costello', 'elton john', 'elton john', 'elton john', 'elvis costello', 'elvis costello', 'elvis costello', 'ella fitzgerald', 'elvis presley', 'ella fitzgerald', 'elvis presley', 'bad religion', 'chris brown', 'ella fitzgerald', 'elton john', 'bad religion', 'ella fitzgerald', 'chris brown', 'glee', 'the rolling stones', 'elvis presley', 'chris brown', 'bee gees', 'beyonce', 'glee', 'elvis costello', 'elvis presley', 'the rolling stones', 'beyonce', 'elvis presley', 'elton john', 'glee', 'elvis presley', 'ella fitzgerald', 'bee gees', 'elton john', 'elvis presley', 'ella fitzgerald', 'elvis costello', 'elvis costello', 'ella fitzgerald', 'elvis presley', 'the rolling stones', 'bad religion', 'elvis costello', 'bee gees', 'glee', 'elvis presley', 'the rolling stones', 'chris brown', 'beyonce', 'glee', 'beyonce', 'chris brown', 'the rolling stones', 'glee', 'elvis presley', 'elton john', 'chris brown', 'glee', 'elvis presley', 'chris brown', 'bad religion', 'ella fitzgerald', 'the rolling stones', 'ella fitzgerald', 'the rolling stones', 'elvis costello', 'ella fitzgerald', 'bad religion', 'chris brown', 'elton john', 'chris brown', 'elvis costello', 'ella fitzgerald', 'elton john', 'elvis costello', 'bee gees', 'chris brown', 'ella fitzgerald', 'ella fitzgerald', 'glee', 'elvis presley', 'chris brown', 'bad religion', 'chris brown', 'glee', 'chris brown', 'chris brown', 'elton john', 'bad religion', 'elton john', 'the rolling stones', 'elvis costello', 'glee', 'the rolling stones', 'elvis costello', 'chris brown', 'glee', 'the rolling stones', 'beyonce', 'the rolling stones', 'bad religion', 'the rolling stones', 'ella fitzgerald', 'elvis presley', 'elvis presley', 'elvis presley', 'beyonce', 'ella fitzgerald', 'ella fitzgerald', 'ella fitzgerald', 'glee', 'bee gees', 'beyonce', 'beyonce', 'bad religion', 'elvis costello', 'chris brown', 'beyonce', 'elvis presley', 'ella fitzgerald', 'elvis presley', 'the rolling stones', 'beyonce', 'elvis costello', 'chris brown', 'the rolling stones', 'beyonce', 'beyonce', 'elvis presley', 'bee gees', 'chris brown', 'bee gees', 'bad religion', 'elton john', 'elvis presley', 'bee gees', 'elvis costello', 'elvis presley', 'chris brown', 'elvis presley', 'ella fitzgerald', 'ella fitzgerald', 'glee', 'bee gees', 'elvis costello', 'chris brown', 'elvis presley', 'elton john', 'elvis costello', 'ella fitzgerald', 'bee gees', 'elvis presley', 'elton john', 'chris brown', 'bee gees', 'chris brown', 'bee gees', 'elvis presley', 'elvis presley', 'the rolling stones', 'ella fitzgerald', 'elvis costello', 'bad religion', 'elvis presley', 'bee gees', 'bad religion', 'ella fitzgerald', 'chris brown', 'the rolling stones', 'bad religion', 'elvis presley', 'glee', 'elvis presley', 'bee gees', 'chris brown', 'elvis costello', 'elton john', 'bee gees', 'elton john', 'bad religion', 'elton john', 'elvis presley', 'the rolling stones', 'bad religion', 'chris brown', 'chris brown', 'elton john', 'elton john', 'elvis presley', 'glee', 'elvis presley', 'elvis presley', 'bee gees', 'glee', 'elvis costello', 'elvis costello', 'ella fitzgerald', 'elvis presley', 'elvis presley', 'bee gees', 'elton john', 'glee', 'elvis costello', 'chris brown', 'the rolling stones', 'ella fitzgerald', 'elton john', 'beyonce', 'bee gees', 'elvis presley', 'glee', 'glee', 'glee', 'elvis presley', 'elvis presley', 'glee', 'glee', 'bee gees', 'elvis presley', 'chris brown', 'ella fitzgerald', 'elvis costello', 'elvis costello', 'elton john', 'bee gees', 'glee', 'ella fitzgerald', 'chris brown', 'ella fitzgerald', 'beyonce', 'glee', 'elvis costello', 'bad religion', 'elvis costello', 'glee', 'beyonce', 'bad religion', 'elvis presley', 'glee', 'elton john', 'chris brown', 'elvis costello', 'chris brown', 'bee gees', 'glee', 'bad religion', 'elvis presley', 'elvis presley', 'bad religion', 'elvis costello', 'elvis presley', 'elvis presley', 'the rolling stones', 'glee', 'chris brown', 'elvis costello', 'the rolling stones', 'elvis presley', 'the rolling stones', 'beyonce', 'elvis costello', 'elvis costello', 'beyonce', 'elvis presley', 'elvis presley', 'bee gees', 'the rolling stones', 'chris brown', 'chris brown', 'the rolling stones', 'chris brown', 'elvis presley', 'glee', 'elton john', 'the rolling stones', 'beyonce', 'bad religion', 'elvis presley', 'elvis presley', 'elvis costello', 'the rolling stones', 'elton john', 'beyonce', 'elvis presley', 'bad religion', 'elvis presley', 'chris brown', 'ella fitzgerald', 'elvis costello', 'ella fitzgerald', 'elvis presley', 'elton john', 'chris brown', 'beyonce', 'elvis costello', 'chris brown', 'bad religion', 'bee gees', 'beyonce', 'elvis presley', 'the rolling stones', 'elvis presley', 'the rolling stones', 'elvis costello', 'beyonce', 'glee', 'chris brown', 'elton john', 'beyonce', 'elvis presley', 'glee', 'chris brown', 'elvis costello', 'beyonce', 'bad religion', 'glee', 'chris brown', 'chris brown', 'elvis presley', 'ella fitzgerald', 'the rolling stones', 'ella fitzgerald', 'elvis costello', 'elvis presley', 'ella fitzgerald', 'bad religion', 'ella fitzgerald', 'bad religion', 'elvis presley', 'glee', 'bee gees', 'chris brown', 'the rolling stones', 'elvis costello', 'elvis costello', 'beyonce', 'elvis costello', 'elton john', 'elvis costello', 'chris brown', 'elvis costello', 'chris brown', 'chris brown', 'elvis presley', 'the rolling stones', 'bad religion', 'elton john', 'elvis presley', 'elvis costello', 'elvis presley', 'elvis costello', 'ella fitzgerald', 'the rolling stones', 'elvis presley', 'elton john', 'elvis presley', 'bee gees', 'chris brown', 'bad religion', 'elvis presley', 'chris brown', 'glee', 'glee', 'beyonce', 'glee', 'the rolling stones', 'elvis costello', 'elvis presley', 'elton john', 'elton john', 'elvis presley', 'ella fitzgerald', 'elvis costello', 'elvis presley', 'bee gees', 'glee', 'chris brown', 'bee gees', 'elvis costello', 'bee gees', 'chris brown', 'ella fitzgerald', 'bad religion', 'elton john', 'elvis presley', 'beyonce', 'elvis costello', 'beyonce', 'chris brown', 'bee gees', 'elvis costello', 'elvis presley', 'bad religion', 'elton john', 'elvis presley', 'elton john', 'glee', 'glee', 'chris brown', 'glee', 'chris brown', 'ella fitzgerald', 'glee', 'bee gees', 'bad religion', 'elvis presley', 'glee', 'elvis costello', 'the rolling stones', 'elton john', 'bad religion', 'glee', 'elton john', 'bee gees', 'beyonce', 'elvis presley', 'ella fitzgerald', 'glee', 'beyonce', 'bad religion', 'beyonce', 'glee', 'bee gees', 'the rolling stones', 'glee', 'glee', 'elvis presley', 'chris brown', 'elvis presley', 'bee gees', 'bee gees', 'elvis costello', 'elvis costello', 'glee', 'elton john', 'bad religion', 'elvis presley', 'bad religion', 'chris brown', 'elton john', 'bee gees', 'bee gees', 'bad religion', 'bad religion', 'elvis presley', 'chris brown', 'elvis presley', 'elvis presley', 'elton john', 'elvis presley', 'bad religion', 'glee', 'ella fitzgerald', 'elton john', 'bad religion', 'beyonce', 'ella fitzgerald', 'beyonce', 'bee gees', 'elvis presley', 'elvis presley', 'beyonce', 'elvis costello', 'beyonce', 'ella fitzgerald', 'bad religion', 'elvis presley', 'bee gees', 'chris brown', 'elvis costello', 'chris brown', 'elvis presley', 'the rolling stones', 'bee gees', 'the rolling stones', 'glee', 'elton john', 'glee', 'elton john', 'elvis presley', 'elvis presley', 'ella fitzgerald', 'ella fitzgerald', 'elvis costello', 'bee gees', 'chris brown', 'chris brown', 'the rolling stones', 'bad religion', 'bad religion', 'beyonce', 'elvis presley', 'bee gees', 'glee', 'glee', 'ella fitzgerald', 'elvis costello', 'bad religion', 'chris brown', 'beyonce', 'glee', 'elton john', 'chris brown', 'elvis costello', 'bee gees', 'chris brown', 'elvis costello', 'bee gees', 'the rolling stones', 'glee', 'bad religion', 'beyonce', 'elton john', 'elvis costello', 'elvis costello', 'beyonce', 'chris brown', 'elvis costello', 'ella fitzgerald', 'elton john', 'glee', 'elvis costello', 'ella fitzgerald', 'elvis presley', 'elvis presley', 'the rolling stones', 'elvis costello', 'bee gees', 'elton john', 'elvis presley', 'beyonce', 'glee', 'chris brown', 'glee', 'ella fitzgerald', 'chris brown', 'elvis presley', 'bee gees', 'bee gees', 'bee gees', 'bad religion']\n"
     ]
    },
    {
     "name": "stderr",
     "output_type": "stream",
     "text": [
      "/usr/local/lib/python3.7/dist-packages/tensorflow/python/data/ops/dataset_ops.py:3504: UserWarning: Even though the tf.config.experimental_run_functions_eagerly option is set, this option does not apply to tf.data functions. tf.data functions are still traced and executed as graphs.\n",
      "  \"Even though the tf.config.experimental_run_functions_eagerly \"\n"
     ]
    }
   ],
   "source": [
    "prediction = model01.predict(X_val)\n",
    "\n",
    "labels = ['bad religion', 'bee gees', 'beyonce', 'chris brown', 'ella fitzgerald', 'elton john', 'elvis costello', 'elvis presley', 'glee', 'the rolling stones']\n",
    "print(prediction)\n",
    "pred_str = []\n",
    "for i in range(928):\n",
    "  pred_str.append(labels[np.argmax(prediction[i])])\n",
    "print(pred_str)"
   ]
  },
  {
   "cell_type": "code",
   "execution_count": 29,
   "metadata": {
    "colab": {
     "base_uri": "https://localhost:8080/"
    },
    "executionInfo": {
     "elapsed": 462,
     "status": "ok",
     "timestamp": 1620038176937,
     "user": {
      "displayName": "Lan Zeng",
      "photoUrl": "",
      "userId": "17725825206879958125"
     },
     "user_tz": -60
    },
    "id": "cu7aRco0jtYO",
    "outputId": "b0652df6-d0ac-4a49-b414-f674a792d5ef"
   },
   "outputs": [
    {
     "name": "stdout",
     "output_type": "stream",
     "text": [
      "[['bad religion' '67']\n",
      " ['bee gees' '84']\n",
      " ['beyonce' '65']\n",
      " ['chris brown' '109']\n",
      " ['ella fitzgerald' '85']\n",
      " ['elton john' '80']\n",
      " ['elvis costello' '112']\n",
      " ['elvis presley' '161']\n",
      " ['glee' '98']\n",
      " ['the rolling stones' '67']]\n"
     ]
    }
   ],
   "source": [
    "(unique, counts) = np.unique(pred_str, return_counts=True)\n",
    "frequencies = np.asarray((unique, counts)).T\n",
    "\n",
    "print(frequencies)"
   ]
  },
  {
   "cell_type": "markdown",
   "metadata": {
    "id": "evBNFwwSjtYO"
   },
   "source": [
    "Visualise the training process"
   ]
  },
  {
   "cell_type": "code",
   "execution_count": 30,
   "metadata": {
    "colab": {
     "base_uri": "https://localhost:8080/",
     "height": 1000
    },
    "executionInfo": {
     "elapsed": 9815,
     "status": "ok",
     "timestamp": 1620038195615,
     "user": {
      "displayName": "Lan Zeng",
      "photoUrl": "",
      "userId": "17725825206879958125"
     },
     "user_tz": -60
    },
    "id": "uhGrn-5NjtYP",
    "outputId": "b07fe5d6-872f-4147-88fe-f5bbbca351de"
   },
   "outputs": [
    {
     "name": "stdout",
     "output_type": "stream",
     "text": [
      "Collecting plot_keras_history\n",
      "  Downloading https://files.pythonhosted.org/packages/73/55/183a10ac8b62ca0411bd93286d394ce65d952e09b8d51d9706a4818afe9c/plot_keras_history-1.1.29.tar.gz\n",
      "Requirement already satisfied: matplotlib in /usr/local/lib/python3.7/dist-packages (from plot_keras_history) (3.2.2)\n",
      "Requirement already satisfied: pandas in /usr/local/lib/python3.7/dist-packages (from plot_keras_history) (1.1.5)\n",
      "Requirement already satisfied: scipy in /usr/local/lib/python3.7/dist-packages (from plot_keras_history) (1.4.1)\n",
      "Collecting sanitize_ml_labels\n",
      "  Downloading https://files.pythonhosted.org/packages/57/2c/c97c52a183b3da277a6ca276a9587ea011c5f7bcce0b192d1eaf7eb5084d/sanitize_ml_labels-1.0.26.tar.gz\n",
      "Requirement already satisfied: numpy>=1.11 in /usr/local/lib/python3.7/dist-packages (from matplotlib->plot_keras_history) (1.19.5)\n",
      "Requirement already satisfied: cycler>=0.10 in /usr/local/lib/python3.7/dist-packages (from matplotlib->plot_keras_history) (0.10.0)\n",
      "Requirement already satisfied: pyparsing!=2.0.4,!=2.1.2,!=2.1.6,>=2.0.1 in /usr/local/lib/python3.7/dist-packages (from matplotlib->plot_keras_history) (2.4.7)\n",
      "Requirement already satisfied: python-dateutil>=2.1 in /usr/local/lib/python3.7/dist-packages (from matplotlib->plot_keras_history) (2.8.1)\n",
      "Requirement already satisfied: kiwisolver>=1.0.1 in /usr/local/lib/python3.7/dist-packages (from matplotlib->plot_keras_history) (1.3.1)\n",
      "Requirement already satisfied: pytz>=2017.2 in /usr/local/lib/python3.7/dist-packages (from pandas->plot_keras_history) (2018.9)\n",
      "Collecting compress_json\n",
      "  Downloading https://files.pythonhosted.org/packages/c0/9d/1a79dbc3b9d69c57be363b4cc8bd6f278f919a0973f46c7bb831438c9333/compress_json-1.0.4.tar.gz\n",
      "Requirement already satisfied: six in /usr/local/lib/python3.7/dist-packages (from cycler>=0.10->matplotlib->plot_keras_history) (1.15.0)\n",
      "Building wheels for collected packages: plot-keras-history, sanitize-ml-labels, compress-json\n",
      "  Building wheel for plot-keras-history (setup.py) ... \u001b[?25l\u001b[?25hdone\n",
      "  Created wheel for plot-keras-history: filename=plot_keras_history-1.1.29-cp37-none-any.whl size=8614 sha256=18c68be29995b4111a6c4a1ed775889e9bdf9a05356ce11082794c2f13c7a0a1\n",
      "  Stored in directory: /root/.cache/pip/wheels/8b/cb/fb/cbeba24d72e736b8987b7d0dc37afc0e76f3c16e544ceff727\n",
      "  Building wheel for sanitize-ml-labels (setup.py) ... \u001b[?25l\u001b[?25hdone\n",
      "  Created wheel for sanitize-ml-labels: filename=sanitize_ml_labels-1.0.26-cp37-none-any.whl size=7610 sha256=aa0af95a9019765e864ce06ecf77ead5e78748e32665ed767de5bda7273ccdcb\n",
      "  Stored in directory: /root/.cache/pip/wheels/2a/62/31/d348320becc60729f508a2c5aad445b94d7543c5cb577cfb9d\n",
      "  Building wheel for compress-json (setup.py) ... \u001b[?25l\u001b[?25hdone\n",
      "  Created wheel for compress-json: filename=compress_json-1.0.4-cp37-none-any.whl size=4586 sha256=fbefcb44bd7c643957b162a3585abfe990d93a31dcb27b54c09f9a912998a3f9\n",
      "  Stored in directory: /root/.cache/pip/wheels/83/ec/21/51460dd508e4a152c0643946c21fae84eb3391171164d35745\n",
      "Successfully built plot-keras-history sanitize-ml-labels compress-json\n",
      "Installing collected packages: compress-json, sanitize-ml-labels, plot-keras-history\n",
      "Successfully installed compress-json-1.0.4 plot-keras-history-1.1.29 sanitize-ml-labels-1.0.26\n"
     ]
    },
    {
     "name": "stderr",
     "output_type": "stream",
     "text": [
      "/usr/local/lib/python3.7/dist-packages/tensorflow/python/data/ops/dataset_ops.py:3504: UserWarning: Even though the tf.config.experimental_run_functions_eagerly option is set, this option does not apply to tf.data functions. tf.data functions are still traced and executed as graphs.\n",
      "  \"Even though the tf.config.experimental_run_functions_eagerly \"\n"
     ]
    },
    {
     "name": "stdout",
     "output_type": "stream",
     "text": [
      "Training Accuracy: 0.9629\n",
      "Testing Accuracy:  0.7683\n"
     ]
    },
    {
     "data": {
      "text/plain": [
       "(<Figure size 720x360 with 2 Axes>,\n",
       " array([<matplotlib.axes._subplots.AxesSubplot object at 0x7eff1297ed90>,\n",
       "        <matplotlib.axes._subplots.AxesSubplot object at 0x7eff26135910>],\n",
       "       dtype=object))"
      ]
     },
     "execution_count": 30,
     "metadata": {
      "tags": []
     },
     "output_type": "execute_result"
    },
    {
     "data": {
      "image/png": "[encoded data removed]",
      "text/plain": [
       "<Figure size 720x360 with 2 Axes>"
      ]
     },
     "metadata": {
      "needs_background": "light",
      "tags": []
     },
     "output_type": "display_data"
    }
   ],
   "source": [
    "!pip install plot_keras_history\n",
    "from plot_keras_history import plot_history\n",
    "\n",
    "loss, accuracy = model01.evaluate(X_train, dummy_y_train, verbose=False)\n",
    "print(\"Training Accuracy: {:.4f}\".format(accuracy))\n",
    "loss, accuracy = model01.evaluate(X_val, dummy_y_val, verbose=False)\n",
    "print(\"Testing Accuracy:  {:.4f}\".format(accuracy))\n",
    "\n",
    "plot_history(hist01)"
   ]
  },
  {
   "cell_type": "markdown",
   "metadata": {
    "id": "CwNc6p9ZpPaO"
   },
   "source": [
    "### Adding more epoches to train the model\n"
   ]
  },
  {
   "cell_type": "code",
   "execution_count": 31,
   "metadata": {
    "colab": {
     "base_uri": "https://localhost:8080/"
    },
    "executionInfo": {
     "elapsed": 553,
     "status": "ok",
     "timestamp": 1620038206441,
     "user": {
      "displayName": "Lan Zeng",
      "photoUrl": "",
      "userId": "17725825206879958125"
     },
     "user_tz": -60
    },
    "id": "PXpZTMYXZ5oA",
    "outputId": "029a456f-7f98-4560-ca0e-7ed5cf370ff8"
   },
   "outputs": [
    {
     "name": "stdout",
     "output_type": "stream",
     "text": [
      "Model: \"sequential_1\"\n",
      "_________________________________________________________________\n",
      "Layer (type)                 Output Shape              Param #   \n",
      "=================================================================\n",
      "embedding_1 (Embedding)      (None, 500, 50)           250000    \n",
      "_________________________________________________________________\n",
      "conv1d_1 (Conv1D)            (None, 498, 128)          19328     \n",
      "_________________________________________________________________\n",
      "global_max_pooling1d_1 (Glob (None, 128)               0         \n",
      "_________________________________________________________________\n",
      "dense_2 (Dense)              (None, 200)               25800     \n",
      "_________________________________________________________________\n",
      "dropout_1 (Dropout)          (None, 200)               0         \n",
      "_________________________________________________________________\n",
      "dense_3 (Dense)              (None, 10)                2010      \n",
      "=================================================================\n",
      "Total params: 297,138\n",
      "Trainable params: 297,138\n",
      "Non-trainable params: 0\n",
      "_________________________________________________________________\n"
     ]
    }
   ],
   "source": [
    "from keras.models import Sequential\n",
    "from tensorflow.keras.layers import Dense, Dropout, Activation, Flatten, Embedding, Conv1D, GlobalMaxPooling1D\n",
    "\n",
    "embedding_dim = 50\n",
    "vocab_size = 5000\n",
    "num_filters = 128\n",
    "kernel_size = 3\n",
    "\n",
    "\n",
    "model001 = Sequential()\n",
    "model001.add(Embedding(input_dim=vocab_size,          # input_dim is the size of the vocabulary\n",
    "                           output_dim=embedding_dim,      # output_dim is the size of the dense vector\n",
    "                           input_length=maxlen))          # input_length is the length of the sequence\n",
    "model001.add(Conv1D(num_filters,               # add a Convolution1D, which will learn filters\n",
    "                 kernel_size,       # convolutional windows length, which mean will operate over 3 words every time\n",
    "                 padding='valid',\n",
    "                 activation='relu',\n",
    "                 strides=1))\n",
    "model001.add(GlobalMaxPooling1D())    # use max pooling to reduce the size of the feature maps\n",
    "model001.add(Dense(200, activation='relu'))\n",
    "model001.add(Dropout(0.2))\n",
    "model001.add(Dense(10, activation='softmax'))\n",
    "model001.compile(optimizer='adam',\n",
    "              loss='categorical_crossentropy',\n",
    "              metrics=['accuracy'])\n",
    "model001.summary()"
   ]
  },
  {
   "cell_type": "code",
   "execution_count": 32,
   "metadata": {
    "colab": {
     "base_uri": "https://localhost:8080/"
    },
    "executionInfo": {
     "elapsed": 55865,
     "status": "ok",
     "timestamp": 1620038267678,
     "user": {
      "displayName": "Lan Zeng",
      "photoUrl": "",
      "userId": "17725825206879958125"
     },
     "user_tz": -60
    },
    "id": "4_qxhmlGZotB",
    "outputId": "a61a3bf4-605f-470b-9df0-26bcc16e27d0"
   },
   "outputs": [
    {
     "name": "stdout",
     "output_type": "stream",
     "text": [
      "Epoch 1/20\n",
      " 3/66 [>.............................] - ETA: 2s - loss: 2.3058 - accuracy: 0.0881"
     ]
    },
    {
     "name": "stderr",
     "output_type": "stream",
     "text": [
      "/usr/local/lib/python3.7/dist-packages/tensorflow/python/data/ops/dataset_ops.py:3504: UserWarning: Even though the tf.config.experimental_run_functions_eagerly option is set, this option does not apply to tf.data functions. tf.data functions are still traced and executed as graphs.\n",
      "  \"Even though the tf.config.experimental_run_functions_eagerly \"\n"
     ]
    },
    {
     "name": "stdout",
     "output_type": "stream",
     "text": [
      "66/66 [==============================] - 3s 43ms/step - loss: 2.2589 - accuracy: 0.1732 - val_loss: 1.9926 - val_accuracy: 0.2920\n",
      "Epoch 2/20\n",
      "66/66 [==============================] - 3s 43ms/step - loss: 1.7941 - accuracy: 0.3588 - val_loss: 1.4837 - val_accuracy: 0.4849\n",
      "Epoch 3/20\n",
      "66/66 [==============================] - 3s 42ms/step - loss: 1.2956 - accuracy: 0.5710 - val_loss: 1.1500 - val_accuracy: 0.6034\n",
      "Epoch 4/20\n",
      "66/66 [==============================] - 3s 42ms/step - loss: 0.8197 - accuracy: 0.7494 - val_loss: 0.9293 - val_accuracy: 0.6918\n",
      "Epoch 5/20\n",
      "66/66 [==============================] - 3s 41ms/step - loss: 0.4954 - accuracy: 0.8708 - val_loss: 0.7868 - val_accuracy: 0.7500\n",
      "Epoch 6/20\n",
      "66/66 [==============================] - 3s 41ms/step - loss: 0.2818 - accuracy: 0.9400 - val_loss: 0.7114 - val_accuracy: 0.7834\n",
      "Epoch 7/20\n",
      "66/66 [==============================] - 3s 41ms/step - loss: 0.1537 - accuracy: 0.9746 - val_loss: 0.6966 - val_accuracy: 0.7963\n",
      "Epoch 8/20\n",
      "66/66 [==============================] - 3s 41ms/step - loss: 0.0872 - accuracy: 0.9892 - val_loss: 0.7021 - val_accuracy: 0.8028\n",
      "Epoch 9/20\n",
      "66/66 [==============================] - 3s 41ms/step - loss: 0.0608 - accuracy: 0.9918 - val_loss: 0.7083 - val_accuracy: 0.8082\n",
      "Epoch 10/20\n",
      "66/66 [==============================] - 3s 44ms/step - loss: 0.0390 - accuracy: 0.9949 - val_loss: 0.7307 - val_accuracy: 0.8093\n",
      "Epoch 11/20\n",
      "66/66 [==============================] - 3s 43ms/step - loss: 0.0341 - accuracy: 0.9949 - val_loss: 0.7523 - val_accuracy: 0.8103\n",
      "Epoch 12/20\n",
      "66/66 [==============================] - 3s 42ms/step - loss: 0.0282 - accuracy: 0.9949 - val_loss: 0.7836 - val_accuracy: 0.8125\n",
      "Epoch 13/20\n",
      "66/66 [==============================] - 3s 42ms/step - loss: 0.0265 - accuracy: 0.9948 - val_loss: 0.7806 - val_accuracy: 0.8093\n",
      "Epoch 14/20\n",
      "66/66 [==============================] - 3s 42ms/step - loss: 0.0238 - accuracy: 0.9955 - val_loss: 0.8090 - val_accuracy: 0.8136\n",
      "Epoch 15/20\n",
      "66/66 [==============================] - 3s 41ms/step - loss: 0.0175 - accuracy: 0.9963 - val_loss: 0.8152 - val_accuracy: 0.8147\n",
      "Epoch 16/20\n",
      "66/66 [==============================] - 3s 42ms/step - loss: 0.0181 - accuracy: 0.9966 - val_loss: 0.8334 - val_accuracy: 0.8082\n",
      "Epoch 17/20\n",
      "66/66 [==============================] - 3s 41ms/step - loss: 0.0174 - accuracy: 0.9962 - val_loss: 0.8343 - val_accuracy: 0.8168\n",
      "Epoch 18/20\n",
      "66/66 [==============================] - 3s 41ms/step - loss: 0.0142 - accuracy: 0.9975 - val_loss: 0.8480 - val_accuracy: 0.8082\n",
      "Epoch 19/20\n",
      "66/66 [==============================] - 3s 41ms/step - loss: 0.0144 - accuracy: 0.9970 - val_loss: 0.8428 - val_accuracy: 0.8114\n",
      "Epoch 20/20\n",
      "66/66 [==============================] - 3s 41ms/step - loss: 0.0119 - accuracy: 0.9966 - val_loss: 0.8682 - val_accuracy: 0.8093\n"
     ]
    }
   ],
   "source": [
    "import tensorflow as tf\n",
    "tf.config.run_functions_eagerly(True)\n",
    "\n",
    "hist001 = model001.fit(X_train, dummy_y_train,\n",
    "          batch_size=128,\n",
    "          epochs=20,\n",
    "          validation_data=(X_val, dummy_y_val))"
   ]
  },
  {
   "cell_type": "markdown",
   "metadata": {
    "id": "SDbf6QW_qL_J"
   },
   "source": [
    "Check the prediction results in validation dataset"
   ]
  },
  {
   "cell_type": "code",
   "execution_count": 33,
   "metadata": {
    "colab": {
     "base_uri": "https://localhost:8080/"
    },
    "executionInfo": {
     "elapsed": 504,
     "status": "ok",
     "timestamp": 1620038277664,
     "user": {
      "displayName": "Lan Zeng",
      "photoUrl": "",
      "userId": "17725825206879958125"
     },
     "user_tz": -60
    },
    "id": "uv6dht6lqL_K",
    "outputId": "9b4528fc-71e2-4c45-fcd0-997345c2c429"
   },
   "outputs": [
    {
     "name": "stdout",
     "output_type": "stream",
     "text": [
      "[[2.2942218e-17 1.4868153e-16 1.2546420e-08 ... 4.2923235e-24\n",
      "  2.3840094e-08 5.4870366e-16]\n",
      " [7.6101678e-06 7.3663318e-03 1.2915584e-01 ... 7.8455770e-07\n",
      "  8.5528153e-01 4.6806239e-05]\n",
      " [4.2329830e-04 2.0752171e-02 8.0495588e-03 ... 1.7755167e-06\n",
      "  7.6020992e-01 3.5120098e-05]\n",
      " ...\n",
      " [2.5467423e-10 9.9991798e-01 1.2744588e-05 ... 6.1018131e-06\n",
      "  3.1761556e-05 1.6203072e-05]\n",
      " [3.4621143e-11 9.9991691e-01 2.1324700e-08 ... 6.7466775e-05\n",
      "  2.7284232e-06 3.9465621e-07]\n",
      " [9.9998724e-01 3.6821106e-12 3.6377713e-07 ... 1.2112294e-11\n",
      "  1.0558826e-06 4.2047418e-06]]\n",
      "['chris brown', 'glee', 'glee', 'elvis presley', 'chris brown', 'bee gees', 'elvis presley', 'elton john', 'ella fitzgerald', 'bee gees', 'elvis presley', 'the rolling stones', 'chris brown', 'ella fitzgerald', 'the rolling stones', 'chris brown', 'ella fitzgerald', 'elton john', 'ella fitzgerald', 'elvis presley', 'bad religion', 'glee', 'glee', 'ella fitzgerald', 'the rolling stones', 'beyonce', 'elvis presley', 'bad religion', 'chris brown', 'glee', 'the rolling stones', 'elvis costello', 'chris brown', 'chris brown', 'elton john', 'bee gees', 'bad religion', 'ella fitzgerald', 'elvis costello', 'bee gees', 'elvis presley', 'glee', 'beyonce', 'elvis presley', 'elvis costello', 'glee', 'ella fitzgerald', 'ella fitzgerald', 'ella fitzgerald', 'bee gees', 'elvis costello', 'elvis costello', 'glee', 'the rolling stones', 'elvis presley', 'elvis presley', 'ella fitzgerald', 'ella fitzgerald', 'bee gees', 'elvis costello', 'beyonce', 'bad religion', 'ella fitzgerald', 'elvis presley', 'ella fitzgerald', 'ella fitzgerald', 'bad religion', 'bee gees', 'bee gees', 'elvis presley', 'ella fitzgerald', 'ella fitzgerald', 'elton john', 'chris brown', 'chris brown', 'beyonce', 'ella fitzgerald', 'chris brown', 'bad religion', 'elvis presley', 'chris brown', 'elvis costello', 'ella fitzgerald', 'ella fitzgerald', 'the rolling stones', 'ella fitzgerald', 'elvis presley', 'elton john', 'elvis presley', 'beyonce', 'ella fitzgerald', 'chris brown', 'elvis costello', 'chris brown', 'elvis presley', 'bee gees', 'elvis costello', 'elton john', 'elvis costello', 'ella fitzgerald', 'the rolling stones', 'glee', 'elvis costello', 'elvis costello', 'bee gees', 'elvis presley', 'elvis presley', 'ella fitzgerald', 'bad religion', 'the rolling stones', 'the rolling stones', 'elvis presley', 'elvis costello', 'elvis presley', 'elvis costello', 'ella fitzgerald', 'elvis costello', 'elvis costello', 'elvis costello', 'elvis presley', 'bee gees', 'bee gees', 'bad religion', 'elvis presley', 'bad religion', 'the rolling stones', 'glee', 'elvis presley', 'the rolling stones', 'beyonce', 'bee gees', 'elton john', 'elvis presley', 'elvis presley', 'chris brown', 'elvis presley', 'bee gees', 'bee gees', 'elvis costello', 'elvis costello', 'elvis presley', 'bee gees', 'elvis presley', 'bee gees', 'elvis presley', 'elvis presley', 'chris brown', 'elvis costello', 'elvis presley', 'chris brown', 'ella fitzgerald', 'elvis presley', 'bee gees', 'elton john', 'elvis presley', 'elton john', 'elvis presley', 'glee', 'chris brown', 'the rolling stones', 'the rolling stones', 'beyonce', 'elvis presley', 'the rolling stones', 'elvis presley', 'bee gees', 'elton john', 'elvis presley', 'elvis costello', 'bee gees', 'chris brown', 'elvis costello', 'glee', 'beyonce', 'chris brown', 'ella fitzgerald', 'bee gees', 'ella fitzgerald', 'chris brown', 'bad religion', 'bee gees', 'the rolling stones', 'elton john', 'bee gees', 'chris brown', 'elvis costello', 'chris brown', 'the rolling stones', 'elton john', 'elvis costello', 'elton john', 'elvis costello', 'ella fitzgerald', 'bee gees', 'elvis presley', 'chris brown', 'bad religion', 'glee', 'beyonce', 'chris brown', 'bee gees', 'bad religion', 'elvis presley', 'bad religion', 'elton john', 'elvis presley', 'ella fitzgerald', 'bad religion', 'beyonce', 'ella fitzgerald', 'bad religion', 'bee gees', 'elvis presley', 'beyonce', 'beyonce', 'bee gees', 'beyonce', 'beyonce', 'ella fitzgerald', 'chris brown', 'bee gees', 'bee gees', 'chris brown', 'elvis costello', 'ella fitzgerald', 'bee gees', 'elvis presley', 'ella fitzgerald', 'glee', 'elvis presley', 'elvis presley', 'bee gees', 'glee', 'the rolling stones', 'elvis costello', 'the rolling stones', 'elvis presley', 'glee', 'elvis presley', 'elton john', 'ella fitzgerald', 'elton john', 'elvis presley', 'the rolling stones', 'bad religion', 'chris brown', 'elton john', 'bee gees', 'elvis costello', 'glee', 'bee gees', 'chris brown', 'glee', 'ella fitzgerald', 'ella fitzgerald', 'bee gees', 'beyonce', 'elvis presley', 'chris brown', 'bee gees', 'ella fitzgerald', 'glee', 'ella fitzgerald', 'chris brown', 'beyonce', 'bee gees', 'elvis presley', 'bee gees', 'elton john', 'elton john', 'the rolling stones', 'bad religion', 'beyonce', 'glee', 'elvis presley', 'the rolling stones', 'bad religion', 'elvis presley', 'ella fitzgerald', 'elvis costello', 'the rolling stones', 'chris brown', 'the rolling stones', 'the rolling stones', 'chris brown', 'chris brown', 'elton john', 'elvis presley', 'elvis costello', 'glee', 'elvis costello', 'elton john', 'elvis costello', 'glee', 'elton john', 'elvis presley', 'elvis costello', 'elvis costello', 'elvis presley', 'elvis presley', 'elton john', 'beyonce', 'elvis presley', 'elvis presley', 'bee gees', 'elton john', 'ella fitzgerald', 'chris brown', 'bee gees', 'elvis presley', 'bee gees', 'bee gees', 'elvis costello', 'elvis costello', 'the rolling stones', 'elton john', 'the rolling stones', 'elvis costello', 'beyonce', 'elvis presley', 'elvis costello', 'chris brown', 'elvis presley', 'glee', 'bad religion', 'bee gees', 'bad religion', 'elvis presley', 'elvis presley', 'elton john', 'bee gees', 'bad religion', 'ella fitzgerald', 'elvis costello', 'ella fitzgerald', 'ella fitzgerald', 'chris brown', 'beyonce', 'elvis presley', 'beyonce', 'beyonce', 'ella fitzgerald', 'the rolling stones', 'ella fitzgerald', 'beyonce', 'chris brown', 'chris brown', 'chris brown', 'elvis presley', 'elvis costello', 'ella fitzgerald', 'bee gees', 'chris brown', 'elvis presley', 'elvis presley', 'chris brown', 'elton john', 'bee gees', 'elton john', 'ella fitzgerald', 'elvis costello', 'elton john', 'the rolling stones', 'glee', 'chris brown', 'ella fitzgerald', 'beyonce', 'bad religion', 'bad religion', 'beyonce', 'elvis presley', 'glee', 'glee', 'elvis costello', 'bad religion', 'chris brown', 'elvis costello', 'elvis costello', 'beyonce', 'elvis presley', 'bad religion', 'elvis costello', 'chris brown', 'the rolling stones', 'beyonce', 'elvis costello', 'elton john', 'elvis costello', 'elton john', 'glee', 'elvis costello', 'elvis costello', 'ella fitzgerald', 'elvis presley', 'ella fitzgerald', 'elvis presley', 'bad religion', 'chris brown', 'the rolling stones', 'elton john', 'bad religion', 'ella fitzgerald', 'glee', 'glee', 'the rolling stones', 'elvis presley', 'chris brown', 'bee gees', 'beyonce', 'glee', 'elvis costello', 'elvis presley', 'the rolling stones', 'beyonce', 'elvis presley', 'elton john', 'glee', 'elvis presley', 'ella fitzgerald', 'bee gees', 'bee gees', 'elvis presley', 'ella fitzgerald', 'elvis costello', 'bad religion', 'ella fitzgerald', 'elvis presley', 'the rolling stones', 'bad religion', 'elvis costello', 'bee gees', 'ella fitzgerald', 'elvis presley', 'the rolling stones', 'chris brown', 'beyonce', 'bee gees', 'beyonce', 'chris brown', 'the rolling stones', 'glee', 'elvis costello', 'elton john', 'chris brown', 'elvis costello', 'elvis presley', 'chris brown', 'the rolling stones', 'ella fitzgerald', 'the rolling stones', 'ella fitzgerald', 'elvis presley', 'elvis costello', 'ella fitzgerald', 'bad religion', 'chris brown', 'elton john', 'beyonce', 'elvis costello', 'ella fitzgerald', 'elton john', 'elvis costello', 'bee gees', 'chris brown', 'ella fitzgerald', 'ella fitzgerald', 'beyonce', 'elvis presley', 'chris brown', 'bad religion', 'chris brown', 'the rolling stones', 'chris brown', 'chris brown', 'elton john', 'bad religion', 'elvis costello', 'the rolling stones', 'elvis costello', 'glee', 'the rolling stones', 'elvis costello', 'chris brown', 'glee', 'the rolling stones', 'beyonce', 'the rolling stones', 'bad religion', 'the rolling stones', 'ella fitzgerald', 'elvis presley', 'elvis presley', 'bee gees', 'beyonce', 'ella fitzgerald', 'ella fitzgerald', 'ella fitzgerald', 'beyonce', 'bee gees', 'beyonce', 'beyonce', 'bad religion', 'elvis costello', 'chris brown', 'beyonce', 'elvis presley', 'ella fitzgerald', 'elvis presley', 'glee', 'beyonce', 'elvis costello', 'chris brown', 'the rolling stones', 'beyonce', 'beyonce', 'elvis presley', 'bee gees', 'chris brown', 'ella fitzgerald', 'bad religion', 'elton john', 'elvis presley', 'bee gees', 'glee', 'ella fitzgerald', 'chris brown', 'elvis presley', 'bad religion', 'ella fitzgerald', 'glee', 'glee', 'elvis costello', 'chris brown', 'elvis presley', 'elton john', 'elvis costello', 'ella fitzgerald', 'bee gees', 'bee gees', 'elton john', 'chris brown', 'bee gees', 'chris brown', 'bee gees', 'elvis presley', 'elvis presley', 'the rolling stones', 'ella fitzgerald', 'elvis costello', 'bad religion', 'elvis presley', 'bee gees', 'bad religion', 'ella fitzgerald', 'chris brown', 'the rolling stones', 'bad religion', 'elvis presley', 'glee', 'elvis presley', 'bee gees', 'chris brown', 'elvis costello', 'elton john', 'bee gees', 'elton john', 'bad religion', 'elton john', 'elvis presley', 'the rolling stones', 'bad religion', 'chris brown', 'chris brown', 'elton john', 'elton john', 'ella fitzgerald', 'the rolling stones', 'elvis presley', 'elvis presley', 'ella fitzgerald', 'glee', 'elvis costello', 'elvis costello', 'ella fitzgerald', 'elvis presley', 'elvis presley', 'bee gees', 'elton john', 'glee', 'bee gees', 'chris brown', 'glee', 'elvis presley', 'elton john', 'beyonce', 'bee gees', 'elvis presley', 'beyonce', 'glee', 'glee', 'elvis presley', 'elvis presley', 'bee gees', 'chris brown', 'bee gees', 'elvis presley', 'chris brown', 'ella fitzgerald', 'elvis costello', 'bad religion', 'elton john', 'bee gees', 'chris brown', 'bee gees', 'chris brown', 'glee', 'beyonce', 'glee', 'elvis costello', 'bad religion', 'elton john', 'glee', 'beyonce', 'bad religion', 'elvis presley', 'glee', 'ella fitzgerald', 'chris brown', 'elvis costello', 'chris brown', 'glee', 'glee', 'bad religion', 'elvis presley', 'elvis presley', 'bad religion', 'elvis costello', 'elvis presley', 'elvis presley', 'the rolling stones', 'elvis costello', 'chris brown', 'elvis costello', 'the rolling stones', 'ella fitzgerald', 'the rolling stones', 'beyonce', 'elvis costello', 'elvis costello', 'beyonce', 'elvis presley', 'the rolling stones', 'elvis presley', 'bee gees', 'chris brown', 'chris brown', 'the rolling stones', 'chris brown', 'elvis presley', 'bee gees', 'elton john', 'the rolling stones', 'beyonce', 'bad religion', 'elvis presley', 'bee gees', 'glee', 'the rolling stones', 'ella fitzgerald', 'beyonce', 'elvis presley', 'elvis costello', 'elvis presley', 'chris brown', 'elvis presley', 'elvis costello', 'ella fitzgerald', 'elvis presley', 'elton john', 'beyonce', 'beyonce', 'elvis costello', 'chris brown', 'bad religion', 'bee gees', 'beyonce', 'ella fitzgerald', 'the rolling stones', 'bee gees', 'the rolling stones', 'elvis costello', 'beyonce', 'glee', 'chris brown', 'elton john', 'beyonce', 'elvis presley', 'ella fitzgerald', 'chris brown', 'elvis costello', 'beyonce', 'bad religion', 'the rolling stones', 'chris brown', 'chris brown', 'elvis presley', 'ella fitzgerald', 'the rolling stones', 'ella fitzgerald', 'elvis costello', 'elvis presley', 'ella fitzgerald', 'bad religion', 'ella fitzgerald', 'bad religion', 'elvis presley', 'elvis costello', 'bee gees', 'chris brown', 'the rolling stones', 'elvis costello', 'bee gees', 'beyonce', 'bee gees', 'elton john', 'elvis costello', 'chris brown', 'elvis costello', 'chris brown', 'chris brown', 'elvis presley', 'the rolling stones', 'bad religion', 'elton john', 'elvis presley', 'elvis costello', 'beyonce', 'elvis costello', 'ella fitzgerald', 'the rolling stones', 'elvis presley', 'elton john', 'elvis presley', 'bee gees', 'chris brown', 'bad religion', 'elvis presley', 'chris brown', 'beyonce', 'beyonce', 'beyonce', 'glee', 'the rolling stones', 'bad religion', 'elvis presley', 'elton john', 'elton john', 'elvis presley', 'elvis costello', 'ella fitzgerald', 'elvis presley', 'bee gees', 'elvis presley', 'chris brown', 'ella fitzgerald', 'elvis costello', 'ella fitzgerald', 'chris brown', 'ella fitzgerald', 'bad religion', 'elton john', 'bee gees', 'beyonce', 'elvis costello', 'beyonce', 'chris brown', 'bee gees', 'elvis costello', 'elvis presley', 'bad religion', 'elton john', 'elvis presley', 'elton john', 'beyonce', 'beyonce', 'chris brown', 'the rolling stones', 'chris brown', 'ella fitzgerald', 'glee', 'ella fitzgerald', 'bad religion', 'elvis presley', 'bad religion', 'glee', 'the rolling stones', 'elton john', 'bad religion', 'elvis presley', 'elton john', 'bee gees', 'ella fitzgerald', 'bee gees', 'ella fitzgerald', 'glee', 'beyonce', 'bad religion', 'beyonce', 'chris brown', 'bee gees', 'the rolling stones', 'elvis presley', 'glee', 'elvis presley', 'chris brown', 'elvis presley', 'bee gees', 'bee gees', 'elvis costello', 'elvis costello', 'elvis costello', 'elton john', 'bad religion', 'elvis presley', 'bad religion', 'chris brown', 'elton john', 'bee gees', 'bee gees', 'bad religion', 'bad religion', 'ella fitzgerald', 'chris brown', 'elvis presley', 'elvis presley', 'elton john', 'ella fitzgerald', 'bad religion', 'glee', 'ella fitzgerald', 'elton john', 'bad religion', 'beyonce', 'ella fitzgerald', 'beyonce', 'bee gees', 'elvis presley', 'ella fitzgerald', 'beyonce', 'elvis costello', 'beyonce', 'ella fitzgerald', 'bad religion', 'elvis presley', 'the rolling stones', 'chris brown', 'elvis costello', 'chris brown', 'ella fitzgerald', 'the rolling stones', 'bee gees', 'the rolling stones', 'glee', 'elvis costello', 'bee gees', 'elton john', 'elvis presley', 'elvis presley', 'ella fitzgerald', 'ella fitzgerald', 'elvis costello', 'bee gees', 'chris brown', 'chris brown', 'the rolling stones', 'bad religion', 'bad religion', 'bee gees', 'the rolling stones', 'bee gees', 'glee', 'glee', 'ella fitzgerald', 'elvis costello', 'bad religion', 'bee gees', 'beyonce', 'glee', 'elton john', 'chris brown', 'elvis costello', 'bee gees', 'chris brown', 'glee', 'elton john', 'the rolling stones', 'glee', 'bad religion', 'glee', 'elton john', 'ella fitzgerald', 'elvis costello', 'beyonce', 'chris brown', 'elvis costello', 'ella fitzgerald', 'elton john', 'glee', 'elvis presley', 'ella fitzgerald', 'elvis presley', 'elvis presley', 'the rolling stones', 'elvis costello', 'glee', 'elton john', 'elvis presley', 'beyonce', 'bee gees', 'chris brown', 'elvis costello', 'ella fitzgerald', 'chris brown', 'the rolling stones', 'bee gees', 'bee gees', 'bee gees', 'bad religion']\n"
     ]
    },
    {
     "name": "stderr",
     "output_type": "stream",
     "text": [
      "/usr/local/lib/python3.7/dist-packages/tensorflow/python/data/ops/dataset_ops.py:3504: UserWarning: Even though the tf.config.experimental_run_functions_eagerly option is set, this option does not apply to tf.data functions. tf.data functions are still traced and executed as graphs.\n",
      "  \"Even though the tf.config.experimental_run_functions_eagerly \"\n"
     ]
    }
   ],
   "source": [
    "prediction = model001.predict(X_val)\n",
    "\n",
    "labels = ['bad religion', 'bee gees', 'beyonce', 'chris brown', 'ella fitzgerald', 'elton john', 'elvis costello', 'elvis presley', 'glee', 'the rolling stones']\n",
    "print(prediction)\n",
    "pred_str = []\n",
    "for i in range(928):\n",
    "  pred_str.append(labels[np.argmax(prediction[i])])\n",
    "print(pred_str)"
   ]
  },
  {
   "cell_type": "code",
   "execution_count": 34,
   "metadata": {
    "colab": {
     "base_uri": "https://localhost:8080/"
    },
    "executionInfo": {
     "elapsed": 483,
     "status": "ok",
     "timestamp": 1620038280288,
     "user": {
      "displayName": "Lan Zeng",
      "photoUrl": "",
      "userId": "17725825206879958125"
     },
     "user_tz": -60
    },
    "id": "hXmBp_pkqL_M",
    "outputId": "77fc5153-2576-4b1f-a8bb-37e4b009b8cc"
   },
   "outputs": [
    {
     "name": "stdout",
     "output_type": "stream",
     "text": [
      "[['bad religion' '72']\n",
      " ['bee gees' '100']\n",
      " ['beyonce' '74']\n",
      " ['chris brown' '109']\n",
      " ['ella fitzgerald' '109']\n",
      " ['elton john' '72']\n",
      " ['elvis costello' '105']\n",
      " ['elvis presley' '146']\n",
      " ['glee' '67']\n",
      " ['the rolling stones' '74']]\n"
     ]
    }
   ],
   "source": [
    "(unique, counts) = np.unique(pred_str, return_counts=True)\n",
    "frequencies = np.asarray((unique, counts)).T\n",
    "\n",
    "print(frequencies)"
   ]
  },
  {
   "cell_type": "markdown",
   "metadata": {
    "id": "G0xB5KBIqL_M"
   },
   "source": [
    "Visualise the training process"
   ]
  },
  {
   "cell_type": "code",
   "execution_count": 35,
   "metadata": {
    "colab": {
     "base_uri": "https://localhost:8080/",
     "height": 541
    },
    "executionInfo": {
     "elapsed": 4045,
     "status": "ok",
     "timestamp": 1620038292677,
     "user": {
      "displayName": "Lan Zeng",
      "photoUrl": "",
      "userId": "17725825206879958125"
     },
     "user_tz": -60
    },
    "id": "iEPA7O_bqL_M",
    "outputId": "3759fb97-4a51-4cee-b74c-bb4b5e0c1df9"
   },
   "outputs": [
    {
     "name": "stderr",
     "output_type": "stream",
     "text": [
      "/usr/local/lib/python3.7/dist-packages/tensorflow/python/data/ops/dataset_ops.py:3504: UserWarning: Even though the tf.config.experimental_run_functions_eagerly option is set, this option does not apply to tf.data functions. tf.data functions are still traced and executed as graphs.\n",
      "  \"Even though the tf.config.experimental_run_functions_eagerly \"\n"
     ]
    },
    {
     "name": "stdout",
     "output_type": "stream",
     "text": [
      "Training Accuracy: 0.9974\n",
      "Testing Accuracy:  0.8093\n"
     ]
    },
    {
     "data": {
      "text/plain": [
       "(<Figure size 720x360 with 2 Axes>,\n",
       " array([<matplotlib.axes._subplots.AxesSubplot object at 0x7eff12548e90>,\n",
       "        <matplotlib.axes._subplots.AxesSubplot object at 0x7eff0e5f0890>],\n",
       "       dtype=object))"
      ]
     },
     "execution_count": 35,
     "metadata": {
      "tags": []
     },
     "output_type": "execute_result"
    },
    {
     "data": {
      "image/png": "[encoded data removed]",
      "text/plain": [
       "<Figure size 720x360 with 2 Axes>"
      ]
     },
     "metadata": {
      "needs_background": "light",
      "tags": []
     },
     "output_type": "display_data"
    }
   ],
   "source": [
    "loss, accuracy = model001.evaluate(X_train, dummy_y_train, verbose=False)\n",
    "print(\"Training Accuracy: {:.4f}\".format(accuracy))\n",
    "loss, accuracy = model001.evaluate(X_val, dummy_y_val, verbose=False)\n",
    "print(\"Testing Accuracy:  {:.4f}\".format(accuracy))\n",
    "\n",
    "plot_history(hist001)"
   ]
  },
  {
   "cell_type": "markdown",
   "metadata": {
    "id": "brrLmys6_GMk"
   },
   "source": [
    "### The loss starts to rise from sixth epoch, so the training should stop at 7th epoch"
   ]
  },
  {
   "cell_type": "code",
   "execution_count": 36,
   "metadata": {
    "colab": {
     "base_uri": "https://localhost:8080/"
    },
    "executionInfo": {
     "elapsed": 591,
     "status": "ok",
     "timestamp": 1620038320628,
     "user": {
      "displayName": "Lan Zeng",
      "photoUrl": "",
      "userId": "17725825206879958125"
     },
     "user_tz": -60
    },
    "id": "qZ2NsOGfBN5G",
    "outputId": "e12eb35f-6118-459b-e237-310c62a5f298"
   },
   "outputs": [
    {
     "name": "stdout",
     "output_type": "stream",
     "text": [
      "Model: \"sequential_2\"\n",
      "_________________________________________________________________\n",
      "Layer (type)                 Output Shape              Param #   \n",
      "=================================================================\n",
      "embedding_2 (Embedding)      (None, 500, 50)           250000    \n",
      "_________________________________________________________________\n",
      "conv1d_2 (Conv1D)            (None, 498, 128)          19328     \n",
      "_________________________________________________________________\n",
      "global_max_pooling1d_2 (Glob (None, 128)               0         \n",
      "_________________________________________________________________\n",
      "dense_4 (Dense)              (None, 200)               25800     \n",
      "_________________________________________________________________\n",
      "dropout_2 (Dropout)          (None, 200)               0         \n",
      "_________________________________________________________________\n",
      "dense_5 (Dense)              (None, 10)                2010      \n",
      "=================================================================\n",
      "Total params: 297,138\n",
      "Trainable params: 297,138\n",
      "Non-trainable params: 0\n",
      "_________________________________________________________________\n"
     ]
    }
   ],
   "source": [
    "from keras.models import Sequential\n",
    "from tensorflow.keras.layers import Dense, Dropout, Activation, Flatten, Embedding, Conv1D, GlobalMaxPooling1D\n",
    "\n",
    "embedding_dim = 50\n",
    "vocab_size = 5000\n",
    "num_filters = 128\n",
    "kernel_size = 3\n",
    "\n",
    "\n",
    "model001 = Sequential()\n",
    "model001.add(Embedding(input_dim=vocab_size,          # input_dim is the size of the vocabulary\n",
    "                           output_dim=embedding_dim,      # output_dim is the size of the dense vector\n",
    "                           input_length=maxlen))          # input_length is the length of the sequence\n",
    "model001.add(Conv1D(num_filters,               # add a Convolution1D, which will learn filters\n",
    "                 kernel_size,       # convolutional windows length, which mean will operate over 3 words every time\n",
    "                 padding='valid',\n",
    "                 activation='relu',\n",
    "                 strides=1))\n",
    "model001.add(GlobalMaxPooling1D())    # use max pooling to reduce the size of the feature maps\n",
    "model001.add(Dense(200, activation='relu'))\n",
    "model001.add(Dropout(0.2))\n",
    "model001.add(Dense(10, activation='softmax'))\n",
    "model001.compile(optimizer='adam',\n",
    "              loss='categorical_crossentropy',\n",
    "              metrics=['accuracy'])\n",
    "model001.summary()"
   ]
  },
  {
   "cell_type": "code",
   "execution_count": 37,
   "metadata": {
    "colab": {
     "base_uri": "https://localhost:8080/"
    },
    "executionInfo": {
     "elapsed": 19638,
     "status": "ok",
     "timestamp": 1620038348227,
     "user": {
      "displayName": "Lan Zeng",
      "photoUrl": "",
      "userId": "17725825206879958125"
     },
     "user_tz": -60
    },
    "id": "Yfjw7D1hBN5Q",
    "outputId": "08b43de6-c7ed-4b2b-f382-7939094f5ee2"
   },
   "outputs": [
    {
     "name": "stdout",
     "output_type": "stream",
     "text": [
      "Epoch 1/7\n",
      " 3/66 [>.............................] - ETA: 2s - loss: 2.2990 - accuracy: 0.0946"
     ]
    },
    {
     "name": "stderr",
     "output_type": "stream",
     "text": [
      "/usr/local/lib/python3.7/dist-packages/tensorflow/python/data/ops/dataset_ops.py:3504: UserWarning: Even though the tf.config.experimental_run_functions_eagerly option is set, this option does not apply to tf.data functions. tf.data functions are still traced and executed as graphs.\n",
      "  \"Even though the tf.config.experimental_run_functions_eagerly \"\n"
     ]
    },
    {
     "name": "stdout",
     "output_type": "stream",
     "text": [
      "66/66 [==============================] - 3s 43ms/step - loss: 2.2540 - accuracy: 0.1858 - val_loss: 2.0382 - val_accuracy: 0.2694\n",
      "Epoch 2/7\n",
      "66/66 [==============================] - 3s 42ms/step - loss: 1.8293 - accuracy: 0.3476 - val_loss: 1.4539 - val_accuracy: 0.5065\n",
      "Epoch 3/7\n",
      "66/66 [==============================] - 3s 42ms/step - loss: 1.2436 - accuracy: 0.5821 - val_loss: 1.1550 - val_accuracy: 0.6024\n",
      "Epoch 4/7\n",
      "66/66 [==============================] - 3s 41ms/step - loss: 0.8136 - accuracy: 0.7576 - val_loss: 0.9144 - val_accuracy: 0.7123\n",
      "Epoch 5/7\n",
      "66/66 [==============================] - 3s 42ms/step - loss: 0.5042 - accuracy: 0.8695 - val_loss: 0.7889 - val_accuracy: 0.7522\n",
      "Epoch 6/7\n",
      "66/66 [==============================] - 3s 41ms/step - loss: 0.2743 - accuracy: 0.9416 - val_loss: 0.7511 - val_accuracy: 0.7683\n",
      "Epoch 7/7\n",
      "66/66 [==============================] - 3s 42ms/step - loss: 0.1722 - accuracy: 0.9670 - val_loss: 0.7401 - val_accuracy: 0.7909\n"
     ]
    }
   ],
   "source": [
    "import tensorflow as tf\n",
    "tf.config.run_functions_eagerly(True)\n",
    "\n",
    "hist001 = model001.fit(X_train, dummy_y_train,\n",
    "          batch_size=128,\n",
    "          epochs=7,\n",
    "          validation_data=(X_val, dummy_y_val))"
   ]
  },
  {
   "cell_type": "markdown",
   "metadata": {
    "id": "tjWLOuqj0-Zt"
   },
   "source": [
    "Save the model"
   ]
  },
  {
   "cell_type": "code",
   "execution_count": 38,
   "metadata": {
    "executionInfo": {
     "elapsed": 3043,
     "status": "ok",
     "timestamp": 1620038711874,
     "user": {
      "displayName": "Lan Zeng",
      "photoUrl": "",
      "userId": "17725825206879958125"
     },
     "user_tz": -60
    },
    "id": "X0HLIGgrz7pd"
   },
   "outputs": [],
   "source": [
    "!pip install -q pyyaml h5py\n",
    "from tensorflow.keras.models import load_model\n",
    "# save it as a h5 file\n",
    "\n",
    "model001.save('tl_cnn_epoch7.h5')"
   ]
  },
  {
   "cell_type": "markdown",
   "metadata": {
    "id": "uLl-6TYlBN5Q"
   },
   "source": [
    "Check the prediction results in validation dataset"
   ]
  },
  {
   "cell_type": "code",
   "execution_count": 39,
   "metadata": {
    "colab": {
     "base_uri": "https://localhost:8080/"
    },
    "executionInfo": {
     "elapsed": 483,
     "status": "ok",
     "timestamp": 1620038728895,
     "user": {
      "displayName": "Lan Zeng",
      "photoUrl": "",
      "userId": "17725825206879958125"
     },
     "user_tz": -60
    },
    "id": "viKdupMDBN5Q",
    "outputId": "da5d6b6d-c80e-44b4-be79-d911278793ea"
   },
   "outputs": [
    {
     "name": "stdout",
     "output_type": "stream",
     "text": [
      "[[7.84987561e-11 2.64233861e-08 4.29397733e-06 ... 4.22148244e-14\n",
      "  5.30774514e-07 2.78395285e-09]\n",
      " [1.41349407e-02 1.62381425e-01 1.17883570e-01 ... 1.14015285e-02\n",
      "  4.11766112e-01 5.36019867e-03]\n",
      " [1.32799204e-02 1.71347663e-01 3.35061550e-02 ... 1.63154153e-03\n",
      "  1.24622166e-01 6.99631113e-04]\n",
      " ...\n",
      " [1.07996730e-05 9.38685417e-01 1.42218275e-02 ... 7.04260485e-04\n",
      "  2.48424765e-02 2.18916894e-03]\n",
      " [7.01721819e-06 9.95482087e-01 7.30490865e-05 ... 9.01784661e-05\n",
      "  8.43149377e-04 5.70072676e-04]\n",
      " [9.94126201e-01 3.49222799e-04 9.02818374e-06 ... 1.97654663e-06\n",
      "  3.61830997e-03 6.74436742e-05]]\n",
      "['chris brown', 'glee', 'elvis costello', 'ella fitzgerald', 'chris brown', 'elvis costello', 'elvis presley', 'elton john', 'ella fitzgerald', 'bee gees', 'elvis presley', 'the rolling stones', 'chris brown', 'ella fitzgerald', 'the rolling stones', 'chris brown', 'ella fitzgerald', 'elton john', 'ella fitzgerald', 'elvis presley', 'bad religion', 'glee', 'chris brown', 'ella fitzgerald', 'the rolling stones', 'glee', 'elvis presley', 'bad religion', 'chris brown', 'glee', 'the rolling stones', 'elvis costello', 'beyonce', 'chris brown', 'elton john', 'bee gees', 'bad religion', 'glee', 'elvis costello', 'bee gees', 'elvis presley', 'glee', 'beyonce', 'elvis presley', 'elvis costello', 'ella fitzgerald', 'ella fitzgerald', 'elvis presley', 'ella fitzgerald', 'bee gees', 'elvis costello', 'elvis costello', 'ella fitzgerald', 'the rolling stones', 'elvis presley', 'elvis presley', 'ella fitzgerald', 'ella fitzgerald', 'bee gees', 'glee', 'beyonce', 'bad religion', 'ella fitzgerald', 'elvis presley', 'ella fitzgerald', 'ella fitzgerald', 'bad religion', 'bee gees', 'bee gees', 'elvis presley', 'ella fitzgerald', 'ella fitzgerald', 'elton john', 'chris brown', 'chris brown', 'beyonce', 'ella fitzgerald', 'chris brown', 'bad religion', 'elvis presley', 'the rolling stones', 'elvis costello', 'ella fitzgerald', 'ella fitzgerald', 'the rolling stones', 'ella fitzgerald', 'elvis presley', 'elton john', 'elvis presley', 'beyonce', 'ella fitzgerald', 'chris brown', 'elvis costello', 'chris brown', 'elvis presley', 'bee gees', 'elvis costello', 'elton john', 'elvis costello', 'bee gees', 'the rolling stones', 'glee', 'elvis costello', 'elvis costello', 'bee gees', 'elvis presley', 'elvis presley', 'ella fitzgerald', 'bad religion', 'the rolling stones', 'the rolling stones', 'bee gees', 'elvis costello', 'elvis presley', 'elvis costello', 'ella fitzgerald', 'elvis costello', 'elvis costello', 'elvis costello', 'elvis presley', 'bee gees', 'bee gees', 'bad religion', 'elvis presley', 'bad religion', 'the rolling stones', 'bee gees', 'elvis presley', 'the rolling stones', 'beyonce', 'glee', 'elton john', 'elvis presley', 'elvis presley', 'chris brown', 'elvis presley', 'elvis presley', 'bee gees', 'bad religion', 'elvis costello', 'elvis presley', 'bee gees', 'elvis presley', 'bee gees', 'glee', 'elvis presley', 'chris brown', 'elvis costello', 'elvis presley', 'chris brown', 'ella fitzgerald', 'elvis presley', 'bee gees', 'elton john', 'elvis presley', 'ella fitzgerald', 'elvis presley', 'beyonce', 'chris brown', 'the rolling stones', 'the rolling stones', 'beyonce', 'bee gees', 'the rolling stones', 'elvis presley', 'bee gees', 'elton john', 'elvis presley', 'elvis costello', 'the rolling stones', 'chris brown', 'elvis costello', 'the rolling stones', 'beyonce', 'chris brown', 'ella fitzgerald', 'elvis presley', 'ella fitzgerald', 'chris brown', 'ella fitzgerald', 'ella fitzgerald', 'the rolling stones', 'elton john', 'glee', 'chris brown', 'elvis costello', 'chris brown', 'the rolling stones', 'elton john', 'elvis costello', 'elton john', 'elvis costello', 'ella fitzgerald', 'bee gees', 'elvis presley', 'chris brown', 'bad religion', 'glee', 'beyonce', 'chris brown', 'bee gees', 'bad religion', 'elvis presley', 'bad religion', 'elton john', 'elvis presley', 'ella fitzgerald', 'bad religion', 'beyonce', 'bee gees', 'bad religion', 'bee gees', 'elvis presley', 'beyonce', 'beyonce', 'glee', 'beyonce', 'beyonce', 'ella fitzgerald', 'chris brown', 'bee gees', 'bee gees', 'chris brown', 'elvis costello', 'ella fitzgerald', 'elvis costello', 'elvis presley', 'ella fitzgerald', 'glee', 'elvis presley', 'elvis presley', 'bee gees', 'glee', 'elvis presley', 'glee', 'the rolling stones', 'elvis presley', 'glee', 'elvis presley', 'elton john', 'elvis presley', 'ella fitzgerald', 'glee', 'bee gees', 'bad religion', 'chris brown', 'elton john', 'bee gees', 'elvis costello', 'glee', 'the rolling stones', 'chris brown', 'glee', 'ella fitzgerald', 'elvis costello', 'bee gees', 'beyonce', 'ella fitzgerald', 'chris brown', 'elvis presley', 'elton john', 'the rolling stones', 'ella fitzgerald', 'chris brown', 'beyonce', 'ella fitzgerald', 'elvis presley', 'bee gees', 'elton john', 'elton john', 'glee', 'bad religion', 'beyonce', 'ella fitzgerald', 'elvis presley', 'the rolling stones', 'bad religion', 'elvis presley', 'ella fitzgerald', 'elvis presley', 'the rolling stones', 'chris brown', 'the rolling stones', 'the rolling stones', 'chris brown', 'chris brown', 'elton john', 'elvis presley', 'elton john', 'the rolling stones', 'elvis costello', 'elton john', 'elvis costello', 'glee', 'elton john', 'elvis presley', 'elvis costello', 'elvis costello', 'elvis presley', 'elvis presley', 'elton john', 'beyonce', 'elvis presley', 'elvis presley', 'bee gees', 'elton john', 'ella fitzgerald', 'chris brown', 'bee gees', 'elvis presley', 'bee gees', 'bee gees', 'elvis costello', 'elvis costello', 'the rolling stones', 'elton john', 'the rolling stones', 'elvis costello', 'beyonce', 'elvis presley', 'elvis costello', 'chris brown', 'elvis presley', 'glee', 'bad religion', 'bee gees', 'bad religion', 'ella fitzgerald', 'elvis presley', 'elton john', 'bee gees', 'bad religion', 'ella fitzgerald', 'elvis costello', 'ella fitzgerald', 'elvis presley', 'chris brown', 'beyonce', 'elvis presley', 'beyonce', 'beyonce', 'elvis costello', 'the rolling stones', 'bad religion', 'beyonce', 'chris brown', 'chris brown', 'chris brown', 'elvis presley', 'glee', 'ella fitzgerald', 'bee gees', 'chris brown', 'ella fitzgerald', 'elvis presley', 'chris brown', 'elton john', 'elvis presley', 'elton john', 'ella fitzgerald', 'elvis costello', 'elton john', 'the rolling stones', 'glee', 'chris brown', 'elvis presley', 'beyonce', 'bad religion', 'elton john', 'beyonce', 'elvis presley', 'beyonce', 'glee', 'elvis costello', 'bad religion', 'chris brown', 'elvis costello', 'elvis costello', 'beyonce', 'elvis presley', 'bad religion', 'ella fitzgerald', 'chris brown', 'the rolling stones', 'beyonce', 'elvis costello', 'elton john', 'glee', 'elton john', 'glee', 'elvis costello', 'elvis costello', 'elvis presley', 'elvis presley', 'ella fitzgerald', 'elvis presley', 'bad religion', 'chris brown', 'ella fitzgerald', 'elton john', 'bad religion', 'ella fitzgerald', 'glee', 'beyonce', 'the rolling stones', 'elvis presley', 'chris brown', 'bee gees', 'beyonce', 'elvis costello', 'elvis costello', 'elvis presley', 'the rolling stones', 'beyonce', 'elvis presley', 'elton john', 'elton john', 'elvis presley', 'ella fitzgerald', 'bee gees', 'bee gees', 'elvis presley', 'ella fitzgerald', 'elvis costello', 'bad religion', 'ella fitzgerald', 'elvis presley', 'the rolling stones', 'bad religion', 'elvis costello', 'bee gees', 'the rolling stones', 'elvis presley', 'the rolling stones', 'chris brown', 'beyonce', 'elvis costello', 'beyonce', 'chris brown', 'the rolling stones', 'glee', 'ella fitzgerald', 'elton john', 'chris brown', 'elton john', 'elvis presley', 'chris brown', 'ella fitzgerald', 'ella fitzgerald', 'the rolling stones', 'ella fitzgerald', 'the rolling stones', 'chris brown', 'ella fitzgerald', 'bad religion', 'chris brown', 'elton john', 'chris brown', 'elvis costello', 'ella fitzgerald', 'elton john', 'glee', 'bee gees', 'chris brown', 'ella fitzgerald', 'ella fitzgerald', 'glee', 'elvis presley', 'chris brown', 'bad religion', 'chris brown', 'glee', 'chris brown', 'chris brown', 'elton john', 'bad religion', 'elvis costello', 'the rolling stones', 'elvis costello', 'elton john', 'the rolling stones', 'elvis costello', 'chris brown', 'glee', 'the rolling stones', 'beyonce', 'the rolling stones', 'bad religion', 'the rolling stones', 'ella fitzgerald', 'elvis presley', 'elvis presley', 'elvis presley', 'beyonce', 'elvis presley', 'ella fitzgerald', 'ella fitzgerald', 'beyonce', 'bee gees', 'beyonce', 'beyonce', 'elvis costello', 'beyonce', 'chris brown', 'beyonce', 'elvis presley', 'elvis presley', 'elvis presley', 'the rolling stones', 'beyonce', 'elvis costello', 'chris brown', 'the rolling stones', 'beyonce', 'beyonce', 'elvis presley', 'ella fitzgerald', 'chris brown', 'bee gees', 'bad religion', 'elton john', 'elvis presley', 'bee gees', 'glee', 'glee', 'chris brown', 'elvis presley', 'bee gees', 'ella fitzgerald', 'glee', 'bee gees', 'elvis costello', 'bee gees', 'elvis presley', 'elton john', 'elvis costello', 'glee', 'bee gees', 'elvis costello', 'elton john', 'chris brown', 'bee gees', 'chris brown', 'bee gees', 'elvis presley', 'elvis presley', 'the rolling stones', 'ella fitzgerald', 'elvis costello', 'bad religion', 'elvis presley', 'bee gees', 'bad religion', 'ella fitzgerald', 'chris brown', 'the rolling stones', 'bad religion', 'elvis presley', 'beyonce', 'elvis presley', 'bee gees', 'chris brown', 'elvis costello', 'elton john', 'bee gees', 'elton john', 'elvis costello', 'elton john', 'elvis presley', 'the rolling stones', 'bad religion', 'chris brown', 'chris brown', 'elton john', 'elton john', 'bee gees', 'bee gees', 'elvis presley', 'elvis presley', 'elvis presley', 'glee', 'elvis costello', 'elvis costello', 'ella fitzgerald', 'elvis presley', 'elvis presley', 'bee gees', 'elton john', 'glee', 'bee gees', 'chris brown', 'glee', 'ella fitzgerald', 'elton john', 'beyonce', 'bee gees', 'elvis presley', 'beyonce', 'glee', 'glee', 'elvis presley', 'elvis presley', 'bee gees', 'chris brown', 'bee gees', 'elvis presley', 'chris brown', 'ella fitzgerald', 'elvis costello', 'elvis costello', 'elton john', 'bee gees', 'chris brown', 'bee gees', 'chris brown', 'elvis presley', 'beyonce', 'glee', 'elton john', 'bad religion', 'elvis costello', 'the rolling stones', 'beyonce', 'bad religion', 'elvis presley', 'bee gees', 'elton john', 'chris brown', 'elvis costello', 'chris brown', 'ella fitzgerald', 'glee', 'bad religion', 'elvis presley', 'elvis presley', 'bad religion', 'elvis costello', 'elvis presley', 'elvis presley', 'the rolling stones', 'elvis costello', 'chris brown', 'elvis costello', 'the rolling stones', 'ella fitzgerald', 'the rolling stones', 'beyonce', 'elvis costello', 'elvis costello', 'beyonce', 'elvis presley', 'the rolling stones', 'ella fitzgerald', 'the rolling stones', 'chris brown', 'chris brown', 'the rolling stones', 'chris brown', 'elvis presley', 'beyonce', 'elton john', 'the rolling stones', 'beyonce', 'bad religion', 'elvis presley', 'glee', 'glee', 'the rolling stones', 'ella fitzgerald', 'beyonce', 'elvis presley', 'elvis costello', 'elvis presley', 'chris brown', 'elvis presley', 'elvis costello', 'ella fitzgerald', 'elvis presley', 'elton john', 'beyonce', 'beyonce', 'elvis costello', 'chris brown', 'bad religion', 'bee gees', 'beyonce', 'elvis presley', 'elvis presley', 'elvis presley', 'the rolling stones', 'elvis costello', 'beyonce', 'glee', 'chris brown', 'elvis costello', 'beyonce', 'elvis presley', 'glee', 'chris brown', 'elton john', 'beyonce', 'bad religion', 'the rolling stones', 'chris brown', 'chris brown', 'elvis presley', 'ella fitzgerald', 'the rolling stones', 'ella fitzgerald', 'elvis costello', 'elvis presley', 'ella fitzgerald', 'bad religion', 'ella fitzgerald', 'bad religion', 'elvis presley', 'elvis costello', 'bee gees', 'chris brown', 'the rolling stones', 'elvis costello', 'elton john', 'beyonce', 'elvis costello', 'elton john', 'elvis costello', 'chris brown', 'elvis costello', 'chris brown', 'chris brown', 'elvis presley', 'the rolling stones', 'bad religion', 'elton john', 'elvis presley', 'elvis costello', 'the rolling stones', 'elvis costello', 'ella fitzgerald', 'the rolling stones', 'elvis presley', 'elton john', 'elvis presley', 'glee', 'chris brown', 'bad religion', 'elvis presley', 'chris brown', 'glee', 'glee', 'beyonce', 'glee', 'the rolling stones', 'bee gees', 'elvis presley', 'elton john', 'elton john', 'elvis presley', 'glee', 'elvis costello', 'elvis presley', 'elton john', 'bee gees', 'chris brown', 'bee gees', 'elvis costello', 'bee gees', 'chris brown', 'ella fitzgerald', 'bad religion', 'elton john', 'elvis presley', 'beyonce', 'elvis costello', 'beyonce', 'chris brown', 'bee gees', 'elvis costello', 'elvis presley', 'bad religion', 'elton john', 'elvis presley', 'elton john', 'bee gees', 'beyonce', 'chris brown', 'glee', 'chris brown', 'ella fitzgerald', 'glee', 'bee gees', 'bad religion', 'elvis presley', 'glee', 'elvis costello', 'the rolling stones', 'elton john', 'bad religion', 'glee', 'elton john', 'bee gees', 'bee gees', 'bee gees', 'ella fitzgerald', 'glee', 'beyonce', 'bad religion', 'beyonce', 'chris brown', 'ella fitzgerald', 'the rolling stones', 'elvis presley', 'glee', 'elvis presley', 'chris brown', 'elvis presley', 'bee gees', 'bee gees', 'elvis costello', 'elvis costello', 'elvis costello', 'elton john', 'glee', 'elvis presley', 'bad religion', 'chris brown', 'elton john', 'bee gees', 'bee gees', 'bad religion', 'bad religion', 'ella fitzgerald', 'chris brown', 'elvis presley', 'elvis presley', 'bee gees', 'ella fitzgerald', 'bad religion', 'glee', 'ella fitzgerald', 'elton john', 'bad religion', 'glee', 'ella fitzgerald', 'beyonce', 'bee gees', 'elvis presley', 'ella fitzgerald', 'beyonce', 'elvis costello', 'beyonce', 'ella fitzgerald', 'bad religion', 'elvis presley', 'bee gees', 'chris brown', 'elvis costello', 'chris brown', 'elvis presley', 'the rolling stones', 'elvis presley', 'the rolling stones', 'glee', 'elton john', 'glee', 'elton john', 'elvis presley', 'ella fitzgerald', 'ella fitzgerald', 'ella fitzgerald', 'elvis costello', 'elvis costello', 'chris brown', 'chris brown', 'the rolling stones', 'bad religion', 'bad religion', 'beyonce', 'bad religion', 'bee gees', 'glee', 'glee', 'glee', 'elvis costello', 'bad religion', 'chris brown', 'beyonce', 'glee', 'elton john', 'chris brown', 'elvis costello', 'bee gees', 'beyonce', 'elvis costello', 'elvis costello', 'the rolling stones', 'glee', 'bad religion', 'beyonce', 'elton john', 'glee', 'elvis costello', 'beyonce', 'chris brown', 'elvis costello', 'elvis costello', 'elton john', 'beyonce', 'elvis presley', 'ella fitzgerald', 'elvis presley', 'elvis presley', 'the rolling stones', 'elvis costello', 'glee', 'elton john', 'elvis presley', 'beyonce', 'glee', 'chris brown', 'elvis costello', 'ella fitzgerald', 'chris brown', 'the rolling stones', 'bee gees', 'bee gees', 'bee gees', 'bad religion']\n"
     ]
    },
    {
     "name": "stderr",
     "output_type": "stream",
     "text": [
      "/usr/local/lib/python3.7/dist-packages/tensorflow/python/data/ops/dataset_ops.py:3504: UserWarning: Even though the tf.config.experimental_run_functions_eagerly option is set, this option does not apply to tf.data functions. tf.data functions are still traced and executed as graphs.\n",
      "  \"Even though the tf.config.experimental_run_functions_eagerly \"\n"
     ]
    }
   ],
   "source": [
    "prediction = model001.predict(X_val)\n",
    "\n",
    "labels = ['bad religion', 'bee gees', 'beyonce', 'chris brown', 'ella fitzgerald', 'elton john', 'elvis costello', 'elvis presley', 'glee', 'the rolling stones']\n",
    "print(prediction)\n",
    "pred_str = []\n",
    "for i in range(928):\n",
    "  pred_str.append(labels[np.argmax(prediction[i])])\n",
    "print(pred_str)"
   ]
  },
  {
   "cell_type": "code",
   "execution_count": 40,
   "metadata": {
    "colab": {
     "base_uri": "https://localhost:8080/"
    },
    "executionInfo": {
     "elapsed": 493,
     "status": "ok",
     "timestamp": 1620038733315,
     "user": {
      "displayName": "Lan Zeng",
      "photoUrl": "",
      "userId": "17725825206879958125"
     },
     "user_tz": -60
    },
    "id": "vnVm_OWbBN5Q",
    "outputId": "11801fdf-9f0f-4864-f0b2-bbb4a8381eed"
   },
   "outputs": [
    {
     "name": "stdout",
     "output_type": "stream",
     "text": [
      "[['bad religion' '66']\n",
      " ['bee gees' '89']\n",
      " ['beyonce' '77']\n",
      " ['chris brown' '109']\n",
      " ['ella fitzgerald' '99']\n",
      " ['elton john' '78']\n",
      " ['elvis costello' '108']\n",
      " ['elvis presley' '154']\n",
      " ['glee' '73']\n",
      " ['the rolling stones' '75']]\n"
     ]
    }
   ],
   "source": [
    "(unique, counts) = np.unique(pred_str, return_counts=True)\n",
    "frequencies = np.asarray((unique, counts)).T\n",
    "\n",
    "print(frequencies)"
   ]
  },
  {
   "cell_type": "markdown",
   "metadata": {
    "id": "knbM03ojBN5R"
   },
   "source": [
    "Visualise the training process"
   ]
  },
  {
   "cell_type": "code",
   "execution_count": 41,
   "metadata": {
    "colab": {
     "base_uri": "https://localhost:8080/",
     "height": 541
    },
    "executionInfo": {
     "elapsed": 4392,
     "status": "ok",
     "timestamp": 1620038741700,
     "user": {
      "displayName": "Lan Zeng",
      "photoUrl": "",
      "userId": "17725825206879958125"
     },
     "user_tz": -60
    },
    "id": "cBZXs16UBN5R",
    "outputId": "450d6e00-a8a4-4c72-df9d-4f6bc3712793"
   },
   "outputs": [
    {
     "name": "stderr",
     "output_type": "stream",
     "text": [
      "/usr/local/lib/python3.7/dist-packages/tensorflow/python/data/ops/dataset_ops.py:3504: UserWarning: Even though the tf.config.experimental_run_functions_eagerly option is set, this option does not apply to tf.data functions. tf.data functions are still traced and executed as graphs.\n",
      "  \"Even though the tf.config.experimental_run_functions_eagerly \"\n"
     ]
    },
    {
     "name": "stdout",
     "output_type": "stream",
     "text": [
      "Training Accuracy: 0.9903\n",
      "Testing Accuracy:  0.7909\n"
     ]
    },
    {
     "data": {
      "text/plain": [
       "(<Figure size 720x360 with 2 Axes>,\n",
       " array([<matplotlib.axes._subplots.AxesSubplot object at 0x7eff0e44ac90>,\n",
       "        <matplotlib.axes._subplots.AxesSubplot object at 0x7eff0e401910>],\n",
       "       dtype=object))"
      ]
     },
     "execution_count": 41,
     "metadata": {
      "tags": []
     },
     "output_type": "execute_result"
    },
    {
     "data": {
      "image/png": "[encoded data removed]",
      "text/plain": [
       "<Figure size 720x360 with 2 Axes>"
      ]
     },
     "metadata": {
      "needs_background": "light",
      "tags": []
     },
     "output_type": "display_data"
    }
   ],
   "source": [
    "loss, accuracy = model001.evaluate(X_train, dummy_y_train, verbose=False)\n",
    "print(\"Training Accuracy: {:.4f}\".format(accuracy))\n",
    "loss, accuracy = model001.evaluate(X_val, dummy_y_val, verbose=False)\n",
    "print(\"Testing Accuracy:  {:.4f}\".format(accuracy))\n",
    "\n",
    "plot_history(hist001)"
   ]
  },
  {
   "cell_type": "markdown",
   "metadata": {
    "id": "TJW4I42iBrtr"
   },
   "source": [
    "# CNN + LSTM"
   ]
  },
  {
   "cell_type": "code",
   "execution_count": 57,
   "metadata": {
    "colab": {
     "base_uri": "https://localhost:8080/"
    },
    "executionInfo": {
     "elapsed": 835,
     "status": "ok",
     "timestamp": 1620039319323,
     "user": {
      "displayName": "Lan Zeng",
      "photoUrl": "",
      "userId": "17725825206879958125"
     },
     "user_tz": -60
    },
    "id": "cnmKv_7H8nFH",
    "outputId": "137d9c1e-9aa1-4c33-ecf4-67a360fa2cae"
   },
   "outputs": [
    {
     "name": "stdout",
     "output_type": "stream",
     "text": [
      "Model: \"sequential_7\"\n",
      "_________________________________________________________________\n",
      "Layer (type)                 Output Shape              Param #   \n",
      "=================================================================\n",
      "embedding_7 (Embedding)      (None, 500, 100)          500000    \n",
      "_________________________________________________________________\n",
      "conv1d_7 (Conv1D)            (None, 497, 32)           12832     \n",
      "_________________________________________________________________\n",
      "max_pooling1d_4 (MaxPooling1 (None, 248, 32)           0         \n",
      "_________________________________________________________________\n",
      "lstm_4 (LSTM)                (None, 100)               53200     \n",
      "_________________________________________________________________\n",
      "dense_14 (Dense)             (None, 100)               10100     \n",
      "_________________________________________________________________\n",
      "dropout_7 (Dropout)          (None, 100)               0         \n",
      "_________________________________________________________________\n",
      "dense_15 (Dense)             (None, 10)                1010      \n",
      "=================================================================\n",
      "Total params: 577,142\n",
      "Trainable params: 577,142\n",
      "Non-trainable params: 0\n",
      "_________________________________________________________________\n"
     ]
    }
   ],
   "source": [
    "from keras.models import Sequential\n",
    "from tensorflow.keras.layers import Dense, Dropout, Activation, Flatten, Embedding, Conv1D, MaxPooling1D, LSTM\n",
    "\n",
    "embedding_dim = 100\n",
    "vocab_size = 5000\n",
    "num_filters = 32\n",
    "kernel_size = 4\n",
    "\n",
    "\n",
    "model02 = Sequential()\n",
    "model02.add(Embedding(input_dim=vocab_size,          # input_dim is the size of the vocabulary\n",
    "                           output_dim=embedding_dim,      # output_dim is the size of the dense vector\n",
    "                           input_length=X_train.shape[1]))          # input_length is the length of the sequence\n",
    "model02.add(Conv1D(num_filters,               # add a Convolution1D, which will learn filters\n",
    "                 kernel_size,       # convolutional windows length, which mean will operate over 3 words every time\n",
    "                 padding='valid',\n",
    "                 activation='relu',\n",
    "                 strides=1))\n",
    "model02.add(MaxPooling1D(pool_size=2))    # use max pooling to reduce the size of the feature maps\n",
    "model02.add(LSTM(embedding_dim))\n",
    "model02.add(Dense(100, activation='relu'))\n",
    "model02.add(Dropout(0.2))\n",
    "model02.add(Dense(10, activation='softmax'))\n",
    "model02.compile(optimizer='adam',\n",
    "              loss='categorical_crossentropy',\n",
    "              metrics=['accuracy'])\n",
    "model02.summary()"
   ]
  },
  {
   "cell_type": "code",
   "execution_count": 58,
   "metadata": {
    "colab": {
     "base_uri": "https://localhost:8080/"
    },
    "executionInfo": {
     "elapsed": 103731,
     "status": "ok",
     "timestamp": 1620039431827,
     "user": {
      "displayName": "Lan Zeng",
      "photoUrl": "",
      "userId": "17725825206879958125"
     },
     "user_tz": -60
    },
    "id": "-94DAEGJ8nS2",
    "outputId": "62b24f1b-181e-4afe-e604-e1c6cbbdc490"
   },
   "outputs": [
    {
     "name": "stdout",
     "output_type": "stream",
     "text": [
      "Epoch 1/20\n",
      "\r",
      " 1/66 [..............................] - ETA: 10s - loss: 2.3021 - accuracy: 0.1406"
     ]
    },
    {
     "name": "stderr",
     "output_type": "stream",
     "text": [
      "/usr/local/lib/python3.7/dist-packages/tensorflow/python/data/ops/dataset_ops.py:3504: UserWarning: Even though the tf.config.experimental_run_functions_eagerly option is set, this option does not apply to tf.data functions. tf.data functions are still traced and executed as graphs.\n",
      "  \"Even though the tf.config.experimental_run_functions_eagerly \"\n"
     ]
    },
    {
     "name": "stdout",
     "output_type": "stream",
     "text": [
      "66/66 [==============================] - 5s 80ms/step - loss: 2.2821 - accuracy: 0.1691 - val_loss: 2.2824 - val_accuracy: 0.1638\n",
      "Epoch 2/20\n",
      "66/66 [==============================] - 5s 78ms/step - loss: 2.2660 - accuracy: 0.1719 - val_loss: 2.2813 - val_accuracy: 0.1638\n",
      "Epoch 3/20\n",
      "66/66 [==============================] - 5s 78ms/step - loss: 2.2639 - accuracy: 0.1762 - val_loss: 2.2775 - val_accuracy: 0.1638\n",
      "Epoch 4/20\n",
      "66/66 [==============================] - 5s 77ms/step - loss: 2.2745 - accuracy: 0.1693 - val_loss: 2.3575 - val_accuracy: 0.1153\n",
      "Epoch 5/20\n",
      "66/66 [==============================] - 5s 79ms/step - loss: 2.2984 - accuracy: 0.1641 - val_loss: 2.2768 - val_accuracy: 0.1659\n",
      "Epoch 6/20\n",
      "66/66 [==============================] - 5s 78ms/step - loss: 2.2608 - accuracy: 0.1751 - val_loss: 2.2734 - val_accuracy: 0.1659\n",
      "Epoch 7/20\n",
      "66/66 [==============================] - 5s 78ms/step - loss: 2.2630 - accuracy: 0.1750 - val_loss: 2.2746 - val_accuracy: 0.1659\n",
      "Epoch 8/20\n",
      "66/66 [==============================] - 5s 78ms/step - loss: 2.2698 - accuracy: 0.1702 - val_loss: 2.2784 - val_accuracy: 0.1659\n",
      "Epoch 9/20\n",
      "66/66 [==============================] - 5s 79ms/step - loss: 2.2619 - accuracy: 0.1768 - val_loss: 2.2747 - val_accuracy: 0.1670\n",
      "Epoch 10/20\n",
      "66/66 [==============================] - 5s 79ms/step - loss: 2.2614 - accuracy: 0.1766 - val_loss: 2.2752 - val_accuracy: 0.1670\n",
      "Epoch 11/20\n",
      "66/66 [==============================] - 5s 78ms/step - loss: 2.2147 - accuracy: 0.2142 - val_loss: 2.0445 - val_accuracy: 0.2640\n",
      "Epoch 12/20\n",
      "66/66 [==============================] - 5s 77ms/step - loss: 1.9942 - accuracy: 0.2901 - val_loss: 1.9727 - val_accuracy: 0.2683\n",
      "Epoch 13/20\n",
      "66/66 [==============================] - 5s 77ms/step - loss: 1.9352 - accuracy: 0.2954 - val_loss: 1.9130 - val_accuracy: 0.2812\n",
      "Epoch 14/20\n",
      "66/66 [==============================] - 5s 78ms/step - loss: 1.8700 - accuracy: 0.3148 - val_loss: 1.8738 - val_accuracy: 0.2866\n",
      "Epoch 15/20\n",
      "66/66 [==============================] - 5s 78ms/step - loss: 1.7922 - accuracy: 0.3299 - val_loss: 1.8540 - val_accuracy: 0.2996\n",
      "Epoch 16/20\n",
      "66/66 [==============================] - 5s 78ms/step - loss: 1.7720 - accuracy: 0.3300 - val_loss: 1.7870 - val_accuracy: 0.3502\n",
      "Epoch 17/20\n",
      "66/66 [==============================] - 5s 78ms/step - loss: 1.6748 - accuracy: 0.3750 - val_loss: 1.7982 - val_accuracy: 0.3244\n",
      "Epoch 18/20\n",
      "66/66 [==============================] - 5s 78ms/step - loss: 1.5998 - accuracy: 0.4099 - val_loss: 1.7596 - val_accuracy: 0.3588\n",
      "Epoch 19/20\n",
      "66/66 [==============================] - 5s 78ms/step - loss: 1.5135 - accuracy: 0.4453 - val_loss: 1.7925 - val_accuracy: 0.3545\n",
      "Epoch 20/20\n",
      "66/66 [==============================] - 5s 78ms/step - loss: 1.4987 - accuracy: 0.4521 - val_loss: 1.7051 - val_accuracy: 0.3966\n"
     ]
    }
   ],
   "source": [
    "import tensorflow as tf\n",
    "tf.config.run_functions_eagerly(True)\n",
    "\n",
    "hist02 = model02.fit(X_train, dummy_y_train,\n",
    "          batch_size=128,\n",
    "          epochs=20,\n",
    "          validation_data=(X_val, dummy_y_val))"
   ]
  },
  {
   "cell_type": "markdown",
   "metadata": {
    "id": "MBxTFR9FHdV0"
   },
   "source": [
    "Check the prediction results in validation dataset"
   ]
  },
  {
   "cell_type": "code",
   "execution_count": 59,
   "metadata": {
    "colab": {
     "base_uri": "https://localhost:8080/"
    },
    "executionInfo": {
     "elapsed": 810,
     "status": "ok",
     "timestamp": 1620039455306,
     "user": {
      "displayName": "Lan Zeng",
      "photoUrl": "",
      "userId": "17725825206879958125"
     },
     "user_tz": -60
    },
    "id": "ddI30xosDzaD",
    "outputId": "466ef262-5c79-4def-b3ce-c2c3b376c770"
   },
   "outputs": [
    {
     "name": "stderr",
     "output_type": "stream",
     "text": [
      "/usr/local/lib/python3.7/dist-packages/tensorflow/python/data/ops/dataset_ops.py:3504: UserWarning: Even though the tf.config.experimental_run_functions_eagerly option is set, this option does not apply to tf.data functions. tf.data functions are still traced and executed as graphs.\n",
      "  \"Even though the tf.config.experimental_run_functions_eagerly \"\n"
     ]
    },
    {
     "name": "stdout",
     "output_type": "stream",
     "text": [
      "[[6.3260069e-07 7.2780029e-05 3.1229371e-02 ... 8.4423817e-05\n",
      "  1.7453009e-02 7.3215517e-04]\n",
      " [1.0233815e-06 1.0951915e-04 4.2300295e-02 ... 1.2160645e-04\n",
      "  2.3001952e-02 1.0966165e-03]\n",
      " [1.3094807e-04 9.9427532e-03 3.6832041e-01 ... 4.6416288e-03\n",
      "  4.1855997e-01 1.7658952e-01]\n",
      " ...\n",
      " [7.9666153e-03 2.5852817e-01 1.9169794e-02 ... 5.8172617e-02\n",
      "  1.1579095e-01 1.8545818e-01]\n",
      " [1.6161790e-02 1.9801407e-01 1.6512984e-02 ... 9.8920137e-02\n",
      "  5.9408266e-02 8.2194664e-02]\n",
      " [2.1086292e-01 3.8139548e-02 6.8996539e-03 ... 3.6100039e-01\n",
      "  2.1060370e-02 3.4496512e-02]]\n",
      "['chris brown', 'chris brown', 'glee', 'elvis presley', 'bee gees', 'elvis presley', 'elvis presley', 'elvis costello', 'elvis presley', 'elvis costello', 'elvis presley', 'the rolling stones', 'chris brown', 'elvis presley', 'the rolling stones', 'chris brown', 'elvis presley', 'elvis presley', 'chris brown', 'elvis presley', 'elvis presley', 'glee', 'glee', 'elvis presley', 'glee', 'glee', 'elvis presley', 'elvis presley', 'chris brown', 'chris brown', 'glee', 'elvis presley', 'chris brown', 'chris brown', 'elvis presley', 'elvis presley', 'elvis presley', 'elvis presley', 'elvis presley', 'elvis costello', 'elvis presley', 'glee', 'beyonce', 'elvis presley', 'elvis presley', 'chris brown', 'elvis presley', 'elvis presley', 'elvis presley', 'elvis presley', 'elvis presley', 'elvis costello', 'elvis presley', 'elvis costello', 'elvis presley', 'elvis presley', 'elvis presley', 'elvis presley', 'the rolling stones', 'elvis costello', 'beyonce', 'elvis presley', 'elvis presley', 'elvis presley', 'elvis presley', 'elvis presley', 'elvis presley', 'elvis costello', 'elvis presley', 'elvis presley', 'elvis presley', 'elvis presley', 'elvis presley', 'chris brown', 'chris brown', 'beyonce', 'elvis presley', 'chris brown', 'elvis presley', 'elvis presley', 'glee', 'elvis costello', 'elvis presley', 'elvis presley', 'glee', 'elvis presley', 'elvis presley', 'bee gees', 'elvis presley', 'beyonce', 'elvis presley', 'chris brown', 'elvis costello', 'chris brown', 'elvis presley', 'elvis costello', 'elvis costello', 'elvis presley', 'elvis costello', 'bee gees', 'elvis presley', 'the rolling stones', 'elvis presley', 'elvis presley', 'elvis presley', 'glee', 'elvis presley', 'elvis presley', 'elvis presley', 'elvis costello', 'elvis costello', 'elvis presley', 'elvis presley', 'elvis presley', 'elvis costello', 'elvis presley', 'elvis costello', 'elvis presley', 'elvis presley', 'elvis presley', 'elvis costello', 'elvis costello', 'elvis presley', 'elvis presley', 'elvis presley', 'the rolling stones', 'elvis costello', 'elvis presley', 'elvis costello', 'elvis costello', 'elvis costello', 'elvis costello', 'elvis presley', 'elvis presley', 'chris brown', 'elvis presley', 'elvis costello', 'elvis presley', 'elvis presley', 'elvis presley', 'elvis costello', 'elvis costello', 'elvis presley', 'elvis costello', 'elvis presley', 'elvis presley', 'chris brown', 'elvis presley', 'elvis presley', 'chris brown', 'elvis presley', 'elvis presley', 'elvis presley', 'elvis presley', 'elvis presley', 'elvis presley', 'elvis presley', 'glee', 'chris brown', 'the rolling stones', 'bee gees', 'beyonce', 'elvis presley', 'elvis costello', 'elvis presley', 'elvis costello', 'elvis costello', 'elvis costello', 'elvis presley', 'elvis costello', 'chris brown', 'bee gees', 'glee', 'beyonce', 'chris brown', 'elvis presley', 'elvis presley', 'elvis presley', 'chris brown', 'elvis costello', 'elvis presley', 'glee', 'elvis presley', 'elvis presley', 'chris brown', 'elvis presley', 'chris brown', 'bee gees', 'elvis presley', 'elvis costello', 'elvis costello', 'the rolling stones', 'elvis presley', 'the rolling stones', 'elvis presley', 'chris brown', 'elvis presley', 'elvis presley', 'beyonce', 'chris brown', 'elvis presley', 'elvis presley', 'elvis presley', 'elvis costello', 'elvis costello', 'elvis presley', 'elvis presley', 'elvis presley', 'beyonce', 'elvis costello', 'elvis presley', 'elvis costello', 'elvis presley', 'chris brown', 'glee', 'elvis presley', 'beyonce', 'beyonce', 'elvis presley', 'chris brown', 'elvis costello', 'elvis presley', 'chris brown', 'elvis costello', 'elvis presley', 'elvis costello', 'elvis presley', 'elvis presley', 'elvis costello', 'elvis presley', 'elvis presley', 'elvis costello', 'the rolling stones', 'elvis costello', 'glee', 'the rolling stones', 'elvis costello', 'chris brown', 'elvis presley', 'elvis presley', 'the rolling stones', 'elvis presley', 'the rolling stones', 'elvis costello', 'elvis presley', 'chris brown', 'elvis costello', 'elvis presley', 'elvis costello', 'the rolling stones', 'glee', 'chris brown', 'elvis costello', 'elvis costello', 'elvis costello', 'elvis presley', 'beyonce', 'elvis presley', 'glee', 'elvis costello', 'elvis presley', 'elvis costello', 'elvis presley', 'chris brown', 'elvis costello', 'elvis costello', 'elvis presley', 'elvis costello', 'elvis presley', 'elvis costello', 'the rolling stones', 'elvis presley', 'beyonce', 'elvis presley', 'elvis presley', 'elvis presley', 'elvis presley', 'elvis costello', 'elvis presley', 'elvis presley', 'elvis presley', 'chris brown', 'the rolling stones', 'the rolling stones', 'chris brown', 'chris brown', 'the rolling stones', 'elvis presley', 'elvis costello', 'elvis costello', 'the rolling stones', 'elvis presley', 'glee', 'the rolling stones', 'elvis presley', 'elvis presley', 'elvis costello', 'beyonce', 'elvis costello', 'elvis presley', 'elvis presley', 'beyonce', 'elvis presley', 'elvis costello', 'elvis presley', 'elvis costello', 'elvis presley', 'chris brown', 'elvis presley', 'elvis costello', 'elvis costello', 'elvis costello', 'elvis costello', 'elvis presley', 'the rolling stones', 'elvis costello', 'elvis costello', 'elvis costello', 'beyonce', 'elvis presley', 'elvis costello', 'chris brown', 'elvis costello', 'elvis costello', 'elvis presley', 'bee gees', 'elvis presley', 'elvis presley', 'elvis presley', 'elvis presley', 'elvis costello', 'elvis presley', 'elvis presley', 'elvis costello', 'elvis presley', 'elvis costello', 'chris brown', 'glee', 'elvis presley', 'beyonce', 'beyonce', 'elvis presley', 'the rolling stones', 'elvis costello', 'beyonce', 'chris brown', 'chris brown', 'chris brown', 'elvis presley', 'elvis costello', 'elvis presley', 'elvis costello', 'beyonce', 'elvis presley', 'elvis presley', 'chris brown', 'elvis costello', 'elvis costello', 'bee gees', 'elvis presley', 'elvis presley', 'elvis presley', 'the rolling stones', 'glee', 'chris brown', 'elvis presley', 'beyonce', 'elvis presley', 'elvis presley', 'beyonce', 'elvis presley', 'the rolling stones', 'glee', 'elvis costello', 'elvis presley', 'chris brown', 'elvis costello', 'elvis costello', 'glee', 'elvis presley', 'elvis presley', 'elvis costello', 'chris brown', 'the rolling stones', 'beyonce', 'elvis presley', 'elvis costello', 'the rolling stones', 'elvis presley', 'elvis costello', 'elvis costello', 'elvis costello', 'elvis presley', 'elvis presley', 'elvis presley', 'elvis costello', 'elvis presley', 'chris brown', 'elvis presley', 'bee gees', 'elvis presley', 'elvis presley', 'chris brown', 'beyonce', 'elvis presley', 'elvis presley', 'chris brown', 'elvis costello', 'beyonce', 'beyonce', 'bee gees', 'elvis costello', 'the rolling stones', 'beyonce', 'elvis presley', 'elvis costello', 'glee', 'elvis presley', 'elvis presley', 'elvis costello', 'glee', 'elvis costello', 'elvis presley', 'elvis presley', 'elvis costello', 'elvis presley', 'elvis presley', 'elvis costello', 'elvis presley', 'elvis costello', 'elvis costello', 'elvis costello', 'elvis presley', 'elvis presley', 'chris brown', 'beyonce', 'elvis costello', 'beyonce', 'chris brown', 'elvis presley', 'the rolling stones', 'elvis costello', 'elvis presley', 'chris brown', 'elvis costello', 'elvis presley', 'elvis costello', 'elvis presley', 'elvis presley', 'the rolling stones', 'elvis presley', 'bee gees', 'elvis costello', 'elvis presley', 'elvis presley', 'chris brown', 'elvis costello', 'chris brown', 'elvis costello', 'elvis presley', 'bee gees', 'elvis costello', 'elvis presley', 'chris brown', 'elvis presley', 'elvis presley', 'glee', 'elvis presley', 'chris brown', 'elvis presley', 'chris brown', 'the rolling stones', 'chris brown', 'chris brown', 'elvis presley', 'elvis presley', 'elvis presley', 'beyonce', 'elvis costello', 'elvis costello', 'glee', 'elvis costello', 'chris brown', 'the rolling stones', 'elvis presley', 'beyonce', 'the rolling stones', 'elvis presley', 'glee', 'elvis presley', 'elvis presley', 'elvis costello', 'elvis costello', 'elvis presley', 'elvis presley', 'elvis presley', 'elvis presley', 'chris brown', 'elvis costello', 'glee', 'beyonce', 'elvis presley', 'glee', 'chris brown', 'beyonce', 'elvis presley', 'elvis presley', 'elvis presley', 'elvis presley', 'beyonce', 'elvis presley', 'chris brown', 'elvis costello', 'beyonce', 'beyonce', 'elvis presley', 'elvis presley', 'chris brown', 'elvis costello', 'elvis presley', 'elvis costello', 'elvis presley', 'elvis costello', 'elvis costello', 'elvis costello', 'beyonce', 'elvis presley', 'elvis presley', 'elvis costello', 'glee', 'elvis costello', 'elvis costello', 'chris brown', 'elvis presley', 'elvis presley', 'elvis costello', 'elvis presley', 'elvis presley', 'elvis presley', 'elvis presley', 'chris brown', 'elvis presley', 'chris brown', 'elvis costello', 'elvis presley', 'elvis presley', 'the rolling stones', 'elvis presley', 'elvis presley', 'elvis presley', 'elvis presley', 'elvis presley', 'elvis presley', 'elvis presley', 'chris brown', 'glee', 'elvis presley', 'elvis presley', 'chris brown', 'elvis presley', 'elvis presley', 'chris brown', 'elvis costello', 'elvis presley', 'elvis costello', 'elvis costello', 'elvis presley', 'elvis costello', 'elvis presley', 'elvis costello', 'elvis presley', 'chris brown', 'chris brown', 'elvis costello', 'elvis presley', 'elvis presley', 'elvis presley', 'elvis presley', 'elvis presley', 'elvis presley', 'glee', 'elvis costello', 'elvis costello', 'elvis presley', 'elvis presley', 'elvis presley', 'elvis presley', 'elvis costello', 'elvis presley', 'elvis presley', 'chris brown', 'chris brown', 'elvis presley', 'elvis costello', 'beyonce', 'elvis presley', 'elvis presley', 'beyonce', 'glee', 'the rolling stones', 'elvis presley', 'elvis costello', 'elvis costello', 'chris brown', 'elvis costello', 'elvis presley', 'chris brown', 'elvis presley', 'elvis costello', 'elvis presley', 'elvis presley', 'the rolling stones', 'glee', 'elvis costello', 'chris brown', 'elvis costello', 'beyonce', 'the rolling stones', 'elvis presley', 'elvis presley', 'bee gees', 'beyonce', 'beyonce', 'elvis presley', 'the rolling stones', 'the rolling stones', 'elvis costello', 'chris brown', 'elvis costello', 'chris brown', 'elvis presley', 'glee', 'elvis presley', 'elvis presley', 'elvis presley', 'elvis presley', 'elvis costello', 'elvis costello', 'elvis presley', 'the rolling stones', 'elvis presley', 'chris brown', 'elvis presley', 'the rolling stones', 'elvis presley', 'elvis costello', 'beyonce', 'elvis presley', 'elvis costello', 'beyonce', 'elvis presley', 'elvis costello', 'elvis presley', 'elvis costello', 'chris brown', 'chris brown', 'glee', 'beyonce', 'elvis presley', 'glee', 'elvis presley', 'elvis presley', 'beyonce', 'elvis presley', 'elvis presley', 'elvis costello', 'glee', 'glee', 'elvis presley', 'beyonce', 'elvis presley', 'elvis presley', 'elvis presley', 'chris brown', 'elvis costello', 'elvis presley', 'elvis presley', 'elvis presley', 'elvis costello', 'chris brown', 'beyonce', 'elvis presley', 'chris brown', 'elvis presley', 'elvis presley', 'elvis costello', 'elvis presley', 'elvis costello', 'elvis costello', 'elvis presley', 'elvis costello', 'beyonce', 'beyonce', 'chris brown', 'elvis costello', 'glee', 'elvis presley', 'elvis presley', 'chris brown', 'elvis presley', 'beyonce', 'elvis presley', 'beyonce', 'chris brown', 'chris brown', 'elvis presley', 'elvis presley', 'the rolling stones', 'elvis presley', 'elvis costello', 'elvis presley', 'elvis costello', 'elvis presley', 'elvis presley', 'elvis presley', 'elvis presley', 'elvis costello', 'elvis presley', 'chris brown', 'the rolling stones', 'elvis presley', 'elvis costello', 'beyonce', 'elvis presley', 'elvis presley', 'elvis costello', 'chris brown', 'elvis presley', 'chris brown', 'chris brown', 'elvis presley', 'elvis costello', 'elvis presley', 'elvis presley', 'elvis presley', 'elvis presley', 'elvis presley', 'elvis costello', 'elvis presley', 'elvis presley', 'bee gees', 'bee gees', 'elvis presley', 'elvis costello', 'chris brown', 'elvis presley', 'elvis costello', 'chris brown', 'glee', 'elvis costello', 'beyonce', 'chris brown', 'the rolling stones', 'the rolling stones', 'elvis presley', 'elvis presley', 'elvis costello', 'elvis presley', 'elvis presley', 'elvis presley', 'elvis presley', 'elvis presley', 'glee', 'chris brown', 'elvis presley', 'elvis costello', 'elvis costello', 'chris brown', 'elvis presley', 'elvis presley', 'the rolling stones', 'elvis presley', 'the rolling stones', 'elvis costello', 'elvis costello', 'chris brown', 'elvis costello', 'elvis costello', 'elvis presley', 'elvis presley', 'elvis costello', 'elvis presley', 'elvis presley', 'the rolling stones', 'beyonce', 'chris brown', 'the rolling stones', 'chris brown', 'elvis presley', 'elvis presley', 'elvis costello', 'elvis presley', 'elvis costello', 'elvis costello', 'bee gees', 'bee gees', 'elvis presley', 'elvis presley', 'glee', 'bee gees', 'the rolling stones', 'glee', 'elvis presley', 'elvis presley', 'the rolling stones', 'glee', 'elvis presley', 'glee', 'glee', 'elvis presley', 'glee', 'elvis presley', 'glee', 'elvis presley', 'glee', 'elvis costello', 'elvis costello', 'elvis costello', 'elvis presley', 'elvis costello', 'elvis presley', 'elvis presley', 'elvis presley', 'elvis presley', 'elvis presley', 'chris brown', 'elvis presley', 'elvis costello', 'the rolling stones', 'elvis presley', 'elvis presley', 'elvis presley', 'chris brown', 'elvis presley', 'elvis presley', 'the rolling stones', 'the rolling stones', 'elvis presley', 'beyonce', 'elvis presley', 'elvis costello', 'elvis presley', 'elvis presley', 'elvis presley', 'chris brown', 'elvis costello', 'elvis presley', 'elvis presley', 'beyonce', 'elvis costello', 'beyonce', 'elvis presley', 'elvis presley', 'elvis costello', 'elvis presley', 'chris brown', 'elvis costello', 'chris brown', 'elvis presley', 'the rolling stones', 'bee gees', 'bee gees', 'elvis costello', 'elvis presley', 'bee gees', 'bee gees', 'elvis presley', 'elvis presley', 'elvis presley', 'elvis presley', 'elvis costello', 'elvis costello', 'chris brown', 'chris brown', 'elvis costello', 'elvis costello', 'elvis presley', 'beyonce', 'the rolling stones', 'elvis presley', 'beyonce', 'glee', 'elvis costello', 'elvis costello', 'elvis presley', 'beyonce', 'beyonce', 'the rolling stones', 'elvis costello', 'glee', 'elvis costello', 'elvis costello', 'chris brown', 'elvis costello', 'elvis presley', 'elvis costello', 'the rolling stones', 'elvis presley', 'elvis presley', 'elvis costello', 'glee', 'elvis presley', 'beyonce', 'chris brown', 'elvis presley', 'the rolling stones', 'glee', 'the rolling stones', 'elvis presley', 'elvis presley', 'elvis costello', 'elvis presley', 'bee gees', 'elvis costello', 'elvis presley', 'elvis presley', 'elvis presley', 'beyonce', 'elvis presley', 'elvis costello', 'elvis costello', 'elvis presley', 'chris brown', 'elvis presley', 'elvis presley', 'bee gees', 'elvis costello', 'elvis presley']\n"
     ]
    }
   ],
   "source": [
    "prediction = model02.predict(X_val)\n",
    "\n",
    "labels = ['bad religion', 'bee gees', 'beyonce', 'chris brown', 'ella fitzgerald', 'elton john', 'elvis costello', 'elvis presley', 'glee', 'the rolling stones']\n",
    "print(prediction)\n",
    "pred_str = []\n",
    "for i in range(928):\n",
    "  pred_str.append(labels[np.argmax(prediction[i])])\n",
    "print(pred_str)"
   ]
  },
  {
   "cell_type": "code",
   "execution_count": 60,
   "metadata": {
    "colab": {
     "base_uri": "https://localhost:8080/"
    },
    "executionInfo": {
     "elapsed": 308,
     "status": "ok",
     "timestamp": 1620039457452,
     "user": {
      "displayName": "Lan Zeng",
      "photoUrl": "",
      "userId": "17725825206879958125"
     },
     "user_tz": -60
    },
    "id": "FdOTsXDYDzaE",
    "outputId": "4b01a637-75db-46f2-80f3-81a189cdc11f"
   },
   "outputs": [
    {
     "name": "stdout",
     "output_type": "stream",
     "text": [
      "[['bee gees' '24']\n",
      " ['beyonce' '63']\n",
      " ['chris brown' '111']\n",
      " ['elvis costello' '208']\n",
      " ['elvis presley' '410']\n",
      " ['glee' '54']\n",
      " ['the rolling stones' '58']]\n"
     ]
    }
   ],
   "source": [
    "(unique, counts) = np.unique(pred_str, return_counts=True)\n",
    "frequencies = np.asarray((unique, counts)).T\n",
    "\n",
    "print(frequencies)"
   ]
  },
  {
   "cell_type": "markdown",
   "metadata": {
    "id": "s_d07rBmDzaF"
   },
   "source": [
    "Visualise the training process"
   ]
  },
  {
   "cell_type": "code",
   "execution_count": 61,
   "metadata": {
    "colab": {
     "base_uri": "https://localhost:8080/",
     "height": 541
    },
    "executionInfo": {
     "elapsed": 6686,
     "status": "ok",
     "timestamp": 1620039474217,
     "user": {
      "displayName": "Lan Zeng",
      "photoUrl": "",
      "userId": "17725825206879958125"
     },
     "user_tz": -60
    },
    "id": "FlLmoZaGDzaF",
    "outputId": "4c53478b-4554-4fc4-a191-4a05e7f67524"
   },
   "outputs": [
    {
     "name": "stderr",
     "output_type": "stream",
     "text": [
      "/usr/local/lib/python3.7/dist-packages/tensorflow/python/data/ops/dataset_ops.py:3504: UserWarning: Even though the tf.config.experimental_run_functions_eagerly option is set, this option does not apply to tf.data functions. tf.data functions are still traced and executed as graphs.\n",
      "  \"Even though the tf.config.experimental_run_functions_eagerly \"\n"
     ]
    },
    {
     "name": "stdout",
     "output_type": "stream",
     "text": [
      "Training Accuracy: 0.4886\n",
      "Testing Accuracy:  0.3966\n"
     ]
    },
    {
     "data": {
      "text/plain": [
       "(<Figure size 720x360 with 2 Axes>,\n",
       " array([<matplotlib.axes._subplots.AxesSubplot object at 0x7efef4032950>,\n",
       "        <matplotlib.axes._subplots.AxesSubplot object at 0x7efea2615e10>],\n",
       "       dtype=object))"
      ]
     },
     "execution_count": 61,
     "metadata": {
      "tags": []
     },
     "output_type": "execute_result"
    },
    {
     "data": {
      "image/png": "[encoded data removed]",
      "text/plain": [
       "<Figure size 720x360 with 2 Axes>"
      ]
     },
     "metadata": {
      "needs_background": "light",
      "tags": []
     },
     "output_type": "display_data"
    }
   ],
   "source": [
    "loss, accuracy = model02.evaluate(X_train, dummy_y_train, verbose=False)\n",
    "print(\"Training Accuracy: {:.4f}\".format(accuracy))\n",
    "loss, accuracy = model02.evaluate(X_val, dummy_y_val, verbose=False)\n",
    "print(\"Testing Accuracy:  {:.4f}\".format(accuracy))\n",
    "\n",
    "plot_history(hist02)"
   ]
  },
  {
   "cell_type": "markdown",
   "metadata": {
    "id": "ZQ2ccdWxEJnn"
   },
   "source": [
    "### Change parameters\n"
   ]
  },
  {
   "cell_type": "code",
   "execution_count": 67,
   "metadata": {
    "colab": {
     "base_uri": "https://localhost:8080/"
    },
    "executionInfo": {
     "elapsed": 783,
     "status": "ok",
     "timestamp": 1620039951678,
     "user": {
      "displayName": "Lan Zeng",
      "photoUrl": "",
      "userId": "17725825206879958125"
     },
     "user_tz": -60
    },
    "id": "1cR4gHpLEfDR",
    "outputId": "6228afeb-88a9-4b2a-95ee-3b77609e1a9a"
   },
   "outputs": [
    {
     "name": "stdout",
     "output_type": "stream",
     "text": [
      "Model: \"sequential_11\"\n",
      "_________________________________________________________________\n",
      "Layer (type)                 Output Shape              Param #   \n",
      "=================================================================\n",
      "embedding_11 (Embedding)     (None, 500, 100)          500000    \n",
      "_________________________________________________________________\n",
      "conv1d_11 (Conv1D)           (None, 497, 32)           12832     \n",
      "_________________________________________________________________\n",
      "max_pooling1d_8 (MaxPooling1 (None, 248, 32)           0         \n",
      "_________________________________________________________________\n",
      "lstm_8 (LSTM)                (None, 100)               53200     \n",
      "_________________________________________________________________\n",
      "dense_22 (Dense)             (None, 100)               10100     \n",
      "_________________________________________________________________\n",
      "dropout_14 (Dropout)         (None, 100)               0         \n",
      "_________________________________________________________________\n",
      "dense_23 (Dense)             (None, 10)                1010      \n",
      "=================================================================\n",
      "Total params: 577,142\n",
      "Trainable params: 577,142\n",
      "Non-trainable params: 0\n",
      "_________________________________________________________________\n"
     ]
    }
   ],
   "source": [
    "from keras.models import Sequential\n",
    "from tensorflow.keras.layers import Dense, Dropout, Activation, Flatten, Embedding, Conv1D, MaxPooling1D, LSTM\n",
    "\n",
    "embedding_dim = 100\n",
    "vocab_size = 5000\n",
    "num_filters = 32\n",
    "kernel_size = 4\n",
    "\n",
    "\n",
    "model002 = Sequential()\n",
    "model002.add(Embedding(input_dim=vocab_size,          # input_dim is the size of the vocabulary\n",
    "                           output_dim=embedding_dim,      # output_dim is the size of the dense vector\n",
    "                           input_length=X_train.shape[1]))          # input_length is the length of the sequence\n",
    "model002.add(Conv1D(num_filters,               # add a Convolution1D, which will learn filters\n",
    "                 kernel_size,       # convolutional windows length, which mean will operate over 3 words every time\n",
    "                 padding='valid',\n",
    "                 activation='relu',\n",
    "                 strides=1))\n",
    "model002.add(MaxPooling1D(pool_size=2))    # use max pooling to reduce the size of the feature maps\n",
    "model002.add(LSTM(100))\n",
    "model002.add(Dense(100, activation='relu'))\n",
    "model002.add(Dropout(0.2))\n",
    "model002.add(Dense(10, activation='softmax'))\n",
    "opt = keras.optimizers.Adam(lr=0.01)\n",
    "model002.compile(optimizer=opt,\n",
    "              loss='categorical_crossentropy',\n",
    "              metrics=['accuracy'])\n",
    "model002.summary()"
   ]
  },
  {
   "cell_type": "code",
   "execution_count": 68,
   "metadata": {
    "colab": {
     "base_uri": "https://localhost:8080/"
    },
    "executionInfo": {
     "elapsed": 104150,
     "status": "ok",
     "timestamp": 1620040059040,
     "user": {
      "displayName": "Lan Zeng",
      "photoUrl": "",
      "userId": "17725825206879958125"
     },
     "user_tz": -60
    },
    "id": "-p9Jf8yLEfDS",
    "outputId": "e154092c-d8af-4eff-fe29-492ca81a1ab2"
   },
   "outputs": [
    {
     "name": "stdout",
     "output_type": "stream",
     "text": [
      "Epoch 1/20\n",
      "\r",
      " 1/66 [..............................] - ETA: 5s - loss: 2.3013 - accuracy: 0.1719"
     ]
    },
    {
     "name": "stderr",
     "output_type": "stream",
     "text": [
      "/usr/local/lib/python3.7/dist-packages/tensorflow/python/data/ops/dataset_ops.py:3504: UserWarning: Even though the tf.config.experimental_run_functions_eagerly option is set, this option does not apply to tf.data functions. tf.data functions are still traced and executed as graphs.\n",
      "  \"Even though the tf.config.experimental_run_functions_eagerly \"\n"
     ]
    },
    {
     "name": "stdout",
     "output_type": "stream",
     "text": [
      "66/66 [==============================] - 5s 81ms/step - loss: 2.2816 - accuracy: 0.1694 - val_loss: 2.2804 - val_accuracy: 0.1638\n",
      "Epoch 2/20\n",
      "66/66 [==============================] - 5s 78ms/step - loss: 2.2805 - accuracy: 0.1779 - val_loss: 2.2839 - val_accuracy: 0.1638\n",
      "Epoch 3/20\n",
      "66/66 [==============================] - 5s 77ms/step - loss: 2.2659 - accuracy: 0.1745 - val_loss: 2.2725 - val_accuracy: 0.1659\n",
      "Epoch 4/20\n",
      "66/66 [==============================] - 5s 78ms/step - loss: 2.2618 - accuracy: 0.1821 - val_loss: 2.2752 - val_accuracy: 0.1659\n",
      "Epoch 5/20\n",
      "66/66 [==============================] - 5s 77ms/step - loss: 2.2693 - accuracy: 0.1743 - val_loss: 2.2772 - val_accuracy: 0.1703\n",
      "Epoch 6/20\n",
      "66/66 [==============================] - 5s 79ms/step - loss: 2.2970 - accuracy: 0.1871 - val_loss: 2.1735 - val_accuracy: 0.2252\n",
      "Epoch 7/20\n",
      "66/66 [==============================] - 5s 79ms/step - loss: 2.1232 - accuracy: 0.2531 - val_loss: 2.1011 - val_accuracy: 0.2381\n",
      "Epoch 8/20\n",
      "66/66 [==============================] - 5s 80ms/step - loss: 2.0431 - accuracy: 0.2715 - val_loss: 2.0749 - val_accuracy: 0.2392\n",
      "Epoch 9/20\n",
      "66/66 [==============================] - 5s 80ms/step - loss: 2.0172 - accuracy: 0.2624 - val_loss: 2.0776 - val_accuracy: 0.2446\n",
      "Epoch 10/20\n",
      "66/66 [==============================] - 5s 79ms/step - loss: 2.0114 - accuracy: 0.2621 - val_loss: 2.0529 - val_accuracy: 0.2414\n",
      "Epoch 11/20\n",
      "66/66 [==============================] - 5s 78ms/step - loss: 1.9635 - accuracy: 0.2701 - val_loss: 2.0518 - val_accuracy: 0.2446\n",
      "Epoch 12/20\n",
      "66/66 [==============================] - 5s 79ms/step - loss: 1.9577 - accuracy: 0.2785 - val_loss: 2.0436 - val_accuracy: 0.2478\n",
      "Epoch 13/20\n",
      "66/66 [==============================] - 5s 80ms/step - loss: 1.9591 - accuracy: 0.2734 - val_loss: 2.0542 - val_accuracy: 0.2371\n",
      "Epoch 14/20\n",
      "66/66 [==============================] - 5s 79ms/step - loss: 1.9442 - accuracy: 0.2820 - val_loss: 2.0329 - val_accuracy: 0.2446\n",
      "Epoch 15/20\n",
      "66/66 [==============================] - 5s 78ms/step - loss: 1.9235 - accuracy: 0.2878 - val_loss: 2.0268 - val_accuracy: 0.2511\n",
      "Epoch 16/20\n",
      "66/66 [==============================] - 5s 78ms/step - loss: 1.9174 - accuracy: 0.2716 - val_loss: 2.0306 - val_accuracy: 0.2543\n",
      "Epoch 17/20\n",
      "66/66 [==============================] - 5s 78ms/step - loss: 1.9162 - accuracy: 0.2893 - val_loss: 2.0320 - val_accuracy: 0.2489\n",
      "Epoch 18/20\n",
      "66/66 [==============================] - 5s 79ms/step - loss: 1.9117 - accuracy: 0.2820 - val_loss: 2.0354 - val_accuracy: 0.2554\n",
      "Epoch 19/20\n",
      "66/66 [==============================] - 5s 78ms/step - loss: 1.9070 - accuracy: 0.2878 - val_loss: 2.0323 - val_accuracy: 0.2554\n",
      "Epoch 20/20\n",
      "66/66 [==============================] - 5s 79ms/step - loss: 1.8988 - accuracy: 0.2851 - val_loss: 2.0247 - val_accuracy: 0.2586\n"
     ]
    }
   ],
   "source": [
    "import tensorflow as tf\n",
    "tf.config.run_functions_eagerly(True)\n",
    "\n",
    "hist002 = model002.fit(X_train, dummy_y_train,\n",
    "          batch_size=128,\n",
    "          epochs=20,\n",
    "          validation_data=(X_val, dummy_y_val))"
   ]
  },
  {
   "cell_type": "markdown",
   "metadata": {
    "id": "-uQoxlSSEfDS"
   },
   "source": [
    "Check the prediction results in validation dataset"
   ]
  },
  {
   "cell_type": "code",
   "execution_count": 69,
   "metadata": {
    "colab": {
     "base_uri": "https://localhost:8080/"
    },
    "executionInfo": {
     "elapsed": 802,
     "status": "ok",
     "timestamp": 1620040097012,
     "user": {
      "displayName": "Lan Zeng",
      "photoUrl": "",
      "userId": "17725825206879958125"
     },
     "user_tz": -60
    },
    "id": "xhN8xBlMEfDS",
    "outputId": "c0def19c-edf1-4b56-e0d1-d4b21410661b"
   },
   "outputs": [
    {
     "name": "stderr",
     "output_type": "stream",
     "text": [
      "/usr/local/lib/python3.7/dist-packages/tensorflow/python/data/ops/dataset_ops.py:3504: UserWarning: Even though the tf.config.experimental_run_functions_eagerly option is set, this option does not apply to tf.data functions. tf.data functions are still traced and executed as graphs.\n",
      "  \"Even though the tf.config.experimental_run_functions_eagerly \"\n"
     ]
    },
    {
     "name": "stdout",
     "output_type": "stream",
     "text": [
      "[[7.27355294e-03 7.58514702e-02 1.51745558e-01 ... 9.63417962e-02\n",
      "  1.71377406e-01 1.83809087e-01]\n",
      " [3.79088124e-06 2.39373418e-03 3.04396719e-01 ... 2.91795074e-03\n",
      "  6.44030720e-02 2.59136315e-02]\n",
      " [2.58993879e-02 1.09291703e-01 8.37952644e-02 ... 1.50782466e-01\n",
      "  1.35012433e-01 1.73988879e-01]\n",
      " ...\n",
      " [5.60150901e-03 6.96800426e-02 1.64543360e-01 ... 8.83734226e-02\n",
      "  1.73676759e-01 1.78970784e-01]\n",
      " [5.24010770e-02 1.20119825e-01 4.74076048e-02 ... 1.82416886e-01\n",
      "  9.53545123e-02 1.35057867e-01]\n",
      " [3.60129297e-01 1.89733729e-02 2.59782048e-03 ... 2.60857791e-01\n",
      "  2.83714826e-03 2.11360282e-03]]\n",
      "['chris brown', 'chris brown', 'the rolling stones', 'elvis presley', 'elvis presley', 'elvis presley', 'elvis presley', 'chris brown', 'elvis presley', 'the rolling stones', 'elvis presley', 'chris brown', 'chris brown', 'elvis presley', 'the rolling stones', 'chris brown', 'elvis presley', 'elvis presley', 'elvis presley', 'chris brown', 'elvis presley', 'elvis presley', 'the rolling stones', 'bad religion', 'the rolling stones', 'elvis presley', 'elvis presley', 'elvis presley', 'chris brown', 'elvis presley', 'chris brown', 'elvis presley', 'chris brown', 'chris brown', 'bad religion', 'elvis presley', 'elvis presley', 'elvis presley', 'elvis presley', 'elvis presley', 'elvis presley', 'elvis presley', 'chris brown', 'elvis presley', 'elvis presley', 'elvis presley', 'the rolling stones', 'elvis presley', 'bad religion', 'elvis presley', 'elvis presley', 'the rolling stones', 'elvis presley', 'elvis presley', 'elvis presley', 'elvis presley', 'elvis presley', 'elvis presley', 'elvis presley', 'elvis presley', 'the rolling stones', 'elvis presley', 'elvis presley', 'bad religion', 'bad religion', 'elvis presley', 'bad religion', 'elvis presley', 'chris brown', 'elvis presley', 'elvis presley', 'elvis presley', 'elvis presley', 'chris brown', 'chris brown', 'chris brown', 'elvis presley', 'chris brown', 'elvis presley', 'elvis presley', 'elvis presley', 'elvis presley', 'elvis presley', 'elvis presley', 'elvis presley', 'elvis presley', 'chris brown', 'chris brown', 'elvis presley', 'chris brown', 'elvis presley', 'chris brown', 'elvis presley', 'chris brown', 'bad religion', 'elvis presley', 'elvis presley', 'elvis presley', 'elvis presley', 'elvis presley', 'elvis presley', 'elvis presley', 'elvis presley', 'elvis presley', 'elvis presley', 'elvis presley', 'elvis presley', 'elvis presley', 'elvis presley', 'the rolling stones', 'elvis presley', 'elvis presley', 'elvis presley', 'elvis presley', 'elvis presley', 'the rolling stones', 'elvis presley', 'elvis presley', 'elvis presley', 'elvis presley', 'the rolling stones', 'elvis presley', 'bad religion', 'elvis presley', 'elvis presley', 'elvis presley', 'elvis presley', 'elvis presley', 'elvis presley', 'elvis presley', 'elvis presley', 'elvis presley', 'elvis presley', 'elvis presley', 'chris brown', 'elvis presley', 'elvis presley', 'elvis presley', 'elvis presley', 'elvis presley', 'elvis presley', 'elvis presley', 'elvis presley', 'elvis presley', 'elvis presley', 'elvis presley', 'chris brown', 'elvis presley', 'elvis presley', 'the rolling stones', 'chris brown', 'elvis presley', 'elvis presley', 'bad religion', 'elvis presley', 'the rolling stones', 'elvis presley', 'the rolling stones', 'the rolling stones', 'elvis presley', 'chris brown', 'the rolling stones', 'elvis presley', 'chris brown', 'elvis presley', 'the rolling stones', 'elvis presley', 'elvis presley', 'elvis presley', 'elvis presley', 'the rolling stones', 'elvis presley', 'elvis presley', 'chris brown', 'chris brown', 'elvis presley', 'elvis presley', 'elvis presley', 'chris brown', 'elvis presley', 'elvis presley', 'chris brown', 'elvis presley', 'elvis presley', 'chris brown', 'elvis presley', 'chris brown', 'chris brown', 'the rolling stones', 'elvis presley', 'elvis presley', 'chris brown', 'the rolling stones', 'the rolling stones', 'elvis presley', 'chris brown', 'elvis presley', 'elvis presley', 'chris brown', 'chris brown', 'elvis presley', 'elvis presley', 'elvis presley', 'elvis presley', 'elvis presley', 'elvis presley', 'elvis presley', 'elvis presley', 'the rolling stones', 'elvis presley', 'elvis presley', 'elvis presley', 'elvis presley', 'chris brown', 'chris brown', 'the rolling stones', 'chris brown', 'chris brown', 'chris brown', 'chris brown', 'chris brown', 'elvis presley', 'chris brown', 'elvis presley', 'elvis presley', 'elvis presley', 'elvis presley', 'elvis presley', 'the rolling stones', 'chris brown', 'elvis presley', 'elvis presley', 'elvis presley', 'elvis presley', 'elvis presley', 'chris brown', 'elvis presley', 'elvis presley', 'elvis presley', 'elvis presley', 'elvis presley', 'elvis presley', 'the rolling stones', 'elvis presley', 'elvis presley', 'chris brown', 'elvis presley', 'elvis presley', 'elvis presley', 'chris brown', 'elvis presley', 'chris brown', 'elvis presley', 'elvis presley', 'elvis presley', 'elvis presley', 'chris brown', 'elvis presley', 'elvis presley', 'elvis presley', 'elvis presley', 'chris brown', 'elvis presley', 'chris brown', 'elvis presley', 'elvis presley', 'elvis presley', 'elvis presley', 'elvis presley', 'elvis presley', 'chris brown', 'bad religion', 'chris brown', 'elvis presley', 'elvis presley', 'elvis presley', 'elvis presley', 'the rolling stones', 'elvis presley', 'elvis presley', 'elvis presley', 'chris brown', 'elvis presley', 'chris brown', 'chris brown', 'chris brown', 'elvis presley', 'elvis presley', 'elvis presley', 'elvis presley', 'elvis presley', 'elvis presley', 'chris brown', 'the rolling stones', 'elvis presley', 'elvis presley', 'elvis presley', 'the rolling stones', 'elvis presley', 'elvis presley', 'bad religion', 'chris brown', 'chris brown', 'elvis presley', 'elvis presley', 'elvis presley', 'elvis presley', 'chris brown', 'elvis presley', 'elvis presley', 'bad religion', 'elvis presley', 'elvis presley', 'elvis presley', 'the rolling stones', 'elvis presley', 'the rolling stones', 'elvis presley', 'chris brown', 'elvis presley', 'chris brown', 'chris brown', 'elvis presley', 'chris brown', 'elvis presley', 'elvis presley', 'elvis presley', 'elvis presley', 'elvis presley', 'elvis presley', 'elvis presley', 'elvis presley', 'elvis presley', 'elvis presley', 'the rolling stones', 'elvis presley', 'chris brown', 'chris brown', 'elvis presley', 'chris brown', 'the rolling stones', 'elvis presley', 'chris brown', 'elvis presley', 'elvis presley', 'chris brown', 'chris brown', 'chris brown', 'elvis presley', 'elvis presley', 'bad religion', 'the rolling stones', 'chris brown', 'elvis presley', 'elvis presley', 'chris brown', 'elvis presley', 'elvis presley', 'elvis presley', 'the rolling stones', 'elvis presley', 'chris brown', 'the rolling stones', 'the rolling stones', 'the rolling stones', 'elvis presley', 'chris brown', 'elvis presley', 'elvis presley', 'chris brown', 'elvis presley', 'the rolling stones', 'elvis presley', 'elvis presley', 'chris brown', 'chris brown', 'elvis presley', 'elvis presley', 'elvis presley', 'elvis presley', 'elvis presley', 'elvis presley', 'chris brown', 'the rolling stones', 'the rolling stones', 'elvis presley', 'elvis presley', 'elvis presley', 'the rolling stones', 'the rolling stones', 'elvis presley', 'elvis presley', 'elvis presley', 'elvis presley', 'elvis presley', 'elvis presley', 'elvis presley', 'chris brown', 'elvis presley', 'chris brown', 'elvis presley', 'elvis presley', 'chris brown', 'elvis presley', 'elvis presley', 'chris brown', 'the rolling stones', 'elvis presley', 'chris brown', 'chris brown', 'elvis presley', 'elvis presley', 'the rolling stones', 'chris brown', 'elvis presley', 'elvis presley', 'chris brown', 'elvis presley', 'elvis presley', 'elvis presley', 'elvis presley', 'elvis presley', 'elvis presley', 'elvis presley', 'elvis presley', 'elvis presley', 'elvis presley', 'elvis presley', 'bad religion', 'elvis presley', 'elvis presley', 'the rolling stones', 'elvis presley', 'chris brown', 'chris brown', 'chris brown', 'elvis presley', 'chris brown', 'chris brown', 'chris brown', 'elvis presley', 'elvis presley', 'the rolling stones', 'chris brown', 'elvis presley', 'elvis presley', 'elvis presley', 'elvis presley', 'elvis presley', 'the rolling stones', 'elvis presley', 'the rolling stones', 'elvis presley', 'the rolling stones', 'elvis presley', 'chris brown', 'elvis presley', 'chris brown', 'elvis presley', 'bad religion', 'the rolling stones', 'elvis presley', 'elvis presley', 'chris brown', 'elvis presley', 'elvis presley', 'elvis presley', 'elvis presley', 'chris brown', 'elvis presley', 'chris brown', 'chris brown', 'chris brown', 'chris brown', 'elvis presley', 'bad religion', 'elvis presley', 'chris brown', 'elvis presley', 'the rolling stones', 'chris brown', 'elvis presley', 'chris brown', 'elvis presley', 'elvis presley', 'beyonce', 'elvis presley', 'elvis presley', 'the rolling stones', 'elvis presley', 'elvis presley', 'elvis presley', 'elvis presley', 'elvis presley', 'elvis presley', 'elvis presley', 'bad religion', 'chris brown', 'elvis presley', 'chris brown', 'chris brown', 'elvis presley', 'elvis presley', 'the rolling stones', 'chris brown', 'the rolling stones', 'elvis presley', 'chris brown', 'elvis presley', 'the rolling stones', 'elvis presley', 'the rolling stones', 'elvis presley', 'chris brown', 'elvis presley', 'elvis presley', 'bad religion', 'chris brown', 'elvis presley', 'elvis presley', 'elvis presley', 'elvis presley', 'elvis presley', 'elvis presley', 'elvis presley', 'chris brown', 'elvis presley', 'elvis presley', 'the rolling stones', 'elvis presley', 'elvis presley', 'elvis presley', 'chris brown', 'elvis presley', 'elvis presley', 'elvis presley', 'elvis presley', 'elvis presley', 'elvis presley', 'elvis presley', 'chris brown', 'elvis presley', 'chris brown', 'elvis presley', 'chris brown', 'elvis presley', 'chris brown', 'elvis presley', 'elvis presley', 'elvis presley', 'elvis presley', 'elvis presley', 'elvis presley', 'elvis presley', 'chris brown', 'chris brown', 'elvis presley', 'elvis presley', 'chris brown', 'elvis presley', 'elvis presley', 'chris brown', 'elvis presley', 'chris brown', 'the rolling stones', 'elvis presley', 'elvis presley', 'elvis presley', 'elvis presley', 'elvis presley', 'elvis presley', 'chris brown', 'chris brown', 'elvis presley', 'elvis presley', 'chris brown', 'elvis presley', 'the rolling stones', 'elvis presley', 'elvis presley', 'chris brown', 'the rolling stones', 'elvis presley', 'elvis presley', 'elvis presley', 'bad religion', 'elvis presley', 'elvis presley', 'chris brown', 'chris brown', 'chris brown', 'chris brown', 'elvis presley', 'elvis presley', 'chris brown', 'bad religion', 'elvis presley', 'chris brown', 'elvis presley', 'chris brown', 'elvis presley', 'elvis presley', 'elvis presley', 'elvis presley', 'elvis presley', 'the rolling stones', 'chris brown', 'elvis presley', 'elvis presley', 'elvis presley', 'elvis presley', 'elvis presley', 'chris brown', 'elvis presley', 'the rolling stones', 'elvis presley', 'chris brown', 'chris brown', 'elvis presley', 'elvis presley', 'elvis presley', 'elvis presley', 'the rolling stones', 'elvis presley', 'elvis presley', 'the rolling stones', 'elvis presley', 'chris brown', 'elvis presley', 'chris brown', 'elvis presley', 'elvis presley', 'elvis presley', 'elvis presley', 'the rolling stones', 'elvis presley', 'elvis presley', 'elvis presley', 'elvis presley', 'chris brown', 'elvis presley', 'the rolling stones', 'elvis presley', 'elvis presley', 'elvis presley', 'chris brown', 'chris brown', 'elvis presley', 'elvis presley', 'chris brown', 'the rolling stones', 'elvis presley', 'elvis presley', 'the rolling stones', 'chris brown', 'chris brown', 'elvis presley', 'chris brown', 'bad religion', 'elvis presley', 'bad religion', 'elvis presley', 'chris brown', 'elvis presley', 'elvis presley', 'chris brown', 'chris brown', 'the rolling stones', 'bad religion', 'chris brown', 'bad religion', 'elvis presley', 'elvis presley', 'chris brown', 'elvis presley', 'elvis presley', 'elvis presley', 'elvis presley', 'elvis presley', 'chris brown', 'chris brown', 'elvis presley', 'chris brown', 'elvis presley', 'elvis presley', 'elvis presley', 'elvis presley', 'chris brown', 'elvis presley', 'elvis presley', 'elvis presley', 'chris brown', 'chris brown', 'chris brown', 'elvis presley', 'elvis presley', 'elvis presley', 'elvis presley', 'chris brown', 'elvis presley', 'chris brown', 'elvis presley', 'chris brown', 'chris brown', 'chris brown', 'elvis presley', 'chris brown', 'elvis presley', 'elvis presley', 'elvis presley', 'elvis presley', 'the rolling stones', 'elvis presley', 'elvis presley', 'elvis presley', 'elvis presley', 'elvis presley', 'elvis presley', 'chris brown', 'elvis presley', 'elvis presley', 'elvis presley', 'chris brown', 'elvis presley', 'bad religion', 'elvis presley', 'chris brown', 'elvis presley', 'the rolling stones', 'chris brown', 'elvis presley', 'elvis presley', 'elvis presley', 'elvis presley', 'elvis presley', 'elvis presley', 'elvis presley', 'elvis presley', 'elvis presley', 'the rolling stones', 'chris brown', 'chris brown', 'elvis presley', 'chris brown', 'chris brown', 'elvis presley', 'elvis presley', 'chris brown', 'chris brown', 'chris brown', 'chris brown', 'elvis presley', 'chris brown', 'elvis presley', 'the rolling stones', 'elvis presley', 'elvis presley', 'elvis presley', 'elvis presley', 'elvis presley', 'bad religion', 'elvis presley', 'elvis presley', 'the rolling stones', 'the rolling stones', 'elvis presley', 'chris brown', 'elvis presley', 'elvis presley', 'elvis presley', 'elvis presley', 'elvis presley', 'chris brown', 'elvis presley', 'elvis presley', 'chris brown', 'elvis presley', 'elvis presley', 'elvis presley', 'elvis presley', 'elvis presley', 'elvis presley', 'elvis presley', 'elvis presley', 'chris brown', 'chris brown', 'elvis presley', 'chris brown', 'bad religion', 'elvis presley', 'elvis presley', 'elvis presley', 'elvis presley', 'chris brown', 'elvis presley', 'the rolling stones', 'elvis presley', 'elvis presley', 'elvis presley', 'elvis presley', 'elvis presley', 'the rolling stones', 'elvis presley', 'elvis presley', 'the rolling stones', 'elvis presley', 'elvis presley', 'chris brown', 'elvis presley', 'the rolling stones', 'elvis presley', 'elvis presley', 'elvis presley', 'elvis presley', 'elvis presley', 'elvis presley', 'chris brown', 'elvis presley', 'elvis presley', 'elvis presley', 'elvis presley', 'elvis presley', 'elvis presley', 'elvis presley', 'bad religion', 'chris brown', 'elvis presley', 'elvis presley', 'elvis presley', 'elvis presley', 'chris brown', 'elvis presley', 'chris brown', 'elvis presley', 'elvis presley', 'the rolling stones', 'elvis presley', 'elvis presley', 'elvis presley', 'elvis presley', 'elvis presley', 'elvis presley', 'elvis presley', 'elvis presley', 'bad religion', 'elvis presley', 'elvis presley', 'elvis presley', 'elvis presley', 'elvis presley', 'chris brown', 'elvis presley', 'elvis presley', 'elvis presley', 'elvis presley', 'elvis presley', 'elvis presley', 'chris brown', 'elvis presley', 'the rolling stones', 'elvis presley', 'elvis presley', 'elvis presley', 'the rolling stones', 'chris brown', 'elvis presley', 'elvis presley', 'elvis presley', 'bad religion', 'elvis presley', 'elvis presley', 'elvis presley', 'chris brown', 'chris brown', 'elvis presley', 'elvis presley', 'elvis presley', 'chris brown', 'chris brown', 'elvis presley', 'chris brown', 'chris brown', 'elvis presley', 'elvis presley', 'bad religion', 'chris brown', 'chris brown', 'chris brown', 'elvis presley', 'the rolling stones', 'elvis presley', 'elvis presley', 'chris brown', 'elvis presley', 'the rolling stones', 'chris brown', 'elvis presley', 'elvis presley', 'elvis presley', 'elvis presley', 'chris brown', 'elvis presley', 'elvis presley', 'the rolling stones', 'elvis presley', 'elvis presley', 'chris brown', 'elvis presley', 'elvis presley', 'elvis presley', 'elvis presley', 'elvis presley', 'chris brown', 'elvis presley', 'elvis presley', 'elvis presley', 'elvis presley', 'chris brown', 'elvis presley', 'elvis presley', 'elvis presley', 'elvis presley', 'chris brown', 'elvis presley', 'elvis presley', 'chris brown', 'elvis presley', 'bad religion']\n"
     ]
    }
   ],
   "source": [
    "prediction = model002.predict(X_val)\n",
    "\n",
    "labels = ['bad religion', 'bee gees', 'beyonce', 'chris brown', 'ella fitzgerald', 'elton john', 'elvis costello', 'elvis presley', 'glee', 'the rolling stones']\n",
    "print(prediction)\n",
    "pred_str = []\n",
    "for i in range(928):\n",
    "  pred_str.append(labels[np.argmax(prediction[i])])\n",
    "print(pred_str)"
   ]
  },
  {
   "cell_type": "code",
   "execution_count": 70,
   "metadata": {
    "colab": {
     "base_uri": "https://localhost:8080/"
    },
    "executionInfo": {
     "elapsed": 486,
     "status": "ok",
     "timestamp": 1620040100851,
     "user": {
      "displayName": "Lan Zeng",
      "photoUrl": "",
      "userId": "17725825206879958125"
     },
     "user_tz": -60
    },
    "id": "RJHQGT3OEfDS",
    "outputId": "f423f671-2d96-4dbb-d717-e8eb59eb91f7"
   },
   "outputs": [
    {
     "name": "stdout",
     "output_type": "stream",
     "text": [
      "[['bad religion' '32']\n",
      " ['beyonce' '1']\n",
      " ['chris brown' '214']\n",
      " ['elvis presley' '596']\n",
      " ['the rolling stones' '85']]\n"
     ]
    }
   ],
   "source": [
    "(unique, counts) = np.unique(pred_str, return_counts=True)\n",
    "frequencies = np.asarray((unique, counts)).T\n",
    "\n",
    "print(frequencies)"
   ]
  },
  {
   "cell_type": "markdown",
   "metadata": {
    "id": "IqgngUWbEfDT"
   },
   "source": [
    "Visualise the training process"
   ]
  },
  {
   "cell_type": "code",
   "execution_count": 71,
   "metadata": {
    "colab": {
     "base_uri": "https://localhost:8080/",
     "height": 541
    },
    "executionInfo": {
     "elapsed": 6458,
     "status": "ok",
     "timestamp": 1620040117334,
     "user": {
      "displayName": "Lan Zeng",
      "photoUrl": "",
      "userId": "17725825206879958125"
     },
     "user_tz": -60
    },
    "id": "NkhDS_ZdEfDT",
    "outputId": "836b679f-6ebe-4259-907c-1cc6440eb31d"
   },
   "outputs": [
    {
     "name": "stderr",
     "output_type": "stream",
     "text": [
      "/usr/local/lib/python3.7/dist-packages/tensorflow/python/data/ops/dataset_ops.py:3504: UserWarning: Even though the tf.config.experimental_run_functions_eagerly option is set, this option does not apply to tf.data functions. tf.data functions are still traced and executed as graphs.\n",
      "  \"Even though the tf.config.experimental_run_functions_eagerly \"\n"
     ]
    },
    {
     "name": "stdout",
     "output_type": "stream",
     "text": [
      "Training Accuracy: 0.3054\n",
      "Testing Accuracy:  0.2586\n"
     ]
    },
    {
     "data": {
      "text/plain": [
       "(<Figure size 720x360 with 2 Axes>,\n",
       " array([<matplotlib.axes._subplots.AxesSubplot object at 0x7eff0e2e2810>,\n",
       "        <matplotlib.axes._subplots.AxesSubplot object at 0x7eff12607050>],\n",
       "       dtype=object))"
      ]
     },
     "execution_count": 71,
     "metadata": {
      "tags": []
     },
     "output_type": "execute_result"
    },
    {
     "data": {
      "image/png": "[encoded data removed]",
      "text/plain": [
       "<Figure size 720x360 with 2 Axes>"
      ]
     },
     "metadata": {
      "needs_background": "light",
      "tags": []
     },
     "output_type": "display_data"
    }
   ],
   "source": [
    "loss, accuracy = model002.evaluate(X_train, dummy_y_train, verbose=False)\n",
    "print(\"Training Accuracy: {:.4f}\".format(accuracy))\n",
    "loss, accuracy = model002.evaluate(X_val, dummy_y_val, verbose=False)\n",
    "print(\"Testing Accuracy:  {:.4f}\".format(accuracy))\n",
    "\n",
    "plot_history(hist002)"
   ]
  },
  {
   "cell_type": "markdown",
   "metadata": {
    "id": "DPNazDcQQI58"
   },
   "source": [
    "### Check the model on IMDB dataset"
   ]
  },
  {
   "cell_type": "code",
   "execution_count": null,
   "metadata": {
    "colab": {
     "base_uri": "https://localhost:8080/"
    },
    "id": "cqKAoKyDQOYA",
    "outputId": "a222cc38-57c7-40a2-faf4-8c9e6a60b22f"
   },
   "outputs": [
    {
     "name": "stderr",
     "output_type": "stream",
     "text": [
      "<string>:6: VisibleDeprecationWarning: Creating an ndarray from ragged nested sequences (which is a list-or-tuple of lists-or-tuples-or ndarrays with different lengths or shapes) is deprecated. If you meant to do this, you must specify 'dtype=object' when creating the ndarray\n",
      "/usr/local/lib/python3.7/dist-packages/tensorflow/python/keras/datasets/imdb.py:159: VisibleDeprecationWarning: Creating an ndarray from ragged nested sequences (which is a list-or-tuple of lists-or-tuples-or ndarrays with different lengths or shapes) is deprecated. If you meant to do this, you must specify 'dtype=object' when creating the ndarray\n",
      "  x_train, y_train = np.array(xs[:idx]), np.array(labels[:idx])\n",
      "/usr/local/lib/python3.7/dist-packages/tensorflow/python/keras/datasets/imdb.py:160: VisibleDeprecationWarning: Creating an ndarray from ragged nested sequences (which is a list-or-tuple of lists-or-tuples-or ndarrays with different lengths or shapes) is deprecated. If you meant to do this, you must specify 'dtype=object' when creating the ndarray\n",
      "  x_test, y_test = np.array(xs[idx:]), np.array(labels[idx:])\n"
     ]
    },
    {
     "name": "stdout",
     "output_type": "stream",
     "text": [
      "Train shape: (25000, 1500)\n",
      "Test shape: (25000, 1500)\n"
     ]
    }
   ],
   "source": [
    "from tensorflow.keras.datasets import imdb\n",
    "from tensorflow.keras.preprocessing import sequence\n",
    "\n",
    "maxleni = 1500\n",
    "\n",
    "(x_traini, y_traini), (x_testi, y_testi) = imdb.load_data(num_words=5000)\n",
    "x_traini = sequence.pad_sequences(x_traini, maxlen=maxleni)\n",
    "x_testi = sequence.pad_sequences(x_testi, maxlen=maxleni)\n",
    "print('Train shape:', x_traini.shape)\n",
    "print('Test shape:', x_testi.shape)"
   ]
  },
  {
   "cell_type": "code",
   "execution_count": null,
   "metadata": {
    "colab": {
     "base_uri": "https://localhost:8080/"
    },
    "id": "cSraSS47QUhb",
    "outputId": "c3088310-ef99-410b-cbe0-d8073f7fa165"
   },
   "outputs": [
    {
     "name": "stdout",
     "output_type": "stream",
     "text": [
      "Model: \"sequential_12\"\n",
      "_________________________________________________________________\n",
      "Layer (type)                 Output Shape              Param #   \n",
      "=================================================================\n",
      "embedding_12 (Embedding)     (None, 1500, 8)           40000     \n",
      "_________________________________________________________________\n",
      "conv1d_12 (Conv1D)           (None, 1497, 64)          2112      \n",
      "_________________________________________________________________\n",
      "max_pooling1d_9 (MaxPooling1 (None, 748, 64)           0         \n",
      "_________________________________________________________________\n",
      "dropout_14 (Dropout)         (None, 748, 64)           0         \n",
      "_________________________________________________________________\n",
      "lstm_9 (LSTM)                (None, 128)               98816     \n",
      "_________________________________________________________________\n",
      "dropout_15 (Dropout)         (None, 128)               0         \n",
      "_________________________________________________________________\n",
      "dense_24 (Dense)             (None, 100)               12900     \n",
      "_________________________________________________________________\n",
      "dense_25 (Dense)             (None, 1)                 101       \n",
      "=================================================================\n",
      "Total params: 153,929\n",
      "Trainable params: 153,929\n",
      "Non-trainable params: 0\n",
      "_________________________________________________________________\n"
     ]
    }
   ],
   "source": [
    "from keras.models import Sequential\n",
    "from tensorflow.keras.layers import Dense, Dropout, Activation, Flatten, Embedding, Conv1D, MaxPooling1D, LSTM\n",
    "\n",
    "embedding_dim = 8\n",
    "vocab_size = 5000\n",
    "num_filters = 64\n",
    "kernel_size = 4\n",
    "\n",
    "\n",
    "model02 = Sequential()\n",
    "model02.add(Embedding(input_dim=vocab_size,          # input_dim is the size of the vocabulary\n",
    "                           output_dim=embedding_dim,      # output_dim is the size of the dense vector\n",
    "                           input_length=X_train.shape[1]))          # input_length is the length of the sequence\n",
    "model02.add(Conv1D(num_filters,               # add a Convolution1D, which will learn filters\n",
    "                 kernel_size,       # convolutional windows length, which mean will operate over 3 words every time\n",
    "                 padding='valid',\n",
    "                 activation='relu',\n",
    "                 strides=1))\n",
    "model02.add(MaxPooling1D(pool_size=2))    # use max pooling to reduce the size of the feature maps\n",
    "model02.add(Dropout(0.2))\n",
    "model02.add(LSTM(128))\n",
    "model02.add(Dropout(0.2))\n",
    "model02.add(Dense(100, activation='relu'))\n",
    "model02.add(Dense(1, activation='sigmoid'))\n",
    "model02.compile(optimizer='adam',\n",
    "              loss='binary_crossentropy',\n",
    "              metrics=['accuracy'])\n",
    "model02.summary()"
   ]
  },
  {
   "cell_type": "code",
   "execution_count": null,
   "metadata": {
    "colab": {
     "base_uri": "https://localhost:8080/"
    },
    "id": "e1y5deAgRMMG",
    "outputId": "fb48615e-92b5-4727-b4fb-7b47392a60f8"
   },
   "outputs": [
    {
     "name": "stderr",
     "output_type": "stream",
     "text": [
      "/usr/local/lib/python3.7/dist-packages/tensorflow/python/data/ops/dataset_ops.py:3504: UserWarning: Even though the tf.config.experimental_run_functions_eagerly option is set, this option does not apply to tf.data functions. tf.data functions are still traced and executed as graphs.\n",
      "  \"Even though the tf.config.experimental_run_functions_eagerly \"\n"
     ]
    },
    {
     "name": "stdout",
     "output_type": "stream",
     "text": [
      "Epoch 1/5\n",
      "782/782 [==============================] - 186s 238ms/step - loss: 0.5758 - accuracy: 0.6566 - val_loss: 0.3486 - val_accuracy: 0.8551\n",
      "Epoch 2/5\n",
      "782/782 [==============================] - 185s 237ms/step - loss: 0.2774 - accuracy: 0.8940 - val_loss: 0.3070 - val_accuracy: 0.8736\n",
      "Epoch 3/5\n",
      "782/782 [==============================] - 186s 238ms/step - loss: 0.2395 - accuracy: 0.9073 - val_loss: 0.3022 - val_accuracy: 0.8788\n",
      "Epoch 4/5\n",
      "782/782 [==============================] - 185s 237ms/step - loss: 0.1969 - accuracy: 0.9270 - val_loss: 0.3067 - val_accuracy: 0.8725\n",
      "Epoch 5/5\n",
      "782/782 [==============================] - 185s 237ms/step - loss: 0.1738 - accuracy: 0.9368 - val_loss: 0.3226 - val_accuracy: 0.8771\n"
     ]
    }
   ],
   "source": [
    "import tensorflow as tf\n",
    "tf.config.run_functions_eagerly(True)\n",
    "\n",
    "hist02 = model02.fit(x_traini, y_traini,\n",
    "          batch_size=32,\n",
    "          epochs=5,\n",
    "          validation_data=(x_testi, y_testi))"
   ]
  },
  {
   "cell_type": "markdown",
   "metadata": {
    "id": "k8zWz8t3UCln"
   },
   "source": [
    "Check the prediction results in validation dataset"
   ]
  },
  {
   "cell_type": "code",
   "execution_count": null,
   "metadata": {
    "id": "IUkOmilQXiIr"
   },
   "outputs": [],
   "source": [
    "y_pred = np.zeros(len(prediction))\n",
    "for i, score in enumerate(prediction):\n",
    "    y_pred[i] = 1 if score > 0.5 else 0"
   ]
  },
  {
   "cell_type": "code",
   "execution_count": null,
   "metadata": {
    "colab": {
     "base_uri": "https://localhost:8080/"
    },
    "id": "Tse9FLiyUClu",
    "outputId": "a1764edc-99ee-4317-e0e6-2f4b9d131d14"
   },
   "outputs": [
    {
     "name": "stdout",
     "output_type": "stream",
     "text": [
      "[[0.0000e+00 1.1943e+04]\n",
      " [1.0000e+00 1.3057e+04]]\n"
     ]
    }
   ],
   "source": [
    "(unique, counts) = np.unique(y_pred, return_counts=True)\n",
    "frequencies = np.asarray((unique, counts)).T\n",
    "\n",
    "print(frequencies)"
   ]
  },
  {
   "cell_type": "markdown",
   "metadata": {
    "id": "cP_TV5-GWW5A"
   },
   "source": [
    "# LSTM"
   ]
  },
  {
   "cell_type": "code",
   "execution_count": 84,
   "metadata": {
    "colab": {
     "base_uri": "https://localhost:8080/"
    },
    "executionInfo": {
     "elapsed": 763,
     "status": "ok",
     "timestamp": 1620041569944,
     "user": {
      "displayName": "Lan Zeng",
      "photoUrl": "",
      "userId": "17725825206879958125"
     },
     "user_tz": -60
    },
    "id": "yR3Ivc7oYf8C",
    "outputId": "3543971a-610a-4007-bebe-f58656b3f002"
   },
   "outputs": [
    {
     "name": "stdout",
     "output_type": "stream",
     "text": [
      "Model: \"sequential_18\"\n",
      "_________________________________________________________________\n",
      "Layer (type)                 Output Shape              Param #   \n",
      "=================================================================\n",
      "embedding_18 (Embedding)     (None, 500, 100)          500000    \n",
      "_________________________________________________________________\n",
      "lstm_15 (LSTM)               (None, 128)               117248    \n",
      "_________________________________________________________________\n",
      "dense_33 (Dense)             (None, 10)                1290      \n",
      "=================================================================\n",
      "Total params: 618,538\n",
      "Trainable params: 618,538\n",
      "Non-trainable params: 0\n",
      "_________________________________________________________________\n"
     ]
    }
   ],
   "source": [
    "from keras.models import Sequential\n",
    "from tensorflow.keras.layers import Dense, Dropout, Activation, Flatten, Embedding, LSTM, SpatialDropout1D\n",
    "\n",
    "embedding_dim = 100\n",
    "vocab_size = 5000\n",
    "\n",
    "model03 = Sequential()\n",
    "model03.add(Embedding(input_dim=vocab_size,          # input_dim is the size of the vocabulary\n",
    "                           output_dim=embedding_dim,      # output_dim is the size of the dense vector\n",
    "                           input_length=X_train.shape[1]))          # input_length is the length of the sequence\n",
    "model03.add(LSTM(128))\n",
    "model03.add(Dense(10, activation='softmax'))\n",
    "opt = keras.optimizers.Adam(lr=0.0001)\n",
    "model03.compile(optimizer='adam',\n",
    "              loss='categorical_crossentropy',\n",
    "              metrics=['accuracy'])\n",
    "model03.summary()"
   ]
  },
  {
   "cell_type": "code",
   "execution_count": 85,
   "metadata": {
    "colab": {
     "base_uri": "https://localhost:8080/"
    },
    "executionInfo": {
     "elapsed": 110793,
     "status": "ok",
     "timestamp": 1620041682430,
     "user": {
      "displayName": "Lan Zeng",
      "photoUrl": "",
      "userId": "17725825206879958125"
     },
     "user_tz": -60
    },
    "id": "hHBmhdhu8ATD",
    "outputId": "93f00b2f-3abb-476c-b22a-c0f280e67903"
   },
   "outputs": [
    {
     "name": "stdout",
     "output_type": "stream",
     "text": [
      "Epoch 1/20\n",
      "\r",
      " 1/66 [..............................] - ETA: 6s - loss: 2.3023 - accuracy: 0.1562"
     ]
    },
    {
     "name": "stderr",
     "output_type": "stream",
     "text": [
      "/usr/local/lib/python3.7/dist-packages/tensorflow/python/data/ops/dataset_ops.py:3504: UserWarning: Even though the tf.config.experimental_run_functions_eagerly option is set, this option does not apply to tf.data functions. tf.data functions are still traced and executed as graphs.\n",
      "  \"Even though the tf.config.experimental_run_functions_eagerly \"\n"
     ]
    },
    {
     "name": "stdout",
     "output_type": "stream",
     "text": [
      "66/66 [==============================] - 6s 86ms/step - loss: 2.2781 - accuracy: 0.1675 - val_loss: 2.2800 - val_accuracy: 0.1638\n",
      "Epoch 2/20\n",
      "66/66 [==============================] - 5s 83ms/step - loss: 2.2698 - accuracy: 0.1740 - val_loss: 2.2819 - val_accuracy: 0.1649\n",
      "Epoch 3/20\n",
      "66/66 [==============================] - 5s 83ms/step - loss: 2.2663 - accuracy: 0.1753 - val_loss: 2.2783 - val_accuracy: 0.1659\n",
      "Epoch 4/20\n",
      "66/66 [==============================] - 5s 83ms/step - loss: 2.2642 - accuracy: 0.1766 - val_loss: 2.2798 - val_accuracy: 0.1659\n",
      "Epoch 5/20\n",
      "66/66 [==============================] - 5s 83ms/step - loss: 2.2689 - accuracy: 0.1732 - val_loss: 2.2870 - val_accuracy: 0.1659\n",
      "Epoch 6/20\n",
      "66/66 [==============================] - 6s 84ms/step - loss: 2.2659 - accuracy: 0.1723 - val_loss: 2.2748 - val_accuracy: 0.1659\n",
      "Epoch 7/20\n",
      "66/66 [==============================] - 5s 83ms/step - loss: 2.2660 - accuracy: 0.1740 - val_loss: 2.2763 - val_accuracy: 0.1659\n",
      "Epoch 8/20\n",
      "66/66 [==============================] - 5s 83ms/step - loss: 2.2656 - accuracy: 0.1788 - val_loss: 2.2803 - val_accuracy: 0.1659\n",
      "Epoch 9/20\n",
      "66/66 [==============================] - 5s 83ms/step - loss: 2.2616 - accuracy: 0.1740 - val_loss: 2.2769 - val_accuracy: 0.1659\n",
      "Epoch 10/20\n",
      "66/66 [==============================] - 6s 87ms/step - loss: 2.2646 - accuracy: 0.1724 - val_loss: 2.2744 - val_accuracy: 0.1659\n",
      "Epoch 11/20\n",
      "66/66 [==============================] - 6s 86ms/step - loss: 2.2608 - accuracy: 0.1790 - val_loss: 2.2740 - val_accuracy: 0.1659\n",
      "Epoch 12/20\n",
      "66/66 [==============================] - 5s 83ms/step - loss: 2.2602 - accuracy: 0.1838 - val_loss: 2.2770 - val_accuracy: 0.1659\n",
      "Epoch 13/20\n",
      "66/66 [==============================] - 5s 83ms/step - loss: 2.2557 - accuracy: 0.1818 - val_loss: 2.2736 - val_accuracy: 0.1659\n",
      "Epoch 14/20\n",
      "66/66 [==============================] - 5s 83ms/step - loss: 2.2597 - accuracy: 0.1751 - val_loss: 2.2733 - val_accuracy: 0.1659\n",
      "Epoch 15/20\n",
      "66/66 [==============================] - 5s 83ms/step - loss: 2.2649 - accuracy: 0.1734 - val_loss: 2.2764 - val_accuracy: 0.1659\n",
      "Epoch 16/20\n",
      "66/66 [==============================] - 5s 83ms/step - loss: 2.2639 - accuracy: 0.1719 - val_loss: 2.2771 - val_accuracy: 0.1659\n",
      "Epoch 17/20\n",
      "66/66 [==============================] - 5s 83ms/step - loss: 2.2642 - accuracy: 0.1680 - val_loss: 2.2756 - val_accuracy: 0.1659\n",
      "Epoch 18/20\n",
      "66/66 [==============================] - 6s 84ms/step - loss: 2.2598 - accuracy: 0.1790 - val_loss: 2.2736 - val_accuracy: 0.1659\n",
      "Epoch 19/20\n",
      "66/66 [==============================] - 6s 84ms/step - loss: 2.2594 - accuracy: 0.1766 - val_loss: 2.2748 - val_accuracy: 0.1659\n",
      "Epoch 20/20\n",
      "66/66 [==============================] - 5s 83ms/step - loss: 2.2637 - accuracy: 0.1703 - val_loss: 2.2756 - val_accuracy: 0.1659\n"
     ]
    }
   ],
   "source": [
    "hist03 = model03.fit(X_train, dummy_y_train,\n",
    "          batch_size=128,\n",
    "          epochs = 20,\n",
    "          validation_data=(X_val, dummy_y_val))"
   ]
  },
  {
   "cell_type": "code",
   "execution_count": 86,
   "metadata": {
    "colab": {
     "base_uri": "https://localhost:8080/"
    },
    "executionInfo": {
     "elapsed": 1088,
     "status": "ok",
     "timestamp": 1620041703099,
     "user": {
      "displayName": "Lan Zeng",
      "photoUrl": "",
      "userId": "17725825206879958125"
     },
     "user_tz": -60
    },
    "id": "pJKoNzwR8RXu",
    "outputId": "0fa95344-d840-44bd-9a0a-d2dd9528d83e"
   },
   "outputs": [
    {
     "name": "stderr",
     "output_type": "stream",
     "text": [
      "/usr/local/lib/python3.7/dist-packages/tensorflow/python/data/ops/dataset_ops.py:3504: UserWarning: Even though the tf.config.experimental_run_functions_eagerly option is set, this option does not apply to tf.data functions. tf.data functions are still traced and executed as graphs.\n",
      "  \"Even though the tf.config.experimental_run_functions_eagerly \"\n"
     ]
    },
    {
     "name": "stdout",
     "output_type": "stream",
     "text": [
      "[[0.08364111 0.08465631 0.08257025 ... 0.174366   0.07976095 0.08779312]\n",
      " [0.0836411  0.08465632 0.08257026 ... 0.17436598 0.07976095 0.08779311]\n",
      " [0.08364111 0.08465631 0.08257025 ... 0.174366   0.07976095 0.08779312]\n",
      " ...\n",
      " [0.0836411  0.08465631 0.08257025 ... 0.17436598 0.07976095 0.08779311]\n",
      " [0.0836411  0.08465631 0.08257025 ... 0.17436598 0.07976095 0.08779311]\n",
      " [0.0836411  0.08465631 0.08257025 ... 0.17436598 0.07976095 0.08779311]]\n",
      "['elvis presley', 'elvis presley', 'elvis presley', 'elvis presley', 'elvis presley', 'elvis presley', 'elvis presley', 'elvis presley', 'elvis presley', 'elvis presley', 'elvis presley', 'elvis presley', 'elvis presley', 'elvis presley', 'elvis presley', 'elvis presley', 'elvis presley', 'elvis presley', 'elvis presley', 'elvis presley', 'elvis presley', 'elvis presley', 'elvis presley', 'elvis presley', 'elvis presley', 'elvis presley', 'elvis presley', 'elvis presley', 'elvis presley', 'elvis presley', 'elvis presley', 'elvis presley', 'elvis presley', 'elvis presley', 'elvis presley', 'elvis presley', 'elvis presley', 'elvis presley', 'elvis presley', 'elvis presley', 'elvis presley', 'elvis presley', 'elvis presley', 'elvis presley', 'elvis presley', 'elvis presley', 'elvis presley', 'elvis presley', 'elvis presley', 'elvis presley', 'elvis presley', 'elvis presley', 'elvis presley', 'elvis presley', 'elvis presley', 'elvis presley', 'elvis presley', 'elvis presley', 'elvis presley', 'elvis presley', 'elvis presley', 'elvis presley', 'elvis presley', 'elvis presley', 'elvis presley', 'elvis presley', 'elvis presley', 'elvis presley', 'elvis presley', 'elvis presley', 'elvis presley', 'elvis presley', 'elvis presley', 'elvis presley', 'elvis presley', 'elvis presley', 'elvis presley', 'elvis presley', 'elvis presley', 'elvis presley', 'elvis presley', 'elvis presley', 'elvis presley', 'elvis presley', 'elvis presley', 'elvis presley', 'elvis presley', 'elvis presley', 'elvis presley', 'elvis presley', 'elvis presley', 'elvis presley', 'elvis presley', 'elvis presley', 'elvis presley', 'elvis presley', 'elvis presley', 'elvis presley', 'elvis presley', 'elvis presley', 'elvis presley', 'elvis presley', 'elvis presley', 'elvis presley', 'elvis presley', 'elvis presley', 'elvis presley', 'elvis presley', 'elvis presley', 'elvis presley', 'elvis presley', 'elvis presley', 'elvis presley', 'elvis presley', 'elvis presley', 'elvis presley', 'elvis presley', 'elvis presley', 'elvis presley', 'elvis presley', 'elvis presley', 'elvis presley', 'elvis presley', 'elvis presley', 'elvis presley', 'elvis presley', 'elvis presley', 'elvis presley', 'elvis presley', 'elvis presley', 'elvis presley', 'elvis presley', 'elvis presley', 'elvis presley', 'elvis presley', 'elvis presley', 'elvis presley', 'elvis presley', 'elvis presley', 'elvis presley', 'elvis presley', 'elvis presley', 'elvis presley', 'elvis presley', 'elvis presley', 'elvis presley', 'elvis presley', 'elvis presley', 'elvis presley', 'elvis presley', 'elvis presley', 'elvis presley', 'elvis presley', 'elvis presley', 'elvis presley', 'elvis presley', 'elvis presley', 'elvis presley', 'elvis presley', 'elvis presley', 'elvis presley', 'elvis presley', 'elvis presley', 'elvis presley', 'elvis presley', 'elvis presley', 'elvis presley', 'elvis presley', 'elvis presley', 'elvis presley', 'elvis presley', 'elvis presley', 'elvis presley', 'elvis presley', 'elvis presley', 'elvis presley', 'elvis presley', 'elvis presley', 'elvis presley', 'elvis presley', 'elvis presley', 'elvis presley', 'elvis presley', 'elvis presley', 'elvis presley', 'elvis presley', 'elvis presley', 'elvis presley', 'elvis presley', 'elvis presley', 'elvis presley', 'elvis presley', 'elvis presley', 'elvis presley', 'elvis presley', 'elvis presley', 'elvis presley', 'elvis presley', 'elvis presley', 'elvis presley', 'elvis presley', 'elvis presley', 'elvis presley', 'elvis presley', 'elvis presley', 'elvis presley', 'elvis presley', 'elvis presley', 'elvis presley', 'elvis presley', 'elvis presley', 'elvis presley', 'elvis presley', 'elvis presley', 'elvis presley', 'elvis presley', 'elvis presley', 'elvis presley', 'elvis presley', 'elvis presley', 'elvis presley', 'elvis presley', 'elvis presley', 'elvis presley', 'elvis presley', 'elvis presley', 'elvis presley', 'elvis presley', 'elvis presley', 'elvis presley', 'elvis presley', 'elvis presley', 'elvis presley', 'elvis presley', 'elvis presley', 'elvis presley', 'elvis presley', 'elvis presley', 'elvis presley', 'elvis presley', 'elvis presley', 'elvis presley', 'elvis presley', 'elvis presley', 'elvis presley', 'elvis presley', 'elvis presley', 'elvis presley', 'elvis presley', 'elvis presley', 'elvis presley', 'elvis presley', 'elvis presley', 'elvis presley', 'elvis presley', 'elvis presley', 'elvis presley', 'elvis presley', 'elvis presley', 'elvis presley', 'elvis presley', 'elvis presley', 'elvis presley', 'elvis presley', 'elvis presley', 'elvis presley', 'elvis presley', 'elvis presley', 'elvis presley', 'elvis presley', 'elvis presley', 'elvis presley', 'elvis presley', 'elvis presley', 'elvis presley', 'elvis presley', 'elvis presley', 'elvis presley', 'elvis presley', 'elvis presley', 'elvis presley', 'elvis presley', 'elvis presley', 'elvis presley', 'elvis presley', 'elvis presley', 'elvis presley', 'elvis presley', 'elvis presley', 'elvis presley', 'elvis presley', 'elvis presley', 'elvis presley', 'elvis presley', 'elvis presley', 'elvis presley', 'elvis presley', 'elvis presley', 'elvis presley', 'elvis presley', 'elvis presley', 'elvis presley', 'elvis presley', 'elvis presley', 'elvis presley', 'elvis presley', 'elvis presley', 'elvis presley', 'elvis presley', 'elvis presley', 'elvis presley', 'elvis presley', 'elvis presley', 'elvis presley', 'elvis presley', 'elvis presley', 'elvis presley', 'elvis presley', 'elvis presley', 'elvis presley', 'elvis presley', 'elvis presley', 'elvis presley', 'elvis presley', 'elvis presley', 'elvis presley', 'elvis presley', 'elvis presley', 'elvis presley', 'elvis presley', 'elvis presley', 'elvis presley', 'elvis presley', 'elvis presley', 'elvis presley', 'elvis presley', 'elvis presley', 'elvis presley', 'elvis presley', 'elvis presley', 'elvis presley', 'elvis presley', 'elvis presley', 'elvis presley', 'elvis presley', 'elvis presley', 'elvis presley', 'elvis presley', 'elvis presley', 'elvis presley', 'elvis presley', 'elvis presley', 'elvis presley', 'elvis presley', 'elvis presley', 'elvis presley', 'elvis presley', 'elvis presley', 'elvis presley', 'elvis presley', 'elvis presley', 'elvis presley', 'elvis presley', 'elvis presley', 'elvis presley', 'elvis presley', 'elvis presley', 'elvis presley', 'elvis presley', 'elvis presley', 'elvis presley', 'elvis presley', 'elvis presley', 'elvis presley', 'elvis presley', 'elvis presley', 'elvis presley', 'elvis presley', 'elvis presley', 'elvis presley', 'elvis presley', 'elvis presley', 'elvis presley', 'elvis presley', 'elvis presley', 'elvis presley', 'elvis presley', 'elvis presley', 'elvis presley', 'elvis presley', 'elvis presley', 'elvis presley', 'elvis presley', 'elvis presley', 'elvis presley', 'elvis presley', 'elvis presley', 'elvis presley', 'elvis presley', 'elvis presley', 'elvis presley', 'elvis presley', 'elvis presley', 'elvis presley', 'elvis presley', 'elvis presley', 'elvis presley', 'elvis presley', 'elvis presley', 'elvis presley', 'elvis presley', 'elvis presley', 'elvis presley', 'elvis presley', 'elvis presley', 'elvis presley', 'elvis presley', 'elvis presley', 'elvis presley', 'elvis presley', 'elvis presley', 'elvis presley', 'elvis presley', 'elvis presley', 'elvis presley', 'elvis presley', 'elvis presley', 'elvis presley', 'elvis presley', 'elvis presley', 'elvis presley', 'elvis presley', 'elvis presley', 'elvis presley', 'elvis presley', 'elvis presley', 'elvis presley', 'elvis presley', 'elvis presley', 'elvis presley', 'elvis presley', 'elvis presley', 'elvis presley', 'elvis presley', 'elvis presley', 'elvis presley', 'elvis presley', 'elvis presley', 'elvis presley', 'elvis presley', 'elvis presley', 'elvis presley', 'elvis presley', 'elvis presley', 'elvis presley', 'elvis presley', 'elvis presley', 'elvis presley', 'elvis presley', 'elvis presley', 'elvis presley', 'elvis presley', 'elvis presley', 'elvis presley', 'elvis presley', 'elvis presley', 'elvis presley', 'elvis presley', 'elvis presley', 'elvis presley', 'elvis presley', 'elvis presley', 'elvis presley', 'elvis presley', 'elvis presley', 'elvis presley', 'elvis presley', 'elvis presley', 'elvis presley', 'elvis presley', 'elvis presley', 'elvis presley', 'elvis presley', 'elvis presley', 'elvis presley', 'beyonce', 'elvis presley', 'elvis presley', 'elvis presley', 'elvis presley', 'elvis presley', 'elvis presley', 'elvis presley', 'elvis presley', 'elvis presley', 'elvis presley', 'elvis presley', 'elvis presley', 'elvis presley', 'elvis presley', 'elvis presley', 'elvis presley', 'elvis presley', 'elvis presley', 'elvis presley', 'elvis presley', 'elvis presley', 'elvis presley', 'elvis presley', 'elvis presley', 'elvis presley', 'elvis presley', 'elvis presley', 'elvis presley', 'elvis presley', 'elvis presley', 'elvis presley', 'elvis presley', 'elvis presley', 'elvis presley', 'elvis presley', 'elvis presley', 'elvis presley', 'elvis presley', 'elvis presley', 'elvis presley', 'elvis presley', 'elvis presley', 'elvis presley', 'elvis presley', 'elvis presley', 'elvis presley', 'elvis presley', 'elvis presley', 'elvis presley', 'elvis presley', 'elvis presley', 'elvis presley', 'elvis presley', 'elvis presley', 'elvis presley', 'elvis presley', 'elvis presley', 'elvis presley', 'elvis presley', 'elvis presley', 'elvis presley', 'elvis presley', 'elvis presley', 'elvis presley', 'elvis presley', 'elvis presley', 'elvis presley', 'elvis presley', 'elvis presley', 'elvis presley', 'elvis presley', 'elvis presley', 'elvis presley', 'elvis presley', 'elvis presley', 'elvis presley', 'elvis presley', 'elvis presley', 'elvis presley', 'elvis presley', 'elvis presley', 'elvis presley', 'elvis presley', 'elvis presley', 'elvis presley', 'elvis presley', 'elvis presley', 'elvis presley', 'elvis presley', 'elvis presley', 'elvis presley', 'elvis presley', 'elvis presley', 'elvis presley', 'elvis presley', 'elvis presley', 'elvis presley', 'elvis presley', 'elvis presley', 'elvis presley', 'elvis presley', 'elvis presley', 'elvis presley', 'elvis presley', 'elvis presley', 'elvis presley', 'elvis presley', 'elvis presley', 'elvis presley', 'elvis presley', 'elvis presley', 'elvis presley', 'elvis presley', 'elvis presley', 'elvis presley', 'elvis presley', 'elvis presley', 'elvis presley', 'elvis presley', 'elvis presley', 'elvis presley', 'elvis presley', 'elvis presley', 'elvis presley', 'elvis presley', 'elvis presley', 'elvis presley', 'elvis presley', 'elvis presley', 'elvis presley', 'elvis presley', 'elvis presley', 'elvis presley', 'elvis presley', 'elvis presley', 'elvis presley', 'elvis presley', 'elvis presley', 'elvis presley', 'elvis presley', 'elvis presley', 'elvis presley', 'elvis presley', 'elvis presley', 'elvis presley', 'elvis presley', 'elvis presley', 'elvis presley', 'elvis presley', 'elvis presley', 'elvis presley', 'elvis presley', 'elvis presley', 'elvis presley', 'elvis presley', 'elvis presley', 'elvis presley', 'elvis presley', 'elvis presley', 'elvis presley', 'elvis presley', 'elvis presley', 'elvis presley', 'elvis presley', 'elvis presley', 'elvis presley', 'elvis presley', 'elvis presley', 'elvis presley', 'elvis presley', 'elvis presley', 'elvis presley', 'elvis presley', 'elvis presley', 'elvis presley', 'elvis presley', 'elvis presley', 'elvis presley', 'elvis presley', 'elvis presley', 'elvis presley', 'elvis presley', 'elvis presley', 'elvis presley', 'elvis presley', 'elvis presley', 'elvis presley', 'elvis presley', 'elvis presley', 'elvis presley', 'elvis presley', 'elvis presley', 'elvis presley', 'elvis presley', 'beyonce', 'elvis presley', 'elvis presley', 'elvis presley', 'elvis presley', 'elvis presley', 'elvis presley', 'elvis presley', 'elvis presley', 'elvis presley', 'elvis presley', 'elvis presley', 'elvis presley', 'elvis presley', 'elvis presley', 'elvis presley', 'elvis presley', 'elvis presley', 'elvis presley', 'elvis presley', 'elvis presley', 'elvis presley', 'elvis presley', 'elvis presley', 'elvis presley', 'elvis presley', 'elvis presley', 'elvis presley', 'elvis presley', 'elvis presley', 'elvis presley', 'elvis presley', 'elvis presley', 'elvis presley', 'elvis presley', 'elvis presley', 'elvis presley', 'elvis presley', 'elvis presley', 'elvis presley', 'elvis presley', 'elvis presley', 'elvis presley', 'elvis presley', 'elvis presley', 'elvis presley', 'elvis presley', 'elvis presley', 'elvis presley', 'elvis presley', 'elvis presley', 'elvis presley', 'elvis presley', 'elvis presley', 'elvis presley', 'elvis presley', 'elvis presley', 'elvis presley', 'elvis presley', 'elvis presley', 'elvis presley', 'elvis presley', 'elvis presley', 'elvis presley', 'elvis presley', 'elvis presley', 'elvis presley', 'elvis presley', 'elvis presley', 'elvis presley', 'elvis presley', 'elvis presley', 'elvis presley', 'elvis presley', 'elvis presley', 'elvis presley', 'elvis presley', 'elvis presley', 'elvis presley', 'elvis presley', 'elvis presley', 'elvis presley', 'elvis presley', 'elvis presley', 'elvis presley', 'elvis presley', 'elvis presley', 'elvis presley', 'elvis presley', 'elvis presley', 'elvis presley', 'elvis presley', 'elvis presley', 'elvis presley', 'elvis presley', 'elvis presley', 'elvis presley', 'elvis presley', 'elvis presley', 'elvis presley', 'elvis presley', 'elvis presley', 'elvis presley', 'elvis presley', 'elvis presley', 'elvis presley', 'elvis presley', 'elvis presley', 'elvis presley', 'elvis presley', 'elvis presley', 'elvis presley', 'elvis presley', 'elvis presley', 'elvis presley', 'elvis presley', 'elvis presley', 'elvis presley', 'elvis presley', 'elvis presley', 'elvis presley', 'elvis presley', 'elvis presley', 'elvis presley', 'elvis presley', 'elvis presley', 'elvis presley', 'elvis presley', 'elvis presley', 'elvis presley', 'elvis presley', 'elvis presley', 'elvis presley', 'elvis presley', 'elvis presley', 'elvis presley', 'elvis presley', 'elvis presley', 'elvis presley', 'elvis presley', 'elvis presley', 'elvis presley', 'elvis presley', 'elvis presley', 'elvis presley', 'elvis presley', 'elvis presley', 'elvis presley', 'elvis presley', 'elvis presley', 'elvis presley', 'elvis presley', 'elvis presley', 'elvis presley', 'elvis presley', 'elvis presley', 'elvis presley', 'elvis presley', 'elvis presley', 'elvis presley', 'elvis presley', 'elvis presley', 'elvis presley', 'elvis presley', 'elvis presley', 'elvis presley', 'elvis presley', 'elvis presley', 'elvis presley', 'elvis presley', 'elvis presley', 'elvis presley', 'elvis presley', 'elvis presley', 'elvis presley', 'elvis presley', 'elvis presley', 'elvis presley', 'elvis presley', 'elvis presley', 'elvis presley', 'elvis presley', 'elvis presley', 'elvis presley', 'elvis presley', 'elvis presley', 'elvis presley', 'elvis presley', 'elvis presley', 'elvis presley', 'elvis presley', 'elvis presley', 'elvis presley', 'elvis presley', 'elvis presley', 'elvis presley', 'elvis presley', 'elvis presley', 'elvis presley', 'elvis presley', 'elvis presley', 'elvis presley', 'elvis presley', 'elvis presley', 'elvis presley', 'elvis presley', 'elvis presley', 'elvis presley', 'elvis presley', 'elvis presley', 'elvis presley', 'elvis presley', 'elvis presley', 'elvis presley', 'elvis presley', 'elvis presley', 'elvis presley', 'elvis presley', 'elvis presley', 'elvis presley', 'elvis presley', 'elvis presley', 'elvis presley', 'elvis presley', 'elvis presley', 'elvis presley', 'elvis presley', 'elvis presley', 'elvis presley', 'elvis presley', 'elvis presley', 'elvis presley', 'elvis presley', 'elvis presley', 'elvis presley', 'elvis presley', 'elvis presley', 'elvis presley', 'elvis presley', 'elvis presley', 'elvis presley', 'elvis presley', 'elvis presley', 'elvis presley', 'elvis presley', 'elvis presley', 'elvis presley', 'elvis presley']\n"
     ]
    }
   ],
   "source": [
    "prediction = model03.predict(X_val)\n",
    "\n",
    "labels = ['bad religion', 'bee gees', 'beyonce', 'chris brown', 'ella fitzgerald', 'elton john', 'elvis costello', 'elvis presley', 'glee', 'the rolling stones']\n",
    "print(prediction)\n",
    "pred_str = []\n",
    "for i in range(928):\n",
    "  pred_str.append(labels[np.argmax(prediction[i])])\n",
    "print(pred_str)"
   ]
  },
  {
   "cell_type": "code",
   "execution_count": 87,
   "metadata": {
    "colab": {
     "base_uri": "https://localhost:8080/"
    },
    "executionInfo": {
     "elapsed": 474,
     "status": "ok",
     "timestamp": 1620041706891,
     "user": {
      "displayName": "Lan Zeng",
      "photoUrl": "",
      "userId": "17725825206879958125"
     },
     "user_tz": -60
    },
    "id": "nmEV42Vn8RXv",
    "outputId": "000b3fd1-c13e-4aca-b695-68153f82d577"
   },
   "outputs": [
    {
     "name": "stdout",
     "output_type": "stream",
     "text": [
      "[['beyonce' '2']\n",
      " ['elvis presley' '926']]\n"
     ]
    }
   ],
   "source": [
    "(unique, counts) = np.unique(pred_str, return_counts=True)\n",
    "frequencies = np.asarray((unique, counts)).T\n",
    "\n",
    "print(frequencies)"
   ]
  },
  {
   "cell_type": "markdown",
   "metadata": {
    "id": "-fRMNvaA8RXw"
   },
   "source": [
    "Visualise the training process"
   ]
  },
  {
   "cell_type": "code",
   "execution_count": 88,
   "metadata": {
    "colab": {
     "base_uri": "https://localhost:8080/",
     "height": 541
    },
    "executionInfo": {
     "elapsed": 7946,
     "status": "ok",
     "timestamp": 1620041720574,
     "user": {
      "displayName": "Lan Zeng",
      "photoUrl": "",
      "userId": "17725825206879958125"
     },
     "user_tz": -60
    },
    "id": "B4Fe1E2J8RXw",
    "outputId": "2a1cb233-26cf-40f9-b8c2-e1f53930860b"
   },
   "outputs": [
    {
     "name": "stderr",
     "output_type": "stream",
     "text": [
      "/usr/local/lib/python3.7/dist-packages/tensorflow/python/data/ops/dataset_ops.py:3504: UserWarning: Even though the tf.config.experimental_run_functions_eagerly option is set, this option does not apply to tf.data functions. tf.data functions are still traced and executed as graphs.\n",
      "  \"Even though the tf.config.experimental_run_functions_eagerly \"\n"
     ]
    },
    {
     "name": "stdout",
     "output_type": "stream",
     "text": [
      "Training Accuracy: 0.1765\n",
      "Testing Accuracy:  0.1659\n"
     ]
    },
    {
     "data": {
      "text/plain": [
       "(<Figure size 720x360 with 2 Axes>,\n",
       " array([<matplotlib.axes._subplots.AxesSubplot object at 0x7efe8a267b10>,\n",
       "        <matplotlib.axes._subplots.AxesSubplot object at 0x7efe8a217250>],\n",
       "       dtype=object))"
      ]
     },
     "execution_count": 88,
     "metadata": {
      "tags": []
     },
     "output_type": "execute_result"
    },
    {
     "data": {
      "image/png": "[encoded data removed]",
      "text/plain": [
       "<Figure size 720x360 with 2 Axes>"
      ]
     },
     "metadata": {
      "needs_background": "light",
      "tags": []
     },
     "output_type": "display_data"
    }
   ],
   "source": [
    "loss, accuracy = model03.evaluate(X_train, dummy_y_train, verbose=False)\n",
    "print(\"Training Accuracy: {:.4f}\".format(accuracy))\n",
    "loss, accuracy = model03.evaluate(X_val, dummy_y_val, verbose=False)\n",
    "print(\"Testing Accuracy:  {:.4f}\".format(accuracy))\n",
    "\n",
    "plot_history(hist03)"
   ]
  },
  {
   "cell_type": "markdown",
   "metadata": {
    "id": "_f6flmBeAsO1"
   },
   "source": [
    "# Transfer Learning: Use Pre-trained Models\n"
   ]
  },
  {
   "cell_type": "code",
   "execution_count": 95,
   "metadata": {
    "colab": {
     "base_uri": "https://localhost:8080/"
    },
    "executionInfo": {
     "elapsed": 6232,
     "status": "ok",
     "timestamp": 1620044580535,
     "user": {
      "displayName": "Lan Zeng",
      "photoUrl": "",
      "userId": "17725825206879958125"
     },
     "user_tz": -60
    },
    "id": "Bes85QbZH1LQ",
    "outputId": "f56a2a70-00b2-48c3-be9b-a3b927fe947a"
   },
   "outputs": [
    {
     "name": "stderr",
     "output_type": "stream",
     "text": [
      "/usr/local/lib/python3.7/dist-packages/tensorflow/python/data/ops/dataset_ops.py:3504: UserWarning: Even though the tf.config.experimental_run_functions_eagerly option is set, this option does not apply to tf.data functions. tf.data functions are still traced and executed as graphs.\n",
      "  \"Even though the tf.config.experimental_run_functions_eagerly \"\n"
     ]
    },
    {
     "name": "stdout",
     "output_type": "stream",
     "text": [
      "validation Accuracy:  0.1182\n",
      "validation Accuracy:  0.1013\n"
     ]
    }
   ],
   "source": [
    "from tensorflow.keras.models import load_model\n",
    "\n",
    "lstm_model01 = keras.models.load_model('/content/drive/MyDrive/Colab Notebooks/lstm_epoch10.h5')\n",
    "\n",
    "loss, accuracy = lstm_model01.evaluate(X_train, dummy_y_train, verbose=False)\n",
    "print(\"Training datset Accuracy:  {:.4f}\".format(accuracy))\n",
    "\n",
    "loss, accuracy = lstm_model01.evaluate(X_val, dummy_y_val, verbose=False)\n",
    "print(\"Validation dataset Accuracy:  {:.4f}\".format(accuracy))"
   ]
  },
  {
   "cell_type": "code",
   "execution_count": 96,
   "metadata": {
    "colab": {
     "base_uri": "https://localhost:8080/"
    },
    "executionInfo": {
     "elapsed": 955,
     "status": "ok",
     "timestamp": 1620044857687,
     "user": {
      "displayName": "Lan Zeng",
      "photoUrl": "",
      "userId": "17725825206879958125"
     },
     "user_tz": -60
    },
    "id": "NRUaCbjYMcqR",
    "outputId": "275a10d6-f77f-49da-81a8-ddcf5c27e025"
   },
   "outputs": [
    {
     "name": "stderr",
     "output_type": "stream",
     "text": [
      "/usr/local/lib/python3.7/dist-packages/tensorflow/python/data/ops/dataset_ops.py:3504: UserWarning: Even though the tf.config.experimental_run_functions_eagerly option is set, this option does not apply to tf.data functions. tf.data functions are still traced and executed as graphs.\n",
      "  \"Even though the tf.config.experimental_run_functions_eagerly \"\n"
     ]
    },
    {
     "name": "stdout",
     "output_type": "stream",
     "text": [
      "[[1.16056435e-04 2.85449647e-03 7.76584086e-04 ... 8.93983066e-01\n",
      "  5.10856789e-03 1.24948779e-02]\n",
      " [2.45804270e-03 1.00158108e-02 7.54073635e-03 ... 6.44228101e-01\n",
      "  2.18606610e-02 2.37881780e-01]\n",
      " [1.71211152e-03 1.56603344e-02 6.34664390e-03 ... 6.77250504e-01\n",
      "  1.75710171e-02 1.64084196e-01]\n",
      " ...\n",
      " [2.23744791e-02 2.76196119e-03 8.70786980e-02 ... 1.09292410e-01\n",
      "  6.20399415e-03 6.82377219e-01]\n",
      " [1.01338243e-02 7.66745582e-03 5.01996875e-02 ... 1.74393669e-01\n",
      "  7.93551840e-03 6.39851093e-01]\n",
      " [9.04591940e-03 1.18664447e-02 4.38614339e-02 ... 3.68429780e-01\n",
      "  9.96251311e-03 3.87690842e-01]]\n",
      "['elvis presley', 'elvis presley', 'elvis presley', 'elvis presley', 'elvis presley', 'elvis presley', 'the rolling stones', 'elvis presley', 'elvis presley', 'elvis presley', 'elvis presley', 'elvis presley', 'the rolling stones', 'the rolling stones', 'elvis presley', 'elvis presley', 'elvis presley', 'elvis presley', 'elvis presley', 'the rolling stones', 'the rolling stones', 'elvis presley', 'elvis presley', 'the rolling stones', 'the rolling stones', 'elvis presley', 'the rolling stones', 'the rolling stones', 'the rolling stones', 'elvis presley', 'elvis presley', 'the rolling stones', 'elvis presley', 'elvis presley', 'the rolling stones', 'the rolling stones', 'the rolling stones', 'the rolling stones', 'elvis presley', 'elvis presley', 'the rolling stones', 'the rolling stones', 'elvis presley', 'the rolling stones', 'elvis presley', 'elvis presley', 'the rolling stones', 'the rolling stones', 'elvis presley', 'the rolling stones', 'the rolling stones', 'elvis presley', 'the rolling stones', 'the rolling stones', 'the rolling stones', 'the rolling stones', 'the rolling stones', 'the rolling stones', 'elvis presley', 'the rolling stones', 'the rolling stones', 'elvis costello', 'elvis presley', 'the rolling stones', 'the rolling stones', 'elvis presley', 'the rolling stones', 'the rolling stones', 'elvis presley', 'elton john', 'the rolling stones', 'the rolling stones', 'the rolling stones', 'elvis presley', 'elvis presley', 'elvis presley', 'elton john', 'elvis presley', 'the rolling stones', 'elvis presley', 'the rolling stones', 'the rolling stones', 'the rolling stones', 'elvis presley', 'the rolling stones', 'the rolling stones', 'elvis presley', 'the rolling stones', 'the rolling stones', 'elvis presley', 'elvis presley', 'elvis presley', 'elvis presley', 'elvis presley', 'elvis presley', 'the rolling stones', 'the rolling stones', 'elvis presley', 'the rolling stones', 'the rolling stones', 'elvis presley', 'the rolling stones', 'the rolling stones', 'elvis presley', 'the rolling stones', 'the rolling stones', 'the rolling stones', 'the rolling stones', 'the rolling stones', 'elvis presley', 'the rolling stones', 'the rolling stones', 'the rolling stones', 'the rolling stones', 'the rolling stones', 'the rolling stones', 'elvis presley', 'elvis presley', 'the rolling stones', 'the rolling stones', 'elvis presley', 'the rolling stones', 'the rolling stones', 'the rolling stones', 'elvis presley', 'the rolling stones', 'the rolling stones', 'the rolling stones', 'the rolling stones', 'the rolling stones', 'the rolling stones', 'the rolling stones', 'the rolling stones', 'the rolling stones', 'elvis presley', 'the rolling stones', 'the rolling stones', 'elvis presley', 'the rolling stones', 'elvis presley', 'the rolling stones', 'elvis presley', 'the rolling stones', 'elvis presley', 'elvis presley', 'elvis presley', 'elvis presley', 'elvis presley', 'the rolling stones', 'elvis presley', 'the rolling stones', 'the rolling stones', 'the rolling stones', 'the rolling stones', 'elvis presley', 'the rolling stones', 'the rolling stones', 'elvis presley', 'elvis presley', 'the rolling stones', 'elvis presley', 'elvis presley', 'the rolling stones', 'elvis presley', 'the rolling stones', 'the rolling stones', 'the rolling stones', 'the rolling stones', 'the rolling stones', 'elvis presley', 'elvis presley', 'elvis presley', 'elvis presley', 'elvis presley', 'the rolling stones', 'elvis presley', 'the rolling stones', 'the rolling stones', 'elvis presley', 'the rolling stones', 'elvis costello', 'elvis presley', 'the rolling stones', 'the rolling stones', 'elvis presley', 'the rolling stones', 'elvis presley', 'elvis presley', 'elvis presley', 'elvis presley', 'the rolling stones', 'the rolling stones', 'elvis presley', 'elvis presley', 'the rolling stones', 'elvis presley', 'elvis presley', 'elvis presley', 'the rolling stones', 'the rolling stones', 'elvis presley', 'the rolling stones', 'the rolling stones', 'the rolling stones', 'elvis presley', 'the rolling stones', 'elvis presley', 'elvis presley', 'elvis presley', 'the rolling stones', 'elvis presley', 'elvis presley', 'the rolling stones', 'elvis presley', 'elvis presley', 'the rolling stones', 'elvis presley', 'elvis presley', 'elvis presley', 'the rolling stones', 'elvis presley', 'the rolling stones', 'elvis presley', 'the rolling stones', 'the rolling stones', 'the rolling stones', 'elvis presley', 'the rolling stones', 'elvis presley', 'elvis presley', 'the rolling stones', 'elvis presley', 'the rolling stones', 'the rolling stones', 'the rolling stones', 'elvis presley', 'the rolling stones', 'elvis presley', 'elvis presley', 'elvis presley', 'elvis presley', 'the rolling stones', 'elvis presley', 'the rolling stones', 'elvis presley', 'elvis presley', 'elvis presley', 'elvis presley', 'elvis presley', 'elvis presley', 'the rolling stones', 'elvis costello', 'the rolling stones', 'the rolling stones', 'the rolling stones', 'elvis presley', 'the rolling stones', 'elvis presley', 'elvis presley', 'elvis presley', 'elvis presley', 'elvis presley', 'the rolling stones', 'elvis presley', 'elvis presley', 'the rolling stones', 'elvis presley', 'the rolling stones', 'elvis presley', 'the rolling stones', 'elvis presley', 'elvis presley', 'elvis presley', 'the rolling stones', 'the rolling stones', 'the rolling stones', 'elvis presley', 'the rolling stones', 'the rolling stones', 'the rolling stones', 'the rolling stones', 'elvis presley', 'the rolling stones', 'elvis presley', 'the rolling stones', 'elvis presley', 'elvis presley', 'the rolling stones', 'elvis presley', 'the rolling stones', 'the rolling stones', 'the rolling stones', 'elvis presley', 'elvis presley', 'the rolling stones', 'elvis presley', 'elvis presley', 'elvis presley', 'the rolling stones', 'elvis presley', 'the rolling stones', 'elvis presley', 'the rolling stones', 'the rolling stones', 'the rolling stones', 'the rolling stones', 'the rolling stones', 'elvis presley', 'elvis presley', 'elvis presley', 'the rolling stones', 'the rolling stones', 'the rolling stones', 'elvis presley', 'elvis presley', 'the rolling stones', 'the rolling stones', 'elvis presley', 'elvis presley', 'the rolling stones', 'elvis presley', 'elvis presley', 'the rolling stones', 'elvis presley', 'elvis presley', 'elvis presley', 'elvis presley', 'the rolling stones', 'elvis presley', 'elvis presley', 'elvis costello', 'the rolling stones', 'the rolling stones', 'elvis presley', 'the rolling stones', 'elvis presley', 'elvis presley', 'the rolling stones', 'elvis presley', 'elvis presley', 'elvis presley', 'the rolling stones', 'elvis presley', 'the rolling stones', 'elvis presley', 'elvis presley', 'elvis presley', 'the rolling stones', 'elvis presley', 'the rolling stones', 'the rolling stones', 'elvis presley', 'elvis presley', 'elvis presley', 'the rolling stones', 'the rolling stones', 'elvis presley', 'the rolling stones', 'elvis presley', 'elvis presley', 'elvis costello', 'the rolling stones', 'the rolling stones', 'elvis presley', 'elvis presley', 'elvis presley', 'elvis presley', 'the rolling stones', 'the rolling stones', 'elvis presley', 'elvis presley', 'the rolling stones', 'elvis presley', 'the rolling stones', 'the rolling stones', 'the rolling stones', 'elvis presley', 'elvis presley', 'elvis presley', 'the rolling stones', 'the rolling stones', 'the rolling stones', 'elvis presley', 'the rolling stones', 'elvis presley', 'the rolling stones', 'elvis presley', 'the rolling stones', 'the rolling stones', 'elvis presley', 'elvis presley', 'elvis presley', 'the rolling stones', 'the rolling stones', 'elvis presley', 'elvis presley', 'elvis presley', 'elvis presley', 'elvis presley', 'elvis presley', 'elvis presley', 'the rolling stones', 'elvis presley', 'elvis presley', 'the rolling stones', 'elvis presley', 'the rolling stones', 'elvis presley', 'elvis presley', 'elvis presley', 'elvis presley', 'elvis presley', 'the rolling stones', 'elvis presley', 'the rolling stones', 'elvis presley', 'elvis presley', 'elvis presley', 'elvis presley', 'the rolling stones', 'elvis presley', 'elvis presley', 'elvis presley', 'the rolling stones', 'elvis costello', 'elvis presley', 'the rolling stones', 'the rolling stones', 'the rolling stones', 'the rolling stones', 'elvis presley', 'the rolling stones', 'the rolling stones', 'elvis presley', 'elvis presley', 'elvis presley', 'elvis presley', 'elvis presley', 'elvis presley', 'elvis presley', 'elvis presley', 'elvis presley', 'elvis presley', 'elvis presley', 'elvis presley', 'the rolling stones', 'the rolling stones', 'the rolling stones', 'elvis presley', 'the rolling stones', 'elvis presley', 'the rolling stones', 'elvis presley', 'the rolling stones', 'elvis presley', 'elvis presley', 'elvis presley', 'elvis presley', 'the rolling stones', 'the rolling stones', 'the rolling stones', 'elvis presley', 'elvis presley', 'the rolling stones', 'the rolling stones', 'elvis presley', 'elvis presley', 'elvis presley', 'elvis presley', 'elvis presley', 'elvis presley', 'elvis presley', 'elvis presley', 'elvis presley', 'the rolling stones', 'the rolling stones', 'elvis presley', 'elvis presley', 'elvis presley', 'elvis presley', 'the rolling stones', 'elvis presley', 'elvis presley', 'the rolling stones', 'elvis presley', 'elvis presley', 'elvis presley', 'the rolling stones', 'the rolling stones', 'the rolling stones', 'the rolling stones', 'the rolling stones', 'elvis presley', 'elvis presley', 'the rolling stones', 'the rolling stones', 'elvis presley', 'elvis presley', 'elvis presley', 'elvis presley', 'elvis presley', 'the rolling stones', 'elvis presley', 'the rolling stones', 'elvis presley', 'elvis presley', 'elvis presley', 'the rolling stones', 'the rolling stones', 'elvis presley', 'elvis presley', 'elvis presley', 'elvis presley', 'elvis presley', 'elvis presley', 'the rolling stones', 'the rolling stones', 'the rolling stones', 'elvis presley', 'the rolling stones', 'elvis presley', 'the rolling stones', 'the rolling stones', 'elvis presley', 'the rolling stones', 'the rolling stones', 'elvis presley', 'elvis presley', 'elvis presley', 'the rolling stones', 'elvis presley', 'elvis presley', 'elvis presley', 'the rolling stones', 'the rolling stones', 'elvis presley', 'the rolling stones', 'the rolling stones', 'elvis presley', 'the rolling stones', 'elvis presley', 'elvis presley', 'elvis presley', 'the rolling stones', 'the rolling stones', 'elvis presley', 'elvis presley', 'elvis presley', 'the rolling stones', 'elvis presley', 'the rolling stones', 'elvis presley', 'the rolling stones', 'the rolling stones', 'elvis presley', 'the rolling stones', 'the rolling stones', 'the rolling stones', 'elvis presley', 'the rolling stones', 'elvis presley', 'elvis presley', 'elvis presley', 'elvis presley', 'elvis presley', 'the rolling stones', 'the rolling stones', 'the rolling stones', 'elvis presley', 'the rolling stones', 'the rolling stones', 'elvis presley', 'elvis presley', 'the rolling stones', 'the rolling stones', 'the rolling stones', 'the rolling stones', 'elvis presley', 'elvis presley', 'elvis presley', 'the rolling stones', 'the rolling stones', 'elvis presley', 'the rolling stones', 'the rolling stones', 'the rolling stones', 'elvis presley', 'the rolling stones', 'elvis presley', 'the rolling stones', 'elvis presley', 'elvis costello', 'the rolling stones', 'elvis presley', 'elvis presley', 'elvis presley', 'the rolling stones', 'elvis presley', 'elvis presley', 'elvis presley', 'elvis presley', 'elvis presley', 'the rolling stones', 'the rolling stones', 'elvis presley', 'elvis presley', 'the rolling stones', 'elvis presley', 'the rolling stones', 'the rolling stones', 'elvis presley', 'the rolling stones', 'elvis presley', 'elvis presley', 'elvis presley', 'elvis presley', 'elvis presley', 'elvis presley', 'elvis presley', 'elvis presley', 'the rolling stones', 'elvis presley', 'elvis presley', 'the rolling stones', 'elvis presley', 'the rolling stones', 'elvis presley', 'elvis presley', 'elvis presley', 'elvis presley', 'the rolling stones', 'elvis presley', 'elvis presley', 'the rolling stones', 'elvis presley', 'elvis presley', 'the rolling stones', 'elvis presley', 'elvis costello', 'elvis presley', 'elvis presley', 'the rolling stones', 'elvis presley', 'elvis presley', 'the rolling stones', 'elvis presley', 'elvis presley', 'the rolling stones', 'elvis presley', 'the rolling stones', 'elvis presley', 'elvis presley', 'elvis costello', 'the rolling stones', 'elvis presley', 'the rolling stones', 'the rolling stones', 'elvis presley', 'the rolling stones', 'the rolling stones', 'elvis costello', 'elvis presley', 'elvis presley', 'elvis presley', 'elvis presley', 'the rolling stones', 'the rolling stones', 'elvis presley', 'the rolling stones', 'elvis presley', 'the rolling stones', 'elvis presley', 'the rolling stones', 'elvis presley', 'the rolling stones', 'the rolling stones', 'the rolling stones', 'the rolling stones', 'elvis presley', 'elvis presley', 'elvis presley', 'elvis presley', 'elvis presley', 'the rolling stones', 'elvis presley', 'the rolling stones', 'the rolling stones', 'elvis presley', 'the rolling stones', 'the rolling stones', 'elvis presley', 'elvis presley', 'elvis presley', 'elvis presley', 'the rolling stones', 'elvis presley', 'the rolling stones', 'the rolling stones', 'elvis presley', 'elvis presley', 'elvis presley', 'elvis presley', 'elvis presley', 'elvis presley', 'elvis presley', 'the rolling stones', 'elvis presley', 'elvis presley', 'the rolling stones', 'the rolling stones', 'elvis presley', 'elvis presley', 'elvis presley', 'elvis presley', 'the rolling stones', 'the rolling stones', 'elvis presley', 'elvis presley', 'elvis presley', 'elvis presley', 'the rolling stones', 'the rolling stones', 'elvis presley', 'elvis presley', 'the rolling stones', 'the rolling stones', 'elvis presley', 'the rolling stones', 'elvis presley', 'the rolling stones', 'the rolling stones', 'the rolling stones', 'the rolling stones', 'the rolling stones', 'the rolling stones', 'the rolling stones', 'elvis presley', 'elvis presley', 'elvis presley', 'the rolling stones', 'the rolling stones', 'elvis presley', 'elvis presley', 'the rolling stones', 'elvis presley', 'the rolling stones', 'the rolling stones', 'elvis presley', 'the rolling stones', 'the rolling stones', 'the rolling stones', 'elvis presley', 'the rolling stones', 'elvis presley', 'the rolling stones', 'the rolling stones', 'the rolling stones', 'the rolling stones', 'elvis presley', 'elvis presley', 'the rolling stones', 'the rolling stones', 'the rolling stones', 'elvis presley', 'elvis presley', 'elvis presley', 'elvis presley', 'elvis presley', 'elvis presley', 'elvis presley', 'elvis presley', 'the rolling stones', 'elvis presley', 'elvis presley', 'the rolling stones', 'elvis presley', 'elvis presley', 'elvis presley', 'the rolling stones', 'the rolling stones', 'the rolling stones', 'elvis presley', 'elvis presley', 'elvis presley', 'elvis presley', 'elvis presley', 'elvis presley', 'elvis presley', 'elvis costello', 'elvis presley', 'elvis presley', 'the rolling stones', 'the rolling stones', 'elvis presley', 'elvis presley', 'the rolling stones', 'the rolling stones', 'elvis presley', 'elvis presley', 'elvis presley', 'elvis presley', 'elvis presley', 'the rolling stones', 'the rolling stones', 'elvis costello', 'the rolling stones', 'the rolling stones', 'elvis presley', 'elvis presley', 'elvis presley', 'elvis presley', 'elvis presley', 'the rolling stones', 'elvis presley', 'elvis presley', 'elvis presley', 'elvis presley', 'the rolling stones', 'the rolling stones', 'the rolling stones', 'the rolling stones', 'the rolling stones', 'elvis presley', 'elvis presley', 'the rolling stones', 'elvis presley', 'elvis presley', 'elvis presley', 'elvis presley', 'elvis presley', 'the rolling stones', 'the rolling stones', 'elvis presley', 'the rolling stones', 'elvis presley', 'the rolling stones', 'elvis presley', 'the rolling stones', 'elvis presley', 'the rolling stones', 'the rolling stones', 'the rolling stones', 'elvis presley', 'the rolling stones', 'elvis costello', 'elvis presley', 'the rolling stones', 'the rolling stones', 'elvis presley', 'the rolling stones', 'elvis presley', 'the rolling stones', 'elvis presley', 'the rolling stones', 'the rolling stones', 'the rolling stones', 'elvis presley', 'elvis presley', 'elvis presley', 'elvis presley', 'elvis presley', 'the rolling stones', 'elvis presley', 'elvis presley', 'elvis presley', 'elvis presley', 'the rolling stones', 'elvis presley', 'the rolling stones', 'elvis presley', 'elvis presley', 'the rolling stones', 'elvis presley', 'elvis presley', 'the rolling stones', 'elvis presley', 'the rolling stones', 'the rolling stones', 'elvis presley', 'the rolling stones', 'the rolling stones', 'elvis presley', 'elvis presley', 'elvis presley', 'the rolling stones', 'elvis presley', 'elvis presley', 'elvis presley', 'the rolling stones', 'elvis presley', 'the rolling stones', 'elvis presley', 'elvis presley', 'the rolling stones', 'the rolling stones', 'the rolling stones', 'elvis presley', 'elvis presley', 'the rolling stones', 'the rolling stones', 'elvis presley', 'the rolling stones', 'the rolling stones', 'the rolling stones', 'elvis presley', 'the rolling stones', 'elvis presley', 'elvis presley', 'the rolling stones', 'elvis presley', 'the rolling stones', 'the rolling stones', 'elvis presley', 'the rolling stones', 'the rolling stones', 'the rolling stones', 'the rolling stones', 'elvis presley', 'the rolling stones', 'the rolling stones', 'elvis presley', 'the rolling stones', 'elvis presley', 'the rolling stones', 'the rolling stones', 'the rolling stones', 'the rolling stones', 'the rolling stones']\n"
     ]
    }
   ],
   "source": [
    "prediction = lstm_model01.predict(X_val)\n",
    "\n",
    "labels = ['bad religion', 'bee gees', 'beyonce', 'chris brown', 'ella fitzgerald', 'elton john', 'elvis costello', 'elvis presley', 'glee', 'the rolling stones']\n",
    "print(prediction)\n",
    "pred_str = []\n",
    "for i in range(928):\n",
    "  pred_str.append(labels[np.argmax(prediction[i])])\n",
    "print(pred_str)"
   ]
  },
  {
   "cell_type": "code",
   "execution_count": 97,
   "metadata": {
    "colab": {
     "base_uri": "https://localhost:8080/"
    },
    "executionInfo": {
     "elapsed": 510,
     "status": "ok",
     "timestamp": 1620044864469,
     "user": {
      "displayName": "Lan Zeng",
      "photoUrl": "",
      "userId": "17725825206879958125"
     },
     "user_tz": -60
    },
    "id": "fRCMDYOFMcqV",
    "outputId": "d93a6eef-a10c-4661-994e-e559921dea27"
   },
   "outputs": [
    {
     "name": "stdout",
     "output_type": "stream",
     "text": [
      "[['elton john' '2']\n",
      " ['elvis costello' '13']\n",
      " ['elvis presley' '495']\n",
      " ['the rolling stones' '418']]\n"
     ]
    }
   ],
   "source": [
    "(unique, counts) = np.unique(pred_str, return_counts=True)\n",
    "frequencies = np.asarray((unique, counts)).T\n",
    "\n",
    "print(frequencies)"
   ]
  },
  {
   "cell_type": "markdown",
   "metadata": {
    "id": "iLr5cyIHMtmn"
   },
   "source": [
    "# Try to only maintain the earlier layers"
   ]
  },
  {
   "cell_type": "code",
   "execution_count": 140,
   "metadata": {
    "executionInfo": {
     "elapsed": 922,
     "status": "ok",
     "timestamp": 1620047385525,
     "user": {
      "displayName": "Lan Zeng",
      "photoUrl": "",
      "userId": "17725825206879958125"
     },
     "user_tz": -60
    },
    "id": "qlrs-_fSO_9G"
   },
   "outputs": [],
   "source": [
    "from tensorflow.keras.models import load_model\n",
    "\n",
    "lstm_model_01 = keras.models.load_model('/content/drive/MyDrive/Colab Notebooks/lstm_epoch10.h5')"
   ]
  },
  {
   "cell_type": "code",
   "execution_count": 141,
   "metadata": {
    "colab": {
     "base_uri": "https://localhost:8080/"
    },
    "executionInfo": {
     "elapsed": 484,
     "status": "ok",
     "timestamp": 1620047388133,
     "user": {
      "displayName": "Lan Zeng",
      "photoUrl": "",
      "userId": "17725825206879958125"
     },
     "user_tz": -60
    },
    "id": "WZQCl7J-Qf3e",
    "outputId": "6c1240b0-c4d2-47e6-d138-1094a0ce17a1"
   },
   "outputs": [
    {
     "data": {
      "text/plain": [
       "[<tensorflow.python.keras.layers.embeddings.Embedding at 0x7efe804bc5d0>,\n",
       " <tensorflow.python.keras.layers.recurrent_v2.LSTM at 0x7efe804bc590>,\n",
       " <tensorflow.python.keras.layers.core.Dense at 0x7efe80667690>]"
      ]
     },
     "execution_count": 141,
     "metadata": {
      "tags": []
     },
     "output_type": "execute_result"
    }
   ],
   "source": [
    "lstm_model_01.layers"
   ]
  },
  {
   "cell_type": "code",
   "execution_count": 142,
   "metadata": {
    "executionInfo": {
     "elapsed": 524,
     "status": "ok",
     "timestamp": 1620047401315,
     "user": {
      "displayName": "Lan Zeng",
      "photoUrl": "",
      "userId": "17725825206879958125"
     },
     "user_tz": -60
    },
    "id": "rm0XT8MEPXK_"
   },
   "outputs": [],
   "source": [
    "lstm_model_01.layers[0].trainable = False\n",
    "lstm_model_01.layers[1].trainable = False\n",
    "lstm_model_01.layers[2].trainable = True"
   ]
  },
  {
   "cell_type": "code",
   "execution_count": 143,
   "metadata": {
    "colab": {
     "base_uri": "https://localhost:8080/"
    },
    "executionInfo": {
     "elapsed": 471,
     "status": "ok",
     "timestamp": 1620047407352,
     "user": {
      "displayName": "Lan Zeng",
      "photoUrl": "",
      "userId": "17725825206879958125"
     },
     "user_tz": -60
    },
    "id": "DqtHQ6nXRE_t",
    "outputId": "69ee57f5-0181-4954-f70c-403f9df5384d"
   },
   "outputs": [
    {
     "name": "stdout",
     "output_type": "stream",
     "text": [
      "Model: \"sequential_3\"\n",
      "_________________________________________________________________\n",
      "Layer (type)                 Output Shape              Param #   \n",
      "=================================================================\n",
      "embedding_3 (Embedding)      (None, 500, 50)           250000    \n",
      "_________________________________________________________________\n",
      "lstm_3 (LSTM)                (None, 128)               91648     \n",
      "_________________________________________________________________\n",
      "dense_3 (Dense)              (None, 10)                1290      \n",
      "=================================================================\n",
      "Total params: 342,938\n",
      "Trainable params: 1,290\n",
      "Non-trainable params: 341,648\n",
      "_________________________________________________________________\n"
     ]
    }
   ],
   "source": [
    "lstm_model_01.summary()"
   ]
  },
  {
   "cell_type": "code",
   "execution_count": 144,
   "metadata": {
    "colab": {
     "base_uri": "https://localhost:8080/"
    },
    "executionInfo": {
     "elapsed": 490,
     "status": "ok",
     "timestamp": 1620047415563,
     "user": {
      "displayName": "Lan Zeng",
      "photoUrl": "",
      "userId": "17725825206879958125"
     },
     "user_tz": -60
    },
    "id": "8SDOqTj3Sauw",
    "outputId": "125b8094-b0ac-4a0b-f33a-a683695f8fe1"
   },
   "outputs": [
    {
     "data": {
      "text/plain": [
       "2"
      ]
     },
     "execution_count": 144,
     "metadata": {
      "tags": []
     },
     "output_type": "execute_result"
    }
   ],
   "source": [
    "len(lstm_model_01.trainable_variables)"
   ]
  },
  {
   "cell_type": "code",
   "execution_count": 145,
   "metadata": {
    "colab": {
     "base_uri": "https://localhost:8080/"
    },
    "executionInfo": {
     "elapsed": 141318,
     "status": "ok",
     "timestamp": 1620047570795,
     "user": {
      "displayName": "Lan Zeng",
      "photoUrl": "",
      "userId": "17725825206879958125"
     },
     "user_tz": -60
    },
    "id": "40MUbRS7Si-E",
    "outputId": "b2bad47a-ca20-4691-a3b8-d1fa1cb83b28"
   },
   "outputs": [
    {
     "name": "stdout",
     "output_type": "stream",
     "text": [
      "Epoch 1/10\n",
      "  2/261 [..............................] - ETA: 15s - loss: 3.9018 - accuracy: 0.0781"
     ]
    },
    {
     "name": "stderr",
     "output_type": "stream",
     "text": [
      "/usr/local/lib/python3.7/dist-packages/tensorflow/python/data/ops/dataset_ops.py:3504: UserWarning: Even though the tf.config.experimental_run_functions_eagerly option is set, this option does not apply to tf.data functions. tf.data functions are still traced and executed as graphs.\n",
      "  \"Even though the tf.config.experimental_run_functions_eagerly \"\n"
     ]
    },
    {
     "name": "stdout",
     "output_type": "stream",
     "text": [
      "261/261 [==============================] - 14s 54ms/step - loss: 2.1786 - accuracy: 0.2433 - val_loss: 1.9982 - val_accuracy: 0.2608\n",
      "Epoch 2/10\n",
      "261/261 [==============================] - 14s 53ms/step - loss: 1.9005 - accuracy: 0.3079 - val_loss: 1.8445 - val_accuracy: 0.3093\n",
      "Epoch 3/10\n",
      "261/261 [==============================] - 14s 54ms/step - loss: 1.7337 - accuracy: 0.3723 - val_loss: 1.7262 - val_accuracy: 0.3653\n",
      "Epoch 4/10\n",
      "261/261 [==============================] - 14s 54ms/step - loss: 1.5678 - accuracy: 0.4420 - val_loss: 1.6050 - val_accuracy: 0.4375\n",
      "Epoch 5/10\n",
      "261/261 [==============================] - 14s 54ms/step - loss: 1.3605 - accuracy: 0.5275 - val_loss: 1.5064 - val_accuracy: 0.4752\n",
      "Epoch 6/10\n",
      "261/261 [==============================] - 14s 53ms/step - loss: 1.1943 - accuracy: 0.5825 - val_loss: 1.4150 - val_accuracy: 0.5183\n",
      "Epoch 7/10\n",
      "261/261 [==============================] - 14s 54ms/step - loss: 1.0645 - accuracy: 0.6293 - val_loss: 1.3508 - val_accuracy: 0.5312\n",
      "Epoch 8/10\n",
      "261/261 [==============================] - 14s 54ms/step - loss: 0.9589 - accuracy: 0.6710 - val_loss: 1.2904 - val_accuracy: 0.5690\n",
      "Epoch 9/10\n",
      "261/261 [==============================] - 14s 54ms/step - loss: 0.8132 - accuracy: 0.7345 - val_loss: 1.2773 - val_accuracy: 0.5970\n",
      "Epoch 10/10\n",
      "261/261 [==============================] - 14s 54ms/step - loss: 0.7419 - accuracy: 0.7604 - val_loss: 1.2786 - val_accuracy: 0.6131\n",
      "Epoch 00010: early stopping\n"
     ]
    }
   ],
   "source": [
    "from keras.callbacks import EarlyStopping\n",
    "es = EarlyStopping(monitor='val_loss', mode='min', verbose=1)\n",
    "lstm_model_01_retrain = lstm_model_01.fit(X_train, dummy_y_train, epochs = 10, validation_data=(X_val, dummy_y_val), callbacks=[es])\n"
   ]
  },
  {
   "cell_type": "code",
   "execution_count": 160,
   "metadata": {
    "executionInfo": {
     "elapsed": 870,
     "status": "ok",
     "timestamp": 1620048013055,
     "user": {
      "displayName": "Lan Zeng",
      "photoUrl": "",
      "userId": "17725825206879958125"
     },
     "user_tz": -60
    },
    "id": "rnhibhMbYeWQ"
   },
   "outputs": [],
   "source": [
    "#!pip install -q pyyaml h5py\n",
    "#from tensorflow.keras.models import load_model\n",
    "# save it as a h5 file\n",
    "\n",
    "lstm_model_01.save('tl_lstm_retrain_outputlayer.h5')"
   ]
  },
  {
   "cell_type": "code",
   "execution_count": 147,
   "metadata": {
    "colab": {
     "base_uri": "https://localhost:8080/"
    },
    "executionInfo": {
     "elapsed": 5802,
     "status": "ok",
     "timestamp": 1620047717175,
     "user": {
      "displayName": "Lan Zeng",
      "photoUrl": "",
      "userId": "17725825206879958125"
     },
     "user_tz": -60
    },
    "id": "EQPSAvqATVyB",
    "outputId": "c4f7f79f-ff83-419f-ad28-c8a8833084a6"
   },
   "outputs": [
    {
     "name": "stderr",
     "output_type": "stream",
     "text": [
      "/usr/local/lib/python3.7/dist-packages/tensorflow/python/data/ops/dataset_ops.py:3504: UserWarning: Even though the tf.config.experimental_run_functions_eagerly option is set, this option does not apply to tf.data functions. tf.data functions are still traced and executed as graphs.\n",
      "  \"Even though the tf.config.experimental_run_functions_eagerly \"\n"
     ]
    },
    {
     "name": "stdout",
     "output_type": "stream",
     "text": [
      "Training datset Accuracy:  0.7983\n",
      "Validation dataset Accuracy:  0.6131\n"
     ]
    }
   ],
   "source": [
    "loss, accuracy = lstm_model_01.evaluate(X_train, dummy_y_train, verbose=False)\n",
    "print(\"Training datset Accuracy:  {:.4f}\".format(accuracy))\n",
    "\n",
    "loss, accuracy = lstm_model_01.evaluate(X_val, dummy_y_val, verbose=False)\n",
    "print(\"Validation dataset Accuracy:  {:.4f}\".format(accuracy))"
   ]
  },
  {
   "cell_type": "code",
   "execution_count": 149,
   "metadata": {
    "colab": {
     "base_uri": "https://localhost:8080/"
    },
    "executionInfo": {
     "elapsed": 818,
     "status": "ok",
     "timestamp": 1620047748493,
     "user": {
      "displayName": "Lan Zeng",
      "photoUrl": "",
      "userId": "17725825206879958125"
     },
     "user_tz": -60
    },
    "id": "wg0O-BPCUqw5",
    "outputId": "014a501f-910f-4c90-d630-3b81e77208bf"
   },
   "outputs": [
    {
     "name": "stderr",
     "output_type": "stream",
     "text": [
      "/usr/local/lib/python3.7/dist-packages/tensorflow/python/data/ops/dataset_ops.py:3504: UserWarning: Even though the tf.config.experimental_run_functions_eagerly option is set, this option does not apply to tf.data functions. tf.data functions are still traced and executed as graphs.\n",
      "  \"Even though the tf.config.experimental_run_functions_eagerly \"\n"
     ]
    },
    {
     "name": "stdout",
     "output_type": "stream",
     "text": [
      "[[4.0310947e-08 1.0626002e-03 5.1114574e-04 ... 2.8353941e-04\n",
      "  3.9877733e-03 9.9330005e-05]\n",
      " [1.5151561e-07 2.2043481e-03 3.7464320e-03 ... 3.7687592e-04\n",
      "  1.4893797e-02 3.0332099e-04]\n",
      " [1.7483757e-05 5.0399058e-02 1.2316357e-04 ... 2.6457304e-02\n",
      "  1.1004750e-02 2.6981957e-02]\n",
      " ...\n",
      " [1.5409046e-04 5.0451541e-01 3.1920446e-03 ... 1.4911015e-02\n",
      "  3.0644330e-01 1.1041155e-01]\n",
      " [2.3802754e-03 3.8881380e-02 1.8925913e-02 ... 2.5513798e-01\n",
      "  2.9713986e-02 2.5159049e-01]\n",
      " [9.7437322e-01 3.3022853e-04 3.9736042e-03 ... 3.9911043e-04\n",
      "  8.1629178e-04 3.6018042e-04]]\n",
      "['chris brown', 'chris brown', 'elvis costello', 'elton john', 'glee', 'bad religion', 'elvis presley', 'elton john', 'elvis presley', 'bee gees', 'elvis presley', 'elvis presley', 'chris brown', 'ella fitzgerald', 'bee gees', 'chris brown', 'ella fitzgerald', 'elton john', 'beyonce', 'ella fitzgerald', 'bad religion', 'the rolling stones', 'elvis costello', 'ella fitzgerald', 'the rolling stones', 'the rolling stones', 'elvis presley', 'bad religion', 'glee', 'chris brown', 'bee gees', 'elvis costello', 'beyonce', 'chris brown', 'ella fitzgerald', 'bee gees', 'bad religion', 'the rolling stones', 'elvis costello', 'the rolling stones', 'elvis presley', 'glee', 'beyonce', 'elvis presley', 'elvis costello', 'bee gees', 'ella fitzgerald', 'bad religion', 'elvis presley', 'bee gees', 'elvis costello', 'elvis costello', 'ella fitzgerald', 'bee gees', 'elvis presley', 'elvis presley', 'elvis presley', 'ella fitzgerald', 'bee gees', 'elvis costello', 'beyonce', 'bad religion', 'elvis costello', 'elvis costello', 'ella fitzgerald', 'elvis costello', 'bad religion', 'elvis costello', 'bee gees', 'ella fitzgerald', 'ella fitzgerald', 'bad religion', 'elton john', 'chris brown', 'chris brown', 'beyonce', 'ella fitzgerald', 'chris brown', 'bad religion', 'elvis presley', 'glee', 'elvis costello', 'ella fitzgerald', 'ella fitzgerald', 'the rolling stones', 'elvis presley', 'elvis presley', 'elton john', 'elvis presley', 'beyonce', 'elvis presley', 'chris brown', 'bee gees', 'chris brown', 'elvis presley', 'bee gees', 'elvis costello', 'bad religion', 'elvis costello', 'the rolling stones', 'ella fitzgerald', 'the rolling stones', 'elvis costello', 'elvis costello', 'elvis costello', 'the rolling stones', 'elvis presley', 'elvis presley', 'bad religion', 'the rolling stones', 'bee gees', 'elvis costello', 'elvis costello', 'elvis presley', 'elvis costello', 'ella fitzgerald', 'elvis costello', 'elvis costello', 'elvis costello', 'elvis costello', 'bee gees', 'the rolling stones', 'elton john', 'ella fitzgerald', 'bad religion', 'elton john', 'elvis presley', 'elvis presley', 'bee gees', 'elvis presley', 'bee gees', 'elton john', 'elvis presley', 'elvis presley', 'chris brown', 'elvis presley', 'bee gees', 'the rolling stones', 'bee gees', 'elvis presley', 'bee gees', 'bee gees', 'elvis presley', 'the rolling stones', 'elvis costello', 'ella fitzgerald', 'chris brown', 'elvis costello', 'elvis presley', 'chris brown', 'ella fitzgerald', 'elvis presley', 'the rolling stones', 'elton john', 'elvis presley', 'elvis presley', 'elvis presley', 'chris brown', 'chris brown', 'the rolling stones', 'the rolling stones', 'beyonce', 'elvis presley', 'glee', 'elvis presley', 'bee gees', 'elton john', 'elvis presley', 'elvis costello', 'elvis costello', 'chris brown', 'elvis presley', 'the rolling stones', 'beyonce', 'chris brown', 'bad religion', 'elvis presley', 'elvis presley', 'chris brown', 'the rolling stones', 'elvis costello', 'the rolling stones', 'the rolling stones', 'elvis presley', 'chris brown', 'elvis costello', 'chris brown', 'bee gees', 'elton john', 'elvis costello', 'elton john', 'the rolling stones', 'the rolling stones', 'bee gees', 'elvis presley', 'chris brown', 'bad religion', 'bee gees', 'beyonce', 'chris brown', 'ella fitzgerald', 'bad religion', 'elvis costello', 'elvis costello', 'elton john', 'elvis presley', 'bad religion', 'bad religion', 'beyonce', 'the rolling stones', 'bad religion', 'elvis presley', 'elvis presley', 'beyonce', 'beyonce', 'beyonce', 'beyonce', 'beyonce', 'ella fitzgerald', 'chris brown', 'elvis costello', 'elvis presley', 'chris brown', 'elvis costello', 'bad religion', 'elvis costello', 'elvis presley', 'ella fitzgerald', 'elvis presley', 'elvis presley', 'elvis presley', 'bee gees', 'chris brown', 'glee', 'the rolling stones', 'the rolling stones', 'elvis presley', 'chris brown', 'elvis presley', 'elton john', 'the rolling stones', 'ella fitzgerald', 'beyonce', 'elvis presley', 'bad religion', 'chris brown', 'elton john', 'bee gees', 'bee gees', 'beyonce', 'the rolling stones', 'chris brown', 'bee gees', 'bee gees', 'the rolling stones', 'elvis costello', 'beyonce', 'elvis presley', 'glee', 'glee', 'elvis costello', 'the rolling stones', 'ella fitzgerald', 'chris brown', 'glee', 'ella fitzgerald', 'elvis presley', 'the rolling stones', 'elton john', 'elton john', 'beyonce', 'bad religion', 'beyonce', 'the rolling stones', 'glee', 'elvis presley', 'bad religion', 'elvis presley', 'elvis presley', 'elvis costello', 'the rolling stones', 'chris brown', 'the rolling stones', 'glee', 'chris brown', 'chris brown', 'elton john', 'elvis presley', 'the rolling stones', 'ella fitzgerald', 'bee gees', 'elton john', 'bee gees', 'glee', 'elton john', 'elvis presley', 'elvis costello', 'chris brown', 'ella fitzgerald', 'elvis presley', 'elton john', 'beyonce', 'elvis presley', 'elvis presley', 'bee gees', 'elton john', 'elvis presley', 'chris brown', 'elvis costello', 'elvis costello', 'elvis presley', 'bee gees', 'elvis costello', 'elvis costello', 'the rolling stones', 'elton john', 'elvis costello', 'elvis costello', 'beyonce', 'elvis presley', 'elvis costello', 'chris brown', 'the rolling stones', 'the rolling stones', 'bad religion', 'glee', 'bad religion', 'elvis presley', 'bee gees', 'elton john', 'elvis costello', 'bad religion', 'ella fitzgerald', 'elvis costello', 'ella fitzgerald', 'elvis presley', 'chris brown', 'beyonce', 'elvis presley', 'chris brown', 'beyonce', 'ella fitzgerald', 'bee gees', 'ella fitzgerald', 'beyonce', 'chris brown', 'chris brown', 'chris brown', 'elvis presley', 'elvis costello', 'elvis presley', 'bee gees', 'chris brown', 'elvis presley', 'elvis presley', 'chris brown', 'elton john', 'the rolling stones', 'elton john', 'elvis presley', 'elvis costello', 'elton john', 'the rolling stones', 'beyonce', 'chris brown', 'ella fitzgerald', 'beyonce', 'bad religion', 'ella fitzgerald', 'beyonce', 'elvis presley', 'the rolling stones', 'bee gees', 'elvis costello', 'elton john', 'chris brown', 'elvis costello', 'elvis costello', 'elton john', 'elvis presley', 'bad religion', 'elvis presley', 'chris brown', 'the rolling stones', 'beyonce', 'elvis costello', 'elton john', 'bee gees', 'elton john', 'beyonce', 'elvis costello', 'elvis costello', 'ella fitzgerald', 'elvis presley', 'ella fitzgerald', 'elvis presley', 'bad religion', 'chris brown', 'bad religion', 'elton john', 'bad religion', 'elvis presley', 'chris brown', 'beyonce', 'the rolling stones', 'elvis presley', 'chris brown', 'bee gees', 'beyonce', 'bee gees', 'elvis costello', 'elvis presley', 'the rolling stones', 'beyonce', 'elvis presley', 'elton john', 'glee', 'elvis presley', 'elvis costello', 'elvis costello', 'the rolling stones', 'elvis presley', 'elvis presley', 'elvis costello', 'elvis costello', 'elvis presley', 'elvis presley', 'ella fitzgerald', 'bad religion', 'elvis costello', 'bee gees', 'ella fitzgerald', 'elvis presley', 'the rolling stones', 'chris brown', 'beyonce', 'elvis costello', 'beyonce', 'chris brown', 'elvis presley', 'the rolling stones', 'bee gees', 'elton john', 'chris brown', 'the rolling stones', 'the rolling stones', 'the rolling stones', 'elvis presley', 'ella fitzgerald', 'the rolling stones', 'elvis presley', 'the rolling stones', 'elvis costello', 'elvis presley', 'bad religion', 'chris brown', 'elton john', 'glee', 'elvis costello', 'ella fitzgerald', 'elton john', 'elvis costello', 'elvis costello', 'chris brown', 'bad religion', 'elvis presley', 'the rolling stones', 'elvis presley', 'chris brown', 'bad religion', 'chris brown', 'beyonce', 'chris brown', 'chris brown', 'elton john', 'bad religion', 'elvis presley', 'beyonce', 'elvis costello', 'elvis costello', 'the rolling stones', 'elvis costello', 'chris brown', 'bee gees', 'the rolling stones', 'beyonce', 'the rolling stones', 'bad religion', 'the rolling stones', 'ella fitzgerald', 'elvis presley', 'ella fitzgerald', 'the rolling stones', 'elton john', 'ella fitzgerald', 'elvis presley', 'elvis presley', 'beyonce', 'bee gees', 'glee', 'beyonce', 'elvis presley', 'bee gees', 'chris brown', 'beyonce', 'elvis presley', 'bee gees', 'elvis presley', 'the rolling stones', 'glee', 'elvis costello', 'chris brown', 'elvis presley', 'beyonce', 'beyonce', 'elvis presley', 'elvis presley', 'chris brown', 'the rolling stones', 'bad religion', 'elton john', 'elvis presley', 'bee gees', 'glee', 'elvis presley', 'chris brown', 'elvis presley', 'elvis presley', 'elvis costello', 'glee', 'ella fitzgerald', 'bee gees', 'chris brown', 'elvis presley', 'elton john', 'elvis costello', 'ella fitzgerald', 'elvis costello', 'elton john', 'elton john', 'chris brown', 'elvis costello', 'chris brown', 'bee gees', 'elvis presley', 'elvis presley', 'the rolling stones', 'ella fitzgerald', 'elvis costello', 'bad religion', 'ella fitzgerald', 'bee gees', 'bad religion', 'bad religion', 'chris brown', 'the rolling stones', 'bad religion', 'elvis presley', 'glee', 'elvis presley', 'bee gees', 'chris brown', 'elvis costello', 'elton john', 'bee gees', 'elton john', 'elvis presley', 'elton john', 'glee', 'the rolling stones', 'bad religion', 'chris brown', 'chris brown', 'elton john', 'elton john', 'bee gees', 'the rolling stones', 'elvis presley', 'ella fitzgerald', 'elton john', 'beyonce', 'elvis costello', 'elvis costello', 'ella fitzgerald', 'elvis presley', 'elvis presley', 'elvis presley', 'elton john', 'the rolling stones', 'bad religion', 'chris brown', 'chris brown', 'the rolling stones', 'elton john', 'beyonce', 'elvis costello', 'elvis presley', 'beyonce', 'bee gees', 'glee', 'elvis presley', 'elvis presley', 'beyonce', 'glee', 'bee gees', 'elvis presley', 'glee', 'elvis costello', 'elvis costello', 'bad religion', 'elton john', 'bee gees', 'beyonce', 'bee gees', 'chris brown', 'bee gees', 'beyonce', 'glee', 'elvis presley', 'bad religion', 'elvis costello', 'chris brown', 'beyonce', 'bad religion', 'bee gees', 'bee gees', 'elvis costello', 'chris brown', 'elvis costello', 'chris brown', 'the rolling stones', 'bee gees', 'elton john', 'elvis presley', 'chris brown', 'bad religion', 'elvis costello', 'elvis presley', 'elvis presley', 'bee gees', 'elvis costello', 'chris brown', 'elvis costello', 'the rolling stones', 'ella fitzgerald', 'elvis presley', 'beyonce', 'elvis costello', 'elvis costello', 'beyonce', 'elvis presley', 'bee gees', 'elvis presley', 'elvis costello', 'chris brown', 'chris brown', 'bee gees', 'chris brown', 'elvis presley', 'the rolling stones', 'elton john', 'elvis costello', 'beyonce', 'bad religion', 'elvis presley', 'elvis presley', 'glee', 'the rolling stones', 'ella fitzgerald', 'beyonce', 'elvis presley', 'elvis presley', 'elvis presley', 'chris brown', 'elvis presley', 'elvis presley', 'elvis presley', 'elvis presley', 'the rolling stones', 'chris brown', 'beyonce', 'elvis costello', 'chris brown', 'elton john', 'bee gees', 'bad religion', 'elvis presley', 'beyonce', 'ella fitzgerald', 'glee', 'elvis costello', 'beyonce', 'chris brown', 'chris brown', 'bad religion', 'beyonce', 'elvis presley', 'the rolling stones', 'chris brown', 'glee', 'beyonce', 'bad religion', 'glee', 'chris brown', 'chris brown', 'elvis costello', 'ella fitzgerald', 'the rolling stones', 'ella fitzgerald', 'elvis costello', 'elvis presley', 'elvis costello', 'bad religion', 'ella fitzgerald', 'bad religion', 'elvis presley', 'bee gees', 'bee gees', 'chris brown', 'bee gees', 'elvis presley', 'the rolling stones', 'beyonce', 'bee gees', 'elton john', 'elvis costello', 'chris brown', 'the rolling stones', 'chris brown', 'chris brown', 'ella fitzgerald', 'elvis presley', 'bad religion', 'elton john', 'elvis presley', 'elvis costello', 'elvis presley', 'elvis presley', 'ella fitzgerald', 'ella fitzgerald', 'elvis presley', 'elton john', 'elvis presley', 'the rolling stones', 'chris brown', 'bad religion', 'ella fitzgerald', 'chris brown', 'beyonce', 'chris brown', 'beyonce', 'chris brown', 'the rolling stones', 'elvis costello', 'elvis presley', 'elton john', 'elton john', 'elvis presley', 'bad religion', 'elvis costello', 'elvis presley', 'bee gees', 'elvis costello', 'chris brown', 'elton john', 'elvis costello', 'glee', 'chris brown', 'ella fitzgerald', 'bad religion', 'elton john', 'elvis costello', 'beyonce', 'elvis costello', 'ella fitzgerald', 'chris brown', 'glee', 'elvis costello', 'elvis presley', 'bad religion', 'elton john', 'elvis presley', 'elton john', 'glee', 'beyonce', 'chris brown', 'the rolling stones', 'chris brown', 'elvis presley', 'the rolling stones', 'bee gees', 'bad religion', 'glee', 'glee', 'bee gees', 'bee gees', 'elton john', 'bad religion', 'glee', 'elton john', 'glee', 'chris brown', 'ella fitzgerald', 'bad religion', 'glee', 'glee', 'bad religion', 'elvis presley', 'beyonce', 'elton john', 'the rolling stones', 'ella fitzgerald', 'bee gees', 'elvis presley', 'glee', 'ella fitzgerald', 'bee gees', 'elvis costello', 'elvis costello', 'elvis costello', 'elvis presley', 'elton john', 'elton john', 'elvis presley', 'bad religion', 'chris brown', 'elton john', 'bee gees', 'glee', 'bad religion', 'bad religion', 'bad religion', 'chris brown', 'elvis presley', 'elvis presley', 'the rolling stones', 'elvis costello', 'bad religion', 'bee gees', 'elvis presley', 'elton john', 'bad religion', 'beyonce', 'bad religion', 'beyonce', 'elvis costello', 'elvis presley', 'the rolling stones', 'beyonce', 'elvis costello', 'beyonce', 'the rolling stones', 'bad religion', 'elvis presley', 'elvis presley', 'chris brown', 'elvis costello', 'chris brown', 'elton john', 'bee gees', 'glee', 'the rolling stones', 'bee gees', 'bad religion', 'beyonce', 'elton john', 'elvis presley', 'elvis costello', 'ella fitzgerald', 'ella fitzgerald', 'elvis costello', 'bee gees', 'chris brown', 'chris brown', 'glee', 'bad religion', 'elton john', 'bee gees', 'elton john', 'the rolling stones', 'glee', 'glee', 'bee gees', 'elvis costello', 'bad religion', 'chris brown', 'beyonce', 'glee', 'elton john', 'chris brown', 'elvis costello', 'bee gees', 'chris brown', 'glee', 'elvis presley', 'elvis presley', 'the rolling stones', 'bad religion', 'ella fitzgerald', 'elton john', 'elvis presley', 'elvis presley', 'beyonce', 'chris brown', 'elvis costello', 'the rolling stones', 'glee', 'beyonce', 'bee gees', 'elvis presley', 'elvis presley', 'ella fitzgerald', 'bee gees', 'elvis costello', 'the rolling stones', 'elton john', 'elvis presley', 'beyonce', 'the rolling stones', 'chris brown', 'elvis presley', 'bad religion', 'chris brown', 'elvis presley', 'the rolling stones', 'bee gees', 'ella fitzgerald', 'bad religion']\n"
     ]
    }
   ],
   "source": [
    "prediction = lstm_model_01.predict(X_val)\n",
    "\n",
    "labels = ['bad religion', 'bee gees', 'beyonce', 'chris brown', 'ella fitzgerald', 'elton john', 'elvis costello', 'elvis presley', 'glee', 'the rolling stones']\n",
    "print(prediction)\n",
    "pred_str = []\n",
    "for i in range(928):\n",
    "  pred_str.append(labels[np.argmax(prediction[i])])\n",
    "print(pred_str)"
   ]
  },
  {
   "cell_type": "code",
   "execution_count": 150,
   "metadata": {
    "colab": {
     "base_uri": "https://localhost:8080/"
    },
    "executionInfo": {
     "elapsed": 479,
     "status": "ok",
     "timestamp": 1620047752398,
     "user": {
      "displayName": "Lan Zeng",
      "photoUrl": "",
      "userId": "17725825206879958125"
     },
     "user_tz": -60
    },
    "id": "HxNGVzsMUqw6",
    "outputId": "06d933d3-b2a9-4051-86e7-f8ceeca4ddc3"
   },
   "outputs": [
    {
     "name": "stdout",
     "output_type": "stream",
     "text": [
      "[['bad religion' '76']\n",
      " ['bee gees' '85']\n",
      " ['beyonce' '74']\n",
      " ['chris brown' '115']\n",
      " ['ella fitzgerald' '68']\n",
      " ['elton john' '77']\n",
      " ['elvis costello' '121']\n",
      " ['elvis presley' '176']\n",
      " ['glee' '47']\n",
      " ['the rolling stones' '89']]\n"
     ]
    }
   ],
   "source": [
    "(unique, counts) = np.unique(pred_str, return_counts=True)\n",
    "frequencies = np.asarray((unique, counts)).T\n",
    "\n",
    "print(frequencies)"
   ]
  },
  {
   "cell_type": "markdown",
   "metadata": {
    "id": "woJ5ijbDWG-_"
   },
   "source": [
    "### Try Making LSTM Layer training too"
   ]
  },
  {
   "cell_type": "code",
   "execution_count": 151,
   "metadata": {
    "executionInfo": {
     "elapsed": 816,
     "status": "ok",
     "timestamp": 1620047759622,
     "user": {
      "displayName": "Lan Zeng",
      "photoUrl": "",
      "userId": "17725825206879958125"
     },
     "user_tz": -60
    },
    "id": "orbxT8LkWrLL"
   },
   "outputs": [],
   "source": [
    "from tensorflow.keras.models import load_model\n",
    "\n",
    "lstm_model_02 = keras.models.load_model('/content/drive/MyDrive/Colab Notebooks/lstm_epoch10.h5')"
   ]
  },
  {
   "cell_type": "code",
   "execution_count": 152,
   "metadata": {
    "colab": {
     "base_uri": "https://localhost:8080/"
    },
    "executionInfo": {
     "elapsed": 495,
     "status": "ok",
     "timestamp": 1620047764533,
     "user": {
      "displayName": "Lan Zeng",
      "photoUrl": "",
      "userId": "17725825206879958125"
     },
     "user_tz": -60
    },
    "id": "k1PQ7vR-WrLX",
    "outputId": "ef008be3-bdf6-4439-c13a-dbb438b8e963"
   },
   "outputs": [
    {
     "data": {
      "text/plain": [
       "[<tensorflow.python.keras.layers.embeddings.Embedding at 0x7efe8a7d77d0>,\n",
       " <tensorflow.python.keras.layers.recurrent_v2.LSTM at 0x7efe804bc650>,\n",
       " <tensorflow.python.keras.layers.core.Dense at 0x7eff0eced210>]"
      ]
     },
     "execution_count": 152,
     "metadata": {
      "tags": []
     },
     "output_type": "execute_result"
    }
   ],
   "source": [
    "lstm_model_02.layers"
   ]
  },
  {
   "cell_type": "code",
   "execution_count": 153,
   "metadata": {
    "executionInfo": {
     "elapsed": 552,
     "status": "ok",
     "timestamp": 1620047766788,
     "user": {
      "displayName": "Lan Zeng",
      "photoUrl": "",
      "userId": "17725825206879958125"
     },
     "user_tz": -60
    },
    "id": "b0igneFoWrLY"
   },
   "outputs": [],
   "source": [
    "lstm_model_02.layers[0].trainable = False\n",
    "lstm_model_02.layers[1].trainable = True\n",
    "lstm_model_02.layers[2].trainable = True"
   ]
  },
  {
   "cell_type": "code",
   "execution_count": 154,
   "metadata": {
    "colab": {
     "base_uri": "https://localhost:8080/"
    },
    "executionInfo": {
     "elapsed": 473,
     "status": "ok",
     "timestamp": 1620047768213,
     "user": {
      "displayName": "Lan Zeng",
      "photoUrl": "",
      "userId": "17725825206879958125"
     },
     "user_tz": -60
    },
    "id": "VfzU2HW7WrLY",
    "outputId": "5bf75f65-b9ab-4689-9db9-6886f623fa6c"
   },
   "outputs": [
    {
     "name": "stdout",
     "output_type": "stream",
     "text": [
      "Model: \"sequential_3\"\n",
      "_________________________________________________________________\n",
      "Layer (type)                 Output Shape              Param #   \n",
      "=================================================================\n",
      "embedding_3 (Embedding)      (None, 500, 50)           250000    \n",
      "_________________________________________________________________\n",
      "lstm_3 (LSTM)                (None, 128)               91648     \n",
      "_________________________________________________________________\n",
      "dense_3 (Dense)              (None, 10)                1290      \n",
      "=================================================================\n",
      "Total params: 342,938\n",
      "Trainable params: 92,938\n",
      "Non-trainable params: 250,000\n",
      "_________________________________________________________________\n"
     ]
    }
   ],
   "source": [
    "lstm_model_02.summary()"
   ]
  },
  {
   "cell_type": "code",
   "execution_count": 155,
   "metadata": {
    "colab": {
     "base_uri": "https://localhost:8080/"
    },
    "executionInfo": {
     "elapsed": 472,
     "status": "ok",
     "timestamp": 1620047771282,
     "user": {
      "displayName": "Lan Zeng",
      "photoUrl": "",
      "userId": "17725825206879958125"
     },
     "user_tz": -60
    },
    "id": "OjuRcYBKWrLY",
    "outputId": "1f61e7cf-8a5a-432b-aa1e-7a929532fe9b"
   },
   "outputs": [
    {
     "data": {
      "text/plain": [
       "5"
      ]
     },
     "execution_count": 155,
     "metadata": {
      "tags": []
     },
     "output_type": "execute_result"
    }
   ],
   "source": [
    "len(lstm_model_02.trainable_variables)"
   ]
  },
  {
   "cell_type": "code",
   "execution_count": 156,
   "metadata": {
    "colab": {
     "base_uri": "https://localhost:8080/"
    },
    "executionInfo": {
     "elapsed": 40556,
     "status": "ok",
     "timestamp": 1620047815654,
     "user": {
      "displayName": "Lan Zeng",
      "photoUrl": "",
      "userId": "17725825206879958125"
     },
     "user_tz": -60
    },
    "id": "igwfvfjXWrLZ",
    "outputId": "ed438a53-0713-4c2e-9cfc-d147b6c2e751"
   },
   "outputs": [
    {
     "name": "stdout",
     "output_type": "stream",
     "text": [
      "Epoch 1/10\n",
      "  2/261 [..............................] - ETA: 14s - loss: 3.4999 - accuracy: 0.1406"
     ]
    },
    {
     "name": "stderr",
     "output_type": "stream",
     "text": [
      "/usr/local/lib/python3.7/dist-packages/tensorflow/python/data/ops/dataset_ops.py:3504: UserWarning: Even though the tf.config.experimental_run_functions_eagerly option is set, this option does not apply to tf.data functions. tf.data functions are still traced and executed as graphs.\n",
      "  \"Even though the tf.config.experimental_run_functions_eagerly \"\n"
     ]
    },
    {
     "name": "stdout",
     "output_type": "stream",
     "text": [
      "261/261 [==============================] - 13s 51ms/step - loss: 2.2020 - accuracy: 0.2419 - val_loss: 2.0650 - val_accuracy: 0.2123\n",
      "Epoch 2/10\n",
      "261/261 [==============================] - 13s 52ms/step - loss: 1.9244 - accuracy: 0.3045 - val_loss: 1.8455 - val_accuracy: 0.3136\n",
      "Epoch 3/10\n",
      "261/261 [==============================] - 13s 51ms/step - loss: 1.7825 - accuracy: 0.3696 - val_loss: 1.8930 - val_accuracy: 0.3168\n",
      "Epoch 00003: early stopping\n"
     ]
    }
   ],
   "source": [
    "from keras.callbacks import EarlyStopping\n",
    "es = EarlyStopping(monitor='val_loss', mode='min', verbose=1)\n",
    "lstm_model_002_retrain = lstm_model_02.fit(X_train, dummy_y_train, epochs = 10, validation_data=(X_val, dummy_y_val), callbacks=[es])\n"
   ]
  },
  {
   "cell_type": "code",
   "execution_count": 157,
   "metadata": {
    "colab": {
     "base_uri": "https://localhost:8080/"
    },
    "executionInfo": {
     "elapsed": 5986,
     "status": "ok",
     "timestamp": 1620047846362,
     "user": {
      "displayName": "Lan Zeng",
      "photoUrl": "",
      "userId": "17725825206879958125"
     },
     "user_tz": -60
    },
    "id": "Cg_-GaRtWrLZ",
    "outputId": "dd334d45-f810-4c96-cb21-0c3aa26ab962"
   },
   "outputs": [
    {
     "name": "stderr",
     "output_type": "stream",
     "text": [
      "/usr/local/lib/python3.7/dist-packages/tensorflow/python/data/ops/dataset_ops.py:3504: UserWarning: Even though the tf.config.experimental_run_functions_eagerly option is set, this option does not apply to tf.data functions. tf.data functions are still traced and executed as graphs.\n",
      "  \"Even though the tf.config.experimental_run_functions_eagerly \"\n"
     ]
    },
    {
     "name": "stdout",
     "output_type": "stream",
     "text": [
      "Training datset Accuracy:  0.3489\n",
      "Validation dataset Accuracy:  0.3168\n"
     ]
    }
   ],
   "source": [
    "loss, accuracy = lstm_model_02.evaluate(X_train, dummy_y_train, verbose=False)\n",
    "print(\"Training datset Accuracy:  {:.4f}\".format(accuracy))\n",
    "\n",
    "loss, accuracy = lstm_model_02.evaluate(X_val, dummy_y_val, verbose=False)\n",
    "print(\"Validation dataset Accuracy:  {:.4f}\".format(accuracy))"
   ]
  },
  {
   "cell_type": "code",
   "execution_count": 158,
   "metadata": {
    "colab": {
     "base_uri": "https://localhost:8080/"
    },
    "executionInfo": {
     "elapsed": 1291,
     "status": "ok",
     "timestamp": 1620047848600,
     "user": {
      "displayName": "Lan Zeng",
      "photoUrl": "",
      "userId": "17725825206879958125"
     },
     "user_tz": -60
    },
    "id": "VltnY-aGWrLZ",
    "outputId": "2a39e435-674b-4b8e-c715-38b277088a8f"
   },
   "outputs": [
    {
     "name": "stderr",
     "output_type": "stream",
     "text": [
      "/usr/local/lib/python3.7/dist-packages/tensorflow/python/data/ops/dataset_ops.py:3504: UserWarning: Even though the tf.config.experimental_run_functions_eagerly option is set, this option does not apply to tf.data functions. tf.data functions are still traced and executed as graphs.\n",
      "  \"Even though the tf.config.experimental_run_functions_eagerly \"\n"
     ]
    },
    {
     "name": "stdout",
     "output_type": "stream",
     "text": [
      "[[2.6139765e-04 1.9562863e-02 8.0771290e-02 ... 1.6941313e-02\n",
      "  9.4920300e-02 1.2768850e-02]\n",
      " [3.0831820e-03 8.1935547e-02 1.6049428e-01 ... 6.1200846e-02\n",
      "  2.3413546e-01 6.2043704e-02]\n",
      " [4.2899154e-02 1.2581100e-01 3.2337330e-02 ... 3.1318891e-01\n",
      "  1.0118063e-01 1.3442215e-01]\n",
      " ...\n",
      " [5.4913674e-02 1.3230109e-01 1.1022961e-01 ... 1.7534111e-01\n",
      "  1.8135962e-01 1.2548681e-01]\n",
      " [7.5051486e-02 1.1955523e-01 4.5842353e-02 ... 2.7516940e-01\n",
      "  9.5080510e-02 1.3767579e-01]\n",
      " [1.5728393e-01 9.0470694e-02 6.5731056e-02 ... 2.4315163e-01\n",
      "  7.3184207e-02 1.2779669e-01]]\n",
      "['chris brown', 'chris brown', 'elvis presley', 'elvis presley', 'elvis presley', 'elvis presley', 'elvis presley', 'elvis presley', 'elvis presley', 'glee', 'elvis presley', 'chris brown', 'glee', 'elvis presley', 'glee', 'chris brown', 'elvis presley', 'elton john', 'glee', 'glee', 'elvis presley', 'glee', 'elvis presley', 'elvis presley', 'elvis presley', 'elvis presley', 'elvis presley', 'elvis presley', 'chris brown', 'chris brown', 'elvis presley', 'elvis presley', 'chris brown', 'chris brown', 'bad religion', 'elvis presley', 'elvis presley', 'elvis presley', 'elvis presley', 'elvis presley', 'elvis presley', 'elvis presley', 'chris brown', 'elvis presley', 'elvis presley', 'chris brown', 'elvis presley', 'elvis presley', 'elvis presley', 'elvis presley', 'elvis presley', 'chris brown', 'elvis presley', 'elvis presley', 'elvis presley', 'elvis presley', 'elvis presley', 'elvis presley', 'elvis presley', 'elvis presley', 'glee', 'elvis presley', 'elvis presley', 'elvis presley', 'elvis presley', 'elvis presley', 'elvis presley', 'elvis presley', 'chris brown', 'elvis presley', 'elvis presley', 'elvis presley', 'elton john', 'chris brown', 'chris brown', 'chris brown', 'elvis presley', 'chris brown', 'elvis presley', 'elvis presley', 'elvis presley', 'elvis presley', 'elvis presley', 'elvis presley', 'elvis presley', 'elvis presley', 'glee', 'bad religion', 'elvis presley', 'chris brown', 'elvis presley', 'chris brown', 'glee', 'chris brown', 'elvis presley', 'elvis presley', 'elvis presley', 'elvis presley', 'elvis presley', 'elvis presley', 'elvis presley', 'glee', 'elvis presley', 'elvis presley', 'elvis presley', 'elvis presley', 'elvis presley', 'elvis presley', 'elvis presley', 'glee', 'elvis presley', 'elvis presley', 'elvis presley', 'elvis presley', 'elvis presley', 'elvis presley', 'elvis presley', 'elvis presley', 'elvis presley', 'elvis presley', 'glee', 'elvis presley', 'bad religion', 'elvis presley', 'elvis presley', 'elvis presley', 'elvis presley', 'elvis presley', 'elvis presley', 'elvis presley', 'elvis presley', 'elton john', 'elvis presley', 'elvis presley', 'chris brown', 'elvis presley', 'elvis presley', 'elvis presley', 'elvis presley', 'elvis presley', 'elvis presley', 'glee', 'elvis presley', 'elvis presley', 'elvis presley', 'elvis presley', 'chris brown', 'elvis presley', 'elvis presley', 'glee', 'elvis presley', 'elvis presley', 'elvis presley', 'elton john', 'elvis presley', 'elvis presley', 'elvis presley', 'glee', 'chris brown', 'elvis presley', 'glee', 'chris brown', 'elvis presley', 'chris brown', 'elvis presley', 'elvis presley', 'elton john', 'elvis presley', 'elvis presley', 'elvis presley', 'elvis presley', 'glee', 'elvis presley', 'chris brown', 'chris brown', 'elvis presley', 'elvis presley', 'elvis presley', 'chris brown', 'elvis presley', 'elvis presley', 'glee', 'elvis presley', 'elvis presley', 'chris brown', 'elvis presley', 'chris brown', 'glee', 'elvis presley', 'elvis presley', 'elton john', 'beyonce', 'glee', 'chris brown', 'elvis presley', 'glee', 'elvis presley', 'elvis presley', 'elvis presley', 'glee', 'elvis presley', 'elvis presley', 'elvis presley', 'elvis presley', 'elton john', 'elvis presley', 'elvis presley', 'elvis presley', 'beyonce', 'elvis presley', 'elvis presley', 'elvis presley', 'elvis presley', 'beyonce', 'chris brown', 'elvis presley', 'chris brown', 'chris brown', 'elvis presley', 'chris brown', 'chris brown', 'elvis presley', 'glee', 'elvis presley', 'elvis presley', 'elvis presley', 'elvis presley', 'elvis presley', 'elvis presley', 'elvis presley', 'elvis presley', 'glee', 'elvis presley', 'elvis presley', 'elvis presley', 'glee', 'elvis presley', 'chris brown', 'elvis presley', 'elton john', 'elvis presley', 'elvis presley', 'beyonce', 'elvis presley', 'elvis presley', 'chris brown', 'elton john', 'glee', 'elvis presley', 'chris brown', 'elvis presley', 'chris brown', 'elvis presley', 'elvis presley', 'elvis presley', 'elvis presley', 'elvis presley', 'elvis presley', 'elvis presley', 'glee', 'elvis presley', 'glee', 'elvis presley', 'chris brown', 'elvis presley', 'elvis presley', 'glee', 'elvis presley', 'elton john', 'elvis presley', 'chris brown', 'elvis presley', 'chris brown', 'elvis presley', 'elvis presley', 'elvis presley', 'elvis presley', 'glee', 'elvis presley', 'elvis presley', 'elvis presley', 'chris brown', 'glee', 'chris brown', 'chris brown', 'chris brown', 'elton john', 'elvis presley', 'elvis presley', 'elvis presley', 'elvis presley', 'elton john', 'glee', 'glee', 'elvis presley', 'glee', 'elvis presley', 'chris brown', 'elvis presley', 'elvis presley', 'elton john', 'chris brown', 'elvis presley', 'elvis presley', 'elvis presley', 'elvis presley', 'elvis presley', 'chris brown', 'elvis presley', 'elvis presley', 'elvis presley', 'elvis presley', 'elvis presley', 'elvis presley', 'elvis presley', 'elton john', 'elvis presley', 'elvis presley', 'chris brown', 'elvis presley', 'chris brown', 'chris brown', 'elvis presley', 'glee', 'elvis presley', 'chris brown', 'elvis presley', 'elvis presley', 'elvis presley', 'elton john', 'elvis presley', 'elvis presley', 'elvis presley', 'elvis presley', 'elvis presley', 'elvis presley', 'chris brown', 'chris brown', 'elvis presley', 'chris brown', 'chris brown', 'elvis presley', 'chris brown', 'elvis presley', 'elvis presley', 'chris brown', 'chris brown', 'chris brown', 'elvis presley', 'elvis presley', 'elvis presley', 'chris brown', 'chris brown', 'elvis presley', 'elvis presley', 'chris brown', 'elton john', 'elvis presley', 'elvis presley', 'elvis presley', 'elvis presley', 'elton john', 'glee', 'glee', 'chris brown', 'elvis presley', 'chris brown', 'elvis presley', 'elvis presley', 'chris brown', 'elvis presley', 'glee', 'glee', 'elvis presley', 'elvis presley', 'chris brown', 'elvis presley', 'elvis presley', 'elvis presley', 'elvis presley', 'elvis presley', 'elvis presley', 'chris brown', 'glee', 'beyonce', 'elvis presley', 'bad religion', 'elvis presley', 'elvis presley', 'glee', 'elvis presley', 'elvis presley', 'elvis presley', 'elvis presley', 'elvis presley', 'glee', 'elvis presley', 'chris brown', 'elvis presley', 'chris brown', 'elvis presley', 'elvis presley', 'chris brown', 'chris brown', 'elvis presley', 'elvis presley', 'glee', 'glee', 'chris brown', 'chris brown', 'elvis presley', 'elvis presley', 'elvis presley', 'chris brown', 'elvis presley', 'elton john', 'chris brown', 'glee', 'elvis presley', 'elvis presley', 'elvis presley', 'elvis presley', 'elvis presley', 'elvis presley', 'elvis presley', 'elvis presley', 'elvis presley', 'elvis presley', 'elvis presley', 'elvis presley', 'elvis presley', 'elvis presley', 'elvis presley', 'elvis presley', 'chris brown', 'chris brown', 'elvis presley', 'chris brown', 'chris brown', 'elvis presley', 'elvis presley', 'elvis presley', 'beyonce', 'chris brown', 'elvis presley', 'elvis presley', 'elvis presley', 'elvis presley', 'elvis presley', 'glee', 'elvis presley', 'elvis presley', 'elvis presley', 'elvis presley', 'elvis presley', 'chris brown', 'elvis presley', 'chris brown', 'glee', 'elvis presley', 'elvis presley', 'elvis presley', 'elvis presley', 'chris brown', 'elvis presley', 'elvis presley', 'elvis presley', 'elvis presley', 'elvis presley', 'elvis presley', 'chris brown', 'chris brown', 'chris brown', 'chris brown', 'elton john', 'elvis presley', 'elvis presley', 'chris brown', 'elvis presley', 'elvis presley', 'glee', 'glee', 'chris brown', 'elvis presley', 'elvis presley', 'beyonce', 'glee', 'elvis presley', 'elvis presley', 'elvis presley', 'elvis presley', 'elvis presley', 'glee', 'elvis presley', 'elvis presley', 'elvis presley', 'elvis presley', 'chris brown', 'glee', 'glee', 'chris brown', 'elvis presley', 'glee', 'chris brown', 'chris brown', 'elvis presley', 'elvis presley', 'elvis presley', 'elvis presley', 'glee', 'elvis presley', 'chris brown', 'elvis presley', 'elton john', 'elvis presley', 'elvis presley', 'elvis presley', 'chris brown', 'glee', 'elvis presley', 'elton john', 'elvis presley', 'elvis presley', 'elvis presley', 'elvis presley', 'chris brown', 'glee', 'elvis presley', 'glee', 'elvis presley', 'elvis presley', 'glee', 'chris brown', 'elvis presley', 'elton john', 'elvis presley', 'elvis presley', 'elvis presley', 'elvis presley', 'elton john', 'chris brown', 'elvis presley', 'chris brown', 'elvis presley', 'elvis presley', 'elvis presley', 'glee', 'elvis presley', 'elvis presley', 'glee', 'elvis presley', 'elvis presley', 'elvis presley', 'elvis presley', 'chris brown', 'elvis presley', 'elvis presley', 'elvis presley', 'chris brown', 'elvis presley', 'elvis presley', 'chris brown', 'elvis presley', 'elton john', 'elvis presley', 'elton john', 'elvis presley', 'elvis presley', 'glee', 'elvis presley', 'elvis presley', 'chris brown', 'chris brown', 'elton john', 'elton john', 'elvis presley', 'elvis presley', 'elvis presley', 'elvis presley', 'glee', 'glee', 'elvis presley', 'elvis presley', 'elvis presley', 'elvis presley', 'elvis presley', 'elvis presley', 'elton john', 'glee', 'glee', 'chris brown', 'chris brown', 'elvis presley', 'glee', 'chris brown', 'elvis presley', 'elvis presley', 'chris brown', 'elvis presley', 'chris brown', 'elvis presley', 'elvis presley', 'elvis presley', 'elvis presley', 'elvis presley', 'elvis presley', 'chris brown', 'elvis presley', 'glee', 'elvis presley', 'elton john', 'elvis presley', 'elvis presley', 'elvis presley', 'chris brown', 'elvis presley', 'chris brown', 'glee', 'elvis presley', 'elvis presley', 'elvis presley', 'chris brown', 'chris brown', 'elvis presley', 'elvis presley', 'glee', 'elvis presley', 'chris brown', 'elvis presley', 'chris brown', 'elvis presley', 'glee', 'elvis presley', 'elvis presley', 'glee', 'elvis presley', 'elvis presley', 'elvis presley', 'elvis presley', 'glee', 'elvis presley', 'glee', 'elvis presley', 'elvis presley', 'elvis presley', 'glee', 'chris brown', 'elvis presley', 'elvis presley', 'beyonce', 'chris brown', 'elvis presley', 'elvis presley', 'elvis presley', 'chris brown', 'glee', 'elvis presley', 'chris brown', 'elvis presley', 'glee', 'elton john', 'elvis presley', 'chris brown', 'glee', 'elvis presley', 'elvis presley', 'elvis presley', 'elvis presley', 'elvis presley', 'chris brown', 'elvis presley', 'elvis presley', 'elvis presley', 'chris brown', 'elvis presley', 'elvis presley', 'elvis presley', 'elvis presley', 'glee', 'chris brown', 'chris brown', 'elvis presley', 'chris brown', 'elvis presley', 'elvis presley', 'elvis presley', 'elvis presley', 'glee', 'elvis presley', 'elvis presley', 'elvis presley', 'chris brown', 'chris brown', 'chris brown', 'elvis presley', 'chris brown', 'elvis presley', 'elvis presley', 'chris brown', 'elvis presley', 'chris brown', 'elvis presley', 'chris brown', 'chris brown', 'chris brown', 'elvis presley', 'elvis presley', 'elvis presley', 'elvis presley', 'elvis presley', 'elvis presley', 'glee', 'elvis presley', 'elvis presley', 'elvis presley', 'elvis presley', 'glee', 'elvis presley', 'chris brown', 'elvis presley', 'elvis presley', 'elvis presley', 'beyonce', 'glee', 'elton john', 'elvis presley', 'chris brown', 'elvis presley', 'chris brown', 'chris brown', 'elvis presley', 'elvis presley', 'elvis presley', 'elvis presley', 'elvis presley', 'elvis presley', 'elvis presley', 'glee', 'elvis presley', 'elvis presley', 'glee', 'elton john', 'chris brown', 'elvis presley', 'chris brown', 'elvis presley', 'elvis presley', 'chris brown', 'chris brown', 'chris brown', 'chris brown', 'chris brown', 'glee', 'elvis presley', 'elvis presley', 'elton john', 'elton john', 'elvis presley', 'elton john', 'elvis presley', 'elvis presley', 'glee', 'elvis presley', 'chris brown', 'beyonce', 'glee', 'elvis presley', 'elvis presley', 'elvis presley', 'elvis presley', 'elton john', 'elvis presley', 'glee', 'elvis presley', 'elvis presley', 'chris brown', 'elvis presley', 'elvis presley', 'elvis presley', 'elvis presley', 'elton john', 'chris brown', 'elvis presley', 'elvis presley', 'chris brown', 'chris brown', 'elvis presley', 'chris brown', 'elvis presley', 'elvis presley', 'elvis presley', 'elvis presley', 'elvis presley', 'elvis presley', 'elvis presley', 'elvis presley', 'elton john', 'elvis presley', 'chris brown', 'elvis presley', 'glee', 'chris brown', 'elvis presley', 'elvis presley', 'glee', 'elvis presley', 'elvis presley', 'glee', 'beyonce', 'elvis presley', 'elvis presley', 'elvis presley', 'glee', 'elvis presley', 'elvis presley', 'elvis presley', 'chris brown', 'glee', 'elvis presley', 'elvis presley', 'elvis presley', 'elton john', 'elvis presley', 'elvis presley', 'elvis presley', 'chris brown', 'elvis presley', 'elvis presley', 'glee', 'elvis presley', 'elvis presley', 'elvis presley', 'chris brown', 'elvis presley', 'elvis presley', 'glee', 'elvis presley', 'elvis presley', 'glee', 'elvis presley', 'elton john', 'elvis presley', 'elvis presley', 'elvis presley', 'elvis presley', 'elvis presley', 'elvis presley', 'elvis presley', 'glee', 'elvis presley', 'chris brown', 'glee', 'elvis presley', 'elvis presley', 'elvis presley', 'chris brown', 'elvis presley', 'chris brown', 'glee', 'elvis presley', 'elvis presley', 'elvis presley', 'elvis presley', 'elvis presley', 'chris brown', 'elton john', 'elvis presley', 'elvis presley', 'elvis presley', 'elvis presley', 'elvis presley', 'elvis presley', 'chris brown', 'chris brown', 'elvis presley', 'elvis presley', 'elvis presley', 'elvis presley', 'bad religion', 'elvis presley', 'chris brown', 'glee', 'glee', 'elvis presley', 'elvis presley', 'chris brown', 'chris brown', 'elvis presley', 'elton john', 'chris brown', 'elvis presley', 'glee', 'chris brown', 'glee', 'elvis presley', 'elvis presley', 'glee', 'elvis presley', 'elvis presley', 'elton john', 'glee', 'elvis presley', 'glee', 'chris brown', 'elvis presley', 'elvis presley', 'chris brown', 'beyonce', 'elvis presley', 'elvis presley', 'elvis presley', 'elvis presley', 'elvis presley', 'elvis presley', 'elvis presley', 'elvis presley', 'elvis presley', 'chris brown', 'elvis presley', 'elvis presley', 'elvis presley', 'elvis presley', 'chris brown', 'elvis presley', 'elvis presley', 'glee', 'elvis presley', 'elvis presley']\n"
     ]
    }
   ],
   "source": [
    "prediction = lstm_model_02.predict(X_val)\n",
    "\n",
    "labels = ['bad religion', 'bee gees', 'beyonce', 'chris brown', 'ella fitzgerald', 'elton john', 'elvis costello', 'elvis presley', 'glee', 'the rolling stones']\n",
    "print(prediction)\n",
    "pred_str = []\n",
    "for i in range(928):\n",
    "  pred_str.append(labels[np.argmax(prediction[i])])\n",
    "print(pred_str)"
   ]
  },
  {
   "cell_type": "code",
   "execution_count": 159,
   "metadata": {
    "colab": {
     "base_uri": "https://localhost:8080/"
    },
    "executionInfo": {
     "elapsed": 560,
     "status": "ok",
     "timestamp": 1620047852793,
     "user": {
      "displayName": "Lan Zeng",
      "photoUrl": "",
      "userId": "17725825206879958125"
     },
     "user_tz": -60
    },
    "id": "w3bnd9ZUWrLa",
    "outputId": "00b51564-fcc7-405a-975e-d9a6170c21ff"
   },
   "outputs": [
    {
     "name": "stdout",
     "output_type": "stream",
     "text": [
      "[['bad religion' '5']\n",
      " ['beyonce' '12']\n",
      " ['chris brown' '174']\n",
      " ['elton john' '43']\n",
      " ['elvis presley' '586']\n",
      " ['glee' '108']]\n"
     ]
    }
   ],
   "source": [
    "(unique, counts) = np.unique(pred_str, return_counts=True)\n",
    "frequencies = np.asarray((unique, counts)).T\n",
    "\n",
    "print(frequencies)"
   ]
  },
  {
   "cell_type": "markdown",
   "metadata": {
    "id": "Q63HNiYRYHJ7"
   },
   "source": [
    "## Pre-trained CNN"
   ]
  },
  {
   "cell_type": "code",
   "execution_count": 161,
   "metadata": {
    "colab": {
     "base_uri": "https://localhost:8080/"
    },
    "executionInfo": {
     "elapsed": 4487,
     "status": "ok",
     "timestamp": 1620049625516,
     "user": {
      "displayName": "Lan Zeng",
      "photoUrl": "",
      "userId": "17725825206879958125"
     },
     "user_tz": -60
    },
    "id": "f6YTuBfPekgq",
    "outputId": "19990025-c80e-4392-ae17-d5a5f434b843"
   },
   "outputs": [
    {
     "name": "stderr",
     "output_type": "stream",
     "text": [
      "/usr/local/lib/python3.7/dist-packages/tensorflow/python/data/ops/dataset_ops.py:3504: UserWarning: Even though the tf.config.experimental_run_functions_eagerly option is set, this option does not apply to tf.data functions. tf.data functions are still traced and executed as graphs.\n",
      "  \"Even though the tf.config.experimental_run_functions_eagerly \"\n"
     ]
    },
    {
     "name": "stdout",
     "output_type": "stream",
     "text": [
      "Training datset Accuracy:  0.1324\n",
      "Validation dataset Accuracy:  0.1207\n"
     ]
    }
   ],
   "source": [
    "from tensorflow.keras.models import load_model\n",
    "\n",
    "cnn_model01 = keras.models.load_model('/content/drive/MyDrive/Colab Notebooks/CNN_model_epoch4.h5')\n",
    "\n",
    "loss, accuracy = cnn_model01.evaluate(X_train, dummy_y_train, verbose=False)\n",
    "print(\"Training datset Accuracy:  {:.4f}\".format(accuracy))\n",
    "\n",
    "loss, accuracy = cnn_model01.evaluate(X_val, dummy_y_val, verbose=False)\n",
    "print(\"Validation dataset Accuracy:  {:.4f}\".format(accuracy))"
   ]
  },
  {
   "cell_type": "code",
   "execution_count": 162,
   "metadata": {
    "colab": {
     "base_uri": "https://localhost:8080/"
    },
    "executionInfo": {
     "elapsed": 493,
     "status": "ok",
     "timestamp": 1620049636224,
     "user": {
      "displayName": "Lan Zeng",
      "photoUrl": "",
      "userId": "17725825206879958125"
     },
     "user_tz": -60
    },
    "id": "XLmZ5Vdtekgv",
    "outputId": "981bcf64-8eb2-4f3f-9ab9-475d2f124bf4"
   },
   "outputs": [
    {
     "name": "stdout",
     "output_type": "stream",
     "text": [
      "[[1.69143550e-05 7.97159784e-03 4.73974855e-04 ... 7.49000192e-01\n",
      "  2.93304282e-03 3.02456524e-02]\n",
      " [1.88999006e-03 2.07444597e-02 1.62274297e-02 ... 6.19106114e-01\n",
      "  1.39653692e-02 1.12237409e-01]\n",
      " [2.25783698e-03 6.65085111e-03 9.51187965e-03 ... 6.27417505e-01\n",
      "  4.28851172e-02 2.37856768e-02]\n",
      " ...\n",
      " [3.95112671e-02 7.02405639e-04 4.89297807e-02 ... 5.60951009e-02\n",
      "  1.07633760e-02 7.80776143e-01]\n",
      " [1.58544618e-03 1.65936947e-02 6.30305987e-03 ... 4.77492034e-01\n",
      "  5.12489630e-03 3.82561743e-01]\n",
      " [1.06670745e-02 8.65931995e-03 7.15162233e-02 ... 3.58107507e-01\n",
      "  2.43422873e-02 1.17174104e-01]]\n",
      "['elvis presley', 'elvis presley', 'elvis presley', 'elvis presley', 'elvis presley', 'elvis presley', 'the rolling stones', 'the rolling stones', 'elvis presley', 'elvis presley', 'elvis presley', 'the rolling stones', 'the rolling stones', 'the rolling stones', 'elvis presley', 'elvis presley', 'the rolling stones', 'elvis presley', 'the rolling stones', 'elvis presley', 'elvis presley', 'elvis presley', 'elvis presley', 'the rolling stones', 'the rolling stones', 'elvis presley', 'the rolling stones', 'elvis presley', 'elvis presley', 'elvis presley', 'elvis presley', 'the rolling stones', 'elvis presley', 'elvis presley', 'the rolling stones', 'elvis presley', 'the rolling stones', 'the rolling stones', 'the rolling stones', 'elvis presley', 'elvis presley', 'elvis presley', 'elvis presley', 'elvis presley', 'elvis presley', 'elvis presley', 'the rolling stones', 'the rolling stones', 'elvis presley', 'the rolling stones', 'the rolling stones', 'elvis presley', 'the rolling stones', 'the rolling stones', 'the rolling stones', 'the rolling stones', 'the rolling stones', 'the rolling stones', 'elvis presley', 'elvis presley', 'elvis presley', 'the rolling stones', 'elvis presley', 'the rolling stones', 'elvis presley', 'elvis presley', 'the rolling stones', 'elvis presley', 'elvis presley', 'the rolling stones', 'elvis presley', 'elvis presley', 'elvis presley', 'elvis presley', 'elvis presley', 'elvis presley', 'the rolling stones', 'the rolling stones', 'the rolling stones', 'the rolling stones', 'the rolling stones', 'elvis presley', 'the rolling stones', 'elvis presley', 'the rolling stones', 'the rolling stones', 'the rolling stones', 'the rolling stones', 'the rolling stones', 'elvis presley', 'elvis presley', 'elvis presley', 'the rolling stones', 'elvis presley', 'elvis presley', 'the rolling stones', 'elvis presley', 'elvis presley', 'the rolling stones', 'the rolling stones', 'elvis presley', 'elvis presley', 'the rolling stones', 'elvis presley', 'the rolling stones', 'the rolling stones', 'the rolling stones', 'elvis presley', 'elvis presley', 'elvis presley', 'elvis costello', 'the rolling stones', 'elvis presley', 'the rolling stones', 'the rolling stones', 'the rolling stones', 'elvis presley', 'the rolling stones', 'elvis presley', 'the rolling stones', 'elvis presley', 'the rolling stones', 'the rolling stones', 'elvis presley', 'elvis presley', 'the rolling stones', 'the rolling stones', 'elvis presley', 'the rolling stones', 'elvis presley', 'the rolling stones', 'elvis presley', 'the rolling stones', 'the rolling stones', 'elvis presley', 'the rolling stones', 'elvis presley', 'elvis presley', 'beyonce', 'the rolling stones', 'the rolling stones', 'elvis presley', 'elton john', 'elvis presley', 'elvis presley', 'elvis presley', 'elvis presley', 'elvis presley', 'the rolling stones', 'elvis presley', 'the rolling stones', 'the rolling stones', 'the rolling stones', 'the rolling stones', 'elvis presley', 'elvis presley', 'the rolling stones', 'the rolling stones', 'elvis presley', 'the rolling stones', 'elvis presley', 'the rolling stones', 'the rolling stones', 'the rolling stones', 'the rolling stones', 'the rolling stones', 'elvis presley', 'the rolling stones', 'the rolling stones', 'elvis presley', 'elvis presley', 'the rolling stones', 'elvis presley', 'elvis presley', 'the rolling stones', 'elvis presley', 'elvis presley', 'elvis presley', 'elvis presley', 'elvis presley', 'elvis costello', 'the rolling stones', 'the rolling stones', 'the rolling stones', 'elvis presley', 'elvis presley', 'elvis presley', 'the rolling stones', 'elvis presley', 'elvis presley', 'the rolling stones', 'elvis presley', 'elvis presley', 'elvis presley', 'elvis costello', 'elvis presley', 'elvis presley', 'elvis presley', 'the rolling stones', 'the rolling stones', 'the rolling stones', 'the rolling stones', 'elvis presley', 'the rolling stones', 'elvis presley', 'the rolling stones', 'elvis presley', 'elvis costello', 'elvis presley', 'the rolling stones', 'elvis presley', 'elvis presley', 'the rolling stones', 'the rolling stones', 'elvis presley', 'the rolling stones', 'elvis presley', 'elvis presley', 'elvis presley', 'elvis presley', 'elvis presley', 'elvis presley', 'elvis presley', 'the rolling stones', 'elvis presley', 'the rolling stones', 'elvis presley', 'the rolling stones', 'elvis presley', 'elvis presley', 'the rolling stones', 'the rolling stones', 'the rolling stones', 'elvis presley', 'the rolling stones', 'elvis presley', 'the rolling stones', 'elvis presley', 'elvis presley', 'elvis presley', 'elvis presley', 'the rolling stones', 'elvis presley', 'the rolling stones', 'elvis presley', 'elvis presley', 'elvis presley', 'elvis presley', 'elvis presley', 'elvis presley', 'the rolling stones', 'the rolling stones', 'the rolling stones', 'the rolling stones', 'elvis presley', 'elvis presley', 'the rolling stones', 'elvis presley', 'elvis presley', 'elvis presley', 'elvis presley', 'elvis presley', 'the rolling stones', 'the rolling stones', 'the rolling stones', 'the rolling stones', 'elvis presley', 'the rolling stones', 'elvis presley', 'the rolling stones', 'elvis presley', 'elvis presley', 'elvis presley', 'the rolling stones', 'elvis presley', 'elvis presley', 'elvis presley', 'the rolling stones', 'the rolling stones', 'the rolling stones', 'the rolling stones', 'elvis presley', 'the rolling stones', 'elvis presley', 'elvis presley', 'elvis presley', 'elvis presley', 'elvis presley', 'elvis presley', 'the rolling stones', 'the rolling stones', 'elvis presley', 'elvis presley', 'elvis presley', 'elvis presley', 'elvis presley', 'the rolling stones', 'elvis presley', 'the rolling stones', 'elvis presley', 'elvis presley', 'elvis presley', 'elvis presley', 'elvis presley', 'the rolling stones', 'elvis presley', 'the rolling stones', 'elvis presley', 'elvis presley', 'the rolling stones', 'the rolling stones', 'the rolling stones', 'elvis presley', 'elvis presley', 'the rolling stones', 'the rolling stones', 'the rolling stones', 'the rolling stones', 'elvis presley', 'elvis costello', 'the rolling stones', 'elvis presley', 'the rolling stones', 'elvis presley', 'elvis presley', 'elvis presley', 'elvis presley', 'elvis presley', 'elvis presley', 'the rolling stones', 'elvis presley', 'the rolling stones', 'elvis presley', 'elvis presley', 'the rolling stones', 'the rolling stones', 'elvis presley', 'the rolling stones', 'elvis presley', 'elvis presley', 'the rolling stones', 'the rolling stones', 'the rolling stones', 'the rolling stones', 'elvis presley', 'elvis presley', 'elvis presley', 'elvis presley', 'elvis presley', 'elvis presley', 'the rolling stones', 'elvis presley', 'elvis presley', 'the rolling stones', 'elvis presley', 'the rolling stones', 'the rolling stones', 'the rolling stones', 'elvis presley', 'elvis presley', 'elvis presley', 'elvis presley', 'the rolling stones', 'elvis presley', 'elvis presley', 'the rolling stones', 'elvis presley', 'the rolling stones', 'the rolling stones', 'elvis presley', 'elvis presley', 'the rolling stones', 'elvis presley', 'the rolling stones', 'elvis presley', 'elvis presley', 'elvis presley', 'elvis presley', 'elvis presley', 'the rolling stones', 'elvis presley', 'elton john', 'elvis presley', 'the rolling stones', 'elvis presley', 'the rolling stones', 'elvis presley', 'the rolling stones', 'the rolling stones', 'elvis presley', 'elvis presley', 'elvis presley', 'elvis presley', 'elvis presley', 'elvis presley', 'elvis presley', 'elvis presley', 'elvis presley', 'elvis presley', 'elvis presley', 'elvis presley', 'elvis presley', 'elvis presley', 'elvis presley', 'the rolling stones', 'elvis presley', 'the rolling stones', 'elvis presley', 'elvis presley', 'elvis presley', 'elvis presley', 'elvis presley', 'elvis presley', 'elvis presley', 'the rolling stones', 'elvis presley', 'elvis presley', 'elvis presley', 'elvis presley', 'elvis presley', 'elvis presley', 'elvis presley', 'elvis presley', 'elvis presley', 'elvis costello', 'elvis presley', 'the rolling stones', 'elton john', 'the rolling stones', 'elvis presley', 'elton john', 'the rolling stones', 'the rolling stones', 'elvis presley', 'elvis presley', 'elvis presley', 'elvis presley', 'elvis presley', 'elvis presley', 'elvis presley', 'elvis presley', 'elvis presley', 'elvis presley', 'elvis presley', 'elvis presley', 'elvis presley', 'the rolling stones', 'elvis presley', 'the rolling stones', 'elvis presley', 'elvis presley', 'elvis presley', 'elvis presley', 'the rolling stones', 'elvis presley', 'elvis presley', 'elvis presley', 'elvis presley', 'elvis presley', 'the rolling stones', 'the rolling stones', 'elvis presley', 'the rolling stones', 'the rolling stones', 'the rolling stones', 'the rolling stones', 'elvis presley', 'elvis presley', 'elvis presley', 'elvis presley', 'elvis presley', 'elvis presley', 'elvis presley', 'elvis presley', 'the rolling stones', 'the rolling stones', 'elvis presley', 'elvis presley', 'elvis presley', 'elvis presley', 'the rolling stones', 'elvis presley', 'elvis presley', 'the rolling stones', 'elvis presley', 'elvis presley', 'elvis presley', 'elvis presley', 'elvis costello', 'the rolling stones', 'the rolling stones', 'the rolling stones', 'elvis presley', 'elvis presley', 'the rolling stones', 'elvis presley', 'elvis presley', 'elvis presley', 'elvis presley', 'the rolling stones', 'elvis presley', 'the rolling stones', 'the rolling stones', 'the rolling stones', 'elvis presley', 'elvis presley', 'elvis presley', 'elvis presley', 'the rolling stones', 'the rolling stones', 'elvis presley', 'elvis presley', 'elvis presley', 'elvis presley', 'the rolling stones', 'elvis presley', 'elvis presley', 'elvis presley', 'the rolling stones', 'the rolling stones', 'the rolling stones', 'elvis presley', 'elvis presley', 'the rolling stones', 'the rolling stones', 'elvis presley', 'the rolling stones', 'elvis presley', 'elvis presley', 'the rolling stones', 'elvis costello', 'the rolling stones', 'the rolling stones', 'the rolling stones', 'the rolling stones', 'elvis presley', 'the rolling stones', 'the rolling stones', 'elvis presley', 'the rolling stones', 'elvis presley', 'elton john', 'elvis presley', 'the rolling stones', 'elvis presley', 'elvis presley', 'the rolling stones', 'elvis presley', 'elvis presley', 'elvis presley', 'elvis costello', 'the rolling stones', 'the rolling stones', 'the rolling stones', 'elvis presley', 'the rolling stones', 'elvis presley', 'the rolling stones', 'elvis presley', 'the rolling stones', 'elvis presley', 'elvis presley', 'elvis presley', 'elvis presley', 'elvis presley', 'the rolling stones', 'elvis presley', 'elvis presley', 'elvis presley', 'the rolling stones', 'the rolling stones', 'elvis presley', 'elvis presley', 'the rolling stones', 'elvis presley', 'the rolling stones', 'the rolling stones', 'elvis presley', 'elvis presley', 'the rolling stones', 'the rolling stones', 'the rolling stones', 'elton john', 'the rolling stones', 'elvis presley', 'elvis presley', 'elvis presley', 'the rolling stones', 'elvis presley', 'the rolling stones', 'elvis presley', 'elvis presley', 'the rolling stones', 'elvis presley', 'elvis presley', 'elvis presley', 'the rolling stones', 'elvis presley', 'elvis presley', 'elvis presley', 'elvis presley', 'elvis presley', 'elvis presley', 'elvis presley', 'elvis presley', 'elvis presley', 'elvis presley', 'elvis presley', 'elvis presley', 'the rolling stones', 'elvis presley', 'the rolling stones', 'elvis presley', 'the rolling stones', 'elvis presley', 'elvis presley', 'elvis presley', 'elvis presley', 'the rolling stones', 'elvis presley', 'elvis costello', 'elvis presley', 'elvis presley', 'elvis presley', 'elvis presley', 'the rolling stones', 'elvis presley', 'the rolling stones', 'elvis presley', 'the rolling stones', 'elvis presley', 'elvis presley', 'elvis presley', 'the rolling stones', 'elvis presley', 'elvis presley', 'elvis presley', 'the rolling stones', 'elvis presley', 'elvis presley', 'elvis presley', 'elvis presley', 'elvis presley', 'elvis presley', 'the rolling stones', 'the rolling stones', 'elvis presley', 'the rolling stones', 'elvis presley', 'the rolling stones', 'elvis presley', 'elvis presley', 'elvis presley', 'elvis presley', 'elvis presley', 'the rolling stones', 'the rolling stones', 'elvis presley', 'the rolling stones', 'the rolling stones', 'the rolling stones', 'elvis presley', 'elvis presley', 'elvis presley', 'elvis presley', 'the rolling stones', 'the rolling stones', 'elvis presley', 'the rolling stones', 'elvis presley', 'elvis presley', 'elvis presley', 'the rolling stones', 'elvis presley', 'the rolling stones', 'the rolling stones', 'the rolling stones', 'elvis presley', 'elvis presley', 'elvis costello', 'elvis presley', 'elvis presley', 'elvis presley', 'the rolling stones', 'elton john', 'elvis costello', 'the rolling stones', 'elvis presley', 'the rolling stones', 'the rolling stones', 'elvis presley', 'elvis presley', 'elvis presley', 'elvis presley', 'elvis presley', 'elvis presley', 'elvis presley', 'the rolling stones', 'elvis presley', 'elvis presley', 'elvis presley', 'elvis presley', 'elvis presley', 'elvis presley', 'elvis presley', 'the rolling stones', 'elvis presley', 'elvis presley', 'the rolling stones', 'the rolling stones', 'elvis presley', 'elvis presley', 'elvis presley', 'elvis presley', 'the rolling stones', 'elvis presley', 'elvis presley', 'elvis presley', 'elvis presley', 'the rolling stones', 'the rolling stones', 'the rolling stones', 'elvis presley', 'the rolling stones', 'the rolling stones', 'elvis presley', 'elvis presley', 'elvis presley', 'elvis presley', 'elvis presley', 'the rolling stones', 'the rolling stones', 'the rolling stones', 'elvis presley', 'elvis costello', 'elvis presley', 'elvis presley', 'the rolling stones', 'the rolling stones', 'the rolling stones', 'the rolling stones', 'elvis presley', 'elvis presley', 'the rolling stones', 'elvis presley', 'the rolling stones', 'elvis presley', 'elvis presley', 'the rolling stones', 'the rolling stones', 'the rolling stones', 'elvis presley', 'the rolling stones', 'elvis presley', 'the rolling stones', 'the rolling stones', 'elvis presley', 'the rolling stones', 'the rolling stones', 'the rolling stones', 'the rolling stones', 'elvis presley', 'elvis presley', 'elvis presley', 'elvis presley', 'elvis presley', 'elvis presley', 'elvis presley', 'the rolling stones', 'elvis presley', 'elvis presley', 'the rolling stones', 'elvis presley', 'elvis presley', 'elvis presley', 'elvis presley', 'elvis presley', 'elvis presley', 'the rolling stones', 'the rolling stones', 'elvis presley', 'the rolling stones', 'the rolling stones', 'elvis presley', 'elvis presley', 'elvis presley', 'elvis presley', 'elvis presley', 'the rolling stones', 'elvis presley', 'elvis presley', 'the rolling stones', 'the rolling stones', 'elvis presley', 'elvis presley', 'the rolling stones', 'the rolling stones', 'elvis presley', 'elvis presley', 'elvis presley', 'elvis presley', 'elvis presley', 'the rolling stones', 'the rolling stones', 'elvis costello', 'the rolling stones', 'elvis presley', 'elvis presley', 'the rolling stones', 'elvis presley', 'the rolling stones', 'elvis presley', 'the rolling stones', 'elvis presley', 'elvis presley', 'elvis presley', 'elvis presley', 'elvis presley', 'the rolling stones', 'elvis presley', 'elvis presley', 'elvis presley', 'elvis presley', 'elvis presley', 'elton john', 'elvis presley', 'elvis presley', 'elton john', 'elvis presley', 'elvis presley', 'the rolling stones', 'the rolling stones', 'elvis presley', 'the rolling stones', 'elvis presley', 'the rolling stones', 'elvis presley', 'elvis presley', 'elvis presley', 'elvis presley', 'elvis presley', 'the rolling stones', 'elvis presley', 'the rolling stones', 'elvis presley', 'elvis presley', 'elvis presley', 'the rolling stones', 'elvis presley', 'elvis presley', 'elvis presley', 'elvis presley', 'elvis presley', 'the rolling stones', 'elvis presley', 'elvis presley', 'elvis presley', 'elvis presley', 'the rolling stones', 'elvis presley', 'elvis presley', 'elvis presley', 'elvis presley', 'the rolling stones', 'elvis presley', 'elvis presley', 'the rolling stones', 'the rolling stones', 'the rolling stones', 'elvis presley', 'the rolling stones', 'the rolling stones', 'elvis presley', 'the rolling stones', 'elvis presley', 'elvis presley', 'elvis presley', 'elvis presley', 'elvis presley', 'the rolling stones', 'the rolling stones', 'the rolling stones', 'elvis presley', 'elvis presley', 'the rolling stones', 'elvis presley', 'elvis presley', 'elvis presley', 'the rolling stones', 'elvis presley', 'elvis presley', 'elvis presley', 'elvis presley', 'the rolling stones', 'the rolling stones', 'elvis presley', 'elvis presley', 'elvis presley', 'the rolling stones', 'elvis presley', 'elton john', 'the rolling stones', 'the rolling stones', 'elvis presley', 'elvis presley', 'the rolling stones', 'elvis presley', 'elvis presley', 'the rolling stones', 'elvis presley', 'elvis presley', 'the rolling stones', 'elvis presley', 'the rolling stones', 'elvis presley', 'the rolling stones', 'the rolling stones', 'elvis presley', 'the rolling stones', 'the rolling stones', 'elvis presley', 'the rolling stones', 'the rolling stones', 'elvis presley', 'the rolling stones', 'the rolling stones', 'elvis presley', 'elvis presley']\n"
     ]
    },
    {
     "name": "stderr",
     "output_type": "stream",
     "text": [
      "/usr/local/lib/python3.7/dist-packages/tensorflow/python/data/ops/dataset_ops.py:3504: UserWarning: Even though the tf.config.experimental_run_functions_eagerly option is set, this option does not apply to tf.data functions. tf.data functions are still traced and executed as graphs.\n",
      "  \"Even though the tf.config.experimental_run_functions_eagerly \"\n"
     ]
    }
   ],
   "source": [
    "prediction = cnn_model01.predict(X_val)\n",
    "\n",
    "labels = ['bad religion', 'bee gees', 'beyonce', 'chris brown', 'ella fitzgerald', 'elton john', 'elvis costello', 'elvis presley', 'glee', 'the rolling stones']\n",
    "print(prediction)\n",
    "pred_str = []\n",
    "for i in range(928):\n",
    "  pred_str.append(labels[np.argmax(prediction[i])])\n",
    "print(pred_str)"
   ]
  },
  {
   "cell_type": "code",
   "execution_count": 163,
   "metadata": {
    "colab": {
     "base_uri": "https://localhost:8080/"
    },
    "executionInfo": {
     "elapsed": 409,
     "status": "ok",
     "timestamp": 1620049640811,
     "user": {
      "displayName": "Lan Zeng",
      "photoUrl": "",
      "userId": "17725825206879958125"
     },
     "user_tz": -60
    },
    "id": "Nhz2xjjaekgv",
    "outputId": "bfdd4993-1d66-4754-e584-e520328b0dd8"
   },
   "outputs": [
    {
     "name": "stdout",
     "output_type": "stream",
     "text": [
      "[['beyonce' '1']\n",
      " ['elton john' '10']\n",
      " ['elvis costello' '14']\n",
      " ['elvis presley' '558']\n",
      " ['the rolling stones' '345']]\n"
     ]
    }
   ],
   "source": [
    "(unique, counts) = np.unique(pred_str, return_counts=True)\n",
    "frequencies = np.asarray((unique, counts)).T\n",
    "\n",
    "print(frequencies)"
   ]
  },
  {
   "cell_type": "markdown",
   "metadata": {
    "id": "ZKJK0MMXfCZV"
   },
   "source": [
    "### Make the output layer trainable"
   ]
  },
  {
   "cell_type": "code",
   "execution_count": 164,
   "metadata": {
    "executionInfo": {
     "elapsed": 484,
     "status": "ok",
     "timestamp": 1620049722094,
     "user": {
      "displayName": "Lan Zeng",
      "photoUrl": "",
      "userId": "17725825206879958125"
     },
     "user_tz": -60
    },
    "id": "PAPwAIoafCZV"
   },
   "outputs": [],
   "source": [
    "from tensorflow.keras.models import load_model\n",
    "\n",
    "cnn_model02 = keras.models.load_model('/content/drive/MyDrive/Colab Notebooks/CNN_model_epoch4.h5')"
   ]
  },
  {
   "cell_type": "code",
   "execution_count": 165,
   "metadata": {
    "colab": {
     "base_uri": "https://localhost:8080/"
    },
    "executionInfo": {
     "elapsed": 467,
     "status": "ok",
     "timestamp": 1620049724301,
     "user": {
      "displayName": "Lan Zeng",
      "photoUrl": "",
      "userId": "17725825206879958125"
     },
     "user_tz": -60
    },
    "id": "XOf2RaK9fCZe",
    "outputId": "21ea4da0-599c-43ed-9b9d-9aba87ac5260"
   },
   "outputs": [
    {
     "data": {
      "text/plain": [
       "[<tensorflow.python.keras.layers.embeddings.Embedding at 0x7efe801eed50>,\n",
       " <tensorflow.python.keras.layers.convolutional.Conv1D at 0x7efe80322090>,\n",
       " <tensorflow.python.keras.layers.pooling.GlobalMaxPooling1D at 0x7efe802bafd0>,\n",
       " <tensorflow.python.keras.layers.core.Dense at 0x7efe801eeb90>,\n",
       " <tensorflow.python.keras.layers.core.Dropout at 0x7efe801f82d0>,\n",
       " <tensorflow.python.keras.layers.core.Dense at 0x7efe80207dd0>]"
      ]
     },
     "execution_count": 165,
     "metadata": {
      "tags": []
     },
     "output_type": "execute_result"
    }
   ],
   "source": [
    "cnn_model02.layers"
   ]
  },
  {
   "cell_type": "code",
   "execution_count": 166,
   "metadata": {
    "executionInfo": {
     "elapsed": 725,
     "status": "ok",
     "timestamp": 1620049866374,
     "user": {
      "displayName": "Lan Zeng",
      "photoUrl": "",
      "userId": "17725825206879958125"
     },
     "user_tz": -60
    },
    "id": "Mu6lntaMfCZf"
   },
   "outputs": [],
   "source": [
    "cnn_model02.layers[0].trainable = False\n",
    "cnn_model02.layers[1].trainable = False\n",
    "cnn_model02.layers[2].trainable = False\n",
    "cnn_model02.layers[3].trainable = False\n",
    "cnn_model02.layers[4].trainable = True\n",
    "cnn_model02.layers[5].trainable = True"
   ]
  },
  {
   "cell_type": "code",
   "execution_count": 167,
   "metadata": {
    "colab": {
     "base_uri": "https://localhost:8080/"
    },
    "executionInfo": {
     "elapsed": 463,
     "status": "ok",
     "timestamp": 1620049871617,
     "user": {
      "displayName": "Lan Zeng",
      "photoUrl": "",
      "userId": "17725825206879958125"
     },
     "user_tz": -60
    },
    "id": "A6O1RVDhfCZf",
    "outputId": "d387af56-c78b-470e-cd23-98f16f677ade"
   },
   "outputs": [
    {
     "name": "stdout",
     "output_type": "stream",
     "text": [
      "Model: \"sequential_1\"\n",
      "_________________________________________________________________\n",
      "Layer (type)                 Output Shape              Param #   \n",
      "=================================================================\n",
      "embedding_1 (Embedding)      (None, 500, 50)           250000    \n",
      "_________________________________________________________________\n",
      "conv1d_1 (Conv1D)            (None, 498, 128)          19328     \n",
      "_________________________________________________________________\n",
      "global_max_pooling1d_1 (Glob (None, 128)               0         \n",
      "_________________________________________________________________\n",
      "dense_2 (Dense)              (None, 200)               25800     \n",
      "_________________________________________________________________\n",
      "dropout_1 (Dropout)          (None, 200)               0         \n",
      "_________________________________________________________________\n",
      "dense_3 (Dense)              (None, 10)                2010      \n",
      "=================================================================\n",
      "Total params: 297,138\n",
      "Trainable params: 2,010\n",
      "Non-trainable params: 295,128\n",
      "_________________________________________________________________\n"
     ]
    }
   ],
   "source": [
    "cnn_model02.summary()"
   ]
  },
  {
   "cell_type": "code",
   "execution_count": 168,
   "metadata": {
    "colab": {
     "base_uri": "https://localhost:8080/"
    },
    "executionInfo": {
     "elapsed": 494,
     "status": "ok",
     "timestamp": 1620049878882,
     "user": {
      "displayName": "Lan Zeng",
      "photoUrl": "",
      "userId": "17725825206879958125"
     },
     "user_tz": -60
    },
    "id": "hjKTC36CfCZh",
    "outputId": "0b4501e0-247d-4f75-d245-e3e4726181ec"
   },
   "outputs": [
    {
     "data": {
      "text/plain": [
       "2"
      ]
     },
     "execution_count": 168,
     "metadata": {
      "tags": []
     },
     "output_type": "execute_result"
    }
   ],
   "source": [
    "len(cnn_model02.trainable_variables)"
   ]
  },
  {
   "cell_type": "code",
   "execution_count": 169,
   "metadata": {
    "colab": {
     "base_uri": "https://localhost:8080/"
    },
    "executionInfo": {
     "elapsed": 38778,
     "status": "ok",
     "timestamp": 1620049935673,
     "user": {
      "displayName": "Lan Zeng",
      "photoUrl": "",
      "userId": "17725825206879958125"
     },
     "user_tz": -60
    },
    "id": "JCcjCJ8EfCZh",
    "outputId": "1dfdc5c0-bf21-4f78-e051-c963220dda3a"
   },
   "outputs": [
    {
     "name": "stdout",
     "output_type": "stream",
     "text": [
      "Epoch 1/10\n",
      "  3/261 [..............................] - ETA: 6s - loss: 3.4573 - accuracy: 0.1354 "
     ]
    },
    {
     "name": "stderr",
     "output_type": "stream",
     "text": [
      "/usr/local/lib/python3.7/dist-packages/tensorflow/python/data/ops/dataset_ops.py:3504: UserWarning: Even though the tf.config.experimental_run_functions_eagerly option is set, this option does not apply to tf.data functions. tf.data functions are still traced and executed as graphs.\n",
      "  \"Even though the tf.config.experimental_run_functions_eagerly \"\n"
     ]
    },
    {
     "name": "stdout",
     "output_type": "stream",
     "text": [
      "261/261 [==============================] - 8s 29ms/step - loss: 2.0497 - accuracy: 0.2746 - val_loss: 1.6621 - val_accuracy: 0.3998\n",
      "Epoch 2/10\n",
      "261/261 [==============================] - 7s 29ms/step - loss: 1.3063 - accuracy: 0.5497 - val_loss: 1.1135 - val_accuracy: 0.6358\n",
      "Epoch 3/10\n",
      "261/261 [==============================] - 8s 29ms/step - loss: 0.6822 - accuracy: 0.7844 - val_loss: 0.8478 - val_accuracy: 0.7554\n",
      "Epoch 4/10\n",
      "261/261 [==============================] - 8s 29ms/step - loss: 0.3229 - accuracy: 0.9147 - val_loss: 0.7839 - val_accuracy: 0.7823\n",
      "Epoch 5/10\n",
      "261/261 [==============================] - 8s 29ms/step - loss: 0.1529 - accuracy: 0.9666 - val_loss: 0.8191 - val_accuracy: 0.7909\n",
      "Epoch 00005: early stopping\n"
     ]
    }
   ],
   "source": [
    "from keras.callbacks import EarlyStopping\n",
    "es = EarlyStopping(monitor='val_loss', mode='min', verbose=1)\n",
    "cnn_model02_retrain = cnn_model02.fit(X_train, dummy_y_train, epochs = 10, validation_data=(X_val, dummy_y_val), callbacks=[es])\n"
   ]
  },
  {
   "cell_type": "code",
   "execution_count": 170,
   "metadata": {
    "executionInfo": {
     "elapsed": 487,
     "status": "ok",
     "timestamp": 1620049981718,
     "user": {
      "displayName": "Lan Zeng",
      "photoUrl": "",
      "userId": "17725825206879958125"
     },
     "user_tz": -60
    },
    "id": "qG9a67WpfCZh"
   },
   "outputs": [],
   "source": [
    "#!pip install -q pyyaml h5py\n",
    "#from tensorflow.keras.models import load_model\n",
    "# save it as a h5 file\n",
    "\n",
    "cnn_model02.save('tl_cnn_retrain_outputlayer.h5')"
   ]
  },
  {
   "cell_type": "code",
   "execution_count": 171,
   "metadata": {
    "colab": {
     "base_uri": "https://localhost:8080/"
    },
    "executionInfo": {
     "elapsed": 3282,
     "status": "ok",
     "timestamp": 1620049988126,
     "user": {
      "displayName": "Lan Zeng",
      "photoUrl": "",
      "userId": "17725825206879958125"
     },
     "user_tz": -60
    },
    "id": "TP2f9luQfCZi",
    "outputId": "0e2c59da-beca-4999-d5b9-ef0d9335c0b3"
   },
   "outputs": [
    {
     "name": "stderr",
     "output_type": "stream",
     "text": [
      "/usr/local/lib/python3.7/dist-packages/tensorflow/python/data/ops/dataset_ops.py:3504: UserWarning: Even though the tf.config.experimental_run_functions_eagerly option is set, this option does not apply to tf.data functions. tf.data functions are still traced and executed as graphs.\n",
      "  \"Even though the tf.config.experimental_run_functions_eagerly \"\n"
     ]
    },
    {
     "name": "stdout",
     "output_type": "stream",
     "text": [
      "Training datset Accuracy:  0.9909\n",
      "Validation dataset Accuracy:  0.7909\n"
     ]
    }
   ],
   "source": [
    "loss, accuracy = cnn_model02.evaluate(X_train, dummy_y_train, verbose=False)\n",
    "print(\"Training datset Accuracy:  {:.4f}\".format(accuracy))\n",
    "\n",
    "loss, accuracy = cnn_model02.evaluate(X_val, dummy_y_val, verbose=False)\n",
    "print(\"Validation dataset Accuracy:  {:.4f}\".format(accuracy))"
   ]
  },
  {
   "cell_type": "code",
   "execution_count": 172,
   "metadata": {
    "colab": {
     "base_uri": "https://localhost:8080/"
    },
    "executionInfo": {
     "elapsed": 497,
     "status": "ok",
     "timestamp": 1620049996156,
     "user": {
      "displayName": "Lan Zeng",
      "photoUrl": "",
      "userId": "17725825206879958125"
     },
     "user_tz": -60
    },
    "id": "_tnw5keofCZi",
    "outputId": "73e3c515-33b8-46e6-c888-be3740b4d8a2"
   },
   "outputs": [
    {
     "name": "stdout",
     "output_type": "stream",
     "text": [
      "[[6.58923396e-14 1.23968277e-06 8.85190384e-04 ... 2.28080223e-15\n",
      "  2.88731215e-04 8.30494074e-09]\n",
      " [4.47409292e-07 5.54348886e-01 1.83023240e-05 ... 1.99902263e-02\n",
      "  4.21032786e-01 5.24050629e-05]\n",
      " [1.17936315e-06 1.02256909e-01 7.38651585e-03 ... 4.52942113e-05\n",
      "  3.14319640e-01 6.33086562e-02]\n",
      " ...\n",
      " [4.73536730e-08 6.73604012e-01 1.11226555e-05 ... 1.41808335e-02\n",
      "  3.08149517e-01 2.57797161e-04]\n",
      " [1.92605003e-12 9.48007882e-01 5.53565194e-09 ... 4.00142446e-02\n",
      "  1.88750203e-03 1.33949789e-05]\n",
      " [9.12108898e-01 9.29680828e-05 7.16246804e-03 ... 9.27623551e-05\n",
      "  1.13965175e-03 6.20046444e-03]]\n",
      "['chris brown', 'bee gees', 'elvis costello', 'glee', 'chris brown', 'bee gees', 'elvis presley', 'elton john', 'ella fitzgerald', 'bee gees', 'ella fitzgerald', 'the rolling stones', 'chris brown', 'ella fitzgerald', 'the rolling stones', 'chris brown', 'ella fitzgerald', 'elton john', 'elvis presley', 'elvis presley', 'bad religion', 'bee gees', 'the rolling stones', 'ella fitzgerald', 'the rolling stones', 'glee', 'elvis presley', 'bad religion', 'chris brown', 'glee', 'bee gees', 'elvis costello', 'glee', 'chris brown', 'elton john', 'bee gees', 'bad religion', 'glee', 'the rolling stones', 'bee gees', 'elvis presley', 'glee', 'beyonce', 'elvis presley', 'glee', 'glee', 'ella fitzgerald', 'elvis presley', 'ella fitzgerald', 'bee gees', 'elvis costello', 'elvis costello', 'bad religion', 'the rolling stones', 'elvis presley', 'elvis presley', 'bee gees', 'ella fitzgerald', 'bee gees', 'ella fitzgerald', 'beyonce', 'bad religion', 'the rolling stones', 'elvis presley', 'elvis presley', 'bee gees', 'bad religion', 'bee gees', 'bee gees', 'elvis presley', 'ella fitzgerald', 'glee', 'elton john', 'chris brown', 'chris brown', 'beyonce', 'ella fitzgerald', 'chris brown', 'bad religion', 'ella fitzgerald', 'the rolling stones', 'elvis costello', 'ella fitzgerald', 'ella fitzgerald', 'the rolling stones', 'ella fitzgerald', 'elvis presley', 'elton john', 'elvis presley', 'beyonce', 'ella fitzgerald', 'chris brown', 'elvis costello', 'chris brown', 'elvis presley', 'bee gees', 'elvis costello', 'elton john', 'elvis costello', 'elvis presley', 'the rolling stones', 'the rolling stones', 'ella fitzgerald', 'elvis costello', 'bee gees', 'bee gees', 'elvis presley', 'ella fitzgerald', 'bad religion', 'the rolling stones', 'the rolling stones', 'elvis presley', 'elvis costello', 'elvis presley', 'elvis costello', 'ella fitzgerald', 'elvis costello', 'elvis costello', 'elvis costello', 'elvis presley', 'bee gees', 'bee gees', 'bad religion', 'elvis presley', 'bad religion', 'the rolling stones', 'glee', 'ella fitzgerald', 'the rolling stones', 'beyonce', 'bee gees', 'elton john', 'bee gees', 'elvis presley', 'chris brown', 'the rolling stones', 'bee gees', 'bee gees', 'elvis costello', 'the rolling stones', 'elvis presley', 'bee gees', 'elvis presley', 'bee gees', 'bee gees', 'elvis presley', 'chris brown', 'elvis costello', 'elvis presley', 'chris brown', 'ella fitzgerald', 'elvis presley', 'bee gees', 'elton john', 'elvis presley', 'elvis presley', 'elvis presley', 'glee', 'chris brown', 'the rolling stones', 'the rolling stones', 'beyonce', 'glee', 'elvis costello', 'elvis presley', 'bee gees', 'elton john', 'elvis presley', 'elvis costello', 'the rolling stones', 'chris brown', 'bee gees', 'bee gees', 'beyonce', 'chris brown', 'ella fitzgerald', 'elvis presley', 'elvis presley', 'chris brown', 'ella fitzgerald', 'bee gees', 'the rolling stones', 'elton john', 'elvis presley', 'chris brown', 'elvis costello', 'chris brown', 'the rolling stones', 'glee', 'elvis costello', 'elton john', 'elton john', 'ella fitzgerald', 'bee gees', 'elvis presley', 'chris brown', 'bad religion', 'glee', 'beyonce', 'chris brown', 'elton john', 'bad religion', 'elvis presley', 'elvis costello', 'elton john', 'elvis presley', 'ella fitzgerald', 'bad religion', 'beyonce', 'the rolling stones', 'bad religion', 'bee gees', 'elvis presley', 'beyonce', 'beyonce', 'glee', 'beyonce', 'beyonce', 'ella fitzgerald', 'chris brown', 'bee gees', 'bee gees', 'chris brown', 'elvis costello', 'glee', 'bee gees', 'elvis presley', 'ella fitzgerald', 'bee gees', 'bee gees', 'elvis presley', 'bee gees', 'glee', 'bee gees', 'glee', 'the rolling stones', 'elvis presley', 'chris brown', 'elvis presley', 'elton john', 'elvis presley', 'the rolling stones', 'glee', 'the rolling stones', 'bad religion', 'chris brown', 'elton john', 'bee gees', 'elvis costello', 'glee', 'elvis costello', 'chris brown', 'glee', 'elton john', 'elvis presley', 'bee gees', 'beyonce', 'elvis presley', 'chris brown', 'elvis presley', 'bee gees', 'glee', 'ella fitzgerald', 'chris brown', 'beyonce', 'elvis presley', 'elvis presley', 'bee gees', 'elton john', 'elton john', 'glee', 'bad religion', 'beyonce', 'ella fitzgerald', 'elvis presley', 'elvis presley', 'bad religion', 'elvis presley', 'ella fitzgerald', 'elvis costello', 'ella fitzgerald', 'chris brown', 'the rolling stones', 'the rolling stones', 'chris brown', 'chris brown', 'elton john', 'elvis presley', 'bee gees', 'bee gees', 'elvis costello', 'elton john', 'glee', 'glee', 'elton john', 'elvis presley', 'elvis costello', 'elvis costello', 'elvis presley', 'elvis presley', 'elton john', 'beyonce', 'elvis presley', 'elvis presley', 'bee gees', 'elton john', 'ella fitzgerald', 'chris brown', 'bee gees', 'ella fitzgerald', 'bee gees', 'bee gees', 'elvis costello', 'elvis costello', 'the rolling stones', 'elton john', 'the rolling stones', 'elvis costello', 'beyonce', 'elvis presley', 'elvis costello', 'chris brown', 'elvis presley', 'glee', 'bad religion', 'bee gees', 'bad religion', 'elvis presley', 'elvis presley', 'elton john', 'bee gees', 'bad religion', 'elvis presley', 'elvis costello', 'bee gees', 'ella fitzgerald', 'chris brown', 'the rolling stones', 'elvis presley', 'glee', 'beyonce', 'bad religion', 'the rolling stones', 'ella fitzgerald', 'beyonce', 'chris brown', 'chris brown', 'chris brown', 'elvis presley', 'elvis costello', 'elvis presley', 'bee gees', 'chris brown', 'the rolling stones', 'elvis presley', 'chris brown', 'elton john', 'the rolling stones', 'elton john', 'elton john', 'elvis costello', 'elton john', 'the rolling stones', 'glee', 'chris brown', 'ella fitzgerald', 'beyonce', 'bad religion', 'elvis presley', 'beyonce', 'elvis presley', 'the rolling stones', 'glee', 'elvis costello', 'bad religion', 'chris brown', 'elvis costello', 'elvis costello', 'beyonce', 'elvis presley', 'bad religion', 'elvis costello', 'chris brown', 'the rolling stones', 'beyonce', 'elvis costello', 'elton john', 'glee', 'elton john', 'glee', 'glee', 'elvis costello', 'elvis presley', 'elvis presley', 'ella fitzgerald', 'elvis presley', 'bad religion', 'chris brown', 'ella fitzgerald', 'elton john', 'bad religion', 'ella fitzgerald', 'chris brown', 'glee', 'the rolling stones', 'elvis presley', 'chris brown', 'bee gees', 'beyonce', 'glee', 'elvis costello', 'elvis presley', 'the rolling stones', 'beyonce', 'elvis presley', 'elton john', 'bee gees', 'elvis presley', 'bee gees', 'bee gees', 'bee gees', 'elvis presley', 'elvis presley', 'elvis costello', 'elvis costello', 'ella fitzgerald', 'elvis presley', 'the rolling stones', 'bad religion', 'the rolling stones', 'bee gees', 'bad religion', 'elvis presley', 'the rolling stones', 'chris brown', 'beyonce', 'glee', 'beyonce', 'chris brown', 'elvis costello', 'the rolling stones', 'glee', 'elton john', 'chris brown', 'glee', 'bee gees', 'chris brown', 'ella fitzgerald', 'ella fitzgerald', 'the rolling stones', 'ella fitzgerald', 'glee', 'elvis costello', 'ella fitzgerald', 'bad religion', 'chris brown', 'elton john', 'beyonce', 'elvis costello', 'ella fitzgerald', 'elton john', 'elvis costello', 'bee gees', 'chris brown', 'ella fitzgerald', 'elvis presley', 'glee', 'elvis presley', 'chris brown', 'bad religion', 'chris brown', 'glee', 'chris brown', 'chris brown', 'elton john', 'bad religion', 'bee gees', 'the rolling stones', 'elvis costello', 'elvis costello', 'the rolling stones', 'elvis costello', 'chris brown', 'glee', 'the rolling stones', 'beyonce', 'the rolling stones', 'bad religion', 'the rolling stones', 'ella fitzgerald', 'elvis presley', 'elvis presley', 'bee gees', 'beyonce', 'elvis presley', 'elvis presley', 'ella fitzgerald', 'beyonce', 'bee gees', 'beyonce', 'beyonce', 'glee', 'elvis costello', 'chris brown', 'beyonce', 'elvis presley', 'bee gees', 'elvis presley', 'elvis presley', 'beyonce', 'elvis costello', 'chris brown', 'the rolling stones', 'beyonce', 'beyonce', 'elvis presley', 'ella fitzgerald', 'chris brown', 'bee gees', 'bad religion', 'elton john', 'elvis presley', 'glee', 'glee', 'bee gees', 'chris brown', 'elvis presley', 'bee gees', 'bee gees', 'glee', 'bee gees', 'elvis costello', 'chris brown', 'elvis presley', 'elton john', 'elvis costello', 'the rolling stones', 'ella fitzgerald', 'glee', 'elton john', 'chris brown', 'bee gees', 'chris brown', 'bee gees', 'elvis presley', 'elvis presley', 'the rolling stones', 'ella fitzgerald', 'elvis costello', 'bad religion', 'elvis presley', 'bee gees', 'bad religion', 'ella fitzgerald', 'chris brown', 'the rolling stones', 'bad religion', 'elvis presley', 'chris brown', 'elvis presley', 'bee gees', 'chris brown', 'elvis costello', 'elton john', 'bee gees', 'elton john', 'elton john', 'elton john', 'elvis presley', 'the rolling stones', 'bad religion', 'chris brown', 'chris brown', 'elton john', 'elton john', 'bee gees', 'the rolling stones', 'elvis presley', 'elvis presley', 'elvis presley', 'the rolling stones', 'elvis costello', 'elvis costello', 'ella fitzgerald', 'elvis presley', 'elvis presley', 'bee gees', 'elton john', 'glee', 'elvis costello', 'chris brown', 'glee', 'elvis presley', 'elton john', 'beyonce', 'ella fitzgerald', 'elvis presley', 'beyonce', 'glee', 'glee', 'elvis presley', 'elvis presley', 'bee gees', 'chris brown', 'bee gees', 'elvis presley', 'chris brown', 'ella fitzgerald', 'elvis costello', 'elton john', 'elton john', 'bee gees', 'glee', 'bee gees', 'chris brown', 'bee gees', 'beyonce', 'glee', 'the rolling stones', 'bad religion', 'beyonce', 'glee', 'beyonce', 'bad religion', 'elvis presley', 'bee gees', 'bee gees', 'glee', 'elvis costello', 'chris brown', 'bee gees', 'glee', 'bad religion', 'elvis presley', 'elvis presley', 'bad religion', 'elvis costello', 'elvis presley', 'elvis presley', 'the rolling stones', 'elvis costello', 'chris brown', 'elvis costello', 'the rolling stones', 'elvis presley', 'the rolling stones', 'beyonce', 'elvis costello', 'elvis costello', 'beyonce', 'elvis presley', 'the rolling stones', 'elvis presley', 'elvis presley', 'chris brown', 'chris brown', 'the rolling stones', 'chris brown', 'elvis presley', 'the rolling stones', 'elton john', 'the rolling stones', 'beyonce', 'bad religion', 'elvis presley', 'the rolling stones', 'glee', 'the rolling stones', 'ella fitzgerald', 'beyonce', 'elvis presley', 'elvis costello', 'elvis presley', 'chris brown', 'elvis presley', 'elvis costello', 'elvis presley', 'elvis presley', 'elton john', 'chris brown', 'beyonce', 'elvis costello', 'chris brown', 'bad religion', 'bee gees', 'beyonce', 'elvis presley', 'glee', 'bad religion', 'the rolling stones', 'elvis costello', 'beyonce', 'glee', 'chris brown', 'bee gees', 'beyonce', 'elvis presley', 'glee', 'chris brown', 'bee gees', 'beyonce', 'bad religion', 'the rolling stones', 'chris brown', 'chris brown', 'elvis presley', 'bee gees', 'the rolling stones', 'ella fitzgerald', 'elvis costello', 'elvis presley', 'bee gees', 'bad religion', 'ella fitzgerald', 'bad religion', 'elvis presley', 'the rolling stones', 'bee gees', 'chris brown', 'the rolling stones', 'the rolling stones', 'glee', 'beyonce', 'bee gees', 'elton john', 'elvis costello', 'chris brown', 'elvis costello', 'chris brown', 'chris brown', 'elvis presley', 'the rolling stones', 'bad religion', 'elvis presley', 'elvis presley', 'elvis costello', 'elton john', 'bee gees', 'ella fitzgerald', 'the rolling stones', 'elvis presley', 'elton john', 'elvis presley', 'the rolling stones', 'chris brown', 'bad religion', 'elvis presley', 'chris brown', 'beyonce', 'beyonce', 'beyonce', 'glee', 'elvis presley', 'elvis costello', 'elvis presley', 'elton john', 'elton john', 'elvis presley', 'elton john', 'ella fitzgerald', 'elvis presley', 'glee', 'ella fitzgerald', 'chris brown', 'bee gees', 'elvis costello', 'glee', 'chris brown', 'ella fitzgerald', 'bad religion', 'elton john', 'elvis presley', 'beyonce', 'elvis costello', 'beyonce', 'chris brown', 'bee gees', 'elvis costello', 'elvis presley', 'bad religion', 'elton john', 'elvis presley', 'elton john', 'glee', 'beyonce', 'chris brown', 'beyonce', 'chris brown', 'ella fitzgerald', 'glee', 'bee gees', 'bad religion', 'the rolling stones', 'glee', 'glee', 'the rolling stones', 'elton john', 'bad religion', 'glee', 'elton john', 'bee gees', 'elvis costello', 'bee gees', 'ella fitzgerald', 'glee', 'beyonce', 'bad religion', 'beyonce', 'beyonce', 'bee gees', 'the rolling stones', 'elton john', 'glee', 'elvis presley', 'chris brown', 'elvis presley', 'bee gees', 'bee gees', 'elvis costello', 'elvis costello', 'bee gees', 'elton john', 'bad religion', 'elvis presley', 'bad religion', 'chris brown', 'elton john', 'bee gees', 'bee gees', 'bad religion', 'bad religion', 'ella fitzgerald', 'chris brown', 'elvis presley', 'elvis presley', 'the rolling stones', 'ella fitzgerald', 'bad religion', 'glee', 'ella fitzgerald', 'elton john', 'bad religion', 'beyonce', 'elton john', 'beyonce', 'bee gees', 'elvis presley', 'ella fitzgerald', 'beyonce', 'elvis costello', 'beyonce', 'ella fitzgerald', 'bad religion', 'elvis presley', 'ella fitzgerald', 'chris brown', 'elvis costello', 'chris brown', 'elvis presley', 'glee', 'glee', 'the rolling stones', 'glee', 'elvis costello', 'glee', 'elton john', 'elvis presley', 'bee gees', 'ella fitzgerald', 'ella fitzgerald', 'elvis costello', 'ella fitzgerald', 'chris brown', 'chris brown', 'the rolling stones', 'bad religion', 'bad religion', 'bee gees', 'glee', 'bee gees', 'glee', 'glee', 'ella fitzgerald', 'elvis costello', 'bad religion', 'glee', 'beyonce', 'glee', 'elton john', 'bee gees', 'elvis costello', 'bee gees', 'glee', 'glee', 'ella fitzgerald', 'the rolling stones', 'glee', 'bad religion', 'beyonce', 'elton john', 'beyonce', 'elvis costello', 'beyonce', 'chris brown', 'elvis costello', 'bee gees', 'elton john', 'elton john', 'ella fitzgerald', 'ella fitzgerald', 'elvis presley', 'elvis presley', 'the rolling stones', 'elvis costello', 'glee', 'the rolling stones', 'elvis presley', 'beyonce', 'elvis presley', 'chris brown', 'elvis presley', 'ella fitzgerald', 'chris brown', 'the rolling stones', 'bee gees', 'bee gees', 'bee gees', 'bad religion']\n"
     ]
    },
    {
     "name": "stderr",
     "output_type": "stream",
     "text": [
      "/usr/local/lib/python3.7/dist-packages/tensorflow/python/data/ops/dataset_ops.py:3504: UserWarning: Even though the tf.config.experimental_run_functions_eagerly option is set, this option does not apply to tf.data functions. tf.data functions are still traced and executed as graphs.\n",
      "  \"Even though the tf.config.experimental_run_functions_eagerly \"\n"
     ]
    }
   ],
   "source": [
    "prediction = cnn_model02.predict(X_val)\n",
    "\n",
    "labels = ['bad religion', 'bee gees', 'beyonce', 'chris brown', 'ella fitzgerald', 'elton john', 'elvis costello', 'elvis presley', 'glee', 'the rolling stones']\n",
    "print(prediction)\n",
    "pred_str = []\n",
    "for i in range(928):\n",
    "  pred_str.append(labels[np.argmax(prediction[i])])\n",
    "print(pred_str)"
   ]
  },
  {
   "cell_type": "code",
   "execution_count": 173,
   "metadata": {
    "colab": {
     "base_uri": "https://localhost:8080/"
    },
    "executionInfo": {
     "elapsed": 951,
     "status": "ok",
     "timestamp": 1620049999584,
     "user": {
      "displayName": "Lan Zeng",
      "photoUrl": "",
      "userId": "17725825206879958125"
     },
     "user_tz": -60
    },
    "id": "HjtbiINEfCZi",
    "outputId": "53bca2c6-a632-4cf1-fbc3-5ae9f513901c"
   },
   "outputs": [
    {
     "name": "stdout",
     "output_type": "stream",
     "text": [
      "[['bad religion' '66']\n",
      " ['bee gees' '114']\n",
      " ['beyonce' '72']\n",
      " ['chris brown' '106']\n",
      " ['ella fitzgerald' '78']\n",
      " ['elton john' '74']\n",
      " ['elvis costello' '91']\n",
      " ['elvis presley' '158']\n",
      " ['glee' '84']\n",
      " ['the rolling stones' '85']]\n"
     ]
    }
   ],
   "source": [
    "(unique, counts) = np.unique(pred_str, return_counts=True)\n",
    "frequencies = np.asarray((unique, counts)).T\n",
    "\n",
    "print(frequencies)"
   ]
  },
  {
   "cell_type": "code",
   "execution_count": null,
   "metadata": {
    "id": "q1n9cgkkgTLS"
   },
   "outputs": [],
   "source": []
  }
 ],
 "metadata": {
  "accelerator": "GPU",
  "colab": {
   "collapsed_sections": [],
   "name": "CA_Transfer_Learning.ipynb",
   "provenance": []
  },
  "kernelspec": {
   "display_name": "Python 3",
   "language": "python",
   "name": "python3"
  },
  "language_info": {
   "codemirror_mode": {
    "name": "ipython",
    "version": 3
   },
   "file_extension": ".py",
   "mimetype": "text/x-python",
   "name": "python",
   "nbconvert_exporter": "python",
   "pygments_lexer": "ipython3",
   "version": "3.8.5"
  }
 },
 "nbformat": 4,
 "nbformat_minor": 1
}
