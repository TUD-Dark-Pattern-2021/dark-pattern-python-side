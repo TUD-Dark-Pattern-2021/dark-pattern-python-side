{
 "cells": [
  {
   "cell_type": "code",
   "execution_count": 1,
   "metadata": {
    "colab": {
     "base_uri": "https://localhost:8080/"
    },
    "executionInfo": {
     "elapsed": 8481,
     "status": "ok",
     "timestamp": 1620374076672,
     "user": {
      "displayName": "Dorothy Maiti",
      "photoUrl": "https://lh3.googleusercontent.com/a-/AOh14Gi8WG59LBZGTYr6wF86GHMlY4KXgBYmcDPHvSgP=s64",
      "userId": "18108151016445992224"
     },
     "user_tz": -60
    },
    "id": "cAyIqV2h6K4x",
    "outputId": "7e880dec-26e7-425c-94a3-b60aa7a5b72c"
   },
   "outputs": [
    {
     "name": "stdout",
     "output_type": "stream",
     "text": [
      "Found GPU at: /device:GPU:0\n"
     ]
    }
   ],
   "source": [
    "%tensorflow_version 2.x\n",
    "import tensorflow as tf\n",
    "device_name = tf.test.gpu_device_name()\n",
    "if device_name != '/device:GPU:0':\n",
    "  raise SystemError('GPU device not found')\n",
    "print('Found GPU at: {}'.format(device_name))"
   ]
  },
  {
   "cell_type": "code",
   "execution_count": 2,
   "metadata": {
    "colab": {
     "base_uri": "https://localhost:8080/"
    },
    "executionInfo": {
     "elapsed": 24317,
     "status": "ok",
     "timestamp": 1620374216700,
     "user": {
      "displayName": "Dorothy Maiti",
      "photoUrl": "https://lh3.googleusercontent.com/a-/AOh14Gi8WG59LBZGTYr6wF86GHMlY4KXgBYmcDPHvSgP=s64",
      "userId": "18108151016445992224"
     },
     "user_tz": -60
    },
    "id": "nTu_9ECz77WO",
    "outputId": "470a5d01-ad33-4091-fc81-37f682b2b9f4"
   },
   "outputs": [
    {
     "name": "stdout",
     "output_type": "stream",
     "text": [
      "Mounted at /content/drive\n"
     ]
    }
   ],
   "source": [
    "from google.colab import drive\n",
    "drive.mount('/content/drive')"
   ]
  },
  {
   "cell_type": "code",
   "execution_count": 3,
   "metadata": {
    "colab": {
     "base_uri": "https://localhost:8080/"
    },
    "executionInfo": {
     "elapsed": 6917,
     "status": "ok",
     "timestamp": 1620374231257,
     "user": {
      "displayName": "Dorothy Maiti",
      "photoUrl": "https://lh3.googleusercontent.com/a-/AOh14Gi8WG59LBZGTYr6wF86GHMlY4KXgBYmcDPHvSgP=s64",
      "userId": "18108151016445992224"
     },
     "user_tz": -60
    },
    "id": "weT--4TOQABA",
    "outputId": "a42eddfd-caff-4fe1-ba19-991c44b9e8ca"
   },
   "outputs": [
    {
     "name": "stdout",
     "output_type": "stream",
     "text": [
      "\u001b[K     |████████████████████████████████| 2.4MB 10.0MB/s \n",
      "\u001b[?25h"
     ]
    },
    {
     "name": "stderr",
     "output_type": "stream",
     "text": [
      "/usr/local/lib/python3.7/dist-packages/sklearn/externals/joblib/__init__.py:15: FutureWarning: sklearn.externals.joblib is deprecated in 0.21 and will be removed in 0.23. Please import this functionality directly from joblib, which can be installed with: pip install joblib. If this warning is raised when loading pickled models, you may need to re-serialize those models with scikit-learn 0.21+.\n",
      "  warnings.warn(msg, category=FutureWarning)\n",
      "/usr/local/lib/python3.7/dist-packages/sklearn/base.py:318: UserWarning: Trying to unpickle estimator CountVectorizer from version 0.20.2 when using version 0.22.2.post1. This might lead to breaking code or invalid results. Use at your own risk.\n",
      "  UserWarning)\n",
      "/usr/local/lib/python3.7/dist-packages/sklearn/utils/deprecation.py:144: FutureWarning: The sklearn.svm.classes module is  deprecated in version 0.22 and will be removed in version 0.24. The corresponding classes / functions should instead be imported from sklearn.svm. Anything that cannot be imported from sklearn.svm is now part of the private API.\n",
      "  warnings.warn(message, FutureWarning)\n",
      "/usr/local/lib/python3.7/dist-packages/sklearn/base.py:318: UserWarning: Trying to unpickle estimator LinearSVC from version 0.20.2 when using version 0.22.2.post1. This might lead to breaking code or invalid results. Use at your own risk.\n",
      "  UserWarning)\n",
      "/usr/local/lib/python3.7/dist-packages/sklearn/utils/deprecation.py:144: FutureWarning: The sklearn.preprocessing.label module is  deprecated in version 0.22 and will be removed in version 0.24. The corresponding classes / functions should instead be imported from sklearn.preprocessing. Anything that cannot be imported from sklearn.preprocessing is now part of the private API.\n",
      "  warnings.warn(message, FutureWarning)\n",
      "/usr/local/lib/python3.7/dist-packages/sklearn/base.py:318: UserWarning: Trying to unpickle estimator LabelEncoder from version 0.20.2 when using version 0.22.2.post1. This might lead to breaking code or invalid results. Use at your own risk.\n",
      "  UserWarning)\n",
      "/usr/local/lib/python3.7/dist-packages/sklearn/base.py:318: UserWarning: Trying to unpickle estimator _SigmoidCalibration from version 0.20.2 when using version 0.22.2.post1. This might lead to breaking code or invalid results. Use at your own risk.\n",
      "  UserWarning)\n",
      "/usr/local/lib/python3.7/dist-packages/sklearn/base.py:318: UserWarning: Trying to unpickle estimator CalibratedClassifierCV from version 0.20.2 when using version 0.22.2.post1. This might lead to breaking code or invalid results. Use at your own risk.\n",
      "  UserWarning)\n"
     ]
    }
   ],
   "source": [
    "import pandas as pd\n",
    "import numpy as np\n",
    "import tensorflow as tf\n",
    "from tensorflow import keras\n",
    "from tensorflow.keras.models import Sequential\n",
    "from sklearn.model_selection import train_test_split\n",
    "from tensorflow.keras.callbacks import LambdaCallback, ModelCheckpoint, EarlyStopping\n",
    "from tensorflow.keras.layers import Dense, Dropout, Activation, LSTM, Bidirectional, Embedding\n",
    "!pip install -q profanity-check\n",
    "from profanity_check import predict"
   ]
  },
  {
   "cell_type": "code",
   "execution_count": 4,
   "metadata": {
    "executionInfo": {
     "elapsed": 7566,
     "status": "ok",
     "timestamp": 1620374240995,
     "user": {
      "displayName": "Dorothy Maiti",
      "photoUrl": "https://lh3.googleusercontent.com/a-/AOh14Gi8WG59LBZGTYr6wF86GHMlY4KXgBYmcDPHvSgP=s64",
      "userId": "18108151016445992224"
     },
     "user_tz": -60
    },
    "id": "fK3iVhDUQCPw"
   },
   "outputs": [],
   "source": [
    "data = pd.read_csv('/content/drive/MyDrive/Colab Notebooks/train.csv')"
   ]
  },
  {
   "cell_type": "code",
   "execution_count": 5,
   "metadata": {
    "colab": {
     "base_uri": "https://localhost:8080/"
    },
    "executionInfo": {
     "elapsed": 862,
     "status": "ok",
     "timestamp": 1620374246267,
     "user": {
      "displayName": "Dorothy Maiti",
      "photoUrl": "https://lh3.googleusercontent.com/a-/AOh14Gi8WG59LBZGTYr6wF86GHMlY4KXgBYmcDPHvSgP=s64",
      "userId": "18108151016445992224"
     },
     "user_tz": -60
    },
    "id": "upeVZ44iQRPf",
    "outputId": "f596799c-600c-45d6-d2c9-14149ea096ce"
   },
   "outputs": [
    {
     "name": "stdout",
     "output_type": "stream",
     "text": [
      "Rock          121404\n",
      "Pop           108714\n",
      "Metal          20291\n",
      "Jazz           13545\n",
      "Folk            8644\n",
      "Indie           8449\n",
      "R&B             2793\n",
      "Hip-Hop         2240\n",
      "Electronic      2213\n",
      "Country         1890\n",
      "Name: Genre, dtype: int64\n"
     ]
    }
   ],
   "source": [
    "count = data['Genre'].value_counts()\n",
    "print(count.head(10))"
   ]
  },
  {
   "cell_type": "code",
   "execution_count": 6,
   "metadata": {
    "colab": {
     "base_uri": "https://localhost:8080/",
     "height": 402
    },
    "executionInfo": {
     "elapsed": 1195,
     "status": "ok",
     "timestamp": 1620374249064,
     "user": {
      "displayName": "Dorothy Maiti",
      "photoUrl": "https://lh3.googleusercontent.com/a-/AOh14Gi8WG59LBZGTYr6wF86GHMlY4KXgBYmcDPHvSgP=s64",
      "userId": "18108151016445992224"
     },
     "user_tz": -60
    },
    "id": "ujmmyU_vmHtn",
    "outputId": "51ab7022-a7bc-479a-c352-77a681a429f5"
   },
   "outputs": [
    {
     "data": {
      "text/html": [
       "<div>\n",
       "<style scoped>\n",
       "    .dataframe tbody tr th:only-of-type {\n",
       "        vertical-align: middle;\n",
       "    }\n",
       "\n",
       "    .dataframe tbody tr th {\n",
       "        vertical-align: top;\n",
       "    }\n",
       "\n",
       "    .dataframe thead th {\n",
       "        text-align: right;\n",
       "    }\n",
       "</style>\n",
       "<table border=\"1\" class=\"dataframe\">\n",
       "  <thead>\n",
       "    <tr style=\"text-align: right;\">\n",
       "      <th></th>\n",
       "      <th>Artist</th>\n",
       "      <th>Song</th>\n",
       "      <th>Genre</th>\n",
       "      <th>Language</th>\n",
       "      <th>Lyrics</th>\n",
       "    </tr>\n",
       "  </thead>\n",
       "  <tbody>\n",
       "    <tr>\n",
       "      <th>0</th>\n",
       "      <td>12 stones</td>\n",
       "      <td>world so cold</td>\n",
       "      <td>Rock</td>\n",
       "      <td>en</td>\n",
       "      <td>It starts with pain, followed by hate\\nFueled ...</td>\n",
       "    </tr>\n",
       "    <tr>\n",
       "      <th>1</th>\n",
       "      <td>12 stones</td>\n",
       "      <td>broken</td>\n",
       "      <td>Rock</td>\n",
       "      <td>en</td>\n",
       "      <td>Freedom!\\nAlone again again alone\\nPatiently w...</td>\n",
       "    </tr>\n",
       "    <tr>\n",
       "      <th>2</th>\n",
       "      <td>12 stones</td>\n",
       "      <td>3 leaf loser</td>\n",
       "      <td>Rock</td>\n",
       "      <td>en</td>\n",
       "      <td>Biting the hand that feeds you, lying to the v...</td>\n",
       "    </tr>\n",
       "    <tr>\n",
       "      <th>3</th>\n",
       "      <td>12 stones</td>\n",
       "      <td>anthem for the underdog</td>\n",
       "      <td>Rock</td>\n",
       "      <td>en</td>\n",
       "      <td>You say you know just who I am\\nBut you can't ...</td>\n",
       "    </tr>\n",
       "    <tr>\n",
       "      <th>4</th>\n",
       "      <td>12 stones</td>\n",
       "      <td>adrenaline</td>\n",
       "      <td>Rock</td>\n",
       "      <td>en</td>\n",
       "      <td>My heart is beating faster can't control these...</td>\n",
       "    </tr>\n",
       "    <tr>\n",
       "      <th>...</th>\n",
       "      <td>...</td>\n",
       "      <td>...</td>\n",
       "      <td>...</td>\n",
       "      <td>...</td>\n",
       "      <td>...</td>\n",
       "    </tr>\n",
       "    <tr>\n",
       "      <th>290178</th>\n",
       "      <td>bobby womack</td>\n",
       "      <td>i wish he didn t trust me so much</td>\n",
       "      <td>R&amp;B</td>\n",
       "      <td>en</td>\n",
       "      <td>I'm the best friend he's got I'd give him the ...</td>\n",
       "    </tr>\n",
       "    <tr>\n",
       "      <th>290179</th>\n",
       "      <td>bad boys blue</td>\n",
       "      <td>i totally miss you</td>\n",
       "      <td>Pop</td>\n",
       "      <td>en</td>\n",
       "      <td>Bad Boys Blue \"I Totally Miss You\" I did you w...</td>\n",
       "    </tr>\n",
       "    <tr>\n",
       "      <th>290180</th>\n",
       "      <td>celine dion</td>\n",
       "      <td>sorry for love</td>\n",
       "      <td>Pop</td>\n",
       "      <td>en</td>\n",
       "      <td>Forgive me for the things That I never said to...</td>\n",
       "    </tr>\n",
       "    <tr>\n",
       "      <th>290181</th>\n",
       "      <td>dan bern</td>\n",
       "      <td>cure for aids</td>\n",
       "      <td>Indie</td>\n",
       "      <td>en</td>\n",
       "      <td>The day they found a cure for AIDS The day the...</td>\n",
       "    </tr>\n",
       "    <tr>\n",
       "      <th>290182</th>\n",
       "      <td>crawdad republic</td>\n",
       "      <td>iceberg meadows</td>\n",
       "      <td>Pop</td>\n",
       "      <td>en</td>\n",
       "      <td>Fourth of July has come, it's custom that we g...</td>\n",
       "    </tr>\n",
       "  </tbody>\n",
       "</table>\n",
       "<p>250197 rows × 5 columns</p>\n",
       "</div>"
      ],
      "text/plain": [
       "                  Artist  ...                                             Lyrics\n",
       "0              12 stones  ...  It starts with pain, followed by hate\\nFueled ...\n",
       "1              12 stones  ...  Freedom!\\nAlone again again alone\\nPatiently w...\n",
       "2              12 stones  ...  Biting the hand that feeds you, lying to the v...\n",
       "3              12 stones  ...  You say you know just who I am\\nBut you can't ...\n",
       "4              12 stones  ...  My heart is beating faster can't control these...\n",
       "...                  ...  ...                                                ...\n",
       "290178      bobby womack  ...  I'm the best friend he's got I'd give him the ...\n",
       "290179     bad boys blue  ...  Bad Boys Blue \"I Totally Miss You\" I did you w...\n",
       "290180       celine dion  ...  Forgive me for the things That I never said to...\n",
       "290181          dan bern  ...  The day they found a cure for AIDS The day the...\n",
       "290182  crawdad republic  ...  Fourth of July has come, it's custom that we g...\n",
       "\n",
       "[250197 rows x 5 columns]"
      ]
     },
     "execution_count": 6,
     "metadata": {
      "tags": []
     },
     "output_type": "execute_result"
    }
   ],
   "source": [
    "df = data[data['Language']=='en']\n",
    "df"
   ]
  },
  {
   "cell_type": "code",
   "execution_count": 7,
   "metadata": {
    "executionInfo": {
     "elapsed": 1061,
     "status": "ok",
     "timestamp": 1620374253603,
     "user": {
      "displayName": "Dorothy Maiti",
      "photoUrl": "https://lh3.googleusercontent.com/a-/AOh14Gi8WG59LBZGTYr6wF86GHMlY4KXgBYmcDPHvSgP=s64",
      "userId": "18108151016445992224"
     },
     "user_tz": -60
    },
    "id": "vubI5blEQ0NI"
   },
   "outputs": [],
   "source": [
    "options=['Pop']\n",
    "df1 = data[data['Genre'].isin(options)]\n",
    "df1 = pd.DataFrame(df, columns = ['Lyrics'])"
   ]
  },
  {
   "cell_type": "code",
   "execution_count": null,
   "metadata": {
    "colab": {
     "base_uri": "https://localhost:8080/",
     "height": 407
    },
    "id": "oDGf496TRe70",
    "outputId": "948ee670-5150-4fa9-92f3-62ab9fbf85bb"
   },
   "outputs": [
    {
     "data": {
      "text/html": [
       "<div>\n",
       "<style scoped>\n",
       "    .dataframe tbody tr th:only-of-type {\n",
       "        vertical-align: middle;\n",
       "    }\n",
       "\n",
       "    .dataframe tbody tr th {\n",
       "        vertical-align: top;\n",
       "    }\n",
       "\n",
       "    .dataframe thead th {\n",
       "        text-align: right;\n",
       "    }\n",
       "</style>\n",
       "<table border=\"1\" class=\"dataframe\">\n",
       "  <thead>\n",
       "    <tr style=\"text-align: right;\">\n",
       "      <th></th>\n",
       "      <th>Lyrics</th>\n",
       "    </tr>\n",
       "  </thead>\n",
       "  <tbody>\n",
       "    <tr>\n",
       "      <th>0</th>\n",
       "      <td>It starts with pain, followed by hate\\nFueled ...</td>\n",
       "    </tr>\n",
       "    <tr>\n",
       "      <th>1</th>\n",
       "      <td>Freedom!\\nAlone again again alone\\nPatiently w...</td>\n",
       "    </tr>\n",
       "    <tr>\n",
       "      <th>2</th>\n",
       "      <td>Biting the hand that feeds you, lying to the v...</td>\n",
       "    </tr>\n",
       "    <tr>\n",
       "      <th>3</th>\n",
       "      <td>You say you know just who I am\\nBut you can't ...</td>\n",
       "    </tr>\n",
       "    <tr>\n",
       "      <th>4</th>\n",
       "      <td>My heart is beating faster can't control these...</td>\n",
       "    </tr>\n",
       "    <tr>\n",
       "      <th>...</th>\n",
       "      <td>...</td>\n",
       "    </tr>\n",
       "    <tr>\n",
       "      <th>290178</th>\n",
       "      <td>I'm the best friend he's got I'd give him the ...</td>\n",
       "    </tr>\n",
       "    <tr>\n",
       "      <th>290179</th>\n",
       "      <td>Bad Boys Blue \"I Totally Miss You\" I did you w...</td>\n",
       "    </tr>\n",
       "    <tr>\n",
       "      <th>290180</th>\n",
       "      <td>Forgive me for the things That I never said to...</td>\n",
       "    </tr>\n",
       "    <tr>\n",
       "      <th>290181</th>\n",
       "      <td>The day they found a cure for AIDS The day the...</td>\n",
       "    </tr>\n",
       "    <tr>\n",
       "      <th>290182</th>\n",
       "      <td>Fourth of July has come, it's custom that we g...</td>\n",
       "    </tr>\n",
       "  </tbody>\n",
       "</table>\n",
       "<p>250197 rows × 1 columns</p>\n",
       "</div>"
      ],
      "text/plain": [
       "                                                   Lyrics\n",
       "0       It starts with pain, followed by hate\\nFueled ...\n",
       "1       Freedom!\\nAlone again again alone\\nPatiently w...\n",
       "2       Biting the hand that feeds you, lying to the v...\n",
       "3       You say you know just who I am\\nBut you can't ...\n",
       "4       My heart is beating faster can't control these...\n",
       "...                                                   ...\n",
       "290178  I'm the best friend he's got I'd give him the ...\n",
       "290179  Bad Boys Blue \"I Totally Miss You\" I did you w...\n",
       "290180  Forgive me for the things That I never said to...\n",
       "290181  The day they found a cure for AIDS The day the...\n",
       "290182  Fourth of July has come, it's custom that we g...\n",
       "\n",
       "[250197 rows x 1 columns]"
      ]
     },
     "execution_count": 6,
     "metadata": {
      "tags": []
     },
     "output_type": "execute_result"
    }
   ],
   "source": [
    "df1"
   ]
  },
  {
   "cell_type": "code",
   "execution_count": 8,
   "metadata": {
    "colab": {
     "base_uri": "https://localhost:8080/"
    },
    "executionInfo": {
     "elapsed": 14030,
     "status": "ok",
     "timestamp": 1620374272682,
     "user": {
      "displayName": "Dorothy Maiti",
      "photoUrl": "https://lh3.googleusercontent.com/a-/AOh14Gi8WG59LBZGTYr6wF86GHMlY4KXgBYmcDPHvSgP=s64",
      "userId": "18108151016445992224"
     },
     "user_tz": -60
    },
    "id": "rkeAEfyfWeOl",
    "outputId": "3294027d-8027-4ea3-9fb3-56b58037e2f2"
   },
   "outputs": [
    {
     "name": "stdout",
     "output_type": "stream",
     "text": [
      "249822\n"
     ]
    }
   ],
   "source": [
    "count=0\n",
    "actual_count=0\n",
    "for i in range(1000):\n",
    "  #print(type(df1.iloc[i]['Lyrics']))\n",
    "  if predict([df1.iloc[i]['Lyrics']])==1:\n",
    "    #print(\"Offensive word found\")\n",
    "    count=count+1\n",
    "    try:\n",
    "      df1=df1.drop([i])\n",
    "      actual_count=actual_count+1\n",
    "    except:\n",
    "      pass\n",
    "  else:\n",
    "    pass\n",
    "print(len(df1))"
   ]
  },
  {
   "cell_type": "code",
   "execution_count": 9,
   "metadata": {
    "executionInfo": {
     "elapsed": 475,
     "status": "ok",
     "timestamp": 1620374274203,
     "user": {
      "displayName": "Dorothy Maiti",
      "photoUrl": "https://lh3.googleusercontent.com/a-/AOh14Gi8WG59LBZGTYr6wF86GHMlY4KXgBYmcDPHvSgP=s64",
      "userId": "18108151016445992224"
     },
     "user_tz": -60
    },
    "id": "40vlFmm4WjgC"
   },
   "outputs": [],
   "source": [
    "df1=df1.head(500)"
   ]
  },
  {
   "cell_type": "code",
   "execution_count": 10,
   "metadata": {
    "colab": {
     "base_uri": "https://localhost:8080/"
    },
    "executionInfo": {
     "elapsed": 1080,
     "status": "ok",
     "timestamp": 1620374276969,
     "user": {
      "displayName": "Dorothy Maiti",
      "photoUrl": "https://lh3.googleusercontent.com/a-/AOh14Gi8WG59LBZGTYr6wF86GHMlY4KXgBYmcDPHvSgP=s64",
      "userId": "18108151016445992224"
     },
     "user_tz": -60
    },
    "id": "ffb1NrBjqKOB",
    "outputId": "d573887b-4e7c-4d44-e905-c9a1d5f86849"
   },
   "outputs": [
    {
     "data": {
      "text/plain": [
       "(500, 1)"
      ]
     },
     "execution_count": 10,
     "metadata": {
      "tags": []
     },
     "output_type": "execute_result"
    }
   ],
   "source": [
    "pop_sub = df1\n",
    "\n",
    "pop_sub.shape"
   ]
  },
  {
   "cell_type": "code",
   "execution_count": null,
   "metadata": {
    "colab": {
     "base_uri": "https://localhost:8080/",
     "height": 407
    },
    "id": "Fq-KiOYa6v24",
    "outputId": "c08b6006-c39a-4528-ae47-996264fbafb2"
   },
   "outputs": [
    {
     "data": {
      "text/html": [
       "<div>\n",
       "<style scoped>\n",
       "    .dataframe tbody tr th:only-of-type {\n",
       "        vertical-align: middle;\n",
       "    }\n",
       "\n",
       "    .dataframe tbody tr th {\n",
       "        vertical-align: top;\n",
       "    }\n",
       "\n",
       "    .dataframe thead th {\n",
       "        text-align: right;\n",
       "    }\n",
       "</style>\n",
       "<table border=\"1\" class=\"dataframe\">\n",
       "  <thead>\n",
       "    <tr style=\"text-align: right;\">\n",
       "      <th></th>\n",
       "      <th>Lyrics</th>\n",
       "    </tr>\n",
       "  </thead>\n",
       "  <tbody>\n",
       "    <tr>\n",
       "      <th>54770</th>\n",
       "      <td>lives in a little lonely town\\nno one's around...</td>\n",
       "    </tr>\n",
       "    <tr>\n",
       "      <th>90090</th>\n",
       "      <td>Break, break down, steady breakin' me on down\\...</td>\n",
       "    </tr>\n",
       "    <tr>\n",
       "      <th>253489</th>\n",
       "      <td>All throughout the centuries, existing year to...</td>\n",
       "    </tr>\n",
       "    <tr>\n",
       "      <th>224029</th>\n",
       "      <td>This tattered document\\nA mystery you can solv...</td>\n",
       "    </tr>\n",
       "    <tr>\n",
       "      <th>37167</th>\n",
       "      <td>My love\\nwherever you are\\nWhatever you are\\nD...</td>\n",
       "    </tr>\n",
       "    <tr>\n",
       "      <th>...</th>\n",
       "      <td>...</td>\n",
       "    </tr>\n",
       "    <tr>\n",
       "      <th>216222</th>\n",
       "      <td>We describe the sensation\\nAs a tearing in our...</td>\n",
       "    </tr>\n",
       "    <tr>\n",
       "      <th>262616</th>\n",
       "      <td>hey\\nhey\\nhey\\nhey\\nhey\\nhey\\nhey\\nhey\\nhey\\nh...</td>\n",
       "    </tr>\n",
       "    <tr>\n",
       "      <th>167508</th>\n",
       "      <td>Oh to sing this song makes me angry\\nI'm not a...</td>\n",
       "    </tr>\n",
       "    <tr>\n",
       "      <th>141551</th>\n",
       "      <td>Watching the tidals that wash to the shore - I...</td>\n",
       "    </tr>\n",
       "    <tr>\n",
       "      <th>243013</th>\n",
       "      <td>Let there be you\\nLet there be me\\nLet there b...</td>\n",
       "    </tr>\n",
       "  </tbody>\n",
       "</table>\n",
       "<p>1000 rows × 1 columns</p>\n",
       "</div>"
      ],
      "text/plain": [
       "                                                   Lyrics\n",
       "54770   lives in a little lonely town\\nno one's around...\n",
       "90090   Break, break down, steady breakin' me on down\\...\n",
       "253489  All throughout the centuries, existing year to...\n",
       "224029  This tattered document\\nA mystery you can solv...\n",
       "37167   My love\\nwherever you are\\nWhatever you are\\nD...\n",
       "...                                                   ...\n",
       "216222  We describe the sensation\\nAs a tearing in our...\n",
       "262616  hey\\nhey\\nhey\\nhey\\nhey\\nhey\\nhey\\nhey\\nhey\\nh...\n",
       "167508  Oh to sing this song makes me angry\\nI'm not a...\n",
       "141551  Watching the tidals that wash to the shore - I...\n",
       "243013  Let there be you\\nLet there be me\\nLet there b...\n",
       "\n",
       "[1000 rows x 1 columns]"
      ]
     },
     "execution_count": 9,
     "metadata": {
      "tags": []
     },
     "output_type": "execute_result"
    }
   ],
   "source": [
    "pop_sub"
   ]
  },
  {
   "cell_type": "code",
   "execution_count": 11,
   "metadata": {
    "executionInfo": {
     "elapsed": 671,
     "status": "ok",
     "timestamp": 1620374282594,
     "user": {
      "displayName": "Dorothy Maiti",
      "photoUrl": "https://lh3.googleusercontent.com/a-/AOh14Gi8WG59LBZGTYr6wF86GHMlY4KXgBYmcDPHvSgP=s64",
      "userId": "18108151016445992224"
     },
     "user_tz": -60
    },
    "id": "nhkC-GngcA2C"
   },
   "outputs": [],
   "source": [
    "pop_lyrics = pop_sub['Lyrics'].astype('str')\n"
   ]
  },
  {
   "cell_type": "code",
   "execution_count": 12,
   "metadata": {
    "colab": {
     "base_uri": "https://localhost:8080/",
     "height": 120
    },
    "executionInfo": {
     "elapsed": 1086,
     "status": "ok",
     "timestamp": 1620374285420,
     "user": {
      "displayName": "Dorothy Maiti",
      "photoUrl": "https://lh3.googleusercontent.com/a-/AOh14Gi8WG59LBZGTYr6wF86GHMlY4KXgBYmcDPHvSgP=s64",
      "userId": "18108151016445992224"
     },
     "user_tz": -60
    },
    "id": "4lkPmXRvixhC",
    "outputId": "deae4903-6637-432b-d049-d728eb180858"
   },
   "outputs": [
    {
     "data": {
      "application/vnd.google.colaboratory.intrinsic+json": {
       "type": "string"
      },
      "text/plain": [
       "\"Freedom!\\nAlone again again alone\\nPatiently waiting by the phone\\nHoping that you will call me home\\nThe pain inside my love denied\\nHopes and dreams swallowed by pride\\nEverything I need it lies in you\\n'Cause I'm broken\\nI know I need you now\\n'Cause deep inside I'm broken\\nYou see the way I live\\nI know I know your heart is broken\\nWhen I turn away\\nI need to be broken\\nTake the pain away\\nI question why you chose to die\\nWhen you knew your truth I would deny\\nYou look at me\\nThe tears begin to fall\\nAnd all in all faith is blind\\nBut I fail time after time\\nDaily in my sin I take your life\\n'Cause I'm broken\\nI know I need you now\\n'Cause deep inside I'm broken\\nYou see the way I live\\nI know I know your heart is broken\\nWhen I turn away\\nI need to be broken\\nTake the pain away\\nAll the hate deep inside\\nSlowly covering my eyes\\nAll these things I hide\\nAway from you again\\nAll this fear holding me\\nMy heart is cold and I believe\\nNothing's gonna change\\nUntil I'm broken\\nThis time\\nLet go!\\n'Cause I'm broken\\nI know I need you now\\n'Cause deep inside I'm broken\\nYou see the way I live\\nI know I know your heart is broken\\nWhen I turn away\\nI need to be broken\\nTake the pain away\\nBroken\\nBroken\\nBroken\\nBroken\""
      ]
     },
     "execution_count": 12,
     "metadata": {
      "tags": []
     },
     "output_type": "execute_result"
    }
   ],
   "source": [
    "poplist = list(pop_lyrics)\n",
    "\n",
    "poplist[0]"
   ]
  },
  {
   "cell_type": "code",
   "execution_count": 13,
   "metadata": {
    "executionInfo": {
     "elapsed": 1010,
     "status": "ok",
     "timestamp": 1620374290067,
     "user": {
      "displayName": "Dorothy Maiti",
      "photoUrl": "https://lh3.googleusercontent.com/a-/AOh14Gi8WG59LBZGTYr6wF86GHMlY4KXgBYmcDPHvSgP=s64",
      "userId": "18108151016445992224"
     },
     "user_tz": -60
    },
    "id": "iusQLUy8fcHT"
   },
   "outputs": [],
   "source": [
    "import string\n",
    "\n",
    "def clean_text(txt):\n",
    "    txt = \"\".join(i for i in txt if i not in string.punctuation).lower()\n",
    "    txt = txt.replace(\"\\n\",\" \")\n",
    "    return txt \n"
   ]
  },
  {
   "cell_type": "code",
   "execution_count": 14,
   "metadata": {
    "colab": {
     "base_uri": "https://localhost:8080/",
     "height": 120
    },
    "executionInfo": {
     "elapsed": 856,
     "status": "ok",
     "timestamp": 1620374292226,
     "user": {
      "displayName": "Dorothy Maiti",
      "photoUrl": "https://lh3.googleusercontent.com/a-/AOh14Gi8WG59LBZGTYr6wF86GHMlY4KXgBYmcDPHvSgP=s64",
      "userId": "18108151016445992224"
     },
     "user_tz": -60
    },
    "id": "t2Itl5JHiPgq",
    "outputId": "7950b8e0-1abc-4ff1-e5d4-17fbe457c0a1"
   },
   "outputs": [
    {
     "data": {
      "application/vnd.google.colaboratory.intrinsic+json": {
       "type": "string"
      },
      "text/plain": [
       "'freedom alone again again alone patiently waiting by the phone hoping that you will call me home the pain inside my love denied hopes and dreams swallowed by pride everything i need it lies in you cause im broken i know i need you now cause deep inside im broken you see the way i live i know i know your heart is broken when i turn away i need to be broken take the pain away i question why you chose to die when you knew your truth i would deny you look at me the tears begin to fall and all in all faith is blind but i fail time after time daily in my sin i take your life cause im broken i know i need you now cause deep inside im broken you see the way i live i know i know your heart is broken when i turn away i need to be broken take the pain away all the hate deep inside slowly covering my eyes all these things i hide away from you again all this fear holding me my heart is cold and i believe nothings gonna change until im broken this time let go cause im broken i know i need you now cause deep inside im broken you see the way i live i know i know your heart is broken when i turn away i need to be broken take the pain away broken broken broken broken'"
      ]
     },
     "execution_count": 14,
     "metadata": {
      "tags": []
     },
     "output_type": "execute_result"
    }
   ],
   "source": [
    "corpus = [clean_text(x) for x in poplist]\n",
    "corpus[0]"
   ]
  },
  {
   "cell_type": "code",
   "execution_count": null,
   "metadata": {
    "colab": {
     "base_uri": "https://localhost:8080/"
    },
    "executionInfo": {
     "elapsed": 552,
     "status": "ok",
     "timestamp": 1620345964105,
     "user": {
      "displayName": "Dorothy Maiti",
      "photoUrl": "https://lh3.googleusercontent.com/a-/AOh14Gi8WG59LBZGTYr6wF86GHMlY4KXgBYmcDPHvSgP=s64",
      "userId": "18108151016445992224"
     },
     "user_tz": -60
    },
    "id": "qru7CmVjkfXk",
    "outputId": "afc23863-7180-42bf-8465-d361b60c51be"
   },
   "outputs": [
    {
     "data": {
      "text/plain": [
       "500"
      ]
     },
     "execution_count": 17,
     "metadata": {
      "tags": []
     },
     "output_type": "execute_result"
    }
   ],
   "source": [
    "len(corpus)"
   ]
  },
  {
   "cell_type": "code",
   "execution_count": 15,
   "metadata": {
    "executionInfo": {
     "elapsed": 1292,
     "status": "ok",
     "timestamp": 1620374297226,
     "user": {
      "displayName": "Dorothy Maiti",
      "photoUrl": "https://lh3.googleusercontent.com/a-/AOh14Gi8WG59LBZGTYr6wF86GHMlY4KXgBYmcDPHvSgP=s64",
      "userId": "18108151016445992224"
     },
     "user_tz": -60
    },
    "id": "DTfYGycHoSbc"
   },
   "outputs": [],
   "source": [
    "from keras.preprocessing.text import Tokenizer\n",
    "\n",
    "tokenizer = Tokenizer()\n",
    "\n",
    "def get_sequence_of_tokens(corpus):\n",
    "    ## tokenization\n",
    "    tokenizer.fit_on_texts(corpus)\n",
    "    total_words = len(tokenizer.word_index) + 1\n",
    "    \n",
    "    ## convert data to sequence of tokens \n",
    "    input_sequences = []\n",
    "    for line in corpus:\n",
    "        token_list = tokenizer.texts_to_sequences([line])[0]\n",
    "        for i in range(1, len(token_list)):\n",
    "            n_gram_sequence = token_list[:i+1]\n",
    "            input_sequences.append(n_gram_sequence)\n",
    "    return input_sequences, total_words"
   ]
  },
  {
   "cell_type": "code",
   "execution_count": 16,
   "metadata": {
    "executionInfo": {
     "elapsed": 2502,
     "status": "ok",
     "timestamp": 1620374301260,
     "user": {
      "displayName": "Dorothy Maiti",
      "photoUrl": "https://lh3.googleusercontent.com/a-/AOh14Gi8WG59LBZGTYr6wF86GHMlY4KXgBYmcDPHvSgP=s64",
      "userId": "18108151016445992224"
     },
     "user_tz": -60
    },
    "id": "1Gt-BTtRonDK"
   },
   "outputs": [],
   "source": [
    "inp_sequences, total_words = get_sequence_of_tokens(corpus)"
   ]
  },
  {
   "cell_type": "code",
   "execution_count": null,
   "metadata": {
    "colab": {
     "base_uri": "https://localhost:8080/"
    },
    "executionInfo": {
     "elapsed": 696,
     "status": "ok",
     "timestamp": 1620345975666,
     "user": {
      "displayName": "Dorothy Maiti",
      "photoUrl": "https://lh3.googleusercontent.com/a-/AOh14Gi8WG59LBZGTYr6wF86GHMlY4KXgBYmcDPHvSgP=s64",
      "userId": "18108151016445992224"
     },
     "user_tz": -60
    },
    "id": "8I38CC3posWS",
    "outputId": "5525850a-2d81-48eb-d0f3-ba4aa9919ce8"
   },
   "outputs": [
    {
     "data": {
      "text/plain": [
       "6416"
      ]
     },
     "execution_count": 20,
     "metadata": {
      "tags": []
     },
     "output_type": "execute_result"
    }
   ],
   "source": [
    "total_words"
   ]
  },
  {
   "cell_type": "code",
   "execution_count": 17,
   "metadata": {
    "colab": {
     "base_uri": "https://localhost:8080/"
    },
    "executionInfo": {
     "elapsed": 3627,
     "status": "ok",
     "timestamp": 1620374308116,
     "user": {
      "displayName": "Dorothy Maiti",
      "photoUrl": "https://lh3.googleusercontent.com/a-/AOh14Gi8WG59LBZGTYr6wF86GHMlY4KXgBYmcDPHvSgP=s64",
      "userId": "18108151016445992224"
     },
     "user_tz": -60
    },
    "id": "tgi2SDghq4Lm",
    "outputId": "0c55008b-1d6b-4875-94e8-60c724eaac88"
   },
   "outputs": [
    {
     "name": "stdout",
     "output_type": "stream",
     "text": [
      "500\n"
     ]
    }
   ],
   "source": [
    "from keras.preprocessing.sequence import pad_sequences\n",
    "\n",
    "max_sequence_len = 500\n",
    "print(max_sequence_len)\n",
    "inp_sequences = np.array(pad_sequences(inp_sequences,\n",
    "                       maxlen = max_sequence_len, padding='pre'))"
   ]
  },
  {
   "cell_type": "code",
   "execution_count": null,
   "metadata": {
    "colab": {
     "base_uri": "https://localhost:8080/"
    },
    "executionInfo": {
     "elapsed": 535,
     "status": "ok",
     "timestamp": 1620345981211,
     "user": {
      "displayName": "Dorothy Maiti",
      "photoUrl": "https://lh3.googleusercontent.com/a-/AOh14Gi8WG59LBZGTYr6wF86GHMlY4KXgBYmcDPHvSgP=s64",
      "userId": "18108151016445992224"
     },
     "user_tz": -60
    },
    "id": "MXUJ2dCerJIo",
    "outputId": "550845f6-e516-45f9-cc7f-3669276ba000"
   },
   "outputs": [
    {
     "name": "stdout",
     "output_type": "stream",
     "text": [
      "(123751, 500)\n"
     ]
    },
    {
     "data": {
      "text/plain": [
       "array([[   0,    0,    0, ...,    0,  844,  147],\n",
       "       [   0,    0,    0, ...,  844,  147,   73],\n",
       "       [   0,    0,    0, ...,  147,   73,   73],\n",
       "       ...,\n",
       "       [   0,    0,    0, ..., 1339,    5,   42],\n",
       "       [   0,    0,    0, ...,    5,   42,  207],\n",
       "       [   0,    0,    0, ...,   42,  207,  623]], dtype=int32)"
      ]
     },
     "execution_count": 22,
     "metadata": {
      "tags": []
     },
     "output_type": "execute_result"
    }
   ],
   "source": [
    "print(inp_sequences.shape)\n",
    "inp_sequences"
   ]
  },
  {
   "cell_type": "code",
   "execution_count": 18,
   "metadata": {
    "executionInfo": {
     "elapsed": 953,
     "status": "ok",
     "timestamp": 1620374312088,
     "user": {
      "displayName": "Dorothy Maiti",
      "photoUrl": "https://lh3.googleusercontent.com/a-/AOh14Gi8WG59LBZGTYr6wF86GHMlY4KXgBYmcDPHvSgP=s64",
      "userId": "18108151016445992224"
     },
     "user_tz": -60
    },
    "id": "uP1tne4PrTpc"
   },
   "outputs": [],
   "source": [
    "predictors, label = inp_sequences[:,:-1],inp_sequences[:,-1]"
   ]
  },
  {
   "cell_type": "code",
   "execution_count": 19,
   "metadata": {
    "executionInfo": {
     "elapsed": 2456,
     "status": "ok",
     "timestamp": 1620374315855,
     "user": {
      "displayName": "Dorothy Maiti",
      "photoUrl": "https://lh3.googleusercontent.com/a-/AOh14Gi8WG59LBZGTYr6wF86GHMlY4KXgBYmcDPHvSgP=s64",
      "userId": "18108151016445992224"
     },
     "user_tz": -60
    },
    "id": "Lj9hJ6wArXDm"
   },
   "outputs": [],
   "source": [
    "import keras.utils as ku\n",
    "\n",
    "label = ku.to_categorical(label, num_classes=total_words)"
   ]
  },
  {
   "cell_type": "code",
   "execution_count": null,
   "metadata": {
    "colab": {
     "base_uri": "https://localhost:8080/"
    },
    "executionInfo": {
     "elapsed": 468,
     "status": "ok",
     "timestamp": 1620345991341,
     "user": {
      "displayName": "Dorothy Maiti",
      "photoUrl": "https://lh3.googleusercontent.com/a-/AOh14Gi8WG59LBZGTYr6wF86GHMlY4KXgBYmcDPHvSgP=s64",
      "userId": "18108151016445992224"
     },
     "user_tz": -60
    },
    "id": "lJnuz7RirZke",
    "outputId": "e017f1dc-4792-423c-8400-d7d2a01ee347"
   },
   "outputs": [
    {
     "data": {
      "text/plain": [
       "(123751, 6416)"
      ]
     },
     "execution_count": 25,
     "metadata": {
      "tags": []
     },
     "output_type": "execute_result"
    }
   ],
   "source": [
    "label.shape"
   ]
  },
  {
   "cell_type": "code",
   "execution_count": 20,
   "metadata": {
    "colab": {
     "base_uri": "https://localhost:8080/"
    },
    "executionInfo": {
     "elapsed": 1142,
     "status": "ok",
     "timestamp": 1620374317729,
     "user": {
      "displayName": "Dorothy Maiti",
      "photoUrl": "https://lh3.googleusercontent.com/a-/AOh14Gi8WG59LBZGTYr6wF86GHMlY4KXgBYmcDPHvSgP=s64",
      "userId": "18108151016445992224"
     },
     "user_tz": -60
    },
    "id": "J6KdZ02F4UNm",
    "outputId": "eaae5e61-774f-4eb7-b422-a89646b83113"
   },
   "outputs": [
    {
     "name": "stdout",
     "output_type": "stream",
     "text": [
      "Model: \"sequential\"\n",
      "_________________________________________________________________\n",
      "Layer (type)                 Output Shape              Param #   \n",
      "=================================================================\n",
      "embedding (Embedding)        (None, 400, 50)           320800    \n",
      "_________________________________________________________________\n",
      "lstm (LSTM)                  (None, 100)               60400     \n",
      "_________________________________________________________________\n",
      "dense (Dense)                (None, 3208)              324008    \n",
      "_________________________________________________________________\n",
      "dense_1 (Dense)              (None, 6416)              20588944  \n",
      "=================================================================\n",
      "Total params: 21,294,152\n",
      "Trainable params: 21,294,152\n",
      "Non-trainable params: 0\n",
      "_________________________________________________________________\n"
     ]
    }
   ],
   "source": [
    "from keras.models import Sequential\n",
    "from tensorflow.keras.layers import Dense, Dropout, Activation, Flatten, Embedding, LSTM\n",
    "from keras.callbacks import EarlyStopping\n",
    "model = Sequential()\n",
    "model.add(Embedding(total_words, 50, input_length=400))\n",
    "# Add a LSTM Layer\n",
    "model.add(LSTM(100)) \n",
    "model.add(Dense(total_words/2, activation='relu'))  \n",
    "# In the last layer, the shape should be equal to the total number of words present in our corpus\n",
    "model.add(Dense(total_words, activation='softmax'))\n",
    "model.compile(loss='categorical_crossentropy', optimizer='adam', metrics='accuracy')  \n",
    "model.summary()"
   ]
  },
  {
   "cell_type": "code",
   "execution_count": null,
   "metadata": {
    "colab": {
     "base_uri": "https://localhost:8080/"
    },
    "id": "VI5sI9nf4wH3",
    "outputId": "0a869a06-d6b1-4b3f-9f05-895115362333"
   },
   "outputs": [
    {
     "name": "stdout",
     "output_type": "stream",
     "text": [
      "Epoch 1/10\n",
      "WARNING:tensorflow:Model was constructed with shape (None, 400) for input KerasTensor(type_spec=TensorSpec(shape=(None, 400), dtype=tf.float32, name='embedding_input'), name='embedding_input', description=\"created by layer 'embedding_input'\"), but it was called on an input with incompatible shape (None, 499).\n",
      "WARNING:tensorflow:Model was constructed with shape (None, 400) for input KerasTensor(type_spec=TensorSpec(shape=(None, 400), dtype=tf.float32, name='embedding_input'), name='embedding_input', description=\"created by layer 'embedding_input'\"), but it was called on an input with incompatible shape (None, 499).\n",
      "3868/3868 [==============================] - 377s 90ms/step - loss: 6.1976 - accuracy: 0.0548\n",
      "Epoch 2/10\n",
      "3868/3868 [==============================] - 347s 90ms/step - loss: 4.9880 - accuracy: 0.1423\n",
      "Epoch 3/10\n",
      "3868/3868 [==============================] - 347s 90ms/step - loss: 4.1441 - accuracy: 0.2323\n",
      "Epoch 4/10\n",
      " 178/3868 [>.............................] - ETA: 5:30 - loss: 3.4866 - accuracy: 0.3007"
     ]
    }
   ],
   "source": [
    "es = EarlyStopping(monitor='loss', mode='min', verbose=1)\n",
    "mod_test = model.fit(predictors, label, epochs= 10, callbacks=[es])"
   ]
  },
  {
   "cell_type": "code",
   "execution_count": null,
   "metadata": {
    "id": "C18v5d2K47R8"
   },
   "outputs": [],
   "source": [
    "!pip install -q pyyaml h5py\n",
    "\n",
    "model.save('pop01.h5')"
   ]
  },
  {
   "cell_type": "code",
   "execution_count": null,
   "metadata": {
    "id": "_iEPZNklKmRN"
   },
   "outputs": [],
   "source": [
    "def make_lyrics(seed_text, next_words):\n",
    "    for _ in range(next_words):\n",
    "        token_list = tokenizer.texts_to_sequences([seed_text])[0]\n",
    "        token_list = pad_sequences([token_list],\n",
    "                     maxlen=max_sequence_len-1,padding='pre')\n",
    "        predicted = model.predict_classes(token_list, verbose=0)\n",
    "        output_word = \"\"\n",
    "        for word, index in tokenizer.word_index.items():\n",
    "            if index == predicted:\n",
    "                output_word = word\n",
    "                break\n",
    "        seed_text += \" \" + output_word\n",
    "    print(seed_text)"
   ]
  },
  {
   "cell_type": "code",
   "execution_count": null,
   "metadata": {
    "colab": {
     "base_uri": "https://localhost:8080/"
    },
    "executionInfo": {
     "elapsed": 2567,
     "status": "ok",
     "timestamp": 1620347372659,
     "user": {
      "displayName": "Dorothy Maiti",
      "photoUrl": "https://lh3.googleusercontent.com/a-/AOh14Gi8WG59LBZGTYr6wF86GHMlY4KXgBYmcDPHvSgP=s64",
      "userId": "18108151016445992224"
     },
     "user_tz": -60
    },
    "id": "GQ54_I4FLcq2",
    "outputId": "68953871-165d-4a08-dfe9-167cdaa78681"
   },
   "outputs": [
    {
     "name": "stderr",
     "output_type": "stream",
     "text": [
      "/usr/local/lib/python3.7/dist-packages/tensorflow/python/keras/engine/sequential.py:450: UserWarning: `model.predict_classes()` is deprecated and will be removed after 2021-01-01. Please use instead:* `np.argmax(model.predict(x), axis=-1)`,   if your model does multi-class classification   (e.g. if it uses a `softmax` last-layer activation).* `(model.predict(x) > 0.5).astype(\"int32\")`,   if your model does binary classification   (e.g. if it uses a `sigmoid` last-layer activation).\n",
      "  warnings.warn('`model.predict_classes()` is deprecated and '\n"
     ]
    },
    {
     "name": "stdout",
     "output_type": "stream",
     "text": [
      "They look for me im a tangled puppet and i might be a mess but i sure can survive find myself awake counting sad days 1 2 3 thats too many for too cool for dawn jump a wonderful country but the man hes burning it down yea yea yea yea yea yea\n",
      "None\n"
     ]
    }
   ],
   "source": [
    "print (make_lyrics(\"They look for\", 50))"
   ]
  }
 ],
 "metadata": {
  "accelerator": "GPU",
  "colab": {
   "collapsed_sections": [],
   "name": "Lyricsgeneraterpop.ipynb",
   "provenance": []
  },
  "kernelspec": {
   "display_name": "Python 3",
   "language": "python",
   "name": "python3"
  },
  "language_info": {
   "codemirror_mode": {
    "name": "ipython",
    "version": 3
   },
   "file_extension": ".py",
   "mimetype": "text/x-python",
   "name": "python",
   "nbconvert_exporter": "python",
   "pygments_lexer": "ipython3",
   "version": "3.8.5"
  }
 },
 "nbformat": 4,
 "nbformat_minor": 1
}
