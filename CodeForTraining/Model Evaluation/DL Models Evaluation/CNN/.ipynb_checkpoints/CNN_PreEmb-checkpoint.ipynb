{
 "cells": [
  {
   "cell_type": "code",
   "execution_count": null,
   "metadata": {
    "id": "CGdb03m8xCQK"
   },
   "outputs": [],
   "source": [
    "import pandas as pd\n",
    "import numpy as np\n",
    "import tensorflow as tf\n",
    "from tensorflow import keras\n",
    "import pickle\n",
    "!pip install -q pyyaml h5py"
   ]
  },
  {
   "cell_type": "code",
   "execution_count": null,
   "metadata": {
    "id": "Hmb5zplATLnm"
   },
   "outputs": [],
   "source": [
    "data = pd.read_csv('enriched_data.csv')\n",
    "\n",
    "data.info(),data.head(5)"
   ]
  },
  {
   "cell_type": "code",
   "execution_count": null,
   "metadata": {},
   "outputs": [],
   "source": [
    "data['classification'].replace({0:'Dark',1:'Not_Dark'}, inplace = True)\n",
    "\n",
    "data.head(5)"
   ]
  },
  {
   "cell_type": "code",
   "execution_count": null,
   "metadata": {},
   "outputs": [],
   "source": [
    "# Remove the rows where the first letter starting with ignoring characters\n",
    "ignore_str = [',', '.', ';', '{', '}', '#', '/', '?', '@','$','(',')']\n",
    "data = data[~data['Pattern String'].str[0].isin(ignore_str)]\n",
    "\n",
    "# data['Pattern String'] = data['Pattern String'].str.lower()\n",
    "\n",
    "data.shape"
   ]
  },
  {
   "cell_type": "markdown",
   "metadata": {},
   "source": [
    "## Train/Validation Split"
   ]
  },
  {
   "cell_type": "code",
   "execution_count": null,
   "metadata": {},
   "outputs": [],
   "source": [
    "X = data['Pattern String'].values\n",
    "Y = data['classification'].values\n",
    "\n",
    "from sklearn.model_selection import train_test_split\n",
    "\n",
    "content_train, content_val, label_train, label_val = train_test_split(X, Y, test_size=0.2, random_state=1)\n",
    "\n",
    "content_train.shape, content_val.shape, label_train.shape, label_val.shape "
   ]
  },
  {
   "cell_type": "markdown",
   "metadata": {},
   "source": [
    "### Encode the label labels\n",
    "-----"
   ]
  },
  {
   "cell_type": "code",
   "execution_count": null,
   "metadata": {},
   "outputs": [],
   "source": [
    "from sklearn.preprocessing import LabelEncoder\n",
    "\n",
    "encoder = LabelEncoder()\n",
    "y_train = encoder.fit(label_train)\n",
    "y_train = encoder.transform(label_train)\n",
    "y_val = encoder.transform(label_val)\n",
    "\n",
    "\n",
    "(unique, counts) = np.unique(label_train, return_counts=True)\n",
    "frequencies_y_train_label = np.asarray((unique, counts)).T\n",
    "\n",
    "print('The frequency distribution of training y labels:\\n',frequencies_y_train_label)\n",
    "\n",
    "(unique, counts) = np.unique(label_val, return_counts=True)\n",
    "frequencies_y_val_label = np.asarray((unique, counts)).T\n",
    "\n",
    "print('The frequency distribution of validation y labels:\\n',frequencies_y_val_label)\n",
    "\n",
    "\n",
    "\n",
    "(unique, counts) = np.unique(y_train, return_counts=True)\n",
    "frequencies_y_train_encoded = np.asarray((unique, counts)).T\n",
    "\n",
    "print('The frequency distribution of training y encoded labels:\\n',frequencies_y_train_encoded)\n",
    "\n",
    "(unique, counts) = np.unique(y_val, return_counts=True)\n",
    "frequencies_y_val_encoded = np.asarray((unique, counts)).T\n",
    "\n",
    "print('The frequency distribution of validation y encoded labels:\\n',frequencies_y_val_encoded)"
   ]
  },
  {
   "cell_type": "code",
   "execution_count": null,
   "metadata": {},
   "outputs": [],
   "source": [
    "y_train.shape, y_val.shape"
   ]
  },
  {
   "cell_type": "markdown",
   "metadata": {
    "id": "NncztENMazg8"
   },
   "source": [
    "## Create a vocabulary index"
   ]
  },
  {
   "cell_type": "code",
   "execution_count": null,
   "metadata": {},
   "outputs": [],
   "source": [
    "from keras.preprocessing.text import Tokenizer\n",
    "\n",
    "tokenizer = Tokenizer()\n",
    "tokenizer = Tokenizer(num_words=5000)   # num_words is the size of the vocabulary (top 5000 frequent words in the vocabulary)\n",
    "tokenizer.fit_on_texts(content_train)    # Updates internal vocabulary based on a list of texts\n",
    "\n",
    "X_train = tokenizer.texts_to_sequences(content_train)  # Transforms each text in texts to a sequence of integers with its corresponding integer value from the word_index dictionary\n",
    "X_val = tokenizer.texts_to_sequences(content_val)\n",
    "\n",
    "# The number of unique words in the whole training text\n",
    "vocab_size = len(tokenizer.word_index) + 1  # Adding 1 because of reserved 0 index for padding"
   ]
  },
  {
   "cell_type": "markdown",
   "metadata": {
    "id": "Uxl6tOTHa_8u"
   },
   "source": [
    "### retrieve the computed vocabulary used via tokenizer.get_vocabulary(). Let's print the top 7 words:\n",
    "-----"
   ]
  },
  {
   "cell_type": "code",
   "execution_count": null,
   "metadata": {},
   "outputs": [],
   "source": [
    "tokenizer.get_vocabulary()[:7]"
   ]
  },
  {
   "cell_type": "code",
   "execution_count": null,
   "metadata": {},
   "outputs": [],
   "source": [
    "# Save the Tokenizer to disk\n",
    "import joblib\n",
    "\n",
    "joblib.dump(tokenizer, 'Presence_Tokenizer.joblib')"
   ]
  },
  {
   "cell_type": "code",
   "execution_count": null,
   "metadata": {},
   "outputs": [],
   "source": [
    "def FindMaxLength(lst):\n",
    "    maxList = max((x) for x in lst)\n",
    "    maxLength = max(len(x) for x in lst )\n",
    "  \n",
    "    return maxList, maxLength\n",
    "\n",
    "print('Longest sentence in training:\\n',FindMaxLength(X_train))\n",
    "print('Longest sentence in validation:\\n',FindMaxLength(X_val))"
   ]
  },
  {
   "cell_type": "code",
   "execution_count": null,
   "metadata": {},
   "outputs": [],
   "source": [
    "from keras.preprocessing.sequence import pad_sequences\n",
    "\n",
    "maxlen = 20\n",
    "\n",
    "X_train = pad_sequences(X_train, padding='post', maxlen=maxlen)\n",
    "X_val = pad_sequences(X_val, padding='post', maxlen=maxlen)\n",
    "\n",
    "X_train.shape, X_val.shape"
   ]
  },
  {
   "cell_type": "code",
   "execution_count": null,
   "metadata": {},
   "outputs": [],
   "source": [
    "print(X_train[0])"
   ]
  },
  {
   "cell_type": "markdown",
   "metadata": {
    "id": "lVzFu49CbNc3"
   },
   "source": [
    "## Load pre-trained word embeddings"
   ]
  },
  {
   "cell_type": "code",
   "execution_count": null,
   "metadata": {
    "colab": {
     "base_uri": "https://localhost:8080/"
    },
    "id": "Znhstes_a1mH",
    "outputId": "e9c5aaf9-6578-4693-d27f-9abe3dd577d4"
   },
   "outputs": [
    {
     "name": "stdout",
     "output_type": "stream",
     "text": [
      "--2021-05-07 01:01:22--  http://nlp.stanford.edu/data/glove.6B.zip\n",
      "Resolving nlp.stanford.edu (nlp.stanford.edu)... 171.64.67.140\n",
      "Connecting to nlp.stanford.edu (nlp.stanford.edu)|171.64.67.140|:80... connected.\n",
      "HTTP request sent, awaiting response... 302 Found\n",
      "Location: https://nlp.stanford.edu/data/glove.6B.zip [following]\n",
      "--2021-05-07 01:01:22--  https://nlp.stanford.edu/data/glove.6B.zip\n",
      "Connecting to nlp.stanford.edu (nlp.stanford.edu)|171.64.67.140|:443... connected.\n",
      "HTTP request sent, awaiting response... 301 Moved Permanently\n",
      "Location: http://downloads.cs.stanford.edu/nlp/data/glove.6B.zip [following]\n",
      "--2021-05-07 01:01:22--  http://downloads.cs.stanford.edu/nlp/data/glove.6B.zip\n",
      "Resolving downloads.cs.stanford.edu (downloads.cs.stanford.edu)... 171.64.64.22\n",
      "Connecting to downloads.cs.stanford.edu (downloads.cs.stanford.edu)|171.64.64.22|:80... connected.\n",
      "HTTP request sent, awaiting response... 200 OK\n",
      "Length: 862182613 (822M) [application/zip]\n",
      "Saving to: ‘glove.6B.zip’\n",
      "\n",
      "glove.6B.zip        100%[===================>] 822.24M  5.06MB/s    in 3m 2s   \n",
      "\n",
      "2021-05-07 01:04:24 (4.52 MB/s) - ‘glove.6B.zip’ saved [862182613/862182613]\n",
      "\n"
     ]
    }
   ],
   "source": [
    "!wget http://nlp.stanford.edu/data/glove.6B.zip\n",
    "!unzip -q glove.6B.zip"
   ]
  },
  {
   "cell_type": "markdown",
   "metadata": {
    "id": "yzfS4Ob3dJCb"
   },
   "source": [
    "dict mapping words (strings) to their NumPy vector representation:"
   ]
  },
  {
   "cell_type": "code",
   "execution_count": null,
   "metadata": {
    "colab": {
     "base_uri": "https://localhost:8080/"
    },
    "id": "AOiYidHncPu1",
    "outputId": "5bc83673-cf33-4e77-815c-15de470380a9"
   },
   "outputs": [
    {
     "name": "stdout",
     "output_type": "stream",
     "text": [
      "Found 400000 word vectors.\n"
     ]
    }
   ],
   "source": [
    "import os\n",
    "import pathlib\n",
    "\n",
    "embeddings_index = {}\n",
    "f = open('glove.6B.200d.txt', encoding='utf-8')\n",
    "for line in f:\n",
    "        word, coefs = line.split(maxsplit=1)\n",
    "        coefs = np.fromstring(coefs, \"f\", sep=\" \")\n",
    "        embeddings_index[word] = coefs\n",
    "\n",
    "print(\"Found %s word vectors.\" % len(embeddings_index))"
   ]
  },
  {
   "cell_type": "code",
   "execution_count": null,
   "metadata": {
    "colab": {
     "base_uri": "https://localhost:8080/"
    },
    "id": "4YGVBng-fWzr",
    "outputId": "8ee124a6-c883-41a8-e262-1b1b4866dd10"
   },
   "outputs": [
    {
     "name": "stdout",
     "output_type": "stream",
     "text": [
      "Converted 4882 words (118 misses)\n"
     ]
    }
   ],
   "source": [
    "num_tokens = len(voc) + 1\n",
    "embedding_dim = 20\n",
    "hits = 0\n",
    "misses = 0\n",
    "\n",
    "# Prepare embedding matrix\n",
    "embedding_matrix = np.zeros((num_tokens, embedding_dim))\n",
    "for word, i in word_index.items():\n",
    "    embedding_vector = embeddings_index.get(word)\n",
    "    if embedding_vector is not None:\n",
    "        # Words not found in embedding index will be all-zeros.\n",
    "        # This includes the representation for \"padding\" and \"OOV\"\n",
    "        embedding_matrix[i] = embedding_vector\n",
    "        hits += 1\n",
    "    else:\n",
    "        misses += 1\n",
    "print(\"Converted %d words (%d misses)\" % (hits, misses))"
   ]
  },
  {
   "cell_type": "code",
   "execution_count": null,
   "metadata": {
    "id": "WeoUNYKjw0rm"
   },
   "outputs": [],
   "source": [
    "from tensorflow.keras.layers import Embedding\n",
    "\n",
    "embedding_layer = Embedding(\n",
    "    num_tokens,\n",
    "    embedding_dim,\n",
    "    embeddings_initializer=keras.initializers.Constant(embedding_matrix),\n",
    "    trainable=False,\n",
    ")"
   ]
  },
  {
   "cell_type": "markdown",
   "metadata": {
    "id": "oSNmFTh-aY8R"
   },
   "source": [
    "# CNN with muliple keras"
   ]
  },
  {
   "cell_type": "code",
   "execution_count": null,
   "metadata": {
    "colab": {
     "base_uri": "https://localhost:8080/"
    },
    "id": "hCCQAwRQf4ow",
    "outputId": "9e7b71ed-3e66-47b8-8490-1d26e4c8cb8b"
   },
   "outputs": [
    {
     "name": "stdout",
     "output_type": "stream",
     "text": [
      "Model: \"model\"\n",
      "_________________________________________________________________\n",
      "Layer (type)                 Output Shape              Param #   \n",
      "=================================================================\n",
      "input_1 (InputLayer)         [(None, None)]            0         \n",
      "_________________________________________________________________\n",
      "embedding (Embedding)        (None, None, 200)         1000200   \n",
      "_________________________________________________________________\n",
      "conv1d (Conv1D)              (None, None, 128)         128128    \n",
      "_________________________________________________________________\n",
      "max_pooling1d (MaxPooling1D) (None, None, 128)         0         \n",
      "_________________________________________________________________\n",
      "conv1d_1 (Conv1D)            (None, None, 128)         82048     \n",
      "_________________________________________________________________\n",
      "max_pooling1d_1 (MaxPooling1 (None, None, 128)         0         \n",
      "_________________________________________________________________\n",
      "conv1d_2 (Conv1D)            (None, None, 128)         82048     \n",
      "_________________________________________________________________\n",
      "global_max_pooling1d (Global (None, 128)               0         \n",
      "_________________________________________________________________\n",
      "dense (Dense)                (None, 128)               16512     \n",
      "_________________________________________________________________\n",
      "dropout (Dropout)            (None, 128)               0         \n",
      "_________________________________________________________________\n",
      "dense_1 (Dense)              (None, 10)                1290      \n",
      "=================================================================\n",
      "Total params: 1,310,226\n",
      "Trainable params: 310,026\n",
      "Non-trainable params: 1,000,200\n",
      "_________________________________________________________________\n"
     ]
    }
   ],
   "source": [
    "from tensorflow.keras import layers\n",
    "\n",
    "int_sequences_input = keras.Input(shape=(None,), dtype=\"int64\")\n",
    "embedded_sequences = embedding_layer(int_sequences_input)\n",
    "x = layers.Conv1D(64, 2, activation=\"relu\")(embedded_sequences)\n",
    "x = layers.MaxPooling1D(5)(x)\n",
    "x = layers.Dense(32, activation=\"relu\")(x)\n",
    "x = layers.Dropout(0.2)(x)\n",
    "preds = layers.Dense(1, activation=\"sigmoid\")(x)\n",
    "model = keras.Model(int_sequences_input, preds)\n",
    "model.summary()"
   ]
  },
  {
   "cell_type": "code",
   "execution_count": null,
   "metadata": {
    "colab": {
     "base_uri": "https://localhost:8080/"
    },
    "id": "iK4zR4zKg6k3",
    "outputId": "4164b1a0-8b73-4031-fde6-d1b4e45abcde"
   },
   "outputs": [
    {
     "name": "stdout",
     "output_type": "stream",
     "text": [
      "Epoch 1/10\n",
      "1564/1564 [==============================] - 43s 27ms/step - loss: 1.3490 - acc: 0.5375 - val_loss: 1.1881 - val_acc: 0.5829\n",
      "Epoch 2/10\n",
      "1564/1564 [==============================] - 41s 26ms/step - loss: 1.1715 - acc: 0.5966 - val_loss: 1.1540 - val_acc: 0.5972\n",
      "Epoch 3/10\n",
      "1564/1564 [==============================] - 41s 26ms/step - loss: 1.1318 - acc: 0.6122 - val_loss: 1.1795 - val_acc: 0.6024\n",
      "Epoch 00003: early stopping\n"
     ]
    }
   ],
   "source": [
    "model.compile(\n",
    "    loss=\"binary_crossentropy\", optimizer=\"adam\", metrics=[\"acc\"]\n",
    ")\n",
    "es = EarlyStopping(monitor='val_loss', mode='min', verbose=1)\n",
    "mod=model.fit(X_train,y_train, batch_size=16, epochs=5, validation_data=(X_val,y_val),callbacks=[es])"
   ]
  },
  {
   "cell_type": "code",
   "execution_count": null,
   "metadata": {
    "colab": {
     "base_uri": "https://localhost:8080/"
    },
    "id": "_3RtovmuJwR-",
    "outputId": "01842be7-da99-4d0b-f9b9-f7b982866740"
   },
   "outputs": [
    {
     "name": "stdout",
     "output_type": "stream",
     "text": [
      "Training Accuracy: 0.6287\n",
      "validation Accuracy:  0.6024\n"
     ]
    }
   ],
   "source": [
    "prediction = model.predict_classes(X_val)"
   ]
  },
  {
   "cell_type": "code",
   "execution_count": null,
   "metadata": {},
   "outputs": [],
   "source": [
    "(unique, counts) = np.unique(prediction, return_counts=True)\n",
    "frequencies = np.asarray((unique, counts)).T\n",
    "\n",
    "print(frequencies)"
   ]
  },
  {
   "cell_type": "code",
   "execution_count": null,
   "metadata": {},
   "outputs": [],
   "source": [
    "from sklearn.metrics import confusion_matrix\n",
    "\n",
    "cm = confusion_matrix(y_val, prediction, labels=[0,1])\n",
    "FN = cm[0][1]/y_val.shape[0]\n",
    "FP = cm[1][0]/y_val.shape[0]\n",
    "\n",
    "print('Confusion Matrix of the prediction results:\\n', cm)\n",
    "print('FN Rate: {:.4f}; FP Rate:{:.4f}'.format(FN,FP))"
   ]
  },
  {
   "cell_type": "code",
   "execution_count": null,
   "metadata": {},
   "outputs": [],
   "source": [
    "loss, accuracy = model.evaluate(X_train, y_train, verbose=False)\n",
    "print(\"Training Accuracy: {:.4f}\".format(accuracy))\n",
    "loss, accuracy = model.evaluate(X_val, y_val, verbose=False)\n",
    "print(\"Validation Accuracy:  {:.4f}\".format(accuracy))"
   ]
  },
  {
   "cell_type": "code",
   "execution_count": null,
   "metadata": {
    "colab": {
     "base_uri": "https://localhost:8080/",
     "height": 694
    },
    "id": "1mjUgZ0zJ_NH",
    "outputId": "fae51928-0d5d-433d-c442-31ed3b7bf4c0"
   },
   "outputs": [
    {
     "name": "stdout",
     "output_type": "stream",
     "text": [
      "Requirement already satisfied: plot_keras_history in /usr/local/lib/python3.7/dist-packages (1.1.29)\n",
      "Requirement already satisfied: scipy in /usr/local/lib/python3.7/dist-packages (from plot_keras_history) (1.4.1)\n",
      "Requirement already satisfied: matplotlib in /usr/local/lib/python3.7/dist-packages (from plot_keras_history) (3.2.2)\n",
      "Requirement already satisfied: sanitize-ml-labels in /usr/local/lib/python3.7/dist-packages (from plot_keras_history) (1.0.26)\n",
      "Requirement already satisfied: pandas in /usr/local/lib/python3.7/dist-packages (from plot_keras_history) (1.1.5)\n",
      "Requirement already satisfied: numpy>=1.13.3 in /usr/local/lib/python3.7/dist-packages (from scipy->plot_keras_history) (1.19.5)\n",
      "Requirement already satisfied: pyparsing!=2.0.4,!=2.1.2,!=2.1.6,>=2.0.1 in /usr/local/lib/python3.7/dist-packages (from matplotlib->plot_keras_history) (2.4.7)\n",
      "Requirement already satisfied: kiwisolver>=1.0.1 in /usr/local/lib/python3.7/dist-packages (from matplotlib->plot_keras_history) (1.3.1)\n",
      "Requirement already satisfied: python-dateutil>=2.1 in /usr/local/lib/python3.7/dist-packages (from matplotlib->plot_keras_history) (2.8.1)\n",
      "Requirement already satisfied: cycler>=0.10 in /usr/local/lib/python3.7/dist-packages (from matplotlib->plot_keras_history) (0.10.0)\n",
      "Requirement already satisfied: compress-json in /usr/local/lib/python3.7/dist-packages (from sanitize-ml-labels->plot_keras_history) (1.0.4)\n",
      "Requirement already satisfied: pytz>=2017.2 in /usr/local/lib/python3.7/dist-packages (from pandas->plot_keras_history) (2018.9)\n",
      "Requirement already satisfied: six>=1.5 in /usr/local/lib/python3.7/dist-packages (from python-dateutil>=2.1->matplotlib->plot_keras_history) (1.15.0)\n"
     ]
    },
    {
     "data": {
      "text/plain": [
       "(<Figure size 720x360 with 2 Axes>,\n",
       " array([<matplotlib.axes._subplots.AxesSubplot object at 0x7f6c426ad610>,\n",
       "        <matplotlib.axes._subplots.AxesSubplot object at 0x7f6c36f83590>],\n",
       "       dtype=object))"
      ]
     },
     "execution_count": 84,
     "metadata": {
      "tags": []
     },
     "output_type": "execute_result"
    },
    {
     "data": {
      "image/png": "[encoded data removed]",
      "text/plain": [
       "<Figure size 720x360 with 2 Axes>"
      ]
     },
     "metadata": {
      "needs_background": "light",
      "tags": []
     },
     "output_type": "display_data"
    }
   ],
   "source": [
    "import matplotlib.pyplot as plt\n",
    "from plotly.offline import iplot\n",
    "!pip install plot_keras_history\n",
    "from plot_keras_history import plot_history\n",
    "\n",
    "plot_history(mod)"
   ]
  },
  {
   "cell_type": "code",
   "execution_count": null,
   "metadata": {
    "id": "YlrjNOHWcrXT"
   },
   "outputs": [],
   "source": [
    "model.save('model_CNN.h5')"
   ]
  },
  {
   "cell_type": "code",
   "execution_count": null,
   "metadata": {
    "id": "uykmb_xMdak-"
   },
   "outputs": [],
   "source": [
    "model_reload=load_model('model_CNN.h5')"
   ]
  },
  {
   "cell_type": "code",
   "execution_count": null,
   "metadata": {
    "colab": {
     "base_uri": "https://localhost:8080/"
    },
    "id": "XNqgnzyJeQdG",
    "outputId": "e3d8f897-0ade-4ec7-b179-ed0477b61278"
   },
   "outputs": [
    {
     "name": "stdout",
     "output_type": "stream",
     "text": [
      "Testing Accuracy: 0.2818\n"
     ]
    }
   ],
   "source": [
    "loss, accuracy = model_reload.evaluate(X_test, y_test, verbose=False)\n",
    "print(\"Testing Accuracy: {:.4f}\".format(accuracy))"
   ]
  },
  {
   "cell_type": "code",
   "execution_count": null,
   "metadata": {},
   "outputs": [],
   "source": []
  },
  {
   "cell_type": "code",
   "execution_count": null,
   "metadata": {},
   "outputs": [],
   "source": []
  },
  {
   "cell_type": "code",
   "execution_count": null,
   "metadata": {},
   "outputs": [],
   "source": []
  },
  {
   "cell_type": "code",
   "execution_count": null,
   "metadata": {},
   "outputs": [],
   "source": []
  },
  {
   "cell_type": "code",
   "execution_count": null,
   "metadata": {},
   "outputs": [],
   "source": []
  },
  {
   "cell_type": "code",
   "execution_count": null,
   "metadata": {},
   "outputs": [],
   "source": []
  },
  {
   "cell_type": "code",
   "execution_count": null,
   "metadata": {},
   "outputs": [],
   "source": []
  },
  {
   "cell_type": "code",
   "execution_count": null,
   "metadata": {},
   "outputs": [],
   "source": []
  },
  {
   "cell_type": "code",
   "execution_count": null,
   "metadata": {},
   "outputs": [],
   "source": []
  },
  {
   "cell_type": "markdown",
   "metadata": {
    "id": "2Yl7T74saUCx"
   },
   "source": [
    "# CNN as an additional layer before a LSTM\n",
    "--------\n",
    "# Didn't change from here\n",
    "-------"
   ]
  },
  {
   "cell_type": "code",
   "execution_count": null,
   "metadata": {
    "colab": {
     "base_uri": "https://localhost:8080/"
    },
    "id": "G_Rsr1f5Ws3h",
    "outputId": "fd574b07-a26c-4f7f-9c90-8352cd024df6"
   },
   "outputs": [
    {
     "name": "stdout",
     "output_type": "stream",
     "text": [
      "Model: \"model_2\"\n",
      "_________________________________________________________________\n",
      "Layer (type)                 Output Shape              Param #   \n",
      "=================================================================\n",
      "input_3 (InputLayer)         [(None, None)]            0         \n",
      "_________________________________________________________________\n",
      "embedding_1 (Embedding)      (None, None, 200)         1000200   \n",
      "_________________________________________________________________\n",
      "conv1d_6 (Conv1D)            (None, None, 128)         128128    \n",
      "_________________________________________________________________\n",
      "max_pooling1d_4 (MaxPooling1 (None, None, 128)         0         \n",
      "_________________________________________________________________\n",
      "lstm_9 (LSTM)                (None, 200)               263200    \n",
      "_________________________________________________________________\n",
      "dense_16 (Dense)             (None, 200)               40200     \n",
      "_________________________________________________________________\n",
      "dropout_8 (Dropout)          (None, 200)               0         \n",
      "_________________________________________________________________\n",
      "dense_17 (Dense)             (None, 200157)            40231557  \n",
      "=================================================================\n",
      "Total params: 41,663,285\n",
      "Trainable params: 40,663,085\n",
      "Non-trainable params: 1,000,200\n",
      "_________________________________________________________________\n"
     ]
    }
   ],
   "source": [
    "from keras.models import Sequential\n",
    "from tensorflow.keras.layers import Dense, Dropout, Activation, Flatten, Embedding, SimpleRNN\n",
    "from tensorflow.keras import layers\n",
    "## create model\n",
    "\n",
    "int_sequences_input = keras.Input(shape=(None,), dtype=\"int64\")\n",
    "embedded_sequences = embedding_layer(int_sequences_input)\n",
    "x = layers.Conv1D(128, 5, activation=\"relu\")(embedded_sequences)\n",
    "x = layers.MaxPooling1D(5)(x)\n",
    "x = layers.LSTM(embedding_dim)(x)\n",
    "x = layers.Dense(200, activation='relu')(x)\n",
    "x = layers.Dropout(0.2)(x)\n",
    "preds = layers.Dense(len(lyrics_train), activation=\"softmax\")(x)\n",
    "model= keras.Model(int_sequences_input, preds)\n",
    "model.summary()\n"
   ]
  },
  {
   "cell_type": "code",
   "execution_count": null,
   "metadata": {
    "colab": {
     "base_uri": "https://localhost:8080/"
    },
    "id": "HMFoMe2lje43",
    "outputId": "07f8b0bf-7060-4cb4-98f9-820de57a6fe2"
   },
   "outputs": [
    {
     "name": "stdout",
     "output_type": "stream",
     "text": [
      "Epoch 1/10\n",
      "1564/1564 [==============================] - 151s 95ms/step - loss: 1.6116 - acc: 0.5129 - val_loss: 1.2492 - val_acc: 0.5617\n",
      "Epoch 2/10\n",
      "1564/1564 [==============================] - 151s 96ms/step - loss: 1.2373 - acc: 0.5697 - val_loss: 1.1868 - val_acc: 0.5909\n",
      "Epoch 3/10\n",
      "1564/1564 [==============================] - 151s 96ms/step - loss: 1.1757 - acc: 0.5971 - val_loss: 1.1846 - val_acc: 0.5877\n",
      "Epoch 4/10\n",
      "1564/1564 [==============================] - 150s 96ms/step - loss: 1.1430 - acc: 0.6078 - val_loss: 1.1550 - val_acc: 0.6024\n",
      "Epoch 5/10\n",
      "1564/1564 [==============================] - 150s 96ms/step - loss: 1.1130 - acc: 0.6204 - val_loss: 1.1290 - val_acc: 0.6122\n",
      "Epoch 6/10\n",
      "1564/1564 [==============================] - 150s 96ms/step - loss: 1.0873 - acc: 0.6310 - val_loss: 1.1267 - val_acc: 0.6145\n",
      "Epoch 7/10\n",
      "1564/1564 [==============================] - 150s 96ms/step - loss: 1.0640 - acc: 0.6397 - val_loss: 1.1381 - val_acc: 0.6126\n",
      "Epoch 00007: early stopping\n"
     ]
    }
   ],
   "source": [
    "model.compile(\n",
    "    loss=\"sparse_categorical_crossentropy\", optimizer=\"rmsprop\", metrics=[\"acc\"]\n",
    ")\n",
    "\n",
    "es = EarlyStopping(monitor='val_loss', mode='min', verbose=1)\n",
    "mod_1=model.fit(X_train,y_train, batch_size=128, epochs=10, validation_data=(X_val,y_val),callbacks=[es])"
   ]
  },
  {
   "cell_type": "code",
   "execution_count": null,
   "metadata": {
    "colab": {
     "base_uri": "https://localhost:8080/"
    },
    "id": "gpO6CrG_mtGX",
    "outputId": "7d046448-c686-4613-f160-dd7f3558c401"
   },
   "outputs": [
    {
     "name": "stdout",
     "output_type": "stream",
     "text": [
      "Training Accuracy: 0.6524\n",
      "validation Accuracy:  0.6126\n"
     ]
    }
   ],
   "source": [
    "loss, accuracy = model.evaluate(X_train, y_train, verbose=False)\n",
    "print(\"Training Accuracy: {:.4f}\".format(accuracy))\n",
    "loss, accuracy = model.evaluate(X_val, y_val, verbose=False)\n",
    "print(\"validation Accuracy:  {:.4f}\".format(accuracy))"
   ]
  },
  {
   "cell_type": "code",
   "execution_count": null,
   "metadata": {
    "colab": {
     "base_uri": "https://localhost:8080/",
     "height": 694
    },
    "id": "4CacQBGhmxc7",
    "outputId": "b7303451-9059-48bc-fe84-63b0b4ebcf77"
   },
   "outputs": [
    {
     "name": "stdout",
     "output_type": "stream",
     "text": [
      "Requirement already satisfied: plot_keras_history in /usr/local/lib/python3.7/dist-packages (1.1.29)\n",
      "Requirement already satisfied: sanitize-ml-labels in /usr/local/lib/python3.7/dist-packages (from plot_keras_history) (1.0.26)\n",
      "Requirement already satisfied: scipy in /usr/local/lib/python3.7/dist-packages (from plot_keras_history) (1.4.1)\n",
      "Requirement already satisfied: matplotlib in /usr/local/lib/python3.7/dist-packages (from plot_keras_history) (3.2.2)\n",
      "Requirement already satisfied: pandas in /usr/local/lib/python3.7/dist-packages (from plot_keras_history) (1.1.5)\n",
      "Requirement already satisfied: compress-json in /usr/local/lib/python3.7/dist-packages (from sanitize-ml-labels->plot_keras_history) (1.0.4)\n",
      "Requirement already satisfied: numpy>=1.13.3 in /usr/local/lib/python3.7/dist-packages (from scipy->plot_keras_history) (1.19.5)\n",
      "Requirement already satisfied: cycler>=0.10 in /usr/local/lib/python3.7/dist-packages (from matplotlib->plot_keras_history) (0.10.0)\n",
      "Requirement already satisfied: pyparsing!=2.0.4,!=2.1.2,!=2.1.6,>=2.0.1 in /usr/local/lib/python3.7/dist-packages (from matplotlib->plot_keras_history) (2.4.7)\n",
      "Requirement already satisfied: kiwisolver>=1.0.1 in /usr/local/lib/python3.7/dist-packages (from matplotlib->plot_keras_history) (1.3.1)\n",
      "Requirement already satisfied: python-dateutil>=2.1 in /usr/local/lib/python3.7/dist-packages (from matplotlib->plot_keras_history) (2.8.1)\n",
      "Requirement already satisfied: pytz>=2017.2 in /usr/local/lib/python3.7/dist-packages (from pandas->plot_keras_history) (2018.9)\n",
      "Requirement already satisfied: six in /usr/local/lib/python3.7/dist-packages (from cycler>=0.10->matplotlib->plot_keras_history) (1.15.0)\n"
     ]
    },
    {
     "data": {
      "text/plain": [
       "(<Figure size 720x360 with 2 Axes>,\n",
       " array([<matplotlib.axes._subplots.AxesSubplot object at 0x7f6902275cd0>,\n",
       "        <matplotlib.axes._subplots.AxesSubplot object at 0x7f69007086d0>],\n",
       "       dtype=object))"
      ]
     },
     "execution_count": 88,
     "metadata": {
      "tags": []
     },
     "output_type": "execute_result"
    },
    {
     "data": {
      "image/png": "[encoded data removed]",
      "text/plain": [
       "<Figure size 720x360 with 2 Axes>"
      ]
     },
     "metadata": {
      "needs_background": "light",
      "tags": []
     },
     "output_type": "display_data"
    }
   ],
   "source": [
    "import matplotlib.pyplot as plt\n",
    "from plotly.offline import iplot\n",
    "!pip install plot_keras_history\n",
    "from plot_keras_history import plot_history\n",
    "plot_history(mod_1)"
   ]
  },
  {
   "cell_type": "code",
   "execution_count": null,
   "metadata": {
    "id": "xK_cwtgjbL5N"
   },
   "outputs": [],
   "source": [
    "\n",
    "# save it as a h5 file\n",
    "\n",
    "\n",
    "from tensorflow.keras.models import load_model\n",
    "\n",
    "model.save('model_best.h5')"
   ]
  },
  {
   "cell_type": "code",
   "execution_count": null,
   "metadata": {
    "id": "0ANB9l7b36jv"
   },
   "outputs": [],
   "source": [
    "from tensorflow.keras.models import load_model\n",
    "\n",
    "reload_model=load_model('model_best.h5')"
   ]
  },
  {
   "cell_type": "code",
   "execution_count": null,
   "metadata": {
    "colab": {
     "base_uri": "https://localhost:8080/"
    },
    "id": "gf3c8tqTdigi",
    "outputId": "e97822a8-2edc-4b9f-bdde-0405a4ee72f5"
   },
   "outputs": [
    {
     "name": "stdout",
     "output_type": "stream",
     "text": [
      "Testing Accuracy: 0.2823\n"
     ]
    }
   ],
   "source": [
    "loss, accuracy = reload_model.evaluate(X_test, y_test, verbose=False)\n",
    "print(\"Testing Accuracy: {:.4f}\".format(accuracy))"
   ]
  },
  {
   "cell_type": "markdown",
   "metadata": {
    "id": "O8jRc_lPq16u"
   },
   "source": [
    "RNN"
   ]
  },
  {
   "cell_type": "code",
   "execution_count": null,
   "metadata": {
    "colab": {
     "base_uri": "https://localhost:8080/"
    },
    "id": "cG8uesCgjXBb",
    "outputId": "2d04de49-c5ce-4023-e911-cbcfa53ef6a7"
   },
   "outputs": [
    {
     "name": "stdout",
     "output_type": "stream",
     "text": [
      "Model: \"sequential_4\"\n",
      "_________________________________________________________________\n",
      "Layer (type)                 Output Shape              Param #   \n",
      "=================================================================\n",
      "embedding_6 (Embedding)      (None, 400, 200)          1000000   \n",
      "_________________________________________________________________\n",
      "simple_rnn (SimpleRNN)       (None, 200)               80200     \n",
      "_________________________________________________________________\n",
      "dense_8 (Dense)              (None, 200)               40200     \n",
      "_________________________________________________________________\n",
      "dropout_4 (Dropout)          (None, 200)               0         \n",
      "_________________________________________________________________\n",
      "dense_9 (Dense)              (None, 10)                2010      \n",
      "=================================================================\n",
      "Total params: 1,122,410\n",
      "Trainable params: 1,122,410\n",
      "Non-trainable params: 0\n",
      "_________________________________________________________________\n"
     ]
    }
   ],
   "source": [
    "from keras.models import Sequential\n",
    "from tensorflow.keras.layers import Dense, Dropout, Activation, Flatten, Embedding, SimpleRNN\n",
    "from keras.callbacks import EarlyStopping\n",
    "## create model\n",
    "\n",
    "vocab_size=5000\n",
    "\n",
    "\n",
    "#int_sequences_input = keras.Input(shape=(None,), dtype=\"int64\")\n",
    "#embedded_sequences = embedding_layer(int_sequences_input)\n",
    "          # input_length is the length of the sequence\n",
    "modelRNN = Sequential()\n",
    "#modelCNN.add(tf.keras.layers.Embedding(vocab_size, embedding_dim,\n",
    "#                         batch_input_shape=[None,]))\n",
    "modelRNN.add(Embedding(input_dim=vocab_size,          # input_dim is the size of the vocabulary\n",
    "                           output_dim=embedding_dim,      # output_dim is the size of the dense vector\n",
    "                           input_length=400))\n",
    "modelRNN.add(SimpleRNN(embedding_dim))\n",
    "modelRNN.add(Dense(200, activation='relu'))\n",
    "modelRNN.add(Dropout(0.2))\n",
    "modelRNN.add(Dense(10, activation='softmax'))\n",
    "\n",
    "modelRNN.summary()\n"
   ]
  },
  {
   "cell_type": "code",
   "execution_count": null,
   "metadata": {
    "colab": {
     "base_uri": "https://localhost:8080/"
    },
    "id": "u60v-A9ejaJc",
    "outputId": "956a6674-6076-4446-f680-f277711d027e"
   },
   "outputs": [
    {
     "name": "stdout",
     "output_type": "stream",
     "text": [
      "Epoch 1/10\n",
      "1564/1564 [==============================] - 534s 341ms/step - loss: 1.4625 - acc: 0.4803 - val_loss: 1.4160 - val_acc: 0.5027\n",
      "Epoch 2/10\n",
      "1564/1564 [==============================] - 523s 334ms/step - loss: 1.4230 - acc: 0.5054 - val_loss: 1.4113 - val_acc: 0.5050\n",
      "Epoch 3/10\n",
      "1564/1564 [==============================] - 520s 333ms/step - loss: 1.4206 - acc: 0.5056 - val_loss: 1.4052 - val_acc: 0.5030\n",
      "Epoch 4/10\n",
      "1564/1564 [==============================] - 519s 332ms/step - loss: 1.4231 - acc: 0.5032 - val_loss: 1.4155 - val_acc: 0.5025\n",
      "Epoch 00004: early stopping\n"
     ]
    }
   ],
   "source": [
    "modelRNN.compile(\n",
    "    loss=\"sparse_categorical_crossentropy\", optimizer=\"rmsprop\", metrics=[\"acc\"]\n",
    ")\n",
    "es = EarlyStopping(monitor='val_loss', mode='min', verbose=1)\n",
    "mod_2=modelRNN.fit(X_train,y_train, batch_size=128, epochs=10, validation_data=(X_val,y_val), callbacks=[es])"
   ]
  },
  {
   "cell_type": "code",
   "execution_count": null,
   "metadata": {
    "colab": {
     "base_uri": "https://localhost:8080/"
    },
    "id": "v_1KgGtWjeL2",
    "outputId": "558005cf-feed-4676-a9d6-ec3dad352a30"
   },
   "outputs": [
    {
     "name": "stdout",
     "output_type": "stream",
     "text": [
      "Training Accuracy: 0.5065\n",
      "validation Accuracy:  0.5025\n"
     ]
    }
   ],
   "source": [
    "loss, accuracy = modelRNN.evaluate(X_train, y_train, verbose=False)\n",
    "print(\"Training Accuracy: {:.4f}\".format(accuracy))\n",
    "loss, accuracy = modelRNN.evaluate(X_val, y_val, verbose=False)\n",
    "print(\"validation Accuracy:  {:.4f}\".format(accuracy))"
   ]
  },
  {
   "cell_type": "code",
   "execution_count": null,
   "metadata": {
    "id": "1gAG25PBTBmy"
   },
   "outputs": [],
   "source": [
    "from tensorflow.keras.models import load_model\n",
    "\n",
    "modelRNN.save('model_RNN.h5')"
   ]
  },
  {
   "cell_type": "code",
   "execution_count": null,
   "metadata": {
    "id": "msqdbpM0TCWm"
   },
   "outputs": [],
   "source": [
    "reload_model= keras.models.load_model(\"model_RNN.h5\")"
   ]
  },
  {
   "cell_type": "code",
   "execution_count": null,
   "metadata": {
    "colab": {
     "base_uri": "https://localhost:8080/"
    },
    "id": "m4N0dm1rTN4q",
    "outputId": "d41cd703-0b51-4410-f08f-b0c8d5242172"
   },
   "outputs": [
    {
     "name": "stdout",
     "output_type": "stream",
     "text": [
      "Testing Accuracy: 0.1908\n"
     ]
    }
   ],
   "source": [
    "loss, accuracy = reload_model.evaluate(X_test, y_test, verbose=False)\n",
    "print(\"Testing Accuracy: {:.4f}\".format(accuracy))"
   ]
  },
  {
   "cell_type": "code",
   "execution_count": null,
   "metadata": {
    "id": "68ZlmurqjlSi"
   },
   "outputs": [],
   "source": [
    "import matplotlib.pyplot as plt\n",
    "from plotly.offline import iplot\n",
    "!pip install plot_keras_history\n",
    "from plot_keras_history import plot_history\n",
    "plot_history(mod_2)"
   ]
  },
  {
   "cell_type": "code",
   "execution_count": null,
   "metadata": {
    "id": "wQPog-lM3F9H"
   },
   "outputs": [],
   "source": [
    "import matplotlib.pyplot as plt\n",
    "from plotly.offline import iplot\n",
    "!pip install plot_keras_history\n",
    "from plot_keras_history import plot_history\n",
    "plot_history(mod_testRNN)"
   ]
  },
  {
   "cell_type": "markdown",
   "metadata": {
    "id": "hNpwS4FKrSCW"
   },
   "source": [
    "LSTM Muliple Layer"
   ]
  },
  {
   "cell_type": "code",
   "execution_count": null,
   "metadata": {
    "colab": {
     "base_uri": "https://localhost:8080/"
    },
    "id": "tlyedgTLDVMZ",
    "outputId": "58c53eb8-fd9c-4712-8ce7-ab5588ba9bef"
   },
   "outputs": [
    {
     "name": "stdout",
     "output_type": "stream",
     "text": [
      "Model: \"sequential\"\n",
      "_________________________________________________________________\n",
      "Layer (type)                 Output Shape              Param #   \n",
      "=================================================================\n",
      "embedding_1 (Embedding)      (None, 400, 200)          1000000   \n",
      "_________________________________________________________________\n",
      "lstm (LSTM)                  (None, 400, 200)          320800    \n",
      "_________________________________________________________________\n",
      "lstm_1 (LSTM)                (None, 400, 100)          120400    \n",
      "_________________________________________________________________\n",
      "lstm_2 (LSTM)                (None, 100)               80400     \n",
      "_________________________________________________________________\n",
      "dense_4 (Dense)              (None, 200)               20200     \n",
      "_________________________________________________________________\n",
      "dropout_4 (Dropout)          (None, 200)               0         \n",
      "_________________________________________________________________\n",
      "dense_5 (Dense)              (None, 10)                2010      \n",
      "=================================================================\n",
      "Total params: 1,543,810\n",
      "Trainable params: 1,543,810\n",
      "Non-trainable params: 0\n",
      "_________________________________________________________________\n"
     ]
    }
   ],
   "source": [
    "from keras.models import Sequential\n",
    "from tensorflow.keras.layers import Dense, Dropout, Activation, Flatten, Embedding, LSTM\n",
    "from keras.callbacks import EarlyStopping\n",
    "vocab_size = 5000\n",
    "\n",
    "model06 = Sequential()\n",
    "model06.add(Embedding(input_dim=vocab_size,          # input_dim is the size of the vocabulary\n",
    "                           output_dim=embedding_dim,      # output_dim is the size of the dense vector\n",
    "                           input_length=400))          # input_length is the length of the sequence\n",
    "model06.add(LSTM(embedding_dim,return_sequences=True))\n",
    "model06.add(LSTM(100, return_sequences=True))\n",
    "model06.add(LSTM(100))\n",
    "model06.add(Dense(200, activation='relu'))\n",
    "model06.add(Dropout(0.2))\n",
    "model06.add(Dense(10, activation='softmax'))\n",
    "\n",
    "model06.summary()"
   ]
  },
  {
   "cell_type": "code",
   "execution_count": null,
   "metadata": {
    "colab": {
     "base_uri": "https://localhost:8080/"
    },
    "id": "b3C_jLuNDgKD",
    "outputId": "0150d850-8f72-45bf-e336-078b7e1d2b48"
   },
   "outputs": [
    {
     "name": "stdout",
     "output_type": "stream",
     "text": [
      "Epoch 1/10\n",
      "1564/1564 [==============================] - 230s 144ms/step - loss: 1.4209 - acc: 0.5006 - val_loss: 1.3324 - val_acc: 0.5460\n",
      "Epoch 2/10\n",
      "1564/1564 [==============================] - 225s 144ms/step - loss: 1.3059 - acc: 0.5645 - val_loss: 1.3313 - val_acc: 0.5363\n",
      "Epoch 3/10\n",
      "1564/1564 [==============================] - 225s 144ms/step - loss: 1.2763 - acc: 0.5754 - val_loss: 1.2288 - val_acc: 0.5867\n",
      "Epoch 4/10\n",
      "1564/1564 [==============================] - 225s 144ms/step - loss: 1.2054 - acc: 0.5964 - val_loss: 1.1537 - val_acc: 0.6078\n",
      "Epoch 5/10\n",
      "1564/1564 [==============================] - 225s 144ms/step - loss: 1.1458 - acc: 0.6150 - val_loss: 1.1261 - val_acc: 0.6170\n",
      "Epoch 6/10\n",
      "1564/1564 [==============================] - 225s 144ms/step - loss: 1.1138 - acc: 0.6257 - val_loss: 1.1584 - val_acc: 0.6027\n",
      "Epoch 00006: early stopping\n"
     ]
    }
   ],
   "source": [
    "model06.compile(\n",
    "    loss=\"sparse_categorical_crossentropy\", optimizer=\"rmsprop\", metrics=[\"acc\"]\n",
    ")\n",
    "es = EarlyStopping(monitor='val_loss', mode='min', verbose=1)\n",
    "mod6=model06.fit(X_train,y_train, batch_size=128, epochs=10, validation_data=(X_val,y_val),callbacks=[es])"
   ]
  },
  {
   "cell_type": "code",
   "execution_count": null,
   "metadata": {
    "colab": {
     "base_uri": "https://localhost:8080/"
    },
    "id": "LOX3bM5mDlR2",
    "outputId": "ccffc6af-ddaf-4d29-c7da-933cc74d365f"
   },
   "outputs": [
    {
     "name": "stdout",
     "output_type": "stream",
     "text": [
      "Training Accuracy: 0.6176\n",
      "validation Accuracy:  0.6027\n"
     ]
    }
   ],
   "source": [
    "loss, accuracy = model06.evaluate(X_train, y_train, verbose=False)\n",
    "print(\"Training Accuracy: {:.4f}\".format(accuracy))\n",
    "loss, accuracy = model06.evaluate(X_val, y_val, verbose=False)\n",
    "print(\"validation Accuracy:  {:.4f}\".format(accuracy))"
   ]
  },
  {
   "cell_type": "code",
   "execution_count": null,
   "metadata": {
    "colab": {
     "base_uri": "https://localhost:8080/",
     "height": 694
    },
    "id": "grUu1nFzTf5c",
    "outputId": "3dcd6dcc-e23f-47d9-a7b1-ea44a2561700"
   },
   "outputs": [
    {
     "name": "stdout",
     "output_type": "stream",
     "text": [
      "Requirement already satisfied: plot_keras_history in /usr/local/lib/python3.7/dist-packages (1.1.29)\n",
      "Requirement already satisfied: scipy in /usr/local/lib/python3.7/dist-packages (from plot_keras_history) (1.4.1)\n",
      "Requirement already satisfied: sanitize-ml-labels in /usr/local/lib/python3.7/dist-packages (from plot_keras_history) (1.0.26)\n",
      "Requirement already satisfied: matplotlib in /usr/local/lib/python3.7/dist-packages (from plot_keras_history) (3.2.2)\n",
      "Requirement already satisfied: pandas in /usr/local/lib/python3.7/dist-packages (from plot_keras_history) (1.1.5)\n",
      "Requirement already satisfied: numpy>=1.13.3 in /usr/local/lib/python3.7/dist-packages (from scipy->plot_keras_history) (1.19.5)\n",
      "Requirement already satisfied: compress-json in /usr/local/lib/python3.7/dist-packages (from sanitize-ml-labels->plot_keras_history) (1.0.4)\n",
      "Requirement already satisfied: kiwisolver>=1.0.1 in /usr/local/lib/python3.7/dist-packages (from matplotlib->plot_keras_history) (1.3.1)\n",
      "Requirement already satisfied: python-dateutil>=2.1 in /usr/local/lib/python3.7/dist-packages (from matplotlib->plot_keras_history) (2.8.1)\n",
      "Requirement already satisfied: pyparsing!=2.0.4,!=2.1.2,!=2.1.6,>=2.0.1 in /usr/local/lib/python3.7/dist-packages (from matplotlib->plot_keras_history) (2.4.7)\n",
      "Requirement already satisfied: cycler>=0.10 in /usr/local/lib/python3.7/dist-packages (from matplotlib->plot_keras_history) (0.10.0)\n",
      "Requirement already satisfied: pytz>=2017.2 in /usr/local/lib/python3.7/dist-packages (from pandas->plot_keras_history) (2018.9)\n",
      "Requirement already satisfied: six>=1.5 in /usr/local/lib/python3.7/dist-packages (from python-dateutil>=2.1->matplotlib->plot_keras_history) (1.15.0)\n"
     ]
    },
    {
     "data": {
      "text/plain": [
       "(<Figure size 720x360 with 2 Axes>,\n",
       " array([<matplotlib.axes._subplots.AxesSubplot object at 0x7f6909f4dad0>,\n",
       "        <matplotlib.axes._subplots.AxesSubplot object at 0x7f6909efaa50>],\n",
       "       dtype=object))"
      ]
     },
     "execution_count": 40,
     "metadata": {
      "tags": []
     },
     "output_type": "execute_result"
    },
    {
     "data": {
      "image/png": "[encoded data removed]",
      "text/plain": [
       "<Figure size 720x360 with 2 Axes>"
      ]
     },
     "metadata": {
      "needs_background": "light",
      "tags": []
     },
     "output_type": "display_data"
    }
   ],
   "source": [
    "import matplotlib.pyplot as plt\n",
    "from plotly.offline import iplot\n",
    "!pip install plot_keras_history\n",
    "from plot_keras_history import plot_history\n",
    "plot_history(mod6)"
   ]
  },
  {
   "cell_type": "code",
   "execution_count": null,
   "metadata": {
    "id": "c8s-2tW2AIWF"
   },
   "outputs": [],
   "source": [
    "\n",
    "from tensorflow.keras.models import load_model\n",
    "\n",
    "model06.save('model_MultiL.h5')"
   ]
  },
  {
   "cell_type": "code",
   "execution_count": null,
   "metadata": {
    "id": "JsBxvZJ2p0SO"
   },
   "outputs": [],
   "source": [
    "reconstructed_model = keras.models.load_model(\"model_MultiL.h5\")\n"
   ]
  },
  {
   "cell_type": "code",
   "execution_count": null,
   "metadata": {
    "colab": {
     "base_uri": "https://localhost:8080/"
    },
    "id": "-j-um6Qqp1Db",
    "outputId": "97f325a8-9439-49fa-832d-88f2f401422c"
   },
   "outputs": [
    {
     "name": "stdout",
     "output_type": "stream",
     "text": [
      "Testing Accuracy: 0.2807\n"
     ]
    }
   ],
   "source": [
    "loss, accuracy = model06.evaluate(X_test, y_test, verbose=False)\n",
    "print(\"Testing Accuracy: {:.4f}\".format(accuracy))"
   ]
  },
  {
   "cell_type": "code",
   "execution_count": null,
   "metadata": {
    "id": "zYz0siQGE7qG"
   },
   "outputs": [],
   "source": [
    "prediction= reconstructed_model.predict(X_test)"
   ]
  },
  {
   "cell_type": "code",
   "execution_count": null,
   "metadata": {
    "colab": {
     "base_uri": "https://localhost:8080/"
    },
    "id": "Xekk1BmpFjNn",
    "outputId": "39ab4c12-87ba-4515-8a95-cb7c084928b9"
   },
   "outputs": [
    {
     "name": "stdout",
     "output_type": "stream",
     "text": [
      "[[6.3484079e-12 1.3798178e-04 1.3956360e-07 ... 8.1105984e-04\n",
      "  1.0236885e-04 7.8982703e-05]\n",
      " [2.7240892e-03 7.1639612e-02 4.2035840e-02 ... 9.6687578e-02\n",
      "  1.0649205e-02 2.3828222e-01]\n",
      " [4.8588344e-04 4.9996519e-01 2.3677714e-02 ... 6.1941758e-02\n",
      "  5.4047205e-02 2.0371900e-01]\n",
      " ...\n",
      " [0.0000000e+00 9.1447230e-22 1.5251639e-34 ... 1.3815191e-10\n",
      "  1.4545722e-19 5.9700112e-19]\n",
      " [2.2448124e-03 1.0190574e-02 2.6798794e-02 ... 6.5201521e-02\n",
      "  2.1083676e-03 1.6997115e-01]\n",
      " [1.4655418e-03 4.8510819e-03 2.0876070e-02 ... 2.1580651e-02\n",
      "  5.4113881e-04 4.0194768e-01]]\n",
      "['Hip-hop', 'Indie', 'Electric', 'Pop', 'Jazz', 'County', 'County', 'Hip-hop', 'Indie', 'R&B', 'Metal', 'County', 'Hip-hop', 'Pop', 'Metal', 'Jazz', 'Hip-hop', 'Hip-hop', 'Rock', 'Pop', 'Rock', 'Metal', 'Rock', 'Pop', 'Hip-hop', 'Metal', 'County', 'Pop', 'County', 'Hip-hop', 'Indie', 'Electric', 'Rock', 'Electric', 'County', 'Electric', 'Indie', 'Electric', 'Folk', 'Rock', 'County', 'Indie', 'R&B', 'Electric', 'Electric', 'Hip-hop', 'Electric', 'County', 'Folk', 'Jazz', 'Electric', 'Electric', 'Electric', 'Rock', 'County', 'County', 'Folk', 'County', 'Rock', 'Jazz', 'Rock', 'Rock', 'Electric', 'Hip-hop', 'Hip-hop', 'Pop', 'R&B', 'County', 'County', 'Rock', 'Electric', 'Rock', 'Pop', 'Hip-hop', 'Pop', 'Electric', 'Metal', 'Electric', 'Electric', 'County', 'County', 'Rock', 'Folk', 'Rock', 'Hip-hop', 'Jazz', 'Indie', 'Indie', 'Hip-hop', 'Folk', 'Hip-hop', 'Metal', 'Metal', 'Hip-hop', 'Rock', 'Pop', 'Metal', 'Pop', 'Rock', 'Electric', 'County', 'Electric', 'Hip-hop', 'R&B', 'Hip-hop', 'Hip-hop', 'Metal', 'Electric', 'Electric', 'Folk', 'R&B', 'R&B', 'Indie', 'R&B', 'Hip-hop', 'R&B', 'Metal', 'Rock', 'County', 'Metal', 'County', 'County', 'Folk', 'County', 'Pop', 'Electric', 'Rock', 'R&B', 'Hip-hop', 'Hip-hop', 'Rock', 'Indie', 'Hip-hop', 'Pop', 'Pop', 'Hip-hop', 'Pop', 'County', 'Rock', 'County', 'R&B', 'Metal', 'Jazz', 'Rock', 'Pop', 'Pop', 'Hip-hop', 'Pop', 'Indie', 'Indie', 'Indie', 'Pop', 'County', 'County', 'Hip-hop', 'Indie', 'Rock', 'Pop', 'Hip-hop', 'Folk', 'Hip-hop', 'Pop', 'Pop', 'County', 'Rock', 'County', 'Pop', 'County', 'Pop', 'Rock', 'Metal', 'Jazz', 'R&B', 'Folk', 'County', 'Hip-hop', 'Jazz', 'Indie', 'Rock', 'Pop', 'County', 'Electric', 'County', 'Pop', 'Rock', 'Jazz', 'Rock', 'Pop', 'Electric', 'Indie', 'Indie', 'Metal', 'Rock', 'Hip-hop', 'Jazz', 'Pop', 'Metal', 'Metal', 'Pop', 'Rock', 'Rock', 'Pop', 'Pop', 'Pop', 'Rock', 'Electric', 'Pop', 'Pop', 'Jazz', 'Jazz', 'R&B', 'Electric', 'Hip-hop', 'Rock', 'County', 'Electric', 'Indie', 'Rock', 'Metal', 'Rock', 'Pop', 'Pop', 'Hip-hop', 'County', 'Electric', 'Hip-hop', 'County', 'Indie', 'R&B', 'Metal', 'R&B', 'Electric', 'Metal', 'Rock', 'Electric', 'County', 'County', 'Jazz', 'Electric', 'County', 'Rock', 'Pop', 'Indie', 'Jazz', 'Electric', 'Pop', 'Metal', 'Hip-hop', 'Jazz', 'Jazz', 'Electric', 'Jazz', 'Pop', 'Hip-hop', 'Jazz', 'Hip-hop', 'Hip-hop', 'Pop', 'Electric', 'Hip-hop', 'Indie', 'Electric', 'Pop', 'Metal', 'R&B', 'Rock', 'Rock', 'Indie', 'Jazz', 'Rock', 'Rock', 'Metal', 'Pop', 'Pop', 'Rock', 'Jazz', 'Pop', 'County', 'Pop', 'Pop', 'County', 'County', 'Rock', 'Hip-hop', 'Electric', 'Rock', 'Rock', 'Rock', 'Metal', 'Folk', 'Hip-hop', 'Electric', 'Jazz', 'Electric', 'Indie', 'County', 'R&B', 'Jazz', 'Electric', 'Pop', 'Rock', 'Jazz', 'Electric', 'Electric', 'Metal', 'Rock', 'Folk', 'Rock', 'Indie', 'Pop', 'Metal', 'County', 'Rock', 'County', 'Folk', 'Electric', 'Hip-hop', 'Folk', 'County', 'Rock', 'Rock', 'Rock', 'R&B', 'Metal', 'Rock', 'Pop', 'Metal', 'Metal', 'Metal', 'Rock', 'Pop', 'Indie', 'Rock', 'Indie', 'Jazz', 'Hip-hop', 'County', 'Electric', 'Pop', 'Pop', 'Rock', 'Pop', 'R&B', 'Hip-hop', 'Hip-hop', 'Jazz', 'Rock', 'County', 'R&B', 'Jazz', 'Rock', 'Pop', 'Indie', 'Indie', 'County', 'Indie', 'Pop', 'Hip-hop', 'Rock', 'Pop', 'Pop', 'County', 'Rock', 'Jazz', 'Indie', 'Hip-hop', 'Jazz', 'Electric', 'Hip-hop', 'R&B', 'Pop', 'Rock', 'Rock', 'Hip-hop', 'Rock', 'Pop', 'Metal', 'Pop', 'Rock', 'Metal', 'Rock', 'Indie', 'Rock', 'Electric', 'Hip-hop', 'Metal', 'Rock', 'Hip-hop', 'Hip-hop', 'Rock', 'Indie', 'Folk', 'County', 'Rock', 'Hip-hop', 'Rock', 'Folk', 'Hip-hop', 'Folk', 'Pop', 'County', 'Electric', 'Rock', 'Folk', 'R&B', 'County', 'Indie', 'Indie', 'County', 'Hip-hop', 'Pop', 'Rock', 'County', 'Pop', 'Electric', 'Pop', 'Pop', 'County', 'Metal', 'Rock', 'R&B', 'Pop', 'County', 'Rock', 'Indie', 'County', 'County', 'County', 'Folk', 'Pop', 'R&B', 'Electric', 'Metal', 'County', 'Metal', 'Electric', 'Indie', 'Indie', 'County', 'Jazz', 'Jazz', 'Pop', 'Indie', 'Rock', 'County', 'Pop', 'Jazz', 'Pop', 'Hip-hop', 'Electric', 'Jazz', 'Hip-hop', 'County', 'Electric', 'Electric', 'Pop', 'Pop', 'Rock', 'County', 'Pop', 'County', 'County', 'Pop', 'Jazz', 'Rock', 'Rock', 'Rock', 'Electric', 'Hip-hop', 'Rock', 'Electric', 'Metal', 'Indie', 'Pop', 'Jazz', 'Metal', 'Rock', 'Rock', 'Hip-hop', 'Hip-hop', 'Indie', 'Pop', 'Indie', 'County', 'Indie', 'Metal', 'Rock', 'Indie', 'Hip-hop', 'Folk', 'Metal', 'Indie', 'County', 'R&B', 'Hip-hop', 'Rock', 'R&B', 'R&B', 'Jazz', 'Pop', 'Pop', 'Folk', 'Hip-hop', 'Electric', 'Indie', 'Rock', 'Electric', 'Rock', 'Rock', 'Indie', 'Metal', 'Hip-hop', 'Indie', 'Metal', 'Electric', 'County', 'Rock', 'Pop', 'Electric', 'Jazz', 'Hip-hop', 'Pop', 'Rock', 'Folk', 'Indie', 'R&B', 'Rock', 'Hip-hop', 'Rock', 'Rock', 'Rock', 'Pop', 'County', 'Folk', 'Electric', 'R&B', 'Rock', 'Rock', 'Pop', 'R&B', 'Pop', 'Pop', 'Indie', 'Pop', 'Pop', 'R&B', 'Hip-hop', 'Hip-hop', 'County', 'Hip-hop', 'Indie', 'Jazz', 'Hip-hop', 'Electric', 'Indie', 'Rock', 'Pop', 'Electric', 'Electric', 'Hip-hop', 'County', 'Hip-hop', 'Indie', 'Rock', 'Electric', 'Rock', 'Hip-hop', 'Hip-hop', 'Pop', 'County', 'Pop', 'Indie', 'Rock', 'Jazz', 'Hip-hop', 'Electric', 'Indie', 'Hip-hop', 'Hip-hop', 'Hip-hop', 'R&B', 'Electric', 'Hip-hop', 'County', 'County', 'Electric', 'Pop', 'Hip-hop', 'Hip-hop', 'R&B', 'Electric', 'Folk', 'R&B', 'Indie', 'County', 'R&B', 'County', 'County', 'Rock', 'Metal', 'Indie', 'Metal', 'County', 'R&B', 'Electric', 'Pop', 'Metal', 'Rock', 'Rock', 'Rock', 'Rock', 'Indie', 'Metal', 'Rock', 'Folk', 'County', 'Metal', 'Metal', 'R&B', 'Indie', 'Rock', 'Pop', 'Electric', 'Rock', 'Metal', 'R&B', 'Metal', 'Rock', 'Metal', 'Indie', 'Rock', 'Folk', 'Metal', 'Hip-hop', 'Electric', 'Metal', 'Folk', 'County', 'Hip-hop', 'Electric', 'Metal', 'Folk', 'Hip-hop', 'Electric', 'Indie', 'Rock', 'Electric', 'Metal', 'Rock', 'County', 'Pop', 'Metal', 'Metal', 'Hip-hop', 'County', 'Electric', 'Pop', 'Pop', 'Electric', 'Folk', 'County', 'Hip-hop', 'Rock', 'R&B', 'Jazz', 'R&B', 'Pop', 'Electric', 'Rock', 'County', 'Electric', 'County', 'Pop', 'County', 'Metal', 'Indie', 'County', 'Metal', 'R&B', 'Electric', 'R&B', 'Rock', 'Jazz', 'Rock', 'Indie', 'Pop', 'Pop', 'Pop', 'Rock', 'Metal', 'Metal', 'Indie', 'Rock', 'County', 'Electric', 'Rock', 'Rock', 'Electric', 'Indie', 'County', 'Rock', 'R&B', 'Rock', 'Rock', 'Rock', 'Indie', 'Electric', 'Metal', 'Rock', 'Electric', 'Jazz', 'County', 'Pop', 'Metal', 'Electric', 'R&B', 'Jazz', 'R&B', 'Electric', 'Pop', 'Metal', 'Hip-hop', 'Rock', 'Hip-hop', 'Indie', 'Pop', 'Electric', 'County', 'Electric', 'Rock', 'Pop', 'County', 'Hip-hop', 'County', 'County', 'Hip-hop', 'Electric', 'Metal', 'Pop', 'Indie', 'Metal', 'Indie', 'Rock', 'Indie', 'R&B', 'Rock', 'R&B', 'R&B', 'Metal', 'Hip-hop', 'Rock', 'County', 'Indie', 'Hip-hop', 'R&B', 'Jazz', 'Pop', 'Indie', 'Hip-hop', 'County', 'Electric', 'Rock', 'Rock', 'County', 'Pop', 'Rock', 'Hip-hop', 'Rock', 'County', 'Rock', 'Hip-hop', 'Rock', 'County', 'Hip-hop', 'Electric', 'Hip-hop', 'County', 'Hip-hop', 'Pop', 'Folk', 'Pop', 'Pop', 'R&B', 'Rock', 'Folk', 'Indie', 'Pop', 'Electric', 'Hip-hop', 'Electric', 'Electric', 'Rock', 'Rock', 'Pop', 'Rock', 'Hip-hop', 'Jazz', 'Folk', 'Metal', 'Jazz', 'Pop', 'Hip-hop', 'Hip-hop', 'Folk', 'County', 'Electric', 'Hip-hop', 'Rock', 'Metal', 'Rock', 'Electric', 'Pop', 'Electric', 'Electric', 'Rock', 'Rock', 'Pop', 'Metal', 'Pop', 'Metal', 'Hip-hop', 'Indie', 'Folk', 'Rock', 'Indie', 'Metal', 'County', 'Metal', 'County', 'Hip-hop', 'Electric', 'Electric', 'Metal', 'County', 'R&B', 'Electric', 'Jazz', 'R&B', 'County', 'Electric', 'Metal', 'Pop', 'Electric', 'Pop', 'County', 'R&B', 'Electric', 'Jazz', 'Rock', 'Hip-hop', 'Hip-hop', 'Rock', 'Pop', 'Metal', 'Pop', 'Metal', 'Pop', 'Indie', 'Hip-hop', 'Jazz', 'Pop', 'Jazz', 'Metal', 'Pop', 'Rock', 'R&B', 'Metal', 'Metal', 'Electric', 'Pop', 'Indie', 'Metal', 'County', 'County', 'Pop', 'Pop', 'Electric', 'Pop', 'Electric', 'County', 'Rock', 'Indie', 'Pop', 'Pop', 'Pop', 'Hip-hop', 'Rock', 'Rock', 'Metal', 'Pop', 'Hip-hop', 'Rock', 'Pop', 'Rock', 'Jazz', 'Metal', 'Electric', 'Pop', 'Electric', 'Metal', 'Jazz', 'R&B', 'Indie', 'Metal', 'Metal', 'Hip-hop', 'R&B', 'Metal', 'Jazz', 'R&B', 'Pop', 'Metal', 'County', 'Indie', 'Hip-hop', 'Pop', 'Metal', 'Electric', 'Metal', 'Hip-hop', 'R&B', 'Metal', 'Pop', 'Rock', 'Electric', 'Indie', 'Indie', 'County', 'Hip-hop', 'Rock', 'Pop', 'Rock', 'County', 'Indie', 'R&B', 'County', 'Hip-hop', 'Pop', 'Folk', 'Jazz', 'Jazz', 'Indie', 'County', 'Pop', 'Electric', 'R&B', 'Electric', 'R&B', 'County', 'Electric', 'Pop', 'R&B', 'County', 'Indie', 'Rock', 'Pop', 'County', 'Indie', 'R&B', 'Pop', 'County', 'Indie', 'Electric', 'Metal', 'Folk', 'Electric', 'Pop', 'Pop', 'Pop', 'Rock', 'Rock', 'R&B', 'Pop', 'Hip-hop', 'Hip-hop', 'Folk', 'Hip-hop', 'Indie', 'R&B', 'Hip-hop', 'Jazz', 'Pop', 'Jazz', 'Hip-hop', 'Metal', 'Electric', 'Metal', 'Folk', 'Electric', 'Electric', 'Jazz', 'Metal', 'Pop', 'Hip-hop', 'Hip-hop', 'Hip-hop', 'Jazz', 'Pop', 'R&B', 'R&B', 'Jazz', 'Electric', 'Pop', 'Electric', 'Pop', 'Pop', 'Folk', 'Electric', 'Jazz', 'Metal', 'Indie', 'Hip-hop', 'Metal', 'Pop', 'County', 'County', 'Pop', 'Indie', 'Pop', 'R&B', 'County', 'Hip-hop', 'Rock', 'Jazz', 'Electric', 'Pop', 'Electric', 'Indie', 'Hip-hop', 'R&B', 'Jazz', 'Pop', 'Jazz', 'Metal', 'R&B', 'Hip-hop', 'Hip-hop', 'Indie', 'Indie', 'Hip-hop', 'County', 'County', 'Pop', 'Rock', 'Rock', 'Indie', 'Rock', 'Pop', 'County', 'County', 'Indie', 'Rock', 'County', 'Electric', 'Electric', 'Hip-hop', 'Electric', 'County', 'Pop', 'Rock', 'Pop', 'R&B', 'County', 'Pop', 'Metal', 'Hip-hop', 'Rock', 'R&B', 'R&B', 'County', 'Folk', 'Rock', 'Pop', 'Metal', 'Rock', 'Rock', 'Hip-hop', 'Indie', 'Rock', 'Pop', 'Pop', 'Folk', 'Pop', 'R&B', 'Electric', 'Indie', 'Pop', 'Hip-hop', 'Pop', 'Hip-hop', 'Metal', 'Electric', 'Hip-hop', 'Rock', 'Pop', 'Pop', 'R&B', 'Pop', 'Rock', 'Pop', 'Electric', 'Indie', 'County', 'County', 'R&B', 'Hip-hop', 'Jazz', 'Metal', 'Folk', 'County', 'R&B', 'Jazz', 'Rock', 'Rock', 'Metal', 'Hip-hop', 'Indie', 'Electric', 'Rock', 'Indie', 'County', 'Rock', 'Indie', 'Rock', 'Electric', 'Jazz', 'Pop', 'Rock', 'County', 'Metal', 'Hip-hop', 'Folk', 'Electric', 'Indie', 'Metal', 'Pop', 'Hip-hop', 'Indie', 'Rock', 'Electric', 'Rock', 'Rock', 'R&B', 'Metal', 'Folk', 'Electric', 'Electric', 'Indie', 'R&B', 'Electric', 'Hip-hop', 'Jazz', 'Rock', 'Rock', 'Pop', 'Metal', 'Folk', 'Indie', 'Jazz', 'Pop', 'Indie', 'Rock', 'County', 'Rock', 'Pop', 'Hip-hop', 'Rock', 'Metal', 'Hip-hop', 'Jazz', 'Rock', 'Rock', 'Metal', 'Indie', 'Pop', 'Hip-hop', 'County', 'Metal', 'Hip-hop', 'Rock', 'R&B', 'Folk', 'Indie', 'R&B', 'Pop', 'Metal', 'Metal', 'Rock', 'County', 'Pop', 'R&B', 'Rock', 'Pop', 'Electric', 'Pop', 'County', 'Pop', 'Rock', 'Rock', 'Jazz', 'Rock', 'R&B', 'County', 'Metal', 'Metal', 'Rock', 'R&B', 'Hip-hop', 'Folk', 'Indie', 'Jazz', 'Folk', 'Folk', 'Metal', 'R&B', 'Rock', 'R&B', 'Pop', 'Electric', 'Jazz', 'Folk', 'Folk', 'Electric', 'Rock', 'R&B', 'Hip-hop', 'Jazz', 'Folk', 'Metal', 'Pop', 'Pop', 'Electric', 'Folk', 'County', 'County', 'Metal', 'Hip-hop', 'Jazz', 'Jazz', 'Hip-hop', 'Electric', 'R&B', 'Rock', 'Rock', 'County', 'County', 'R&B', 'Indie', 'County', 'Hip-hop', 'Rock', 'Rock', 'Hip-hop', 'Hip-hop', 'Indie', 'R&B', 'R&B', 'Hip-hop', 'Pop', 'Metal', 'County', 'Hip-hop', 'Electric', 'Metal', 'Electric', 'R&B', 'County', 'Electric', 'Folk', 'Hip-hop', 'Rock', 'Metal', 'Electric', 'Pop', 'Electric', 'Electric', 'Jazz', 'R&B', 'County', 'Electric', 'County', 'Rock', 'Hip-hop', 'Electric', 'Jazz', 'R&B', 'County', 'Metal', 'Electric', 'Metal', 'Electric', 'Rock', 'Pop', 'Pop', 'Pop', 'Rock', 'Jazz', 'R&B', 'R&B', 'Pop', 'Rock', 'Electric', 'Metal', 'R&B', 'Metal', 'Electric', 'Pop', 'County', 'Folk', 'County', 'Jazz', 'County', 'County', 'R&B', 'Pop', 'Hip-hop', 'County', 'Hip-hop', 'Hip-hop', 'Metal', 'Indie', 'Electric', 'County', 'Hip-hop', 'Hip-hop', 'Jazz', 'R&B', 'Rock', 'Electric', 'R&B', 'Rock', 'Pop', 'Jazz', 'Electric', 'Rock', 'Indie', 'Indie', 'Metal', 'Pop', 'County', 'Metal', 'Folk', 'Metal', 'Pop', 'Rock', 'R&B', 'Indie', 'Metal', 'County', 'Pop', 'Rock', 'Electric', 'Pop', 'Indie', 'County', 'Rock', 'R&B', 'County', 'R&B', 'R&B', 'County', 'County', 'Hip-hop', 'Indie', 'Metal', 'Rock', 'Jazz', 'Electric', 'Jazz', 'Pop', 'Metal', 'Rock', 'County', 'County', 'Pop', 'Rock', 'Electric', 'R&B', 'Pop', 'Pop', 'Rock', 'R&B', 'R&B', 'Rock', 'Rock', 'Electric', 'Pop', 'Indie', 'Pop', 'County', 'Jazz', 'Jazz', 'R&B', 'Rock', 'Pop', 'Rock', 'Metal', 'Pop', 'Jazz', 'R&B', 'Indie', 'Electric', 'Metal', 'Metal', 'Metal', 'Jazz', 'Rock', 'Pop', 'Hip-hop', 'County', 'R&B', 'Pop', 'Electric', 'R&B', 'Indie', 'Hip-hop', 'Folk', 'Electric', 'Metal', 'Metal', 'Pop', 'Rock', 'Folk', 'Rock', 'Folk', 'County', 'Metal', 'Rock', 'Rock', 'Pop', 'Indie', 'Pop', 'Hip-hop', 'County', 'R&B', 'Jazz', 'R&B', 'Electric', 'Rock', 'Rock', 'Jazz', 'Rock', 'Electric', 'County', 'County', 'Rock', 'Rock', 'Rock', 'Rock', 'Metal', 'Hip-hop', 'Jazz', 'Jazz', 'Hip-hop', 'Indie', 'Hip-hop', 'Folk', 'Hip-hop', 'County', 'Indie', 'Hip-hop', 'Indie', 'Metal', 'Metal', 'Pop', 'Metal', 'Hip-hop', 'Indie', 'Rock', 'Rock', 'Indie', 'County', 'Hip-hop', 'R&B', 'Metal', 'Jazz', 'Electric', 'Indie', 'Jazz', 'R&B', 'Indie', 'Folk', 'Rock', 'R&B', 'Hip-hop', 'Rock', 'Pop', 'Rock', 'Jazz', 'Electric', 'Rock', 'Metal', 'Hip-hop', 'Jazz', 'Rock', 'Rock', 'Electric', 'Metal', 'Hip-hop', 'R&B', 'Rock', 'Rock', 'Rock', 'Pop', 'Metal', 'Rock', 'Rock', 'Metal', 'Rock', 'Hip-hop', 'Hip-hop', 'R&B', 'Metal', 'Electric', 'Electric', 'Indie', 'Jazz', 'Indie', 'Hip-hop', 'Pop', 'Pop', 'Hip-hop', 'Jazz', 'Electric', 'Pop', 'Metal', 'R&B', 'Rock', 'R&B', 'Rock', 'R&B', 'Electric', 'Pop', 'Pop', 'County', 'Indie', 'Metal', 'Folk', 'Electric', 'Pop', 'Electric', 'Pop', 'Jazz', 'Rock', 'Hip-hop', 'Indie', 'County', 'Hip-hop', 'County', 'Pop', 'Metal', 'Electric', 'R&B', 'Hip-hop', 'Rock', 'Metal', 'Hip-hop', 'Folk', 'Indie', 'Electric', 'Rock', 'Indie', 'Rock', 'Rock', 'County', 'Rock', 'Pop', 'County', 'Electric', 'Electric', 'Indie', 'County', 'Rock', 'Pop', 'R&B', 'Pop', 'County', 'Electric', 'Metal', 'Metal', 'Indie', 'Indie', 'Jazz', 'Folk', 'Pop', 'Jazz', 'Folk', 'Pop', 'Rock', 'Electric', 'Electric', 'Metal', 'Metal', 'R&B', 'Rock', 'Hip-hop', 'Pop', 'Jazz', 'Hip-hop', 'Electric', 'Indie', 'Electric', 'Jazz', 'Rock', 'County', 'Indie', 'Jazz', 'Hip-hop', 'Rock', 'Pop', 'R&B', 'Rock', 'Pop', 'Pop', 'Rock', 'Pop', 'County', 'Metal', 'Rock', 'Rock', 'Hip-hop', 'County', 'Metal', 'Rock', 'Hip-hop', 'Pop', 'Metal', 'R&B', 'Electric', 'Electric', 'Hip-hop', 'Jazz', 'Pop', 'R&B', 'Indie', 'Metal', 'County', 'Metal', 'Metal', 'County', 'Indie', 'R&B', 'Rock', 'Metal', 'Rock', 'Hip-hop', 'Pop', 'Rock', 'Hip-hop', 'R&B', 'Electric', 'R&B', 'Electric', 'Electric', 'Pop', 'Indie', 'Indie', 'Indie', 'Hip-hop', 'Pop', 'Indie', 'Metal', 'Pop', 'Hip-hop', 'Rock', 'Pop', 'Metal', 'R&B', 'County', 'Rock', 'Hip-hop', 'Hip-hop', 'Metal', 'Rock', 'Jazz', 'R&B', 'Electric', 'Electric', 'Rock', 'Electric', 'Hip-hop', 'Hip-hop', 'Rock', 'Indie', 'Hip-hop', 'R&B', 'Electric', 'Rock', 'Rock', 'R&B', 'County', 'Electric', 'Pop', 'Pop', 'County', 'Metal', 'County', 'Rock', 'Folk', 'Pop', 'R&B', 'Electric', 'County', 'Hip-hop', 'Electric', 'Rock', 'R&B', 'Electric', 'Indie', 'County', 'R&B', 'Electric', 'Jazz', 'Pop', 'R&B', 'Jazz', 'Folk', 'R&B', 'Rock', 'Electric', 'Electric', 'Hip-hop', 'Pop', 'Pop', 'Rock', 'R&B', 'Metal', 'County', 'Rock', 'Hip-hop', 'Indie', 'County', 'County', 'Metal', 'Folk', 'Rock', 'Metal', 'Hip-hop', 'Electric', 'County', 'Rock', 'Jazz', 'R&B', 'County', 'Metal', 'Hip-hop', 'Metal', 'Jazz', 'County', 'Rock', 'Rock', 'Folk', 'Electric', 'Pop', 'Indie', 'R&B', 'County', 'Pop', 'Pop', 'Rock', 'R&B', 'Folk', 'Metal', 'Rock', 'County', 'Rock', 'Electric', 'Hip-hop', 'Metal', 'Pop', 'Rock', 'R&B', 'Electric', 'Electric', 'Pop', 'Rock', 'County', 'Rock', 'Pop', 'Folk', 'Rock', 'Electric', 'Rock', 'Indie', 'Hip-hop', 'Metal', 'Rock', 'Rock', 'County', 'County', 'R&B', 'Rock', 'R&B', 'Pop', 'Metal', 'Rock', 'County', 'County', 'Hip-hop', 'Electric', 'Electric', 'Indie', 'R&B', 'Metal', 'Metal', 'County', 'Rock', 'Electric', 'Jazz', 'R&B', 'Rock', 'Pop', 'Pop', 'County', 'Indie', 'Pop', 'County', 'Pop', 'Rock', 'Electric', 'Hip-hop', 'Electric', 'Hip-hop', 'Hip-hop', 'County', 'Hip-hop', 'Pop', 'Hip-hop', 'Rock', 'Indie', 'Electric', 'Hip-hop', 'Indie', 'Rock', 'County', 'Electric', 'Rock', 'Jazz', 'R&B', 'County', 'Electric', 'Pop', 'Metal', 'Jazz', 'R&B', 'Pop', 'Hip-hop', 'R&B', 'R&B', 'Rock', 'Hip-hop', 'R&B', 'County', 'Indie', 'County', 'Rock', 'Rock', 'Metal', 'Electric', 'Rock', 'Hip-hop', 'Metal', 'Electric', 'Electric', 'Metal', 'County', 'Electric', 'Folk', 'R&B', 'Pop', 'Folk', 'Hip-hop', 'Indie', 'Indie', 'Rock', 'County', 'Electric', 'Pop', 'Folk', 'Rock', 'Rock', 'Indie', 'Rock', 'Electric', 'Rock', 'R&B', 'Indie', 'Jazz', 'Rock', 'Jazz', 'R&B', 'County', 'Metal', 'Hip-hop', 'County', 'Rock', 'County', 'Pop', 'R&B', 'County', 'Electric', 'Hip-hop', 'Jazz', 'Hip-hop', 'Rock', 'Metal', 'Indie', 'Rock', 'Pop', 'R&B', 'Rock', 'Hip-hop', 'Indie', 'Indie', 'Pop', 'R&B', 'Hip-hop', 'Indie', 'Pop', 'Indie', 'Rock', 'Electric', 'Metal', 'Folk', 'Jazz', 'Indie', 'Metal', 'Hip-hop', 'County', 'Metal', 'Electric', 'Electric', 'Metal', 'R&B', 'Electric', 'Pop', 'Electric', 'Rock', 'Electric', 'Folk', 'Jazz', 'Electric', 'Jazz', 'Metal', 'County', 'Hip-hop', 'Electric', 'County', 'Rock', 'Hip-hop', 'Hip-hop', 'Electric', 'Rock', 'R&B', 'Hip-hop', 'Electric', 'Rock', 'Rock', 'Pop', 'Electric', 'Rock', 'Jazz', 'Folk', 'County', 'Metal', 'Electric', 'Pop', 'Indie', 'Rock', 'Electric', 'Jazz', 'Pop', 'Electric', 'Metal', 'Hip-hop', 'Electric', 'Electric', 'Metal', 'County', 'Pop', 'R&B', 'Rock', 'Metal', 'Pop', 'Metal', 'Jazz', 'Metal', 'Indie', 'Folk', 'Rock', 'County', 'Hip-hop', 'Rock', 'R&B', 'Pop', 'Folk', 'Rock', 'Indie', 'Indie', 'Rock', 'Electric', 'Electric', 'Electric', 'R&B', 'Pop', 'Metal', 'Folk', 'Pop', 'R&B', 'County', 'Rock', 'Metal', 'Rock', 'Electric', 'County', 'Electric', 'R&B', 'Jazz', 'County', 'County', 'Metal', 'Indie', 'Hip-hop', 'Rock', 'Metal', 'Pop', 'County', 'Hip-hop', 'Electric', 'County', 'Metal', 'Rock', 'Rock', 'Rock', 'Hip-hop', 'R&B', 'Metal', 'Metal', 'Indie', 'Rock', 'R&B', 'Hip-hop', 'R&B', 'Electric', 'Metal', 'Indie', 'Metal', 'Rock', 'Indie', 'Metal', 'Hip-hop', 'R&B', 'Metal', 'Jazz', 'Pop', 'Pop', 'R&B', 'Folk', 'Pop', 'Rock', 'County', 'Metal', 'R&B', 'Jazz', 'Electric', 'Rock', 'Electric', 'Pop', 'Electric', 'County', 'County', 'Rock', 'Folk', 'Hip-hop', 'Metal', 'Jazz', 'Metal', 'Hip-hop', 'Hip-hop', 'R&B', 'Pop', 'Pop', 'County', 'Electric', 'County', 'Folk', 'Electric', 'County', 'Metal', 'Pop', 'County', 'Metal', 'Rock', 'Folk', 'Pop', 'Metal', 'Pop', 'County', 'Indie', 'Indie', 'Electric', 'R&B', 'Electric', 'Rock', 'R&B', 'Jazz', 'Metal', 'Pop', 'Electric', 'Jazz', 'Pop', 'Rock', 'Rock', 'Electric', 'Pop', 'Pop', 'Pop', 'Pop', 'Indie', 'Electric', 'Hip-hop', 'Electric', 'Electric', 'Electric', 'Metal', 'Jazz', 'Jazz', 'Folk', 'Metal', 'Hip-hop', 'Electric', 'Pop', 'Electric', 'Rock', 'Hip-hop', 'Metal', 'Hip-hop', 'Electric', 'Jazz', 'Hip-hop', 'Indie', 'Folk', 'Rock', 'Pop', 'Rock', 'Rock', 'Electric', 'Electric', 'Pop', 'Rock', 'County', 'County', 'Hip-hop', 'Indie', 'Rock', 'County', 'Jazz', 'Pop', 'Jazz', 'Rock', 'R&B', 'Electric', 'Pop', 'Pop', 'Folk', 'Pop', 'R&B', 'Pop', 'Folk', 'Electric', 'Electric', 'Metal', 'Metal', 'Pop', 'Electric', 'Rock', 'R&B', 'Indie', 'Electric', 'County', 'Electric', 'Pop', 'Metal', 'Hip-hop', 'Jazz', 'Jazz', 'Hip-hop', 'Pop', 'Hip-hop', 'Folk', 'Indie', 'Indie', 'Metal', 'Pop', 'County', 'County', 'Electric', 'Jazz', 'Hip-hop', 'Jazz', 'Jazz', 'Hip-hop', 'Jazz', 'Electric', 'Pop', 'Pop', 'R&B', 'County', 'Rock', 'Folk', 'Hip-hop', 'Hip-hop', 'Rock', 'Metal', 'Rock', 'Pop', 'Pop', 'Rock', 'Rock', 'Indie', 'Pop', 'Rock', 'Indie', 'Rock', 'Rock', 'Pop', 'Jazz', 'Electric', 'Metal', 'R&B', 'Hip-hop', 'R&B', 'R&B', 'Folk', 'Pop', 'Rock', 'County', 'Metal', 'R&B', 'Pop', 'Metal', 'Metal', 'County', 'Jazz', 'Hip-hop', 'County', 'Metal', 'Rock', 'Metal', 'Electric', 'Jazz', 'County', 'Pop', 'Rock', 'Pop', 'Pop', 'Pop', 'County', 'Electric', 'Metal', 'Electric', 'County', 'Metal', 'Rock', 'County', 'Indie', 'Metal', 'Hip-hop', 'Pop', 'Hip-hop', 'Metal', 'Electric', 'Pop', 'Electric', 'Hip-hop', 'Electric', 'County', 'Pop', 'Jazz', 'Jazz', 'Hip-hop', 'Jazz', 'Jazz', 'County', 'Indie', 'R&B', 'County', 'County', 'Pop', 'Folk', 'Rock', 'Rock', 'Pop', 'Electric', 'Hip-hop', 'County', 'Pop', 'County', 'Pop', 'Electric', 'Pop', 'Jazz', 'Jazz', 'Folk', 'Folk', 'Rock', 'Pop', 'County', 'R&B', 'County', 'Pop', 'Electric', 'Rock', 'Rock', 'R&B', 'Electric', 'Pop', 'Electric', 'Electric', 'Pop', 'Hip-hop', 'Folk', 'R&B', 'Pop', 'Jazz', 'Rock', 'R&B', 'Jazz', 'Electric', 'Folk', 'Electric', 'R&B', 'R&B', 'Folk', 'County', 'Jazz', 'Electric', 'Hip-hop', 'R&B', 'Electric', 'Rock', 'Pop', 'County', 'Metal', 'Metal', 'Indie', 'Metal', 'Electric', 'Folk', 'Jazz', 'Metal', 'Electric', 'Folk', 'Folk', 'Folk', 'Metal', 'Indie', 'Hip-hop', 'Metal', 'Rock', 'Jazz', 'Rock', 'Rock', 'Electric', 'R&B', 'Hip-hop', 'Electric', 'Electric', 'Electric', 'Jazz', 'Hip-hop', 'Electric', 'Jazz', 'Rock', 'Pop', 'County', 'County', 'Jazz', 'Rock', 'Metal', 'Rock', 'Rock', 'County', 'R&B', 'Rock', 'Hip-hop', 'Folk', 'R&B', 'County', 'Hip-hop', 'County', 'Hip-hop', 'Metal', 'Folk', 'Pop', 'Hip-hop', 'Electric', 'Electric', 'Hip-hop', 'Pop', 'Hip-hop', 'County', 'Electric', 'Electric', 'Jazz', 'County', 'Jazz', 'Pop', 'Rock', 'Pop', 'Rock', 'Hip-hop', 'Indie', 'Rock', 'Pop', 'Rock', 'Jazz', 'Rock', 'Pop', 'Indie', 'Electric', 'Hip-hop', 'Hip-hop', 'Pop', 'Metal', 'Electric', 'Hip-hop', 'Electric', 'Electric', 'Hip-hop', 'Metal', 'R&B', 'Pop', 'Rock', 'R&B', 'Rock', 'Pop', 'Electric', 'Jazz', 'Electric', 'Pop', 'Electric', 'Hip-hop', 'Rock', 'Metal', 'R&B', 'Metal', 'County', 'Metal', 'Metal', 'Rock', 'Electric', 'Hip-hop', 'Pop', 'Electric', 'County', 'Hip-hop', 'Pop', 'Indie', 'Metal', 'Indie', 'Hip-hop', 'Pop', 'Pop', 'Jazz', 'Indie', 'Pop', 'Metal', 'Pop', 'Rock', 'Metal', 'Indie', 'County', 'Metal', 'R&B', 'Rock', 'Pop', 'Metal', 'R&B', 'Hip-hop', 'Rock', 'Rock', 'Electric', 'Folk', 'County', 'Rock', 'Metal', 'Electric', 'Indie', 'Metal', 'Indie', 'Metal', 'County', 'County', 'Jazz', 'Jazz', 'Electric', 'Rock', 'Rock', 'Metal', 'Rock', 'Folk', 'County', 'Hip-hop', 'Rock', 'Electric', 'Hip-hop', 'Indie', 'Indie', 'Pop', 'County', 'Pop', 'Rock', 'County', 'Metal', 'Rock', 'Metal', 'Indie', 'R&B', 'Hip-hop', 'Hip-hop', 'County', 'Jazz', 'Electric', 'Indie', 'Rock', 'Rock', 'Folk', 'County', 'Jazz', 'Pop', 'Metal', 'Electric', 'Indie', 'Pop', 'Electric', 'Folk', 'Hip-hop', 'Pop', 'Rock', 'R&B', 'Pop', 'Pop', 'Electric', 'Hip-hop', 'County', 'R&B', 'Indie', 'Pop', 'Hip-hop', 'County', 'Metal', 'Hip-hop', 'Indie', 'Indie', 'Rock', 'Pop', 'Metal', 'Jazz', 'Metal', 'Rock', 'Hip-hop', 'Rock', 'Pop', 'Rock', 'Hip-hop', 'Metal', 'Pop', 'R&B', 'Metal', 'Rock', 'Electric', 'Electric', 'Jazz', 'Pop', 'Hip-hop', 'Metal', 'Pop', 'Rock', 'County', 'Metal', 'Jazz', 'Electric', 'Indie', 'Electric', 'Rock', 'Hip-hop', 'Hip-hop', 'Electric', 'Hip-hop', 'Hip-hop', 'Metal', 'Electric', 'Indie', 'County', 'Folk', 'Hip-hop', 'Hip-hop', 'Pop', 'Indie', 'Indie', 'County', 'Pop', 'County', 'Electric', 'R&B', 'Hip-hop', 'Jazz', 'Indie', 'Pop', 'R&B', 'Pop', 'Indie', 'Hip-hop', 'Hip-hop', 'Rock', 'Pop', 'Electric', 'Hip-hop', 'Indie', 'County', 'Metal', 'Hip-hop', 'R&B', 'Pop', 'Folk', 'Metal', 'Hip-hop', 'Rock', 'Hip-hop', 'Hip-hop', 'R&B', 'Indie', 'Pop', 'Electric', 'Electric', 'Metal', 'Electric', 'Rock', 'Rock', 'Rock', 'R&B', 'Electric', 'Pop', 'Indie', 'Metal', 'Indie', 'Pop', 'Indie', 'Hip-hop', 'Hip-hop', 'R&B', 'Folk', 'Rock', 'Pop', 'Rock', 'Rock', 'Electric', 'Hip-hop', 'Rock', 'Pop', 'Jazz', 'Pop', 'County', 'Rock', 'Electric', 'County', 'Rock', 'Metal', 'Electric', 'Pop', 'County', 'Hip-hop', 'Pop', 'Electric', 'County', 'Pop', 'Indie', 'Jazz', 'Metal', 'Jazz', 'Hip-hop', 'Metal', 'Pop', 'Rock', 'Hip-hop', 'Electric', 'Pop', 'Electric', 'Pop', 'Jazz', 'County', 'Metal', 'Pop', 'Electric', 'Rock', 'Metal', 'Metal', 'Pop', 'Pop', 'Jazz', 'Hip-hop', 'Hip-hop', 'Hip-hop', 'Jazz', 'R&B', 'Pop', 'Pop', 'Hip-hop', 'Indie', 'Rock', 'Indie', 'Rock', 'R&B', 'Indie', 'Electric', 'Indie', 'Hip-hop', 'Metal', 'Electric', 'Rock', 'Metal', 'Hip-hop', 'County', 'Pop', 'Jazz', 'Hip-hop', 'Pop', 'Electric', 'Rock', 'Jazz', 'Pop', 'Indie', 'Rock', 'Folk', 'Indie', 'Jazz', 'Metal', 'Pop', 'Hip-hop', 'Indie', 'Metal', 'Rock', 'R&B', 'Pop', 'Folk', 'Pop', 'Indie', 'Pop', 'Electric', 'Metal', 'Rock', 'Indie', 'Rock', 'Metal', 'R&B', 'Hip-hop', 'Metal', 'Indie', 'Pop', 'Folk', 'Hip-hop', 'Electric', 'R&B', 'Pop', 'Hip-hop', 'Rock', 'Metal', 'Folk', 'Pop', 'Hip-hop', 'County', 'Metal', 'Indie', 'Indie', 'Rock', 'Rock', 'Pop', 'Pop', 'R&B', 'Jazz', 'Electric', 'Rock', 'County', 'Folk', 'Electric', 'Jazz', 'Jazz', 'Electric', 'Indie', 'County', 'Electric', 'Pop', 'Indie', 'Indie', 'Indie', 'Hip-hop', 'Jazz', 'Rock', 'R&B', 'R&B', 'Rock', 'Indie', 'Rock', 'Hip-hop', 'Hip-hop', 'Hip-hop', 'Rock', 'Hip-hop', 'Jazz', 'Rock', 'Indie', 'Jazz', 'Indie', 'Electric', 'Jazz', 'Indie', 'Electric', 'Rock', 'Metal', 'Metal', 'County', 'Rock', 'Pop', 'Metal', 'R&B', 'Rock', 'Jazz', 'Indie', 'Rock', 'Indie', 'Folk', 'County', 'Folk', 'Hip-hop', 'Indie', 'Hip-hop', 'Jazz', 'Hip-hop', 'Pop', 'Rock', 'Rock', 'Rock', 'Hip-hop', 'Hip-hop', 'Metal', 'Indie', 'Hip-hop', 'Hip-hop', 'Rock', 'Rock', 'Jazz', 'Hip-hop', 'Indie', 'Folk', 'Electric', 'Rock', 'Metal', 'Jazz', 'Indie', 'Jazz', 'Pop', 'Jazz', 'Metal', 'Pop', 'Metal', 'Pop', 'Metal', 'Folk', 'Metal', 'Hip-hop', 'County', 'Rock', 'Pop', 'Electric', 'Hip-hop', 'Folk', 'Folk', 'Pop', 'County', 'Rock', 'Folk', 'Pop', 'Metal', 'Pop', 'Jazz', 'R&B', 'R&B', 'Pop', 'Rock', 'Metal', 'Hip-hop', 'Hip-hop', 'Metal', 'Rock', 'Pop', 'County', 'Metal', 'Folk', 'Electric', 'Electric', 'R&B', 'Metal', 'County', 'Metal', 'Electric', 'Rock', 'Pop', 'Metal', 'Hip-hop', 'Hip-hop', 'Rock', 'Hip-hop', 'Electric', 'Metal', 'Jazz', 'Electric', 'Jazz', 'Electric', 'Electric', 'Folk', 'Rock', 'Hip-hop', 'Rock', 'Pop', 'Rock', 'Jazz', 'Hip-hop', 'Electric', 'Metal', 'Pop', 'Hip-hop', 'Rock', 'County', 'County', 'Electric', 'Metal', 'Indie', 'Jazz', 'Hip-hop', 'Indie', 'Hip-hop', 'Hip-hop', 'Metal', 'Electric', 'County', 'County', 'R&B', 'Pop', 'County', 'Hip-hop', 'Hip-hop', 'Indie', 'Pop', 'Rock', 'County', 'Electric', 'Jazz', 'R&B', 'R&B', 'Rock', 'County', 'Jazz', 'R&B', 'Electric', 'Metal', 'Hip-hop', 'County', 'Rock', 'Rock', 'Metal', 'Hip-hop', 'Metal', 'Indie', 'Pop', 'Pop', 'Hip-hop', 'Rock', 'Metal', 'Rock', 'County', 'Electric', 'Metal', 'Metal', 'R&B', 'Pop', 'Metal', 'County', 'Hip-hop', 'Metal', 'Rock', 'Rock', 'Rock', 'Electric', 'Rock', 'Electric', 'Electric', 'Rock', 'Pop', 'Rock', 'Pop', 'Hip-hop', 'Metal', 'Electric', 'Metal', 'Electric', 'R&B', 'County', 'R&B', 'R&B', 'Pop', 'Rock', 'Hip-hop', 'Pop', 'Hip-hop', 'Indie', 'Pop', 'Folk', 'Hip-hop', 'Pop', 'Hip-hop', 'R&B', 'Pop', 'Jazz', 'Pop', 'Electric', 'Rock', 'Metal', 'Folk', 'Metal', 'Indie', 'Indie', 'Metal', 'Metal', 'Rock', 'Jazz', 'Pop', 'Metal', 'Indie', 'Hip-hop', 'Indie', 'Pop', 'Rock', 'Rock', 'Indie', 'Pop', 'Electric', 'County', 'Hip-hop', 'Pop', 'Rock', 'R&B', 'Folk', 'R&B', 'Hip-hop', 'R&B', 'Jazz', 'Indie', 'Indie', 'Rock', 'County', 'Rock', 'Rock', 'Jazz', 'Electric', 'Pop', 'County', 'Jazz', 'Jazz', 'Jazz', 'R&B', 'Jazz', 'Electric', 'Electric', 'Electric', 'Hip-hop', 'Electric', 'Rock', 'Electric', 'Hip-hop', 'Rock', 'Rock', 'Metal', 'Pop', 'Jazz', 'Electric', 'Hip-hop', 'R&B', 'Hip-hop', 'Pop', 'Electric', 'Folk', 'Indie', 'Pop', 'Rock', 'Pop', 'Hip-hop', 'Indie', 'County', 'Electric', 'Rock', 'Indie', 'Rock', 'Hip-hop', 'County', 'Rock', 'Jazz', 'Pop', 'County', 'Rock', 'Folk', 'Electric', 'Folk', 'Hip-hop', 'Metal', 'Hip-hop', 'Rock', 'R&B', 'County', 'Jazz', 'R&B', 'Electric', 'County', 'R&B', 'Electric', 'Jazz', 'Metal', 'Rock', 'County', 'Rock', 'Metal', 'Rock', 'Rock', 'Rock', 'Hip-hop', 'Hip-hop', 'R&B', 'County', 'Pop', 'Pop', 'R&B', 'R&B', 'Metal', 'Hip-hop', 'R&B', 'Pop', 'Pop', 'Indie', 'County', 'R&B', 'Hip-hop', 'County', 'Pop', 'R&B', 'Jazz', 'Electric', 'Folk', 'Pop', 'Rock', 'County', 'Electric', 'Hip-hop', 'Electric', 'Hip-hop', 'Jazz', 'Hip-hop', 'Hip-hop', 'Hip-hop', 'Hip-hop', 'Electric', 'Hip-hop', 'Rock', 'Jazz', 'Metal', 'Electric', 'Metal', 'Hip-hop', 'County', 'Rock', 'Electric', 'Rock', 'Rock', 'Folk', 'Pop', 'Pop', 'Metal', 'R&B', 'Hip-hop', 'Folk', 'Rock', 'Metal', 'Rock', 'Pop', 'Pop', 'Rock', 'Electric', 'Indie', 'Electric', 'Pop', 'Jazz', 'Rock', 'Rock', 'Metal', 'R&B', 'Folk', 'Indie', 'Metal', 'Rock', 'Rock', 'Rock', 'Jazz', 'County', 'Jazz', 'Pop', 'Rock', 'Indie', 'Hip-hop', 'Pop', 'Rock', 'Indie', 'Jazz', 'Jazz', 'Folk', 'Pop', 'County', 'R&B', 'Electric', 'Electric', 'Jazz', 'Rock', 'Metal', 'Electric', 'Indie', 'Pop', 'Jazz', 'Metal', 'Rock', 'Rock', 'Rock', 'Rock', 'County', 'Jazz', 'Hip-hop', 'Rock', 'Rock', 'Pop', 'R&B', 'County', 'Electric', 'County', 'Pop', 'Metal', 'County', 'Rock', 'Electric', 'R&B', 'Indie', 'Metal', 'Pop', 'Indie', 'Electric', 'Rock', 'Rock', 'Rock', 'Rock', 'Rock', 'Jazz', 'Hip-hop', 'Indie', 'Metal', 'Indie', 'County', 'Rock', 'Indie', 'Indie', 'Rock', 'Electric', 'Rock', 'Rock', 'Pop', 'Electric', 'Rock', 'County', 'Hip-hop', 'Indie', 'Jazz', 'Rock', 'R&B', 'Hip-hop', 'Pop', 'Hip-hop', 'Hip-hop', 'Jazz', 'Pop', 'County', 'County', 'Pop', 'Electric', 'Metal', 'R&B', 'Jazz', 'Rock', 'Electric', 'Rock', 'Electric', 'Folk', 'Metal', 'County', 'R&B', 'Electric', 'Metal', 'Hip-hop', 'Pop', 'County', 'County', 'County', 'Pop', 'Rock', 'R&B', 'Jazz', 'Hip-hop', 'Pop', 'Electric', 'County', 'Hip-hop', 'Rock', 'Folk', 'Rock', 'Hip-hop', 'Indie', 'Folk', 'Pop', 'Electric', 'Indie', 'Metal', 'Jazz', 'Rock', 'Pop', 'Hip-hop', 'Indie', 'Rock', 'Electric', 'Electric', 'Electric', 'Metal', 'Folk', 'County', 'Electric', 'Electric', 'Rock', 'Hip-hop', 'Jazz', 'Pop', 'Hip-hop', 'Rock', 'Rock', 'Rock', 'Hip-hop', 'Hip-hop', 'Rock', 'County', 'Electric', 'Metal', 'Rock', 'Pop', 'Electric', 'Rock', 'Electric', 'Metal', 'Electric', 'Folk', 'Pop', 'Pop', 'Rock', 'Folk', 'Pop', 'Jazz', 'Indie', 'Pop', 'Pop', 'County', 'Pop', 'Folk', 'Rock', 'Metal', 'Hip-hop', 'Electric', 'Electric', 'Indie', 'Electric', 'Pop', 'Hip-hop', 'Metal', 'Folk', 'Hip-hop', 'Metal', 'Electric', 'Indie', 'Hip-hop', 'Metal', 'Hip-hop', 'Jazz', 'Hip-hop', 'County', 'Pop', 'County', 'Metal', 'R&B', 'R&B', 'Electric', 'Hip-hop', 'County', 'Indie', 'Rock', 'R&B', 'Hip-hop', 'R&B', 'County', 'Electric', 'Pop', 'R&B', 'Pop', 'Hip-hop', 'Pop', 'County', 'R&B', 'Metal', 'County', 'Rock', 'Metal', 'Rock', 'Metal', 'Rock', 'Electric', 'R&B', 'Jazz', 'County', 'Indie', 'Metal', 'Pop', 'Rock', 'Rock', 'Hip-hop', 'Rock', 'Jazz', 'Electric', 'Hip-hop', 'Pop', 'Hip-hop', 'Electric', 'Electric', 'R&B', 'Pop', 'Hip-hop', 'Electric', 'Electric', 'Metal', 'County', 'Electric', 'Indie', 'Indie', 'Pop', 'Hip-hop', 'County', 'Electric', 'Indie', 'Hip-hop', 'Indie', 'Pop', 'Folk', 'Pop', 'Rock', 'Pop', 'Indie', 'Electric', 'Rock', 'County', 'Rock', 'County', 'Pop', 'Folk', 'Pop', 'Indie', 'Pop', 'County', 'County', 'Electric', 'Folk', 'Hip-hop', 'Pop', 'County', 'Electric', 'Indie', 'Jazz', 'County', 'R&B', 'Metal', 'Hip-hop', 'Pop', 'County', 'Metal', 'Rock', 'County', 'Rock', 'Indie', 'Jazz', 'Electric', 'Rock', 'Pop', 'Jazz', 'Rock', 'Hip-hop', 'County', 'Rock', 'Jazz', 'Indie', 'Indie', 'Metal', 'County', 'Hip-hop', 'Electric', 'Indie', 'R&B', 'Rock', 'Rock', 'Jazz', 'Rock', 'Rock', 'Hip-hop', 'Jazz', 'Indie', 'Rock', 'Electric', 'County', 'Rock', 'R&B', 'Electric', 'County', 'Indie', 'Rock', 'Metal', 'Electric', 'Pop', 'Hip-hop', 'Pop', 'Rock', 'Metal', 'Rock', 'Metal', 'R&B', 'Hip-hop', 'Rock', 'County', 'Metal', 'R&B', 'Rock', 'Rock', 'Rock', 'Metal', 'Electric', 'R&B', 'Jazz', 'Hip-hop', 'County', 'County', 'R&B', 'Pop', 'Metal', 'Rock', 'Electric', 'Jazz', 'Rock', 'Rock', 'Rock', 'County', 'Pop', 'Indie', 'Folk', 'Hip-hop', 'Electric', 'Hip-hop', 'Indie', 'Folk', 'Rock', 'Rock', 'County', 'County', 'Jazz', 'Rock', 'Metal', 'Rock', 'Rock', 'Pop', 'Electric', 'Metal', 'County', 'Hip-hop', 'Pop', 'Jazz', 'Jazz', 'Pop', 'Indie', 'Indie', 'Rock', 'Rock', 'Electric', 'Electric', 'County', 'Pop', 'Pop', 'County', 'R&B', 'Hip-hop', 'Hip-hop', 'Electric', 'Electric', 'Indie', 'Electric', 'Jazz', 'Metal', 'Electric', 'Pop', 'Electric', 'Metal', 'Electric', 'Hip-hop', 'Folk', 'Pop', 'Hip-hop', 'Electric', 'Rock', 'Pop', 'Pop', 'R&B', 'Electric', 'Pop', 'County', 'Pop', 'Pop', 'Jazz', 'Electric', 'Rock', 'Hip-hop', 'Metal', 'Metal', 'County', 'Folk', 'Jazz', 'Electric', 'County', 'County', 'Hip-hop', 'Hip-hop', 'Indie', 'Electric', 'Hip-hop', 'Electric', 'Folk', 'Hip-hop', 'Rock', 'Folk', 'Pop', 'Metal', 'Pop', 'Pop', 'Rock', 'Indie', 'Metal', 'Electric', 'Pop', 'Indie', 'Rock', 'Electric', 'R&B', 'County', 'Hip-hop', 'Rock', 'Metal', 'Pop', 'Hip-hop', 'Rock', 'R&B', 'Folk', 'County', 'Rock', 'Pop', 'Indie', 'Electric', 'Indie', 'Metal', 'County', 'Electric', 'Folk', 'Rock', 'County', 'Folk', 'Electric', 'R&B', 'Metal', 'Rock', 'Rock', 'Indie', 'Hip-hop', 'Rock', 'Electric', 'Hip-hop', 'Hip-hop', 'Rock', 'Electric', 'Hip-hop', 'Metal', 'R&B', 'Pop', 'Folk', 'Electric', 'Indie', 'Rock', 'Pop', 'R&B', 'Indie', 'Folk', 'Rock', 'County', 'R&B', 'Pop', 'Hip-hop', 'Hip-hop', 'Electric', 'Hip-hop', 'County', 'Pop', 'Indie', 'Pop', 'Indie', 'Electric', 'Hip-hop', 'Hip-hop', 'R&B', 'Pop', 'Pop', 'Metal', 'Hip-hop', 'Indie', 'Hip-hop', 'Rock', 'Pop', 'Pop', 'Pop', 'Electric', 'Rock', 'Electric', 'Indie', 'Metal', 'Pop', 'Rock', 'County', 'Jazz', 'Rock', 'Hip-hop', 'Metal', 'Jazz', 'Rock', 'Indie', 'Pop', 'Indie', 'Rock', 'R&B', 'Metal', 'Jazz', 'Rock', 'R&B', 'Folk', 'Metal', 'County', 'Pop', 'Metal', 'R&B', 'County', 'R&B', 'Pop', 'Indie', 'Rock', 'Pop', 'Pop', 'Electric', 'Rock', 'Pop', 'Hip-hop', 'Jazz', 'Electric', 'Rock', 'Jazz', 'Hip-hop', 'Indie', 'County', 'Pop', 'Jazz', 'Metal', 'Pop', 'Indie', 'Rock', 'Rock', 'Folk', 'Hip-hop', 'Indie', 'Hip-hop', 'Hip-hop', 'Indie', 'County', 'Rock', 'County', 'Jazz', 'Pop', 'Electric', 'Electric', 'Electric', 'Metal', 'Hip-hop', 'Pop', 'Electric', 'Rock', 'Rock', 'R&B', 'Hip-hop', 'Folk', 'Pop', 'Metal', 'Indie', 'Hip-hop', 'Folk', 'Rock', 'Hip-hop', 'Pop', 'R&B', 'County', 'R&B', 'County', 'Rock', 'Hip-hop', 'Electric', 'Rock', 'Hip-hop', 'Pop', 'Rock', 'Electric', 'Rock', 'Electric', 'Metal', 'Hip-hop', 'Metal', 'Pop', 'Rock', 'Pop', 'County', 'Metal', 'Rock', 'Pop', 'Hip-hop', 'Metal', 'Electric', 'Jazz', 'Metal', 'Metal', 'Pop', 'Jazz', 'Rock', 'Metal', 'County', 'Rock', 'Electric', 'Metal', 'Hip-hop', 'Electric', 'Pop', 'Pop', 'Rock', 'R&B', 'Rock', 'Metal', 'Rock', 'Jazz', 'Rock', 'County', 'Pop', 'Pop', 'Hip-hop', 'Indie', 'Folk', 'Hip-hop', 'County', 'Pop', 'R&B', 'Hip-hop', 'Hip-hop', 'Hip-hop', 'Metal', 'Pop', 'Hip-hop', 'Indie', 'County', 'Indie', 'Folk', 'Hip-hop', 'Pop', 'Pop', 'R&B', 'Indie', 'County', 'Rock', 'Indie', 'County', 'Indie', 'Electric', 'Electric', 'R&B', 'Hip-hop', 'Indie', 'Pop', 'Folk', 'Indie', 'R&B', 'Electric', 'Metal', 'Pop', 'Electric', 'R&B', 'Pop', 'County', 'Metal', 'Jazz', 'Rock', 'Electric', 'Pop', 'Pop', 'Hip-hop', 'Rock', 'Pop', 'Jazz', 'Indie', 'Pop', 'Pop', 'Jazz', 'Electric', 'County', 'Pop', 'Rock', 'Pop', 'Indie', 'Electric', 'Indie', 'Folk', 'Pop', 'Rock', 'County', 'Jazz', 'Pop', 'Hip-hop', 'Rock', 'Rock', 'R&B', 'Pop', 'Metal', 'Hip-hop', 'Jazz', 'Metal', 'Metal', 'Rock', 'County', 'Electric', 'Hip-hop', 'County', 'Rock', 'Pop', 'Rock', 'Hip-hop', 'Electric', 'Metal', 'Electric', 'Pop', 'Hip-hop', 'Metal', 'Rock', 'R&B', 'Rock', 'County', 'Pop', 'R&B', 'Metal', 'R&B', 'Electric', 'Pop', 'Electric', 'R&B', 'Jazz', 'R&B', 'Jazz', 'Pop', 'R&B', 'Electric', 'Jazz', 'Indie', 'County', 'Pop', 'Pop', 'Hip-hop', 'County', 'Folk', 'County', 'Jazz', 'Hip-hop', 'Pop', 'Indie', 'Rock', 'Hip-hop', 'Indie', 'Metal', 'Rock', 'Electric', 'Hip-hop', 'Rock', 'Rock', 'Rock', 'Indie', 'County', 'Electric', 'Pop', 'Jazz', 'Pop', 'Pop', 'Rock', 'R&B', 'R&B', 'Pop', 'County', 'Folk', 'Electric', 'Rock', 'Hip-hop', 'R&B', 'Electric', 'Electric', 'Hip-hop', 'Indie', 'Rock', 'Metal', 'Electric', 'Metal', 'Rock', 'Rock', 'Rock', 'Electric', 'County', 'Indie', 'Indie', 'Pop', 'Folk', 'R&B', 'Jazz', 'Metal', 'R&B', 'Indie', 'Rock', 'Hip-hop', 'Jazz', 'Rock', 'Metal', 'Indie', 'Pop', 'Metal', 'Rock', 'Hip-hop', 'Pop', 'County', 'Electric', 'Pop', 'R&B', 'Pop', 'Pop', 'Metal', 'Hip-hop', 'Electric', 'Indie', 'Hip-hop', 'County', 'R&B', 'Hip-hop', 'Indie', 'Metal', 'Hip-hop', 'Indie', 'Metal', 'R&B', 'Indie', 'R&B', 'Pop', 'Metal', 'Metal', 'Hip-hop', 'R&B', 'Electric', 'Electric', 'County', 'Hip-hop', 'Metal', 'Rock', 'Jazz', 'Rock', 'Hip-hop', 'County', 'R&B', 'Electric', 'Electric', 'Hip-hop', 'County', 'Electric', 'Indie', 'Rock', 'Hip-hop', 'Hip-hop', 'Rock', 'Hip-hop', 'Rock', 'Indie', 'Indie', 'Metal', 'Folk', 'County', 'Pop', 'Indie', 'Pop', 'Rock', 'Jazz', 'Rock', 'Rock', 'County', 'Jazz', 'Rock', 'Folk', 'Indie', 'Indie', 'Jazz', 'Indie', 'Jazz', 'Indie', 'Rock', 'Electric', 'Pop', 'Hip-hop', 'Electric', 'Pop', 'Rock', 'Jazz', 'Pop', 'Rock', 'Indie', 'Jazz', 'Pop', 'Electric', 'Rock', 'Indie', 'Rock', 'Electric', 'Electric', 'R&B', 'Hip-hop', 'Electric', 'Hip-hop', 'County', 'Pop', 'Electric', 'Rock', 'Hip-hop', 'Metal', 'Rock', 'Electric', 'R&B', 'Hip-hop', 'Electric', 'Rock', 'County', 'Rock', 'Rock', 'Metal', 'Folk', 'Metal', 'Electric', 'Rock', 'Jazz', 'Rock', 'Rock', 'Hip-hop', 'Electric', 'Rock', 'County', 'R&B', 'Pop', 'Rock', 'R&B', 'R&B', 'R&B', 'Hip-hop', 'Jazz', 'Jazz', 'Electric', 'County', 'Rock', 'R&B', 'Hip-hop', 'County', 'Metal', 'Metal', 'Rock', 'County', 'Pop', 'Rock', 'Rock', 'Electric', 'Jazz', 'Pop', 'Folk', 'Electric', 'Indie', 'Indie', 'Hip-hop', 'Electric', 'Pop', 'County', 'Jazz', 'Electric', 'Indie', 'Rock', 'Indie', 'Pop', 'County', 'County', 'Electric', 'Electric', 'Rock', 'R&B', 'Rock', 'County', 'Electric', 'County', 'Electric', 'Indie', 'Metal', 'Hip-hop', 'Rock', 'Rock', 'Rock', 'Rock', 'Folk', 'Jazz', 'Hip-hop', 'Indie', 'Indie', 'Indie', 'Electric', 'Pop', 'Folk', 'County', 'Hip-hop', 'Rock', 'County', 'Rock', 'Hip-hop', 'Pop', 'Pop', 'Rock', 'County', 'Folk', 'Indie', 'Jazz', 'Metal', 'Jazz', 'County', 'Jazz', 'County', 'Hip-hop', 'Metal', 'Metal', 'County', 'Pop', 'Indie', 'County', 'Electric', 'County', 'Electric', 'Metal', 'Rock', 'Rock', 'Rock', 'Metal', 'Folk', 'Pop', 'County', 'Hip-hop', 'Folk', 'R&B', 'Electric', 'Metal', 'Rock', 'Hip-hop', 'Jazz', 'Indie', 'Rock', 'Rock', 'Pop', 'Folk', 'Hip-hop', 'County', 'Pop', 'Rock', 'Pop', 'Electric', 'Rock', 'County', 'Rock', 'Pop', 'Rock', 'Indie', 'Electric', 'Folk', 'R&B', 'County', 'Metal', 'Indie', 'Rock', 'Electric', 'Metal', 'Jazz', 'Pop', 'Rock', 'Rock', 'Pop', 'Pop', 'R&B', 'County', 'Metal', 'Rock', 'Rock', 'Pop', 'Metal', 'Metal', 'Rock', 'Metal', 'County', 'Electric', 'Pop', 'Pop', 'Metal', 'County', 'Rock', 'Hip-hop', 'Folk', 'Pop', 'Folk', 'R&B', 'Jazz', 'Jazz', 'Metal', 'Rock', 'Electric', 'Electric', 'Metal', 'Electric', 'Rock', 'Rock', 'Pop', 'Indie', 'Hip-hop', 'County', 'Metal', 'Rock', 'Metal', 'County', 'Hip-hop', 'Metal', 'Indie', 'Jazz', 'Indie', 'Rock', 'R&B', 'Jazz', 'Metal', 'Rock', 'Rock', 'Indie', 'Pop', 'Electric', 'Rock', 'Metal', 'Hip-hop', 'County', 'Rock', 'Pop', 'Metal', 'Electric', 'County', 'R&B', 'Pop', 'Folk', 'Metal', 'Metal', 'Pop', 'Metal', 'Electric', 'R&B', 'Rock', 'Rock', 'Electric', 'Metal', 'Electric', 'Hip-hop', 'Rock', 'Rock', 'Pop', 'Hip-hop', 'Metal', 'Metal', 'Hip-hop', 'Jazz', 'Hip-hop', 'Rock', 'County', 'Indie', 'Indie', 'Hip-hop', 'Indie', 'Pop', 'Pop', 'R&B', 'R&B', 'Hip-hop', 'Hip-hop', 'Hip-hop', 'Rock', 'Metal', 'County', 'Pop', 'Indie', 'Electric', 'Electric', 'County', 'Metal', 'Rock', 'County', 'Rock', 'Pop', 'Folk', 'Pop', 'Metal', 'Rock', 'Rock', 'Metal', 'Electric', 'Folk', 'Electric', 'Hip-hop', 'Electric', 'Electric', 'Hip-hop', 'Hip-hop', 'Electric', 'R&B', 'Electric', 'Rock', 'Pop', 'Rock', 'Rock', 'Hip-hop', 'Electric', 'R&B', 'County', 'Electric', 'R&B', 'Jazz', 'Hip-hop', 'R&B', 'Rock', 'Hip-hop', 'Electric', 'Hip-hop', 'Pop', 'Metal', 'Indie', 'Pop', 'Rock', 'Pop', 'Indie', 'Pop', 'Pop', 'Pop', 'Pop', 'Rock', 'Folk', 'Hip-hop', 'Metal', 'County', 'Rock', 'Indie', 'Electric', 'County', 'Indie', 'Folk', 'Electric', 'Metal', 'Rock', 'Pop', 'Pop', 'Rock', 'Pop', 'Hip-hop', 'Rock', 'Electric', 'Rock', 'Hip-hop', 'Electric', 'Hip-hop', 'Rock', 'R&B', 'Electric', 'Pop', 'Hip-hop', 'Hip-hop', 'Pop', 'Jazz', 'Indie', 'Jazz', 'Pop', 'Metal', 'Folk', 'Rock', 'Hip-hop', 'Folk', 'Metal', 'Indie', 'Hip-hop', 'Jazz', 'Folk', 'Rock', 'Electric', 'Pop', 'County', 'Indie', 'Electric', 'Rock', 'Rock', 'Metal', 'County', 'County', 'Jazz', 'Electric', 'Pop', 'R&B', 'Rock', 'Electric', 'Metal', 'County', 'Indie', 'County', 'Hip-hop', 'Pop', 'Rock', 'Indie', 'Electric', 'County', 'R&B', 'R&B', 'Hip-hop', 'Metal', 'Rock', 'County', 'Jazz', 'Jazz', 'Metal', 'Rock', 'Indie', 'R&B', 'County', 'Electric', 'Metal', 'Hip-hop', 'Jazz', 'R&B', 'Metal', 'Indie', 'Rock', 'Electric', 'Folk', 'Electric', 'County', 'Metal', 'Hip-hop', 'R&B', 'Electric', 'Electric', 'Jazz', 'Indie', 'Rock', 'Electric', 'Hip-hop', 'County', 'Pop', 'Electric', 'Indie', 'Rock', 'Electric', 'R&B', 'Rock', 'Indie', 'Folk', 'County', 'Indie', 'Folk', 'Electric', 'R&B', 'R&B', 'Rock', 'Rock', 'Indie', 'R&B', 'R&B', 'Hip-hop', 'County', 'Hip-hop', 'County', 'Indie', 'Rock', 'County', 'R&B', 'Metal', 'Folk', 'Pop', 'Folk', 'Indie', 'Electric', 'Indie', 'Metal', 'Metal', 'County', 'Folk', 'Rock', 'Electric', 'Rock', 'Pop', 'Rock', 'Pop', 'Hip-hop', 'Electric', 'Rock', 'Metal', 'Folk', 'Rock', 'Metal', 'Pop', 'Metal', 'Hip-hop', 'Electric', 'County', 'Rock', 'County', 'Hip-hop', 'R&B', 'Electric', 'Rock', 'Pop', 'R&B', 'Rock', 'Electric', 'Indie', 'Pop', 'Rock', 'Rock', 'Rock', 'Folk', 'Folk', 'Electric', 'Jazz', 'Rock', 'Pop', 'Rock', 'Electric', 'County', 'Hip-hop', 'County', 'Pop', 'Jazz', 'County', 'Hip-hop', 'Rock', 'Rock', 'R&B', 'Indie', 'Electric', 'Electric', 'Electric', 'County', 'Rock', 'Pop', 'Hip-hop', 'R&B', 'Indie', 'Rock', 'Metal', 'Hip-hop', 'Pop', 'County', 'R&B', 'Pop', 'Indie', 'County', 'Hip-hop', 'Pop', 'Indie', 'County', 'Pop', 'Jazz', 'Rock', 'Pop', 'Pop', 'R&B', 'Pop', 'R&B', 'Hip-hop', 'Metal', 'Metal', 'R&B', 'Rock', 'Jazz', 'Metal', 'County', 'Pop', 'Rock', 'Indie', 'Electric', 'Electric', 'Electric', 'Pop', 'County', 'Pop', 'Hip-hop', 'Metal', 'Indie', 'Electric', 'Metal', 'County', 'Metal', 'Metal', 'Jazz', 'Electric', 'Hip-hop', 'County', 'Hip-hop', 'Pop', 'Pop', 'Indie', 'R&B', 'Hip-hop', 'Hip-hop', 'R&B', 'Jazz', 'Folk', 'Pop', 'Indie', 'Rock', 'Pop', 'Pop', 'Hip-hop', 'Rock', 'Indie', 'Electric', 'R&B', 'Jazz', 'Pop', 'Folk', 'Rock', 'Hip-hop', 'Hip-hop', 'Pop', 'Hip-hop', 'Electric', 'Rock', 'Pop', 'Rock', 'Rock', 'Pop', 'Pop', 'Hip-hop', 'Jazz', 'Rock', 'Jazz', 'Pop', 'Indie', 'Electric', 'Metal', 'Metal', 'Indie', 'Rock', 'County', 'Hip-hop', 'Hip-hop', 'County', 'County', 'Jazz', 'Pop', 'County', 'County', 'Hip-hop', 'Rock', 'Electric', 'Jazz', 'Pop', 'Hip-hop', 'Folk', 'Hip-hop', 'County', 'Jazz', 'Hip-hop', 'Indie', 'Jazz', 'Folk', 'Jazz', 'Metal', 'R&B', 'Indie', 'Indie', 'Metal', 'Pop', 'Hip-hop', 'Rock', 'R&B', 'R&B', 'Pop', 'Hip-hop', 'Hip-hop', 'Pop', 'Metal', 'Pop', 'Electric', 'Electric', 'R&B', 'R&B', 'Hip-hop', 'Pop', 'Metal', 'Hip-hop', 'Pop', 'Rock', 'Jazz', 'County', 'Pop', 'Pop', 'County', 'Pop', 'R&B', 'Folk', 'Rock', 'Rock', 'Rock', 'Pop', 'Rock', 'Electric', 'R&B', 'Hip-hop', 'Folk', 'Pop', 'Hip-hop', 'Hip-hop', 'Indie', 'Pop', 'Pop', 'Rock', 'Indie', 'Folk', 'Hip-hop', 'Jazz', 'R&B', 'Rock', 'Electric', 'Electric', 'County', 'Hip-hop', 'County', 'Folk', 'Metal', 'R&B', 'Electric', 'County', 'Jazz', 'Hip-hop', 'Hip-hop', 'Electric', 'Rock', 'Hip-hop', 'Pop', 'R&B', 'Jazz', 'Folk', 'Pop', 'Pop', 'Rock', 'R&B', 'Rock', 'County', 'Pop', 'Pop', 'R&B', 'Rock', 'Folk', 'County', 'Rock', 'R&B', 'Folk', 'Rock', 'Hip-hop', 'County', 'Folk', 'Rock', 'Hip-hop', 'Metal', 'County', 'Jazz', 'Pop', 'Electric', 'County', 'County', 'Pop', 'Electric', 'County', 'Hip-hop', 'Folk', 'Metal', 'R&B', 'Hip-hop', 'County', 'Electric', 'Folk', 'Metal', 'Jazz', 'Folk', 'Indie', 'Indie', 'Rock', 'Pop', 'Hip-hop', 'Indie', 'R&B', 'Rock', 'Pop', 'Indie', 'County', 'Electric', 'Hip-hop', 'Rock', 'Electric', 'Hip-hop', 'Metal', 'Electric', 'Rock', 'Pop', 'County', 'Pop', 'R&B', 'Hip-hop', 'County', 'Pop', 'Hip-hop', 'Jazz', 'Indie', 'Hip-hop', 'Rock', 'Hip-hop', 'Rock', 'Folk', 'Hip-hop', 'R&B', 'Folk', 'Folk', 'Rock', 'Electric', 'Rock', 'Jazz', 'R&B', 'R&B', 'Indie', 'Indie', 'Pop', 'Rock', 'Rock', 'Pop', 'Electric', 'Electric', 'Pop', 'Rock', 'Electric', 'Jazz', 'Electric', 'Electric', 'Rock']\n"
     ]
    }
   ],
   "source": [
    "labels=['County','Electric','Folk','Hip-hop','Indie','Jazz','Metal','Pop','R&B','Rock']\n",
    "print(prediction)\n",
    "pred_str=[]\n",
    "for i in range (5000):\n",
    "  pred_str.append(labels[np.argmax(prediction[i])])\n",
    "print(pred_str)"
   ]
  },
  {
   "cell_type": "code",
   "execution_count": null,
   "metadata": {
    "colab": {
     "base_uri": "https://localhost:8080/",
     "height": 694
    },
    "id": "_tFCQ8UrqJ3s",
    "outputId": "b64e272f-0b2c-4ec2-e316-ca9fe38447a1"
   },
   "outputs": [
    {
     "name": "stdout",
     "output_type": "stream",
     "text": [
      "Requirement already satisfied: plot_keras_history in /usr/local/lib/python3.7/dist-packages (1.1.29)\n",
      "Requirement already satisfied: matplotlib in /usr/local/lib/python3.7/dist-packages (from plot_keras_history) (3.2.2)\n",
      "Requirement already satisfied: sanitize-ml-labels in /usr/local/lib/python3.7/dist-packages (from plot_keras_history) (1.0.26)\n",
      "Requirement already satisfied: pandas in /usr/local/lib/python3.7/dist-packages (from plot_keras_history) (1.1.5)\n",
      "Requirement already satisfied: scipy in /usr/local/lib/python3.7/dist-packages (from plot_keras_history) (1.4.1)\n",
      "Requirement already satisfied: python-dateutil>=2.1 in /usr/local/lib/python3.7/dist-packages (from matplotlib->plot_keras_history) (2.8.1)\n",
      "Requirement already satisfied: kiwisolver>=1.0.1 in /usr/local/lib/python3.7/dist-packages (from matplotlib->plot_keras_history) (1.3.1)\n",
      "Requirement already satisfied: cycler>=0.10 in /usr/local/lib/python3.7/dist-packages (from matplotlib->plot_keras_history) (0.10.0)\n",
      "Requirement already satisfied: numpy>=1.11 in /usr/local/lib/python3.7/dist-packages (from matplotlib->plot_keras_history) (1.19.5)\n",
      "Requirement already satisfied: pyparsing!=2.0.4,!=2.1.2,!=2.1.6,>=2.0.1 in /usr/local/lib/python3.7/dist-packages (from matplotlib->plot_keras_history) (2.4.7)\n",
      "Requirement already satisfied: compress-json in /usr/local/lib/python3.7/dist-packages (from sanitize-ml-labels->plot_keras_history) (1.0.4)\n",
      "Requirement already satisfied: pytz>=2017.2 in /usr/local/lib/python3.7/dist-packages (from pandas->plot_keras_history) (2018.9)\n",
      "Requirement already satisfied: six>=1.5 in /usr/local/lib/python3.7/dist-packages (from python-dateutil>=2.1->matplotlib->plot_keras_history) (1.15.0)\n"
     ]
    },
    {
     "data": {
      "text/plain": [
       "(<Figure size 720x360 with 2 Axes>,\n",
       " array([<matplotlib.axes._subplots.AxesSubplot object at 0x7f690890e810>,\n",
       "        <matplotlib.axes._subplots.AxesSubplot object at 0x7f69088c7b50>],\n",
       "       dtype=object))"
      ]
     },
     "execution_count": 54,
     "metadata": {
      "tags": []
     },
     "output_type": "execute_result"
    },
    {
     "data": {
      "image/png": "[encoded data removed]",
      "text/plain": [
       "<Figure size 720x360 with 2 Axes>"
      ]
     },
     "metadata": {
      "needs_background": "light",
      "tags": []
     },
     "output_type": "display_data"
    }
   ],
   "source": [
    "import matplotlib.pyplot as plt\n",
    "from plotly.offline import iplot\n",
    "!pip install plot_keras_history\n",
    "from plot_keras_history import plot_history\n",
    "plot_history(mod_test6)"
   ]
  },
  {
   "cell_type": "markdown",
   "metadata": {
    "id": "5ZMQeIv3s0sP"
   },
   "source": [
    "LSTM Single Layer"
   ]
  },
  {
   "cell_type": "code",
   "execution_count": null,
   "metadata": {
    "colab": {
     "base_uri": "https://localhost:8080/"
    },
    "id": "S-An9sUfs5Cl",
    "outputId": "9431fcf0-bec0-4ada-c5a8-d1edf9c91262"
   },
   "outputs": [
    {
     "name": "stdout",
     "output_type": "stream",
     "text": [
      "Model: \"sequential_5\"\n",
      "_________________________________________________________________\n",
      "Layer (type)                 Output Shape              Param #   \n",
      "=================================================================\n",
      "embedding_7 (Embedding)      (None, 400, 200)          1000000   \n",
      "_________________________________________________________________\n",
      "lstm_8 (LSTM)                (None, 200)               320800    \n",
      "_________________________________________________________________\n",
      "dense_10 (Dense)             (None, 200)               40200     \n",
      "_________________________________________________________________\n",
      "dropout_5 (Dropout)          (None, 200)               0         \n",
      "_________________________________________________________________\n",
      "dense_11 (Dense)             (None, 10)                2010      \n",
      "=================================================================\n",
      "Total params: 1,363,010\n",
      "Trainable params: 1,363,010\n",
      "Non-trainable params: 0\n",
      "_________________________________________________________________\n"
     ]
    }
   ],
   "source": [
    "from keras.models import Sequential\n",
    "from tensorflow.keras.layers import Dense, Dropout, Activation, Flatten, Embedding, LSTM\n",
    "from keras.callbacks import EarlyStopping\n",
    "vocab_size = 5000\n",
    "\n",
    "model05 = Sequential()\n",
    "model05.add(Embedding(input_dim=vocab_size,          # input_dim is the size of the vocabulary\n",
    "                           output_dim=embedding_dim,      # output_dim is the size of the dense vector\n",
    "                           input_length=400))          # input_length is the length of the sequence\n",
    "model05.add(LSTM(embedding_dim))\n",
    "model05.add(Dense(200, activation='relu'))\n",
    "model05.add(Dropout(0.2))\n",
    "model05.add(Dense(10, activation='softmax'))\n",
    "\n",
    "model05.summary()"
   ]
  },
  {
   "cell_type": "code",
   "execution_count": null,
   "metadata": {
    "colab": {
     "base_uri": "https://localhost:8080/"
    },
    "id": "VoZsKCcDs5wN",
    "outputId": "996e7601-43d1-4a5d-82d6-c8abdae40342"
   },
   "outputs": [
    {
     "name": "stdout",
     "output_type": "stream",
     "text": [
      "Epoch 1/10\n",
      "1564/1564 [==============================] - 123s 78ms/step - loss: 1.4233 - acc: 0.5054 - val_loss: 1.3501 - val_acc: 0.5457\n",
      "Epoch 2/10\n",
      "1564/1564 [==============================] - 122s 78ms/step - loss: 1.3254 - acc: 0.5583 - val_loss: 1.3031 - val_acc: 0.5625\n",
      "Epoch 3/10\n",
      "1564/1564 [==============================] - 122s 78ms/step - loss: 1.2778 - acc: 0.5706 - val_loss: 1.1937 - val_acc: 0.5967\n",
      "Epoch 4/10\n",
      "1564/1564 [==============================] - 122s 78ms/step - loss: 1.1768 - acc: 0.6038 - val_loss: 1.1401 - val_acc: 0.6140\n",
      "Epoch 5/10\n",
      "1564/1564 [==============================] - 123s 79ms/step - loss: 1.1204 - acc: 0.6256 - val_loss: 1.1221 - val_acc: 0.6193\n",
      "Epoch 6/10\n",
      "1564/1564 [==============================] - 123s 79ms/step - loss: 1.0885 - acc: 0.6368 - val_loss: 1.1214 - val_acc: 0.6227\n",
      "Epoch 7/10\n",
      "1564/1564 [==============================] - 123s 79ms/step - loss: 1.0634 - acc: 0.6442 - val_loss: 1.1086 - val_acc: 0.6230\n",
      "Epoch 8/10\n",
      "1564/1564 [==============================] - 123s 79ms/step - loss: 1.0406 - acc: 0.6511 - val_loss: 1.1045 - val_acc: 0.6284\n",
      "Epoch 9/10\n",
      "1564/1564 [==============================] - 123s 79ms/step - loss: 1.0177 - acc: 0.6594 - val_loss: 1.1176 - val_acc: 0.6260\n",
      "Epoch 00009: early stopping\n"
     ]
    }
   ],
   "source": [
    "model05.compile(\n",
    "    loss=\"sparse_categorical_crossentropy\", optimizer=\"rmsprop\", metrics=[\"acc\"]\n",
    ")\n",
    "\n",
    "es = EarlyStopping(monitor='val_loss', mode='min', verbose=1)\n",
    "mod3=model05.fit(X_train,y_train, batch_size=128, epochs=10, validation_data=(X_val,y_val),callbacks=[es])"
   ]
  },
  {
   "cell_type": "code",
   "execution_count": null,
   "metadata": {
    "colab": {
     "base_uri": "https://localhost:8080/"
    },
    "id": "uyLDhaDgs-pt",
    "outputId": "b48dcaf2-779b-4b38-c4a0-a57bbf55e13d"
   },
   "outputs": [
    {
     "name": "stdout",
     "output_type": "stream",
     "text": [
      "Training Accuracy: 0.6666\n",
      "validation Accuracy:  0.6260\n"
     ]
    }
   ],
   "source": [
    "loss, accuracy = model05.evaluate(X_train, y_train, verbose=False)\n",
    "print(\"Training Accuracy: {:.4f}\".format(accuracy))\n",
    "loss, accuracy = model05.evaluate(X_val, y_val, verbose=False)\n",
    "print(\"validation Accuracy:  {:.4f}\".format(accuracy))"
   ]
  },
  {
   "cell_type": "code",
   "execution_count": null,
   "metadata": {
    "colab": {
     "base_uri": "https://localhost:8080/",
     "height": 694
    },
    "id": "tIP4eMQhtCNw",
    "outputId": "92989fd6-0a5b-42f4-b520-3f7f9336fb3a"
   },
   "outputs": [
    {
     "name": "stdout",
     "output_type": "stream",
     "text": [
      "Requirement already satisfied: plot_keras_history in /usr/local/lib/python3.7/dist-packages (1.1.29)\n",
      "Requirement already satisfied: scipy in /usr/local/lib/python3.7/dist-packages (from plot_keras_history) (1.4.1)\n",
      "Requirement already satisfied: pandas in /usr/local/lib/python3.7/dist-packages (from plot_keras_history) (1.1.5)\n",
      "Requirement already satisfied: sanitize-ml-labels in /usr/local/lib/python3.7/dist-packages (from plot_keras_history) (1.0.26)\n",
      "Requirement already satisfied: matplotlib in /usr/local/lib/python3.7/dist-packages (from plot_keras_history) (3.2.2)\n",
      "Requirement already satisfied: numpy>=1.13.3 in /usr/local/lib/python3.7/dist-packages (from scipy->plot_keras_history) (1.19.5)\n",
      "Requirement already satisfied: python-dateutil>=2.7.3 in /usr/local/lib/python3.7/dist-packages (from pandas->plot_keras_history) (2.8.1)\n",
      "Requirement already satisfied: pytz>=2017.2 in /usr/local/lib/python3.7/dist-packages (from pandas->plot_keras_history) (2018.9)\n",
      "Requirement already satisfied: compress-json in /usr/local/lib/python3.7/dist-packages (from sanitize-ml-labels->plot_keras_history) (1.0.4)\n",
      "Requirement already satisfied: kiwisolver>=1.0.1 in /usr/local/lib/python3.7/dist-packages (from matplotlib->plot_keras_history) (1.3.1)\n",
      "Requirement already satisfied: pyparsing!=2.0.4,!=2.1.2,!=2.1.6,>=2.0.1 in /usr/local/lib/python3.7/dist-packages (from matplotlib->plot_keras_history) (2.4.7)\n",
      "Requirement already satisfied: cycler>=0.10 in /usr/local/lib/python3.7/dist-packages (from matplotlib->plot_keras_history) (0.10.0)\n",
      "Requirement already satisfied: six>=1.5 in /usr/local/lib/python3.7/dist-packages (from python-dateutil>=2.7.3->pandas->plot_keras_history) (1.15.0)\n"
     ]
    },
    {
     "data": {
      "text/plain": [
       "(<Figure size 720x360 with 2 Axes>,\n",
       " array([<matplotlib.axes._subplots.AxesSubplot object at 0x7f6c42517510>,\n",
       "        <matplotlib.axes._subplots.AxesSubplot object at 0x7f6c3629aa90>],\n",
       "       dtype=object))"
      ]
     },
     "execution_count": 69,
     "metadata": {
      "tags": []
     },
     "output_type": "execute_result"
    },
    {
     "data": {
      "image/png": "[encoded data removed]",
      "text/plain": [
       "<Figure size 720x360 with 2 Axes>"
      ]
     },
     "metadata": {
      "needs_background": "light",
      "tags": []
     },
     "output_type": "display_data"
    }
   ],
   "source": [
    "import matplotlib.pyplot as plt\n",
    "from plotly.offline import iplot\n",
    "!pip install plot_keras_history\n",
    "from plot_keras_history import plot_history\n",
    "plot_history(mod3)"
   ]
  },
  {
   "cell_type": "code",
   "execution_count": null,
   "metadata": {
    "id": "F7faULTbZ4tQ"
   },
   "outputs": [],
   "source": [
    "from tensorflow.keras.models import load_model\n",
    "\n",
    "model05.save('model_SingleL.h5')"
   ]
  },
  {
   "cell_type": "code",
   "execution_count": null,
   "metadata": {
    "id": "b6RqSU6BZ_yt"
   },
   "outputs": [],
   "source": [
    "reconstructed_model1 = keras.models.load_model(\"model_SingleL.h5\")"
   ]
  },
  {
   "cell_type": "code",
   "execution_count": null,
   "metadata": {
    "colab": {
     "base_uri": "https://localhost:8080/"
    },
    "id": "nML5KaTEaEof",
    "outputId": "506c4276-9f18-41de-d0cf-6cbc802880fe"
   },
   "outputs": [
    {
     "name": "stdout",
     "output_type": "stream",
     "text": [
      "Testing Accuracy: 0.2858\n"
     ]
    }
   ],
   "source": [
    "loss, accuracy = reconstructed_model1.evaluate(X_test, y_test, verbose=False)\n",
    "print(\"Testing Accuracy: {:.4f}\".format(accuracy))"
   ]
  }
 ],
 "metadata": {
  "accelerator": "GPU",
  "colab": {
   "collapsed_sections": [],
   "name": "withembfinal_0205.ipynb",
   "provenance": [],
   "toc_visible": true
  },
  "kernelspec": {
   "display_name": "Python 3",
   "language": "python",
   "name": "python3"
  },
  "language_info": {
   "codemirror_mode": {
    "name": "ipython",
    "version": 3
   },
   "file_extension": ".py",
   "mimetype": "text/x-python",
   "name": "python",
   "nbconvert_exporter": "python",
   "pygments_lexer": "ipython3",
   "version": "3.8.5"
  }
 },
 "nbformat": 4,
 "nbformat_minor": 1
}
