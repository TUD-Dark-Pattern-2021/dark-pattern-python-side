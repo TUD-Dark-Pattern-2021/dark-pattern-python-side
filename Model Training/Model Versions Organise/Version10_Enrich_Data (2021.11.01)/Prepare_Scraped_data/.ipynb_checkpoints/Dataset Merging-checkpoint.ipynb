{
 "cells": [
  {
   "cell_type": "markdown",
   "metadata": {},
   "source": [
    "# Import Dataset\n",
    "------"
   ]
  },
  {
   "cell_type": "markdown",
   "metadata": {},
   "source": [
    "### 1. Normal Content Datasets\n",
    "\n",
    "-----"
   ]
  },
  {
   "cell_type": "code",
   "execution_count": 33,
   "metadata": {},
   "outputs": [
    {
     "data": {
      "text/plain": [
       "30"
      ]
     },
     "execution_count": 33,
     "metadata": {},
     "output_type": "execute_result"
    }
   ],
   "source": [
    "import pandas as pd\n",
    "import numpy as np\n",
    "\n",
    "# ---- import the Normal dataset\n",
    "nor_list = []\n",
    "\n",
    "# Amazon:\n",
    "for i in range(4):\n",
    "    filename = 'Normal/'+'amazon'+str(i+1)+'.csv'\n",
    "    nor_list.append(pd.read_csv(filename))\n",
    "\n",
    "# eBay:\n",
    "for i in range(5):\n",
    "    filename = 'Normal/'+'ebay'+str(i+1)+'.csv'\n",
    "    nor_list.append(pd.read_csv(filename))\n",
    "\n",
    "# Shein:\n",
    "for i in range(4):\n",
    "    filename = 'Normal/'+'shein'+str(i+1)+'.csv'\n",
    "    nor_list.append(pd.read_csv(filename))\n",
    "\n",
    "# Wish:\n",
    "for i in range(3):\n",
    "    filename = 'Normal/'+'wish'+str(i+1)+'.csv'\n",
    "    nor_list.append(pd.read_csv(filename))\n",
    "\n",
    "# Other Normal Content:\n",
    "for i in range(14):\n",
    "    filename = 'Normal/'+'norDF'+str(i)+'.csv'\n",
    "    nor_list.append(pd.read_csv(filename))\n",
    "\n",
    "len(nor_list)"
   ]
  },
  {
   "cell_type": "code",
   "execution_count": 35,
   "metadata": {},
   "outputs": [
    {
     "name": "stdout",
     "output_type": "stream",
     "text": [
      "The 1th of the normal content datasets information is: (219, 1)\n",
      "\n",
      "The 2th of the normal content datasets information is: (422, 1)\n",
      "\n",
      "The 3th of the normal content datasets information is: (390, 1)\n",
      "\n",
      "The 4th of the normal content datasets information is: (370, 1)\n",
      "\n",
      "The 5th of the normal content datasets information is: (219, 1)\n",
      "\n",
      "The 6th of the normal content datasets information is: (452, 1)\n",
      "\n",
      "The 7th of the normal content datasets information is: (451, 1)\n",
      "\n",
      "The 8th of the normal content datasets information is: (488, 1)\n",
      "\n",
      "The 9th of the normal content datasets information is: (433, 1)\n",
      "\n",
      "The 10th of the normal content datasets information is: (464, 1)\n",
      "\n",
      "The 11th of the normal content datasets information is: (1152, 1)\n",
      "\n",
      "The 12th of the normal content datasets information is: (1050, 1)\n",
      "\n",
      "The 13th of the normal content datasets information is: (1085, 1)\n",
      "\n",
      "The 14th of the normal content datasets information is: (25, 1)\n",
      "\n",
      "The 15th of the normal content datasets information is: (29, 1)\n",
      "\n",
      "The 16th of the normal content datasets information is: (26, 1)\n",
      "\n",
      "The 17th of the normal content datasets information is: (889, 1)\n",
      "\n",
      "The 18th of the normal content datasets information is: (807, 1)\n",
      "\n",
      "The 19th of the normal content datasets information is: (863, 1)\n",
      "\n",
      "The 20th of the normal content datasets information is: (909, 1)\n",
      "\n",
      "The 21th of the normal content datasets information is: (655, 1)\n",
      "\n",
      "The 22th of the normal content datasets information is: (1212, 1)\n",
      "\n",
      "The 23th of the normal content datasets information is: (1019, 1)\n",
      "\n",
      "The 24th of the normal content datasets information is: (799, 1)\n",
      "\n",
      "The 25th of the normal content datasets information is: (761, 1)\n",
      "\n",
      "The 26th of the normal content datasets information is: (798, 1)\n",
      "\n",
      "The 27th of the normal content datasets information is: (827, 1)\n",
      "\n",
      "The 28th of the normal content datasets information is: (870, 1)\n",
      "\n",
      "The 29th of the normal content datasets information is: (625, 1)\n",
      "\n",
      "The 30th of the normal content datasets information is: (902, 1)\n",
      "\n"
     ]
    }
   ],
   "source": [
    "for i,j in enumerate(nor_list):\n",
    "    print('The {}th of the normal content datasets information is: {}\\n'.format(i+1,j.shape))"
   ]
  },
  {
   "cell_type": "markdown",
   "metadata": {},
   "source": [
    "### 2. DP Content Datasets\n",
    "-----\n"
   ]
  },
  {
   "cell_type": "code",
   "execution_count": 45,
   "metadata": {},
   "outputs": [
    {
     "data": {
      "text/plain": [
       "9"
      ]
     },
     "execution_count": 45,
     "metadata": {},
     "output_type": "execute_result"
    }
   ],
   "source": [
    "# ---- import the Normal dataset\n",
    "dp_list = []\n",
    "\n",
    "# Amazon:\n",
    "for i in range(2):\n",
    "    filename = 'DP/'+'amazon'+str(i+1)+'.csv'\n",
    "    dp_list.append(pd.read_csv(filename))\n",
    "\n",
    "# eBay:\n",
    "for i in range(3):\n",
    "    filename = 'DP/'+'ebay'+str(i+1)+'.csv'\n",
    "    dp_list.append(pd.read_csv(filename))\n",
    "\n",
    "# Shein:\n",
    "for i in range(1):\n",
    "    filename = 'DP/'+'shein'+str(i+1)+'.csv'\n",
    "    dp_list.append(pd.read_csv(filename))\n",
    "\n",
    "# Wish:\n",
    "for i in range(3):\n",
    "    filename = 'DP/'+'wish'+str(i+1)+'.csv'\n",
    "    dp_list.append(pd.read_csv(filename))\n",
    "\n",
    "\n",
    "len(dp_list)"
   ]
  },
  {
   "cell_type": "code",
   "execution_count": 46,
   "metadata": {},
   "outputs": [
    {
     "name": "stdout",
     "output_type": "stream",
     "text": [
      "The 1th of the dark pattern content datasets information is: (11, 1)\n",
      "\n",
      "The 2th of the dark pattern content datasets information is: (3, 1)\n",
      "\n",
      "The 3th of the dark pattern content datasets information is: (38, 1)\n",
      "\n",
      "The 4th of the dark pattern content datasets information is: (35, 1)\n",
      "\n",
      "The 5th of the dark pattern content datasets information is: (3, 1)\n",
      "\n",
      "The 6th of the dark pattern content datasets information is: (41, 1)\n",
      "\n",
      "The 7th of the dark pattern content datasets information is: (43, 1)\n",
      "\n",
      "The 8th of the dark pattern content datasets information is: (40, 1)\n",
      "\n",
      "The 9th of the dark pattern content datasets information is: (39, 1)\n",
      "\n"
     ]
    }
   ],
   "source": [
    "for i,j in enumerate(dp_list):\n",
    "    print('The {}th of the dark pattern content datasets information is: {}\\n'.format(i+1,j.shape))"
   ]
  },
  {
   "cell_type": "markdown",
   "metadata": {},
   "source": [
    "# Merge Normal Content Datasets\n",
    "----"
   ]
  },
  {
   "cell_type": "code",
   "execution_count": 41,
   "metadata": {},
   "outputs": [
    {
     "data": {
      "text/plain": [
       "(19211, 1)"
      ]
     },
     "execution_count": 41,
     "metadata": {},
     "output_type": "execute_result"
    }
   ],
   "source": [
    "nor_df = pd.concat(nor_list,ignore_index = True)\n",
    "\n",
    "nor_df.shape"
   ]
  },
  {
   "cell_type": "code",
   "execution_count": 42,
   "metadata": {},
   "outputs": [
    {
     "data": {
      "text/html": [
       "<div>\n",
       "<style scoped>\n",
       "    .dataframe tbody tr th:only-of-type {\n",
       "        vertical-align: middle;\n",
       "    }\n",
       "\n",
       "    .dataframe tbody tr th {\n",
       "        vertical-align: top;\n",
       "    }\n",
       "\n",
       "    .dataframe thead th {\n",
       "        text-align: right;\n",
       "    }\n",
       "</style>\n",
       "<table border=\"1\" class=\"dataframe\">\n",
       "  <thead>\n",
       "    <tr style=\"text-align: right;\">\n",
       "      <th></th>\n",
       "      <th>content</th>\n",
       "    </tr>\n",
       "  </thead>\n",
       "  <tbody>\n",
       "    <tr>\n",
       "      <th>0</th>\n",
       "      <td>Skip to main content</td>\n",
       "    </tr>\n",
       "    <tr>\n",
       "      <th>1</th>\n",
       "      <td>Deliver to</td>\n",
       "    </tr>\n",
       "    <tr>\n",
       "      <th>2</th>\n",
       "      <td>Select the department you want to search in</td>\n",
       "    </tr>\n",
       "    <tr>\n",
       "      <th>3</th>\n",
       "      <td>All Departments</td>\n",
       "    </tr>\n",
       "    <tr>\n",
       "      <th>4</th>\n",
       "      <td>Arts &amp; Crafts</td>\n",
       "    </tr>\n",
       "    <tr>\n",
       "      <th>...</th>\n",
       "      <td>...</td>\n",
       "    </tr>\n",
       "    <tr>\n",
       "      <th>19206</th>\n",
       "      <td>Reject All</td>\n",
       "    </tr>\n",
       "    <tr>\n",
       "      <th>19207</th>\n",
       "      <td>Allow All</td>\n",
       "    </tr>\n",
       "    <tr>\n",
       "      <th>19208</th>\n",
       "      <td>View our Privacy Policy</td>\n",
       "    </tr>\n",
       "    <tr>\n",
       "      <th>19209</th>\n",
       "      <td>View our Cookies Policy</td>\n",
       "    </tr>\n",
       "    <tr>\n",
       "      <th>19210</th>\n",
       "      <td>Accept Cookies</td>\n",
       "    </tr>\n",
       "  </tbody>\n",
       "</table>\n",
       "<p>19211 rows × 1 columns</p>\n",
       "</div>"
      ],
      "text/plain": [
       "                                           content\n",
       "0                             Skip to main content\n",
       "1                                       Deliver to\n",
       "2      Select the department you want to search in\n",
       "3                                  All Departments\n",
       "4                                    Arts & Crafts\n",
       "...                                            ...\n",
       "19206                                   Reject All\n",
       "19207                                    Allow All\n",
       "19208                      View our Privacy Policy\n",
       "19209                      View our Cookies Policy\n",
       "19210                               Accept Cookies\n",
       "\n",
       "[19211 rows x 1 columns]"
      ]
     },
     "execution_count": 42,
     "metadata": {},
     "output_type": "execute_result"
    }
   ],
   "source": [
    "nor_df"
   ]
  },
  {
   "cell_type": "markdown",
   "metadata": {},
   "source": [
    "# Merge Dark Pattern Content Datasets\n",
    "----"
   ]
  },
  {
   "cell_type": "code",
   "execution_count": 47,
   "metadata": {},
   "outputs": [
    {
     "data": {
      "text/plain": [
       "(253, 1)"
      ]
     },
     "execution_count": 47,
     "metadata": {},
     "output_type": "execute_result"
    }
   ],
   "source": [
    "dp_df = pd.concat(dp_list,ignore_index = True)\n",
    "\n",
    "dp_df.shape"
   ]
  },
  {
   "cell_type": "code",
   "execution_count": 48,
   "metadata": {},
   "outputs": [
    {
     "data": {
      "text/html": [
       "<div>\n",
       "<style scoped>\n",
       "    .dataframe tbody tr th:only-of-type {\n",
       "        vertical-align: middle;\n",
       "    }\n",
       "\n",
       "    .dataframe tbody tr th {\n",
       "        vertical-align: top;\n",
       "    }\n",
       "\n",
       "    .dataframe thead th {\n",
       "        text-align: right;\n",
       "    }\n",
       "</style>\n",
       "<table border=\"1\" class=\"dataframe\">\n",
       "  <thead>\n",
       "    <tr style=\"text-align: right;\">\n",
       "      <th></th>\n",
       "      <th>content</th>\n",
       "    </tr>\n",
       "  </thead>\n",
       "  <tbody>\n",
       "    <tr>\n",
       "      <th>0</th>\n",
       "      <td>Ends in 07:42:09</td>\n",
       "    </tr>\n",
       "    <tr>\n",
       "      <th>1</th>\n",
       "      <td>Ends in 07:37:10</td>\n",
       "    </tr>\n",
       "    <tr>\n",
       "      <th>2</th>\n",
       "      <td>Ends in 02:27:10</td>\n",
       "    </tr>\n",
       "    <tr>\n",
       "      <th>3</th>\n",
       "      <td>Ends in 04:17:10</td>\n",
       "    </tr>\n",
       "    <tr>\n",
       "      <th>4</th>\n",
       "      <td>Ends in 01:57:10</td>\n",
       "    </tr>\n",
       "    <tr>\n",
       "      <th>...</th>\n",
       "      <td>...</td>\n",
       "    </tr>\n",
       "    <tr>\n",
       "      <th>248</th>\n",
       "      <td>10,000+ bought this</td>\n",
       "    </tr>\n",
       "    <tr>\n",
       "      <th>249</th>\n",
       "      <td>10,000+ bought this</td>\n",
       "    </tr>\n",
       "    <tr>\n",
       "      <th>250</th>\n",
       "      <td>1,000+ bought this</td>\n",
       "    </tr>\n",
       "    <tr>\n",
       "      <th>251</th>\n",
       "      <td>Almost Gone!</td>\n",
       "    </tr>\n",
       "    <tr>\n",
       "      <th>252</th>\n",
       "      <td>5,000+ bought this</td>\n",
       "    </tr>\n",
       "  </tbody>\n",
       "</table>\n",
       "<p>253 rows × 1 columns</p>\n",
       "</div>"
      ],
      "text/plain": [
       "                 content\n",
       "0       Ends in 07:42:09\n",
       "1       Ends in 07:37:10\n",
       "2       Ends in 02:27:10\n",
       "3       Ends in 04:17:10\n",
       "4       Ends in 01:57:10\n",
       "..                   ...\n",
       "248  10,000+ bought this\n",
       "249  10,000+ bought this\n",
       "250   1,000+ bought this\n",
       "251         Almost Gone!\n",
       "252   5,000+ bought this\n",
       "\n",
       "[253 rows x 1 columns]"
      ]
     },
     "execution_count": 48,
     "metadata": {},
     "output_type": "execute_result"
    }
   ],
   "source": [
    "dp_df"
   ]
  },
  {
   "cell_type": "markdown",
   "metadata": {},
   "source": [
    "# Remove duplicates rows \n",
    "-----"
   ]
  },
  {
   "cell_type": "code",
   "execution_count": 50,
   "metadata": {},
   "outputs": [
    {
     "data": {
      "text/plain": [
       "(5619, 1)"
      ]
     },
     "execution_count": 50,
     "metadata": {},
     "output_type": "execute_result"
    }
   ],
   "source": [
    " # For later training the model, we should remove the duplicate input to reduce overfitting.\n",
    "\n",
    "normal_df = nor_df.drop_duplicates(subset=\"content\")\n",
    "\n",
    "normal_df.shape"
   ]
  },
  {
   "cell_type": "code",
   "execution_count": 51,
   "metadata": {},
   "outputs": [
    {
     "data": {
      "text/plain": [
       "(119, 1)"
      ]
     },
     "execution_count": 51,
     "metadata": {},
     "output_type": "execute_result"
    }
   ],
   "source": [
    "dark_df = dp_df.drop_duplicates(subset=\"content\")\n",
    "\n",
    "dark_df.shape"
   ]
  },
  {
   "cell_type": "code",
   "execution_count": 52,
   "metadata": {},
   "outputs": [
    {
     "data": {
      "text/html": [
       "<div>\n",
       "<style scoped>\n",
       "    .dataframe tbody tr th:only-of-type {\n",
       "        vertical-align: middle;\n",
       "    }\n",
       "\n",
       "    .dataframe tbody tr th {\n",
       "        vertical-align: top;\n",
       "    }\n",
       "\n",
       "    .dataframe thead th {\n",
       "        text-align: right;\n",
       "    }\n",
       "</style>\n",
       "<table border=\"1\" class=\"dataframe\">\n",
       "  <thead>\n",
       "    <tr style=\"text-align: right;\">\n",
       "      <th></th>\n",
       "      <th>content</th>\n",
       "    </tr>\n",
       "  </thead>\n",
       "  <tbody>\n",
       "    <tr>\n",
       "      <th>0</th>\n",
       "      <td>Skip to main content</td>\n",
       "    </tr>\n",
       "    <tr>\n",
       "      <th>1</th>\n",
       "      <td>Deliver to</td>\n",
       "    </tr>\n",
       "    <tr>\n",
       "      <th>2</th>\n",
       "      <td>Select the department you want to search in</td>\n",
       "    </tr>\n",
       "    <tr>\n",
       "      <th>3</th>\n",
       "      <td>All Departments</td>\n",
       "    </tr>\n",
       "    <tr>\n",
       "      <th>4</th>\n",
       "      <td>Arts &amp; Crafts</td>\n",
       "    </tr>\n",
       "    <tr>\n",
       "      <th>...</th>\n",
       "      <td>...</td>\n",
       "    </tr>\n",
       "    <tr>\n",
       "      <th>19136</th>\n",
       "      <td>smart TV</td>\n",
       "    </tr>\n",
       "    <tr>\n",
       "      <th>19137</th>\n",
       "      <td>Whether you’ve got an</td>\n",
       "    </tr>\n",
       "    <tr>\n",
       "      <th>19138</th>\n",
       "      <td>LG television</td>\n",
       "    </tr>\n",
       "    <tr>\n",
       "      <th>19139</th>\n",
       "      <td>in mind, or want to browse our vast selection of</td>\n",
       "    </tr>\n",
       "    <tr>\n",
       "      <th>19140</th>\n",
       "      <td>Samsung televisions</td>\n",
       "    </tr>\n",
       "  </tbody>\n",
       "</table>\n",
       "<p>5619 rows × 1 columns</p>\n",
       "</div>"
      ],
      "text/plain": [
       "                                                content\n",
       "0                                  Skip to main content\n",
       "1                                            Deliver to\n",
       "2           Select the department you want to search in\n",
       "3                                       All Departments\n",
       "4                                         Arts & Crafts\n",
       "...                                                 ...\n",
       "19136                                          smart TV\n",
       "19137                             Whether you’ve got an\n",
       "19138                                     LG television\n",
       "19139  in mind, or want to browse our vast selection of\n",
       "19140                               Samsung televisions\n",
       "\n",
       "[5619 rows x 1 columns]"
      ]
     },
     "execution_count": 52,
     "metadata": {},
     "output_type": "execute_result"
    }
   ],
   "source": [
    "normal_df"
   ]
  },
  {
   "cell_type": "code",
   "execution_count": 53,
   "metadata": {},
   "outputs": [
    {
     "data": {
      "text/html": [
       "<div>\n",
       "<style scoped>\n",
       "    .dataframe tbody tr th:only-of-type {\n",
       "        vertical-align: middle;\n",
       "    }\n",
       "\n",
       "    .dataframe tbody tr th {\n",
       "        vertical-align: top;\n",
       "    }\n",
       "\n",
       "    .dataframe thead th {\n",
       "        text-align: right;\n",
       "    }\n",
       "</style>\n",
       "<table border=\"1\" class=\"dataframe\">\n",
       "  <thead>\n",
       "    <tr style=\"text-align: right;\">\n",
       "      <th></th>\n",
       "      <th>content</th>\n",
       "    </tr>\n",
       "  </thead>\n",
       "  <tbody>\n",
       "    <tr>\n",
       "      <th>0</th>\n",
       "      <td>Ends in 07:42:09</td>\n",
       "    </tr>\n",
       "    <tr>\n",
       "      <th>1</th>\n",
       "      <td>Ends in 07:37:10</td>\n",
       "    </tr>\n",
       "    <tr>\n",
       "      <th>2</th>\n",
       "      <td>Ends in 02:27:10</td>\n",
       "    </tr>\n",
       "    <tr>\n",
       "      <th>3</th>\n",
       "      <td>Ends in 04:17:10</td>\n",
       "    </tr>\n",
       "    <tr>\n",
       "      <th>4</th>\n",
       "      <td>Ends in 01:57:10</td>\n",
       "    </tr>\n",
       "    <tr>\n",
       "      <th>...</th>\n",
       "      <td>...</td>\n",
       "    </tr>\n",
       "    <tr>\n",
       "      <th>135</th>\n",
       "      <td>100+ bought this</td>\n",
       "    </tr>\n",
       "    <tr>\n",
       "      <th>137</th>\n",
       "      <td>5,000+ bought this</td>\n",
       "    </tr>\n",
       "    <tr>\n",
       "      <th>138</th>\n",
       "      <td>20,000+ bought this</td>\n",
       "    </tr>\n",
       "    <tr>\n",
       "      <th>159</th>\n",
       "      <td>50,000+ bought this</td>\n",
       "    </tr>\n",
       "    <tr>\n",
       "      <th>161</th>\n",
       "      <td>50+ bought this</td>\n",
       "    </tr>\n",
       "  </tbody>\n",
       "</table>\n",
       "<p>119 rows × 1 columns</p>\n",
       "</div>"
      ],
      "text/plain": [
       "                 content\n",
       "0       Ends in 07:42:09\n",
       "1       Ends in 07:37:10\n",
       "2       Ends in 02:27:10\n",
       "3       Ends in 04:17:10\n",
       "4       Ends in 01:57:10\n",
       "..                   ...\n",
       "135     100+ bought this\n",
       "137   5,000+ bought this\n",
       "138  20,000+ bought this\n",
       "159  50,000+ bought this\n",
       "161      50+ bought this\n",
       "\n",
       "[119 rows x 1 columns]"
      ]
     },
     "execution_count": 53,
     "metadata": {},
     "output_type": "execute_result"
    }
   ],
   "source": [
    "dark_df"
   ]
  },
  {
   "cell_type": "markdown",
   "metadata": {},
   "source": [
    "# Output csv files of normal content and dark pattern\n",
    "-----"
   ]
  },
  {
   "cell_type": "code",
   "execution_count": 54,
   "metadata": {},
   "outputs": [],
   "source": [
    "normal_df.to_csv('Generate/normal.csv', index = False, header = True)\n",
    "\n",
    "dark_df.to_csv('Generate/dp.csv', index = False, header = True)"
   ]
  },
  {
   "cell_type": "code",
   "execution_count": null,
   "metadata": {},
   "outputs": [],
   "source": []
  },
  {
   "cell_type": "code",
   "execution_count": null,
   "metadata": {},
   "outputs": [],
   "source": []
  },
  {
   "cell_type": "code",
   "execution_count": 6,
   "metadata": {},
   "outputs": [
    {
     "data": {
      "text/html": [
       "<div>\n",
       "<style scoped>\n",
       "    .dataframe tbody tr th:only-of-type {\n",
       "        vertical-align: middle;\n",
       "    }\n",
       "\n",
       "    .dataframe tbody tr th {\n",
       "        vertical-align: top;\n",
       "    }\n",
       "\n",
       "    .dataframe thead th {\n",
       "        text-align: right;\n",
       "    }\n",
       "</style>\n",
       "<table border=\"1\" class=\"dataframe\">\n",
       "  <thead>\n",
       "    <tr style=\"text-align: right;\">\n",
       "      <th></th>\n",
       "      <th>Pattern String</th>\n",
       "      <th>classification</th>\n",
       "    </tr>\n",
       "  </thead>\n",
       "  <tbody>\n",
       "    <tr>\n",
       "      <th>0</th>\n",
       "      <td>JVC 32\" Android TV with Google Assistant | Now...</td>\n",
       "      <td>1</td>\n",
       "    </tr>\n",
       "    <tr>\n",
       "      <th>1</th>\n",
       "      <td>Save up to €250</td>\n",
       "      <td>0</td>\n",
       "    </tr>\n",
       "    <tr>\n",
       "      <th>2</th>\n",
       "      <td>Here we go! Save up to €250</td>\n",
       "      <td>0</td>\n",
       "    </tr>\n",
       "    <tr>\n",
       "      <th>3</th>\n",
       "      <td>Save up to €150</td>\n",
       "      <td>0</td>\n",
       "    </tr>\n",
       "    <tr>\n",
       "      <th>4</th>\n",
       "      <td>Save up to €190</td>\n",
       "      <td>0</td>\n",
       "    </tr>\n",
       "    <tr>\n",
       "      <th>...</th>\n",
       "      <td>...</td>\n",
       "      <td>...</td>\n",
       "    </tr>\n",
       "    <tr>\n",
       "      <th>366</th>\n",
       "      <td>Be the first to hear about the latest news. Re...</td>\n",
       "      <td>0</td>\n",
       "    </tr>\n",
       "    <tr>\n",
       "      <th>367</th>\n",
       "      <td>The newsletter can be unsubscribed at any time...</td>\n",
       "      <td>1</td>\n",
       "    </tr>\n",
       "    <tr>\n",
       "      <th>368</th>\n",
       "      <td>to cancel your subscription. For more informat...</td>\n",
       "      <td>1</td>\n",
       "    </tr>\n",
       "    <tr>\n",
       "      <th>369</th>\n",
       "      <td>At Lights.ie the item's previous retail value ...</td>\n",
       "      <td>1</td>\n",
       "    </tr>\n",
       "    <tr>\n",
       "      <th>370</th>\n",
       "      <td>Included in the price of CFLs/fluorescent bulb...</td>\n",
       "      <td>1</td>\n",
       "    </tr>\n",
       "  </tbody>\n",
       "</table>\n",
       "<p>371 rows × 2 columns</p>\n",
       "</div>"
      ],
      "text/plain": [
       "                                        Pattern String  classification\n",
       "0    JVC 32\" Android TV with Google Assistant | Now...               1\n",
       "1                                      Save up to €250               0\n",
       "2                          Here we go! Save up to €250               0\n",
       "3                                      Save up to €150               0\n",
       "4                                      Save up to €190               0\n",
       "..                                                 ...             ...\n",
       "366  Be the first to hear about the latest news. Re...               0\n",
       "367  The newsletter can be unsubscribed at any time...               1\n",
       "368  to cancel your subscription. For more informat...               1\n",
       "369  At Lights.ie the item's previous retail value ...               1\n",
       "370  Included in the price of CFLs/fluorescent bulb...               1\n",
       "\n",
       "[371 rows x 2 columns]"
      ]
     },
     "execution_count": 6,
     "metadata": {},
     "output_type": "execute_result"
    }
   ],
   "source": [
    "# change the header name of the raw table\n",
    "\n",
    "raw_1 = raw_1.rename(columns={\"content\": \"Pattern String\", \"presence\": \"classification\"})\n",
    "\n",
    "raw_1"
   ]
  }
 ],
 "metadata": {
  "kernelspec": {
   "display_name": "Python 3",
   "language": "python",
   "name": "python3"
  },
  "language_info": {
   "codemirror_mode": {
    "name": "ipython",
    "version": 3
   },
   "file_extension": ".py",
   "mimetype": "text/x-python",
   "name": "python",
   "nbconvert_exporter": "python",
   "pygments_lexer": "ipython3",
   "version": "3.8.5"
  }
 },
 "nbformat": 4,
 "nbformat_minor": 4
}
