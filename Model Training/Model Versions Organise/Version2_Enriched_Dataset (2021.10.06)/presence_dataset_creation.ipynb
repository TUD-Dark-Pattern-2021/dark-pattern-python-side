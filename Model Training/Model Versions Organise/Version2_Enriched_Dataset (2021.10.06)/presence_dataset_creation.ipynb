{
 "cells": [
  {
   "cell_type": "code",
   "execution_count": 1,
   "metadata": {},
   "outputs": [],
   "source": [
    "import pandas as pd\n",
    "import numpy as np"
   ]
  },
  {
   "cell_type": "code",
   "execution_count": 3,
   "metadata": {},
   "outputs": [],
   "source": [
    "raw = pd.read_csv('reversed_normie.csv')\n",
    "\n",
    "# add the princeton dataset to enrich the dark tags\n",
    "princeton = pd.read_csv('category.csv')\n",
    "\n",
    "# remove the rows where there are NULL values in 'Pattern String' or 'Pattern Category' columns.\n",
    "\n",
    "princeton = princeton[pd.notnull(princeton[\"Pattern String\"])]\n",
    "princeton = princeton[pd.notnull(princeton[\"Pattern Category\"])]"
   ]
  },
  {
   "cell_type": "code",
   "execution_count": 4,
   "metadata": {},
   "outputs": [],
   "source": [
    "# create a column named 'classification' and give all the values to be 1, which means 'Dark', to match with the presence dataset.\n",
    "\n",
    "princeton[\"classification\"] = 0\n",
    "\n",
    "# For later training the model, we should remove the duplicate input to reduce overfitting.\n",
    "\n",
    "princeton = princeton.drop_duplicates(subset=\"Pattern String\")"
   ]
  },
  {
   "cell_type": "code",
   "execution_count": 5,
   "metadata": {},
   "outputs": [
    {
     "name": "stdout",
     "output_type": "stream",
     "text": [
      "0    1482\n",
      "1    1456\n",
      "Name: classification, dtype: int64\n"
     ]
    }
   ],
   "source": [
    "# Subset the princeton dataset for joining with raw presence dataset.\n",
    "\n",
    "cols = [\"Pattern String\", \"classification\"]\n",
    "princeton = princeton[cols]\n",
    "\n",
    "final_presence = pd.concat([raw, princeton])\n",
    "\n",
    "print(final_presence['classification'].value_counts())"
   ]
  },
  {
   "cell_type": "code",
   "execution_count": 6,
   "metadata": {},
   "outputs": [],
   "source": [
    "final_presence.to_csv('final_presence.csv', index = False, header = True)"
   ]
  },
  {
   "cell_type": "code",
   "execution_count": null,
   "metadata": {},
   "outputs": [],
   "source": []
  }
 ],
 "metadata": {
  "kernelspec": {
   "display_name": "Python 3",
   "language": "python",
   "name": "python3"
  },
  "language_info": {
   "codemirror_mode": {
    "name": "ipython",
    "version": 3
   },
   "file_extension": ".py",
   "mimetype": "text/x-python",
   "name": "python",
   "nbconvert_exporter": "python",
   "pygments_lexer": "ipython3",
   "version": "3.8.5"
  }
 },
 "nbformat": 4,
 "nbformat_minor": 4
}
