{
 "cells": [
  {
   "cell_type": "code",
   "execution_count": 1,
   "metadata": {
    "colab": {
     "base_uri": "https://localhost:8080/"
    },
    "id": "MgKMLCU1neJj",
    "outputId": "3d46c5bf-ba0b-4e0d-ce90-30e86c2cb0c0"
   },
   "outputs": [
    {
     "name": "stdout",
     "output_type": "stream",
     "text": [
      "Found GPU at: /device:GPU:0\n"
     ]
    }
   ],
   "source": [
    "%tensorflow_version 2.x\n",
    "import tensorflow as tf\n",
    "device_name = tf.test.gpu_device_name()\n",
    "if device_name != '/device:GPU:0':\n",
    "  raise SystemError('GPU device not found')\n",
    "print('Found GPU at: {}'.format(device_name))"
   ]
  },
  {
   "cell_type": "code",
   "execution_count": null,
   "metadata": {
    "id": "W5p7viBpSDB8"
   },
   "outputs": [],
   "source": []
  },
  {
   "cell_type": "code",
   "execution_count": 4,
   "metadata": {
    "colab": {
     "base_uri": "https://localhost:8080/"
    },
    "id": "x4dAiFjlom3P",
    "outputId": "1166104e-eb8f-446f-a116-2c3fbc89be46"
   },
   "outputs": [
    {
     "name": "stdout",
     "output_type": "stream",
     "text": [
      "Mounted at /content/drive\n"
     ]
    }
   ],
   "source": [
    "from google.colab import drive\n",
    "drive.mount('/content/drive')"
   ]
  },
  {
   "cell_type": "code",
   "execution_count": 5,
   "metadata": {
    "id": "-j4H5fM7owo5"
   },
   "outputs": [],
   "source": [
    "import pandas as pd\n",
    "import numpy as np\n",
    "import tensorflow as tf\n",
    "from tensorflow import keras\n",
    "!pip install -q pyyaml h5py"
   ]
  },
  {
   "cell_type": "code",
   "execution_count": 6,
   "metadata": {
    "id": "7CXfEpUOoz8h"
   },
   "outputs": [],
   "source": [
    "data = pd.read_csv('/content/drive/MyDrive/Colab Notebooks/train.csv')\n",
    "test = pd.read_csv('/content/drive/MyDrive/Colab Notebooks/test.csv')"
   ]
  },
  {
   "cell_type": "code",
   "execution_count": 7,
   "metadata": {
    "id": "fEoRP6zjpKc1"
   },
   "outputs": [],
   "source": [
    "frames= [data,test]"
   ]
  },
  {
   "cell_type": "code",
   "execution_count": 8,
   "metadata": {
    "id": "p52VPAJgpQHr"
   },
   "outputs": [],
   "source": [
    "result = pd.concat(frames)"
   ]
  },
  {
   "cell_type": "code",
   "execution_count": null,
   "metadata": {
    "colab": {
     "base_uri": "https://localhost:8080/",
     "height": 407
    },
    "id": "k8PX1ETCpmd0",
    "outputId": "5f591124-8119-489f-9bac-fe865d7780d1"
   },
   "outputs": [
    {
     "data": {
      "text/html": [
       "<div>\n",
       "<style scoped>\n",
       "    .dataframe tbody tr th:only-of-type {\n",
       "        vertical-align: middle;\n",
       "    }\n",
       "\n",
       "    .dataframe tbody tr th {\n",
       "        vertical-align: top;\n",
       "    }\n",
       "\n",
       "    .dataframe thead th {\n",
       "        text-align: right;\n",
       "    }\n",
       "</style>\n",
       "<table border=\"1\" class=\"dataframe\">\n",
       "  <thead>\n",
       "    <tr style=\"text-align: right;\">\n",
       "      <th></th>\n",
       "      <th>Artist</th>\n",
       "      <th>Song</th>\n",
       "      <th>Genre</th>\n",
       "      <th>Language</th>\n",
       "      <th>Lyrics</th>\n",
       "      <th>Song year</th>\n",
       "      <th>Track_id</th>\n",
       "    </tr>\n",
       "  </thead>\n",
       "  <tbody>\n",
       "    <tr>\n",
       "      <th>0</th>\n",
       "      <td>12 stones</td>\n",
       "      <td>world so cold</td>\n",
       "      <td>Rock</td>\n",
       "      <td>en</td>\n",
       "      <td>It starts with pain, followed by hate\\nFueled ...</td>\n",
       "      <td>NaN</td>\n",
       "      <td>NaN</td>\n",
       "    </tr>\n",
       "    <tr>\n",
       "      <th>1</th>\n",
       "      <td>12 stones</td>\n",
       "      <td>broken</td>\n",
       "      <td>Rock</td>\n",
       "      <td>en</td>\n",
       "      <td>Freedom!\\nAlone again again alone\\nPatiently w...</td>\n",
       "      <td>NaN</td>\n",
       "      <td>NaN</td>\n",
       "    </tr>\n",
       "    <tr>\n",
       "      <th>2</th>\n",
       "      <td>12 stones</td>\n",
       "      <td>3 leaf loser</td>\n",
       "      <td>Rock</td>\n",
       "      <td>en</td>\n",
       "      <td>Biting the hand that feeds you, lying to the v...</td>\n",
       "      <td>NaN</td>\n",
       "      <td>NaN</td>\n",
       "    </tr>\n",
       "    <tr>\n",
       "      <th>3</th>\n",
       "      <td>12 stones</td>\n",
       "      <td>anthem for the underdog</td>\n",
       "      <td>Rock</td>\n",
       "      <td>en</td>\n",
       "      <td>You say you know just who I am\\nBut you can't ...</td>\n",
       "      <td>NaN</td>\n",
       "      <td>NaN</td>\n",
       "    </tr>\n",
       "    <tr>\n",
       "      <th>4</th>\n",
       "      <td>12 stones</td>\n",
       "      <td>adrenaline</td>\n",
       "      <td>Rock</td>\n",
       "      <td>en</td>\n",
       "      <td>My heart is beating faster can't control these...</td>\n",
       "      <td>NaN</td>\n",
       "      <td>NaN</td>\n",
       "    </tr>\n",
       "    <tr>\n",
       "      <th>...</th>\n",
       "      <td>...</td>\n",
       "      <td>...</td>\n",
       "      <td>...</td>\n",
       "      <td>...</td>\n",
       "      <td>...</td>\n",
       "      <td>...</td>\n",
       "      <td>...</td>\n",
       "    </tr>\n",
       "    <tr>\n",
       "      <th>7930</th>\n",
       "      <td>amanda-marshall</td>\n",
       "      <td>too-little-too-late</td>\n",
       "      <td>Rock</td>\n",
       "      <td>NaN</td>\n",
       "      <td>Tuesday night - 7:30\\nI hear a voice on the te...</td>\n",
       "      <td>2006.0</td>\n",
       "      <td>23453.0</td>\n",
       "    </tr>\n",
       "    <tr>\n",
       "      <th>7931</th>\n",
       "      <td>aurora-borealis</td>\n",
       "      <td>berserker</td>\n",
       "      <td>Metal</td>\n",
       "      <td>NaN</td>\n",
       "      <td>Elite forces cloaked in fur un sensitive to pa...</td>\n",
       "      <td>2007.0</td>\n",
       "      <td>2724.0</td>\n",
       "    </tr>\n",
       "    <tr>\n",
       "      <th>7932</th>\n",
       "      <td>dr-dre</td>\n",
       "      <td>natural-born-killaz</td>\n",
       "      <td>Hip-Hop</td>\n",
       "      <td>NaN</td>\n",
       "      <td>[Dr. Dre]\\nJourney with me\\nInto the mind of a...</td>\n",
       "      <td>2010.0</td>\n",
       "      <td>24147.0</td>\n",
       "    </tr>\n",
       "    <tr>\n",
       "      <th>7933</th>\n",
       "      <td>chris-cornell</td>\n",
       "      <td>wide-awake</td>\n",
       "      <td>Rock</td>\n",
       "      <td>NaN</td>\n",
       "      <td>You can a look a hurricane right in the eye.\\n...</td>\n",
       "      <td>2011.0</td>\n",
       "      <td>4150.0</td>\n",
       "    </tr>\n",
       "    <tr>\n",
       "      <th>7934</th>\n",
       "      <td>the-coral</td>\n",
       "      <td>god-knows</td>\n",
       "      <td>Rock</td>\n",
       "      <td>NaN</td>\n",
       "      <td>Deal not the truth till you find the proof\\nAn...</td>\n",
       "      <td>2007.0</td>\n",
       "      <td>16992.0</td>\n",
       "    </tr>\n",
       "  </tbody>\n",
       "</table>\n",
       "<p>298118 rows × 7 columns</p>\n",
       "</div>"
      ],
      "text/plain": [
       "               Artist                     Song  ... Song year Track_id\n",
       "0           12 stones            world so cold  ...       NaN      NaN\n",
       "1           12 stones                   broken  ...       NaN      NaN\n",
       "2           12 stones             3 leaf loser  ...       NaN      NaN\n",
       "3           12 stones  anthem for the underdog  ...       NaN      NaN\n",
       "4           12 stones               adrenaline  ...       NaN      NaN\n",
       "...               ...                      ...  ...       ...      ...\n",
       "7930  amanda-marshall      too-little-too-late  ...    2006.0  23453.0\n",
       "7931  aurora-borealis                berserker  ...    2007.0   2724.0\n",
       "7932           dr-dre      natural-born-killaz  ...    2010.0  24147.0\n",
       "7933    chris-cornell               wide-awake  ...    2011.0   4150.0\n",
       "7934        the-coral                god-knows  ...    2007.0  16992.0\n",
       "\n",
       "[298118 rows x 7 columns]"
      ]
     },
     "execution_count": 7,
     "metadata": {
      "tags": []
     },
     "output_type": "execute_result"
    }
   ],
   "source": [
    "result"
   ]
  },
  {
   "cell_type": "code",
   "execution_count": 9,
   "metadata": {
    "colab": {
     "base_uri": "https://localhost:8080/"
    },
    "id": "LasuzsZ7rrXv",
    "outputId": "9a61a04d-001b-4c7d-f5bb-184529c9b7a9"
   },
   "outputs": [
    {
     "name": "stdout",
     "output_type": "stream",
     "text": [
      "elvis presley         1611\n",
      "chris brown           1239\n",
      "elvis costello         923\n",
      "ella fitzgerald        874\n",
      "the rolling stones     820\n",
      "bee gees               811\n",
      "glee                   765\n",
      "bad religion           752\n",
      "beyonce                752\n",
      "elton john             728\n",
      "Name: Artist, dtype: int64\n"
     ]
    }
   ],
   "source": [
    "count = result['Artist'].value_counts()\n",
    "print(count.head(10))\n"
   ]
  },
  {
   "cell_type": "code",
   "execution_count": 10,
   "metadata": {
    "id": "gQzZz77FscYn"
   },
   "outputs": [],
   "source": [
    "options = ['elvis presley','chris brown','elvis costello','ella fitzgerald','the rolling stones','bee gees','glee','bad religion','beyonce', 'elton john' ]"
   ]
  },
  {
   "cell_type": "code",
   "execution_count": 11,
   "metadata": {
    "id": "OywZbsSttFGo"
   },
   "outputs": [],
   "source": [
    "rslt_df = result[result['Artist'].isin(options)]"
   ]
  },
  {
   "cell_type": "code",
   "execution_count": null,
   "metadata": {
    "colab": {
     "base_uri": "https://localhost:8080/",
     "height": 407
    },
    "id": "EGVHQ0LmtUx0",
    "outputId": "bb11ccc5-3d1c-4b3e-a75a-f8e46d772bcd"
   },
   "outputs": [
    {
     "data": {
      "text/html": [
       "<div>\n",
       "<style scoped>\n",
       "    .dataframe tbody tr th:only-of-type {\n",
       "        vertical-align: middle;\n",
       "    }\n",
       "\n",
       "    .dataframe tbody tr th {\n",
       "        vertical-align: top;\n",
       "    }\n",
       "\n",
       "    .dataframe thead th {\n",
       "        text-align: right;\n",
       "    }\n",
       "</style>\n",
       "<table border=\"1\" class=\"dataframe\">\n",
       "  <thead>\n",
       "    <tr style=\"text-align: right;\">\n",
       "      <th></th>\n",
       "      <th>Artist</th>\n",
       "      <th>Song</th>\n",
       "      <th>Genre</th>\n",
       "      <th>Language</th>\n",
       "      <th>Lyrics</th>\n",
       "      <th>Song year</th>\n",
       "      <th>Track_id</th>\n",
       "    </tr>\n",
       "  </thead>\n",
       "  <tbody>\n",
       "    <tr>\n",
       "      <th>3791</th>\n",
       "      <td>bad religion</td>\n",
       "      <td>american jesus</td>\n",
       "      <td>Pop</td>\n",
       "      <td>en</td>\n",
       "      <td>I don't need to be a global citizen,\\n'Cuz I'm...</td>\n",
       "      <td>NaN</td>\n",
       "      <td>NaN</td>\n",
       "    </tr>\n",
       "    <tr>\n",
       "      <th>3792</th>\n",
       "      <td>bad religion</td>\n",
       "      <td>infected</td>\n",
       "      <td>Pop</td>\n",
       "      <td>en</td>\n",
       "      <td>Infected\\nNow here I go,\\nHope I don't break d...</td>\n",
       "      <td>NaN</td>\n",
       "      <td>NaN</td>\n",
       "    </tr>\n",
       "    <tr>\n",
       "      <th>3793</th>\n",
       "      <td>bad religion</td>\n",
       "      <td>a walk</td>\n",
       "      <td>Pop</td>\n",
       "      <td>en</td>\n",
       "      <td>I'm going for a walk\\nnot the after dinner kin...</td>\n",
       "      <td>NaN</td>\n",
       "      <td>NaN</td>\n",
       "    </tr>\n",
       "    <tr>\n",
       "      <th>3794</th>\n",
       "      <td>bad religion</td>\n",
       "      <td>sorrow</td>\n",
       "      <td>Pop</td>\n",
       "      <td>en</td>\n",
       "      <td>Father can you hear me?\\nHow have I let you do...</td>\n",
       "      <td>NaN</td>\n",
       "      <td>NaN</td>\n",
       "    </tr>\n",
       "    <tr>\n",
       "      <th>3795</th>\n",
       "      <td>bad religion</td>\n",
       "      <td>you</td>\n",
       "      <td>Pop</td>\n",
       "      <td>en</td>\n",
       "      <td>There's a place where everyone can be happy\\nI...</td>\n",
       "      <td>NaN</td>\n",
       "      <td>NaN</td>\n",
       "    </tr>\n",
       "    <tr>\n",
       "      <th>...</th>\n",
       "      <td>...</td>\n",
       "      <td>...</td>\n",
       "      <td>...</td>\n",
       "      <td>...</td>\n",
       "      <td>...</td>\n",
       "      <td>...</td>\n",
       "      <td>...</td>\n",
       "    </tr>\n",
       "    <tr>\n",
       "      <th>289878</th>\n",
       "      <td>ella fitzgerald</td>\n",
       "      <td>too marvelous for words</td>\n",
       "      <td>Jazz</td>\n",
       "      <td>en</td>\n",
       "      <td>You're just too marvelous Too marvelous for wo...</td>\n",
       "      <td>NaN</td>\n",
       "      <td>NaN</td>\n",
       "    </tr>\n",
       "    <tr>\n",
       "      <th>289948</th>\n",
       "      <td>chris brown</td>\n",
       "      <td>i get around</td>\n",
       "      <td>Hip-Hop</td>\n",
       "      <td>en</td>\n",
       "      <td>Up, high, down, low I be anywhere you want Not...</td>\n",
       "      <td>NaN</td>\n",
       "      <td>NaN</td>\n",
       "    </tr>\n",
       "    <tr>\n",
       "      <th>290027</th>\n",
       "      <td>ella fitzgerald</td>\n",
       "      <td>ev rything i ve got</td>\n",
       "      <td>Jazz</td>\n",
       "      <td>en</td>\n",
       "      <td>Don't stamp your foot at me, It's impolite To ...</td>\n",
       "      <td>NaN</td>\n",
       "      <td>NaN</td>\n",
       "    </tr>\n",
       "    <tr>\n",
       "      <th>1574</th>\n",
       "      <td>beyonce</td>\n",
       "      <td>6-inch</td>\n",
       "      <td>Pop</td>\n",
       "      <td>NaN</td>\n",
       "      <td>Six inch heels, she walked in the club like no...</td>\n",
       "      <td>2016.0</td>\n",
       "      <td>5220.0</td>\n",
       "    </tr>\n",
       "    <tr>\n",
       "      <th>7431</th>\n",
       "      <td>beyonce</td>\n",
       "      <td>sweet-dreams</td>\n",
       "      <td>Pop</td>\n",
       "      <td>NaN</td>\n",
       "      <td>Turn the lights on\\nEvery night I rush to my b...</td>\n",
       "      <td>2012.0</td>\n",
       "      <td>13805.0</td>\n",
       "    </tr>\n",
       "  </tbody>\n",
       "</table>\n",
       "<p>9275 rows × 7 columns</p>\n",
       "</div>"
      ],
      "text/plain": [
       "                 Artist                     Song  ... Song year Track_id\n",
       "3791       bad religion           american jesus  ...       NaN      NaN\n",
       "3792       bad religion                 infected  ...       NaN      NaN\n",
       "3793       bad religion                   a walk  ...       NaN      NaN\n",
       "3794       bad religion                   sorrow  ...       NaN      NaN\n",
       "3795       bad religion                      you  ...       NaN      NaN\n",
       "...                 ...                      ...  ...       ...      ...\n",
       "289878  ella fitzgerald  too marvelous for words  ...       NaN      NaN\n",
       "289948      chris brown             i get around  ...       NaN      NaN\n",
       "290027  ella fitzgerald      ev rything i ve got  ...       NaN      NaN\n",
       "1574            beyonce                   6-inch  ...    2016.0   5220.0\n",
       "7431            beyonce             sweet-dreams  ...    2012.0  13805.0\n",
       "\n",
       "[9275 rows x 7 columns]"
      ]
     },
     "execution_count": 11,
     "metadata": {
      "tags": []
     },
     "output_type": "execute_result"
    }
   ],
   "source": [
    "rslt_df"
   ]
  },
  {
   "cell_type": "code",
   "execution_count": 12,
   "metadata": {
    "id": "nUgwPlN5uJ4j"
   },
   "outputs": [],
   "source": [
    "df = pd.DataFrame(rslt_df, columns = ['Artist', 'Lyrics'])\n",
    "df['Lyrics'] = df['Lyrics'].astype(str)\n",
    "df.Artist = df.Artist.str.replace(' ','_')"
   ]
  },
  {
   "cell_type": "code",
   "execution_count": null,
   "metadata": {
    "colab": {
     "base_uri": "https://localhost:8080/",
     "height": 348
    },
    "id": "ZJKR0j55L1z5",
    "outputId": "4ad0aa85-7664-42a3-8764-a0610a5e150c"
   },
   "outputs": [
    {
     "data": {
      "text/html": [
       "<div>\n",
       "<style scoped>\n",
       "    .dataframe tbody tr th:only-of-type {\n",
       "        vertical-align: middle;\n",
       "    }\n",
       "\n",
       "    .dataframe tbody tr th {\n",
       "        vertical-align: top;\n",
       "    }\n",
       "\n",
       "    .dataframe thead th {\n",
       "        text-align: right;\n",
       "    }\n",
       "</style>\n",
       "<table border=\"1\" class=\"dataframe\">\n",
       "  <thead>\n",
       "    <tr style=\"text-align: right;\">\n",
       "      <th></th>\n",
       "      <th>Artist</th>\n",
       "      <th>Lyrics</th>\n",
       "    </tr>\n",
       "  </thead>\n",
       "  <tbody>\n",
       "    <tr>\n",
       "      <th>3791</th>\n",
       "      <td>bad_religion</td>\n",
       "      <td>I don't need to be a global citizen,\\n'Cuz I'm...</td>\n",
       "    </tr>\n",
       "    <tr>\n",
       "      <th>3792</th>\n",
       "      <td>bad_religion</td>\n",
       "      <td>Infected\\nNow here I go,\\nHope I don't break d...</td>\n",
       "    </tr>\n",
       "    <tr>\n",
       "      <th>3793</th>\n",
       "      <td>bad_religion</td>\n",
       "      <td>I'm going for a walk\\nnot the after dinner kin...</td>\n",
       "    </tr>\n",
       "    <tr>\n",
       "      <th>3794</th>\n",
       "      <td>bad_religion</td>\n",
       "      <td>Father can you hear me?\\nHow have I let you do...</td>\n",
       "    </tr>\n",
       "    <tr>\n",
       "      <th>3795</th>\n",
       "      <td>bad_religion</td>\n",
       "      <td>There's a place where everyone can be happy\\nI...</td>\n",
       "    </tr>\n",
       "    <tr>\n",
       "      <th>3796</th>\n",
       "      <td>bad_religion</td>\n",
       "      <td>Like a rock, like a planet\\nLike a fucking ato...</td>\n",
       "    </tr>\n",
       "    <tr>\n",
       "      <th>3797</th>\n",
       "      <td>bad_religion</td>\n",
       "      <td>I can't believe it,\\nThe way you look sometime...</td>\n",
       "    </tr>\n",
       "    <tr>\n",
       "      <th>3798</th>\n",
       "      <td>bad_religion</td>\n",
       "      <td>culture was the seed of proliferation\\nbut it ...</td>\n",
       "    </tr>\n",
       "    <tr>\n",
       "      <th>3799</th>\n",
       "      <td>bad_religion</td>\n",
       "      <td>see my body, it's nothing to get hung about.\\n...</td>\n",
       "    </tr>\n",
       "    <tr>\n",
       "      <th>3800</th>\n",
       "      <td>bad_religion</td>\n",
       "      <td>Have you been to the desert?\\nHave you walked ...</td>\n",
       "    </tr>\n",
       "  </tbody>\n",
       "</table>\n",
       "</div>"
      ],
      "text/plain": [
       "            Artist                                             Lyrics\n",
       "3791  bad_religion  I don't need to be a global citizen,\\n'Cuz I'm...\n",
       "3792  bad_religion  Infected\\nNow here I go,\\nHope I don't break d...\n",
       "3793  bad_religion  I'm going for a walk\\nnot the after dinner kin...\n",
       "3794  bad_religion  Father can you hear me?\\nHow have I let you do...\n",
       "3795  bad_religion  There's a place where everyone can be happy\\nI...\n",
       "3796  bad_religion  Like a rock, like a planet\\nLike a fucking ato...\n",
       "3797  bad_religion  I can't believe it,\\nThe way you look sometime...\n",
       "3798  bad_religion  culture was the seed of proliferation\\nbut it ...\n",
       "3799  bad_religion  see my body, it's nothing to get hung about.\\n...\n",
       "3800  bad_religion  Have you been to the desert?\\nHave you walked ..."
      ]
     },
     "execution_count": 59,
     "metadata": {
      "tags": []
     },
     "output_type": "execute_result"
    }
   ],
   "source": [
    "df.head(10)"
   ]
  },
  {
   "cell_type": "code",
   "execution_count": 13,
   "metadata": {
    "id": "U44vAwM5ukFG"
   },
   "outputs": [],
   "source": [
    "lyrics = df['Lyrics'].values\n",
    "artist = df['Artist'].values\n"
   ]
  },
  {
   "cell_type": "code",
   "execution_count": 14,
   "metadata": {
    "colab": {
     "base_uri": "https://localhost:8080/"
    },
    "id": "rT1GS16wvHoz",
    "outputId": "5a1394ec-1c2d-430a-a6fb-8be7547022a9"
   },
   "outputs": [
    {
     "data": {
      "text/plain": [
       "((8347,), (928,), (8347,), (928,))"
      ]
     },
     "execution_count": 14,
     "metadata": {
      "tags": []
     },
     "output_type": "execute_result"
    }
   ],
   "source": [
    "from sklearn.model_selection import train_test_split\n",
    "\n",
    "lyrics_train, lyrics_val, artist_train, artist_val = train_test_split(lyrics, artist, test_size=0.1, random_state=100)\n",
    "\n",
    "lyrics_train.shape, lyrics_val.shape, artist_train.shape, artist_val.shape"
   ]
  },
  {
   "cell_type": "code",
   "execution_count": null,
   "metadata": {
    "colab": {
     "base_uri": "https://localhost:8080/"
    },
    "id": "75XXF0dFwg_K",
    "outputId": "68cd97b9-3957-4865-fd4d-72f5bffa0bc1"
   },
   "outputs": [
    {
     "data": {
      "text/plain": [
       "(dtype('O'), dtype('O'))"
      ]
     },
     "execution_count": 13,
     "metadata": {
      "tags": []
     },
     "output_type": "execute_result"
    }
   ],
   "source": [
    "lyrics_train.dtype, artist_train.dtype"
   ]
  },
  {
   "cell_type": "code",
   "execution_count": 15,
   "metadata": {
    "id": "SFEYUa7avs3A"
   },
   "outputs": [],
   "source": [
    "from tensorflow.keras.layers.experimental.preprocessing import TextVectorization\n",
    "vectorizer = TextVectorization(max_tokens=5000, output_sequence_length=400)\n",
    "text_ds = tf.data.Dataset.from_tensor_slices(lyrics_train).batch(128)\n",
    "vectorizer.adapt(text_ds)"
   ]
  },
  {
   "cell_type": "code",
   "execution_count": null,
   "metadata": {
    "colab": {
     "base_uri": "https://localhost:8080/"
    },
    "id": "lmkIxt7ByQtu",
    "outputId": "68d47096-27db-40d7-be92-c1a39082ad87"
   },
   "outputs": [
    {
     "data": {
      "text/plain": [
       "['', '[UNK]', 'you', 'i', 'the']"
      ]
     },
     "execution_count": 14,
     "metadata": {
      "tags": []
     },
     "output_type": "execute_result"
    }
   ],
   "source": [
    "vectorizer.get_vocabulary()[:5]"
   ]
  },
  {
   "cell_type": "code",
   "execution_count": 21,
   "metadata": {
    "id": "G2sY2Rxxvvrr"
   },
   "outputs": [],
   "source": [
    "voc = vectorizer.get_vocabulary()\n",
    "word_index = dict(zip(voc, range(len(voc))))"
   ]
  },
  {
   "cell_type": "code",
   "execution_count": 16,
   "metadata": {
    "id": "L1AxEIXLvyjN"
   },
   "outputs": [],
   "source": [
    "from sklearn.preprocessing import LabelEncoder\n",
    "\n",
    "encoder = LabelEncoder()\n",
    "encoder.fit(artist_train)\n",
    "y_train = encoder.transform(artist_train)\n",
    "y_val = encoder.transform(artist_val)"
   ]
  },
  {
   "cell_type": "code",
   "execution_count": null,
   "metadata": {
    "colab": {
     "base_uri": "https://localhost:8080/"
    },
    "id": "i2meU_mmv65V",
    "outputId": "a5041cb4-3ceb-47dc-f1c0-a39643563fcd"
   },
   "outputs": [
    {
     "data": {
      "text/plain": [
       "((8347,), array([3, 0, 6, ..., 6, 7, 8]))"
      ]
     },
     "execution_count": 67,
     "metadata": {
      "tags": []
     },
     "output_type": "execute_result"
    }
   ],
   "source": [
    "y_train.shape, y_train"
   ]
  },
  {
   "cell_type": "code",
   "execution_count": null,
   "metadata": {
    "colab": {
     "base_uri": "https://localhost:8080/"
    },
    "id": "niMyWsMD0VSV",
    "outputId": "d8a678dd-e77a-406d-a365-a19bd32fb43a"
   },
   "outputs": [
    {
     "data": {
      "text/plain": [
       "((928,),\n",
       " array([3, 8, 6, 5, 3, 4, 4, 5, 4, 1, 7, 9, 3, 4, 9, 3, 4, 5, 8, 7, 0, 8,\n",
       "        8, 4, 9, 6, 7, 0, 3, 8, 1, 6, 8, 3, 7, 1, 0, 7, 6, 1, 7, 4, 8, 7,\n",
       "        5, 1, 4, 7, 8, 1, 6, 6, 4, 9, 7, 7, 6, 4, 9, 4, 2, 0, 9, 4, 4, 6,\n",
       "        0, 1, 1, 7, 4, 7, 5, 3, 3, 2, 4, 3, 0, 7, 8, 6, 4, 4, 9, 4, 7, 5,\n",
       "        7, 2, 4, 3, 6, 3, 7, 1, 6, 5, 6, 5, 9, 9, 4, 6, 1, 4, 7, 4, 0, 9,\n",
       "        9, 1, 6, 7, 6, 4, 6, 6, 6, 7, 1, 1, 0, 7, 0, 9, 1, 7, 9, 2, 7, 5,\n",
       "        9, 7, 3, 7, 4, 1, 9, 6, 7, 1, 7, 1, 6, 7, 3, 6, 7, 3, 4, 7, 1, 5,\n",
       "        7, 7, 7, 8, 3, 9, 9, 2, 7, 9, 7, 1, 5, 7, 6, 9, 3, 6, 8, 2, 3, 4,\n",
       "        1, 7, 3, 1, 1, 9, 5, 8, 3, 6, 3, 9, 5, 6, 5, 5, 4, 1, 7, 3, 0, 8,\n",
       "        2, 3, 1, 0, 7, 6, 5, 7, 4, 0, 2, 1, 0, 1, 7, 2, 2, 4, 2, 2, 4, 3,\n",
       "        1, 1, 3, 6, 7, 7, 7, 4, 9, 1, 7, 1, 8, 9, 8, 9, 4, 8, 7, 5, 4, 8,\n",
       "        8, 8, 0, 3, 5, 1, 6, 8, 4, 3, 8, 7, 1, 1, 2, 7, 3, 7, 6, 8, 4, 3,\n",
       "        2, 7, 7, 7, 5, 5, 2, 0, 2, 8, 8, 4, 0, 7, 4, 6, 9, 3, 9, 9, 3, 3,\n",
       "        5, 7, 5, 9, 6, 5, 6, 8, 5, 7, 6, 6, 7, 7, 5, 2, 7, 7, 1, 5, 4, 3,\n",
       "        5, 7, 1, 1, 6, 6, 9, 5, 9, 6, 2, 7, 6, 3, 7, 8, 0, 1, 0, 8, 7, 5,\n",
       "        1, 0, 6, 6, 4, 4, 3, 2, 7, 2, 2, 7, 9, 5, 2, 3, 3, 3, 7, 6, 4, 1,\n",
       "        3, 4, 7, 3, 5, 1, 5, 4, 6, 5, 9, 8, 3, 4, 2, 0, 9, 2, 7, 9, 8, 6,\n",
       "        0, 3, 6, 6, 2, 7, 0, 6, 3, 9, 2, 6, 5, 5, 5, 8, 8, 6, 4, 7, 8, 8,\n",
       "        0, 3, 7, 5, 0, 4, 8, 2, 9, 7, 3, 1, 2, 8, 6, 7, 9, 2, 7, 5, 8, 7,\n",
       "        5, 1, 1, 7, 7, 6, 6, 4, 7, 9, 0, 6, 1, 7, 7, 9, 3, 2, 1, 2, 3, 9,\n",
       "        9, 4, 5, 3, 8, 1, 3, 8, 4, 9, 4, 9, 6, 4, 0, 3, 5, 2, 6, 4, 5, 6,\n",
       "        1, 3, 4, 4, 6, 7, 3, 0, 3, 2, 3, 3, 5, 0, 5, 8, 6, 4, 9, 6, 3, 8,\n",
       "        9, 2, 9, 0, 9, 4, 7, 7, 7, 2, 2, 7, 4, 2, 1, 2, 2, 0, 6, 3, 2, 7,\n",
       "        7, 7, 4, 2, 6, 3, 9, 2, 2, 7, 2, 3, 1, 0, 5, 7, 8, 8, 7, 3, 7, 7,\n",
       "        5, 5, 8, 6, 3, 7, 5, 6, 7, 1, 8, 5, 3, 1, 3, 1, 7, 7, 9, 8, 6, 0,\n",
       "        7, 1, 0, 4, 3, 9, 0, 7, 8, 7, 1, 3, 6, 5, 1, 5, 0, 5, 7, 9, 0, 3,\n",
       "        3, 5, 5, 4, 9, 7, 7, 7, 2, 6, 6, 4, 7, 7, 4, 5, 8, 8, 3, 8, 7, 5,\n",
       "        2, 4, 7, 2, 8, 8, 7, 7, 1, 3, 1, 7, 3, 4, 6, 1, 5, 1, 9, 1, 3, 1,\n",
       "        2, 8, 6, 0, 8, 8, 2, 0, 7, 1, 4, 3, 6, 3, 5, 8, 0, 7, 7, 0, 6, 7,\n",
       "        7, 9, 6, 3, 6, 9, 6, 9, 2, 6, 6, 2, 7, 9, 7, 9, 3, 3, 9, 3, 7, 1,\n",
       "        5, 9, 2, 0, 7, 7, 5, 9, 8, 2, 7, 6, 7, 3, 4, 6, 8, 7, 5, 3, 2, 6,\n",
       "        3, 0, 1, 2, 4, 4, 9, 9, 6, 2, 8, 3, 5, 2, 7, 7, 3, 1, 2, 0, 9, 3,\n",
       "        3, 4, 8, 9, 7, 6, 7, 5, 0, 4, 0, 7, 6, 1, 3, 9, 6, 8, 2, 1, 5, 6,\n",
       "        3, 6, 3, 3, 7, 9, 0, 7, 7, 6, 1, 6, 4, 9, 7, 5, 7, 8, 3, 0, 7, 3,\n",
       "        8, 2, 2, 8, 8, 6, 7, 5, 5, 7, 5, 1, 7, 1, 9, 3, 4, 6, 8, 3, 4, 0,\n",
       "        5, 7, 2, 6, 2, 3, 1, 6, 7, 0, 5, 7, 5, 1, 2, 3, 8, 3, 4, 8, 1, 0,\n",
       "        4, 9, 8, 9, 5, 0, 8, 5, 1, 8, 1, 4, 8, 2, 0, 2, 3, 6, 9, 7, 8, 7,\n",
       "        3, 1, 1, 1, 6, 6, 6, 5, 0, 7, 0, 8, 5, 1, 1, 0, 0, 4, 3, 7, 7, 8,\n",
       "        4, 0, 8, 4, 5, 0, 2, 1, 2, 1, 7, 4, 2, 6, 2, 4, 0, 7, 1, 3, 6, 3,\n",
       "        7, 9, 8, 9, 8, 4, 5, 5, 7, 4, 4, 4, 6, 8, 3, 3, 9, 0, 0, 8, 9, 1,\n",
       "        8, 8, 4, 6, 0, 8, 2, 5, 5, 3, 6, 1, 3, 8, 6, 9, 8, 0, 8, 5, 8, 6,\n",
       "        2, 3, 6, 6, 5, 8, 4, 4, 7, 7, 9, 6, 8, 5, 4, 2, 7, 3, 6, 4, 3, 9,\n",
       "        1, 1, 1, 0]))"
      ]
     },
     "execution_count": 68,
     "metadata": {
      "tags": []
     },
     "output_type": "execute_result"
    }
   ],
   "source": [
    "y_val.shape, y_val"
   ]
  },
  {
   "cell_type": "code",
   "execution_count": null,
   "metadata": {
    "colab": {
     "base_uri": "https://localhost:8080/"
    },
    "id": "nZHCaKst0Mcu",
    "outputId": "faa2da4f-f078-4bde-d6da-2c3d082d9ca7"
   },
   "outputs": [
    {
     "name": "stdout",
     "output_type": "stream",
     "text": [
      "[[  0  64]\n",
      " [  1  88]\n",
      " [  2  73]\n",
      " [  3 106]\n",
      " [  4  90]\n",
      " [  5  83]\n",
      " [  6 105]\n",
      " [  7 152]\n",
      " [  8  88]\n",
      " [  9  79]]\n"
     ]
    }
   ],
   "source": [
    "(unique, counts) = np.unique(y_val, return_counts=True)\n",
    "frequencies = np.asarray((unique, counts)).T\n",
    "\n",
    "print(frequencies)"
   ]
  },
  {
   "cell_type": "code",
   "execution_count": 17,
   "metadata": {
    "id": "b5MctgyP0lwe"
   },
   "outputs": [],
   "source": [
    "X_train = vectorizer(lyrics_train)  # Transforms each text in texts to a sequence of integers with its corresponding integer value from the word_index dictionary\n",
    "X_val = vectorizer(lyrics_val)\n"
   ]
  },
  {
   "cell_type": "code",
   "execution_count": null,
   "metadata": {
    "colab": {
     "base_uri": "https://localhost:8080/"
    },
    "id": "OA5rRH430pUT",
    "outputId": "7cb750ee-468e-4433-e1cb-1ff4f57933cc"
   },
   "outputs": [
    {
     "name": "stdout",
     "output_type": "stream",
     "text": [
      "tf.Tensor(\n",
      "[3504  583   75  671  583    1 4498 1517 1146  583  208   25   39   71\n",
      "   91   84   64   24  295  686    6 1182   10   50    3   17    2   26\n",
      "  102   51   74    6  181    2   51   74    6  181    2    3   35 3565\n",
      "    4  815 2340   10   50  443    9  177  147  214   26   36    3   63\n",
      "   77   49   40  175   13 1017   19   13   40  175   10 1017    3  135\n",
      "  605   59    9  108    6  108 4002  674 1571  161   40    3   61   26\n",
      "   41    3  121    6  752    4 2392   80    4    1    3  135   61   10\n",
      "   39   74    7  300   28   35  888  183    2   35 1100    1    3   23\n",
      "    2   58    7 1825  114   35   73    2 2925  825  161    7 2148   40\n",
      "   16  380   61   22   17   22   81 1063   81 4498   19    2  122   38\n",
      "   22  268   31    8  411    3  200   10  716    2  402    3   75   18\n",
      "   31    2   19    3   75   23   22   41   33  567   42   10  135  387\n",
      "    8   24   41    2  119    3   23   62    3   18   14    9    1    5\n",
      "    1    5   98    1   19    4  688   39 1365  102   37  137   20    2\n",
      "    3  135  605   59    9  108    6  108 4002  674 1571  161   40    3\n",
      "   61   26   41    3  121    6  752    4 2392   80    4    1    3  135\n",
      "   61   10   39   74    7  300   28   35  888  183    2   35 1100    1\n",
      "    3   23    2   58    7 1825  114   35   73    2 2925  825  161    7\n",
      " 2148   40   16  380   61   22   17   22   81 1063   81 4498    0    0\n",
      "    0    0    0    0    0    0    0    0    0    0    0    0    0    0\n",
      "    0    0    0    0    0    0    0    0    0    0    0    0    0    0\n",
      "    0    0    0    0    0    0    0    0    0    0    0    0    0    0\n",
      "    0    0    0    0    0    0    0    0    0    0    0    0    0    0\n",
      "    0    0    0    0    0    0    0    0    0    0    0    0    0    0\n",
      "    0    0    0    0    0    0    0    0    0    0    0    0    0    0\n",
      "    0    0    0    0    0    0    0    0    0    0    0    0    0    0\n",
      "    0    0    0    0    0    0    0    0    0    0    0    0    0    0\n",
      "    0    0    0    0    0    0    0    0    0    0    0    0    0    0\n",
      "    0    0    0    0    0    0    0    0], shape=(400,), dtype=int64)\n"
     ]
    }
   ],
   "source": [
    "print(X_train[0])"
   ]
  },
  {
   "cell_type": "code",
   "execution_count": null,
   "metadata": {
    "colab": {
     "base_uri": "https://localhost:8080/"
    },
    "id": "PryCgAx00y4X",
    "outputId": "d4419d22-fb6a-444f-d562-933a50170356"
   },
   "outputs": [
    {
     "name": "stdout",
     "output_type": "stream",
     "text": [
      "400\n"
     ]
    }
   ],
   "source": [
    "def FindMaxLength(lst):\n",
    "    \n",
    "    maxLength = max(len(x) for x in lst )\n",
    "  \n",
    "    return maxLength\n",
    "\n",
    "print(FindMaxLength(X_train))"
   ]
  },
  {
   "cell_type": "code",
   "execution_count": 18,
   "metadata": {
    "colab": {
     "base_uri": "https://localhost:8080/"
    },
    "id": "QQk6Jpsp0__G",
    "outputId": "9d6264c4-4b48-4bb1-9899-6beb4a4859ac"
   },
   "outputs": [
    {
     "name": "stdout",
     "output_type": "stream",
     "text": [
      "--2021-05-07 01:19:35--  http://nlp.stanford.edu/data/glove.6B.zip\n",
      "Resolving nlp.stanford.edu (nlp.stanford.edu)... 171.64.67.140\n",
      "Connecting to nlp.stanford.edu (nlp.stanford.edu)|171.64.67.140|:80... connected.\n",
      "HTTP request sent, awaiting response... 302 Found\n",
      "Location: https://nlp.stanford.edu/data/glove.6B.zip [following]\n",
      "--2021-05-07 01:19:35--  https://nlp.stanford.edu/data/glove.6B.zip\n",
      "Connecting to nlp.stanford.edu (nlp.stanford.edu)|171.64.67.140|:443... connected.\n",
      "HTTP request sent, awaiting response... 301 Moved Permanently\n",
      "Location: http://downloads.cs.stanford.edu/nlp/data/glove.6B.zip [following]\n",
      "--2021-05-07 01:19:35--  http://downloads.cs.stanford.edu/nlp/data/glove.6B.zip\n",
      "Resolving downloads.cs.stanford.edu (downloads.cs.stanford.edu)... 171.64.64.22\n",
      "Connecting to downloads.cs.stanford.edu (downloads.cs.stanford.edu)|171.64.64.22|:80... connected.\n",
      "HTTP request sent, awaiting response... 200 OK\n",
      "Length: 862182613 (822M) [application/zip]\n",
      "Saving to: ‘glove.6B.zip’\n",
      "\n",
      "glove.6B.zip        100%[===================>] 822.24M  5.27MB/s    in 2m 40s  \n",
      "\n",
      "2021-05-07 01:22:15 (5.14 MB/s) - ‘glove.6B.zip’ saved [862182613/862182613]\n",
      "\n"
     ]
    }
   ],
   "source": [
    "!wget http://nlp.stanford.edu/data/glove.6B.zip\n",
    "!unzip -q glove.6B.zip"
   ]
  },
  {
   "cell_type": "code",
   "execution_count": 19,
   "metadata": {
    "colab": {
     "base_uri": "https://localhost:8080/"
    },
    "id": "5ItOLJMV04ZZ",
    "outputId": "c8fc085b-fae1-4164-9578-bc301c407f4b"
   },
   "outputs": [
    {
     "name": "stdout",
     "output_type": "stream",
     "text": [
      "Found 400000 word vectors.\n"
     ]
    }
   ],
   "source": [
    "import os\n",
    "import pathlib\n",
    "\n",
    "embeddings_index = {}\n",
    "f = open('glove.6B.200d.txt', encoding='utf-8')\n",
    "for line in f:\n",
    "        word, coefs = line.split(maxsplit=1)\n",
    "        coefs = np.fromstring(coefs, \"f\", sep=\" \")\n",
    "        embeddings_index[word] = coefs\n",
    "\n",
    "print(\"Found %s word vectors.\" % len(embeddings_index))"
   ]
  },
  {
   "cell_type": "code",
   "execution_count": 22,
   "metadata": {
    "colab": {
     "base_uri": "https://localhost:8080/"
    },
    "id": "fKXxlUQe1TLD",
    "outputId": "16902dae-703d-4841-f6ca-f3c5cd0d0ba2"
   },
   "outputs": [
    {
     "name": "stdout",
     "output_type": "stream",
     "text": [
      "Converted 4823 words (177 misses)\n"
     ]
    }
   ],
   "source": [
    "num_tokens = len(voc) + 1\n",
    "embedding_dim = 200\n",
    "hits = 0\n",
    "misses = 0\n",
    "\n",
    "# Prepare embedding matrix\n",
    "embedding_matrix = np.zeros((num_tokens, embedding_dim))\n",
    "for word, i in word_index.items():\n",
    "    embedding_vector = embeddings_index.get(word)\n",
    "    if embedding_vector is not None:\n",
    "        # Words not found in embedding index will be all-zeros.\n",
    "        # This includes the representation for \"padding\" and \"OOV\"\n",
    "        embedding_matrix[i] = embedding_vector\n",
    "        hits += 1\n",
    "    else:\n",
    "        misses += 1\n",
    "print(\"Converted %d words (%d misses)\" % (hits, misses))"
   ]
  },
  {
   "cell_type": "code",
   "execution_count": 23,
   "metadata": {
    "id": "-zE3jbxw1UIP"
   },
   "outputs": [],
   "source": [
    "from tensorflow.keras.layers import Embedding\n",
    "\n",
    "embedding_layer = Embedding(\n",
    "    num_tokens,\n",
    "    embedding_dim,\n",
    "    embeddings_initializer=keras.initializers.Constant(embedding_matrix),\n",
    "    trainable=True,\n",
    ")"
   ]
  },
  {
   "cell_type": "code",
   "execution_count": 24,
   "metadata": {
    "colab": {
     "base_uri": "https://localhost:8080/"
    },
    "id": "CR6eh0c07rLN",
    "outputId": "190ece65-abd7-46d8-fb95-5f2d572daa37"
   },
   "outputs": [
    {
     "name": "stdout",
     "output_type": "stream",
     "text": [
      "Epoch 1/10\n",
      "131/131 [==============================] - 38s 50ms/step - loss: 2.0784 - acc: 0.2656 - val_loss: 1.9078 - val_acc: 0.2974\n",
      "Epoch 2/10\n",
      "131/131 [==============================] - 6s 45ms/step - loss: 1.7711 - acc: 0.3521 - val_loss: 1.7310 - val_acc: 0.3373\n",
      "Epoch 3/10\n",
      "131/131 [==============================] - 6s 46ms/step - loss: 1.5277 - acc: 0.4599 - val_loss: 1.6731 - val_acc: 0.4321\n",
      "Epoch 4/10\n",
      "131/131 [==============================] - 6s 46ms/step - loss: 1.2769 - acc: 0.5603 - val_loss: 1.5401 - val_acc: 0.4828\n",
      "Epoch 5/10\n",
      "131/131 [==============================] - 6s 47ms/step - loss: 1.0636 - acc: 0.6396 - val_loss: 1.5133 - val_acc: 0.5226\n",
      "Epoch 6/10\n",
      "131/131 [==============================] - 6s 46ms/step - loss: 0.8947 - acc: 0.6953 - val_loss: 1.3595 - val_acc: 0.5603\n",
      "Epoch 7/10\n",
      "131/131 [==============================] - 6s 46ms/step - loss: 0.7266 - acc: 0.7560 - val_loss: 1.2386 - val_acc: 0.6250\n",
      "Epoch 8/10\n",
      "131/131 [==============================] - 6s 46ms/step - loss: 0.6169 - acc: 0.7954 - val_loss: 1.3706 - val_acc: 0.6250\n",
      "Epoch 00008: early stopping\n"
     ]
    }
   ],
   "source": [
    "from keras.callbacks import EarlyStopping\n",
    "\n",
    "\n",
    "model = tf.keras.models.load_model('/content/drive/MyDrive/Colab Notebooks/model_SingleL.h5')\n",
    "es = EarlyStopping(monitor='val_loss', mode='min', verbose=1)\n",
    "mod_test =model.fit(X_train,y_train, batch_size=64, epochs=10, validation_data=(X_val,y_val),callbacks=[es])"
   ]
  },
  {
   "cell_type": "code",
   "execution_count": 25,
   "metadata": {
    "id": "6thRKXPzNHJo"
   },
   "outputs": [],
   "source": [
    "model.save('lstmtfl.h5')"
   ]
  },
  {
   "cell_type": "code",
   "execution_count": null,
   "metadata": {
    "colab": {
     "base_uri": "https://localhost:8080/"
    },
    "id": "ZMlmniKnMoLG",
    "outputId": "c0b91cee-9c69-4ae1-d067-8d3d65f235f9"
   },
   "outputs": [
    {
     "name": "stdout",
     "output_type": "stream",
     "text": [
      "Training Accuracy: 0.7968\n",
      "validation Accuracy:  0.5991\n"
     ]
    }
   ],
   "source": [
    "loss, accuracy = model.evaluate(X_train, y_train, verbose=False)\n",
    "print(\"Training Accuracy: {:.4f}\".format(accuracy))\n",
    "loss, accuracy = model.evaluate(X_val, y_val, verbose=False)\n",
    "print(\"validation Accuracy:  {:.4f}\".format(accuracy))"
   ]
  },
  {
   "cell_type": "code",
   "execution_count": null,
   "metadata": {
    "colab": {
     "base_uri": "https://localhost:8080/"
    },
    "id": "rm-Df7b5MtJ4",
    "outputId": "47c09c4d-15ba-4f92-a27f-6cad8cfd30ef"
   },
   "outputs": [
    {
     "name": "stdout",
     "output_type": "stream",
     "text": [
      "[[1.2199609e-08 1.4094957e-03 1.1857445e-03 ... 1.4755252e-03\n",
      "  1.1122129e-03 8.8469608e-04]\n",
      " [9.7155082e-01 6.9270953e-07 7.8308638e-03 ... 9.9372948e-05\n",
      "  8.9866859e-05 4.3132538e-03]\n",
      " [9.4115734e-03 1.9849463e-01 6.2013965e-02 ... 5.2551989e-02\n",
      "  3.0951244e-01 9.9035040e-02]\n",
      " ...\n",
      " [2.5030726e-05 9.3926296e-02 6.3269455e-03 ... 3.8149808e-02\n",
      "  1.3873946e-02 5.3044189e-02]\n",
      " [4.0823483e-10 1.3095730e-04 3.4517459e-08 ... 9.9801469e-01\n",
      "  5.5161794e-04 2.2798097e-04]\n",
      " [4.8080565e-05 3.6401615e-01 1.4242223e-03 ... 2.7544230e-01\n",
      "  1.3833526e-01 1.8551730e-02]]\n",
      "[['bad religion' '709']\n",
      " ['bee gees' '909']\n",
      " ['beyonce' '664']\n",
      " ['chris brown' '1178']\n",
      " ['ella fitzgerald' '824']\n",
      " ['elton john' '572']\n",
      " ['elvis costello' '747']\n",
      " ['elvis presley' '1435']\n",
      " ['glee' '839']\n",
      " ['the rolling stones' '470']]\n"
     ]
    }
   ],
   "source": [
    "prediction = model.predict(X_train)\n",
    "\n",
    "labels = ['bad religion', 'bee gees', 'beyonce', 'chris brown', 'ella fitzgerald', 'elton john', 'elvis costello', 'elvis presley', 'glee', 'the rolling stones']\n",
    "print(prediction)\n",
    "pred_str = []\n",
    "for i in range(8347):\n",
    "  pred_str.append(labels[np.argmax(prediction[i])])\n",
    "\n",
    "\n",
    "(unique, counts) = np.unique(pred_str, return_counts=True)\n",
    "frequencies = np.asarray((unique, counts)).T\n",
    "\n",
    "print(frequencies)"
   ]
  },
  {
   "cell_type": "code",
   "execution_count": null,
   "metadata": {
    "colab": {
     "base_uri": "https://localhost:8080/"
    },
    "id": "jFN0Jd6WO6yX",
    "outputId": "51ed9c57-07fb-4f6d-bf22-1e77dbe73c77"
   },
   "outputs": [
    {
     "name": "stdout",
     "output_type": "stream",
     "text": [
      "[[1.20740323e-19 5.16710156e-12 1.03835891e-10 ... 5.98329570e-05\n",
      "  1.43649270e-08 2.17969571e-08]\n",
      " [1.09899374e-04 3.66530657e-01 2.34725308e-02 ... 5.67903146e-02\n",
      "  1.18681237e-01 3.22115310e-02]\n",
      " [1.59461226e-04 5.11186540e-01 4.82579134e-03 ... 5.74337281e-02\n",
      "  1.24350727e-01 3.61848772e-02]\n",
      " ...\n",
      " [4.73456166e-04 2.01499149e-01 2.03059092e-02 ... 3.84292863e-02\n",
      "  6.05450869e-01 4.98366654e-02]\n",
      " [9.19759199e-02 9.77465734e-02 1.22665249e-01 ... 6.51062727e-02\n",
      "  1.15334108e-01 1.30282968e-01]\n",
      " [7.99741685e-01 1.35854702e-04 6.09875135e-02 ... 2.43738946e-03\n",
      "  2.29082280e-03 3.06914914e-02]]\n",
      "[['bad_religion' '56']\n",
      " ['bee_gees' '84']\n",
      " ['beyonce' '57']\n",
      " ['chris_brown' '85']\n",
      " ['ella_fitzgerald' '79']\n",
      " ['elton_john' '51']\n",
      " ['elvis_costello' '74']\n",
      " ['elvis_presley' '113']\n",
      " ['glee' '70']\n",
      " ['the_rolling_stones' '31']]\n"
     ]
    }
   ],
   "source": [
    "modelnew = tf.keras.models.load_model('lstmtfl.h5')\n",
    "prediction = modelnew.predict(X_val)\n",
    "\n",
    "labels = ['bad_religion', 'bee_gees', 'beyonce', 'chris_brown', 'ella_fitzgerald', 'elton_john', 'elvis_costello', 'elvis_presley', 'glee', 'the_rolling_stones']\n",
    "print(prediction)\n",
    "pred_str = []\n",
    "for i in range(700):\n",
    "  pred_str.append(labels[np.argmax(prediction[i])])\n",
    "(unique, counts) = np.unique(pred_str, return_counts=True)\n",
    "frequencies = np.asarray((unique, counts)).T\n",
    "\n",
    "print(frequencies)"
   ]
  },
  {
   "cell_type": "code",
   "execution_count": null,
   "metadata": {
    "colab": {
     "base_uri": "https://localhost:8080/",
     "height": 939
    },
    "id": "A0bgkwUENfnN",
    "outputId": "cdb5a198-2854-4bf9-9a03-2890c95359f3"
   },
   "outputs": [
    {
     "name": "stdout",
     "output_type": "stream",
     "text": [
      "Collecting plot_keras_history\n",
      "  Downloading https://files.pythonhosted.org/packages/73/55/183a10ac8b62ca0411bd93286d394ce65d952e09b8d51d9706a4818afe9c/plot_keras_history-1.1.29.tar.gz\n",
      "Requirement already satisfied: matplotlib in /usr/local/lib/python3.7/dist-packages (from plot_keras_history) (3.2.2)\n",
      "Requirement already satisfied: pandas in /usr/local/lib/python3.7/dist-packages (from plot_keras_history) (1.1.5)\n",
      "Requirement already satisfied: scipy in /usr/local/lib/python3.7/dist-packages (from plot_keras_history) (1.4.1)\n",
      "Collecting sanitize_ml_labels\n",
      "  Downloading https://files.pythonhosted.org/packages/57/2c/c97c52a183b3da277a6ca276a9587ea011c5f7bcce0b192d1eaf7eb5084d/sanitize_ml_labels-1.0.26.tar.gz\n",
      "Requirement already satisfied: kiwisolver>=1.0.1 in /usr/local/lib/python3.7/dist-packages (from matplotlib->plot_keras_history) (1.3.1)\n",
      "Requirement already satisfied: pyparsing!=2.0.4,!=2.1.2,!=2.1.6,>=2.0.1 in /usr/local/lib/python3.7/dist-packages (from matplotlib->plot_keras_history) (2.4.7)\n",
      "Requirement already satisfied: python-dateutil>=2.1 in /usr/local/lib/python3.7/dist-packages (from matplotlib->plot_keras_history) (2.8.1)\n",
      "Requirement already satisfied: cycler>=0.10 in /usr/local/lib/python3.7/dist-packages (from matplotlib->plot_keras_history) (0.10.0)\n",
      "Requirement already satisfied: numpy>=1.11 in /usr/local/lib/python3.7/dist-packages (from matplotlib->plot_keras_history) (1.19.5)\n",
      "Requirement already satisfied: pytz>=2017.2 in /usr/local/lib/python3.7/dist-packages (from pandas->plot_keras_history) (2018.9)\n",
      "Collecting compress_json\n",
      "  Downloading https://files.pythonhosted.org/packages/c0/9d/1a79dbc3b9d69c57be363b4cc8bd6f278f919a0973f46c7bb831438c9333/compress_json-1.0.4.tar.gz\n",
      "Requirement already satisfied: six>=1.5 in /usr/local/lib/python3.7/dist-packages (from python-dateutil>=2.1->matplotlib->plot_keras_history) (1.15.0)\n",
      "Building wheels for collected packages: plot-keras-history, sanitize-ml-labels, compress-json\n",
      "  Building wheel for plot-keras-history (setup.py) ... \u001b[?25l\u001b[?25hdone\n",
      "  Created wheel for plot-keras-history: filename=plot_keras_history-1.1.29-cp37-none-any.whl size=8614 sha256=88ce1ad6dacff4fc466782dba799df7f94ad85482fd237f5d46e08564b99e1b3\n",
      "  Stored in directory: /root/.cache/pip/wheels/8b/cb/fb/cbeba24d72e736b8987b7d0dc37afc0e76f3c16e544ceff727\n",
      "  Building wheel for sanitize-ml-labels (setup.py) ... \u001b[?25l\u001b[?25hdone\n",
      "  Created wheel for sanitize-ml-labels: filename=sanitize_ml_labels-1.0.26-cp37-none-any.whl size=7610 sha256=96869d3e17ec6a2d805891d4551c09acb143318ea45dd24d612d8dab59c08edc\n",
      "  Stored in directory: /root/.cache/pip/wheels/2a/62/31/d348320becc60729f508a2c5aad445b94d7543c5cb577cfb9d\n",
      "  Building wheel for compress-json (setup.py) ... \u001b[?25l\u001b[?25hdone\n",
      "  Created wheel for compress-json: filename=compress_json-1.0.4-cp37-none-any.whl size=4586 sha256=510544c61d6700633e47cd2367017328ec7e011c63e7227baee6b32e9dfce5e6\n",
      "  Stored in directory: /root/.cache/pip/wheels/83/ec/21/51460dd508e4a152c0643946c21fae84eb3391171164d35745\n",
      "Successfully built plot-keras-history sanitize-ml-labels compress-json\n",
      "Installing collected packages: compress-json, sanitize-ml-labels, plot-keras-history\n",
      "Successfully installed compress-json-1.0.4 plot-keras-history-1.1.29 sanitize-ml-labels-1.0.26\n"
     ]
    },
    {
     "data": {
      "text/plain": [
       "(<Figure size 720x360 with 2 Axes>,\n",
       " array([<matplotlib.axes._subplots.AxesSubplot object at 0x7fc6cb51bcd0>,\n",
       "        <matplotlib.axes._subplots.AxesSubplot object at 0x7fc6aa1bec10>],\n",
       "       dtype=object))"
      ]
     },
     "execution_count": 28,
     "metadata": {
      "tags": []
     },
     "output_type": "execute_result"
    },
    {
     "data": {
      "image/png": "[encoded data removed]",
      "text/plain": [
       "<Figure size 720x360 with 2 Axes>"
      ]
     },
     "metadata": {
      "needs_background": "light",
      "tags": []
     },
     "output_type": "display_data"
    }
   ],
   "source": [
    "import matplotlib.pyplot as plt\n",
    "from plotly.offline import iplot\n",
    "!pip install plot_keras_history\n",
    "from plot_keras_history import plot_history\n",
    "plot_history(mod_test)"
   ]
  },
  {
   "cell_type": "code",
   "execution_count": null,
   "metadata": {
    "colab": {
     "base_uri": "https://localhost:8080/"
    },
    "id": "wGFfLdi_L9gO",
    "outputId": "db2a14ff-e014-4f92-8664-5aff4dbdaa14"
   },
   "outputs": [
    {
     "name": "stdout",
     "output_type": "stream",
     "text": [
      "Epoch 1/10\n",
      "131/131 [==============================] - 45s 92ms/step - loss: 2.1220 - acc: 0.2340 - val_loss: 1.9663 - val_acc: 0.2672\n",
      "Epoch 2/10\n",
      "131/131 [==============================] - 11s 84ms/step - loss: 1.8538 - acc: 0.3199 - val_loss: 1.7835 - val_acc: 0.3287\n",
      "Epoch 3/10\n",
      "131/131 [==============================] - 11s 85ms/step - loss: 1.6881 - acc: 0.3860 - val_loss: 1.7293 - val_acc: 0.3966\n",
      "Epoch 4/10\n",
      "131/131 [==============================] - 11s 85ms/step - loss: 1.5285 - acc: 0.4748 - val_loss: 1.6060 - val_acc: 0.4472\n",
      "Epoch 5/10\n",
      "131/131 [==============================] - 11s 85ms/step - loss: 1.3761 - acc: 0.5261 - val_loss: 1.5068 - val_acc: 0.4925\n",
      "Epoch 6/10\n",
      "131/131 [==============================] - 11s 85ms/step - loss: 1.2555 - acc: 0.5692 - val_loss: 1.4776 - val_acc: 0.4806\n",
      "Epoch 7/10\n",
      "131/131 [==============================] - 11s 85ms/step - loss: 1.1367 - acc: 0.6151 - val_loss: 1.5078 - val_acc: 0.4957\n",
      "Epoch 00007: early stopping\n"
     ]
    }
   ],
   "source": [
    "from keras.callbacks import EarlyStopping\n",
    "from google_drive_downloader import GoogleDriveDownloader as gdd\n",
    "gdd.download_file_from_google_drive(file_id='1kUigTOFrNfxGPzQoLsuhN4dXEJa1w5Al', dest_path='./model/modeltl.h5')\n",
    "model = tf.keras.models.load_model('./model/modeltl.h5')\n",
    "es = EarlyStopping(monitor='val_loss', mode='min', verbose=1)\n",
    "mod_test =model.fit(X_train,y_train, batch_size=64, epochs=10, validation_data=(X_val,y_val),callbacks=[es])"
   ]
  },
  {
   "cell_type": "code",
   "execution_count": null,
   "metadata": {
    "colab": {
     "base_uri": "https://localhost:8080/"
    },
    "id": "k_LLChfj_jxW",
    "outputId": "17b59262-2eaa-4396-9089-67c7d42aa10e"
   },
   "outputs": [
    {
     "name": "stdout",
     "output_type": "stream",
     "text": [
      "Model: \"sequential_2\"\n",
      "_________________________________________________________________\n",
      "Layer (type)                 Output Shape              Param #   \n",
      "=================================================================\n",
      "embedding_3 (Embedding)      (None, 400, 200)          1000000   \n",
      "_________________________________________________________________\n",
      "simple_rnn_2 (SimpleRNN)     (None, 200)               80200     \n",
      "_________________________________________________________________\n",
      "dense_4 (Dense)              (None, 100)               20100     \n",
      "_________________________________________________________________\n",
      "dropout_2 (Dropout)          (None, 100)               0         \n",
      "_________________________________________________________________\n",
      "dense_5 (Dense)              (None, 10)                1010      \n",
      "=================================================================\n",
      "Total params: 1,101,310\n",
      "Trainable params: 1,101,310\n",
      "Non-trainable params: 0\n",
      "_________________________________________________________________\n"
     ]
    }
   ],
   "source": [
    "\n",
    "from google_drive_downloader import GoogleDriveDownloader as gdd\n",
    "gdd.download_file_from_google_drive(file_id='1kUigTOFrNfxGPzQoLsuhN4dXEJa1w5Al', dest_path='./model/modelrnnTF.h5')\n",
    "model = tf.keras.models.load_model('./model/modelrnnTF.h5')\n",
    "model.summary()"
   ]
  },
  {
   "cell_type": "code",
   "execution_count": null,
   "metadata": {
    "colab": {
     "base_uri": "https://localhost:8080/"
    },
    "id": "D7lKkxrmIvX_",
    "outputId": "8ab03199-6e1e-4a89-a1e7-6dc608951149"
   },
   "outputs": [
    {
     "name": "stdout",
     "output_type": "stream",
     "text": [
      "Epoch 1/10\n",
      "131/131 [==============================] - 14s 93ms/step - loss: 2.1335 - acc: 0.2377 - val_loss: 1.9366 - val_acc: 0.2705\n",
      "Epoch 2/10\n",
      "131/131 [==============================] - 11s 85ms/step - loss: 1.8446 - acc: 0.3243 - val_loss: 1.8791 - val_acc: 0.3222\n",
      "Epoch 3/10\n",
      "131/131 [==============================] - 11s 86ms/step - loss: 1.7462 - acc: 0.3844 - val_loss: 1.9183 - val_acc: 0.2963\n",
      "Epoch 00003: early stopping\n"
     ]
    }
   ],
   "source": [
    "from tensorflow.keras.models import load_model\n",
    "from tensorflow.keras.models import load_model\n",
    "from keras.callbacks import EarlyStopping\n",
    "model1=keras.models.load_model('/content/drive/MyDrive/Colab Notebooks/model_MultiL.h5')\n",
    "es = EarlyStopping(monitor='val_loss', mode='min', verbose=1)\n",
    "mod_test =model1.fit(X_train,y_train, batch_size=64, epochs=10, validation_data=(X_val,y_val),callbacks=[es])"
   ]
  },
  {
   "cell_type": "code",
   "execution_count": null,
   "metadata": {
    "colab": {
     "base_uri": "https://localhost:8080/"
    },
    "id": "uJmQGFFKWwAG",
    "outputId": "38bc2e28-37f2-408e-a758-d3504de8372b"
   },
   "outputs": [
    {
     "name": "stdout",
     "output_type": "stream",
     "text": [
      "Training Accuracy: 0.2524\n",
      "validation Accuracy:  0.2274\n"
     ]
    }
   ],
   "source": [
    "loss, accuracy = model.evaluate(X_train, y_train, verbose=False)\n",
    "print(\"Training Accuracy: {:.4f}\".format(accuracy))\n",
    "loss, accuracy = model.evaluate(X_val, y_val, verbose=False)\n",
    "print(\"validation Accuracy:  {:.4f}\".format(accuracy))"
   ]
  },
  {
   "cell_type": "code",
   "execution_count": null,
   "metadata": {
    "id": "ruuVVY2F-UIf"
   },
   "outputs": [],
   "source": [
    "model.save('modeltl.h5')"
   ]
  },
  {
   "cell_type": "code",
   "execution_count": null,
   "metadata": {
    "id": "NYk32cWlMY8v"
   },
   "outputs": [],
   "source": []
  },
  {
   "cell_type": "code",
   "execution_count": null,
   "metadata": {
    "colab": {
     "base_uri": "https://localhost:8080/"
    },
    "id": "9dt66oMwMhYQ",
    "outputId": "0c83b5cc-d1fd-4354-f223-a4d2478c3e18"
   },
   "outputs": [
    {
     "name": "stdout",
     "output_type": "stream",
     "text": [
      "[[0.00042005 0.00046018 0.10511097 ... 0.00229061 0.01853838 0.00232747]\n",
      " [0.09851405 0.12625805 0.04641497 ... 0.20145546 0.06334718 0.09822866]\n",
      " [0.09851405 0.12625805 0.04641497 ... 0.20145546 0.06334718 0.09822866]\n",
      " ...\n",
      " [0.06922794 0.11141008 0.08968391 ... 0.18996823 0.08617269 0.10948461]\n",
      " [0.09851406 0.12625805 0.04641497 ... 0.20145546 0.06334719 0.09822867]\n",
      " [0.09851406 0.12625805 0.04641497 ... 0.20145546 0.06334719 0.09822867]]\n",
      "['ella_fitzgerald', 'bad_religion', 'bad_religion', 'bad_religion', 'bad_religion', 'bad_religion', 'bad_religion', 'bad_religion', 'bad_religion', 'bad_religion', 'bad_religion', 'bad_religion', 'bad_religion', 'bad_religion', 'bad_religion', 'ella_fitzgerald', 'bad_religion', 'bad_religion', 'bad_religion', 'bad_religion', 'bad_religion', 'bad_religion', 'bad_religion', 'bad_religion', 'bad_religion', 'bad_religion', 'bad_religion', 'bad_religion', 'bad_religion', 'bad_religion', 'bad_religion', 'bad_religion', 'ella_fitzgerald', 'ella_fitzgerald', 'bad_religion', 'bad_religion', 'bad_religion', 'bad_religion', 'bad_religion', 'bad_religion', 'bad_religion', 'bad_religion', 'ella_fitzgerald', 'bad_religion', 'bad_religion', 'bad_religion', 'bad_religion', 'bad_religion', 'bad_religion', 'bad_religion', 'bad_religion', 'bad_religion', 'bad_religion', 'bad_religion', 'bad_religion', 'bad_religion', 'bad_religion', 'bad_religion', 'bad_religion', 'bad_religion', 'bad_religion', 'bad_religion', 'bad_religion', 'bad_religion', 'bad_religion', 'bad_religion', 'bad_religion', 'bad_religion', 'bad_religion', 'bad_religion', 'bad_religion', 'bad_religion', 'bad_religion', 'ella_fitzgerald', 'ella_fitzgerald', 'ella_fitzgerald', 'bad_religion', 'bad_religion', 'bad_religion', 'bad_religion', 'bad_religion', 'bad_religion', 'bad_religion', 'bad_religion', 'bad_religion', 'bad_religion', 'bad_religion', 'bad_religion', 'bad_religion', 'elvis_costello', 'bad_religion', 'ella_fitzgerald', 'bad_religion', 'ella_fitzgerald', 'bad_religion', 'bad_religion', 'bad_religion', 'bad_religion', 'bad_religion', 'bad_religion', 'bad_religion', 'bad_religion', 'bad_religion', 'bad_religion', 'bad_religion', 'bad_religion', 'bad_religion', 'bad_religion', 'bad_religion', 'bad_religion', 'bad_religion', 'bad_religion', 'bad_religion', 'bad_religion', 'bad_religion', 'bad_religion', 'bad_religion', 'bad_religion', 'bad_religion', 'bad_religion', 'bad_religion', 'bad_religion', 'bad_religion', 'bad_religion', 'bad_religion', 'bad_religion', 'bad_religion', 'bad_religion', 'bad_religion', 'bad_religion', 'bad_religion', 'bad_religion', 'bad_religion', 'bad_religion', 'ella_fitzgerald', 'bad_religion', 'bad_religion', 'bad_religion', 'bad_religion', 'bad_religion', 'bad_religion', 'bad_religion', 'bad_religion', 'bad_religion', 'bad_religion', 'bad_religion', 'ella_fitzgerald', 'bad_religion', 'bad_religion', 'bad_religion', 'bad_religion', 'bad_religion', 'bad_religion', 'bad_religion', 'bad_religion', 'bad_religion', 'bad_religion', 'bad_religion', 'bad_religion', 'bad_religion', 'ella_fitzgerald', 'bad_religion', 'bad_religion', 'bad_religion', 'bad_religion', 'bad_religion', 'bad_religion', 'bad_religion', 'bad_religion', 'bad_religion', 'bad_religion', 'bad_religion', 'bad_religion', 'ella_fitzgerald', 'bad_religion', 'bad_religion', 'bad_religion', 'bad_religion', 'ella_fitzgerald', 'bad_religion', 'bad_religion', 'bad_religion', 'bad_religion', 'bad_religion', 'bad_religion', 'bad_religion', 'ella_fitzgerald', 'bad_religion', 'bad_religion', 'bad_religion', 'bad_religion', 'bad_religion', 'bad_religion', 'bad_religion', 'bad_religion', 'bad_religion', 'bad_religion', 'bad_religion', 'bad_religion', 'bad_religion', 'bad_religion', 'bad_religion', 'bad_religion', 'bad_religion', 'bad_religion', 'bad_religion', 'bad_religion', 'bad_religion', 'bad_religion', 'bad_religion', 'bad_religion', 'bad_religion', 'bad_religion', 'ella_fitzgerald', 'elvis_costello', 'bad_religion', 'bad_religion', 'ella_fitzgerald', 'bad_religion', 'ella_fitzgerald', 'bad_religion', 'bad_religion', 'bad_religion', 'bad_religion', 'bad_religion', 'bad_religion', 'bad_religion', 'bad_religion', 'bad_religion', 'bad_religion', 'bad_religion', 'bad_religion', 'bad_religion', 'bad_religion', 'bad_religion', 'bad_religion', 'bad_religion', 'bad_religion', 'bad_religion', 'bad_religion', 'bad_religion', 'bad_religion', 'bad_religion', 'bad_religion', 'bad_religion', 'bad_religion', 'bad_religion', 'bad_religion', 'bad_religion', 'bad_religion', 'bad_religion', 'ella_fitzgerald', 'bad_religion', 'bad_religion', 'bad_religion', 'bad_religion', 'bad_religion', 'bad_religion', 'bad_religion', 'bad_religion', 'bad_religion', 'bad_religion', 'bad_religion', 'bad_religion', 'bad_religion', 'bad_religion', 'bad_religion', 'bad_religion', 'bad_religion', 'bad_religion', 'ella_fitzgerald', 'bad_religion', 'elvis_costello', 'bad_religion', 'bad_religion', 'bad_religion', 'bad_religion', 'bad_religion', 'bad_religion', 'bad_religion', 'bad_religion', 'ella_fitzgerald', 'bad_religion', 'ella_fitzgerald', 'bad_religion', 'ella_fitzgerald', 'bad_religion', 'bad_religion', 'bad_religion', 'bad_religion', 'bad_religion', 'bad_religion', 'bad_religion', 'bad_religion', 'bad_religion', 'bad_religion', 'bad_religion', 'ella_fitzgerald', 'bad_religion', 'bad_religion', 'bad_religion', 'ella_fitzgerald', 'bad_religion', 'bad_religion', 'bad_religion', 'bad_religion', 'bad_religion', 'ella_fitzgerald', 'bad_religion', 'bad_religion', 'bad_religion', 'bad_religion', 'bad_religion', 'bad_religion', 'bad_religion', 'bad_religion', 'bad_religion', 'bad_religion', 'bad_religion', 'bad_religion', 'ella_fitzgerald', 'ella_fitzgerald', 'bad_religion', 'bad_religion', 'bad_religion', 'bad_religion', 'bad_religion', 'bad_religion', 'bad_religion', 'bad_religion', 'bad_religion', 'bad_religion', 'bad_religion', 'bad_religion', 'bad_religion', 'bad_religion', 'ella_fitzgerald', 'ella_fitzgerald', 'bad_religion', 'bad_religion', 'bad_religion', 'bad_religion', 'ella_fitzgerald', 'bad_religion', 'bad_religion', 'bad_religion', 'ella_fitzgerald', 'ella_fitzgerald', 'bad_religion', 'bad_religion', 'bad_religion', 'bad_religion', 'ella_fitzgerald', 'bad_religion', 'bad_religion', 'bad_religion', 'bad_religion', 'bad_religion', 'bad_religion', 'bad_religion', 'bad_religion', 'bad_religion', 'bad_religion', 'bad_religion', 'bad_religion', 'bad_religion', 'ella_fitzgerald', 'bad_religion', 'bad_religion', 'ella_fitzgerald', 'bad_religion', 'bad_religion', 'bad_religion', 'bad_religion', 'bad_religion', 'ella_fitzgerald', 'bad_religion', 'bad_religion', 'bad_religion', 'bad_religion', 'bad_religion', 'bad_religion', 'ella_fitzgerald', 'bad_religion', 'bad_religion', 'bad_religion', 'bad_religion', 'bad_religion', 'bad_religion', 'bad_religion', 'bad_religion', 'bad_religion', 'bad_religion', 'bad_religion', 'bad_religion', 'bad_religion', 'bad_religion', 'ella_fitzgerald', 'bad_religion', 'ella_fitzgerald', 'bad_religion', 'bad_religion', 'elvis_costello', 'ella_fitzgerald', 'bad_religion', 'bad_religion', 'bad_religion', 'bad_religion', 'ella_fitzgerald', 'bad_religion', 'bad_religion', 'bad_religion', 'bad_religion', 'ella_fitzgerald', 'bad_religion', 'bad_religion', 'bad_religion', 'bad_religion', 'bad_religion', 'bad_religion', 'bad_religion', 'bad_religion', 'bad_religion', 'bad_religion', 'bad_religion', 'bad_religion', 'bad_religion', 'bad_religion', 'bad_religion', 'bad_religion', 'bad_religion', 'bad_religion', 'bad_religion', 'bad_religion', 'ella_fitzgerald', 'bad_religion', 'bad_religion', 'ella_fitzgerald', 'ella_fitzgerald', 'bad_religion', 'bad_religion', 'bad_religion', 'bad_religion', 'bad_religion', 'bad_religion', 'bad_religion', 'bad_religion', 'bad_religion', 'bad_religion', 'bad_religion', 'bad_religion', 'bad_religion', 'bad_religion', 'bad_religion', 'bad_religion', 'bad_religion', 'bad_religion', 'ella_fitzgerald', 'bad_religion', 'bad_religion', 'bad_religion', 'bad_religion', 'bad_religion', 'ella_fitzgerald', 'bad_religion', 'bad_religion', 'bad_religion', 'bad_religion', 'bad_religion', 'bad_religion', 'bad_religion', 'ella_fitzgerald', 'ella_fitzgerald', 'bad_religion', 'bad_religion', 'bad_religion', 'bad_religion', 'bad_religion', 'bad_religion', 'bad_religion', 'bad_religion', 'bad_religion', 'ella_fitzgerald', 'bad_religion', 'bad_religion', 'ella_fitzgerald', 'bad_religion', 'bad_religion', 'bad_religion', 'bad_religion', 'bad_religion', 'bad_religion', 'bad_religion', 'bad_religion', 'bad_religion', 'bad_religion', 'bad_religion', 'ella_fitzgerald', 'bad_religion', 'bad_religion']\n"
     ]
    }
   ],
   "source": [
    "prediction = model.predict(X_train)\n",
    "\n",
    "labels = ['bad religion', 'bee gees', 'beyonce', 'chris brown', 'ella fitzgerald', 'elton john', 'elvis costello', 'elvis presley', 'glee', 'the rolling stones']\n",
    "print(prediction)\n",
    "pred_str = []\n",
    "for i in range(8347):\n",
    "  pred_str.append(labels[np.argmax(prediction[i])])\n",
    "\n",
    "\n",
    "(unique, counts) = np.unique(pred_str, return_counts=True)\n",
    "frequencies = np.asarray((unique, counts)).T\n",
    "\n",
    "print(frequencies)"
   ]
  },
  {
   "cell_type": "code",
   "execution_count": null,
   "metadata": {
    "colab": {
     "base_uri": "https://localhost:8080/",
     "height": 694
    },
    "id": "obd8FM1tcsit",
    "outputId": "076684b3-b166-4d09-ba2a-ad521ea1a055"
   },
   "outputs": [
    {
     "name": "stdout",
     "output_type": "stream",
     "text": [
      "Requirement already satisfied: plot_keras_history in /usr/local/lib/python3.7/dist-packages (1.1.29)\n",
      "Requirement already satisfied: sanitize-ml-labels in /usr/local/lib/python3.7/dist-packages (from plot_keras_history) (1.0.26)\n",
      "Requirement already satisfied: matplotlib in /usr/local/lib/python3.7/dist-packages (from plot_keras_history) (3.2.2)\n",
      "Requirement already satisfied: scipy in /usr/local/lib/python3.7/dist-packages (from plot_keras_history) (1.4.1)\n",
      "Requirement already satisfied: pandas in /usr/local/lib/python3.7/dist-packages (from plot_keras_history) (1.1.5)\n",
      "Requirement already satisfied: compress-json in /usr/local/lib/python3.7/dist-packages (from sanitize-ml-labels->plot_keras_history) (1.0.4)\n",
      "Requirement already satisfied: kiwisolver>=1.0.1 in /usr/local/lib/python3.7/dist-packages (from matplotlib->plot_keras_history) (1.3.1)\n",
      "Requirement already satisfied: cycler>=0.10 in /usr/local/lib/python3.7/dist-packages (from matplotlib->plot_keras_history) (0.10.0)\n",
      "Requirement already satisfied: pyparsing!=2.0.4,!=2.1.2,!=2.1.6,>=2.0.1 in /usr/local/lib/python3.7/dist-packages (from matplotlib->plot_keras_history) (2.4.7)\n",
      "Requirement already satisfied: numpy>=1.11 in /usr/local/lib/python3.7/dist-packages (from matplotlib->plot_keras_history) (1.19.5)\n",
      "Requirement already satisfied: python-dateutil>=2.1 in /usr/local/lib/python3.7/dist-packages (from matplotlib->plot_keras_history) (2.8.1)\n",
      "Requirement already satisfied: pytz>=2017.2 in /usr/local/lib/python3.7/dist-packages (from pandas->plot_keras_history) (2018.9)\n",
      "Requirement already satisfied: six in /usr/local/lib/python3.7/dist-packages (from cycler>=0.10->matplotlib->plot_keras_history) (1.15.0)\n"
     ]
    },
    {
     "data": {
      "text/plain": [
       "(<Figure size 720x360 with 2 Axes>,\n",
       " array([<matplotlib.axes._subplots.AxesSubplot object at 0x7f31692a3710>,\n",
       "        <matplotlib.axes._subplots.AxesSubplot object at 0x7f316851fd10>],\n",
       "       dtype=object))"
      ]
     },
     "execution_count": 81,
     "metadata": {
      "tags": []
     },
     "output_type": "execute_result"
    },
    {
     "data": {
      "image/png": "[encoded data removed]",
      "text/plain": [
       "<Figure size 720x360 with 2 Axes>"
      ]
     },
     "metadata": {
      "needs_background": "light",
      "tags": []
     },
     "output_type": "display_data"
    }
   ],
   "source": [
    "import matplotlib.pyplot as plt\n",
    "from plotly.offline import iplot\n",
    "!pip install plot_keras_history\n",
    "from plot_keras_history import plot_history\n",
    "plot_history(mod_test)"
   ]
  },
  {
   "cell_type": "markdown",
   "metadata": {
    "id": "v2f1lQx-28uA"
   },
   "source": [
    "RNN from scratch"
   ]
  },
  {
   "cell_type": "code",
   "execution_count": null,
   "metadata": {
    "colab": {
     "base_uri": "https://localhost:8080/"
    },
    "id": "7WefCPLSfee2",
    "outputId": "55d08b12-1b84-4732-902c-9ffd21421f4d"
   },
   "outputs": [
    {
     "name": "stdout",
     "output_type": "stream",
     "text": [
      "Model: \"sequential_2\"\n",
      "_________________________________________________________________\n",
      "Layer (type)                 Output Shape              Param #   \n",
      "=================================================================\n",
      "embedding_3 (Embedding)      (None, 400, 200)          1000000   \n",
      "_________________________________________________________________\n",
      "simple_rnn_2 (SimpleRNN)     (None, 200)               80200     \n",
      "_________________________________________________________________\n",
      "dense (Dense)                (None, 200)               40200     \n",
      "_________________________________________________________________\n",
      "dropout (Dropout)            (None, 200)               0         \n",
      "_________________________________________________________________\n",
      "dense_1 (Dense)              (None, 10)                2010      \n",
      "=================================================================\n",
      "Total params: 1,122,410\n",
      "Trainable params: 1,122,410\n",
      "Non-trainable params: 0\n",
      "_________________________________________________________________\n"
     ]
    }
   ],
   "source": [
    "from keras.models import Sequential\n",
    "from tensorflow.keras.layers import Dense, Dropout, Activation, Flatten, Embedding, SimpleRNN\n",
    "\n",
    "## create model\n",
    "\n",
    "vocab_size=5000\n",
    "\n",
    "\n",
    "          # input_length is the length of the sequence\n",
    "modelRNN = Sequential()\n",
    "\n",
    "modelRNN.add(Embedding(input_dim=vocab_size,          # input_dim is the size of the vocabulary\n",
    "                           output_dim=embedding_dim,      # output_dim is the size of the dense vector\n",
    "                           input_length=400))\n",
    "modelRNN.add(SimpleRNN(embedding_dim))\n",
    "modelRNN.add(Dense(200, activation='relu'))\n",
    "modelRNN.add(Dropout(0.2))\n",
    "modelRNN.add(Dense(10, activation='softmax'))\n",
    "\n",
    "modelRNN.summary()\n"
   ]
  },
  {
   "cell_type": "code",
   "execution_count": null,
   "metadata": {
    "colab": {
     "base_uri": "https://localhost:8080/"
    },
    "id": "QDPj7rhfIDt1",
    "outputId": "8604ffd9-94a4-457a-bff7-3b301abc3dd6"
   },
   "outputs": [
    {
     "name": "stdout",
     "output_type": "stream",
     "text": [
      "[[0.00243493 0.00232321 0.44465724 ... 0.00307112 0.04687304 0.00241296]\n",
      " [0.01705794 0.03410567 0.01084255 ... 0.51283646 0.03533327 0.05858924]\n",
      " [0.01705795 0.03410568 0.01084255 ... 0.51283634 0.03533327 0.05858924]\n",
      " ...\n",
      " [0.07499576 0.0910959  0.05163916 ... 0.27884927 0.07180508 0.11679089]\n",
      " [0.01705795 0.03410568 0.01084255 ... 0.51283634 0.03533328 0.05858924]\n",
      " [0.01705795 0.03410568 0.01084255 ... 0.51283634 0.03533329 0.05858924]]\n",
      "[['beyonce' '31']\n",
      " ['chris_brown' '27']\n",
      " ['elvis_presley' '442']]\n"
     ]
    }
   ],
   "source": []
  },
  {
   "cell_type": "code",
   "execution_count": null,
   "metadata": {
    "colab": {
     "base_uri": "https://localhost:8080/"
    },
    "id": "-bAnGt0qIEpr",
    "outputId": "8604ffd9-94a4-457a-bff7-3b301abc3dd6"
   },
   "outputs": [
    {
     "name": "stdout",
     "output_type": "stream",
     "text": [
      "[[0.00243493 0.00232321 0.44465724 ... 0.00307112 0.04687304 0.00241296]\n",
      " [0.01705794 0.03410567 0.01084255 ... 0.51283646 0.03533327 0.05858924]\n",
      " [0.01705795 0.03410568 0.01084255 ... 0.51283634 0.03533327 0.05858924]\n",
      " ...\n",
      " [0.07499576 0.0910959  0.05163916 ... 0.27884927 0.07180508 0.11679089]\n",
      " [0.01705795 0.03410568 0.01084255 ... 0.51283634 0.03533328 0.05858924]\n",
      " [0.01705795 0.03410568 0.01084255 ... 0.51283634 0.03533329 0.05858924]]\n",
      "[['beyonce' '31']\n",
      " ['chris_brown' '27']\n",
      " ['elvis_presley' '442']]\n"
     ]
    }
   ],
   "source": [
    "prediction = modelRNN.predict(X_val)\n",
    "\n",
    "labels = ['bad_religion', 'bee_gees', 'beyonce', 'chris_brown', 'ella_fitzgerald', 'elton_john', 'elvis_costello', 'elvis_presley', 'glee', 'the_rolling_stones']\n",
    "print(prediction)\n",
    "pred_str = []\n",
    "for i in range(500):\n",
    "  pred_str.append(labels[np.argmax(prediction[i])])\n",
    "\n",
    "\n",
    "(unique, counts) = np.unique(pred_str, return_counts=True)\n",
    "frequencies = np.asarray((unique, counts)).T\n",
    "\n",
    "print(frequencies)"
   ]
  },
  {
   "cell_type": "code",
   "execution_count": null,
   "metadata": {
    "colab": {
     "base_uri": "https://localhost:8080/"
    },
    "id": "MTMjzD-efn0q",
    "outputId": "2f420d04-ecdb-41ea-af1e-a120461fb4c8"
   },
   "outputs": [
    {
     "name": "stdout",
     "output_type": "stream",
     "text": [
      "Epoch 1/10\n",
      "131/131 [==============================] - 45s 339ms/step - loss: 2.3354 - acc: 0.1502 - val_loss: 2.1718 - val_acc: 0.2241\n",
      "Epoch 2/10\n",
      "131/131 [==============================] - 44s 333ms/step - loss: 2.1799 - acc: 0.2242 - val_loss: 2.1820 - val_acc: 0.2047\n",
      "Epoch 00002: early stopping\n"
     ]
    }
   ],
   "source": [
    "modelRNN.compile(\n",
    "    loss=\"sparse_categorical_crossentropy\", optimizer=\"rmsprop\", metrics=[\"acc\"]\n",
    ")\n",
    "es = EarlyStopping(monitor='val_loss', mode='min', verbose=1)\n",
    "mod_2=modelRNN.fit(X_train,y_train, batch_size=64, epochs=10, validation_data=(X_val,y_val), callbacks=[es])"
   ]
  },
  {
   "cell_type": "code",
   "execution_count": null,
   "metadata": {
    "colab": {
     "base_uri": "https://localhost:8080/"
    },
    "id": "OvCxfaOnybL1",
    "outputId": "81f409e0-9a2c-41bc-89d1-d49b2b84a136"
   },
   "outputs": [
    {
     "name": "stdout",
     "output_type": "stream",
     "text": [
      "Training Accuracy: 0.2152\n",
      "validation Accuracy:  0.2047\n"
     ]
    }
   ],
   "source": [
    "loss, accuracy = modelRNN.evaluate(X_train, y_train, verbose=False)\n",
    "print(\"Training Accuracy: {:.4f}\".format(accuracy))\n",
    "loss, accuracy = modelRNN.evaluate(X_val, y_val, verbose=False)\n",
    "print(\"validation Accuracy:  {:.4f}\".format(accuracy))"
   ]
  },
  {
   "cell_type": "code",
   "execution_count": null,
   "metadata": {
    "colab": {
     "base_uri": "https://localhost:8080/",
     "height": 670
    },
    "id": "kQFnQm2ayo-O",
    "outputId": "bf434143-32f2-44ce-e65e-c776c44d6139"
   },
   "outputs": [
    {
     "name": "stdout",
     "output_type": "stream",
     "text": [
      "Requirement already satisfied: plot_keras_history in /usr/local/lib/python3.7/dist-packages (1.1.29)\n",
      "Requirement already satisfied: pandas in /usr/local/lib/python3.7/dist-packages (from plot_keras_history) (1.1.5)\n",
      "Requirement already satisfied: scipy in /usr/local/lib/python3.7/dist-packages (from plot_keras_history) (1.4.1)\n",
      "Requirement already satisfied: sanitize-ml-labels in /usr/local/lib/python3.7/dist-packages (from plot_keras_history) (1.0.26)\n",
      "Requirement already satisfied: matplotlib in /usr/local/lib/python3.7/dist-packages (from plot_keras_history) (3.2.2)\n",
      "Requirement already satisfied: pytz>=2017.2 in /usr/local/lib/python3.7/dist-packages (from pandas->plot_keras_history) (2018.9)\n",
      "Requirement already satisfied: numpy>=1.15.4 in /usr/local/lib/python3.7/dist-packages (from pandas->plot_keras_history) (1.19.5)\n",
      "Requirement already satisfied: python-dateutil>=2.7.3 in /usr/local/lib/python3.7/dist-packages (from pandas->plot_keras_history) (2.8.1)\n",
      "Requirement already satisfied: compress-json in /usr/local/lib/python3.7/dist-packages (from sanitize-ml-labels->plot_keras_history) (1.0.4)\n",
      "Requirement already satisfied: kiwisolver>=1.0.1 in /usr/local/lib/python3.7/dist-packages (from matplotlib->plot_keras_history) (1.3.1)\n",
      "Requirement already satisfied: cycler>=0.10 in /usr/local/lib/python3.7/dist-packages (from matplotlib->plot_keras_history) (0.10.0)\n",
      "Requirement already satisfied: pyparsing!=2.0.4,!=2.1.2,!=2.1.6,>=2.0.1 in /usr/local/lib/python3.7/dist-packages (from matplotlib->plot_keras_history) (2.4.7)\n",
      "Requirement already satisfied: six>=1.5 in /usr/local/lib/python3.7/dist-packages (from python-dateutil>=2.7.3->pandas->plot_keras_history) (1.15.0)\n"
     ]
    },
    {
     "data": {
      "text/plain": [
       "(<Figure size 720x360 with 2 Axes>,\n",
       " array([<matplotlib.axes._subplots.AxesSubplot object at 0x7fc64a124d10>,\n",
       "        <matplotlib.axes._subplots.AxesSubplot object at 0x7fc64a0e0910>],\n",
       "       dtype=object))"
      ]
     },
     "execution_count": 43,
     "metadata": {
      "tags": []
     },
     "output_type": "execute_result"
    },
    {
     "data": {
      "image/png": "[encoded data removed]",
      "text/plain": [
       "<Figure size 720x360 with 2 Axes>"
      ]
     },
     "metadata": {
      "needs_background": "light",
      "tags": []
     },
     "output_type": "display_data"
    }
   ],
   "source": [
    "import matplotlib.pyplot as plt\n",
    "from plotly.offline import iplot\n",
    "!pip install plot_keras_history\n",
    "from plot_keras_history import plot_history\n",
    "plot_history(mod_2)"
   ]
  },
  {
   "cell_type": "code",
   "execution_count": null,
   "metadata": {
    "colab": {
     "base_uri": "https://localhost:8080/"
    },
    "id": "ZgH6mmY1QQPu",
    "outputId": "ad8f24cd-4047-4e5a-e596-5ee8c05842b9"
   },
   "outputs": [
    {
     "name": "stdout",
     "output_type": "stream",
     "text": [
      "[[0.00622783 0.0077385  0.51898175 ... 0.02311949 0.13300845 0.03021261]\n",
      " [0.05870477 0.13421158 0.04597966 ... 0.23990214 0.10399468 0.09348586]\n",
      " [0.05870477 0.13421163 0.04597966 ... 0.23990211 0.10399468 0.09348586]\n",
      " ...\n",
      " [0.05945627 0.13461444 0.0443826  ... 0.24640162 0.09759777 0.09739693]\n",
      " [0.05870477 0.13421158 0.04597966 ... 0.23990214 0.10399466 0.09348585]\n",
      " [0.05870477 0.13421161 0.04597966 ... 0.23990214 0.10399467 0.09348586]]\n",
      "[['beyonce' '70']\n",
      " ['chris_brown' '15']\n",
      " ['elvis_presley' '615']]\n"
     ]
    }
   ],
   "source": [
    "\n",
    "prediction = modelRNN.predict(X_val)\n",
    "\n",
    "labels = ['bad_religion', 'bee_gees', 'beyonce', 'chris_brown', 'ella_fitzgerald', 'elton_john', 'elvis_costello', 'elvis_presley', 'glee', 'the_rolling_stones']\n",
    "print(prediction)\n",
    "pred_str = []\n",
    "for i in range(700):\n",
    "  pred_str.append(labels[np.argmax(prediction[i])])\n",
    "(unique, counts) = np.unique(pred_str, return_counts=True)\n",
    "frequencies = np.asarray((unique, counts)).T\n",
    "\n",
    "print(frequencies)"
   ]
  },
  {
   "cell_type": "code",
   "execution_count": null,
   "metadata": {
    "colab": {
     "base_uri": "https://localhost:8080/"
    },
    "id": "OF2lZyplQjSV",
    "outputId": "430bbcd2-4857-4239-fe14-4bbae3e4e605"
   },
   "outputs": [
    {
     "name": "stdout",
     "output_type": "stream",
     "text": [
      "[[0.05870477 0.13421161 0.04597966 ... 0.23990214 0.10399468 0.09348586]\n",
      " [0.05870477 0.13421161 0.04597966 ... 0.23990214 0.10399468 0.09348586]\n",
      " [0.05870477 0.13421161 0.04597966 ... 0.23990214 0.10399468 0.09348586]\n",
      " ...\n",
      " [0.05870477 0.13421163 0.04597966 ... 0.23990214 0.10399466 0.09348585]\n",
      " [0.05870477 0.13421161 0.04597966 ... 0.23990211 0.10399466 0.09348587]\n",
      " [0.05870477 0.13421161 0.04597966 ... 0.23990214 0.10399468 0.09348586]]\n",
      "[['beyonce' '196']\n",
      " ['chris_brown' '52']\n",
      " ['elvis_costello' '1']\n",
      " ['elvis_presley' '1751']]\n"
     ]
    }
   ],
   "source": [
    "\n",
    "prediction = modelRNN.predict(X_train)\n",
    "\n",
    "labels = ['bad_religion', 'bee_gees', 'beyonce', 'chris_brown', 'ella_fitzgerald', 'elton_john', 'elvis_costello', 'elvis_presley', 'glee', 'the_rolling_stones']\n",
    "print(prediction)\n",
    "pred_str = []\n",
    "for i in range(2000):\n",
    "  pred_str.append(labels[np.argmax(prediction[i])])\n",
    "(unique, counts) = np.unique(pred_str, return_counts=True)\n",
    "frequencies = np.asarray((unique, counts)).T\n",
    "\n",
    "print(frequencies)"
   ]
  },
  {
   "cell_type": "code",
   "execution_count": null,
   "metadata": {
    "id": "hbI1DlnPyy4f"
   },
   "outputs": [],
   "source": [
    "modelRNN.save('modelrnnTF.h5')"
   ]
  },
  {
   "cell_type": "code",
   "execution_count": null,
   "metadata": {
    "id": "cCwxC07LHXIJ"
   },
   "outputs": [],
   "source": [
    "reconstructed_model = keras.models.load_model(\"modelrnnTF.h5\")"
   ]
  },
  {
   "cell_type": "code",
   "execution_count": null,
   "metadata": {
    "id": "EBacJxu8GYuJ"
   },
   "outputs": [],
   "source": [
    "prediction= reconstructed_model.predict(X_val)"
   ]
  },
  {
   "cell_type": "code",
   "execution_count": null,
   "metadata": {
    "colab": {
     "base_uri": "https://localhost:8080/"
    },
    "id": "f8bz_SE_HkTy",
    "outputId": "6231abae-6b6d-46c9-ead8-feaa91a8985e"
   },
   "outputs": [
    {
     "data": {
      "text/plain": [
       "(928, 10)"
      ]
     },
     "execution_count": 44,
     "metadata": {
      "tags": []
     },
     "output_type": "execute_result"
    }
   ],
   "source": [
    "prediction.shape"
   ]
  },
  {
   "cell_type": "code",
   "execution_count": null,
   "metadata": {
    "colab": {
     "base_uri": "https://localhost:8080/"
    },
    "id": "EL8UxcaPGiqD",
    "outputId": "8604ffd9-94a4-457a-bff7-3b301abc3dd6"
   },
   "outputs": [
    {
     "name": "stdout",
     "output_type": "stream",
     "text": [
      "[[0.00243493 0.00232321 0.44465724 ... 0.00307112 0.04687304 0.00241296]\n",
      " [0.01705794 0.03410567 0.01084255 ... 0.51283646 0.03533327 0.05858924]\n",
      " [0.01705795 0.03410568 0.01084255 ... 0.51283634 0.03533327 0.05858924]\n",
      " ...\n",
      " [0.07499576 0.0910959  0.05163916 ... 0.27884927 0.07180508 0.11679089]\n",
      " [0.01705795 0.03410568 0.01084255 ... 0.51283634 0.03533328 0.05858924]\n",
      " [0.01705795 0.03410568 0.01084255 ... 0.51283634 0.03533329 0.05858924]]\n",
      "[['beyonce' '31']\n",
      " ['chris_brown' '27']\n",
      " ['elvis_presley' '442']]\n"
     ]
    }
   ],
   "source": [
    "prediction = modelRNN.predict(X_val)\n",
    "\n",
    "labels = ['bad_religion', 'bee_gees', 'beyonce', 'chris_brown', 'ella_fitzgerald', 'elton_john', 'elvis_costello', 'elvis_presley', 'glee', 'the_rolling_stones']\n",
    "print(prediction)\n",
    "pred_str = []\n",
    "for i in range(500):\n",
    "  pred_str.append(labels[np.argmax(prediction[i])])\n",
    "\n",
    "\n",
    "(unique, counts) = np.unique(pred_str, return_counts=True)\n",
    "frequencies = np.asarray((unique, counts)).T\n",
    "\n",
    "print(frequencies)"
   ]
  },
  {
   "cell_type": "markdown",
   "metadata": {
    "id": "dfKGbQ-ZzUSG"
   },
   "source": [
    "single layer lstm"
   ]
  },
  {
   "cell_type": "code",
   "execution_count": null,
   "metadata": {
    "colab": {
     "base_uri": "https://localhost:8080/"
    },
    "id": "aQ342_rVy8-B",
    "outputId": "72944746-f42c-48cb-a84f-4431d56a3438"
   },
   "outputs": [
    {
     "name": "stdout",
     "output_type": "stream",
     "text": [
      "Model: \"sequential_1\"\n",
      "_________________________________________________________________\n",
      "Layer (type)                 Output Shape              Param #   \n",
      "=================================================================\n",
      "embedding_2 (Embedding)      (None, 400, 200)          1000000   \n",
      "_________________________________________________________________\n",
      "lstm (LSTM)                  (None, 200)               320800    \n",
      "_________________________________________________________________\n",
      "dense_2 (Dense)              (None, 200)               40200     \n",
      "_________________________________________________________________\n",
      "dropout_1 (Dropout)          (None, 200)               0         \n",
      "_________________________________________________________________\n",
      "dense_3 (Dense)              (None, 10)                2010      \n",
      "=================================================================\n",
      "Total params: 1,363,010\n",
      "Trainable params: 1,363,010\n",
      "Non-trainable params: 0\n",
      "_________________________________________________________________\n"
     ]
    }
   ],
   "source": [
    "from keras.models import Sequential\n",
    "from tensorflow.keras.layers import Dense, Dropout, Activation, Flatten, Embedding, LSTM\n",
    "from keras.callbacks import EarlyStopping\n",
    "vocab_size = 5000\n",
    "\n",
    "model03 = Sequential()\n",
    "model03.add(Embedding(input_dim=vocab_size,          # input_dim is the size of the vocabulary\n",
    "                           output_dim=embedding_dim,      # output_dim is the size of the dense vector\n",
    "                           input_length=400))          # input_length is the length of the sequence\n",
    "model03.add(LSTM(embedding_dim))\n",
    "model03.add(Dense(200, activation='relu'))\n",
    "model03.add(Dropout(0.2))\n",
    "model03.add(Dense(10, activation='softmax'))\n",
    "\n",
    "model03.summary()"
   ]
  },
  {
   "cell_type": "code",
   "execution_count": null,
   "metadata": {
    "colab": {
     "base_uri": "https://localhost:8080/"
    },
    "id": "Q-yn0J8ozlig",
    "outputId": "4cfdc1ce-77d0-4885-bb5c-29c8391a4dce"
   },
   "outputs": [
    {
     "name": "stdout",
     "output_type": "stream",
     "text": [
      "Epoch 1/10\n",
      "131/131 [==============================] - 8s 49ms/step - loss: 2.2185 - acc: 0.2321 - val_loss: 2.0984 - val_acc: 0.2317\n",
      "Epoch 2/10\n",
      "131/131 [==============================] - 6s 45ms/step - loss: 2.1051 - acc: 0.2448 - val_loss: 2.0693 - val_acc: 0.2446\n",
      "Epoch 3/10\n",
      "131/131 [==============================] - 6s 45ms/step - loss: 2.0652 - acc: 0.2653 - val_loss: 2.0362 - val_acc: 0.2586\n",
      "Epoch 4/10\n",
      "131/131 [==============================] - 6s 46ms/step - loss: 1.9603 - acc: 0.2944 - val_loss: 2.1228 - val_acc: 0.2565\n",
      "Epoch 00004: early stopping\n"
     ]
    }
   ],
   "source": [
    "model03.compile(\n",
    "    loss=\"sparse_categorical_crossentropy\", optimizer=\"rmsprop\", metrics=[\"acc\"]\n",
    ")\n",
    "\n",
    "es = EarlyStopping(monitor='val_loss', mode='min', verbose=1)\n",
    "mod3=model03.fit(X_train,y_train, batch_size=64, epochs=10, validation_data=(X_val,y_val),callbacks=[es])"
   ]
  },
  {
   "cell_type": "code",
   "execution_count": null,
   "metadata": {
    "colab": {
     "base_uri": "https://localhost:8080/"
    },
    "id": "TYByuMLJzq6y",
    "outputId": "f6c64b1b-76a1-4d8d-e1ff-7099bf87beec"
   },
   "outputs": [
    {
     "name": "stdout",
     "output_type": "stream",
     "text": [
      "Training Accuracy: 0.2814\n",
      "validation Accuracy:  0.2565\n"
     ]
    }
   ],
   "source": [
    "loss, accuracy = model03.evaluate(X_train, y_train, verbose=False)\n",
    "print(\"Training Accuracy: {:.4f}\".format(accuracy))\n",
    "loss, accuracy = model03.evaluate(X_val, y_val, verbose=False)\n",
    "print(\"validation Accuracy:  {:.4f}\".format(accuracy))"
   ]
  },
  {
   "cell_type": "code",
   "execution_count": null,
   "metadata": {
    "colab": {
     "base_uri": "https://localhost:8080/",
     "height": 694
    },
    "id": "3OQO5r8Izt-S",
    "outputId": "604fd603-1871-4ecf-9660-fd42f56ad932"
   },
   "outputs": [
    {
     "name": "stdout",
     "output_type": "stream",
     "text": [
      "Requirement already satisfied: plot_keras_history in /usr/local/lib/python3.7/dist-packages (1.1.29)\n",
      "Requirement already satisfied: matplotlib in /usr/local/lib/python3.7/dist-packages (from plot_keras_history) (3.2.2)\n",
      "Requirement already satisfied: sanitize-ml-labels in /usr/local/lib/python3.7/dist-packages (from plot_keras_history) (1.0.26)\n",
      "Requirement already satisfied: scipy in /usr/local/lib/python3.7/dist-packages (from plot_keras_history) (1.4.1)\n",
      "Requirement already satisfied: pandas in /usr/local/lib/python3.7/dist-packages (from plot_keras_history) (1.1.5)\n",
      "Requirement already satisfied: pyparsing!=2.0.4,!=2.1.2,!=2.1.6,>=2.0.1 in /usr/local/lib/python3.7/dist-packages (from matplotlib->plot_keras_history) (2.4.7)\n",
      "Requirement already satisfied: python-dateutil>=2.1 in /usr/local/lib/python3.7/dist-packages (from matplotlib->plot_keras_history) (2.8.1)\n",
      "Requirement already satisfied: cycler>=0.10 in /usr/local/lib/python3.7/dist-packages (from matplotlib->plot_keras_history) (0.10.0)\n",
      "Requirement already satisfied: kiwisolver>=1.0.1 in /usr/local/lib/python3.7/dist-packages (from matplotlib->plot_keras_history) (1.3.1)\n",
      "Requirement already satisfied: numpy>=1.11 in /usr/local/lib/python3.7/dist-packages (from matplotlib->plot_keras_history) (1.19.5)\n",
      "Requirement already satisfied: compress-json in /usr/local/lib/python3.7/dist-packages (from sanitize-ml-labels->plot_keras_history) (1.0.4)\n",
      "Requirement already satisfied: pytz>=2017.2 in /usr/local/lib/python3.7/dist-packages (from pandas->plot_keras_history) (2018.9)\n",
      "Requirement already satisfied: six>=1.5 in /usr/local/lib/python3.7/dist-packages (from python-dateutil>=2.1->matplotlib->plot_keras_history) (1.15.0)\n"
     ]
    },
    {
     "data": {
      "text/plain": [
       "(<Figure size 720x360 with 2 Axes>,\n",
       " array([<matplotlib.axes._subplots.AxesSubplot object at 0x7f3006ce0910>,\n",
       "        <matplotlib.axes._subplots.AxesSubplot object at 0x7f3006c9aad0>],\n",
       "       dtype=object))"
      ]
     },
     "execution_count": 62,
     "metadata": {
      "tags": []
     },
     "output_type": "execute_result"
    },
    {
     "data": {
      "image/png": "[encoded data removed]",
      "text/plain": [
       "<Figure size 720x360 with 2 Axes>"
      ]
     },
     "metadata": {
      "needs_background": "light",
      "tags": []
     },
     "output_type": "display_data"
    }
   ],
   "source": [
    "import matplotlib.pyplot as plt\n",
    "from plotly.offline import iplot\n",
    "!pip install plot_keras_history\n",
    "from plot_keras_history import plot_history\n",
    "plot_history(mod3)"
   ]
  },
  {
   "cell_type": "code",
   "execution_count": null,
   "metadata": {
    "id": "h4QwVmmJzwp6"
   },
   "outputs": [],
   "source": [
    "model03.save('modeltfsL.h5')"
   ]
  },
  {
   "cell_type": "code",
   "execution_count": 26,
   "metadata": {
    "colab": {
     "base_uri": "https://localhost:8080/"
    },
    "id": "DSEAgG2QcQ3Y",
    "outputId": "37915f8a-341e-4195-e7b7-342627374e61"
   },
   "outputs": [
    {
     "name": "stdout",
     "output_type": "stream",
     "text": [
      "Downloading 1IJwr8FTxZ2-47pcP239AtSIK88lmQKLX into ./model/lstmtf.h5... Done.\n",
      "Model: \"sequential_5\"\n",
      "_________________________________________________________________\n",
      "Layer (type)                 Output Shape              Param #   \n",
      "=================================================================\n",
      "embedding_7 (Embedding)      (None, 400, 200)          1000000   \n",
      "_________________________________________________________________\n",
      "lstm_8 (LSTM)                (None, 200)               320800    \n",
      "_________________________________________________________________\n",
      "dense_10 (Dense)             (None, 200)               40200     \n",
      "_________________________________________________________________\n",
      "dropout_5 (Dropout)          (None, 200)               0         \n",
      "_________________________________________________________________\n",
      "dense_11 (Dense)             (None, 10)                2010      \n",
      "=================================================================\n",
      "Total params: 1,363,010\n",
      "Trainable params: 1,363,010\n",
      "Non-trainable params: 0\n",
      "_________________________________________________________________\n"
     ]
    }
   ],
   "source": [
    "from google_drive_downloader import GoogleDriveDownloader as gdd\n",
    "\n",
    "gdd.download_file_from_google_drive(file_id='1IJwr8FTxZ2-47pcP239AtSIK88lmQKLX', dest_path='./model/lstmtf.h5')\n",
    "\n",
    "ft_model = tf.keras.models.load_model('./model/lstmtf.h5')\n",
    "\n",
    "ft_model.summary()"
   ]
  }
 ],
 "metadata": {
  "accelerator": "GPU",
  "colab": {
   "collapsed_sections": [],
   "name": "tranfer_learning.ipynb",
   "provenance": []
  },
  "kernelspec": {
   "display_name": "Python 3",
   "language": "python",
   "name": "python3"
  },
  "language_info": {
   "codemirror_mode": {
    "name": "ipython",
    "version": 3
   },
   "file_extension": ".py",
   "mimetype": "text/x-python",
   "name": "python",
   "nbconvert_exporter": "python",
   "pygments_lexer": "ipython3",
   "version": "3.8.5"
  }
 },
 "nbformat": 4,
 "nbformat_minor": 1
}
