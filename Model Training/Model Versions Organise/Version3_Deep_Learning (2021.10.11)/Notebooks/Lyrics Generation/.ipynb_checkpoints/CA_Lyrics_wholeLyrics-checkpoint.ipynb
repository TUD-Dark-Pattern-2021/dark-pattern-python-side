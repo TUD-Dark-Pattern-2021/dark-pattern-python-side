{
 "cells": [
  {
   "cell_type": "markdown",
   "metadata": {
    "id": "p2NQJrzMshXV"
   },
   "source": [
    "# Data Preprocessing"
   ]
  },
  {
   "cell_type": "code",
   "execution_count": null,
   "metadata": {
    "colab": {
     "base_uri": "https://localhost:8080/"
    },
    "id": "lrP6bBRcpcWK",
    "outputId": "727f96bc-1c6e-433c-de40-91eae063c67d"
   },
   "outputs": [
    {
     "name": "stdout",
     "output_type": "stream",
     "text": [
      "Found GPU at: /device:GPU:0\n"
     ]
    }
   ],
   "source": [
    "%tensorflow_version 2.x\n",
    "import tensorflow as tf\n",
    "device_name = tf.test.gpu_device_name()\n",
    "if device_name != '/device:GPU:0':\n",
    "  raise SystemError('GPU device not found')\n",
    "print('Found GPU at: {}'.format(device_name))"
   ]
  },
  {
   "cell_type": "code",
   "execution_count": null,
   "metadata": {
    "colab": {
     "base_uri": "https://localhost:8080/"
    },
    "id": "y5_xNqcc7nxs",
    "outputId": "6a586a65-520b-41ba-927c-326472f4c502"
   },
   "outputs": [
    {
     "name": "stdout",
     "output_type": "stream",
     "text": [
      "Mounted at /content/drive\n"
     ]
    }
   ],
   "source": [
    "from google.colab import drive\n",
    "drive.mount('/content/drive')"
   ]
  },
  {
   "cell_type": "code",
   "execution_count": null,
   "metadata": {
    "id": "36kITWPc7n7x"
   },
   "outputs": [],
   "source": [
    "import pandas as pd\n",
    "import numpy as np\n",
    "import tensorflow as tf\n",
    "from tensorflow import keras"
   ]
  },
  {
   "cell_type": "code",
   "execution_count": null,
   "metadata": {
    "colab": {
     "base_uri": "https://localhost:8080/",
     "height": 419
    },
    "id": "-7ovg1fa7oFj",
    "outputId": "c1764db7-aa7d-4d01-bdb1-87398233a2f7"
   },
   "outputs": [
    {
     "data": {
      "text/html": [
       "<div>\n",
       "<style scoped>\n",
       "    .dataframe tbody tr th:only-of-type {\n",
       "        vertical-align: middle;\n",
       "    }\n",
       "\n",
       "    .dataframe tbody tr th {\n",
       "        vertical-align: top;\n",
       "    }\n",
       "\n",
       "    .dataframe thead th {\n",
       "        text-align: right;\n",
       "    }\n",
       "</style>\n",
       "<table border=\"1\" class=\"dataframe\">\n",
       "  <thead>\n",
       "    <tr style=\"text-align: right;\">\n",
       "      <th></th>\n",
       "      <th>Artist</th>\n",
       "      <th>Song</th>\n",
       "      <th>Genre</th>\n",
       "      <th>Language</th>\n",
       "      <th>Lyrics</th>\n",
       "    </tr>\n",
       "  </thead>\n",
       "  <tbody>\n",
       "    <tr>\n",
       "      <th>0</th>\n",
       "      <td>12 stones</td>\n",
       "      <td>world so cold</td>\n",
       "      <td>Rock</td>\n",
       "      <td>en</td>\n",
       "      <td>It starts with pain, followed by hate\\nFueled ...</td>\n",
       "    </tr>\n",
       "    <tr>\n",
       "      <th>1</th>\n",
       "      <td>12 stones</td>\n",
       "      <td>broken</td>\n",
       "      <td>Rock</td>\n",
       "      <td>en</td>\n",
       "      <td>Freedom!\\nAlone again again alone\\nPatiently w...</td>\n",
       "    </tr>\n",
       "    <tr>\n",
       "      <th>2</th>\n",
       "      <td>12 stones</td>\n",
       "      <td>3 leaf loser</td>\n",
       "      <td>Rock</td>\n",
       "      <td>en</td>\n",
       "      <td>Biting the hand that feeds you, lying to the v...</td>\n",
       "    </tr>\n",
       "    <tr>\n",
       "      <th>3</th>\n",
       "      <td>12 stones</td>\n",
       "      <td>anthem for the underdog</td>\n",
       "      <td>Rock</td>\n",
       "      <td>en</td>\n",
       "      <td>You say you know just who I am\\nBut you can't ...</td>\n",
       "    </tr>\n",
       "    <tr>\n",
       "      <th>4</th>\n",
       "      <td>12 stones</td>\n",
       "      <td>adrenaline</td>\n",
       "      <td>Rock</td>\n",
       "      <td>en</td>\n",
       "      <td>My heart is beating faster can't control these...</td>\n",
       "    </tr>\n",
       "    <tr>\n",
       "      <th>...</th>\n",
       "      <td>...</td>\n",
       "      <td>...</td>\n",
       "      <td>...</td>\n",
       "      <td>...</td>\n",
       "      <td>...</td>\n",
       "    </tr>\n",
       "    <tr>\n",
       "      <th>290178</th>\n",
       "      <td>bobby womack</td>\n",
       "      <td>i wish he didn t trust me so much</td>\n",
       "      <td>R&amp;B</td>\n",
       "      <td>en</td>\n",
       "      <td>I'm the best friend he's got I'd give him the ...</td>\n",
       "    </tr>\n",
       "    <tr>\n",
       "      <th>290179</th>\n",
       "      <td>bad boys blue</td>\n",
       "      <td>i totally miss you</td>\n",
       "      <td>Pop</td>\n",
       "      <td>en</td>\n",
       "      <td>Bad Boys Blue \"I Totally Miss You\" I did you w...</td>\n",
       "    </tr>\n",
       "    <tr>\n",
       "      <th>290180</th>\n",
       "      <td>celine dion</td>\n",
       "      <td>sorry for love</td>\n",
       "      <td>Pop</td>\n",
       "      <td>en</td>\n",
       "      <td>Forgive me for the things That I never said to...</td>\n",
       "    </tr>\n",
       "    <tr>\n",
       "      <th>290181</th>\n",
       "      <td>dan bern</td>\n",
       "      <td>cure for aids</td>\n",
       "      <td>Indie</td>\n",
       "      <td>en</td>\n",
       "      <td>The day they found a cure for AIDS The day the...</td>\n",
       "    </tr>\n",
       "    <tr>\n",
       "      <th>290182</th>\n",
       "      <td>crawdad republic</td>\n",
       "      <td>iceberg meadows</td>\n",
       "      <td>Pop</td>\n",
       "      <td>en</td>\n",
       "      <td>Fourth of July has come, it's custom that we g...</td>\n",
       "    </tr>\n",
       "  </tbody>\n",
       "</table>\n",
       "<p>290183 rows × 5 columns</p>\n",
       "</div>"
      ],
      "text/plain": [
       "                  Artist  ...                                             Lyrics\n",
       "0              12 stones  ...  It starts with pain, followed by hate\\nFueled ...\n",
       "1              12 stones  ...  Freedom!\\nAlone again again alone\\nPatiently w...\n",
       "2              12 stones  ...  Biting the hand that feeds you, lying to the v...\n",
       "3              12 stones  ...  You say you know just who I am\\nBut you can't ...\n",
       "4              12 stones  ...  My heart is beating faster can't control these...\n",
       "...                  ...  ...                                                ...\n",
       "290178      bobby womack  ...  I'm the best friend he's got I'd give him the ...\n",
       "290179     bad boys blue  ...  Bad Boys Blue \"I Totally Miss You\" I did you w...\n",
       "290180       celine dion  ...  Forgive me for the things That I never said to...\n",
       "290181          dan bern  ...  The day they found a cure for AIDS The day the...\n",
       "290182  crawdad republic  ...  Fourth of July has come, it's custom that we g...\n",
       "\n",
       "[290183 rows x 5 columns]"
      ]
     },
     "execution_count": 4,
     "metadata": {
      "tags": []
     },
     "output_type": "execute_result"
    }
   ],
   "source": [
    "train = pd.read_csv('/content/drive/MyDrive/Colab Notebooks/train.csv')\n",
    "\n",
    "train"
   ]
  },
  {
   "cell_type": "code",
   "execution_count": null,
   "metadata": {
    "colab": {
     "base_uri": "https://localhost:8080/"
    },
    "id": "KiE2OiTZrXuZ",
    "outputId": "07a38c6c-d5e9-4d4e-c0f6-84db82cfaffa"
   },
   "outputs": [
    {
     "data": {
      "text/plain": [
       "Rock          121404\n",
       "Pop           108714\n",
       "Metal          20291\n",
       "Jazz           13545\n",
       "Folk            8644\n",
       "Indie           8449\n",
       "R&B             2793\n",
       "Hip-Hop         2240\n",
       "Electronic      2213\n",
       "Country         1890\n",
       "Name: Genre, dtype: int64"
      ]
     },
     "execution_count": 5,
     "metadata": {
      "tags": []
     },
     "output_type": "execute_result"
    }
   ],
   "source": [
    "train['Genre'].value_counts()"
   ]
  },
  {
   "cell_type": "code",
   "execution_count": null,
   "metadata": {
    "colab": {
     "base_uri": "https://localhost:8080/"
    },
    "id": "DlPRrMCTrmUt",
    "outputId": "420868e5-318f-476c-806b-da30146bb50e"
   },
   "outputs": [
    {
     "data": {
      "text/plain": [
       "(107145, 5)"
      ]
     },
     "execution_count": 8,
     "metadata": {
      "tags": []
     },
     "output_type": "execute_result"
    }
   ],
   "source": [
    "en_data = train[train['Language']=='en']\n",
    "rock = en_data[en_data['Genre']=='Rock']\n",
    "\n",
    "rock.shape"
   ]
  },
  {
   "cell_type": "code",
   "execution_count": null,
   "metadata": {
    "colab": {
     "base_uri": "https://localhost:8080/"
    },
    "id": "A0Fq7N8g6XgG",
    "outputId": "5e546271-ba8f-4447-8123-e231b0969886"
   },
   "outputs": [
    {
     "name": "stdout",
     "output_type": "stream",
     "text": [
      "Artist      0\n",
      "Song        1\n",
      "Genre       0\n",
      "Language    0\n",
      "Lyrics      0\n",
      "dtype: int64\n"
     ]
    }
   ],
   "source": [
    "print(rock.isnull().sum())\n",
    "rock = rock[rock['Lyrics'].notna()]\n"
   ]
  },
  {
   "cell_type": "code",
   "execution_count": null,
   "metadata": {
    "colab": {
     "base_uri": "https://localhost:8080/"
    },
    "id": "gl9E4OAsLPFm",
    "outputId": "0f428204-7521-4c52-9a9e-8fcd6389dca5"
   },
   "outputs": [
    {
     "data": {
      "text/plain": [
       "(500, 5)"
      ]
     },
     "execution_count": 10,
     "metadata": {
      "tags": []
     },
     "output_type": "execute_result"
    }
   ],
   "source": [
    "rock_sub = rock.sample(n=500)\n",
    "\n",
    "\n",
    "\n",
    "rock_sub.shape"
   ]
  },
  {
   "cell_type": "code",
   "execution_count": null,
   "metadata": {
    "colab": {
     "base_uri": "https://localhost:8080/"
    },
    "id": "kQqnCeFgsMaG",
    "outputId": "c531bd2a-264b-4333-dc51-af25c4fdc402"
   },
   "outputs": [
    {
     "data": {
      "text/plain": [
       "248362    Well mama go a tippy tippy toein' through the ...\n",
       "26481     Take my photo off the wall\\nIf it just won't s...\n",
       "196443    I wanna dance by water 'neath the Mexican sky\\...\n",
       "61472     You want to cuss and fight\\nIn the basement\\nT...\n",
       "214203    I found him by the railroad track this morning...\n",
       "                                ...                        \n",
       "245665    There are people who don't know me\\nWho must t...\n",
       "64984     I look up\\nThere are dark flames comin' down\\n...\n",
       "194296    There'll be no strings to bind your hands\\nNot...\n",
       "94212     Though I know it's time to take you home\\nBaby...\n",
       "62414     Life's a bitch, then you die\\nBlack Hell\\nHell...\n",
       "Name: Lyrics, Length: 500, dtype: object"
      ]
     },
     "execution_count": 11,
     "metadata": {
      "tags": []
     },
     "output_type": "execute_result"
    }
   ],
   "source": [
    "rock_lyrics = rock_sub['Lyrics'].astype('str')\n",
    "\n",
    "rock_lyrics"
   ]
  },
  {
   "cell_type": "code",
   "execution_count": null,
   "metadata": {
    "colab": {
     "base_uri": "https://localhost:8080/"
    },
    "id": "N-hUGwC4ZTh-",
    "outputId": "85a2871c-2f9c-451e-d7d8-f9eeb033f13d"
   },
   "outputs": [
    {
     "data": {
      "text/plain": [
       "248362    Well mama go a tippy tippy toein' through the ...\n",
       "26481     Take my photo off the wall\\nIf it just won't s...\n",
       "Name: Lyrics, dtype: object"
      ]
     },
     "execution_count": 15,
     "metadata": {
      "tags": []
     },
     "output_type": "execute_result"
    }
   ],
   "source": [
    "rock_lyrics[:2]"
   ]
  },
  {
   "cell_type": "code",
   "execution_count": null,
   "metadata": {
    "colab": {
     "base_uri": "https://localhost:8080/"
    },
    "id": "Z9ixFWYds9LY",
    "outputId": "ef742095-6e9f-45f4-d170-b8b699316a8a"
   },
   "outputs": [
    {
     "data": {
      "text/plain": [
       "[\"Well mama go a tippy tippy toein' through the house\\nGotta see what's the matter with the baby\\nIt's been a bawlin' and a squallin' and a kickin' on the wall\\nWell I guess it's dropped its little bottle maybe\\nOh daddy come a runnin' with the water and a rag\\nGonna need another little diaper maybe\\nNo need a hesitatin' or a wonderin' and a waitin' I know what's the matter with baby\\nOh mama rock a baby daddy rock a baby too\\nIt's a yawnin' and a gettin' sleepy maybe\\nSo mama keep a rockin' daddy rock a little too and at last it's a sleepin' little baby\\n[ steel ]\\nWell mama tippy toein' daddy tippy toein' too gonna try to do a little sleepin' maybe\\nWhether it'll be a minute or an hour or two is depending entirely on the baby\\nWell I hear the clock a ringin' just a dongin' and a dingin'\\nDaddy go and make a little money maybe\\nMama sleep a little longer but remember while he's gone\\nWon't you please take care of the baby\\nOh mama rock a baby...\\nAnd at last it's a sleepin' little baby after all it's a sleepin' little baby\\nAfter all it's a sleepin' little baby after all it's a sleepin' little baby \",\n",
       " \"Take my photo off the wall\\nIf it just won't sing for you\\n'Cause all that's left has gone away\\nAnd there's nothing there for you to prove\\nOh, look what you've done\\nYou've made a fool of everyone\\nOh well, it seems like such fun\\nUntil you lose what you had won\\nGive me back my point of view\\n'Cause I just can't think for you\\nI can hardly hear you say\\nWhat should I do, well you choose\\nOh, look what you've done\\nYou've made a fool of everyone\\nOh well, it seems like such fun\\nUntil you lose what you had won\\nOh, look what you've done\\nYou've made a fool of everyone\\nA fool of everyone\\nA fool of everyone\\nTake my photo off the wall\\nIf it just won't sing for you\\n'Cause all that's left has gone away\\nAnd there's nothing there for you to do\\nOh, look what you've done\\nYou've made a fool of everyone\\nOh well, it seems like such fun\\nUntil you lose what you had won\\nOh, look what you've done\\nYou've made a fool of everyone\\nA fool of everyone\\nA fool of everyone\"]"
      ]
     },
     "execution_count": 13,
     "metadata": {
      "tags": []
     },
     "output_type": "execute_result"
    }
   ],
   "source": [
    "rocklist = list(rock_lyrics)\n",
    "\n",
    "rocklist[:2]"
   ]
  },
  {
   "cell_type": "code",
   "execution_count": null,
   "metadata": {
    "colab": {
     "base_uri": "https://localhost:8080/",
     "height": 120
    },
    "id": "6eW4aWf6uKc4",
    "outputId": "878dae07-c08f-4e20-f3bb-101fc1810b27"
   },
   "outputs": [
    {
     "data": {
      "application/vnd.google.colaboratory.intrinsic+json": {
       "type": "string"
      },
      "text/plain": [
       "'well mama go a tippy tippy toein through the house gotta see whats the matter with the baby its been a bawlin and a squallin and a kickin on the wall well i guess its dropped its little bottle maybe oh daddy come a runnin with the water and a rag gonna need another little diaper maybe no need a hesitatin or a wonderin and a waitin i know whats the matter with baby oh mama rock a baby daddy rock a baby too its a yawnin and a gettin sleepy maybe so mama keep a rockin daddy rock a little too and at last its a sleepin little baby  steel  well mama tippy toein daddy tippy toein too gonna try to do a little sleepin maybe whether itll be a minute or an hour or two is depending entirely on the baby well i hear the clock a ringin just a dongin and a dingin daddy go and make a little money maybe mama sleep a little longer but remember while hes gone wont you please take care of the baby oh mama rock a baby and at last its a sleepin little baby after all its a sleepin little baby after all its a sleepin little baby after all its a sleepin little baby '"
      ]
     },
     "execution_count": 17,
     "metadata": {
      "tags": []
     },
     "output_type": "execute_result"
    }
   ],
   "source": [
    "import string\n",
    "\n",
    "def clean_text(txt):\n",
    "    txt = \"\".join(i for i in txt if i not in string.punctuation).lower()\n",
    "    txt = txt.replace(\"\\n\",\" \")\n",
    "    return txt \n",
    "\n",
    "corpus = [clean_text(x) for x in rocklist]\n",
    "corpus[0]"
   ]
  },
  {
   "cell_type": "code",
   "execution_count": null,
   "metadata": {
    "colab": {
     "base_uri": "https://localhost:8080/"
    },
    "id": "G_TWpoqOb2f_",
    "outputId": "9a65f943-d4eb-4aa2-a177-1f0d190f307e"
   },
   "outputs": [
    {
     "data": {
      "text/plain": [
       "1056"
      ]
     },
     "execution_count": 24,
     "metadata": {
      "tags": []
     },
     "output_type": "execute_result"
    }
   ],
   "source": [
    "len(corpus[0])"
   ]
  },
  {
   "cell_type": "code",
   "execution_count": null,
   "metadata": {
    "colab": {
     "base_uri": "https://localhost:8080/"
    },
    "id": "H3Ho8_VquN9A",
    "outputId": "5b4b4b61-6af2-4002-e2fc-51adf654524a"
   },
   "outputs": [
    {
     "data": {
      "text/plain": [
       "500"
      ]
     },
     "execution_count": 18,
     "metadata": {
      "tags": []
     },
     "output_type": "execute_result"
    }
   ],
   "source": [
    "len(corpus)"
   ]
  },
  {
   "cell_type": "code",
   "execution_count": null,
   "metadata": {
    "id": "4A8D-mxYJNtK"
   },
   "outputs": [],
   "source": [
    "corpus"
   ]
  },
  {
   "cell_type": "markdown",
   "metadata": {
    "id": "etchBXsg2kwN"
   },
   "source": [
    "### Input Sequences\n",
    "\n",
    "Input sequence is the numerical representation of how our words are arranged. "
   ]
  },
  {
   "cell_type": "code",
   "execution_count": null,
   "metadata": {
    "id": "ZFd3pxfP16FW"
   },
   "outputs": [],
   "source": [
    "from keras.preprocessing.text import Tokenizer\n",
    "\n",
    "tokenizer = Tokenizer()\n",
    "\n",
    "def get_sequence_of_tokens(corpus):\n",
    "    ## tokenization\n",
    "    tokenizer.fit_on_texts(corpus)\n",
    "    total_words = len(tokenizer.word_index) + 1\n",
    "    \n",
    "    ## convert data to sequence of tokens \n",
    "    input_sequences = []\n",
    "    for line in corpus:\n",
    "        token_list = tokenizer.texts_to_sequences([line])[0]\n",
    "        for i in range(1, len(token_list)):\n",
    "            n_gram_sequence = token_list[:i+1]\n",
    "            input_sequences.append(n_gram_sequence)\n",
    "    return input_sequences, total_words"
   ]
  },
  {
   "cell_type": "code",
   "execution_count": null,
   "metadata": {
    "id": "0yQuC7vz1_1g"
   },
   "outputs": [],
   "source": [
    "inp_sequences, total_words = get_sequence_of_tokens(corpus)\n"
   ]
  },
  {
   "cell_type": "code",
   "execution_count": null,
   "metadata": {
    "colab": {
     "base_uri": "https://localhost:8080/"
    },
    "id": "82oI8xxdbctZ",
    "outputId": "05b2e976-71e8-4089-e7ca-3d2b09eeaa37"
   },
   "outputs": [
    {
     "data": {
      "text/plain": [
       "[[61, 630],\n",
       " [61, 630, 40],\n",
       " [61, 630, 40, 6],\n",
       " [61, 630, 40, 6, 1726],\n",
       " [61, 630, 40, 6, 1726, 1726],\n",
       " [61, 630, 40, 6, 1726, 1726, 2061],\n",
       " [61, 630, 40, 6, 1726, 1726, 2061, 114],\n",
       " [61, 630, 40, 6, 1726, 1726, 2061, 114, 1],\n",
       " [61, 630, 40, 6, 1726, 1726, 2061, 114, 1, 413],\n",
       " [61, 630, 40, 6, 1726, 1726, 2061, 114, 1, 413, 160]]"
      ]
     },
     "execution_count": 26,
     "metadata": {
      "tags": []
     },
     "output_type": "execute_result"
    }
   ],
   "source": [
    "inp_sequences[:10]"
   ]
  },
  {
   "cell_type": "code",
   "execution_count": null,
   "metadata": {
    "colab": {
     "base_uri": "https://localhost:8080/"
    },
    "id": "dao2pEli2cyG",
    "outputId": "b106fcdf-a525-417d-a932-6db6257d6467"
   },
   "outputs": [
    {
     "data": {
      "text/plain": [
       "6378"
      ]
     },
     "execution_count": 27,
     "metadata": {
      "tags": []
     },
     "output_type": "execute_result"
    }
   ],
   "source": [
    "total_words"
   ]
  },
  {
   "cell_type": "code",
   "execution_count": null,
   "metadata": {
    "colab": {
     "base_uri": "https://localhost:8080/"
    },
    "id": "dXIxuUmf4rfH",
    "outputId": "03a40172-d3c8-4b5e-e752-25979bb8f19b"
   },
   "outputs": [
    {
     "data": {
      "text/plain": [
       "2378"
      ]
     },
     "execution_count": 30,
     "metadata": {
      "tags": []
     },
     "output_type": "execute_result"
    }
   ],
   "source": [
    "tokenizer.word_index['everyday']"
   ]
  },
  {
   "cell_type": "markdown",
   "metadata": {
    "id": "Zoo9KutZNyAg"
   },
   "source": [
    "### Pad Sequences"
   ]
  },
  {
   "cell_type": "code",
   "execution_count": null,
   "metadata": {
    "id": "o_GAbMCxN2SN"
   },
   "outputs": [],
   "source": [
    "from keras.preprocessing.sequence import pad_sequences\n",
    "\n",
    "max_sequence_len = max([len(x) for x in inp_sequences])\n",
    "inp_sequences = np.array(pad_sequences(inp_sequences,\n",
    "                       maxlen = max_sequence_len, padding='pre'))"
   ]
  },
  {
   "cell_type": "code",
   "execution_count": null,
   "metadata": {
    "colab": {
     "base_uri": "https://localhost:8080/"
    },
    "id": "Wmfew6bgcaTR",
    "outputId": "7724d2da-c099-4850-801c-66e8f15991d1"
   },
   "outputs": [
    {
     "data": {
      "text/plain": [
       "824"
      ]
     },
     "execution_count": 32,
     "metadata": {
      "tags": []
     },
     "output_type": "execute_result"
    }
   ],
   "source": [
    "max_sequence_len"
   ]
  },
  {
   "cell_type": "code",
   "execution_count": null,
   "metadata": {
    "colab": {
     "base_uri": "https://localhost:8080/"
    },
    "id": "DeUpTCrnOfpL",
    "outputId": "ba5da84a-4fb8-49a7-9186-d9563a020fda"
   },
   "outputs": [
    {
     "name": "stdout",
     "output_type": "stream",
     "text": [
      "(101732, 824)\n"
     ]
    },
    {
     "data": {
      "text/plain": [
       "array([[   0,    0,    0, ...,    0,   61,  630],\n",
       "       [   0,    0,    0, ...,   61,  630,   40],\n",
       "       [   0,    0,    0, ...,  630,   40,    6],\n",
       "       ...,\n",
       "       [   0,    0,    0, ..., 1614, 2564,  884],\n",
       "       [   0,    0,    0, ..., 2564,  884, 1492],\n",
       "       [   0,    0,    0, ...,  884, 1492, 3526]], dtype=int32)"
      ]
     },
     "execution_count": 33,
     "metadata": {
      "tags": []
     },
     "output_type": "execute_result"
    }
   ],
   "source": [
    "print(inp_sequences.shape)\n",
    "inp_sequences"
   ]
  },
  {
   "cell_type": "markdown",
   "metadata": {
    "id": "bqcyeXKXPgRY"
   },
   "source": [
    "### Predictions and Labels\n",
    "\n",
    "we will use our input sequence and use the last word of all sequences as labels for all previous words"
   ]
  },
  {
   "cell_type": "code",
   "execution_count": null,
   "metadata": {
    "id": "cpBp8YVNP2KM"
   },
   "outputs": [],
   "source": [
    "predictors, label = inp_sequences[:,:-1],inp_sequences[:,-1]"
   ]
  },
  {
   "cell_type": "code",
   "execution_count": null,
   "metadata": {
    "id": "1XxRgrjkVDJk"
   },
   "outputs": [],
   "source": [
    "import keras.utils as ku\n",
    "\n",
    "label = ku.to_categorical(label, num_classes=total_words)"
   ]
  },
  {
   "cell_type": "code",
   "execution_count": null,
   "metadata": {
    "colab": {
     "base_uri": "https://localhost:8080/"
    },
    "id": "GA0woWt2T1ca",
    "outputId": "dabdcf88-c0f7-4dd8-a108-44a4c72a0dc4"
   },
   "outputs": [
    {
     "data": {
      "text/plain": [
       "(101732, 6378)"
      ]
     },
     "execution_count": 36,
     "metadata": {
      "tags": []
     },
     "output_type": "execute_result"
    }
   ],
   "source": [
    "label.shape"
   ]
  },
  {
   "cell_type": "markdown",
   "metadata": {
    "id": "8pqOlp_0Qyp-"
   },
   "source": [
    "## Build the Model"
   ]
  },
  {
   "cell_type": "code",
   "execution_count": null,
   "metadata": {
    "colab": {
     "base_uri": "https://localhost:8080/"
    },
    "id": "oFMVr1CFQ7h0",
    "outputId": "65c79e1b-f29a-46c9-cda6-d84598397b66"
   },
   "outputs": [
    {
     "name": "stdout",
     "output_type": "stream",
     "text": [
      "Model: \"sequential\"\n",
      "_________________________________________________________________\n",
      "Layer (type)                 Output Shape              Param #   \n",
      "=================================================================\n",
      "embedding (Embedding)        (None, 823, 50)           318900    \n",
      "_________________________________________________________________\n",
      "lstm (LSTM)                  (None, 100)               60400     \n",
      "_________________________________________________________________\n",
      "dense (Dense)                (None, 3189)              322089    \n",
      "_________________________________________________________________\n",
      "dense_1 (Dense)              (None, 6378)              20345820  \n",
      "=================================================================\n",
      "Total params: 21,047,209\n",
      "Trainable params: 21,047,209\n",
      "Non-trainable params: 0\n",
      "_________________________________________________________________\n"
     ]
    }
   ],
   "source": [
    "from keras.models import Sequential\n",
    "from tensorflow.keras.layers import Embedding, LSTM, Dense, Dropout\n",
    "\n",
    "model01 = Sequential()\n",
    "model01.add(Embedding(total_words, 50, input_length=max_sequence_len-1))\n",
    "# Add a LSTM Layer\n",
    "model01.add(LSTM(100)) \n",
    "model01.add(Dense(total_words/2, activation='relu'))  \n",
    "# In the last layer, the shape should be equal to the total number of words present in our corpus\n",
    "model01.add(Dense(total_words, activation='softmax'))\n",
    "model01.compile(loss='categorical_crossentropy', optimizer='adam', metrics='accuracy')  \n",
    "\n",
    "model01.summary()"
   ]
  },
  {
   "cell_type": "code",
   "execution_count": null,
   "metadata": {
    "colab": {
     "base_uri": "https://localhost:8080/"
    },
    "id": "l3t7uvHbR30m",
    "outputId": "5aa65632-29fe-47e2-e354-ef616c2b80c2"
   },
   "outputs": [
    {
     "name": "stdout",
     "output_type": "stream",
     "text": [
      "Epoch 1/10\n",
      "3180/3180 [==============================] - 166s 42ms/step - loss: 6.3721 - accuracy: 0.0475\n",
      "Epoch 2/10\n",
      "3180/3180 [==============================] - 132s 41ms/step - loss: 5.3229 - accuracy: 0.1172\n",
      "Epoch 3/10\n",
      "3180/3180 [==============================] - 131s 41ms/step - loss: 4.5892 - accuracy: 0.1802\n",
      "Epoch 4/10\n",
      "3180/3180 [==============================] - 131s 41ms/step - loss: 3.9433 - accuracy: 0.2471\n",
      "Epoch 5/10\n",
      "3180/3180 [==============================] - 133s 42ms/step - loss: 3.3562 - accuracy: 0.3174\n",
      "Epoch 6/10\n",
      "3180/3180 [==============================] - 133s 42ms/step - loss: 2.8106 - accuracy: 0.3925\n",
      "Epoch 7/10\n",
      "3180/3180 [==============================] - 132s 42ms/step - loss: 2.3019 - accuracy: 0.4742\n",
      "Epoch 8/10\n",
      "3180/3180 [==============================] - 131s 41ms/step - loss: 1.8296 - accuracy: 0.5651\n",
      "Epoch 9/10\n",
      "3180/3180 [==============================] - 131s 41ms/step - loss: 1.4552 - accuracy: 0.6433\n",
      "Epoch 10/10\n",
      "3180/3180 [==============================] - 131s 41ms/step - loss: 1.1566 - accuracy: 0.7073\n"
     ]
    }
   ],
   "source": [
    "his01 = model01.fit(predictors, label, epochs= 10, verbose=1)"
   ]
  },
  {
   "cell_type": "markdown",
   "metadata": {
    "id": "geATPdwLZlum"
   },
   "source": [
    "Save the model"
   ]
  },
  {
   "cell_type": "code",
   "execution_count": null,
   "metadata": {
    "id": "x9_QFxMyZoxX"
   },
   "outputs": [],
   "source": [
    "!pip install -q pyyaml h5py\n",
    "\n",
    "model01.save('rock_enonly.h5')"
   ]
  },
  {
   "cell_type": "markdown",
   "metadata": {
    "id": "51knNMlxZ3m5"
   },
   "source": [
    "### Lyrics Generation"
   ]
  },
  {
   "cell_type": "code",
   "execution_count": null,
   "metadata": {
    "id": "Y9-rkzv0aAIB"
   },
   "outputs": [],
   "source": [
    "def make_lyrics(seed_text, next_words):\n",
    "    for _ in range(next_words):\n",
    "        token_list = tokenizer.texts_to_sequences([seed_text])[0]\n",
    "        token_list = pad_sequences([token_list],\n",
    "                     maxlen=max_sequence_len-1,padding='pre')\n",
    "        \n",
    "        predicted = model01.predict_classes(token_list, verbose=0)\n",
    "\n",
    "        output_word = \"\"\n",
    "        \n",
    "        for word, index in tokenizer.word_index.items():\n",
    "            if index == predicted:\n",
    "                output_word = word\n",
    "                break\n",
    "        seed_text += \" \" + output_word\n",
    "    print(seed_text)"
   ]
  },
  {
   "cell_type": "code",
   "execution_count": null,
   "metadata": {
    "colab": {
     "base_uri": "https://localhost:8080/"
    },
    "id": "Ff1EGnLyelE1",
    "outputId": "85a12305-da06-45c8-fbfe-245e29b58459"
   },
   "outputs": [
    {
     "name": "stderr",
     "output_type": "stream",
     "text": [
      "/usr/local/lib/python3.7/dist-packages/tensorflow/python/keras/engine/sequential.py:450: UserWarning: `model.predict_classes()` is deprecated and will be removed after 2021-01-01. Please use instead:* `np.argmax(model.predict(x), axis=-1)`,   if your model does multi-class classification   (e.g. if it uses a `softmax` last-layer activation).* `(model.predict(x) > 0.5).astype(\"int32\")`,   if your model does binary classification   (e.g. if it uses a `sigmoid` last-layer activation).\n",
      "  warnings.warn('`model.predict_classes()` is deprecated and '\n"
     ]
    },
    {
     "name": "stdout",
     "output_type": "stream",
     "text": [
      "look at mei must be absolutely crazy how did 1 ever ever stop the news of time ill stand the sun was the night cause when the night that life was that lonesome comes through the anger and the laughter she knows that she matters and somebody out there cares what does she gain by their soul she found the boy she likes she wanted to get married settle down for life she didnt know love was so grand she never took love second hand but she called the soul of heaven run off the earth in their squeaky under mornings sleepy\n"
     ]
    }
   ],
   "source": [
    "make_lyrics(\"look at\", 100)"
   ]
  },
  {
   "cell_type": "code",
   "execution_count": null,
   "metadata": {
    "colab": {
     "base_uri": "https://localhost:8080/"
    },
    "id": "sftYBcXTaAIB",
    "outputId": "6193c6c5-27a9-456d-8314-23142c64d7e3"
   },
   "outputs": [
    {
     "name": "stderr",
     "output_type": "stream",
     "text": [
      "/usr/local/lib/python3.7/dist-packages/tensorflow/python/keras/engine/sequential.py:450: UserWarning: `model.predict_classes()` is deprecated and will be removed after 2021-01-01. Please use instead:* `np.argmax(model.predict(x), axis=-1)`,   if your model does multi-class classification   (e.g. if it uses a `softmax` last-layer activation).* `(model.predict(x) > 0.5).astype(\"int32\")`,   if your model does binary classification   (e.g. if it uses a `sigmoid` last-layer activation).\n",
      "  warnings.warn('`model.predict_classes()` is deprecated and '\n"
     ]
    },
    {
     "name": "stdout",
     "output_type": "stream",
     "text": [
      "look at mei must be absolutely crazy how did 1 ever ever stop the news of time ill stand the sun was the night cause when the night that life was that lonesome comes through the anger and the laughter she knows that she matters and somebody out there cares what does she gain by their soul she found the boy she likes she wanted to get married settle down for life she didnt know love was so grand she never took love second hand but she called the soul of heaven run off the earth in their squeaky under mornings sleepy were so glad were so far under far and early way haul away well haul away joe haul away joe boys meeting on up with the old st croix keep a rowing me boys its a raftmans life for me toy cars and candy bars are just a waste of money way haul away well haul away joe haul away joe boys meeting on up with the old st croix keep a rowing me boys its a raftmans life for me toy cars and candy bars are just a waste of money way haul away well haul away joe haul\n"
     ]
    }
   ],
   "source": [
    "make_lyrics(\"look at\", 200)"
   ]
  },
  {
   "cell_type": "code",
   "execution_count": null,
   "metadata": {
    "colab": {
     "base_uri": "https://localhost:8080/"
    },
    "id": "G6f-2vx4aAIB",
    "outputId": "5b46c680-53a3-4b02-b035-4faca3297fab"
   },
   "outputs": [
    {
     "name": "stderr",
     "output_type": "stream",
     "text": [
      "/usr/local/lib/python3.7/dist-packages/tensorflow/python/keras/engine/sequential.py:450: UserWarning: `model.predict_classes()` is deprecated and will be removed after 2021-01-01. Please use instead:* `np.argmax(model.predict(x), axis=-1)`,   if your model does multi-class classification   (e.g. if it uses a `softmax` last-layer activation).* `(model.predict(x) > 0.5).astype(\"int32\")`,   if your model does binary classification   (e.g. if it uses a `sigmoid` last-layer activation).\n",
      "  warnings.warn('`model.predict_classes()` is deprecated and '\n"
     ]
    },
    {
     "name": "stdout",
     "output_type": "stream",
     "text": [
      "hold on the feeling that the power is gone and the power is ready to stand on my own two knees yes i should know better blue i know youre yours in the night of the parking you used to make me feel it makes my soul my soul my love love love love love love love will not let you down my love love love love love love love love will not let you down my love love love love love love love love love love love love love love love love love love love love love love love love love love love love love love love love love love love love love love love love love love love love love love love love love love love love love love love love love love love love love love love love love love love love love love love love love love love love love love love love love love love love love love love love love love love love love love love love love love love love love love love love love love love love love love love love love love love love love love love love love love love love love love love\n"
     ]
    }
   ],
   "source": [
    "make_lyrics(\"hold on the feeling\", 200)"
   ]
  },
  {
   "cell_type": "code",
   "execution_count": null,
   "metadata": {
    "colab": {
     "base_uri": "https://localhost:8080/"
    },
    "id": "i8EiTWJCjAJ3",
    "outputId": "362337c2-247b-41b0-cbe0-5cdee5a0c6aa"
   },
   "outputs": [
    {
     "name": "stderr",
     "output_type": "stream",
     "text": [
      "/usr/local/lib/python3.7/dist-packages/tensorflow/python/keras/engine/sequential.py:450: UserWarning: `model.predict_classes()` is deprecated and will be removed after 2021-01-01. Please use instead:* `np.argmax(model.predict(x), axis=-1)`,   if your model does multi-class classification   (e.g. if it uses a `softmax` last-layer activation).* `(model.predict(x) > 0.5).astype(\"int32\")`,   if your model does binary classification   (e.g. if it uses a `sigmoid` last-layer activation).\n",
      "  warnings.warn('`model.predict_classes()` is deprecated and '\n"
     ]
    },
    {
     "name": "stdout",
     "output_type": "stream",
     "text": [
      "somebody else would help you through the top you think youve got the whole soul you take away the breath of my head i miss you like crazy i miss you baby no matter what i say or ever oh take my only love to disconnect to you you make my dreams come true make you make my love love love love love love love love love love love love love love love love love love love love love love love love love love love love love love love love love love love love love love love love love love love love\n"
     ]
    }
   ],
   "source": [
    "make_lyrics(\"somebody else\",100)"
   ]
  },
  {
   "cell_type": "code",
   "execution_count": null,
   "metadata": {
    "colab": {
     "base_uri": "https://localhost:8080/"
    },
    "id": "T4lJPUdrjSfH",
    "outputId": "e9269bdd-789e-4dcb-80aa-6b3dcc250aec"
   },
   "outputs": [
    {
     "name": "stderr",
     "output_type": "stream",
     "text": [
      "/usr/local/lib/python3.7/dist-packages/tensorflow/python/keras/engine/sequential.py:450: UserWarning: `model.predict_classes()` is deprecated and will be removed after 2021-01-01. Please use instead:* `np.argmax(model.predict(x), axis=-1)`,   if your model does multi-class classification   (e.g. if it uses a `softmax` last-layer activation).* `(model.predict(x) > 0.5).astype(\"int32\")`,   if your model does binary classification   (e.g. if it uses a `sigmoid` last-layer activation).\n",
      "  warnings.warn('`model.predict_classes()` is deprecated and '\n"
     ]
    },
    {
     "name": "stdout",
     "output_type": "stream",
     "text": [
      "act like summer ta na na na muchawa ta na na na muchawa muchawa ta na na na muchawa muchawa ta na na na muchawa muchawa ta na na na muchawa muchawa ta na na na muchawa muchawa ta na na na muchawa muchawa ta na na na muchawa muchawa ta na na\n"
     ]
    }
   ],
   "source": [
    "make_lyrics(\"act like summer\", 50)"
   ]
  },
  {
   "cell_type": "code",
   "execution_count": null,
   "metadata": {
    "colab": {
     "base_uri": "https://localhost:8080/"
    },
    "id": "QyzzyLYFjiWv",
    "outputId": "e8cebb4b-b78a-4dcf-be08-a0cfb8ac350e"
   },
   "outputs": [
    {
     "name": "stderr",
     "output_type": "stream",
     "text": [
      "/usr/local/lib/python3.7/dist-packages/tensorflow/python/keras/engine/sequential.py:450: UserWarning: `model.predict_classes()` is deprecated and will be removed after 2021-01-01. Please use instead:* `np.argmax(model.predict(x), axis=-1)`,   if your model does multi-class classification   (e.g. if it uses a `softmax` last-layer activation).* `(model.predict(x) > 0.5).astype(\"int32\")`,   if your model does binary classification   (e.g. if it uses a `sigmoid` last-layer activation).\n",
      "  warnings.warn('`model.predict_classes()` is deprecated and '\n"
     ]
    },
    {
     "name": "stdout",
     "output_type": "stream",
     "text": [
      "walk like rain i am told me not to worry about my life my stupid heart is pounding the only beat you a beat you a beat of my heart you know soul of my soul heart of my heart the greatest treasure of my life thats what you are soul of my\n"
     ]
    }
   ],
   "source": [
    "make_lyrics(\"walk like rain\", 50)"
   ]
  },
  {
   "cell_type": "markdown",
   "metadata": {
    "id": "wLQ6ytCqdRlR"
   },
   "source": [
    "# Change the Padding length to 500"
   ]
  },
  {
   "cell_type": "markdown",
   "metadata": {
    "id": "S7eb84Qqdt_Z"
   },
   "source": [
    "### Pad Sequences"
   ]
  },
  {
   "cell_type": "code",
   "execution_count": null,
   "metadata": {
    "id": "69SeocGYdt_a"
   },
   "outputs": [],
   "source": [
    "from keras.preprocessing.sequence import pad_sequences\n",
    "\n",
    "max_sequence_len = 500\n",
    "inp_sequences = np.array(pad_sequences(inp_sequences,\n",
    "                       maxlen = max_sequence_len, padding='pre'))"
   ]
  },
  {
   "cell_type": "code",
   "execution_count": null,
   "metadata": {
    "colab": {
     "base_uri": "https://localhost:8080/"
    },
    "id": "LOld5A0Pdt_k",
    "outputId": "ee283a2d-e3ef-4b8c-e737-8661b12f4589"
   },
   "outputs": [
    {
     "name": "stdout",
     "output_type": "stream",
     "text": [
      "(101732, 500)\n"
     ]
    },
    {
     "data": {
      "text/plain": [
       "array([[   0,    0,    0, ...,    0,   61,  630],\n",
       "       [   0,    0,    0, ...,   61,  630,   40],\n",
       "       [   0,    0,    0, ...,  630,   40,    6],\n",
       "       ...,\n",
       "       [   0,    0,    0, ..., 1614, 2564,  884],\n",
       "       [   0,    0,    0, ..., 2564,  884, 1492],\n",
       "       [   0,    0,    0, ...,  884, 1492, 3526]], dtype=int32)"
      ]
     },
     "execution_count": 87,
     "metadata": {
      "tags": []
     },
     "output_type": "execute_result"
    }
   ],
   "source": [
    "print(inp_sequences.shape)\n",
    "inp_sequences"
   ]
  },
  {
   "cell_type": "markdown",
   "metadata": {
    "id": "0VlTW4pKdt_l"
   },
   "source": [
    "### Predictions and Labels\n",
    "\n",
    "we will use our input sequence and use the last word of all sequences as labels for all previous words"
   ]
  },
  {
   "cell_type": "code",
   "execution_count": null,
   "metadata": {
    "id": "dZuwFaoYdt_l"
   },
   "outputs": [],
   "source": [
    "predictors, label = inp_sequences[:,:-1],inp_sequences[:,-1]"
   ]
  },
  {
   "cell_type": "code",
   "execution_count": null,
   "metadata": {
    "id": "QYMAD2Ywdt_l"
   },
   "outputs": [],
   "source": [
    "import keras.utils as ku\n",
    "\n",
    "label = ku.to_categorical(label, num_classes=total_words)"
   ]
  },
  {
   "cell_type": "code",
   "execution_count": null,
   "metadata": {
    "colab": {
     "base_uri": "https://localhost:8080/"
    },
    "id": "9FCMzdELdt_l",
    "outputId": "f2615780-0116-4114-e676-f4f4816346a1"
   },
   "outputs": [
    {
     "data": {
      "text/plain": [
       "(101732, 6378)"
      ]
     },
     "execution_count": 90,
     "metadata": {
      "tags": []
     },
     "output_type": "execute_result"
    }
   ],
   "source": [
    "label.shape"
   ]
  },
  {
   "cell_type": "markdown",
   "metadata": {
    "id": "AwvQ3-_1dt_l"
   },
   "source": [
    "## Build the Model"
   ]
  },
  {
   "cell_type": "code",
   "execution_count": null,
   "metadata": {
    "colab": {
     "base_uri": "https://localhost:8080/"
    },
    "id": "JcqR70mldt_m",
    "outputId": "54700bf0-557f-4fdd-dbde-986e93ff803d"
   },
   "outputs": [
    {
     "name": "stdout",
     "output_type": "stream",
     "text": [
      "Model: \"sequential_1\"\n",
      "_________________________________________________________________\n",
      "Layer (type)                 Output Shape              Param #   \n",
      "=================================================================\n",
      "embedding_1 (Embedding)      (None, 499, 50)           318900    \n",
      "_________________________________________________________________\n",
      "lstm_1 (LSTM)                (None, 100)               60400     \n",
      "_________________________________________________________________\n",
      "dense_2 (Dense)              (None, 3189)              322089    \n",
      "_________________________________________________________________\n",
      "dense_3 (Dense)              (None, 6378)              20345820  \n",
      "=================================================================\n",
      "Total params: 21,047,209\n",
      "Trainable params: 21,047,209\n",
      "Non-trainable params: 0\n",
      "_________________________________________________________________\n"
     ]
    }
   ],
   "source": [
    "from keras.models import Sequential\n",
    "from tensorflow.keras.layers import Embedding, LSTM, Dense, Dropout\n",
    "\n",
    "model02 = Sequential()\n",
    "model02.add(Embedding(total_words, 50, input_length=max_sequence_len-1))\n",
    "# Add a LSTM Layer\n",
    "model02.add(LSTM(100)) \n",
    "model02.add(Dense(total_words/2, activation='relu'))  \n",
    "# In the last layer, the shape should be equal to the total number of words present in our corpus\n",
    "model02.add(Dense(total_words, activation='softmax'))\n",
    "model02.compile(loss='categorical_crossentropy', optimizer='adam', metrics='accuracy')  \n",
    "\n",
    "model02.summary()"
   ]
  },
  {
   "cell_type": "code",
   "execution_count": null,
   "metadata": {
    "colab": {
     "base_uri": "https://localhost:8080/"
    },
    "id": "myUbEFTYd6EM",
    "outputId": "5d0439fc-c21f-41de-eaad-f6ab6245979e"
   },
   "outputs": [
    {
     "name": "stdout",
     "output_type": "stream",
     "text": [
      "Epoch 1/10\n",
      "3180/3180 [==============================] - 98s 30ms/step - loss: 6.3857 - accuracy: 0.0461\n",
      "Epoch 2/10\n",
      "3180/3180 [==============================] - 96s 30ms/step - loss: 5.3459 - accuracy: 0.1188\n",
      "Epoch 3/10\n",
      "3180/3180 [==============================] - 96s 30ms/step - loss: 4.6535 - accuracy: 0.1735\n",
      "Epoch 4/10\n",
      "3180/3180 [==============================] - 97s 30ms/step - loss: 4.0517 - accuracy: 0.2299\n",
      "Epoch 5/10\n",
      "3180/3180 [==============================] - 96s 30ms/step - loss: 3.4596 - accuracy: 0.3027\n",
      "Epoch 6/10\n",
      "3180/3180 [==============================] - 96s 30ms/step - loss: 2.9119 - accuracy: 0.3783\n",
      "Epoch 7/10\n",
      "3180/3180 [==============================] - 97s 30ms/step - loss: 2.4045 - accuracy: 0.4578\n",
      "Epoch 8/10\n",
      "3180/3180 [==============================] - 97s 30ms/step - loss: 1.9150 - accuracy: 0.5498\n",
      "Epoch 9/10\n",
      "3180/3180 [==============================] - 96s 30ms/step - loss: 1.5260 - accuracy: 0.6291\n",
      "Epoch 10/10\n",
      "3180/3180 [==============================] - 97s 30ms/step - loss: 1.2046 - accuracy: 0.6972\n"
     ]
    }
   ],
   "source": [
    "from keras.callbacks import EarlyStopping\n",
    "\n",
    "es = EarlyStopping(monitor='loss', mode='min', verbose=1)\n",
    "his02 = model02.fit(predictors, label, epochs= 10, callbacks=[es])"
   ]
  },
  {
   "cell_type": "markdown",
   "metadata": {
    "id": "FfGI6k2xeL28"
   },
   "source": [
    "Save the model"
   ]
  },
  {
   "cell_type": "code",
   "execution_count": null,
   "metadata": {
    "id": "DH6fmS5SeL29"
   },
   "outputs": [],
   "source": [
    "!pip install -q pyyaml h5py\n",
    "\n",
    "model02.save('rock_padding500.h5')"
   ]
  },
  {
   "cell_type": "markdown",
   "metadata": {
    "id": "rpx6h67zeL29"
   },
   "source": [
    "### Lyrics Generation"
   ]
  },
  {
   "cell_type": "code",
   "execution_count": null,
   "metadata": {
    "id": "QJjAqYgMeL29"
   },
   "outputs": [],
   "source": [
    "def rock2_lyrics(seed_text, next_words):\n",
    "    for _ in range(next_words):\n",
    "        token_list = tokenizer.texts_to_sequences([seed_text])[0]\n",
    "        token_list = pad_sequences([token_list],\n",
    "                     maxlen=max_sequence_len-1,padding='pre')\n",
    "        \n",
    "        predicted = model02.predict_classes(token_list, verbose=0)\n",
    "\n",
    "        output_word = \"\"\n",
    "        \n",
    "        for word, index in tokenizer.word_index.items():\n",
    "            if index == predicted:\n",
    "                output_word = word\n",
    "                break\n",
    "        seed_text += \" \" + output_word\n",
    "    print(seed_text)"
   ]
  },
  {
   "cell_type": "code",
   "execution_count": null,
   "metadata": {
    "colab": {
     "base_uri": "https://localhost:8080/"
    },
    "id": "-VzbJKLieL2-",
    "outputId": "d9b7446a-da1c-425e-feef-5a424cc095d4"
   },
   "outputs": [
    {
     "name": "stderr",
     "output_type": "stream",
     "text": [
      "/usr/local/lib/python3.7/dist-packages/tensorflow/python/keras/engine/sequential.py:450: UserWarning: `model.predict_classes()` is deprecated and will be removed after 2021-01-01. Please use instead:* `np.argmax(model.predict(x), axis=-1)`,   if your model does multi-class classification   (e.g. if it uses a `softmax` last-layer activation).* `(model.predict(x) > 0.5).astype(\"int32\")`,   if your model does binary classification   (e.g. if it uses a `sigmoid` last-layer activation).\n",
      "  warnings.warn('`model.predict_classes()` is deprecated and '\n"
     ]
    },
    {
     "name": "stdout",
     "output_type": "stream",
     "text": [
      "look at mei must be absolutely crazy how crazy i love you say goodbye if you aint livin if you dont know about lonely till its chiseled in stone you know about lonely till its chiseled in stone you know about lonely till the lights just call yourself this ride running through snow where the vaults are full and the fire comes are the long book i see the less the less i believe the less i believe the less i believe the more i see the less i believe the more i see the less i believe the more i see\n"
     ]
    }
   ],
   "source": [
    "rock2_lyrics(\"look at\", 100)"
   ]
  },
  {
   "cell_type": "code",
   "execution_count": null,
   "metadata": {
    "colab": {
     "base_uri": "https://localhost:8080/"
    },
    "id": "R9YC6867eL2-",
    "outputId": "461d9e1f-4505-4274-f2f8-a310522cbae1"
   },
   "outputs": [
    {
     "name": "stderr",
     "output_type": "stream",
     "text": [
      "/usr/local/lib/python3.7/dist-packages/tensorflow/python/keras/engine/sequential.py:450: UserWarning: `model.predict_classes()` is deprecated and will be removed after 2021-01-01. Please use instead:* `np.argmax(model.predict(x), axis=-1)`,   if your model does multi-class classification   (e.g. if it uses a `softmax` last-layer activation).* `(model.predict(x) > 0.5).astype(\"int32\")`,   if your model does binary classification   (e.g. if it uses a `sigmoid` last-layer activation).\n",
      "  warnings.warn('`model.predict_classes()` is deprecated and '\n"
     ]
    },
    {
     "name": "stdout",
     "output_type": "stream",
     "text": [
      "look at mei must be absolutely crazy how crazy i love you say goodbye if you aint livin if you dont know about lonely till its chiseled in stone you know about lonely till its chiseled in stone you know about lonely till the lights just call yourself this ride running through\n"
     ]
    }
   ],
   "source": [
    "rock2_lyrics(\"look at\", 50)"
   ]
  },
  {
   "cell_type": "code",
   "execution_count": null,
   "metadata": {
    "colab": {
     "base_uri": "https://localhost:8080/"
    },
    "id": "fjI8CTDceL2_",
    "outputId": "661f0f22-8623-4cc0-fe4c-5a5e8c079c4e"
   },
   "outputs": [
    {
     "name": "stderr",
     "output_type": "stream",
     "text": [
      "/usr/local/lib/python3.7/dist-packages/tensorflow/python/keras/engine/sequential.py:450: UserWarning: `model.predict_classes()` is deprecated and will be removed after 2021-01-01. Please use instead:* `np.argmax(model.predict(x), axis=-1)`,   if your model does multi-class classification   (e.g. if it uses a `softmax` last-layer activation).* `(model.predict(x) > 0.5).astype(\"int32\")`,   if your model does binary classification   (e.g. if it uses a `sigmoid` last-layer activation).\n",
      "  warnings.warn('`model.predict_classes()` is deprecated and '\n"
     ]
    },
    {
     "name": "stdout",
     "output_type": "stream",
     "text": [
      "hold on the feeling theres old enough to arrive but if he cant have you guess that no one else will watch him think a while smoke a cigarette and smile as i frown drink about the heartache that cost and he has been himhe like her but she wasnt like that then i\n"
     ]
    }
   ],
   "source": [
    "rock2_lyrics(\"hold on the feeling\", 50)"
   ]
  },
  {
   "cell_type": "code",
   "execution_count": null,
   "metadata": {
    "colab": {
     "base_uri": "https://localhost:8080/"
    },
    "id": "XfDaaq6Yp6A2",
    "outputId": "78ee79b2-536e-4a78-b29a-dbdb8e775d89"
   },
   "outputs": [
    {
     "name": "stderr",
     "output_type": "stream",
     "text": [
      "/usr/local/lib/python3.7/dist-packages/tensorflow/python/keras/engine/sequential.py:450: UserWarning: `model.predict_classes()` is deprecated and will be removed after 2021-01-01. Please use instead:* `np.argmax(model.predict(x), axis=-1)`,   if your model does multi-class classification   (e.g. if it uses a `softmax` last-layer activation).* `(model.predict(x) > 0.5).astype(\"int32\")`,   if your model does binary classification   (e.g. if it uses a `sigmoid` last-layer activation).\n",
      "  warnings.warn('`model.predict_classes()` is deprecated and '\n"
     ]
    },
    {
     "name": "stdout",
     "output_type": "stream",
     "text": [
      "somebody else was the longest tuff goodbye so many loves and no use besides the sun wont let the show em em oh oh yeah oh yeah oh oh oh oh oh oh oh oh oh oh oh oh oh oh oh oh oh oh oh oh oh oh oh oh oh oh oh oh oh oh youre never far away oh oh oh oh youre never far away oh oh oh oh youre never far away oh oh oh oh youre never far away oh oh oh oh youre never far away oh oh oh oh youre never far away oh\n"
     ]
    }
   ],
   "source": [
    "rock2_lyrics(\"somebody else\",100)"
   ]
  },
  {
   "cell_type": "code",
   "execution_count": null,
   "metadata": {
    "colab": {
     "base_uri": "https://localhost:8080/"
    },
    "id": "f16Cycbup6A4",
    "outputId": "42853bcf-9f77-4cb1-c294-e03f390f8be0"
   },
   "outputs": [
    {
     "name": "stderr",
     "output_type": "stream",
     "text": [
      "/usr/local/lib/python3.7/dist-packages/tensorflow/python/keras/engine/sequential.py:450: UserWarning: `model.predict_classes()` is deprecated and will be removed after 2021-01-01. Please use instead:* `np.argmax(model.predict(x), axis=-1)`,   if your model does multi-class classification   (e.g. if it uses a `softmax` last-layer activation).* `(model.predict(x) > 0.5).astype(\"int32\")`,   if your model does binary classification   (e.g. if it uses a `sigmoid` last-layer activation).\n",
      "  warnings.warn('`model.predict_classes()` is deprecated and '\n"
     ]
    },
    {
     "name": "stdout",
     "output_type": "stream",
     "text": [
      "act like summer my own friends tell me im tossed and moving on a twenty can taste and i cant change back for you i cant read it why cant i cant get by im im not like im not gonna get ready to never get ready to get get out get out\n"
     ]
    }
   ],
   "source": [
    "rock2_lyrics(\"act like summer\", 50)"
   ]
  },
  {
   "cell_type": "code",
   "execution_count": null,
   "metadata": {
    "colab": {
     "base_uri": "https://localhost:8080/"
    },
    "id": "F5IWvP4Xp6A4",
    "outputId": "a181494f-1bc9-4197-bb5f-421e3f236ea5"
   },
   "outputs": [
    {
     "name": "stderr",
     "output_type": "stream",
     "text": [
      "/usr/local/lib/python3.7/dist-packages/tensorflow/python/keras/engine/sequential.py:450: UserWarning: `model.predict_classes()` is deprecated and will be removed after 2021-01-01. Please use instead:* `np.argmax(model.predict(x), axis=-1)`,   if your model does multi-class classification   (e.g. if it uses a `softmax` last-layer activation).* `(model.predict(x) > 0.5).astype(\"int32\")`,   if your model does binary classification   (e.g. if it uses a `sigmoid` last-layer activation).\n",
      "  warnings.warn('`model.predict_classes()` is deprecated and '\n"
     ]
    },
    {
     "name": "stdout",
     "output_type": "stream",
     "text": [
      "walk like rain the goods salesman gonna see the sun wont go down but the end moon as he is different than a uk bside in 1980 steal away child into your dreams where nothing else matters were together again together again go so go so tell me im losin you im losin\n"
     ]
    }
   ],
   "source": [
    "rock2_lyrics(\"walk like rain\", 50)"
   ]
  },
  {
   "cell_type": "markdown",
   "metadata": {
    "id": "RKV6HX_7Y1RE"
   },
   "source": [
    "## More Layers with Early Stopping"
   ]
  },
  {
   "cell_type": "code",
   "execution_count": null,
   "metadata": {
    "colab": {
     "base_uri": "https://localhost:8080/"
    },
    "id": "Tnuw0ut-ZA68",
    "outputId": "2724ce22-6058-4fe4-c2b4-3330b2318dfe"
   },
   "outputs": [
    {
     "name": "stdout",
     "output_type": "stream",
     "text": [
      "Model: \"sequential_4\"\n",
      "_________________________________________________________________\n",
      "Layer (type)                 Output Shape              Param #   \n",
      "=================================================================\n",
      "embedding_4 (Embedding)      (None, 499, 50)           318900    \n",
      "_________________________________________________________________\n",
      "lstm_5 (LSTM)                (None, 499, 128)          91648     \n",
      "_________________________________________________________________\n",
      "dropout_1 (Dropout)          (None, 499, 128)          0         \n",
      "_________________________________________________________________\n",
      "lstm_6 (LSTM)                (None, 100)               91600     \n",
      "_________________________________________________________________\n",
      "dense_8 (Dense)              (None, 3189)              322089    \n",
      "_________________________________________________________________\n",
      "dense_9 (Dense)              (None, 6378)              20345820  \n",
      "=================================================================\n",
      "Total params: 21,170,057\n",
      "Trainable params: 21,170,057\n",
      "Non-trainable params: 0\n",
      "_________________________________________________________________\n"
     ]
    }
   ],
   "source": [
    "from keras.models import Sequential\n",
    "from tensorflow.keras.layers import Embedding, LSTM, Dense, Dropout\n",
    "\n",
    "model05 = Sequential()\n",
    "model05.add(Embedding(total_words, 50, input_length=max_sequence_len-1))\n",
    "# Add a LSTM Layer\n",
    "model05.add(LSTM(128, return_sequences=True)) \n",
    "# A dropout layer for regularisation\n",
    "model05.add(Dropout(0.2))\n",
    "# Add another LSTM Layer\n",
    "model05.add(LSTM(100)) \n",
    "model05.add(Dense(total_words/2, activation='relu'))  \n",
    "# In the last layer, the shape should be equal to the total number of words present in our corpus\n",
    "model05.add(Dense(total_words, activation='softmax'))\n",
    "model05.compile(loss='categorical_crossentropy', optimizer='adam', metrics='accuracy')  \n",
    "\n",
    "model05.summary()"
   ]
  },
  {
   "cell_type": "code",
   "execution_count": null,
   "metadata": {
    "colab": {
     "base_uri": "https://localhost:8080/"
    },
    "id": "52RoXNxhZDbn",
    "outputId": "0b636976-b5df-4dad-ee63-970cf52d6a42"
   },
   "outputs": [
    {
     "name": "stdout",
     "output_type": "stream",
     "text": [
      "Epoch 1/10\n",
      "3180/3180 [==============================] - 170s 52ms/step - loss: 6.4897 - accuracy: 0.0397\n",
      "Epoch 2/10\n",
      "3180/3180 [==============================] - 166s 52ms/step - loss: 5.9219 - accuracy: 0.0546\n",
      "Epoch 3/10\n",
      "3180/3180 [==============================] - 168s 53ms/step - loss: 5.6115 - accuracy: 0.0808\n",
      "Epoch 4/10\n",
      "3180/3180 [==============================] - 168s 53ms/step - loss: 5.3429 - accuracy: 0.0968\n",
      "Epoch 5/10\n",
      "3180/3180 [==============================] - 168s 53ms/step - loss: 5.1183 - accuracy: 0.1120\n",
      "Epoch 6/10\n",
      "3180/3180 [==============================] - 168s 53ms/step - loss: 4.8863 - accuracy: 0.1271\n",
      "Epoch 7/10\n",
      "3180/3180 [==============================] - 169s 53ms/step - loss: 4.6350 - accuracy: 0.1478\n",
      "Epoch 8/10\n",
      "3180/3180 [==============================] - 170s 53ms/step - loss: 4.3862 - accuracy: 0.1676\n",
      "Epoch 9/10\n",
      "3180/3180 [==============================] - 169s 53ms/step - loss: 4.1448 - accuracy: 0.1906\n",
      "Epoch 10/10\n",
      "3180/3180 [==============================] - 170s 53ms/step - loss: 3.8840 - accuracy: 0.2211\n"
     ]
    }
   ],
   "source": [
    "from keras.callbacks import EarlyStopping\n",
    "\n",
    "es = EarlyStopping(monitor='loss', mode='min', verbose=1)\n",
    "his05 = model05.fit(predictors, label, epochs= 10, callbacks=[es])\n"
   ]
  },
  {
   "cell_type": "markdown",
   "metadata": {
    "id": "P7CVOFI5fw_j"
   },
   "source": [
    "Save the model"
   ]
  },
  {
   "cell_type": "code",
   "execution_count": null,
   "metadata": {
    "id": "FE4s3MG2fw_k"
   },
   "outputs": [],
   "source": [
    "!pip install -q pyyaml h5py\n",
    "\n",
    "model05.save('rock_2layer.h5')"
   ]
  },
  {
   "cell_type": "markdown",
   "metadata": {
    "id": "LJGRy7imfw_k"
   },
   "source": [
    "### Lyrics Generation"
   ]
  },
  {
   "cell_type": "code",
   "execution_count": null,
   "metadata": {
    "id": "KOfQx46Zfw_k"
   },
   "outputs": [],
   "source": [
    "def multilayer_lyrics(seed_text, next_words):\n",
    "    for _ in range(next_words):\n",
    "        token_list = tokenizer.texts_to_sequences([seed_text])[0]\n",
    "        token_list = pad_sequences([token_list],\n",
    "                     maxlen=max_sequence_len-1,padding='pre')\n",
    "        \n",
    "        predicted = model05.predict_classes(token_list, verbose=0)\n",
    "\n",
    "        output_word = \"\"\n",
    "        \n",
    "        for word, index in tokenizer.word_index.items():\n",
    "            if index == predicted:\n",
    "                output_word = word\n",
    "                break\n",
    "        seed_text += \" \" + output_word\n",
    "    print(seed_text)"
   ]
  },
  {
   "cell_type": "code",
   "execution_count": null,
   "metadata": {
    "colab": {
     "base_uri": "https://localhost:8080/"
    },
    "id": "k3bCU7c2fw_k",
    "outputId": "197d0267-ca57-43fe-ce25-6a60b60d396e"
   },
   "outputs": [
    {
     "name": "stderr",
     "output_type": "stream",
     "text": [
      "/usr/local/lib/python3.7/dist-packages/tensorflow/python/keras/engine/sequential.py:450: UserWarning: `model.predict_classes()` is deprecated and will be removed after 2021-01-01. Please use instead:* `np.argmax(model.predict(x), axis=-1)`,   if your model does multi-class classification   (e.g. if it uses a `softmax` last-layer activation).* `(model.predict(x) > 0.5).astype(\"int32\")`,   if your model does binary classification   (e.g. if it uses a `sigmoid` last-layer activation).\n",
      "  warnings.warn('`model.predict_classes()` is deprecated and '\n"
     ]
    },
    {
     "name": "stdout",
     "output_type": "stream",
     "text": [
      "look at the moonlight and i am the same and i am a slave i dont know what to do i am i am i am i am i am i am i am i am i am i am i am i am i am i am i am i am\n"
     ]
    }
   ],
   "source": [
    "multilayer_lyrics(\"look at\", 50)"
   ]
  },
  {
   "cell_type": "code",
   "execution_count": null,
   "metadata": {
    "colab": {
     "base_uri": "https://localhost:8080/"
    },
    "id": "EDZfZYtLfw_l",
    "outputId": "563025e2-d9ec-44a4-c657-018a42e33c22"
   },
   "outputs": [
    {
     "name": "stderr",
     "output_type": "stream",
     "text": [
      "/usr/local/lib/python3.7/dist-packages/tensorflow/python/keras/engine/sequential.py:450: UserWarning: `model.predict_classes()` is deprecated and will be removed after 2021-01-01. Please use instead:* `np.argmax(model.predict(x), axis=-1)`,   if your model does multi-class classification   (e.g. if it uses a `softmax` last-layer activation).* `(model.predict(x) > 0.5).astype(\"int32\")`,   if your model does binary classification   (e.g. if it uses a `sigmoid` last-layer activation).\n",
      "  warnings.warn('`model.predict_classes()` is deprecated and '\n"
     ]
    },
    {
     "name": "stdout",
     "output_type": "stream",
     "text": [
      "hold on the feeling and the stars is turning round and on and on and on and on and on and on and on and on and on and on and on and on and on and on and on and on and on and on and on and on and on and on\n"
     ]
    }
   ],
   "source": [
    "multilayer_lyrics(\"hold on the feeling\", 50)"
   ]
  },
  {
   "cell_type": "code",
   "execution_count": null,
   "metadata": {
    "colab": {
     "base_uri": "https://localhost:8080/"
    },
    "id": "Wm-yXYqVfw_l",
    "outputId": "afc1c9fb-f955-4ede-895e-d52928a94cc2"
   },
   "outputs": [
    {
     "name": "stderr",
     "output_type": "stream",
     "text": [
      "/usr/local/lib/python3.7/dist-packages/tensorflow/python/keras/engine/sequential.py:450: UserWarning: `model.predict_classes()` is deprecated and will be removed after 2021-01-01. Please use instead:* `np.argmax(model.predict(x), axis=-1)`,   if your model does multi-class classification   (e.g. if it uses a `softmax` last-layer activation).* `(model.predict(x) > 0.5).astype(\"int32\")`,   if your model does binary classification   (e.g. if it uses a `sigmoid` last-layer activation).\n",
      "  warnings.warn('`model.predict_classes()` is deprecated and '\n"
     ]
    },
    {
     "name": "stdout",
     "output_type": "stream",
     "text": [
      "act like summer of the sky and i know i am the luckiest i am the luckiest the best with a fuck you aint no love in the heart of my life and i am the war i can be a vicious young man oh i am a vicious young man oh i\n"
     ]
    }
   ],
   "source": [
    "multilayer_lyrics(\"act like summer\",50)"
   ]
  },
  {
   "cell_type": "code",
   "execution_count": null,
   "metadata": {
    "colab": {
     "base_uri": "https://localhost:8080/"
    },
    "id": "aljzjgRIyHXV",
    "outputId": "7f0a2827-5853-4aae-83ed-5237332f62a6"
   },
   "outputs": [
    {
     "name": "stderr",
     "output_type": "stream",
     "text": [
      "/usr/local/lib/python3.7/dist-packages/tensorflow/python/keras/engine/sequential.py:450: UserWarning: `model.predict_classes()` is deprecated and will be removed after 2021-01-01. Please use instead:* `np.argmax(model.predict(x), axis=-1)`,   if your model does multi-class classification   (e.g. if it uses a `softmax` last-layer activation).* `(model.predict(x) > 0.5).astype(\"int32\")`,   if your model does binary classification   (e.g. if it uses a `sigmoid` last-layer activation).\n",
      "  warnings.warn('`model.predict_classes()` is deprecated and '\n"
     ]
    },
    {
     "name": "stdout",
     "output_type": "stream",
     "text": [
      "walk like rain i am a slave i dont know what to do i am i am i am i am i am i am i am i am i am i am i am i am i am i am i am i am i am i am i am i am\n"
     ]
    }
   ],
   "source": [
    "multilayer_lyrics(\"walk like rain\",50)"
   ]
  },
  {
   "cell_type": "markdown",
   "metadata": {
    "id": "RS1hb8_Lky_u"
   },
   "source": [
    "# Statistical Model"
   ]
  },
  {
   "cell_type": "code",
   "execution_count": null,
   "metadata": {
    "colab": {
     "base_uri": "https://localhost:8080/"
    },
    "id": "qEHyNRGWk2D3",
    "outputId": "f7b180cd-8330-463f-e9fb-2cb9e04ad075"
   },
   "outputs": [
    {
     "name": "stdout",
     "output_type": "stream",
     "text": [
      "[nltk_data] Downloading package punkt to /root/nltk_data...\n",
      "[nltk_data]   Unzipping tokenizers/punkt.zip.\n",
      "['its', 'a', 'simple', 'song', 'for', 'simple', 'feeling', 'you', 'see', 'the', 'moon', 'and', 'watch', 'it', 'rise', 'across', 'the', 'continent', 'the', 'night', 'bird', 'sings', 'and', 'somewhere', 'someone', 'hears', 'its', 'cry', 'so', 'disillusioned', 'keep', 'your', 'head', 'down', 'if', 'you', 'do', 'theyll', 'never', 'know', 'youll', 'have', 'no', 'answers', 'to', 'their', 'questions', 'and', 'they', 'will', 'have', 'to', 'let', 'you', 'go', 'and', 'disenfranchised', 'revolution', 'theyll', 'take', 'away', 'by', 'right', 'whats', 'yours', 'and', 'make', 'you', 'martyrs', 'of', 'your', 'own', 'cause', 'when', 'they', 'dont', 'know', 'what', 'cause', 'its', 'for', 'and', 'all', 'deserted', 'stand', 'alerted', 'theyll', 'love', 'you', 'when', 'youre', 'all', 'alone', 'but', 'you', 'find', 'a', 'red', 'rose', 'in', 'the', 'morning', 'light', 'you', 'wait', 'the', 'night', 'and', 'find', 'it', 'gone', 'so', 'hear', 'my', 'words', 'with', 'faith', 'and', 'passion', 'for', 'what', 'i', 'say', 'to', 'you', 'is', 'true', 'and', 'when', 'you', 'find', 'the', 'one', 'you', 'might', 'become', 'remember', 'part', 'of', 'me', 'is', 'you']\n"
     ]
    }
   ],
   "source": [
    "import nltk\n",
    "nltk.download('punkt')\n",
    "from nltk import word_tokenize\n",
    "\n",
    "texts = []\n",
    "for s in corpus:\n",
    "    texts.append(word_tokenize(s))\n",
    "print(texts[0])"
   ]
  },
  {
   "cell_type": "code",
   "execution_count": null,
   "metadata": {
    "colab": {
     "base_uri": "https://localhost:8080/"
    },
    "id": "hegXO37SrbZB",
    "outputId": "6828f923-98c7-4795-d7da-ae4297bdc55b"
   },
   "outputs": [
    {
     "name": "stdout",
     "output_type": "stream",
     "text": [
      "[('its',), ('a',), ('simple',), ('song',), ('for',), ('simple',), ('feeling',), ('you',), ('see',), ('the',), ('moon',), ('and',), ('watch',), ('it',), ('rise',), ('across',), ('the',), ('continent',), ('the',), ('night',), ('bird',), ('sings',), ('and',), ('somewhere',), ('someone',), ('hears',), ('its',), ('cry',), ('so',), ('disillusioned',), ('keep',), ('your',), ('head',), ('down',), ('if',), ('you',), ('do',), ('theyll',), ('never',), ('know',), ('youll',), ('have',), ('no',), ('answers',), ('to',), ('their',), ('questions',), ('and',), ('they',), ('will',), ('have',), ('to',), ('let',), ('you',), ('go',), ('and',), ('disenfranchised',), ('revolution',), ('theyll',), ('take',), ('away',), ('by',), ('right',), ('whats',), ('yours',), ('and',), ('make',), ('you',), ('martyrs',), ('of',), ('your',), ('own',), ('cause',), ('when',), ('they',), ('dont',), ('know',), ('what',), ('cause',), ('its',), ('for',), ('and',), ('all',), ('deserted',), ('stand',), ('alerted',), ('theyll',), ('love',), ('you',), ('when',), ('youre',), ('all',), ('alone',), ('but',), ('you',), ('find',), ('a',), ('red',), ('rose',), ('in',), ('the',), ('morning',), ('light',), ('you',), ('wait',), ('the',), ('night',), ('and',), ('find',), ('it',), ('gone',), ('so',), ('hear',), ('my',), ('words',), ('with',), ('faith',), ('and',), ('passion',), ('for',), ('what',), ('i',), ('say',), ('to',), ('you',), ('is',), ('true',), ('and',), ('when',), ('you',), ('find',), ('the',), ('one',), ('you',), ('might',), ('become',), ('remember',), ('part',), ('of',), ('me',), ('is',), ('you',)]\n",
      "[('its', 'a'), ('a', 'simple'), ('simple', 'song'), ('song', 'for'), ('for', 'simple'), ('simple', 'feeling'), ('feeling', 'you'), ('you', 'see'), ('see', 'the'), ('the', 'moon'), ('moon', 'and'), ('and', 'watch'), ('watch', 'it'), ('it', 'rise'), ('rise', 'across'), ('across', 'the'), ('the', 'continent'), ('continent', 'the'), ('the', 'night'), ('night', 'bird'), ('bird', 'sings'), ('sings', 'and'), ('and', 'somewhere'), ('somewhere', 'someone'), ('someone', 'hears'), ('hears', 'its'), ('its', 'cry'), ('cry', 'so'), ('so', 'disillusioned'), ('disillusioned', 'keep'), ('keep', 'your'), ('your', 'head'), ('head', 'down'), ('down', 'if'), ('if', 'you'), ('you', 'do'), ('do', 'theyll'), ('theyll', 'never'), ('never', 'know'), ('know', 'youll'), ('youll', 'have'), ('have', 'no'), ('no', 'answers'), ('answers', 'to'), ('to', 'their'), ('their', 'questions'), ('questions', 'and'), ('and', 'they'), ('they', 'will'), ('will', 'have'), ('have', 'to'), ('to', 'let'), ('let', 'you'), ('you', 'go'), ('go', 'and'), ('and', 'disenfranchised'), ('disenfranchised', 'revolution'), ('revolution', 'theyll'), ('theyll', 'take'), ('take', 'away'), ('away', 'by'), ('by', 'right'), ('right', 'whats'), ('whats', 'yours'), ('yours', 'and'), ('and', 'make'), ('make', 'you'), ('you', 'martyrs'), ('martyrs', 'of'), ('of', 'your'), ('your', 'own'), ('own', 'cause'), ('cause', 'when'), ('when', 'they'), ('they', 'dont'), ('dont', 'know'), ('know', 'what'), ('what', 'cause'), ('cause', 'its'), ('its', 'for'), ('for', 'and'), ('and', 'all'), ('all', 'deserted'), ('deserted', 'stand'), ('stand', 'alerted'), ('alerted', 'theyll'), ('theyll', 'love'), ('love', 'you'), ('you', 'when'), ('when', 'youre'), ('youre', 'all'), ('all', 'alone'), ('alone', 'but'), ('but', 'you'), ('you', 'find'), ('find', 'a'), ('a', 'red'), ('red', 'rose'), ('rose', 'in'), ('in', 'the'), ('the', 'morning'), ('morning', 'light'), ('light', 'you'), ('you', 'wait'), ('wait', 'the'), ('the', 'night'), ('night', 'and'), ('and', 'find'), ('find', 'it'), ('it', 'gone'), ('gone', 'so'), ('so', 'hear'), ('hear', 'my'), ('my', 'words'), ('words', 'with'), ('with', 'faith'), ('faith', 'and'), ('and', 'passion'), ('passion', 'for'), ('for', 'what'), ('what', 'i'), ('i', 'say'), ('say', 'to'), ('to', 'you'), ('you', 'is'), ('is', 'true'), ('true', 'and'), ('and', 'when'), ('when', 'you'), ('you', 'find'), ('find', 'the'), ('the', 'one'), ('one', 'you'), ('you', 'might'), ('might', 'become'), ('become', 'remember'), ('remember', 'part'), ('part', 'of'), ('of', 'me'), ('me', 'is'), ('is', 'you')]\n",
      "[('its', 'a', 'simple'), ('a', 'simple', 'song'), ('simple', 'song', 'for'), ('song', 'for', 'simple'), ('for', 'simple', 'feeling'), ('simple', 'feeling', 'you'), ('feeling', 'you', 'see'), ('you', 'see', 'the'), ('see', 'the', 'moon'), ('the', 'moon', 'and'), ('moon', 'and', 'watch'), ('and', 'watch', 'it'), ('watch', 'it', 'rise'), ('it', 'rise', 'across'), ('rise', 'across', 'the'), ('across', 'the', 'continent'), ('the', 'continent', 'the'), ('continent', 'the', 'night'), ('the', 'night', 'bird'), ('night', 'bird', 'sings'), ('bird', 'sings', 'and'), ('sings', 'and', 'somewhere'), ('and', 'somewhere', 'someone'), ('somewhere', 'someone', 'hears'), ('someone', 'hears', 'its'), ('hears', 'its', 'cry'), ('its', 'cry', 'so'), ('cry', 'so', 'disillusioned'), ('so', 'disillusioned', 'keep'), ('disillusioned', 'keep', 'your'), ('keep', 'your', 'head'), ('your', 'head', 'down'), ('head', 'down', 'if'), ('down', 'if', 'you'), ('if', 'you', 'do'), ('you', 'do', 'theyll'), ('do', 'theyll', 'never'), ('theyll', 'never', 'know'), ('never', 'know', 'youll'), ('know', 'youll', 'have'), ('youll', 'have', 'no'), ('have', 'no', 'answers'), ('no', 'answers', 'to'), ('answers', 'to', 'their'), ('to', 'their', 'questions'), ('their', 'questions', 'and'), ('questions', 'and', 'they'), ('and', 'they', 'will'), ('they', 'will', 'have'), ('will', 'have', 'to'), ('have', 'to', 'let'), ('to', 'let', 'you'), ('let', 'you', 'go'), ('you', 'go', 'and'), ('go', 'and', 'disenfranchised'), ('and', 'disenfranchised', 'revolution'), ('disenfranchised', 'revolution', 'theyll'), ('revolution', 'theyll', 'take'), ('theyll', 'take', 'away'), ('take', 'away', 'by'), ('away', 'by', 'right'), ('by', 'right', 'whats'), ('right', 'whats', 'yours'), ('whats', 'yours', 'and'), ('yours', 'and', 'make'), ('and', 'make', 'you'), ('make', 'you', 'martyrs'), ('you', 'martyrs', 'of'), ('martyrs', 'of', 'your'), ('of', 'your', 'own'), ('your', 'own', 'cause'), ('own', 'cause', 'when'), ('cause', 'when', 'they'), ('when', 'they', 'dont'), ('they', 'dont', 'know'), ('dont', 'know', 'what'), ('know', 'what', 'cause'), ('what', 'cause', 'its'), ('cause', 'its', 'for'), ('its', 'for', 'and'), ('for', 'and', 'all'), ('and', 'all', 'deserted'), ('all', 'deserted', 'stand'), ('deserted', 'stand', 'alerted'), ('stand', 'alerted', 'theyll'), ('alerted', 'theyll', 'love'), ('theyll', 'love', 'you'), ('love', 'you', 'when'), ('you', 'when', 'youre'), ('when', 'youre', 'all'), ('youre', 'all', 'alone'), ('all', 'alone', 'but'), ('alone', 'but', 'you'), ('but', 'you', 'find'), ('you', 'find', 'a'), ('find', 'a', 'red'), ('a', 'red', 'rose'), ('red', 'rose', 'in'), ('rose', 'in', 'the'), ('in', 'the', 'morning'), ('the', 'morning', 'light'), ('morning', 'light', 'you'), ('light', 'you', 'wait'), ('you', 'wait', 'the'), ('wait', 'the', 'night'), ('the', 'night', 'and'), ('night', 'and', 'find'), ('and', 'find', 'it'), ('find', 'it', 'gone'), ('it', 'gone', 'so'), ('gone', 'so', 'hear'), ('so', 'hear', 'my'), ('hear', 'my', 'words'), ('my', 'words', 'with'), ('words', 'with', 'faith'), ('with', 'faith', 'and'), ('faith', 'and', 'passion'), ('and', 'passion', 'for'), ('passion', 'for', 'what'), ('for', 'what', 'i'), ('what', 'i', 'say'), ('i', 'say', 'to'), ('say', 'to', 'you'), ('to', 'you', 'is'), ('you', 'is', 'true'), ('is', 'true', 'and'), ('true', 'and', 'when'), ('and', 'when', 'you'), ('when', 'you', 'find'), ('you', 'find', 'the'), ('find', 'the', 'one'), ('the', 'one', 'you'), ('one', 'you', 'might'), ('you', 'might', 'become'), ('might', 'become', 'remember'), ('become', 'remember', 'part'), ('remember', 'part', 'of'), ('part', 'of', 'me'), ('of', 'me', 'is'), ('me', 'is', 'you')]\n"
     ]
    }
   ],
   "source": [
    "from nltk.util import ngrams\n",
    "\n",
    "print(list(ngrams(texts[0], n=1)))\n",
    "print(list(ngrams(texts[0], n=2)))\n",
    "print(list(ngrams(texts[0], n=3)))"
   ]
  },
  {
   "cell_type": "code",
   "execution_count": null,
   "metadata": {
    "id": "aGduGHb-r4a2"
   },
   "outputs": [],
   "source": [
    "from nltk.lm.preprocessing import padded_everygram_pipeline\n",
    "\n",
    "train, vocab = padded_everygram_pipeline(3, texts)"
   ]
  },
  {
   "cell_type": "code",
   "execution_count": null,
   "metadata": {
    "id": "ExFdWQuzsHYs"
   },
   "outputs": [],
   "source": [
    "from nltk.lm import MLE\n",
    "\n",
    "ng_model = MLE(3) \n",
    "ng_model.fit(train, vocab)\n"
   ]
  },
  {
   "cell_type": "code",
   "execution_count": null,
   "metadata": {
    "colab": {
     "base_uri": "https://localhost:8080/"
    },
    "id": "eJFym8EcsIO0",
    "outputId": "36b08ad4-a9d3-44bd-a241-a7144fd04d00"
   },
   "outputs": [
    {
     "name": "stdout",
     "output_type": "stream",
     "text": [
      "3613\n",
      "302\n",
      "534\n",
      "369\n",
      "0.03706857635326466\n",
      "0.003098452825542742\n",
      "0.005478721221323922\n",
      "0.003785857922600238\n",
      "13\n",
      "2\n"
     ]
    }
   ],
   "source": [
    "print(ng_model.counts['the'])\n",
    "print(ng_model.counts['are'])\n",
    "print(ng_model.counts['love'])\n",
    "print(ng_model.counts['oh'])\n",
    "\n",
    "print(ng_model.score('the'))\n",
    "print(ng_model.score('are'))\n",
    "print(ng_model.score('love'))\n",
    "print(ng_model.score('oh'))\n",
    "\n",
    "print(ng_model.counts[['they']]['are'])\n",
    "print(ng_model.counts[['are']]['they'])"
   ]
  },
  {
   "cell_type": "code",
   "execution_count": null,
   "metadata": {
    "colab": {
     "base_uri": "https://localhost:8080/"
    },
    "id": "m_-PGxPtse_h",
    "outputId": "5ff580c0-103e-4455-deb9-836f2f010994"
   },
   "outputs": [
    {
     "name": "stdout",
     "output_type": "stream",
     "text": [
      "you who broke my heart some people do not mess with mister inbetween no dont\n"
     ]
    }
   ],
   "source": [
    "text_list = ng_model.generate(15, random_seed=2)\n",
    "print(' '.join(word for word in text_list))"
   ]
  },
  {
   "cell_type": "code",
   "execution_count": null,
   "metadata": {
    "colab": {
     "base_uri": "https://localhost:8080/"
    },
    "id": "CMFImFbktL3Z",
    "outputId": "c413bb74-9840-4641-ba6f-97357151877e"
   },
   "outputs": [
    {
     "name": "stdout",
     "output_type": "stream",
     "text": [
      "you who broke my heart some people do not mess with mister inbetween no dont you worry baby im buying if youre my daughter youre my love ill get it back better late than never i saw you saying that you take my woman where she wants to do it\n"
     ]
    }
   ],
   "source": [
    "text_list = ng_model.generate(50, random_seed=2)\n",
    "print(' '.join(word for word in text_list))"
   ]
  },
  {
   "cell_type": "code",
   "execution_count": null,
   "metadata": {
    "colab": {
     "base_uri": "https://localhost:8080/"
    },
    "id": "3wrOa_fotR8_",
    "outputId": "643a16a5-c248-4765-f6fa-8536539cc79a"
   },
   "outputs": [
    {
     "name": "stdout",
     "output_type": "stream",
     "text": [
      "boy who was hanging his head low more trophies and ideas to follow footprints in the darkest place that cow wrote that im doing it all a big joke whatever it is like porcelain yeah </s> </s> </s> </s> </s> </s> </s> </s> </s> </s> </s> </s> </s> </s> </s>\n"
     ]
    }
   ],
   "source": [
    "text_list = ng_model.generate(50, random_seed=1)\n",
    "print(' '.join(word for word in text_list))"
   ]
  },
  {
   "cell_type": "code",
   "execution_count": null,
   "metadata": {
    "id": "hhLzOu0Mtapr"
   },
   "outputs": [],
   "source": []
  }
 ],
 "metadata": {
  "accelerator": "GPU",
  "colab": {
   "collapsed_sections": [],
   "name": "Lyrics Generation.ipynb",
   "provenance": []
  },
  "kernelspec": {
   "display_name": "Python 3",
   "language": "python",
   "name": "python3"
  },
  "language_info": {
   "codemirror_mode": {
    "name": "ipython",
    "version": 3
   },
   "file_extension": ".py",
   "mimetype": "text/x-python",
   "name": "python",
   "nbconvert_exporter": "python",
   "pygments_lexer": "ipython3",
   "version": "3.8.5"
  }
 },
 "nbformat": 4,
 "nbformat_minor": 1
}
