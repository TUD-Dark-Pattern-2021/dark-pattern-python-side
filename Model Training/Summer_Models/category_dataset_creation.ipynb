{
 "cells": [
  {
   "cell_type": "code",
   "execution_count": 1,
   "metadata": {},
   "outputs": [],
   "source": [
    "import pandas as pd\n",
    "import numpy as np"
   ]
  },
  {
   "cell_type": "code",
   "execution_count": 2,
   "metadata": {},
   "outputs": [
    {
     "name": "stdout",
     "output_type": "stream",
     "text": [
      "<class 'pandas.core.frame.DataFrame'>\n",
      "RangeIndex: 1818 entries, 0 to 1817\n",
      "Data columns (total 7 columns):\n",
      " #   Column             Non-Null Count  Dtype \n",
      "---  ------             --------------  ----- \n",
      " 0   Pattern String     1512 non-null   object\n",
      " 1   Comment            1798 non-null   object\n",
      " 2   Pattern Category   1818 non-null   object\n",
      " 3   Pattern Type       1818 non-null   object\n",
      " 4   Where in website?  1818 non-null   object\n",
      " 5   Deceptive?         1818 non-null   object\n",
      " 6   Website Page       1818 non-null   object\n",
      "dtypes: object(7)\n",
      "memory usage: 99.5+ KB\n"
     ]
    }
   ],
   "source": [
    "# ---- import dataset from the Princeton Article\n",
    "df = pd.read_csv('dark_patterns.csv')\n",
    "\n",
    "df.info()"
   ]
  },
  {
   "cell_type": "code",
   "execution_count": 3,
   "metadata": {},
   "outputs": [
    {
     "name": "stdout",
     "output_type": "stream",
     "text": [
      "<class 'pandas.core.frame.DataFrame'>\n",
      "Int64Index: 1512 entries, 0 to 1817\n",
      "Data columns (total 7 columns):\n",
      " #   Column             Non-Null Count  Dtype \n",
      "---  ------             --------------  ----- \n",
      " 0   Pattern String     1512 non-null   object\n",
      " 1   Comment            1494 non-null   object\n",
      " 2   Pattern Category   1512 non-null   object\n",
      " 3   Pattern Type       1512 non-null   object\n",
      " 4   Where in website?  1512 non-null   object\n",
      " 5   Deceptive?         1512 non-null   object\n",
      " 6   Website Page       1512 non-null   object\n",
      "dtypes: object(7)\n",
      "memory usage: 94.5+ KB\n"
     ]
    }
   ],
   "source": [
    "# ---- select from the dataset when 'Pattern String' is not NaN values.\n",
    "df = df[pd.notnull(df[\"Pattern String\"])]\n",
    "\n",
    "df.info()"
   ]
  },
  {
   "cell_type": "code",
   "execution_count": 4,
   "metadata": {},
   "outputs": [
    {
     "data": {
      "text/html": [
       "<div>\n",
       "<style scoped>\n",
       "    .dataframe tbody tr th:only-of-type {\n",
       "        vertical-align: middle;\n",
       "    }\n",
       "\n",
       "    .dataframe tbody tr th {\n",
       "        vertical-align: top;\n",
       "    }\n",
       "\n",
       "    .dataframe thead th {\n",
       "        text-align: right;\n",
       "    }\n",
       "</style>\n",
       "<table border=\"1\" class=\"dataframe\">\n",
       "  <thead>\n",
       "    <tr style=\"text-align: right;\">\n",
       "      <th></th>\n",
       "      <th>Pattern String</th>\n",
       "      <th>Comment</th>\n",
       "      <th>Pattern Category</th>\n",
       "      <th>Pattern Type</th>\n",
       "      <th>Where in website?</th>\n",
       "      <th>Deceptive?</th>\n",
       "      <th>Website Page</th>\n",
       "    </tr>\n",
       "  </thead>\n",
       "  <tbody>\n",
       "    <tr>\n",
       "      <th>0</th>\n",
       "      <td>Collin P. from Grandview Missouri just bought ...</td>\n",
       "      <td>Periodic popup</td>\n",
       "      <td>Social Proof</td>\n",
       "      <td>Activity Notification</td>\n",
       "      <td>Product Page</td>\n",
       "      <td>No</td>\n",
       "      <td>https://alaindupetit.com/collections/all-suits...</td>\n",
       "    </tr>\n",
       "    <tr>\n",
       "      <th>1</th>\n",
       "      <td>Faith in Glendale, United States purchased a C...</td>\n",
       "      <td>Periodic popup</td>\n",
       "      <td>Social Proof</td>\n",
       "      <td>Activity Notification</td>\n",
       "      <td>Product Page</td>\n",
       "      <td>No</td>\n",
       "      <td>https://bonescoffee.com/products/strawberry-ch...</td>\n",
       "    </tr>\n",
       "    <tr>\n",
       "      <th>2</th>\n",
       "      <td>Sharmeen Atif From Karachi just bought Stylish...</td>\n",
       "      <td>Periodic popup</td>\n",
       "      <td>Social Proof</td>\n",
       "      <td>Activity Notification</td>\n",
       "      <td>Product Page</td>\n",
       "      <td>No</td>\n",
       "      <td>https://brandsego.com/collections/under-rs-99/...</td>\n",
       "    </tr>\n",
       "    <tr>\n",
       "      <th>3</th>\n",
       "      <td>9 people are viewing this.</td>\n",
       "      <td>Product detail</td>\n",
       "      <td>Social Proof</td>\n",
       "      <td>Activity Notification</td>\n",
       "      <td>Product Page</td>\n",
       "      <td>No</td>\n",
       "      <td>https://brightechshop.com/products/ambience-so...</td>\n",
       "    </tr>\n",
       "    <tr>\n",
       "      <th>4</th>\n",
       "      <td>5338 people viewed this in the last hour</td>\n",
       "      <td>Periodic popup</td>\n",
       "      <td>Social Proof</td>\n",
       "      <td>Activity Notification</td>\n",
       "      <td>Product Page</td>\n",
       "      <td>No</td>\n",
       "      <td>https://bumpboxes.com/</td>\n",
       "    </tr>\n",
       "    <tr>\n",
       "      <th>...</th>\n",
       "      <td>...</td>\n",
       "      <td>...</td>\n",
       "      <td>...</td>\n",
       "      <td>...</td>\n",
       "      <td>...</td>\n",
       "      <td>...</td>\n",
       "      <td>...</td>\n",
       "    </tr>\n",
       "    <tr>\n",
       "      <th>1810</th>\n",
       "      <td>TWO FREE PILLOWS AND 30% OFF WITH PROMO CODE</td>\n",
       "      <td>No promo code cited, or how to get one.</td>\n",
       "      <td>Misdirection</td>\n",
       "      <td>Visual Interference</td>\n",
       "      <td>Product Page</td>\n",
       "      <td>No</td>\n",
       "      <td>https://www.mypillow.com/newtopperspecial.html</td>\n",
       "    </tr>\n",
       "    <tr>\n",
       "      <th>1812</th>\n",
       "      <td>Compare at</td>\n",
       "      <td>Shown for all. Not defined</td>\n",
       "      <td>Misdirection</td>\n",
       "      <td>Visual Interference</td>\n",
       "      <td>Product Page</td>\n",
       "      <td>No</td>\n",
       "      <td>https://www.paulayoung.com/product/sheer+satis...</td>\n",
       "    </tr>\n",
       "    <tr>\n",
       "      <th>1813</th>\n",
       "      <td>$132.90 $99.00</td>\n",
       "      <td>Website adds free items to show discount</td>\n",
       "      <td>Misdirection</td>\n",
       "      <td>Visual Interference</td>\n",
       "      <td>Cart Page</td>\n",
       "      <td>No</td>\n",
       "      <td>https://www.planetofthevapes.com/products/plan...</td>\n",
       "    </tr>\n",
       "    <tr>\n",
       "      <th>1814</th>\n",
       "      <td>This offer is only VALID if you add to cart now!</td>\n",
       "      <td>Popup asking you to buy more</td>\n",
       "      <td>Misdirection</td>\n",
       "      <td>Visual Interference</td>\n",
       "      <td>Product Page</td>\n",
       "      <td>No</td>\n",
       "      <td>https://www.rockymountainoils.com/single-essen...</td>\n",
       "    </tr>\n",
       "    <tr>\n",
       "      <th>1817</th>\n",
       "      <td>Save $148.98AUD – 49% Off</td>\n",
       "      <td>Adds free gifts to inflate discount</td>\n",
       "      <td>Misdirection</td>\n",
       "      <td>Visual Interference</td>\n",
       "      <td>Cart Page</td>\n",
       "      <td>No</td>\n",
       "      <td>https://www.wildsecrets.com.au/p/186468/pipedr...</td>\n",
       "    </tr>\n",
       "  </tbody>\n",
       "</table>\n",
       "<p>1512 rows × 7 columns</p>\n",
       "</div>"
      ],
      "text/plain": [
       "                                         Pattern String  \\\n",
       "0     Collin P. from Grandview Missouri just bought ...   \n",
       "1     Faith in Glendale, United States purchased a C...   \n",
       "2     Sharmeen Atif From Karachi just bought Stylish...   \n",
       "3                            9 people are viewing this.   \n",
       "4              5338 people viewed this in the last hour   \n",
       "...                                                 ...   \n",
       "1810       TWO FREE PILLOWS AND 30% OFF WITH PROMO CODE   \n",
       "1812                                         Compare at   \n",
       "1813                                     $132.90 $99.00   \n",
       "1814   This offer is only VALID if you add to cart now!   \n",
       "1817                          Save $148.98AUD – 49% Off   \n",
       "\n",
       "                                       Comment Pattern Category  \\\n",
       "0                               Periodic popup     Social Proof   \n",
       "1                               Periodic popup     Social Proof   \n",
       "2                               Periodic popup     Social Proof   \n",
       "3                               Product detail     Social Proof   \n",
       "4                               Periodic popup     Social Proof   \n",
       "...                                        ...              ...   \n",
       "1810   No promo code cited, or how to get one.     Misdirection   \n",
       "1812                Shown for all. Not defined     Misdirection   \n",
       "1813  Website adds free items to show discount     Misdirection   \n",
       "1814              Popup asking you to buy more     Misdirection   \n",
       "1817       Adds free gifts to inflate discount     Misdirection   \n",
       "\n",
       "               Pattern Type Where in website? Deceptive?  \\\n",
       "0     Activity Notification      Product Page         No   \n",
       "1     Activity Notification      Product Page         No   \n",
       "2     Activity Notification      Product Page         No   \n",
       "3     Activity Notification      Product Page         No   \n",
       "4     Activity Notification      Product Page         No   \n",
       "...                     ...               ...        ...   \n",
       "1810    Visual Interference      Product Page         No   \n",
       "1812    Visual Interference      Product Page         No   \n",
       "1813    Visual Interference         Cart Page         No   \n",
       "1814    Visual Interference      Product Page         No   \n",
       "1817    Visual Interference         Cart Page         No   \n",
       "\n",
       "                                           Website Page  \n",
       "0     https://alaindupetit.com/collections/all-suits...  \n",
       "1     https://bonescoffee.com/products/strawberry-ch...  \n",
       "2     https://brandsego.com/collections/under-rs-99/...  \n",
       "3     https://brightechshop.com/products/ambience-so...  \n",
       "4                                https://bumpboxes.com/  \n",
       "...                                                 ...  \n",
       "1810     https://www.mypillow.com/newtopperspecial.html  \n",
       "1812  https://www.paulayoung.com/product/sheer+satis...  \n",
       "1813  https://www.planetofthevapes.com/products/plan...  \n",
       "1814  https://www.rockymountainoils.com/single-essen...  \n",
       "1817  https://www.wildsecrets.com.au/p/186468/pipedr...  \n",
       "\n",
       "[1512 rows x 7 columns]"
      ]
     },
     "execution_count": 4,
     "metadata": {},
     "output_type": "execute_result"
    }
   ],
   "source": [
    "df"
   ]
  },
  {
   "cell_type": "code",
   "execution_count": 13,
   "metadata": {},
   "outputs": [
    {
     "name": "stdout",
     "output_type": "stream",
     "text": [
      "Distribution of Pattern Category:\n",
      "Scarcity         678\n",
      "Social Proof     314\n",
      "Urgency          237\n",
      "Misdirection     237\n",
      "Obstruction       30\n",
      "Sneaking          12\n",
      "Forced Action      4\n",
      "Name: Pattern Category, dtype: int64\n",
      "\n",
      "Distribution of Pattern Type:\n",
      "Low-stock Message                   631\n",
      "Activity Notification               313\n",
      "Confirmshaming                      169\n",
      "Countdown Timer                     149\n",
      "Limited-time Message                 88\n",
      "High-demand Message                  47\n",
      "Pressured Selling                    45\n",
      "Hard to Cancel                       30\n",
      "Visual Interference                  14\n",
      "Trick Questions                       9\n",
      "Hidden Subscription                   6\n",
      "Forced Enrollment                     4\n",
      "Sneak into Basket                     3\n",
      "Hidden Costs                          3\n",
      "Testimonials of Uncertain Origin      1\n",
      "Name: Pattern Type, dtype: int64\n",
      "\n"
     ]
    }
   ],
   "source": [
    "# check the distribution of the target value --- classification.\n",
    "print('Distribution of Pattern Category:\\n{}\\n'.format(df['Pattern Category'].value_counts()))\n",
    "\n",
    "# check the distribution of the target value --- classification.\n",
    "print('Distribution of Pattern Type:\\n{}\\n'.format(df['Pattern Type'].value_counts()))"
   ]
  },
  {
   "cell_type": "code",
   "execution_count": 17,
   "metadata": {},
   "outputs": [],
   "source": [
    "types = ['Low-stock Message','Activity Notification','Confirmshaming','Countdown Timer','Limited-time Message','High-demand Message','Pressured Selling','Trick Questions']"
   ]
  },
  {
   "cell_type": "code",
   "execution_count": 25,
   "metadata": {},
   "outputs": [],
   "source": [
    "category = df[(df['Pattern Type'].isin(types))]"
   ]
  },
  {
   "cell_type": "code",
   "execution_count": 26,
   "metadata": {},
   "outputs": [
    {
     "name": "stdout",
     "output_type": "stream",
     "text": [
      "<class 'pandas.core.frame.DataFrame'>\n",
      "Int64Index: 1451 entries, 0 to 1792\n",
      "Data columns (total 7 columns):\n",
      " #   Column             Non-Null Count  Dtype \n",
      "---  ------             --------------  ----- \n",
      " 0   Pattern String     1451 non-null   object\n",
      " 1   Comment            1435 non-null   object\n",
      " 2   Pattern Category   1451 non-null   object\n",
      " 3   Pattern Type       1451 non-null   object\n",
      " 4   Where in website?  1451 non-null   object\n",
      " 5   Deceptive?         1451 non-null   object\n",
      " 6   Website Page       1451 non-null   object\n",
      "dtypes: object(7)\n",
      "memory usage: 90.7+ KB\n"
     ]
    }
   ],
   "source": [
    "category.info()"
   ]
  },
  {
   "cell_type": "code",
   "execution_count": 27,
   "metadata": {},
   "outputs": [
    {
     "name": "stdout",
     "output_type": "stream",
     "text": [
      "Distribution of Pattern Category:\n",
      "Scarcity        678\n",
      "Social Proof    313\n",
      "Urgency         237\n",
      "Misdirection    223\n",
      "Name: Pattern Category, dtype: int64\n",
      "\n",
      "Distribution of Pattern Type:\n",
      "Low-stock Message        631\n",
      "Activity Notification    313\n",
      "Confirmshaming           169\n",
      "Countdown Timer          149\n",
      "Limited-time Message      88\n",
      "High-demand Message       47\n",
      "Pressured Selling         45\n",
      "Trick Questions            9\n",
      "Name: Pattern Type, dtype: int64\n",
      "\n"
     ]
    }
   ],
   "source": [
    "# check the distribution of the target value --- classification.\n",
    "print('Distribution of Pattern Category:\\n{}\\n'.format(category['Pattern Category'].value_counts()))\n",
    "\n",
    "# check the distribution of the target value --- classification.\n",
    "print('Distribution of Pattern Type:\\n{}\\n'.format(category['Pattern Type'].value_counts()))"
   ]
  },
  {
   "cell_type": "code",
   "execution_count": 29,
   "metadata": {},
   "outputs": [
    {
     "data": {
      "text/plain": [
       "<AxesSubplot:>"
      ]
     },
     "execution_count": 29,
     "metadata": {},
     "output_type": "execute_result"
    },
    {
     "data": {
      "image/png": "[encoded data removed]",
      "text/plain": [
       "<Figure size 432x288 with 1 Axes>"
      ]
     },
     "metadata": {
      "needs_background": "light"
     },
     "output_type": "display_data"
    }
   ],
   "source": [
    "category['Pattern Type'].value_counts().plot(kind='bar')"
   ]
  },
  {
   "cell_type": "code",
   "execution_count": 31,
   "metadata": {},
   "outputs": [
    {
     "data": {
      "text/plain": [
       "<AxesSubplot:>"
      ]
     },
     "execution_count": 31,
     "metadata": {},
     "output_type": "execute_result"
    },
    {
     "data": {
      "image/png": "[encoded data removed]",
      "text/plain": [
       "<Figure size 432x288 with 1 Axes>"
      ]
     },
     "metadata": {
      "needs_background": "light"
     },
     "output_type": "display_data"
    }
   ],
   "source": [
    "category['Pattern Category'].value_counts().plot(kind='bar')"
   ]
  },
  {
   "cell_type": "code",
   "execution_count": 36,
   "metadata": {},
   "outputs": [],
   "source": [
    " # For later training the model, we should remove the duplicate input to reduce overfitting.\n",
    "\n",
    "category_no_duplicate = category.drop_duplicates(subset=\"Pattern String\")"
   ]
  },
  {
   "cell_type": "code",
   "execution_count": 37,
   "metadata": {},
   "outputs": [
    {
     "name": "stdout",
     "output_type": "stream",
     "text": [
      "<class 'pandas.core.frame.DataFrame'>\n",
      "Int64Index: 1122 entries, 0 to 1792\n",
      "Data columns (total 7 columns):\n",
      " #   Column             Non-Null Count  Dtype \n",
      "---  ------             --------------  ----- \n",
      " 0   Pattern String     1122 non-null   object\n",
      " 1   Comment            1108 non-null   object\n",
      " 2   Pattern Category   1122 non-null   object\n",
      " 3   Pattern Type       1122 non-null   object\n",
      " 4   Where in website?  1122 non-null   object\n",
      " 5   Deceptive?         1122 non-null   object\n",
      " 6   Website Page       1122 non-null   object\n",
      "dtypes: object(7)\n",
      "memory usage: 70.1+ KB\n"
     ]
    }
   ],
   "source": [
    "category_no_duplicate.info()"
   ]
  },
  {
   "cell_type": "code",
   "execution_count": 38,
   "metadata": {},
   "outputs": [
    {
     "name": "stdout",
     "output_type": "stream",
     "text": [
      "Distribution of Pattern Category:\n",
      "Scarcity        418\n",
      "Social Proof    311\n",
      "Urgency         210\n",
      "Misdirection    183\n",
      "Name: Pattern Category, dtype: int64\n",
      "\n",
      "Distribution of Pattern Type:\n",
      "Low-stock Message        395\n",
      "Activity Notification    311\n",
      "Confirmshaming           129\n",
      "Countdown Timer          129\n",
      "Limited-time Message      81\n",
      "Pressured Selling         45\n",
      "High-demand Message       23\n",
      "Trick Questions            9\n",
      "Name: Pattern Type, dtype: int64\n",
      "\n"
     ]
    }
   ],
   "source": [
    "# check the distribution of the target value --- classification.\n",
    "print('Distribution of Pattern Category:\\n{}\\n'.format(category_no_duplicate['Pattern Category'].value_counts()))\n",
    "\n",
    "# check the distribution of the target value --- classification.\n",
    "print('Distribution of Pattern Type:\\n{}\\n'.format(category_no_duplicate['Pattern Type'].value_counts()))"
   ]
  },
  {
   "cell_type": "code",
   "execution_count": 39,
   "metadata": {},
   "outputs": [
    {
     "data": {
      "text/plain": [
       "<AxesSubplot:>"
      ]
     },
     "execution_count": 39,
     "metadata": {},
     "output_type": "execute_result"
    },
    {
     "data": {
      "image/png": "[encoded data removed]",
      "text/plain": [
       "<Figure size 432x288 with 1 Axes>"
      ]
     },
     "metadata": {
      "needs_background": "light"
     },
     "output_type": "display_data"
    }
   ],
   "source": [
    "category_no_duplicate['Pattern Category'].value_counts().plot(kind='bar')"
   ]
  },
  {
   "cell_type": "code",
   "execution_count": 40,
   "metadata": {},
   "outputs": [
    {
     "data": {
      "text/plain": [
       "<AxesSubplot:>"
      ]
     },
     "execution_count": 40,
     "metadata": {},
     "output_type": "execute_result"
    },
    {
     "data": {
      "image/png": "[encoded data removed]",
      "text/plain": [
       "<Figure size 432x288 with 1 Axes>"
      ]
     },
     "metadata": {
      "needs_background": "light"
     },
     "output_type": "display_data"
    }
   ],
   "source": [
    "category_no_duplicate['Pattern Type'].value_counts().plot(kind='bar')"
   ]
  },
  {
   "cell_type": "code",
   "execution_count": 41,
   "metadata": {},
   "outputs": [],
   "source": [
    "# save the new category dataset\n",
    "\n",
    "category_no_duplicate.to_csv('category.csv', index = False, header = True)"
   ]
  },
  {
   "cell_type": "code",
   "execution_count": null,
   "metadata": {},
   "outputs": [],
   "source": []
  }
 ],
 "metadata": {
  "kernelspec": {
   "display_name": "Python 3",
   "language": "python",
   "name": "python3"
  },
  "language_info": {
   "codemirror_mode": {
    "name": "ipython",
    "version": 3
   },
   "file_extension": ".py",
   "mimetype": "text/x-python",
   "name": "python",
   "nbconvert_exporter": "python",
   "pygments_lexer": "ipython3",
   "version": "3.8.5"
  }
 },
 "nbformat": 4,
 "nbformat_minor": 4
}
